{
 "cells": [
  {
   "cell_type": "code",
   "execution_count": 1,
   "id": "initial_id",
   "metadata": {
    "ExecuteTime": {
     "end_time": "2023-10-30T12:15:11.441517600Z",
     "start_time": "2023-10-30T12:15:09.055276600Z"
    }
   },
   "outputs": [],
   "source": [
    "import numpy as np\n",
    "import pandas as pd\n",
    "import geopandas as gpd\n",
    "import plotly.express as px\n",
    "from opencage.geocoder import OpenCageGeocode"
   ]
  },
  {
   "cell_type": "code",
   "execution_count": 2,
   "outputs": [],
   "source": [
    "tempByCity = pd.read_csv(r'C:\\Users\\sangi\\Desktop\\Info progetto python\\Datasets\\GlobalLandTemperaturesByCity.csv').dropna().reset_index(drop = True)\n",
    "#tempByCountry = pd.read_csv(r'C:\\Users\\sangi\\Desktop\\Info progetto python\\Datasets\\GlobalLandTemperaturesByCountry.csv')\n",
    "tempByMajorCity = pd.read_csv(r'C:\\Users\\sangi\\Desktop\\Info progetto python\\Datasets\\GlobalLandTemperaturesByMajorCity.csv')\n",
    "#tempByState = pd.read_csv(r'C:\\Users\\sangi\\Desktop\\Info progetto python\\Datasets\\GlobalLandTemperaturesByState.csv')"
   ],
   "metadata": {
    "collapsed": false,
    "ExecuteTime": {
     "end_time": "2023-10-30T12:15:32.857794400Z",
     "start_time": "2023-10-30T12:15:11.441517600Z"
    }
   },
   "id": "d0a4b62ca9ae748c"
  },
  {
   "cell_type": "code",
   "execution_count": 3,
   "outputs": [],
   "source": [
    "cities = tempByCity[[\"City\", \"Country\", \"Latitude\", \"Longitude\"]].groupby([\"City\"]).first().reset_index()"
   ],
   "metadata": {
    "collapsed": false,
    "ExecuteTime": {
     "end_time": "2023-10-30T12:15:35.388783400Z",
     "start_time": "2023-10-30T12:15:32.893798600Z"
    }
   },
   "id": "5f7fac9d-0353-4ea5-9e78-eefe4701f51d"
  },
  {
   "cell_type": "code",
   "execution_count": 4,
   "outputs": [],
   "source": [
    "majorCities = tempByMajorCity[[\"City\", \"Country\", \"Latitude\", \"Longitude\"]].groupby([\"City\"]).first().reset_index()"
   ],
   "metadata": {
    "collapsed": false,
    "ExecuteTime": {
     "end_time": "2023-10-30T12:15:35.477322500Z",
     "start_time": "2023-10-30T12:15:35.396786800Z"
    }
   },
   "id": "b2ad7d2d-dd67-4f12-ba44-f38168351276"
  },
  {
   "cell_type": "code",
   "execution_count": 7,
   "outputs": [
    {
     "name": "stdout",
     "output_type": "stream",
     "text": [
      "<class 'pandas.core.frame.DataFrame'>\n",
      "RangeIndex: 3448 entries, 0 to 3447\n",
      "Data columns (total 4 columns):\n",
      " #   Column     Non-Null Count  Dtype \n",
      "---  ------     --------------  ----- \n",
      " 0   City       3448 non-null   object\n",
      " 1   Country    3448 non-null   object\n",
      " 2   Latitude   3448 non-null   object\n",
      " 3   Longitude  3448 non-null   object\n",
      "dtypes: object(4)\n",
      "memory usage: 107.9+ KB\n"
     ]
    }
   ],
   "source": [
    "cities.info()"
   ],
   "metadata": {
    "collapsed": false,
    "ExecuteTime": {
     "end_time": "2023-10-30T12:15:59.382308200Z",
     "start_time": "2023-10-30T12:15:59.330131200Z"
    }
   },
   "id": "9f75dae03ec225e"
  },
  {
   "cell_type": "code",
   "execution_count": 5,
   "outputs": [
    {
     "ename": "RateLimitExceededError",
     "evalue": "Your rate limit has expired. It will reset to 2500 on 2023-10-31T00:00:00",
     "output_type": "error",
     "traceback": [
      "\u001B[1;31m---------------------------------------------------------------------------\u001B[0m",
      "\u001B[1;31mRateLimitExceededError\u001B[0m                    Traceback (most recent call last)",
      "Cell \u001B[1;32mIn[5], line 18\u001B[0m\n\u001B[0;32m     15\u001B[0m     majorCities[\u001B[38;5;124m'\u001B[39m\u001B[38;5;124mLatitude\u001B[39m\u001B[38;5;124m'\u001B[39m] \u001B[38;5;241m=\u001B[39m list_lat\n\u001B[0;32m     16\u001B[0m     majorCities[\u001B[38;5;124m'\u001B[39m\u001B[38;5;124mLongitude\u001B[39m\u001B[38;5;124m'\u001B[39m] \u001B[38;5;241m=\u001B[39m list_lon\n\u001B[1;32m---> 18\u001B[0m \u001B[43mconversion\u001B[49m\u001B[43m(\u001B[49m\u001B[43m)\u001B[49m\n",
      "Cell \u001B[1;32mIn[5], line 10\u001B[0m, in \u001B[0;36mconversion\u001B[1;34m()\u001B[0m\n\u001B[0;32m      8\u001B[0m Country \u001B[38;5;241m=\u001B[39m row[\u001B[38;5;124m\"\u001B[39m\u001B[38;5;124mCountry\u001B[39m\u001B[38;5;124m\"\u001B[39m]\n\u001B[0;32m      9\u001B[0m query \u001B[38;5;241m=\u001B[39m \u001B[38;5;28mstr\u001B[39m(City) \u001B[38;5;241m+\u001B[39m \u001B[38;5;124m'\u001B[39m\u001B[38;5;124m,\u001B[39m\u001B[38;5;124m'\u001B[39m \u001B[38;5;241m+\u001B[39m \u001B[38;5;28mstr\u001B[39m(Country)\n\u001B[1;32m---> 10\u001B[0m results \u001B[38;5;241m=\u001B[39m \u001B[43mgeocoder\u001B[49m\u001B[38;5;241;43m.\u001B[39;49m\u001B[43mgeocode\u001B[49m\u001B[43m(\u001B[49m\u001B[43mquery\u001B[49m\u001B[43m)\u001B[49m\n\u001B[0;32m     11\u001B[0m lat \u001B[38;5;241m=\u001B[39m results[\u001B[38;5;241m0\u001B[39m][\u001B[38;5;124m'\u001B[39m\u001B[38;5;124mgeometry\u001B[39m\u001B[38;5;124m'\u001B[39m][\u001B[38;5;124m'\u001B[39m\u001B[38;5;124mlat\u001B[39m\u001B[38;5;124m'\u001B[39m]\n\u001B[0;32m     12\u001B[0m lon \u001B[38;5;241m=\u001B[39m results[\u001B[38;5;241m0\u001B[39m][\u001B[38;5;124m'\u001B[39m\u001B[38;5;124mgeometry\u001B[39m\u001B[38;5;124m'\u001B[39m][\u001B[38;5;124m'\u001B[39m\u001B[38;5;124mlng\u001B[39m\u001B[38;5;124m'\u001B[39m]\n",
      "File \u001B[1;32m~\\Documents\\GitHub\\dscoding-projects\\luca.sangiovanni\\Project\\.venv\\Lib\\site-packages\\opencage\\geocoder.py:173\u001B[0m, in \u001B[0;36mOpenCageGeocode.geocode\u001B[1;34m(self, query, **kwargs)\u001B[0m\n\u001B[0;32m    170\u001B[0m     \u001B[38;5;28;01mraise\u001B[39;00m AioHttpError(\u001B[38;5;124m\"\u001B[39m\u001B[38;5;124mCannot use `geocode` in an async context, use `gecode_async`.\u001B[39m\u001B[38;5;124m\"\u001B[39m)\n\u001B[0;32m    172\u001B[0m request \u001B[38;5;241m=\u001B[39m \u001B[38;5;28mself\u001B[39m\u001B[38;5;241m.\u001B[39m_parse_request(query, kwargs)\n\u001B[1;32m--> 173\u001B[0m response \u001B[38;5;241m=\u001B[39m \u001B[38;5;28;43mself\u001B[39;49m\u001B[38;5;241;43m.\u001B[39;49m\u001B[43m_opencage_request\u001B[49m\u001B[43m(\u001B[49m\u001B[43mrequest\u001B[49m\u001B[43m)\u001B[49m\n\u001B[0;32m    175\u001B[0m \u001B[38;5;28;01mreturn\u001B[39;00m floatify_latlng(response[\u001B[38;5;124m'\u001B[39m\u001B[38;5;124mresults\u001B[39m\u001B[38;5;124m'\u001B[39m])\n",
      "File \u001B[1;32m~\\Documents\\GitHub\\dscoding-projects\\luca.sangiovanni\\Project\\.venv\\Lib\\site-packages\\backoff\\_sync.py:105\u001B[0m, in \u001B[0;36mretry_exception.<locals>.retry\u001B[1;34m(*args, **kwargs)\u001B[0m\n\u001B[0;32m     96\u001B[0m details \u001B[38;5;241m=\u001B[39m {\n\u001B[0;32m     97\u001B[0m     \u001B[38;5;124m\"\u001B[39m\u001B[38;5;124mtarget\u001B[39m\u001B[38;5;124m\"\u001B[39m: target,\n\u001B[0;32m     98\u001B[0m     \u001B[38;5;124m\"\u001B[39m\u001B[38;5;124margs\u001B[39m\u001B[38;5;124m\"\u001B[39m: args,\n\u001B[1;32m   (...)\u001B[0m\n\u001B[0;32m    101\u001B[0m     \u001B[38;5;124m\"\u001B[39m\u001B[38;5;124melapsed\u001B[39m\u001B[38;5;124m\"\u001B[39m: elapsed,\n\u001B[0;32m    102\u001B[0m }\n\u001B[0;32m    104\u001B[0m \u001B[38;5;28;01mtry\u001B[39;00m:\n\u001B[1;32m--> 105\u001B[0m     ret \u001B[38;5;241m=\u001B[39m \u001B[43mtarget\u001B[49m\u001B[43m(\u001B[49m\u001B[38;5;241;43m*\u001B[39;49m\u001B[43margs\u001B[49m\u001B[43m,\u001B[49m\u001B[43m \u001B[49m\u001B[38;5;241;43m*\u001B[39;49m\u001B[38;5;241;43m*\u001B[39;49m\u001B[43mkwargs\u001B[49m\u001B[43m)\u001B[49m\n\u001B[0;32m    106\u001B[0m \u001B[38;5;28;01mexcept\u001B[39;00m exception \u001B[38;5;28;01mas\u001B[39;00m e:\n\u001B[0;32m    107\u001B[0m     max_tries_exceeded \u001B[38;5;241m=\u001B[39m (tries \u001B[38;5;241m==\u001B[39m max_tries_value)\n",
      "File \u001B[1;32m~\\Documents\\GitHub\\dscoding-projects\\luca.sangiovanni\\Project\\.venv\\Lib\\site-packages\\opencage\\geocoder.py:260\u001B[0m, in \u001B[0;36mOpenCageGeocode._opencage_request\u001B[1;34m(self, params)\u001B[0m\n\u001B[0;32m    257\u001B[0m \u001B[38;5;28;01mif\u001B[39;00m response\u001B[38;5;241m.\u001B[39mstatus_code \u001B[38;5;129;01min\u001B[39;00m (\u001B[38;5;241m402\u001B[39m, \u001B[38;5;241m429\u001B[39m):\n\u001B[0;32m    258\u001B[0m     \u001B[38;5;66;03m# Rate limit exceeded\u001B[39;00m\n\u001B[0;32m    259\u001B[0m     reset_time \u001B[38;5;241m=\u001B[39m datetime\u001B[38;5;241m.\u001B[39mutcfromtimestamp(response\u001B[38;5;241m.\u001B[39mjson()[\u001B[38;5;124m'\u001B[39m\u001B[38;5;124mrate\u001B[39m\u001B[38;5;124m'\u001B[39m][\u001B[38;5;124m'\u001B[39m\u001B[38;5;124mreset\u001B[39m\u001B[38;5;124m'\u001B[39m])\n\u001B[1;32m--> 260\u001B[0m     \u001B[38;5;28;01mraise\u001B[39;00m RateLimitExceededError(\n\u001B[0;32m    261\u001B[0m         reset_to\u001B[38;5;241m=\u001B[39m\u001B[38;5;28mint\u001B[39m(response\u001B[38;5;241m.\u001B[39mjson()[\u001B[38;5;124m'\u001B[39m\u001B[38;5;124mrate\u001B[39m\u001B[38;5;124m'\u001B[39m][\u001B[38;5;124m'\u001B[39m\u001B[38;5;124mlimit\u001B[39m\u001B[38;5;124m'\u001B[39m]),\n\u001B[0;32m    262\u001B[0m         reset_time\u001B[38;5;241m=\u001B[39mreset_time\n\u001B[0;32m    263\u001B[0m     )\n\u001B[0;32m    265\u001B[0m \u001B[38;5;28;01mif\u001B[39;00m response\u001B[38;5;241m.\u001B[39mstatus_code \u001B[38;5;241m==\u001B[39m \u001B[38;5;241m500\u001B[39m:\n\u001B[0;32m    266\u001B[0m     \u001B[38;5;28;01mraise\u001B[39;00m UnknownError(\u001B[38;5;124m\"\u001B[39m\u001B[38;5;124m500 status code from API\u001B[39m\u001B[38;5;124m\"\u001B[39m)\n",
      "\u001B[1;31mRateLimitExceededError\u001B[0m: Your rate limit has expired. It will reset to 2500 on 2023-10-31T00:00:00"
     ]
    }
   ],
   "source": [
    "def conversion():\n",
    "    key = \"1867ae77e86948d9a54c0a7bb9f3d0bd\"\n",
    "    geocoder = OpenCageGeocode(key)\n",
    "    list_lat = []\n",
    "    list_lon = []\n",
    "    for index, row in majorCities.iterrows():\n",
    "        City = row[\"City\"]\n",
    "        Country = row[\"Country\"]\n",
    "        query = str(City) + ',' + str(Country)\n",
    "        results = geocoder.geocode(query)\n",
    "        lat = results[0]['geometry']['lat']\n",
    "        lon = results[0]['geometry']['lng']\n",
    "        list_lat.append(lat)\n",
    "        list_lon.append(lon)\n",
    "    majorCities['Latitude'] = list_lat\n",
    "    majorCities['Longitude'] = list_lon\n",
    "\n",
    "conversion()"
   ],
   "metadata": {
    "collapsed": false,
    "ExecuteTime": {
     "end_time": "2023-10-30T12:15:37.900499200Z",
     "start_time": "2023-10-30T12:15:35.489324700Z"
    }
   },
   "id": "855bbae7c7a32046"
  },
  {
   "cell_type": "code",
   "execution_count": null,
   "outputs": [],
   "source": [
    "cities.head()"
   ],
   "metadata": {
    "collapsed": false,
    "ExecuteTime": {
     "end_time": "2023-10-30T12:15:37.904498600Z",
     "start_time": "2023-10-30T12:15:37.901498800Z"
    }
   },
   "id": "590ea5d145433df1"
  },
  {
   "cell_type": "code",
   "execution_count": null,
   "outputs": [],
   "source": [
    "#gpd.points_from_xy(citiesLat, citiesLon,)"
   ],
   "metadata": {
    "collapsed": false,
    "ExecuteTime": {
     "start_time": "2023-10-30T12:15:37.909500100Z"
    }
   },
   "id": "5d44c581-f2fd-494d-93df-05371fe01e28"
  },
  {
   "cell_type": "markdown",
   "source": [
    "I need to convert the latitude and the longitude into a more convenient format, so that I can plot it more easily. I'll convert from DMS (degrees, minutes and seconds) to DD (decimal degrees).\n",
    "I will convert the North and East values into positive values, and the South and West values into negative values."
   ],
   "metadata": {
    "collapsed": false
   },
   "id": "d4848796-f73b-4b25-8993-83c960b196e6"
  },
  {
   "cell_type": "markdown",
   "source": [],
   "metadata": {
    "collapsed": false
   },
   "id": "b742468f47f4eed1"
  },
  {
   "cell_type": "code",
   "execution_count": null,
   "outputs": [],
   "source": [
    "#fig = px.scatter_geo(tempByMajorCity, lat = tempByMajorCity[\"Latitude\"], lon = tempByMajorCity[\"Longitude\"], hover_name = tempByMajorCity[\"City\"])\n",
    "#fig.show()"
   ],
   "metadata": {
    "collapsed": false,
    "ExecuteTime": {
     "start_time": "2023-10-30T12:15:37.913503900Z"
    }
   },
   "id": "08750fa7-ce72-445c-b524-b5f9e435df27"
  },
  {
   "cell_type": "code",
   "execution_count": null,
   "outputs": [],
   "source": [
    "majorCities.info()"
   ],
   "metadata": {
    "collapsed": false,
    "ExecuteTime": {
     "end_time": "2023-10-30T12:15:37.930700Z",
     "start_time": "2023-10-30T12:15:37.916503800Z"
    }
   },
   "id": "aeaf3ca1fb2d8a28"
  }
 ],
 "metadata": {
  "kernelspec": {
   "display_name": "Python 3 (ipykernel)",
   "language": "python",
   "name": "python3"
  },
  "language_info": {
   "codemirror_mode": {
    "name": "ipython",
    "version": 3
   },
   "file_extension": ".py",
   "mimetype": "text/x-python",
   "name": "python",
   "nbconvert_exporter": "python",
   "pygments_lexer": "ipython3",
   "version": "3.11.6"
  }
 },
 "nbformat": 4,
 "nbformat_minor": 5
}
