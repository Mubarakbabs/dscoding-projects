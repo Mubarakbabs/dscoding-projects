{
 "cells": [
  {
   "cell_type": "markdown",
   "source": [
    "# Weather data project - Luca Sangiovanni"
   ],
   "metadata": {
    "collapsed": false
   },
   "id": "6fcb6e2a0c22f23"
  },
  {
   "cell_type": "markdown",
   "source": [],
   "metadata": {
    "collapsed": false
   },
   "id": "5d34a8a381ba897d"
  },
  {
   "cell_type": "markdown",
   "source": [
    "### Importing packages and datasets"
   ],
   "metadata": {
    "collapsed": false
   },
   "id": "72aac5d7a208e0d9"
  },
  {
   "cell_type": "markdown",
   "source": [
    "Regarding the packages imported, more infos can be retrieved on the readme.md file.\n",
    "Passing on to the datasets imported, I imported \"tempByCity\" and \"tempByMajorCity\" from the csv files provided on GitHub. Then, I created \"majorCities\", which contains the list of 100 major cities, whose coordinates are transformed in a format that can be interpreted more easily when creating maps. To do so, I created the function \"conversion\" (located in utils.py), which contains an API that downloads the coordinates of all the major cities an puts them in the dataframe. I decided to save the dataframe in a new csv file, called \"majorCities\", located in a local folder on my PC, so that the API is started only once, and not every time the program is debugged. \n",
    "I did the same with the \"tempByCity\" csv: I used the same API to download the coordinates of all the cities, and saved the informations on a csv, called \"cities\", that I loaded. "
   ],
   "metadata": {
    "collapsed": false
   },
   "id": "40952ecb6635f54a"
  },
  {
   "cell_type": "code",
   "execution_count": null,
   "outputs": [],
   "source": [
    "import numpy as np\n",
    "import pandas as pd\n",
    "import geopandas as gpd\n",
    "import matplotlib.pyplot as plt\n",
    "import plotly.express as px\n",
    "from opencage.geocoder import OpenCageGeocode\n",
    "import project.visualization as vz"
   ],
   "metadata": {
    "collapsed": false
   },
   "id": "initial_id"
  },
  {
   "cell_type": "code",
   "execution_count": null,
   "outputs": [],
   "source": [
    "path = \"C:\\\\Users\\sangi\\Desktop\\Info progetto python\\Datasets\"\n",
    "tempByCity = pd.read_csv(path + \"\\GlobalLandTemperaturesByCity.csv\").dropna().reset_index(drop = True)\n",
    "#tempByCountry = pd.read_csv(path + \"\\GlobalLandTemperaturesByCountry.csv\")\n",
    "tempByMajorCity = pd.read_csv(path + \"\\GlobalLandTemperaturesByMajorCity.csv\").dropna().reset_index(drop = True).drop([\"Latitude\", \"Longitude\"], axis = 1)\n",
    "#tempByState = pd.read_csv(path + \"\\GlobalLandTemperaturesByState.csv\")\n",
    "majorCities = pd.read_csv(path + \"\\majorCities.csv\", index_col = 0)\n",
    "cities = pd.read_csv(path + \"\\cities.csv\", index_col = 0)"
   ],
   "metadata": {
    "collapsed": false
   },
   "id": "d0a4b62ca9ae748c"
  },
  {
   "cell_type": "markdown",
   "source": [],
   "metadata": {
    "collapsed": false
   },
   "id": "11f1a15938205278"
  },
  {
   "cell_type": "markdown",
   "source": [
    "### List of most represented countries in the dataset"
   ],
   "metadata": {
    "collapsed": false
   },
   "id": "3bcb1111c36e51e8"
  },
  {
   "cell_type": "markdown",
   "source": [
    "I analyzed which are the most represented countries in my dataset, and plotted the result in a bar plot, showing the 15 countries with the most cities in the dataset. As we would expect, the most populated countries are the ones that have most cities represented."
   ],
   "metadata": {
    "collapsed": false
   },
   "id": "cca0db407c9b5d47"
  },
  {
   "cell_type": "code",
   "execution_count": null,
   "outputs": [],
   "source": [
    "def byCountry_List():\n",
    "    numCities = cities.drop([\"Latitude\", \"Longitude\"], axis=1).groupby(\"Country\").count().sort_values(by=\"City\",                                                                                                   ascending=False)\n",
    "    print(numCities.head(15))\n",
    "\n",
    "byCountry_List()"
   ],
   "metadata": {
    "collapsed": false
   },
   "id": "de29dde692853cd6"
  },
  {
   "cell_type": "code",
   "execution_count": null,
   "outputs": [],
   "source": [
    "def byCountry_Plot():\n",
    "    numCities = cities.drop([\"Latitude\", \"Longitude\"], axis = 1).groupby(\"Country\").count().sort_values(by = \"City\", ascending = False)\n",
    "    plt.bar(numCities.index[:15], numCities.City[:15], color = \"brown\")\n",
    "    plt.xticks(rotation = 70)\n",
    "    plt.ylabel(\"Number of cities in the dataset\\n\")\n",
    "    plt.title(\"Number of cities in the dataset, by country\\n\")\n",
    "\n",
    "byCountry_Plot()"
   ],
   "metadata": {
    "collapsed": false
   },
   "id": "d06972707894d3ea"
  },
  {
   "cell_type": "markdown",
   "source": [],
   "metadata": {
    "collapsed": false
   },
   "id": "db57add0327262b1"
  },
  {
   "cell_type": "markdown",
   "source": [
    "### Location of the cities of every country"
   ],
   "metadata": {
    "collapsed": false
   },
   "id": "8a143b0769512745"
  },
  {
   "cell_type": "markdown",
   "source": [
    "Every time we run the function below, we can see a map showing all the cities of a random country of the dataset. If we want to choose a specific country, we can write the name of the country instead of the np.random.choice function. It is also possible to zoom in or out of the map, and see the coordinates of every city by moving the cursor on the city."
   ],
   "metadata": {
    "collapsed": false
   },
   "id": "3968c56e58d4b08e"
  },
  {
   "cell_type": "code",
   "execution_count": null,
   "outputs": [],
   "source": [
    "def citiesByCountry():\n",
    "    nation = np.random.choice(cities.Country.unique())\n",
    "    byCountry = cities[cities.Country == nation]\n",
    "    number = str(byCountry[\"City\"].count())\n",
    "    if number == \"1\":\n",
    "        mapTitle = str(\"There is \" + number + \" city in \" + nation )\n",
    "    else:\n",
    "        mapTitle = str(\"There are \" + number + \" cities in \" + nation )\n",
    "    fig = px.scatter_geo(byCountry, lat = byCountry[\"Latitude\"], lon = byCountry[\"Longitude\"], hover_name = byCountry[\"City\"], color_discrete_sequence = [\"darkred\"])\n",
    "    fig.update_geos(showocean = True, oceancolor = \"LightBlue\", fitbounds = \"locations\", showcountries = True, showland = True, landcolor = \"LightGreen\")\n",
    "    fig.update_layout(title_text = mapTitle, title_x = 0.5)\n",
    "    fig.show()\n",
    "\n",
    "citiesByCountry()"
   ],
   "metadata": {
    "collapsed": false
   },
   "id": "4eca4cbe32bf5fc8"
  },
  {
   "cell_type": "markdown",
   "source": [],
   "metadata": {
    "collapsed": false
   },
   "id": "279ba74c5641a4b9"
  },
  {
   "cell_type": "markdown",
   "source": [
    "### Location of major cities in the dataset"
   ],
   "metadata": {
    "collapsed": false
   },
   "id": "ee2c7dcc5386da3"
  },
  {
   "cell_type": "markdown",
   "source": [
    "Below we can see a map showing the 100 main cities of the dataset."
   ],
   "metadata": {
    "collapsed": false
   },
   "id": "907cb8d5e67989ff"
  },
  {
   "cell_type": "code",
   "execution_count": null,
   "outputs": [],
   "source": [
    "def majorCitiesMap():\n",
    "    geo_df = gpd.read_file(r\"C:\\Users\\sangi\\Desktop\\Info progetto python\\Datasets\\majorCities.csv\", index_col = 0)\n",
    "    fig = px.scatter_geo(geo_df, lat = \"Latitude\", lon = \"Longitude\", hover_name = \"City\", hover_data = [\"Country\", \"Latitude\", \"Longitude\"])\n",
    "    fig.update_geos(showocean = True, oceancolor = \"grey\")\n",
    "    fig.update_layout(title_text = \"List of major cities in the dataset\\n\", title_x = 0.5)\n",
    "    fig.show()\n",
    "\n",
    "majorCitiesMap()"
   ],
   "metadata": {
    "collapsed": false
   },
   "id": "4b2b19e1e4965ce9"
  },
  {
   "cell_type": "markdown",
   "source": [],
   "metadata": {
    "collapsed": false
   },
   "id": "cbca6bd128c80bfe"
  },
  {
   "cell_type": "markdown",
   "source": [
    "### Change of cities' temperatures "
   ],
   "metadata": {
    "collapsed": false
   },
   "id": "eafba98dbb4b20c"
  },
  {
   "cell_type": "markdown",
   "source": [
    "Now we want to see how a certain city's temperature has changed during the years. In the graphs below we can see the data of any city we want, in both January and August (I chose these two months as representative of winter and summer). If we want to see random cities' temperatures, we just run the function, and it will show a different city each time."
   ],
   "metadata": {
    "collapsed": false
   },
   "id": "70dcb6bd234aa9ce"
  },
  {
   "cell_type": "code",
   "execution_count": null,
   "outputs": [],
   "source": [
    "def tempJanAug(city_name):\n",
    "    temp = tempByCity[tempByCity[\"City\"] == city_name]\n",
    "    country = str(temp[\"Country\"].unique())\n",
    "    tempJan = temp[temp[\"dt\"].str.contains(\"5-01-01\")]\n",
    "    tempAug = temp[temp[\"dt\"].str.contains(\"5-08-01\")]\n",
    "    fig, (ax1, ax2) = plt.subplots(2, 1)\n",
    "    fig.suptitle(\"Temperatures in \" + city_name + \" (\" + country + \") \" + \" during the years\\n\")\n",
    "    ax1.plot(tempJan[\"dt\"], tempJan[\"AverageTemperature\"], color = \"b\")\n",
    "    ax2.plot(tempAug[\"dt\"], tempAug[\"AverageTemperature\"], color = \"r\")\n",
    "    ax1.set_title(\"1st of January\")\n",
    "    ax2.set_title(\"1st of August\")\n",
    "    ax1.set_xticks(tempJan.dt, tempJan.dt.str[:4], rotation=50)\n",
    "    ax2.set_xticks(tempAug.dt, tempAug.dt.str[:4], rotation=50)\n",
    "    fig.supylabel(\"Temperatures (°C)\")\n",
    "    plt.subplots_adjust(bottom=0.15,top=0.85, hspace=0.8)\n",
    "    plt.show()\n",
    "\n",
    "#tempJanAug(\"alexandria\".capitalize())\n",
    "tempJanAug(np.random.choice(cities.City))"
   ],
   "metadata": {
    "collapsed": false
   },
   "id": "a1fba5d835d9ebb6"
  },
  {
   "cell_type": "markdown",
   "source": [
    "Here below instead we can see how the temperatures during the year of a random city have changed in 2012, compared to 1900."
   ],
   "metadata": {
    "collapsed": false
   },
   "id": "ea86825ecf33219f"
  },
  {
   "cell_type": "code",
   "execution_count": null,
   "outputs": [],
   "source": [
    "months = {\"01\": 'January', '02': 'February', '03': 'March', '04': 'April', '05': 'May', '06': 'June', '07': 'July', '08': 'August', '09': 'September', '10': 'October', '11': 'November', '12': 'December'}\n",
    "\n",
    "def tempMonths(city_name):\n",
    "    temp = tempByCity[tempByCity[\"City\"] == city_name]\n",
    "    country = str(temp[\"Country\"].unique())\n",
    "    t1900 = temp[temp[\"dt\"].str.contains(\"1900\")]\n",
    "    t2012 = temp[temp[\"dt\"].str.contains(\"2012\")]\n",
    "    #plt.xticks(t2012.dt.str[-5:-3], months.values())\n",
    "    plt.title(\"Temperatures in \" + city_name + \" (\" + country + \") \" + \" in 1900 and 2012\\n\")\n",
    "    plt.ylabel(\"Temperatures (°C)\\n\")\n",
    "    plt.plot(t1900[\"dt\"], t1900[\"AverageTemperature\"], label = \"1900\")\n",
    "    plt.plot(t2012[\"dt\"], t2012[\"AverageTemperature\"], label = \"2012\")\n",
    "    plt.legend()\n",
    "    plt.show()\n",
    "    \n",
    "tempMonths(np.random.choice(cities[\"City\"]))    "
   ],
   "metadata": {
    "collapsed": false
   },
   "id": "dc78c829cf97a198"
  },
  {
   "cell_type": "markdown",
   "source": [],
   "metadata": {
    "collapsed": false
   },
   "id": "bb6ca2d3b64abdd2"
  },
  {
   "cell_type": "markdown",
   "source": [
    "### Temperatures from around the world"
   ],
   "metadata": {
    "collapsed": false
   },
   "id": "9f3b0008248740e9"
  },
  {
   "cell_type": "markdown",
   "source": [
    "In the map below we can see the temperatures of major cities around the world. Every time we run the code, the temperatures of a random month in a random year are displayed. The color of the bubble represents the temperature."
   ],
   "metadata": {
    "collapsed": false
   },
   "id": "7c8447ac3c2240cd"
  },
  {
   "cell_type": "code",
   "execution_count": null,
   "outputs": [],
   "source": [
    "def bubbleMap(year_month):\n",
    "    titleText = \"Average temperature in \" + months[year_month[-2:]] + \" \" + year_month[:4]\n",
    "    tempMonthYear = tempByMajorCity[tempByMajorCity[\"dt\"] == year_month + \"-01\"]\n",
    "    for index, row in tempMonthYear.iterrows():\n",
    "        bubbleScale = (tempMonthYear[\"AverageTemperature\"] + 30)\n",
    "    fig = px.scatter_geo(tempMonthYear, lat = majorCities[\"Latitude\"], lon = majorCities[\"Longitude\"],  size = bubbleScale, hover_name = tempMonthYear[\"City\"], color = tempMonthYear[\"AverageTemperature\"], color_continuous_scale = px.colors.sequential.Hot_r,hover_data = [\"Country\", \"AverageTemperature\"])\n",
    "    fig.update_geos(showocean = True, oceancolor = \"Lightblue\", fitbounds = \"locations\")\n",
    "    fig.update_layout(title_text = titleText, title_x = 0.47)\n",
    "    fig.show()\n",
    "\n",
    "y = str(np.random.randint(1891, 2013))\n",
    "m = str(np.random.choice([\"01\", \"02\", \"03\", \"04\", \"05\", \"06\", \"07\", \"08\", \"09\", \"10\", \"11\", \"12\"]))\n",
    "date = str(y + \"-\" + m)\n",
    "\n",
    "bubbleMap(date)"
   ],
   "metadata": {
    "collapsed": false
   },
   "id": "c3ec5f115c738158"
  },
  {
   "cell_type": "markdown",
   "source": [
    "Here instead we can see some stats about random countries around the globe. Again, every time we run the code, a random country will be displayed."
   ],
   "metadata": {
    "collapsed": false
   },
   "id": "8eec1081e7cffee6"
  },
  {
   "cell_type": "code",
   "execution_count": null,
   "outputs": [],
   "source": [
    "def countryStats():\n",
    "    nation = np.random.choice(cities.Country)\n",
    "    byNation = tempByCity[tempByCity.Country == nation]\n",
    "    print((\"Here is some stats about \" + nation + \"\\n\").upper())\n",
    "    first = str(byNation.dt.iloc[0])\n",
    "    latest = str(byNation.dt.iloc[-1])\n",
    "    maxTemp = str(round(max(byNation.AverageTemperature), 2))\n",
    "    minTemp = str(round(min(byNation.AverageTemperature), 2))\n",
    "    highest = str(byNation.sort_values(by=[\"AverageTemperature\"], ascending= False).City.iloc[0])\n",
    "    lowest = str(byNation.sort_values(by=[\"AverageTemperature\"], ascending = True).City.iloc[0])\n",
    "    print(\"First recorded temperature: \" + months[first[-5:-3]] + \" \" + first[:4])\n",
    "    print(\"Latest recorded temperature: \" + months[latest[-5:-3]] + \" \" + latest[:4])\n",
    "    print(\"Highest monthly average temperature recorded: \" + maxTemp + \"°C\" + \" in \" + highest)\n",
    "    print(\"Lowest monthly average temperature recorded: \" + minTemp + \"°C\" + \" in \" + lowest)\n",
    "    \n",
    "countryStats()"
   ],
   "metadata": {
    "collapsed": false
   },
   "id": "e813631ddf602fed"
  }
 ],
 "metadata": {
  "kernelspec": {
   "display_name": "Python 3 (ipykernel)",
   "language": "python",
   "name": "python3"
  },
  "language_info": {
   "codemirror_mode": {
    "name": "ipython",
    "version": 3
   },
   "file_extension": ".py",
   "mimetype": "text/x-python",
   "name": "python",
   "nbconvert_exporter": "python",
   "pygments_lexer": "ipython3",
   "version": "3.11.6"
  }
 },
 "nbformat": 4,
 "nbformat_minor": 5
}
