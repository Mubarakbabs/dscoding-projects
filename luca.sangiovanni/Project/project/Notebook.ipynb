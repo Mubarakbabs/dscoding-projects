{
 "cells": [
  {
   "cell_type": "markdown",
   "id": "6fcb6e2a0c22f23",
   "metadata": {
    "collapsed": false
   },
   "source": [
    "# Weather data project - Luca Sangiovanni"
   ]
  },
  {
   "cell_type": "markdown",
   "id": "5d34a8a381ba897d",
   "metadata": {
    "collapsed": false
   },
   "source": []
  },
  {
   "cell_type": "markdown",
   "id": "72aac5d7a208e0d9",
   "metadata": {
    "collapsed": false
   },
   "source": [
    "### Importing packages and datasets"
   ]
  },
  {
   "cell_type": "markdown",
   "id": "40952ecb6635f54a",
   "metadata": {
    "collapsed": false
   },
   "source": [
    "Regarding the packages imported, more infos can be retrieved on the readme.md file.\n",
    "Passing on to the datasets imported, I imported \"tempByCity\" and \"tempByMajorCity\" from the csv files provided on GitHub. Then, I created \"majorCities\", which contains the list of 100 major cities, whose coordinates are transformed in a format that can be interpreted more easily when creating maps. To do so, I created the function \"conversion\" (located in utils.py), which contains an API that downloads the coordinates of all the major cities an puts them in the dataframe. I decided to save the dataframe in a new csv file, called \"majorCities\", located in a local folder on my PC, so that the API is started only once, and not every time the program is debugged. \n",
    "I did the same with the \"tempByCity\" csv: I used the same API to download the coordinates of all the cities, and saved the informations on a csv, called \"cities\", that I loaded. "
   ]
  },
  {
   "cell_type": "code",
   "execution_count": null,
   "id": "initial_id",
   "metadata": {
    "collapsed": false
   },
   "outputs": [],
   "source": [
    "import numpy as np\n",
    "import pandas as pd\n",
    "import geopandas as gpd\n",
    "import matplotlib.pyplot as plt\n",
    "import plotly.express as px\n",
    "import streamlit as st\n",
    "from countryinfo import CountryInfo\n",
    "from opencage.geocoder import OpenCageGeocode\n",
    "from project.visualization import CityCountry, BigCities, Temperatures"
   ]
  },
  {
   "cell_type": "code",
   "execution_count": null,
   "id": "4df5e9ad0e8d9826",
   "metadata": {
    "collapsed": false
   },
   "outputs": [],
   "source": [
    "path = \"C:\\\\Users\\sangi\\Desktop\\Info progetto python\\Datasets\"\n",
    "tempByCity = pd.read_csv(path + \"\\GlobalLandTemperaturesByCity.csv\").dropna().reset_index(drop = True)\n",
    "tempByMajorCity = pd.read_csv(path + \"\\GlobalLandTemperaturesByMajorCity.csv\").dropna().reset_index(drop = True).drop([\"Latitude\", \"Longitude\"], axis = 1)\n",
    "majorCities = pd.read_csv(path + \"\\majorCities.csv\", index_col = 0)\n",
    "cities = pd.read_csv(path + \"\\cities.csv\", index_col = 0)"
   ]
  },
  {
   "cell_type": "markdown",
   "id": "11f1a15938205278",
   "metadata": {
    "collapsed": false
   },
   "source": []
  },
  {
   "cell_type": "markdown",
   "id": "3bcb1111c36e51e8",
   "metadata": {
    "collapsed": false
   },
   "source": [
    "### List of most represented countries in the dataset"
   ]
  },
  {
   "cell_type": "markdown",
   "id": "cca0db407c9b5d47",
   "metadata": {
    "collapsed": false
   },
   "source": [
    "I analyzed which are the most represented countries in my dataset, and plotted the result in a bar plot, showing the 15 countries with the most cities in the dataset. As we would expect, the most populated countries are the ones that have most cities represented."
   ]
  },
  {
   "cell_type": "code",
   "execution_count": null,
   "id": "de29dde692853cd6",
   "metadata": {
    "collapsed": false
   },
   "outputs": [],
   "source": [
    "CityCountry.byCountry_List(any)"
   ]
  },
  {
   "cell_type": "code",
   "execution_count": null,
   "id": "d06972707894d3ea",
   "metadata": {
    "collapsed": false
   },
   "outputs": [],
   "source": [
    "CityCountry.byCountry_Plot(any)"
   ]
  },
  {
   "cell_type": "markdown",
   "id": "db57add0327262b1",
   "metadata": {
    "collapsed": false
   },
   "source": []
  },
  {
   "cell_type": "markdown",
   "id": "8a143b0769512745",
   "metadata": {
    "collapsed": false
   },
   "source": [
    "### Location of the cities of every country"
   ]
  },
  {
   "cell_type": "markdown",
   "id": "3968c56e58d4b08e",
   "metadata": {
    "collapsed": false
   },
   "source": [
    "Every time we run the function below, we can see a map showing all the cities of a random country of the dataset. If we want to choose a specific country, we can write the name of the country instead of the np.random.choice function. It is also possible to zoom in or out of the map, and see the coordinates of every city by moving the cursor on the city."
   ]
  },
  {
   "cell_type": "code",
   "execution_count": null,
   "id": "4eca4cbe32bf5fc8",
   "metadata": {
    "collapsed": false
   },
   "outputs": [],
   "source": [
    "nation = np.random.choice(cities.Country.unique())\n",
    "CityCountry.byCountry_Map(any, nation)"
   ]
  },
  {
   "cell_type": "markdown",
   "id": "279ba74c5641a4b9",
   "metadata": {
    "collapsed": false
   },
   "source": []
  },
  {
   "cell_type": "markdown",
   "id": "ee2c7dcc5386da3",
   "metadata": {
    "collapsed": false
   },
   "source": [
    "### Location of major cities in the dataset"
   ]
  },
  {
   "cell_type": "markdown",
   "id": "907cb8d5e67989ff",
   "metadata": {
    "collapsed": false
   },
   "source": [
    "Below we can see a map showing the 100 main cities of the dataset."
   ]
  },
  {
   "cell_type": "code",
   "execution_count": null,
   "id": "4b2b19e1e4965ce9",
   "metadata": {
    "collapsed": false
   },
   "outputs": [],
   "source": [
    "BigCities.majorCitiesMap(any)"
   ]
  },
  {
   "cell_type": "markdown",
   "id": "cbca6bd128c80bfe",
   "metadata": {
    "collapsed": false
   },
   "source": []
  },
  {
   "cell_type": "markdown",
   "id": "eafba98dbb4b20c",
   "metadata": {
    "collapsed": false
   },
   "source": [
    "### Change of cities' temperatures "
   ]
  },
  {
   "cell_type": "markdown",
   "id": "70dcb6bd234aa9ce",
   "metadata": {
    "collapsed": false
   },
   "source": [
    "Now we want to see how a certain city's temperature has changed during the years. In the graphs below we can see the data of any city we want, in both January and August (I chose these two months as representative of winter and summer). If we want to see random cities' temperatures, we just run the function, and it will show a different city each time."
   ]
  },
  {
   "cell_type": "code",
   "execution_count": null,
   "id": "a1fba5d835d9ebb6",
   "metadata": {
    "collapsed": false
   },
   "outputs": [],
   "source": [
    "Temperatures.tempJanAug(any, np.random.choice(cities[\"City\"]))"
   ]
  },
  {
   "cell_type": "markdown",
   "id": "ea86825ecf33219f",
   "metadata": {
    "collapsed": false
   },
   "source": [
    "Here below instead we can see how the temperatures during the year of a random city have changed in 2012, compared to 1900."
   ]
  },
  {
   "cell_type": "code",
   "execution_count": null,
   "id": "dc78c829cf97a198",
   "metadata": {
    "collapsed": false
   },
   "outputs": [],
   "source": [
    "Temperatures.tempMonths(any, np.random.choice(cities[\"City\"].unique()))   "
   ]
  },
  {
   "cell_type": "markdown",
   "id": "bb6ca2d3b64abdd2",
   "metadata": {
    "collapsed": false
   },
   "source": []
  },
  {
   "cell_type": "code",
   "execution_count": null,
   "id": "6496695db5bdec00",
   "metadata": {
    "collapsed": false
   },
   "outputs": [],
   "source": [
    "Temperatures.tempShock(any)"
   ]
  },
  {
   "cell_type": "code",
   "execution_count": null,
   "id": "639e41e96241ce9b",
   "metadata": {
    "collapsed": false
   },
   "outputs": [],
   "source": [
    "Temperatures.shockByYear(any)"
   ]
  },
  {
   "cell_type": "markdown",
   "id": "9f3b0008248740e9",
   "metadata": {
    "collapsed": false
   },
   "source": [
    "### Temperatures from around the world"
   ]
  },
  {
   "cell_type": "markdown",
   "id": "7c8447ac3c2240cd",
   "metadata": {
    "collapsed": false
   },
   "source": [
    "In the map below we can see the temperatures of major cities around the world. Every time we run the code, the temperatures of a random month in a random year are displayed. The color of the bubble represents the temperature. \n",
    "Keep in mind that the location of the following cities is wrongly displayed on the map below, although the coordinates in the dataset are correct:\n",
    "- São Paulo (Brasil) -> shown in Russia\n",
    "- Saint Petersburg (Russia) -> shown in Brasil\n",
    "- Salvador (Brasil) -> shown in Chile\n",
    "- Sydney (Australia) -> shown in Brasil\n",
    "- Surat (India) -> shown in Australia\n",
    "- Santo Domingo (Dominican Republic) -> shown in South Korea\n",
    "- Surabaya (Indonesia) -> shown in India\n",
    "- Shenyang (China) -> shown in Indonesia"
   ]
  },
  {
   "cell_type": "code",
   "execution_count": null,
   "id": "c3ec5f115c738158",
   "metadata": {
    "collapsed": false
   },
   "outputs": [],
   "source": [
    "random_year = str(np.random.randint(1891, 2013))\n",
    "random_month = str(np.random.choice([\"01\", \"02\", \"03\", \"04\", \"05\", \"06\", \"07\", \"08\", \"09\", \"10\", \"11\", \"12\"]))\n",
    "random_date = str(random_year + \"-\" + random_month)\n",
    "Temperatures.bubbleMap(any, random_date)"
   ]
  },
  {
   "cell_type": "markdown",
   "id": "8eec1081e7cffee6",
   "metadata": {
    "collapsed": false
   },
   "source": [
    "Here instead we can see some stats about random countries around the globe. Again, every time we run the code, a random country will be displayed."
   ]
  },
  {
   "cell_type": "code",
   "execution_count": null,
   "id": "e813631ddf602fed",
   "metadata": {
    "collapsed": false
   },
   "outputs": [],
   "source": [
    "nation = np.random.choice(cities.Country.unique())\n",
    "Temperatures.countryStats(any, nation)"
   ]
  }
 ],
 "metadata": {
  "kernelspec": {
   "display_name": "Python 3 (ipykernel)",
   "language": "python",
   "name": "python3"
  },
  "language_info": {
   "codemirror_mode": {
    "name": "ipython",
    "version": 3
   },
   "file_extension": ".py",
   "mimetype": "text/x-python",
   "name": "python",
   "nbconvert_exporter": "python",
   "pygments_lexer": "ipython3",
   "version": "3.11.6"
  }
 },
 "nbformat": 4,
 "nbformat_minor": 5
}
