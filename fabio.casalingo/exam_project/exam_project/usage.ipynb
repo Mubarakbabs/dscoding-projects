{
 "cells": [
  {
   "cell_type": "markdown",
   "source": [
    "## Import\n"
   ],
   "metadata": {
    "collapsed": false
   },
   "id": "6eb75ca4db24b059"
  },
  {
   "cell_type": "code",
   "execution_count": 1,
   "outputs": [],
   "source": [
    "from methods import Travel\n",
    "traveler = Travel()"
   ],
   "metadata": {
    "collapsed": false,
    "ExecuteTime": {
     "end_time": "2023-11-13T16:05:06.144861Z",
     "start_time": "2023-11-13T16:05:01.118313400Z"
    }
   },
   "id": "688c2c375ce00270"
  },
  {
   "cell_type": "markdown",
   "source": [
    "## Show data"
   ],
   "metadata": {
    "collapsed": false
   },
   "id": "d52d03728da57834"
  },
  {
   "cell_type": "code",
   "execution_count": 2,
   "outputs": [
    {
     "data": {
      "text/plain": "              city   city_ascii      lat       lng      country iso2 iso3  \\\n0            Tokyo        Tokyo  35.6897  139.6922        Japan   JP  JPN   \n1          Jakarta      Jakarta  -6.2146  106.8451    Indonesia   ID  IDN   \n2            Delhi        Delhi  28.6600   77.2300        India   IN  IND   \n3           Mumbai       Mumbai  18.9667   72.8333        India   IN  IND   \n4           Manila       Manila  14.5958  120.9772  Philippines   PH  PHL   \n...            ...          ...      ...       ...          ...  ...  ...   \n26563         Nord         Nord  81.7166  -17.8000    Greenland   GL  GRL   \n26564  Timmiarmiut  Timmiarmiut  62.5333  -42.2167    Greenland   GL  GRL   \n26565  Cheremoshna  Cheremoshna  51.3894   30.0989      Ukraine   UA  UKR   \n26566    Ambarchik    Ambarchik  69.6510  162.3336       Russia   RU  RUS   \n26567      Nordvik      Nordvik  74.0165  111.5100       Russia   RU  RUS   \n\n               admin_name  capital  population          id  \n0                   Tōkyō  primary  37977000.0  1392685764  \n1                 Jakarta  primary  34540000.0  1360771077  \n2                   Delhi    admin  29617000.0  1356872604  \n3             Mahārāshtra    admin  23355000.0  1356226629  \n4                  Manila  primary  23088000.0  1608618140  \n...                   ...      ...         ...         ...  \n26563          Sermersooq      NaN        10.0  1304217709  \n26564            Kujalleq      NaN        10.0  1304206491  \n26565   Kyyivs’ka Oblast’      NaN         0.0  1804043438  \n26566    Sakha (Yakutiya)      NaN         0.0  1643739159  \n26567  Krasnoyarskiy Kray      NaN         0.0  1643587468  \n\n[26568 rows x 11 columns]",
      "text/html": "<div>\n<style scoped>\n    .dataframe tbody tr th:only-of-type {\n        vertical-align: middle;\n    }\n\n    .dataframe tbody tr th {\n        vertical-align: top;\n    }\n\n    .dataframe thead th {\n        text-align: right;\n    }\n</style>\n<table border=\"1\" class=\"dataframe\">\n  <thead>\n    <tr style=\"text-align: right;\">\n      <th></th>\n      <th>city</th>\n      <th>city_ascii</th>\n      <th>lat</th>\n      <th>lng</th>\n      <th>country</th>\n      <th>iso2</th>\n      <th>iso3</th>\n      <th>admin_name</th>\n      <th>capital</th>\n      <th>population</th>\n      <th>id</th>\n    </tr>\n  </thead>\n  <tbody>\n    <tr>\n      <th>0</th>\n      <td>Tokyo</td>\n      <td>Tokyo</td>\n      <td>35.6897</td>\n      <td>139.6922</td>\n      <td>Japan</td>\n      <td>JP</td>\n      <td>JPN</td>\n      <td>Tōkyō</td>\n      <td>primary</td>\n      <td>37977000.0</td>\n      <td>1392685764</td>\n    </tr>\n    <tr>\n      <th>1</th>\n      <td>Jakarta</td>\n      <td>Jakarta</td>\n      <td>-6.2146</td>\n      <td>106.8451</td>\n      <td>Indonesia</td>\n      <td>ID</td>\n      <td>IDN</td>\n      <td>Jakarta</td>\n      <td>primary</td>\n      <td>34540000.0</td>\n      <td>1360771077</td>\n    </tr>\n    <tr>\n      <th>2</th>\n      <td>Delhi</td>\n      <td>Delhi</td>\n      <td>28.6600</td>\n      <td>77.2300</td>\n      <td>India</td>\n      <td>IN</td>\n      <td>IND</td>\n      <td>Delhi</td>\n      <td>admin</td>\n      <td>29617000.0</td>\n      <td>1356872604</td>\n    </tr>\n    <tr>\n      <th>3</th>\n      <td>Mumbai</td>\n      <td>Mumbai</td>\n      <td>18.9667</td>\n      <td>72.8333</td>\n      <td>India</td>\n      <td>IN</td>\n      <td>IND</td>\n      <td>Mahārāshtra</td>\n      <td>admin</td>\n      <td>23355000.0</td>\n      <td>1356226629</td>\n    </tr>\n    <tr>\n      <th>4</th>\n      <td>Manila</td>\n      <td>Manila</td>\n      <td>14.5958</td>\n      <td>120.9772</td>\n      <td>Philippines</td>\n      <td>PH</td>\n      <td>PHL</td>\n      <td>Manila</td>\n      <td>primary</td>\n      <td>23088000.0</td>\n      <td>1608618140</td>\n    </tr>\n    <tr>\n      <th>...</th>\n      <td>...</td>\n      <td>...</td>\n      <td>...</td>\n      <td>...</td>\n      <td>...</td>\n      <td>...</td>\n      <td>...</td>\n      <td>...</td>\n      <td>...</td>\n      <td>...</td>\n      <td>...</td>\n    </tr>\n    <tr>\n      <th>26563</th>\n      <td>Nord</td>\n      <td>Nord</td>\n      <td>81.7166</td>\n      <td>-17.8000</td>\n      <td>Greenland</td>\n      <td>GL</td>\n      <td>GRL</td>\n      <td>Sermersooq</td>\n      <td>NaN</td>\n      <td>10.0</td>\n      <td>1304217709</td>\n    </tr>\n    <tr>\n      <th>26564</th>\n      <td>Timmiarmiut</td>\n      <td>Timmiarmiut</td>\n      <td>62.5333</td>\n      <td>-42.2167</td>\n      <td>Greenland</td>\n      <td>GL</td>\n      <td>GRL</td>\n      <td>Kujalleq</td>\n      <td>NaN</td>\n      <td>10.0</td>\n      <td>1304206491</td>\n    </tr>\n    <tr>\n      <th>26565</th>\n      <td>Cheremoshna</td>\n      <td>Cheremoshna</td>\n      <td>51.3894</td>\n      <td>30.0989</td>\n      <td>Ukraine</td>\n      <td>UA</td>\n      <td>UKR</td>\n      <td>Kyyivs’ka Oblast’</td>\n      <td>NaN</td>\n      <td>0.0</td>\n      <td>1804043438</td>\n    </tr>\n    <tr>\n      <th>26566</th>\n      <td>Ambarchik</td>\n      <td>Ambarchik</td>\n      <td>69.6510</td>\n      <td>162.3336</td>\n      <td>Russia</td>\n      <td>RU</td>\n      <td>RUS</td>\n      <td>Sakha (Yakutiya)</td>\n      <td>NaN</td>\n      <td>0.0</td>\n      <td>1643739159</td>\n    </tr>\n    <tr>\n      <th>26567</th>\n      <td>Nordvik</td>\n      <td>Nordvik</td>\n      <td>74.0165</td>\n      <td>111.5100</td>\n      <td>Russia</td>\n      <td>RU</td>\n      <td>RUS</td>\n      <td>Krasnoyarskiy Kray</td>\n      <td>NaN</td>\n      <td>0.0</td>\n      <td>1643587468</td>\n    </tr>\n  </tbody>\n</table>\n<p>26568 rows × 11 columns</p>\n</div>"
     },
     "execution_count": 2,
     "metadata": {},
     "output_type": "execute_result"
    }
   ],
   "source": [
    "# All the dataset\n",
    "traveler.dataset"
   ],
   "metadata": {
    "collapsed": false,
    "ExecuteTime": {
     "end_time": "2023-11-13T16:05:06.188610300Z",
     "start_time": "2023-11-13T16:05:06.157873800Z"
    }
   },
   "id": "806eaad393214a80"
  },
  {
   "cell_type": "code",
   "execution_count": 3,
   "outputs": [
    {
     "data": {
      "text/plain": "                          city iso3\n280                       Rome  ITA\n536                      Milan  ITA\n841                     Naples  ITA\n902                      Turin  ITA\n1088                   Palermo  ITA\n...                        ...  ...\n19000                   Amelia  ITA\n19320                Avigliano  ITA\n23788                Strongoli  ITA\n24534  San Dorligo della Valle  ITA\n25721           Montecastrilli  ITA\n\n[92 rows x 2 columns]",
      "text/html": "<div>\n<style scoped>\n    .dataframe tbody tr th:only-of-type {\n        vertical-align: middle;\n    }\n\n    .dataframe tbody tr th {\n        vertical-align: top;\n    }\n\n    .dataframe thead th {\n        text-align: right;\n    }\n</style>\n<table border=\"1\" class=\"dataframe\">\n  <thead>\n    <tr style=\"text-align: right;\">\n      <th></th>\n      <th>city</th>\n      <th>iso3</th>\n    </tr>\n  </thead>\n  <tbody>\n    <tr>\n      <th>280</th>\n      <td>Rome</td>\n      <td>ITA</td>\n    </tr>\n    <tr>\n      <th>536</th>\n      <td>Milan</td>\n      <td>ITA</td>\n    </tr>\n    <tr>\n      <th>841</th>\n      <td>Naples</td>\n      <td>ITA</td>\n    </tr>\n    <tr>\n      <th>902</th>\n      <td>Turin</td>\n      <td>ITA</td>\n    </tr>\n    <tr>\n      <th>1088</th>\n      <td>Palermo</td>\n      <td>ITA</td>\n    </tr>\n    <tr>\n      <th>...</th>\n      <td>...</td>\n      <td>...</td>\n    </tr>\n    <tr>\n      <th>19000</th>\n      <td>Amelia</td>\n      <td>ITA</td>\n    </tr>\n    <tr>\n      <th>19320</th>\n      <td>Avigliano</td>\n      <td>ITA</td>\n    </tr>\n    <tr>\n      <th>23788</th>\n      <td>Strongoli</td>\n      <td>ITA</td>\n    </tr>\n    <tr>\n      <th>24534</th>\n      <td>San Dorligo della Valle</td>\n      <td>ITA</td>\n    </tr>\n    <tr>\n      <th>25721</th>\n      <td>Montecastrilli</td>\n      <td>ITA</td>\n    </tr>\n  </tbody>\n</table>\n<p>92 rows × 2 columns</p>\n</div>"
     },
     "execution_count": 3,
     "metadata": {},
     "output_type": "execute_result"
    }
   ],
   "source": [
    "# Data of all cities of Italy, showing only the city and iso3 columns\n",
    "traveler.dataset.loc[traveler.dataset['iso3'] == 'ITA', ['city', 'iso3']]"
   ],
   "metadata": {
    "collapsed": false,
    "ExecuteTime": {
     "end_time": "2023-11-13T16:05:06.219799300Z",
     "start_time": "2023-11-13T16:05:06.188610300Z"
    }
   },
   "id": "d57e95383f7a41e6"
  },
  {
   "cell_type": "markdown",
   "source": [
    "## Use of methods"
   ],
   "metadata": {
    "collapsed": false
   },
   "id": "d0a0c48d021f4e0f"
  },
  {
   "cell_type": "code",
   "execution_count": 4,
   "outputs": [
    {
     "data": {
      "text/plain": "             id\n536  1380724377",
      "text/html": "<div>\n<style scoped>\n    .dataframe tbody tr th:only-of-type {\n        vertical-align: middle;\n    }\n\n    .dataframe tbody tr th {\n        vertical-align: top;\n    }\n\n    .dataframe thead th {\n        text-align: right;\n    }\n</style>\n<table border=\"1\" class=\"dataframe\">\n  <thead>\n    <tr style=\"text-align: right;\">\n      <th></th>\n      <th>id</th>\n    </tr>\n  </thead>\n  <tbody>\n    <tr>\n      <th>536</th>\n      <td>1380724377</td>\n    </tr>\n  </tbody>\n</table>\n</div>"
     },
     "execution_count": 4,
     "metadata": {},
     "output_type": "execute_result"
    }
   ],
   "source": [
    "#Show the 10 closest cities of Milan\n",
    "#Sice the code is made for being used with streamlit, we need to get the id of Milan\n",
    "traveler.dataset.loc[(traveler.dataset['city'] == 'Milan') & (traveler.dataset['iso3'] == 'ITA'), ['id']]"
   ],
   "metadata": {
    "collapsed": false,
    "ExecuteTime": {
     "end_time": "2023-11-13T16:05:06.261039400Z",
     "start_time": "2023-11-13T16:05:06.215801300Z"
    }
   },
   "id": "15572f5e3c5b7a2"
  },
  {
   "cell_type": "code",
   "execution_count": 5,
   "outputs": [
    {
     "data": {
      "text/plain": "                city     city_ascii      lat     lng      country iso2 iso3  \\\n3855           Monza          Monza  45.5836  9.2736        Italy   IT  ITA   \n4765   Busto Arsizio  Busto Arsizio  45.6120  8.8518        Italy   IT  ITA   \n4750            Como           Como  45.8103  9.0861        Italy   IT  ITA   \n20748        Chiasso        Chiasso  45.8353  9.0320  Switzerland   CH  CHE   \n4419          Novara         Novara  45.4500  8.6167        Italy   IT  ITA   \n3933         Bergamo        Bergamo  45.6950  9.6700        Italy   IT  ITA   \n17180      Mendrisio      Mendrisio  45.8667  8.9833  Switzerland   CH  CHE   \n9825          Varese         Varese  45.8167  8.8333        Italy   IT  ITA   \n4461        Piacenza       Piacenza  45.0500  9.7000        Italy   IT  ITA   \n\n           admin_name capital  population          id  Distance from start  \n3855         Lombardy   minor    122728.0  1380622727            14.519071  \n4765         Lombardy     NaN     83314.0  1380033378            30.888743  \n4750         Lombardy   minor     84378.0  1380994905            39.029441  \n20748          Ticino     NaN      7975.0  1756413890            42.765566  \n4419         Piedmont   minor    104284.0  1380911437            44.753999  \n3933         Lombardy   minor    119806.0  1380253521            45.152965  \n17180          Ticino     NaN     14942.0  1756337416            47.268367  \n9825         Lombardy   minor     80629.0  1380137214            47.768802  \n4461   Emilia-Romagna   minor    103082.0  1380821832            61.175452  ",
      "text/html": "<div>\n<style scoped>\n    .dataframe tbody tr th:only-of-type {\n        vertical-align: middle;\n    }\n\n    .dataframe tbody tr th {\n        vertical-align: top;\n    }\n\n    .dataframe thead th {\n        text-align: right;\n    }\n</style>\n<table border=\"1\" class=\"dataframe\">\n  <thead>\n    <tr style=\"text-align: right;\">\n      <th></th>\n      <th>city</th>\n      <th>city_ascii</th>\n      <th>lat</th>\n      <th>lng</th>\n      <th>country</th>\n      <th>iso2</th>\n      <th>iso3</th>\n      <th>admin_name</th>\n      <th>capital</th>\n      <th>population</th>\n      <th>id</th>\n      <th>Distance from start</th>\n    </tr>\n  </thead>\n  <tbody>\n    <tr>\n      <th>3855</th>\n      <td>Monza</td>\n      <td>Monza</td>\n      <td>45.5836</td>\n      <td>9.2736</td>\n      <td>Italy</td>\n      <td>IT</td>\n      <td>ITA</td>\n      <td>Lombardy</td>\n      <td>minor</td>\n      <td>122728.0</td>\n      <td>1380622727</td>\n      <td>14.519071</td>\n    </tr>\n    <tr>\n      <th>4765</th>\n      <td>Busto Arsizio</td>\n      <td>Busto Arsizio</td>\n      <td>45.6120</td>\n      <td>8.8518</td>\n      <td>Italy</td>\n      <td>IT</td>\n      <td>ITA</td>\n      <td>Lombardy</td>\n      <td>NaN</td>\n      <td>83314.0</td>\n      <td>1380033378</td>\n      <td>30.888743</td>\n    </tr>\n    <tr>\n      <th>4750</th>\n      <td>Como</td>\n      <td>Como</td>\n      <td>45.8103</td>\n      <td>9.0861</td>\n      <td>Italy</td>\n      <td>IT</td>\n      <td>ITA</td>\n      <td>Lombardy</td>\n      <td>minor</td>\n      <td>84378.0</td>\n      <td>1380994905</td>\n      <td>39.029441</td>\n    </tr>\n    <tr>\n      <th>20748</th>\n      <td>Chiasso</td>\n      <td>Chiasso</td>\n      <td>45.8353</td>\n      <td>9.0320</td>\n      <td>Switzerland</td>\n      <td>CH</td>\n      <td>CHE</td>\n      <td>Ticino</td>\n      <td>NaN</td>\n      <td>7975.0</td>\n      <td>1756413890</td>\n      <td>42.765566</td>\n    </tr>\n    <tr>\n      <th>4419</th>\n      <td>Novara</td>\n      <td>Novara</td>\n      <td>45.4500</td>\n      <td>8.6167</td>\n      <td>Italy</td>\n      <td>IT</td>\n      <td>ITA</td>\n      <td>Piedmont</td>\n      <td>minor</td>\n      <td>104284.0</td>\n      <td>1380911437</td>\n      <td>44.753999</td>\n    </tr>\n    <tr>\n      <th>3933</th>\n      <td>Bergamo</td>\n      <td>Bergamo</td>\n      <td>45.6950</td>\n      <td>9.6700</td>\n      <td>Italy</td>\n      <td>IT</td>\n      <td>ITA</td>\n      <td>Lombardy</td>\n      <td>minor</td>\n      <td>119806.0</td>\n      <td>1380253521</td>\n      <td>45.152965</td>\n    </tr>\n    <tr>\n      <th>17180</th>\n      <td>Mendrisio</td>\n      <td>Mendrisio</td>\n      <td>45.8667</td>\n      <td>8.9833</td>\n      <td>Switzerland</td>\n      <td>CH</td>\n      <td>CHE</td>\n      <td>Ticino</td>\n      <td>NaN</td>\n      <td>14942.0</td>\n      <td>1756337416</td>\n      <td>47.268367</td>\n    </tr>\n    <tr>\n      <th>9825</th>\n      <td>Varese</td>\n      <td>Varese</td>\n      <td>45.8167</td>\n      <td>8.8333</td>\n      <td>Italy</td>\n      <td>IT</td>\n      <td>ITA</td>\n      <td>Lombardy</td>\n      <td>minor</td>\n      <td>80629.0</td>\n      <td>1380137214</td>\n      <td>47.768802</td>\n    </tr>\n    <tr>\n      <th>4461</th>\n      <td>Piacenza</td>\n      <td>Piacenza</td>\n      <td>45.0500</td>\n      <td>9.7000</td>\n      <td>Italy</td>\n      <td>IT</td>\n      <td>ITA</td>\n      <td>Emilia-Romagna</td>\n      <td>minor</td>\n      <td>103082.0</td>\n      <td>1380821832</td>\n      <td>61.175452</td>\n    </tr>\n  </tbody>\n</table>\n</div>"
     },
     "execution_count": 5,
     "metadata": {},
     "output_type": "execute_result"
    }
   ],
   "source": [
    "#Finally find the 10 closest cities\n",
    "traveler.n_close_city(1380724377,10)"
   ],
   "metadata": {
    "collapsed": false,
    "ExecuteTime": {
     "end_time": "2023-11-13T16:05:06.733788Z",
     "start_time": "2023-11-13T16:05:06.234237700Z"
    }
   },
   "id": "d0d84d2b782643f4"
  },
  {
   "cell_type": "code",
   "execution_count": 6,
   "outputs": [
    {
     "data": {
      "text/plain": "              id\n2213  1380660414",
      "text/html": "<div>\n<style scoped>\n    .dataframe tbody tr th:only-of-type {\n        vertical-align: middle;\n    }\n\n    .dataframe tbody tr th {\n        vertical-align: top;\n    }\n\n    .dataframe thead th {\n        text-align: right;\n    }\n</style>\n<table border=\"1\" class=\"dataframe\">\n  <thead>\n    <tr style=\"text-align: right;\">\n      <th></th>\n      <th>id</th>\n    </tr>\n  </thead>\n  <tbody>\n    <tr>\n      <th>2213</th>\n      <td>1380660414</td>\n    </tr>\n  </tbody>\n</table>\n</div>"
     },
     "execution_count": 6,
     "metadata": {},
     "output_type": "execute_result"
    }
   ],
   "source": [
    "#Show the path considering the 35 closest cities for going from Venice to Palermo\n",
    "#Due to the fact said before we need to get the id of the cities, starting from Venice\n",
    "traveler.dataset.loc[(traveler.dataset['city'] == 'Venice') & (traveler.dataset['iso3'] == 'ITA'), ['id']]"
   ],
   "metadata": {
    "collapsed": false,
    "ExecuteTime": {
     "end_time": "2023-11-13T16:05:06.751601800Z",
     "start_time": "2023-11-13T16:05:06.728796100Z"
    }
   },
   "id": "d4688df1a85b012e"
  },
  {
   "cell_type": "code",
   "execution_count": 7,
   "outputs": [
    {
     "data": {
      "text/plain": "              id\n1088  1380428434",
      "text/html": "<div>\n<style scoped>\n    .dataframe tbody tr th:only-of-type {\n        vertical-align: middle;\n    }\n\n    .dataframe tbody tr th {\n        vertical-align: top;\n    }\n\n    .dataframe thead th {\n        text-align: right;\n    }\n</style>\n<table border=\"1\" class=\"dataframe\">\n  <thead>\n    <tr style=\"text-align: right;\">\n      <th></th>\n      <th>id</th>\n    </tr>\n  </thead>\n  <tbody>\n    <tr>\n      <th>1088</th>\n      <td>1380428434</td>\n    </tr>\n  </tbody>\n</table>\n</div>"
     },
     "execution_count": 7,
     "metadata": {},
     "output_type": "execute_result"
    }
   ],
   "source": [
    "#And then Palermo\n",
    "traveler.dataset.loc[(traveler.dataset['city'] == 'Palermo') & (traveler.dataset['iso3'] == 'ITA'), ['id']]"
   ],
   "metadata": {
    "collapsed": false,
    "ExecuteTime": {
     "end_time": "2023-11-13T16:05:06.893738100Z",
     "start_time": "2023-11-13T16:05:06.745977400Z"
    }
   },
   "id": "168eaae0cb91d321"
  },
  {
   "cell_type": "code",
   "execution_count": 8,
   "outputs": [
    {
     "data": {
      "text/plain": "[        city iso3\n 2213  Venice  ITA,\n          city iso3\n 3230  Ravenna  ITA,\n          city iso3\n 3124  Perugia  ITA,\n            city iso3\n 17528  Priverno  ITA,\n                          city iso3\n 5061  Castellammare di Stabia  ITA,\n          city iso3\n 1088  Palermo  ITA]"
     },
     "execution_count": 8,
     "metadata": {},
     "output_type": "execute_result"
    }
   ],
   "source": [
    "#So now we can call the method for showing the path\n",
    "visit = traveler.distance_between_two_cities(1380660414, 1380428434, 35)\n",
    "\n",
    "visited = []\n",
    "for i in range(len(visit)):\n",
    "    selected_row = traveler.dataset.loc[traveler.dataset['id'] == visit[i], ['city', 'iso3']]\n",
    "    visited.append(selected_row)\n",
    "\n",
    "visited"
   ],
   "metadata": {
    "collapsed": false,
    "ExecuteTime": {
     "end_time": "2023-11-13T16:05:09.237706800Z",
     "start_time": "2023-11-13T16:05:06.786377100Z"
    }
   },
   "id": "587f318d0143e4b6"
  },
  {
   "cell_type": "code",
   "execution_count": 9,
   "outputs": [
    {
     "data": {
      "text/plain": "            id\n34  1826645935",
      "text/html": "<div>\n<style scoped>\n    .dataframe tbody tr th:only-of-type {\n        vertical-align: middle;\n    }\n\n    .dataframe tbody tr th {\n        vertical-align: top;\n    }\n\n    .dataframe thead th {\n        text-align: right;\n    }\n</style>\n<table border=\"1\" class=\"dataframe\">\n  <thead>\n    <tr style=\"text-align: right;\">\n      <th></th>\n      <th>id</th>\n    </tr>\n  </thead>\n  <tbody>\n    <tr>\n      <th>34</th>\n      <td>1826645935</td>\n    </tr>\n  </tbody>\n</table>\n</div>"
     },
     "execution_count": 9,
     "metadata": {},
     "output_type": "execute_result"
    }
   ],
   "source": [
    "#Show the path around the world going only to east starting from London and turning back to London\n",
    "#Extract the id of London\n",
    "traveler.dataset.loc[(traveler.dataset['city'] == 'London') & (traveler.dataset['iso3'] == 'GBR'), ['id']]"
   ],
   "metadata": {
    "collapsed": false,
    "ExecuteTime": {
     "end_time": "2023-11-13T16:05:09.258694100Z",
     "start_time": "2023-11-13T16:05:09.235182100Z"
    }
   },
   "id": "ae20cae1b0fe9430"
  },
  {
   "cell_type": "code",
   "execution_count": 11,
   "outputs": [],
   "source": [
    "#Now we can see the path\n",
    "east = traveler.east(1826645935)"
   ],
   "metadata": {
    "collapsed": false,
    "ExecuteTime": {
     "end_time": "2023-11-13T16:08:32.710829800Z",
     "start_time": "2023-11-13T16:05:09.699977700Z"
    }
   },
   "id": "bdc106615e0d20b4"
  },
  {
   "cell_type": "code",
   "execution_count": 12,
   "outputs": [
    {
     "name": "stdout",
     "output_type": "stream",
     "text": [
      "The time needed to travel from Venice to Palermo are: 20 hours\n"
     ]
    }
   ],
   "source": [
    "#Show the time used for the previous travel\n",
    "#Time from Venice to Palermo \n",
    "print('The time needed to travel from Venice to Palermo are:',traveler.time(visit), 'hours')"
   ],
   "metadata": {
    "collapsed": false,
    "ExecuteTime": {
     "end_time": "2023-11-13T16:08:32.864060600Z",
     "start_time": "2023-11-13T16:08:32.712829800Z"
    }
   },
   "id": "2d0c94cc3baa33bf"
  },
  {
   "cell_type": "code",
   "execution_count": 13,
   "outputs": [
    {
     "name": "stdout",
     "output_type": "stream",
     "text": [
      "The time needed to travel from London to London going only to east are: 20 hours\n"
     ]
    }
   ],
   "source": [
    "#Time from London to London going only to east\n",
    "print('The time needed to travel from London to London going only to east are:',traveler.time(visit), 'hours')"
   ],
   "metadata": {
    "collapsed": false,
    "ExecuteTime": {
     "end_time": "2023-11-13T16:08:32.888068800Z",
     "start_time": "2023-11-13T16:08:32.759319500Z"
    }
   },
   "id": "74e1f3ad26a5314f"
  },
  {
   "cell_type": "markdown",
   "source": [
    "## Visualization"
   ],
   "metadata": {
    "collapsed": false
   },
   "id": "ffa36a623543787f"
  },
  {
   "cell_type": "code",
   "execution_count": 14,
   "outputs": [
    {
     "data": {
      "text/plain": "<folium.folium.Map at 0x1cbd7774f10>",
      "text/html": "<div style=\"width:100%;\"><div style=\"position:relative;width:100%;height:0;padding-bottom:60%;\"><span style=\"color:#565656\">Make this Notebook Trusted to load map: File -> Trust Notebook</span><iframe srcdoc=\"&lt;!DOCTYPE html&gt;\n&lt;html&gt;\n&lt;head&gt;\n    \n    &lt;meta http-equiv=&quot;content-type&quot; content=&quot;text/html; charset=UTF-8&quot; /&gt;\n    \n        &lt;script&gt;\n            L_NO_TOUCH = false;\n            L_DISABLE_3D = false;\n        &lt;/script&gt;\n    \n    &lt;style&gt;html, body {width: 100%;height: 100%;margin: 0;padding: 0;}&lt;/style&gt;\n    &lt;style&gt;#map {position:absolute;top:0;bottom:0;right:0;left:0;}&lt;/style&gt;\n    &lt;script src=&quot;https://cdn.jsdelivr.net/npm/leaflet@1.9.3/dist/leaflet.js&quot;&gt;&lt;/script&gt;\n    &lt;script src=&quot;https://code.jquery.com/jquery-1.12.4.min.js&quot;&gt;&lt;/script&gt;\n    &lt;script src=&quot;https://cdn.jsdelivr.net/npm/bootstrap@5.2.2/dist/js/bootstrap.bundle.min.js&quot;&gt;&lt;/script&gt;\n    &lt;script src=&quot;https://cdnjs.cloudflare.com/ajax/libs/Leaflet.awesome-markers/2.0.2/leaflet.awesome-markers.js&quot;&gt;&lt;/script&gt;\n    &lt;link rel=&quot;stylesheet&quot; href=&quot;https://cdn.jsdelivr.net/npm/leaflet@1.9.3/dist/leaflet.css&quot;/&gt;\n    &lt;link rel=&quot;stylesheet&quot; href=&quot;https://cdn.jsdelivr.net/npm/bootstrap@5.2.2/dist/css/bootstrap.min.css&quot;/&gt;\n    &lt;link rel=&quot;stylesheet&quot; href=&quot;https://netdna.bootstrapcdn.com/bootstrap/3.0.0/css/bootstrap.min.css&quot;/&gt;\n    &lt;link rel=&quot;stylesheet&quot; href=&quot;https://cdn.jsdelivr.net/npm/@fortawesome/fontawesome-free@6.2.0/css/all.min.css&quot;/&gt;\n    &lt;link rel=&quot;stylesheet&quot; href=&quot;https://cdnjs.cloudflare.com/ajax/libs/Leaflet.awesome-markers/2.0.2/leaflet.awesome-markers.css&quot;/&gt;\n    &lt;link rel=&quot;stylesheet&quot; href=&quot;https://cdn.jsdelivr.net/gh/python-visualization/folium/folium/templates/leaflet.awesome.rotate.min.css&quot;/&gt;\n    \n            &lt;meta name=&quot;viewport&quot; content=&quot;width=device-width,\n                initial-scale=1.0, maximum-scale=1.0, user-scalable=no&quot; /&gt;\n            &lt;style&gt;\n                #map_6de1270101a49436e44f7b18c3bece78 {\n                    position: relative;\n                    width: 100.0%;\n                    height: 100.0%;\n                    left: 0.0%;\n                    top: 0.0%;\n                }\n                .leaflet-container { font-size: 1rem; }\n            &lt;/style&gt;\n        \n&lt;/head&gt;\n&lt;body&gt;\n    \n    \n            &lt;div class=&quot;folium-map&quot; id=&quot;map_6de1270101a49436e44f7b18c3bece78&quot; &gt;&lt;/div&gt;\n        \n&lt;/body&gt;\n&lt;script&gt;\n    \n    \n            var map_6de1270101a49436e44f7b18c3bece78 = L.map(\n                &quot;map_6de1270101a49436e44f7b18c3bece78&quot;,\n                {\n                    center: [45.4397, 12.3319],\n                    crs: L.CRS.EPSG3857,\n                    zoom: 2,\n                    zoomControl: true,\n                    preferCanvas: false,\n                }\n            );\n\n            \n\n        \n    \n            var tile_layer_774f7accdc0034d6ff936d7a73e45f73 = L.tileLayer(\n                &quot;https://{s}.tile.openstreetmap.org/{z}/{x}/{y}.png&quot;,\n                {&quot;attribution&quot;: &quot;Data by \\u0026copy; \\u003ca target=\\&quot;_blank\\&quot; href=\\&quot;http://openstreetmap.org\\&quot;\\u003eOpenStreetMap\\u003c/a\\u003e, under \\u003ca target=\\&quot;_blank\\&quot; href=\\&quot;http://www.openstreetmap.org/copyright\\&quot;\\u003eODbL\\u003c/a\\u003e.&quot;, &quot;detectRetina&quot;: false, &quot;maxNativeZoom&quot;: 18, &quot;maxZoom&quot;: 18, &quot;minZoom&quot;: 0, &quot;noWrap&quot;: false, &quot;opacity&quot;: 1, &quot;subdomains&quot;: &quot;abc&quot;, &quot;tms&quot;: false}\n            ).addTo(map_6de1270101a49436e44f7b18c3bece78);\n        \n    \n            var tile_layer_2e0fe49ea606623e34192b12f26628a2 = L.tileLayer(\n                &quot;https://cartodb-basemaps-{s}.global.ssl.fastly.net/dark_all/{z}/{x}/{y}.png&quot;,\n                {&quot;attribution&quot;: &quot;\\u0026copy; \\u003ca target=\\&quot;_blank\\&quot; href=\\&quot;http://www.openstreetmap.org/copyright\\&quot;\\u003eOpenStreetMap\\u003c/a\\u003e contributors \\u0026copy; \\u003ca target=\\&quot;_blank\\&quot; href=\\&quot;http://cartodb.com/attributions\\&quot;\\u003eCartoDB\\u003c/a\\u003e, CartoDB \\u003ca target=\\&quot;_blank\\&quot; href =\\&quot;http://cartodb.com/attributions\\&quot;\\u003eattributions\\u003c/a\\u003e&quot;, &quot;detectRetina&quot;: false, &quot;maxNativeZoom&quot;: 18, &quot;maxZoom&quot;: 18, &quot;minZoom&quot;: 0, &quot;noWrap&quot;: false, &quot;opacity&quot;: 1, &quot;subdomains&quot;: &quot;abc&quot;, &quot;tms&quot;: false}\n            ).addTo(map_6de1270101a49436e44f7b18c3bece78);\n        \n    \n            var marker_35d381dbb232a80b3e88161b16012706 = L.marker(\n                [45.4397, 12.3319],\n                {}\n            ).addTo(map_6de1270101a49436e44f7b18c3bece78);\n        \n    \n        var custom_icon_20602d5875138423095ece5c27c0123e = L.icon({&quot;iconSize&quot;: [25, 25], &quot;iconUrl&quot;: &quot;data:image/png;base64,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&quot;});\n        marker_35d381dbb232a80b3e88161b16012706.setIcon(custom_icon_20602d5875138423095ece5c27c0123e);\n        \n    \n        var popup_535a266777e7e37e98fdc119979f23cf = L.popup({&quot;maxWidth&quot;: &quot;100%&quot;});\n\n        \n            \n                var html_403af51fbb55032ba4b60e7779f2de40 = $(`&lt;div id=&quot;html_403af51fbb55032ba4b60e7779f2de40&quot; style=&quot;width: 100.0%; height: 100.0%;&quot;&gt;[&#x27;Venice&#x27;]&lt;/div&gt;`)[0];\n                popup_535a266777e7e37e98fdc119979f23cf.setContent(html_403af51fbb55032ba4b60e7779f2de40);\n            \n        \n\n        marker_35d381dbb232a80b3e88161b16012706.bindPopup(popup_535a266777e7e37e98fdc119979f23cf)\n        ;\n\n        \n    \n    \n            var marker_3c20376741bc1b1485da074c263cc7c1 = L.marker(\n                [44.4178, 12.1994],\n                {}\n            ).addTo(map_6de1270101a49436e44f7b18c3bece78);\n        \n    \n        var custom_icon_b04af0888514425c557c475fd408403e = L.icon({&quot;iconSize&quot;: [25, 25], &quot;iconUrl&quot;: &quot;data:image/png;base64,iVBORw0KGgoAAAANSUhEUgAAAgAAAAIACAYAAAD0eNT6AAAgAElEQVR4nO3d3Y1c2Xku4LeMc21QCRz3JOBDJiA1E7DI6wKOyAQ86gSGmEmA1CTAloG6npYTYEkJsO0EWD4JqKEE6lzsxelm/9bPrlpr7/08wEAjQ9B8tllrvftbfwkAMDmz2gUA21kv8jzJs/LXi/I//uckz2/9R097/kcvb/37v934+89JrpJczea57PmfCxyAAACNWS9ymuvJ/evE/ix3J/jWXaYLBZdJ/pESEmbzO0ECqEAAgArWi18n9OdJ/uXG3z+rWdcRfQ0Gl0n+5+vfz+a5qloVTIgAAAd2Y7J/meRfy9+f1KypYat0YeC/k3yKUAAHIwBAz8oa/WmS38Vk34dVulDw1yRLewygHwIA7Kms2b9M8tv0v/GO+y3TbUL8ZE8B7EYAgC3d+sJ/VbcaiovoEMBWBAB4QlnDP03y+/KvJxXL4WmrdB2Cv6QLBPYQwD0EALjHepGTXE/6vvKH7SLXYWBVuRZohgAARZn0XyX5Q4Z35p7NXCb5c5ILYYCpEwCYtNLefxOT/hR9DQPnlgmYIgGASVov8iba+1y7SPKX2TzntQuBYxEAmIyye//7dJP+VG7cYztX6cLAn5wmYOwEAEattPhfpZv4tfjZxmWSP6XbL2CJgNERABglX/v0SFeAURIAGJWytv+HuJGPw1gm+bO9AoyBAMDg3djJ/31c0sNxrNItDzhBwGAJAAxWObf/Nsm/R5ufOq6S/Jzko3sFGBoBgMEpE/+7dF/90IrzJD8KAgyFAMBgmPgZiPMIAgyAAEDzTPwM1HkEARomANAsEz8jcR5BgAYJADSn7Oo/S/JD7VqgRz8lee/UAK0QAGjKepEfY1c/43WV5OfZPO9qFwICAE0oF/i8i3P8TMMq3bLAeeU6mDABgKrWi5ymm/hP61YCVSzTBYFl5TqYIAGAKso6//vY4AdJt1HwzP4AjumfahfA9KwX+WOSLzH5w1dvknwpvw04Ch0Ajqa80PcxnuWFx1wmeevlQQ5NAODgSrv/XeLrBrbwId3+AMsCHIQAwEGVTX4fY3c/7GKVrhuwrFwHIyQAcBC++qFXugH0TgCgd7764SBW0Q2gRwIAvfHVD0ehG0AvBAB6UXb4/xJf/XAMqySvnRRgH+4BYG/l/v7PMfnDsZwk+Vx+e7ATHQB2Vp7r/RjX+EJNy3R7A1aV62BgBAB2sl7kVbrJ36t9UN9VuhBwUbsQhsMSAFtbL/I+3Xq/yR/a8CzJL+W3CRvRAWBjZZf/p7jKF1p2meSlUwI8RQeAjZSz/V9i8ofWPU/3sNBp7UJomwDAk8oLZZ+i5Q9D8SzJJ68L8hhLADxqvcjHeLYXhux8Ns/b2kXQHgGAe1nvh1GxL4A7BADuKLf6afnDuFylCwFuDySJPQDcUs73m/xhfL7uC3hVuxDaoAPAr9aLvEl3uQ8wbm9n85zXLoK6BACS2OwHE2Rz4MQJAJj8YbqEgAkTACbMTn8gTghMlgAwUSZ/4AYhYIKcApig8oyvyR/46nm6EwIntQvheHQAJsYZf+AR7gqYEAFgQkz+wAaEgIkQACbC5A9sQQiYAAFgAkz+wA6EgJETAEbO5A/sQQgYMQFgxEz+QA+EgJESAEbK5A/0SAgYIQFghEz+wAEIASMjAIyMG/6AA3Jj4IgIACNi8geOQAgYCQFgJEz+wBEJASPgLYDxeB+TP3Acz9ONOQyYDsAIrBf5mORN7Tqo5jLdBq3LJP9I8vfy90mS2TzLff7L14uc3vi3z5P8Jsk/5zpwnoapOp/N87Z2EexGABi49SJ/jCQ+BV8n+L8l+ZJkleSylRZsWYJ6nuQkyXdJflv+/qRaURzL2WyeD7WLYHsCwICtF3mT5GPtOujdVZJlkv9Ot6+jmYl+F6WD8DzJ/0nXLTipWA6H8XY2z3ntItiOADBQzvqPyirdhP/XJMvZPKuaxRxa6RacJvld+Vd7V4bPHQEDJAAM0HqRkySfY/Ifqq9f+H/JBCb8p5RA8CrXgeCkZj3s7CrJi6n/eR4SAWBgHPcbrFWSiyR/nc1zUbmWppXu1usk/xZ/zofG8cABEQAGxo7/QVmlm/T/rDW6m9LtepXkDxEGhsLJgIEQAAZkvciPSX6oXQePusr1pL+sXMuolDDwfbpAcFK1GJ7y02yed7WL4HECwECsF3mV5JfadfCgZbpJ/7xyHZNQThb8IbphLXttuattAsAA2PTXrKsk50n+ZONTHWVPzJt0nYGTqsVwm02BjRMAGmfTX5NWSX5McmGzUztKl+z7uJmwJTYFNkwAaJxNf01Zpvva19ZsWDlF8H38blphU2CjBICGuemvGcskP9rUNyxl6exdBIEWuCmwQQJAo9z014RlTPyDJwg0wU2BDRIAGrVe5HOs+9eyjIl/dASB6i5n87yoXQTXBIAGrRd5n+SPteuYoFW6l82s8Y9YCQIfY7NgDR9m85zVLoKOANCYcr75U+06JuYq3Re/J00npPzW3ken7dhe6q61QQBoSDny9yXW/Y/pQ7rJ3zGliVov8sd0SwN+d8dxleQ7v7n6/ql2AXzjYwxCx7JMd0nJmYFo2krn57vELvUjeRanm5qgA9AIV/0ejXY/DyrLAh/jVsFjcFVwZQJAA7T+j+Yi3Sa/Ve1CaJuHt47CUkBllgDaoPV/WFfpvjZem/zZRHnJ7kXi3PoBWQqoTAegMq3/g1umu4VsVbkOBsqx3IOzFFCJAFCR1v/BnVnrpw/2BhyUpYBKLAHUpfV/GJfpdvib/OlFObf+IvGlegCWAirRAajEhT8Hc5442sfhlHsD3teuY4RcEHRkAkAFpfX/OdqJffPiGEdRHuv6JX7DfVql69wJ70diCaCOsxg4+nSVbuA4r10I01BetXuR+GLt0UninYBj0gE4svIQyZfadYzIZbrWoa8Gqlgv8jFeGOzTd07tHIcOwPHZ7NKf89lcy5C6ZvO8TfK2dh0jYow8EgHgiMqZ/9PadYzEWRl4obqy/PQyEUZ7cFrGSg5MADguO4f78dYRP1pTdrC/TLSve2CsPAIB4EjK3eIntesYOJv9aNqNzYGuEN7PSRkzOSCbAI/AjX+9uEq32c/ASvPKb/5Tkue1axkwNwQemA7AcbyLyX8fX3f6m/wZhDJpvYybA/fxLN3YyYHoAByYY397c8yPQXNMcG+OBR6IDsDhSbC7M/kzeOW0ynntOgbMGHogOgAH5L7/vZj8GRWdgL14J+AAdAAOS3Ldjcmf0dEJ2Iux9AAEgAMpX/+nlcsYIpM/oyUE7Oy0jKn0SAA4HIl1e1dJXpv8GbmzuCdgF8bUngkAB+Drfydfz/mvahcCh3TjiKAQsB1dgJ4JAIchqW7HJT9Myo0QsKpcytAYW3skAPTM1/9Ozkz+TE0JAa/jAaFt6AL0SADon4S6nbfu9meqSvB9WbuOgTHG9kQA6JGv/62dm/yZuhICPG29OV2AnggA/fpD7QIGZFmORMHklSDsievNGWt74CbAnrjzfyurdM/6WvuEG9aLfIou4qa8EbAnHYD+WJfajLP+8LDXcTJgU8bcPekA9KC8/f0lnvzdhE1/8Ij1Is/TvSFiPHncVbougI+JHekA9OMsfqyb+GDyh8eVTYFntesYgGfxf6e9CAD9+L+1CxiAy9ncjxU2UYLyeeUyhsDYuwcBYE/rRd4kOalcRuu+XngCbO4s9gM85aSMwexAANif4yhPO7NbF7Zz46ZAHmcM3pEAsIdy9O+0chmtu7DuD7sp+wF+ql1H407LWMyWBID9fF+7gMZdxQ1nsJfZPO/i5cCnGIt3IADs503tAhrnvD/0w6NBj3tTu4AhEgB2VDaeOPr3sA+zeZa1i4AxKHtofqxdR8Oe2Qy4PQFgdzaePOwqBivo1WyeD7EU8Bhj8pYEgB3Y/Pekt1r/cBD21DzMZsAtCQC78SN82MVsnovaRcAYlVMBXg18mLF5CwLAbtw+db+ruJoTDu3HuCDoIcbmLQgAWyoPdZzUrqNRP7vwBw6rLK8J2vc7KWM0GxAAtue86f1W5bwycGBlmW1Zu45GGaM3JABs71XtAhrliwSOy2/ufsboDQkAW1gv8irO/t9naeMfHFfZEHheu44GPStjNU8QALbz+9oFNMqZf6jjx7gh8D7G6g0IANuRKu86d+Mf1FE23f5cu44GGas3IABsSPv/Qb7+oa730QW4zTLABgSAzf2udgENOnfsD+oqxwJ1Ae4yZj9BANicNHmXr39ogy7AXcbsJwgAG3D5z718/UMjdAHu5VKgJwgAm3ldu4AG+fqHtugC3GXsfoQAsJl/q11AY3z9Q2N0Ae5l7H6EAPCE9SLPEm2kW3z9Q5s+1i6gMc/LGM49BICn2UjyraWvf2hT+W2eVy6jNcbwBwgAT3OU5Fu+/qFtf6pdQGOM4Q8QAJ52WruAhqzc+gdtK28ELGvX0ZDT2gW0SgB4hON/d/j6h2H4c+0CGuI44AMEgMed1i6gIVeJF/9gCGbznCf26txwWruAFgkAj7N2dO2iHDMChuE/ahfQEGP5PQSAx53WLqAhNhbBsDgSeO20dgEtEgAeUNaMnB/tXJaNRcBAlCOBy8pltOKZfQB3CQAP84flmg1FMEx+u9eM6bcIAA+zZnTtvHYBwE5s3L1mTL9FAHjYae0CGmHzHwxU+e2e166jEae1C2iNAHCPcnf0Se06GvGX2gUAe/Eb7px4F+BbAsD9rBVd00KEAZvNcxHPBH9lbL9BALjfy9oFNEL7H8ZhWbuARhjbbxAA7vevtQtohNYhjIPfcsfYfoMAcD9tos6ydgFALyzldYztNwgAt9gA+KvLcpEIMHBlKW9Zu44G2Ah4gwBwl4TY+c/aBQC9sgzQMcYXAsBdNol0fqldANCrZe0CGmGMLwSAu/537QIacOXufxiX8pte1a6jAcb4QgC466R2AQ1Y1i4AOIhl7QIacFK7gFYIAHed1i6gAX+tXQBwEH7bxvhfCQA3rBeSYbGsXQBwEMvaBbTAWN8RAL51UruABlj/h5EqR3vd7mmsTyIA3OZ4SEz+MHLL2gU0wFgfAeC239QuoAF/q10AcFD/XbuABhjrIwDc9tvaBTTgU+0CgIPyGzfWJxEAuMsSAIyb3zhJBIDbTmsXUNnK878wbuU3vqpdR2WntQtogQDATavaBQBHoQuAAPDVeiERxgZAmIrJbwQ05gsAfOtz7QKAo/BbRwC44aR2AQ1Y1S4AOIpV7QIacFK7gNoEgGvf1S6gNjcAwjT4rScx5gsA/GpVuwDgqFa1C6AuAeDa1C+GWNUuADiqVe0CKpv6mC8A8KtV7QKAo7IMMHECAF/9v9oFAEf1j9oFUJcAcG3qr0N9qV0AcFRT/81PfcwXAG54VruAyla1CwCOalW7gMqmPuYLAAAwRQIASZLZPMvaNQDH4zePAJBkvbAWBMC0CACdya8FATAtAgCJ88AwVX77EyYAkCRXtQsAqvDbnzABAAAmSAAAgAkSAABgggQAAJggAQAAJkgA6JzULgAAjkkA6KxqF1CZo0AAEyMAkLgJEWByBAAAmCABAAAmSAAAgAkSAABgggQAAJggAQAAJkgA6KxqF1DZ89oFAFX47U+YAJBkNp98AHAPAEyT3/6ECQAAMEECAEmS9cJ7CDAlfvMIANeWtQuo7KR2AcBRndQuoLJl7QJqEwAAYIIEgGtTfxHvZe0CgKOa+gmAVe0CahMArv137QIAjug3tQuo7P/VLqA2AYCv/rV2AcBR+c1PnABw7VPtAipzHhimZeq/+amP+QIAvzqtXQBwVFPfAzB5s9oFtGS9yLp2DZX9Zjaf/GZImISpj3ezuflPB+BbU5/8fBHABKwXk+/4TX2sTyIA3HZZu4DKBACYhpPaBVQ29bE+iQBw26p2AZX9S+0CgKP4rnYBla1qF9ACAeBbUz8XqgMA0/Db2gVUNvWxPokAcNvUj4UIADANU/+tT32sTyIA3LaqXUBlz7wQBuNWfuNTvwNgVbuAFggAN8zm/lDElwGM3eR/48b6jgBw17J2AZX9rnYBwEG9qF1AZcvaBbRCALhrVbuAyib/dQAjN/UNgI4AFgLAXf9Vu4DKTmsXABzUae0CKvuf2gW0QgC4a/Lp0C1hME5+20mM8b8SAG6Zza0PJXlZuwDgICa/xGeMvyYA3G/qCXHqa4QwVlPf5Dv1sf0bAsD9lrULqOx0vZj8OWEYo1e1C6hsWbuAlggA95v6RsDERiEYFev/SYzt3xAA7qdNpFUIY/P72gU0wNh+gwBwj9k8l/Fe9NRbhTA2p7ULqOyqjO0UAsDDlrULqOxkvbBjGMag3P8/9d/zsnYBrREAHvbX2gU04LR2AUAvdPSM6XcIAA9b1i6gAX+oXQDQC+v/xvQ7ZrULaNl6kb/Hs5nfeTkLhqsc6f177Toqu5rN85vaRbRGB+Bxy9oFNEDrEIbNb9hYfi8B4HHWjCwDwND5DRvL7yUAPG5Zu4AGPHcaAIap7P4/rVxGC5a1C2iRAPAI9wH8yhcEDJP2v/P/DxIAnnZRu4AGGERgmL6vXUADjOEPEACeZu2ouxRICIABKUt3J7XraIAx/AECwNOkx45lABgWX/8dY/gD3AOwgfUin+MazcSdADAI5ez/l7jH5HI2z4vaRbRKB2Az/1m7gEa8rV0AsJE3Mfknxu5HCQCb+aV2AY3499oFABvR/u8Yux8hAGygHCFZ1a6jAc/Wi7ypXQTwsPUip7H5L0lWjv89TgDY3LJ2AY14V7sA4FF+o51l7QJaJwBs7i+1C2jESfnCABrj5r9vGLOfIABsaDbPRdwK+JUvDGiT32bnqozZPEIA2I4/UJ1TXQBoS/n6f1O5jFYYqzcgAGzHjVLXfGlAW/wmr2n/b0AA2I5UeU0XABrh6/+OZe0ChkAA2MJsnqsIATf54oA2+C1euyhjNU8QALantXRNFwAq8/V/hzF6QwLAlmbznMdpgJt8eUBdfoPXrsoYzQYEgN1YBrh26qlgqKM8+fumdh0NMTZvQQDYjRbTt97XLgAmym/vW8bmLXgOeEfrRf4er23ddDab50PtImAqSufNYzfXrmbz/KZ2EUOiA7A7raZvvStvkAPH4ev/W8bkLQkAu/tT7QIa8ywGJDiK9SI/xot/txmTt2QJYA/rRb7Ej/C2l7O5SzjgUMqxv8+xBHnTajbPd7WLGBodgP38R+0CGqQLAIf1Pib/24zFOxAA9vOxdgENel7ak0DPysY/x27vMhbvwBLAntaLfIr3t2+7SvJiNs+qdiEwFmWT7edYdrxtOZvnZe0ihkgHYH9/rl1Ag55FIoe+vYvJ/z7G4B3pAPTAnQAPcjcA9KC8ufGpdh0NcvZ/DzoA/XD+9H7vylWlwI5K619H7X7G3j0IAP1w/vR+Bi7Y38do/T/E2LsHAaAHs3kuk1zWrqNRTgXAjuz6f9RlGXvZkQDQH0n0YT+UNUxgQ+XCHx20hxlz9yQA9Oci3fE37veLtwJgK7/E5uKHXMX6/94EgJ7M5v5APuFZvFwGG1kv8j6xgfYRF2XMZQ8CQL+sdT/u1H4AeFxZ9/9j7ToaZxzpgQDQo3Lz3bJyGa37oQxwwC3l2Kx1/8ct3TLaDwGgf26letpH9wPAt26c97fu/zhjbE/cBHgAngneyCrdewHW8SDeFdmQZ397pANwGJ6mfNpJXG0KSZL1Ih9j8t+EsbVHAsBhvK9dwEA8LwMfTNZ6kTdJ3lQuYyiMrT0SAA6gtLXPa9cxEG+cDGCqyuQvBG/m3JJhv+wBOJByi9eX2nUMyNvZXGhiOspG2E+x6W9T39n93y8dgANxJHBrH8vXEIyeyX9rjv4dgABwWFrb2/nozQDGrnQHTf7bMZYegCWAA3MkcGtXSV565YsxKmf9P8U1v9tw9O9AdAAOT3LdzrMkn1wUxNiY/HdmDD0QHYAjWC/y92j3bUsngNEw+e/sajbPb2oXMVY6AMfxc+0CBkgngFEw+e/F2HlAAsBxvE+cX92BEMCgmfz3chUX/xyUAHAELgbay7Mknx0RZGhKcP0Sk/+uXPxzYALA8fypdgED554ABsM5/14YMw9MADiSconFeeUyhu6ja4Np3XqRVzH57+vcxT+HJwAcl8lrfz94QIhWlS7VLzH578tYeQQCwBHpAvTmzXqRT2WDFTRhvcj7eNinD77+j8Q9AEfmkaBeXaZ7RMhdAVRTgujHJK9q1zISHv05Eh2AI/NIUK+epzsmaOClihv3+vsz2A+P/hyRAFCH9a3+PEvyi82BHFt5uOpzHPPrk9/xEVkCqGS9yKfEy3c9u0i3JODsMAdVAucPtesYmeVsnpe1i5gSHYB6JN3+vUp3aZAvMg5ivcizEt5N/v0zJh6ZAFDJbJ5l7AU4hJN0IcBgQq9Ky/9LdO4OYVnGRI5IAKjLJHU4P5Sjgie1C2HYylf/+7jc55CMhRXYA1CZvQAHd5XkbDZ3/wLbK8tJH2Oj3yFZ+69EB6A+yfewnqW7QvgXFwexjbKMZJf/4RkDK9EBaIAuwNFcJflxNs+H2oXQrrLW/z4m/mPw9V+RANCAMuB8ql3HhCzTHRdcVa6DhpQO0bskf6xdy4S8tPmvHgGgEeWBmze165iYn5K8d28A5RGf97HJ75jOZ/O8rV3ElAkAjfBGQDWrdMsC55XroILSfXsXS3A1uPO/MgGgIboAVS3TBYFl5To4ghK438XvrRZf/w0QABqiC9CEi3THBle1C6F/ZZ3/LMm/R7u/Jl//DRAAGqML0IzzdB2BVeU66IGJvym+/hshADSmDFRfYpBqxXkEgcEy8TfnKt3Xv423DXARUGPKD+Pn2nXwqzdJvqwX+eha4eEo1/f+mC5M/xCTfyt+Nvm3QwegQboATVvGZsFm3djc9yp+P63x9d8YAaBR3htv3irdFaYXBrT61ou8SvKHdBM/bfppNs+72kVwTQBo2HqRL4m2c+Ou0u0T+JN9AsdVOmVvknwfv5PWrWbzfFe7CL4lADSs3E72sXYdbOwyyZ+iK3BQvvYH6a3LttojADRuvfAa2UBdJPnzbJ6L2oWMQXmW9/tY2x+iy9k8L2oXwV0CQOM8FDR4V+nCwF/SvXymM7Ch8qX/u3ST/kndatiDB38aJQAMgOeCR+UiyV/TLROsKtfSlLKmf3PS96U/fJ77bZgAMACuCB6tVa4DwSS7A6XD9ft0AddS1/i48rdhAsBAuCJ4Ei7LX39Nt256WbmeXpUg+zzdF/5pTPhj58rfxgkAA+FyoMlapgsF/5XuKNWyajUbKpv2TpK8SPLbdJO9P7vT4dKfARAABsTlQBSr8tdlkn/kepPo5TEH3NK+T/LrGu9v0036J8eqgWa59GcABICBcTkQG7hKvlk++Nue/32/vfH3vuR5ikt/BuJ/1S6ArZ0l+aV2ETTtWb49NXJ6/38MDuKsdgFsRgdggBwLBBrl2N+AeA54mCRsoEXGpgERAAaoHA87r10HwA3nYzu6OnYCwHCdJY7YAE24iq//wREABqoc9/q5dh0ASX525n94bAIcOMcCgcoc+xsoHYDhc9UmUJMxaKAEgIErV8N6cx6o4WIo11NzlwAwDjYEAsdm49/ACQAjUJ7btCEQOKafPfU7bDYBjogNgcCR2Pg3AjoA42IzDnAMxpoREABGxIZA4Ahs/BsJAWB8bAgEDsXGvxERAEbGhkDggGz8GxGbAEfKhkCgZzb+jYwOwHjZpAP0yZgyMgLASJVNOueVywDG4dzGv/ERAMbNhkBgXzb+jZQAMGLlec4fa9cBDNqPnvodJ5sAJ2C9yKckp7XrAAZnOZvnZe0iOAwdgGnQvgN2YewYMQFgAmbzXCb5qXYdwKD8VMYORkoAmI73iQs8gI2s0o0ZjJgAMBFlE49zvMAm3tr4N34CwIS4GwDYgDP/EyEATI+7AYCHOPM/IQLAxFgKAB6h9T8h7gGYKHcDALc48z8xOgDT9TaWAoCOzuAECQATVd70dk0wkHTX/a5qF8FxWQKYOEsBMHla/xOlA4ClAJgurf8JEwAmrrT9fq5dB1DFz1r/02UJgCTJepHPSZ7XrgM4msvZPC9qF0E9OgB8pQ0I0+I3P3ECAEm8GAgT46U/LAHwLUsBMHpa/yTRAeAubUEYN79xkggA3GIpAEZN659fWQLgXpYCYHS0/vmGDgAP0SaEcfGb5hsCAPeyFACjovXPHZYAeJSlABg8rX/upQPAU7wVAMN1leR17SJokwDAo0rb0LPBMEye+eVBlgDYiGeDYXA888ujdADYlKUAGA7P/PIkAYCNlDaipQAYBq1/nmQJgK2sF/klyavadQAPupjNbfzjaToAbMtSALRL65+NCQBsZTY3wEDD3pbfKDxJAGBrs3kukpzXrgP4xofy24SNCADs6iyxyQgasYpNumxJAGAnlgKgKVr/bE0AYGezeZbxYBDU9lP5LcJWHANkbx4Mgmo89MPOdADow+s4GgjH5qEf9iIAsDe3BEIVbvtjL5YA6I1bAuFo3PbH3nQA6JNbAuHwnMChFwIAvSnHkHyVwGG9duSPPggA9KocR/pQuw4YqQ+O/NEXewA4CEcDoXeO/NErHQAOxdFA6I/lNXonAHAQ5XjSWe06YCTOHPmjb5YAOChHA2FvjvxxEDoAHNrbeDUQdrWKI38ciA4AB7de5HmSz7XrgAF6MZvnsnYRjJMOAAdXBjD7AWA7ZyZ/DkkHgKNZL/IpyWntOmAAlrN5XtYugnHTAeCYHA2Epznyx1EIAByNq4JhI6765SgEAI6qXGP6U+06oFE/ueqXY7EHgCrsB4A7rPtzVDoA1OLpYLjmiV+OTgCginKtqQEPOm9d9cuxCQBUM5vnIp4Ohg/ltwBHZQ8A1Xk6mAnzxC/V6ADQAvcDMEWOxVKVAEB19gMwUdb9qUoAoAn2AzAx1v2pzh4AmmI/ABPgvD9N0AGgNS9jPwDjZd2fZggANMV7AaOOYeQAAAXuSURBVIyce/5phgBAc7wXwEi555+m2ANAs7wXwIhY96c5OgC07HXimBSDt4plLRqkA0DT1os8T/K5dh2whxezeS5rFwG36QDQtDJwntWuA3Z0ZvKnVToADMJ6kY9J3tSuA7ZwPpu74ZJ26QAwFGeJLykGQ+eK5ukAMBhlP8CnJM9q1wKPuEryUuuf1ukAMBhlQNVSpXVvTf4MgQDAoHg0iMZ55IfBsATAILkkiAa57IdB0QFgqF7Ho0G0wxsWDI4AwCCVB1V8bdGKlx75YWgEAAbLpkAaYdMfgyQAMGizec6TnFcug+k6L38GYXAEAMbAJUHU4LIfBs0pAEZhvchJukeDXBLEMVyle+RnVbsQ2JUOAKNQBmK7sDmW1yZ/hk4AYDRm8yyjJcvhnZU/azBolgAYHS8HckBe+GM0dAAYI5sCOQSb/hgVHQBGyaZAembTH6OjA8Ao2RRIz2z6Y3QEAEbLpkB6YtMfo2QJgNGzKZA92PTHaAkATMJ6kc9Jnteug0G5nM3zonYRcCiWAJiKl/F8MJvz2iSjJwAwCZ4PZkue92X0BAAmw/PBbMjzvkyCAMCklKdbP9Sug2Z98LwvU2ETIJO0XuRTktPaddCU5WxumYjp0AFgql7HdcFcu4yLo5gYHQAma73I8ySf4rrgqbtKt+lPIGRSdACYLJsCKWz6Y5IEACZtNs9FXBc8ZWflzwBMjiUAiOuCJ8o1v0yaAACF64InxTW/TJ4lALj2MvHk6wSs4lZIEADgq3L16+t4M2DMrpK8ds0vCADwDScDRs+OfygEALjFyYDRsuMfbrAJEB7gZMCo2PEPtwgA8AgnA0bBjn+4hyUAeNzLeDNgyC5jxz/cSwcAnuDNgMFyxz88QgCADawXOU0XAhiOl7N5lrWLgFZZAoANlInEJrLheGvyh8cJALCh2TznST7UroMnfSj/vwIeYQkAtuR4YNMc94MN6QDA9s7iZECLLuMCJ9iYDgDsYL3IsyRf4mRAK1ZJXrjjHzanAwA7KBPNy3g4qAUe+IEd6ADAHhwPbILjfrADHQDYg+OB1TnuBzsSAGBPjgdW47gf7MESAPTE8cCjctwP9qQDAP1xPPA4HPeDHugAQI/K8cBP8YTwoVym2/Rnxz/sSQCAnnk98GC87gc9EgDgAISA3pn8oWf2AMABlInKOnV/zkz+0C8dADig9SJvknysXcfAvXXcD/qnAwAHVCau88plDNm5yR8OQwcAjsAdATtx1h8OSAcAjsMdAduxhwIOTAcAjsQdARtz1h+OQACAI1ovcpLkcxwPfMhVkhezeVa1C4GxswQAR1QmtpeJr9t7fD3rv6pdCEyBDgBUsF7kNN1yANdeetoXjkcHACooE50d7tfemvzhuAQAqKScb7fTvbvl77x2ETA1lgCgsonfEeCsP1QiAEADJhoCTP5QkQAAjVgv8jnTuSPgcjbPi9pFwJTZAwDteJlp3BZ4me5/V6AiHQBoSLkt8HOSk8qlHMoq3UU/7kGAynQAoCFlYnydcV4UdJXktckf2qADAA1aL/I83UVBY7ky+Ostf1NY4oBBEACgUSO7LdAtf9AYSwDQqBHdFuiWP2iQDgA0br3ImyQfa9exo7du+YM26QBA48oE+qF2HTv4YPKHdukAwEAM7LZAt/xB4wQAGJCBhACTPwyAAAADs17kU5LT2nU8YDmbu+UPhsAeABie12nzyuDLdLUBA6ADAANUrgz+lHYeD7pMd9bfLX8wEAIADFRDIcDkDwMkAMCANXBlsCt+YaAEABi4iiHA5A8DJgDACFQIASZ/GDgBAEbiyCHghckfhs0xQBiJMiGfHeEf9dbkD8OnAwAjc+DHgzzuAyMhAMAIHSgEmPxhRAQAGKmeQ4DJH0bGHgAYqTJh97En4MzkD+OjAwAjt+cLgl72g5ESAGACdgwBJn8YMQEAJmLLEGDyh5ETAGBCNgwBJn+YAAEAJuaJEGDyh4kQAGCCHggBJn8AGLv1Ih/Xi6zLX4e6ORAAaE0JASZ/AACYgv8PRdxmluYeT04AAAAASUVORK5CYII=&quot;});\n        marker_3c20376741bc1b1485da074c263cc7c1.setIcon(custom_icon_b04af0888514425c557c475fd408403e);\n        \n    \n        var popup_450fe2ad7f6fddc00ff0fa33eee7962e = L.popup({&quot;maxWidth&quot;: &quot;100%&quot;});\n\n        \n            \n                var html_9be97ecd897c4202de71c43b27f2d40e = $(`&lt;div id=&quot;html_9be97ecd897c4202de71c43b27f2d40e&quot; style=&quot;width: 100.0%; height: 100.0%;&quot;&gt;[&#x27;Ravenna&#x27;]&lt;/div&gt;`)[0];\n                popup_450fe2ad7f6fddc00ff0fa33eee7962e.setContent(html_9be97ecd897c4202de71c43b27f2d40e);\n            \n        \n\n        marker_3c20376741bc1b1485da074c263cc7c1.bindPopup(popup_450fe2ad7f6fddc00ff0fa33eee7962e)\n        ;\n\n        \n    \n    \n            var marker_1fb399bbdf5f4b8ac5871be9cbd5f0e8 = L.marker(\n                [43.1121, 12.3888],\n                {}\n            ).addTo(map_6de1270101a49436e44f7b18c3bece78);\n        \n    \n        var custom_icon_e854222af93ee3471e53b99a0286c1b6 = L.icon({&quot;iconSize&quot;: [25, 25], &quot;iconUrl&quot;: &quot;data:image/png;base64,iVBORw0KGgoAAAANSUhEUgAAAgAAAAIACAYAAAD0eNT6AAAgAElEQVR4nO3d3Y1c2Xku4LeMc21QCRz3JOBDJiA1E7DI6wKOyAQ86gSGmEmA1CTAloG6npYTYEkJsO0EWD4JqKEE6lzsxelm/9bPrlpr7/08wEAjQ9B8tllrvftbfwkAMDmz2gUA21kv8jzJs/LXi/I//uckz2/9R097/kcvb/37v934+89JrpJczea57PmfCxyAAACNWS9ymuvJ/evE/ix3J/jWXaYLBZdJ/pESEmbzO0ECqEAAgArWi18n9OdJ/uXG3z+rWdcRfQ0Gl0n+5+vfz+a5qloVTIgAAAd2Y7J/meRfy9+f1KypYat0YeC/k3yKUAAHIwBAz8oa/WmS38Vk34dVulDw1yRLewygHwIA7Kms2b9M8tv0v/GO+y3TbUL8ZE8B7EYAgC3d+sJ/VbcaiovoEMBWBAB4QlnDP03y+/KvJxXL4WmrdB2Cv6QLBPYQwD0EALjHepGTXE/6vvKH7SLXYWBVuRZohgAARZn0XyX5Q4Z35p7NXCb5c5ILYYCpEwCYtNLefxOT/hR9DQPnlgmYIgGASVov8iba+1y7SPKX2TzntQuBYxEAmIyye//7dJP+VG7cYztX6cLAn5wmYOwEAEattPhfpZv4tfjZxmWSP6XbL2CJgNERABglX/v0SFeAURIAGJWytv+HuJGPw1gm+bO9AoyBAMDg3djJ/31c0sNxrNItDzhBwGAJAAxWObf/Nsm/R5ufOq6S/Jzko3sFGBoBgMEpE/+7dF/90IrzJD8KAgyFAMBgmPgZiPMIAgyAAEDzTPwM1HkEARomANAsEz8jcR5BgAYJADSn7Oo/S/JD7VqgRz8lee/UAK0QAGjKepEfY1c/43WV5OfZPO9qFwICAE0oF/i8i3P8TMMq3bLAeeU6mDABgKrWi5ymm/hP61YCVSzTBYFl5TqYIAGAKso6//vY4AdJt1HwzP4AjumfahfA9KwX+WOSLzH5w1dvknwpvw04Ch0Ajqa80PcxnuWFx1wmeevlQQ5NAODgSrv/XeLrBrbwId3+AMsCHIQAwEGVTX4fY3c/7GKVrhuwrFwHIyQAcBC++qFXugH0TgCgd7764SBW0Q2gRwIAvfHVD0ehG0AvBAB6UXb4/xJf/XAMqySvnRRgH+4BYG/l/v7PMfnDsZwk+Vx+e7ATHQB2Vp7r/RjX+EJNy3R7A1aV62BgBAB2sl7kVbrJ36t9UN9VuhBwUbsQhsMSAFtbL/I+3Xq/yR/a8CzJL+W3CRvRAWBjZZf/p7jKF1p2meSlUwI8RQeAjZSz/V9i8ofWPU/3sNBp7UJomwDAk8oLZZ+i5Q9D8SzJJ68L8hhLADxqvcjHeLYXhux8Ns/b2kXQHgGAe1nvh1GxL4A7BADuKLf6afnDuFylCwFuDySJPQDcUs73m/xhfL7uC3hVuxDaoAPAr9aLvEl3uQ8wbm9n85zXLoK6BACS2OwHE2Rz4MQJAJj8YbqEgAkTACbMTn8gTghMlgAwUSZ/4AYhYIKcApig8oyvyR/46nm6EwIntQvheHQAJsYZf+AR7gqYEAFgQkz+wAaEgIkQACbC5A9sQQiYAAFgAkz+wA6EgJETAEbO5A/sQQgYMQFgxEz+QA+EgJESAEbK5A/0SAgYIQFghEz+wAEIASMjAIyMG/6AA3Jj4IgIACNi8geOQAgYCQFgJEz+wBEJASPgLYDxeB+TP3Acz9ONOQyYDsAIrBf5mORN7Tqo5jLdBq3LJP9I8vfy90mS2TzLff7L14uc3vi3z5P8Jsk/5zpwnoapOp/N87Z2EexGABi49SJ/jCQ+BV8n+L8l+ZJkleSylRZsWYJ6nuQkyXdJflv+/qRaURzL2WyeD7WLYHsCwICtF3mT5GPtOujdVZJlkv9Ot6+jmYl+F6WD8DzJ/0nXLTipWA6H8XY2z3ntItiOADBQzvqPyirdhP/XJMvZPKuaxRxa6RacJvld+Vd7V4bPHQEDJAAM0HqRkySfY/Ifqq9f+H/JBCb8p5RA8CrXgeCkZj3s7CrJi6n/eR4SAWBgHPcbrFWSiyR/nc1zUbmWppXu1usk/xZ/zofG8cABEQAGxo7/QVmlm/T/rDW6m9LtepXkDxEGhsLJgIEQAAZkvciPSX6oXQePusr1pL+sXMuolDDwfbpAcFK1GJ7y02yed7WL4HECwECsF3mV5JfadfCgZbpJ/7xyHZNQThb8IbphLXttuattAsAA2PTXrKsk50n+ZONTHWVPzJt0nYGTqsVwm02BjRMAGmfTX5NWSX5McmGzUztKl+z7uJmwJTYFNkwAaJxNf01Zpvva19ZsWDlF8H38blphU2CjBICGuemvGcskP9rUNyxl6exdBIEWuCmwQQJAo9z014RlTPyDJwg0wU2BDRIAGrVe5HOs+9eyjIl/dASB6i5n87yoXQTXBIAGrRd5n+SPteuYoFW6l82s8Y9YCQIfY7NgDR9m85zVLoKOANCYcr75U+06JuYq3Re/J00npPzW3ken7dhe6q61QQBoSDny9yXW/Y/pQ7rJ3zGliVov8sd0SwN+d8dxleQ7v7n6/ql2AXzjYwxCx7JMd0nJmYFo2krn57vELvUjeRanm5qgA9AIV/0ejXY/DyrLAh/jVsFjcFVwZQJAA7T+j+Yi3Sa/Ve1CaJuHt47CUkBllgDaoPV/WFfpvjZem/zZRHnJ7kXi3PoBWQqoTAegMq3/g1umu4VsVbkOBsqx3IOzFFCJAFCR1v/BnVnrpw/2BhyUpYBKLAHUpfV/GJfpdvib/OlFObf+IvGlegCWAirRAajEhT8Hc5442sfhlHsD3teuY4RcEHRkAkAFpfX/OdqJffPiGEdRHuv6JX7DfVql69wJ70diCaCOsxg4+nSVbuA4r10I01BetXuR+GLt0UninYBj0gE4svIQyZfadYzIZbrWoa8Gqlgv8jFeGOzTd07tHIcOwPHZ7NKf89lcy5C6ZvO8TfK2dh0jYow8EgHgiMqZ/9PadYzEWRl4obqy/PQyEUZ7cFrGSg5MADguO4f78dYRP1pTdrC/TLSve2CsPAIB4EjK3eIntesYOJv9aNqNzYGuEN7PSRkzOSCbAI/AjX+9uEq32c/ASvPKb/5Tkue1axkwNwQemA7AcbyLyX8fX3f6m/wZhDJpvYybA/fxLN3YyYHoAByYY397c8yPQXNMcG+OBR6IDsDhSbC7M/kzeOW0ynntOgbMGHogOgAH5L7/vZj8GRWdgL14J+AAdAAOS3Ldjcmf0dEJ2Iux9AAEgAMpX/+nlcsYIpM/oyUE7Oy0jKn0SAA4HIl1e1dJXpv8GbmzuCdgF8bUngkAB+Drfydfz/mvahcCh3TjiKAQsB1dgJ4JAIchqW7HJT9Myo0QsKpcytAYW3skAPTM1/9Ozkz+TE0JAa/jAaFt6AL0SADon4S6nbfu9meqSvB9WbuOgTHG9kQA6JGv/62dm/yZuhICPG29OV2AnggA/fpD7QIGZFmORMHklSDsievNGWt74CbAnrjzfyurdM/6WvuEG9aLfIou4qa8EbAnHYD+WJfajLP+8LDXcTJgU8bcPekA9KC8/f0lnvzdhE1/8Ij1Is/TvSFiPHncVbougI+JHekA9OMsfqyb+GDyh8eVTYFntesYgGfxf6e9CAD9+L+1CxiAy9ncjxU2UYLyeeUyhsDYuwcBYE/rRd4kOalcRuu+XngCbO4s9gM85aSMwexAANif4yhPO7NbF7Zz46ZAHmcM3pEAsIdy9O+0chmtu7DuD7sp+wF+ql1H407LWMyWBID9fF+7gMZdxQ1nsJfZPO/i5cCnGIt3IADs503tAhrnvD/0w6NBj3tTu4AhEgB2VDaeOPr3sA+zeZa1i4AxKHtofqxdR8Oe2Qy4PQFgdzaePOwqBivo1WyeD7EU8Bhj8pYEgB3Y/Pekt1r/cBD21DzMZsAtCQC78SN82MVsnovaRcAYlVMBXg18mLF5CwLAbtw+db+ruJoTDu3HuCDoIcbmLQgAWyoPdZzUrqNRP7vwBw6rLK8J2vc7KWM0GxAAtue86f1W5bwycGBlmW1Zu45GGaM3JABs71XtAhrliwSOy2/ufsboDQkAW1gv8irO/t9naeMfHFfZEHheu44GPStjNU8QALbz+9oFNMqZf6jjx7gh8D7G6g0IANuRKu86d+Mf1FE23f5cu44GGas3IABsSPv/Qb7+oa730QW4zTLABgSAzf2udgENOnfsD+oqxwJ1Ae4yZj9BANicNHmXr39ogy7AXcbsJwgAG3D5z718/UMjdAHu5VKgJwgAm3ldu4AG+fqHtugC3GXsfoQAsJl/q11AY3z9Q2N0Ae5l7H6EAPCE9SLPEm2kW3z9Q5s+1i6gMc/LGM49BICn2UjyraWvf2hT+W2eVy6jNcbwBwgAT3OU5Fu+/qFtf6pdQGOM4Q8QAJ52WruAhqzc+gdtK28ELGvX0ZDT2gW0SgB4hON/d/j6h2H4c+0CGuI44AMEgMed1i6gIVeJF/9gCGbznCf26txwWruAFgkAj7N2dO2iHDMChuE/ahfQEGP5PQSAx53WLqAhNhbBsDgSeO20dgEtEgAeUNaMnB/tXJaNRcBAlCOBy8pltOKZfQB3CQAP84flmg1FMEx+u9eM6bcIAA+zZnTtvHYBwE5s3L1mTL9FAHjYae0CGmHzHwxU+e2e166jEae1C2iNAHCPcnf0Se06GvGX2gUAe/Eb7px4F+BbAsD9rBVd00KEAZvNcxHPBH9lbL9BALjfy9oFNEL7H8ZhWbuARhjbbxAA7vevtQtohNYhjIPfcsfYfoMAcD9tos6ydgFALyzldYztNwgAt9gA+KvLcpEIMHBlKW9Zu44G2Ah4gwBwl4TY+c/aBQC9sgzQMcYXAsBdNol0fqldANCrZe0CGmGMLwSAu/537QIacOXufxiX8pte1a6jAcb4QgC466R2AQ1Y1i4AOIhl7QIacFK7gFYIAHed1i6gAX+tXQBwEH7bxvhfCQA3rBeSYbGsXQBwEMvaBbTAWN8RAL51UruABlj/h5EqR3vd7mmsTyIA3OZ4SEz+MHLL2gU0wFgfAeC239QuoAF/q10AcFD/XbuABhjrIwDc9tvaBTTgU+0CgIPyGzfWJxEAuMsSAIyb3zhJBIDbTmsXUNnK878wbuU3vqpdR2WntQtogQDATavaBQBHoQuAAPDVeiERxgZAmIrJbwQ05gsAfOtz7QKAo/BbRwC44aR2AQ1Y1S4AOIpV7QIacFK7gNoEgGvf1S6gNjcAwjT4rScx5gsA/GpVuwDgqFa1C6AuAeDa1C+GWNUuADiqVe0CKpv6mC8A8KtV7QKAo7IMMHECAF/9v9oFAEf1j9oFUJcAcG3qr0N9qV0AcFRT/81PfcwXAG54VruAyla1CwCOalW7gMqmPuYLAAAwRQIASZLZPMvaNQDH4zePAJBkvbAWBMC0CACdya8FATAtAgCJ88AwVX77EyYAkCRXtQsAqvDbnzABAAAmSAAAgAkSAABgggQAAJggAQAAJkgA6JzULgAAjkkA6KxqF1CZo0AAEyMAkLgJEWByBAAAmCABAAAmSAAAgAkSAABgggQAAJggAQAAJkgA6KxqF1DZ89oFAFX47U+YAJBkNp98AHAPAEyT3/6ECQAAMEECAEmS9cJ7CDAlfvMIANeWtQuo7KR2AcBRndQuoLJl7QJqEwAAYIIEgGtTfxHvZe0CgKOa+gmAVe0CahMArv137QIAjug3tQuo7P/VLqA2AYCv/rV2AcBR+c1PnABw7VPtAipzHhimZeq/+amP+QIAvzqtXQBwVFPfAzB5s9oFtGS9yLp2DZX9Zjaf/GZImISpj3ezuflPB+BbU5/8fBHABKwXk+/4TX2sTyIA3HZZu4DKBACYhpPaBVQ29bE+iQBw26p2AZX9S+0CgKP4rnYBla1qF9ACAeBbUz8XqgMA0/Db2gVUNvWxPokAcNvUj4UIADANU/+tT32sTyIA3LaqXUBlz7wQBuNWfuNTvwNgVbuAFggAN8zm/lDElwGM3eR/48b6jgBw17J2AZX9rnYBwEG9qF1AZcvaBbRCALhrVbuAyib/dQAjN/UNgI4AFgLAXf9Vu4DKTmsXABzUae0CKvuf2gW0QgC4a/Lp0C1hME5+20mM8b8SAG6Zza0PJXlZuwDgICa/xGeMvyYA3G/qCXHqa4QwVlPf5Dv1sf0bAsD9lrULqOx0vZj8OWEYo1e1C6hsWbuAlggA95v6RsDERiEYFev/SYzt3xAA7qdNpFUIY/P72gU0wNh+gwBwj9k8l/Fe9NRbhTA2p7ULqOyqjO0UAsDDlrULqOxkvbBjGMag3P8/9d/zsnYBrREAHvbX2gU04LR2AUAvdPSM6XcIAA9b1i6gAX+oXQDQC+v/xvQ7ZrULaNl6kb/Hs5nfeTkLhqsc6f177Toqu5rN85vaRbRGB+Bxy9oFNEDrEIbNb9hYfi8B4HHWjCwDwND5DRvL7yUAPG5Zu4AGPHcaAIap7P4/rVxGC5a1C2iRAPAI9wH8yhcEDJP2v/P/DxIAnnZRu4AGGERgmL6vXUADjOEPEACeZu2ouxRICIABKUt3J7XraIAx/AECwNOkx45lABgWX/8dY/gD3AOwgfUin+MazcSdADAI5ez/l7jH5HI2z4vaRbRKB2Az/1m7gEa8rV0AsJE3Mfknxu5HCQCb+aV2AY3499oFABvR/u8Yux8hAGygHCFZ1a6jAc/Wi7ypXQTwsPUip7H5L0lWjv89TgDY3LJ2AY14V7sA4FF+o51l7QJaJwBs7i+1C2jESfnCABrj5r9vGLOfIABsaDbPRdwK+JUvDGiT32bnqozZPEIA2I4/UJ1TXQBoS/n6f1O5jFYYqzcgAGzHjVLXfGlAW/wmr2n/b0AA2I5UeU0XABrh6/+OZe0ChkAA2MJsnqsIATf54oA2+C1euyhjNU8QALantXRNFwAq8/V/hzF6QwLAlmbznMdpgJt8eUBdfoPXrsoYzQYEgN1YBrh26qlgqKM8+fumdh0NMTZvQQDYjRbTt97XLgAmym/vW8bmLXgOeEfrRf4er23ddDab50PtImAqSufNYzfXrmbz/KZ2EUOiA7A7raZvvStvkAPH4ev/W8bkLQkAu/tT7QIa8ywGJDiK9SI/xot/txmTt2QJYA/rRb7Ej/C2l7O5SzjgUMqxv8+xBHnTajbPd7WLGBodgP38R+0CGqQLAIf1Pib/24zFOxAA9vOxdgENel7ak0DPysY/x27vMhbvwBLAntaLfIr3t2+7SvJiNs+qdiEwFmWT7edYdrxtOZvnZe0ihkgHYH9/rl1Ag55FIoe+vYvJ/z7G4B3pAPTAnQAPcjcA9KC8ufGpdh0NcvZ/DzoA/XD+9H7vylWlwI5K619H7X7G3j0IAP1w/vR+Bi7Y38do/T/E2LsHAaAHs3kuk1zWrqNRTgXAjuz6f9RlGXvZkQDQH0n0YT+UNUxgQ+XCHx20hxlz9yQA9Oci3fE37veLtwJgK7/E5uKHXMX6/94EgJ7M5v5APuFZvFwGG1kv8j6xgfYRF2XMZQ8CQL+sdT/u1H4AeFxZ9/9j7ToaZxzpgQDQo3Lz3bJyGa37oQxwwC3l2Kx1/8ct3TLaDwGgf26letpH9wPAt26c97fu/zhjbE/cBHgAngneyCrdewHW8SDeFdmQZ397pANwGJ6mfNpJXG0KSZL1Ih9j8t+EsbVHAsBhvK9dwEA8LwMfTNZ6kTdJ3lQuYyiMrT0SAA6gtLXPa9cxEG+cDGCqyuQvBG/m3JJhv+wBOJByi9eX2nUMyNvZXGhiOspG2E+x6W9T39n93y8dgANxJHBrH8vXEIyeyX9rjv4dgABwWFrb2/nozQDGrnQHTf7bMZYegCWAA3MkcGtXSV565YsxKmf9P8U1v9tw9O9AdAAOT3LdzrMkn1wUxNiY/HdmDD0QHYAjWC/y92j3bUsngNEw+e/sajbPb2oXMVY6AMfxc+0CBkgngFEw+e/F2HlAAsBxvE+cX92BEMCgmfz3chUX/xyUAHAELgbay7Mknx0RZGhKcP0Sk/+uXPxzYALA8fypdgED554ABsM5/14YMw9MADiSconFeeUyhu6ja4Np3XqRVzH57+vcxT+HJwAcl8lrfz94QIhWlS7VLzH578tYeQQCwBHpAvTmzXqRT2WDFTRhvcj7eNinD77+j8Q9AEfmkaBeXaZ7RMhdAVRTgujHJK9q1zISHv05Eh2AI/NIUK+epzsmaOClihv3+vsz2A+P/hyRAFCH9a3+PEvyi82BHFt5uOpzHPPrk9/xEVkCqGS9yKfEy3c9u0i3JODsMAdVAucPtesYmeVsnpe1i5gSHYB6JN3+vUp3aZAvMg5ivcizEt5N/v0zJh6ZAFDJbJ5l7AU4hJN0IcBgQq9Ky/9LdO4OYVnGRI5IAKjLJHU4P5Sjgie1C2HYylf/+7jc55CMhRXYA1CZvQAHd5XkbDZ3/wLbK8tJH2Oj3yFZ+69EB6A+yfewnqW7QvgXFwexjbKMZJf/4RkDK9EBaIAuwNFcJflxNs+H2oXQrrLW/z4m/mPw9V+RANCAMuB8ql3HhCzTHRdcVa6DhpQO0bskf6xdy4S8tPmvHgGgEeWBmze165iYn5K8d28A5RGf97HJ75jOZ/O8rV3ElAkAjfBGQDWrdMsC55XroILSfXsXS3A1uPO/MgGgIboAVS3TBYFl5To4ghK438XvrRZf/w0QABqiC9CEi3THBle1C6F/ZZ3/LMm/R7u/Jl//DRAAGqML0IzzdB2BVeU66IGJvym+/hshADSmDFRfYpBqxXkEgcEy8TfnKt3Xv423DXARUGPKD+Pn2nXwqzdJvqwX+eha4eEo1/f+mC5M/xCTfyt+Nvm3QwegQboATVvGZsFm3djc9yp+P63x9d8YAaBR3htv3irdFaYXBrT61ou8SvKHdBM/bfppNs+72kVwTQBo2HqRL4m2c+Ou0u0T+JN9AsdVOmVvknwfv5PWrWbzfFe7CL4lADSs3E72sXYdbOwyyZ+iK3BQvvYH6a3LttojADRuvfAa2UBdJPnzbJ6L2oWMQXmW9/tY2x+iy9k8L2oXwV0CQOM8FDR4V+nCwF/SvXymM7Ch8qX/u3ST/kndatiDB38aJQAMgOeCR+UiyV/TLROsKtfSlLKmf3PS96U/fJ77bZgAMACuCB6tVa4DwSS7A6XD9ft0AddS1/i48rdhAsBAuCJ4Ei7LX39Nt256WbmeXpUg+zzdF/5pTPhj58rfxgkAA+FyoMlapgsF/5XuKNWyajUbKpv2TpK8SPLbdJO9P7vT4dKfARAABsTlQBSr8tdlkn/kepPo5TEH3NK+T/LrGu9v0036J8eqgWa59GcABICBcTkQG7hKvlk++Nue/32/vfH3vuR5ikt/BuJ/1S6ArZ0l+aV2ETTtWb49NXJ6/38MDuKsdgFsRgdggBwLBBrl2N+AeA54mCRsoEXGpgERAAaoHA87r10HwA3nYzu6OnYCwHCdJY7YAE24iq//wREABqoc9/q5dh0ASX525n94bAIcOMcCgcoc+xsoHYDhc9UmUJMxaKAEgIErV8N6cx6o4WIo11NzlwAwDjYEAsdm49/ACQAjUJ7btCEQOKafPfU7bDYBjogNgcCR2Pg3AjoA42IzDnAMxpoREABGxIZA4Ahs/BsJAWB8bAgEDsXGvxERAEbGhkDggGz8GxGbAEfKhkCgZzb+jYwOwHjZpAP0yZgyMgLASJVNOueVywDG4dzGv/ERAMbNhkBgXzb+jZQAMGLlec4fa9cBDNqPnvodJ5sAJ2C9yKckp7XrAAZnOZvnZe0iOAwdgGnQvgN2YewYMQFgAmbzXCb5qXYdwKD8VMYORkoAmI73iQs8gI2s0o0ZjJgAMBFlE49zvMAm3tr4N34CwIS4GwDYgDP/EyEATI+7AYCHOPM/IQLAxFgKAB6h9T8h7gGYKHcDALc48z8xOgDT9TaWAoCOzuAECQATVd70dk0wkHTX/a5qF8FxWQKYOEsBMHla/xOlA4ClAJgurf8JEwAmrrT9fq5dB1DFz1r/02UJgCTJepHPSZ7XrgM4msvZPC9qF0E9OgB8pQ0I0+I3P3ECAEm8GAgT46U/LAHwLUsBMHpa/yTRAeAubUEYN79xkggA3GIpAEZN659fWQLgXpYCYHS0/vmGDgAP0SaEcfGb5hsCAPeyFACjovXPHZYAeJSlABg8rX/upQPAU7wVAMN1leR17SJokwDAo0rb0LPBMEye+eVBlgDYiGeDYXA888ujdADYlKUAGA7P/PIkAYCNlDaipQAYBq1/nmQJgK2sF/klyavadQAPupjNbfzjaToAbMtSALRL65+NCQBsZTY3wEDD3pbfKDxJAGBrs3kukpzXrgP4xofy24SNCADs6iyxyQgasYpNumxJAGAnlgKgKVr/bE0AYGezeZbxYBDU9lP5LcJWHANkbx4Mgmo89MPOdADow+s4GgjH5qEf9iIAsDe3BEIVbvtjL5YA6I1bAuFo3PbH3nQA6JNbAuHwnMChFwIAvSnHkHyVwGG9duSPPggA9KocR/pQuw4YqQ+O/NEXewA4CEcDoXeO/NErHQAOxdFA6I/lNXonAHAQ5XjSWe06YCTOHPmjb5YAOChHA2FvjvxxEDoAHNrbeDUQdrWKI38ciA4AB7de5HmSz7XrgAF6MZvnsnYRjJMOAAdXBjD7AWA7ZyZ/DkkHgKNZL/IpyWntOmAAlrN5XtYugnHTAeCYHA2Epznyx1EIAByNq4JhI6765SgEAI6qXGP6U+06oFE/ueqXY7EHgCrsB4A7rPtzVDoA1OLpYLjmiV+OTgCginKtqQEPOm9d9cuxCQBUM5vnIp4Ohg/ltwBHZQ8A1Xk6mAnzxC/V6ADQAvcDMEWOxVKVAEB19gMwUdb9qUoAoAn2AzAx1v2pzh4AmmI/ABPgvD9N0AGgNS9jPwDjZd2fZggANMV7AaOOYeQAAAXuSURBVIyce/5phgBAc7wXwEi555+m2ANAs7wXwIhY96c5OgC07HXimBSDt4plLRqkA0DT1os8T/K5dh2whxezeS5rFwG36QDQtDJwntWuA3Z0ZvKnVToADMJ6kY9J3tSuA7ZwPpu74ZJ26QAwFGeJLykGQ+eK5ukAMBhlP8CnJM9q1wKPuEryUuuf1ukAMBhlQNVSpXVvTf4MgQDAoHg0iMZ55IfBsATAILkkiAa57IdB0QFgqF7Ho0G0wxsWDI4AwCCVB1V8bdGKlx75YWgEAAbLpkAaYdMfgyQAMGizec6TnFcug+k6L38GYXAEAMbAJUHU4LIfBs0pAEZhvchJukeDXBLEMVyle+RnVbsQ2JUOAKNQBmK7sDmW1yZ/hk4AYDRm8yyjJcvhnZU/azBolgAYHS8HckBe+GM0dAAYI5sCOQSb/hgVHQBGyaZAembTH6OjA8Ao2RRIz2z6Y3QEAEbLpkB6YtMfo2QJgNGzKZA92PTHaAkATMJ6kc9Jnteug0G5nM3zonYRcCiWAJiKl/F8MJvz2iSjJwAwCZ4PZkue92X0BAAmw/PBbMjzvkyCAMCklKdbP9Sug2Z98LwvU2ETIJO0XuRTktPaddCU5WxumYjp0AFgql7HdcFcu4yLo5gYHQAma73I8ySf4rrgqbtKt+lPIGRSdACYLJsCKWz6Y5IEACZtNs9FXBc8ZWflzwBMjiUAiOuCJ8o1v0yaAACF64InxTW/TJ4lALj2MvHk6wSs4lZIEADgq3L16+t4M2DMrpK8ds0vCADwDScDRs+OfygEALjFyYDRsuMfbrAJEB7gZMCo2PEPtwgA8AgnA0bBjn+4hyUAeNzLeDNgyC5jxz/cSwcAnuDNgMFyxz88QgCADawXOU0XAhiOl7N5lrWLgFZZAoANlInEJrLheGvyh8cJALCh2TznST7UroMnfSj/vwIeYQkAtuR4YNMc94MN6QDA9s7iZECLLuMCJ9iYDgDsYL3IsyRf4mRAK1ZJXrjjHzanAwA7KBPNy3g4qAUe+IEd6ADAHhwPbILjfrADHQDYg+OB1TnuBzsSAGBPjgdW47gf7MESAPTE8cCjctwP9qQDAP1xPPA4HPeDHugAQI/K8cBP8YTwoVym2/Rnxz/sSQCAnnk98GC87gc9EgDgAISA3pn8oWf2AMABlInKOnV/zkz+0C8dADig9SJvknysXcfAvXXcD/qnAwAHVCau88plDNm5yR8OQwcAjsAdATtx1h8OSAcAjsMdAduxhwIOTAcAjsQdARtz1h+OQACAI1ovcpLkcxwPfMhVkhezeVa1C4GxswQAR1QmtpeJr9t7fD3rv6pdCEyBDgBUsF7kNN1yANdeetoXjkcHACooE50d7tfemvzhuAQAqKScb7fTvbvl77x2ETA1lgCgsonfEeCsP1QiAEADJhoCTP5QkQAAjVgv8jnTuSPgcjbPi9pFwJTZAwDteJlp3BZ4me5/V6AiHQBoSLkt8HOSk8qlHMoq3UU/7kGAynQAoCFlYnydcV4UdJXktckf2qADAA1aL/I83UVBY7ky+Ostf1NY4oBBEACgUSO7LdAtf9AYSwDQqBHdFuiWP2iQDgA0br3ImyQfa9exo7du+YM26QBA48oE+qF2HTv4YPKHdukAwEAM7LZAt/xB4wQAGJCBhACTPwyAAAADs17kU5LT2nU8YDmbu+UPhsAeABie12nzyuDLdLUBA6ADAANUrgz+lHYeD7pMd9bfLX8wEAIADFRDIcDkDwMkAMCANXBlsCt+YaAEABi4iiHA5A8DJgDACFQIASZ/GDgBAEbiyCHghckfhs0xQBiJMiGfHeEf9dbkD8OnAwAjc+DHgzzuAyMhAMAIHSgEmPxhRAQAGKmeQ4DJH0bGHgAYqTJh97En4MzkD+OjAwAjt+cLgl72g5ESAGACdgwBJn8YMQEAJmLLEGDyh5ETAGBCNgwBJn+YAAEAJuaJEGDyh4kQAGCCHggBJn8AGLv1Ih/Xi6zLX4e6ORAAaE0JASZ/AACYgv8PRdxmluYeT04AAAAASUVORK5CYII=&quot;});\n        marker_1fb399bbdf5f4b8ac5871be9cbd5f0e8.setIcon(custom_icon_e854222af93ee3471e53b99a0286c1b6);\n        \n    \n        var popup_e7021fade42b9f2a92bb12f11dd49ac8 = L.popup({&quot;maxWidth&quot;: &quot;100%&quot;});\n\n        \n            \n                var html_d8b935acae615f61a515325d4aa7590d = $(`&lt;div id=&quot;html_d8b935acae615f61a515325d4aa7590d&quot; style=&quot;width: 100.0%; height: 100.0%;&quot;&gt;[&#x27;Perugia&#x27;]&lt;/div&gt;`)[0];\n                popup_e7021fade42b9f2a92bb12f11dd49ac8.setContent(html_d8b935acae615f61a515325d4aa7590d);\n            \n        \n\n        marker_1fb399bbdf5f4b8ac5871be9cbd5f0e8.bindPopup(popup_e7021fade42b9f2a92bb12f11dd49ac8)\n        ;\n\n        \n    \n    \n            var marker_e2424378c0f9d1ceaebc0682f30dd631 = L.marker(\n                [41.4667, 13.1833],\n                {}\n            ).addTo(map_6de1270101a49436e44f7b18c3bece78);\n        \n    \n        var custom_icon_f153b2bf7d23ca86b59afa38ece840d5 = L.icon({&quot;iconSize&quot;: [25, 25], &quot;iconUrl&quot;: &quot;data:image/png;base64,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&quot;});\n        marker_e2424378c0f9d1ceaebc0682f30dd631.setIcon(custom_icon_f153b2bf7d23ca86b59afa38ece840d5);\n        \n    \n        var popup_9ec16ff2e90dfb949c5ec88c35feb0de = L.popup({&quot;maxWidth&quot;: &quot;100%&quot;});\n\n        \n            \n                var html_39a426b07e671823bc110982dc0e34d2 = $(`&lt;div id=&quot;html_39a426b07e671823bc110982dc0e34d2&quot; style=&quot;width: 100.0%; height: 100.0%;&quot;&gt;[&#x27;Priverno&#x27;]&lt;/div&gt;`)[0];\n                popup_9ec16ff2e90dfb949c5ec88c35feb0de.setContent(html_39a426b07e671823bc110982dc0e34d2);\n            \n        \n\n        marker_e2424378c0f9d1ceaebc0682f30dd631.bindPopup(popup_9ec16ff2e90dfb949c5ec88c35feb0de)\n        ;\n\n        \n    \n    \n            var marker_c5170f17d8f5b3ee78c1e11fb51bd201 = L.marker(\n                [40.7, 14.4833],\n                {}\n            ).addTo(map_6de1270101a49436e44f7b18c3bece78);\n        \n    \n        var custom_icon_a4c18714dd07bba183976417e39c3990 = L.icon({&quot;iconSize&quot;: [25, 25], &quot;iconUrl&quot;: &quot;data:image/png;base64,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&quot;});\n        marker_c5170f17d8f5b3ee78c1e11fb51bd201.setIcon(custom_icon_a4c18714dd07bba183976417e39c3990);\n        \n    \n        var popup_e2e5f589bcc6c7ace484cbd281fbda0b = L.popup({&quot;maxWidth&quot;: &quot;100%&quot;});\n\n        \n            \n                var html_2ec1fa3f0830097bfda31cdb047e1a67 = $(`&lt;div id=&quot;html_2ec1fa3f0830097bfda31cdb047e1a67&quot; style=&quot;width: 100.0%; height: 100.0%;&quot;&gt;[&#x27;Castellammare di Stabia&#x27;]&lt;/div&gt;`)[0];\n                popup_e2e5f589bcc6c7ace484cbd281fbda0b.setContent(html_2ec1fa3f0830097bfda31cdb047e1a67);\n            \n        \n\n        marker_c5170f17d8f5b3ee78c1e11fb51bd201.bindPopup(popup_e2e5f589bcc6c7ace484cbd281fbda0b)\n        ;\n\n        \n    \n    \n            var marker_581aede1a9ceacddc69383e1ebf59395 = L.marker(\n                [38.1157, 13.3613],\n                {}\n            ).addTo(map_6de1270101a49436e44f7b18c3bece78);\n        \n    \n        var custom_icon_1d7f5a2a2f40b88cf9e05087902cd40c = L.icon({&quot;iconSize&quot;: [25, 25], &quot;iconUrl&quot;: &quot;data:image/png;base64,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&quot;});\n        marker_581aede1a9ceacddc69383e1ebf59395.setIcon(custom_icon_1d7f5a2a2f40b88cf9e05087902cd40c);\n        \n    \n        var popup_fa335ae7878137655ee76ec46a41b5b9 = L.popup({&quot;maxWidth&quot;: &quot;100%&quot;});\n\n        \n            \n                var html_6753960385d4da5ddb56bfd6a22ac966 = $(`&lt;div id=&quot;html_6753960385d4da5ddb56bfd6a22ac966&quot; style=&quot;width: 100.0%; height: 100.0%;&quot;&gt;[&#x27;Palermo&#x27;]&lt;/div&gt;`)[0];\n                popup_fa335ae7878137655ee76ec46a41b5b9.setContent(html_6753960385d4da5ddb56bfd6a22ac966);\n            \n        \n\n        marker_581aede1a9ceacddc69383e1ebf59395.bindPopup(popup_fa335ae7878137655ee76ec46a41b5b9)\n        ;\n\n        \n    \n    \n            var poly_line_88bef4329205e09fec5c6887ef282978 = L.polyline(\n                [[45.4397, 12.3319], [44.4178, 12.1994], [43.1121, 12.3888], [41.4667, 13.1833], [40.7, 14.4833], [38.1157, 13.3613]],\n                {&quot;bubblingMouseEvents&quot;: true, &quot;color&quot;: &quot;orange&quot;, &quot;dashArray&quot;: null, &quot;dashOffset&quot;: null, &quot;fill&quot;: false, &quot;fillColor&quot;: &quot;orange&quot;, &quot;fillOpacity&quot;: 0.2, &quot;fillRule&quot;: &quot;evenodd&quot;, &quot;lineCap&quot;: &quot;round&quot;, &quot;lineJoin&quot;: &quot;round&quot;, &quot;noClip&quot;: false, &quot;opacity&quot;: 0.3, &quot;smoothFactor&quot;: 1.0, &quot;stroke&quot;: true, &quot;weight&quot;: 6}\n            ).addTo(map_6de1270101a49436e44f7b18c3bece78);\n        \n&lt;/script&gt;\n&lt;/html&gt;\" style=\"position:absolute;width:100%;height:100%;left:0;top:0;border:none !important;\" allowfullscreen webkitallowfullscreen mozallowfullscreen></iframe></div></div>"
     },
     "execution_count": 14,
     "metadata": {},
     "output_type": "execute_result"
    }
   ],
   "source": [
    "#Visualize the travel from Venice to Palermo\n",
    "traveler.map_2d(visit)"
   ],
   "metadata": {
    "collapsed": false,
    "ExecuteTime": {
     "end_time": "2023-11-13T16:08:33.102090300Z",
     "start_time": "2023-11-13T16:08:32.862846400Z"
    }
   },
   "id": "851cd3816c2d3886"
  },
  {
   "cell_type": "code",
   "execution_count": 15,
   "outputs": [
    {
     "data": {
      "application/vnd.plotly.v1+json": {
       "data": [
        {
         "lat": [
          51.5072,
          51.5172,
          51.5166,
          51.5152,
          51.5414,
          51.5423,
          51.5347,
          51.5323,
          51.49,
          51.48,
          51.5018,
          51.5207,
          51.51,
          51.514,
          51.569,
          51.5535,
          51.5316,
          51.5516,
          51.361,
          51.37,
          51.3881,
          51.3651,
          51.3589,
          51.0383,
          51.1019,
          51.1833,
          51.2089,
          51.1858,
          51.502,
          51.4678,
          51.4008,
          51.43,
          51.45,
          51.5,
          51.5467,
          51.4699,
          51.5232,
          51.5167,
          51.4833,
          51.5426,
          51.55,
          51.5139,
          51.5347,
          51.4719,
          51.5528,
          51.5711,
          51.4933,
          51.5167,
          51.45,
          51.4881,
          51.496,
          51.45,
          51.4167,
          51.4167,
          51.5339,
          51.5125,
          51.5969,
          51.505,
          51.6417,
          51.4667,
          51.5942,
          51.6331,
          51.4828,
          51.5246,
          51.5264,
          51.4608,
          51.5603,
          51.5167,
          51.5,
          51.5167,
          51.4481,
          51.5717,
          51.5,
          51.6333,
          51.2667,
          51.2667,
          51.273,
          51.305,
          51.697,
          51.6,
          51.4,
          51.3833,
          51.4036,
          51.5667,
          51.4667,
          51.3,
          51.7972,
          51.6242,
          50.9131,
          50.8833,
          51.5667,
          51.2278,
          51.3244,
          51.3894,
          51.5,
          51.5167,
          51.6765,
          51.5667,
          51.6667,
          51.6667,
          51.7372,
          51.2833,
          51.6833,
          51.6717,
          51.3167,
          51.0944,
          51.8333,
          51.3667,
          51.55,
          51.5,
          51.5333,
          51.4667,
          51.7,
          51.35,
          51.2333,
          51.7667,
          51.4833,
          51.4747,
          51.2145,
          51.0333,
          52.1902,
          52.698,
          51.957,
          51.6324,
          51.7502,
          51.6303,
          51.7298,
          52.0333,
          52.3156,
          52.4999,
          51.5167,
          51.158,
          52.0,
          51.96,
          52.7667,
          52.65,
          53.1,
          51.5333,
          51.7167,
          49.6375,
          51.6594,
          51.5172,
          51.2833,
          51.35,
          51.85,
          51.5833,
          52.25,
          50.7833,
          50.5667,
          50.2578,
          51.3833,
          50.9167,
          50.1167,
          51.1178,
          50.55,
          51.4666,
          51.8333,
          44.3564,
          44.0617,
          44.0206,
          43.9114,
          50.6833,
          52.439,
          52.9333,
          53.0167,
          56.2135,
          59.9674,
          60.3321,
          60.5816,
          63.0655,
          70.9566,
          66.95,
          64.9061,
          64.9295,
          64.8006,
          59.0,
          56.2339,
          55.2853,
          54.1522,
          53.7128,
          54.2667,
          54.1242,
          55.1,
          54.7667,
          55.7433,
          50.6619,
          50.2689,
          49.7667,
          50.1,
          48.3822,
          46.544,
          46.5333,
          48.4667,
          48.8,
          48.5667,
          49.9167,
          48.55,
          47.65,
          48.58,
          49.1333,
          48.8333,
          47.3833,
          49.1744,
          47.5847,
          47.6272,
          61.1666,
          64.0,
          64.1167,
          64.25,
          62.0717,
          62.0537,
          61.9028,
          61.771,
          61.4814,
          61.4055,
          61.8099,
          61.8314,
          60.155,
          54.568,
          54.2101,
          53.5595,
          52.9278,
          52.0471,
          51.5423,
          51.5347,
          51.5072
         ],
         "line": {
          "color": "black",
          "width": 2
         },
         "lon": [
          -0.1275,
          -0.1182,
          -0.075,
          -0.0462,
          -0.0266,
          -0.0026,
          0.0077,
          0.0554,
          0.09,
          0.1778,
          0.2534,
          0.2956,
          0.37,
          0.4244,
          0.504,
          0.6095,
          0.7978,
          0.8165,
          1.026,
          1.13,
          1.4046,
          1.4191,
          1.4394,
          2.3775,
          2.5917,
          3.0,
          3.2242,
          3.5639,
          3.61,
          4.47,
          4.7611,
          5.5,
          6.2667,
          6.5333,
          6.6006,
          6.8514,
          6.9253,
          7.1,
          7.2167,
          7.219,
          7.3167,
          7.4653,
          7.6889,
          7.7658,
          7.9139,
          8.1092,
          8.4333,
          8.7,
          8.85,
          9.14,
          9.3872,
          9.4167,
          9.5,
          9.65,
          9.9356,
          10.2597,
          10.5522,
          10.7911,
          11.1428,
          11.3,
          11.4547,
          11.6167,
          11.9697,
          12.1596,
          12.3425,
          12.6358,
          13.0056,
          13.4,
          13.8,
          14.0167,
          14.0997,
          14.3794,
          14.6331,
          15.1333,
          15.5667,
          15.9333,
          16.7081,
          17.0614,
          17.4357,
          18.75,
          19.6833,
          20.2833,
          21.1567,
          21.8614,
          22.6,
          22.8833,
          24.0808,
          24.9606,
          25.27,
          26.4431,
          26.5667,
          27.6481,
          28.8081,
          30.0989,
          31.3,
          32.2167,
          33.9078,
          34.6833,
          35.2667,
          35.65,
          36.1872,
          37.55,
          39.0333,
          39.2106,
          39.2167,
          40.0322,
          40.8,
          42.0833,
          43.1667,
          44.45,
          46.0,
          46.1167,
          46.75,
          48.2833,
          51.3667,
          55.1,
          57.35,
          58.4543,
          58.5441,
          59.8667,
          61.1989,
          62.5749,
          66.3775,
          69.8328,
          71.7099,
          73.1049,
          75.3266,
          76.9167,
          76.9564,
          78.1499,
          81.2,
          82.1874,
          84.9833,
          85.96,
          87.8667,
          90.0833,
          91.4,
          92.9,
          94.45,
          100.1614,
          103.7061,
          104.1561,
          106.5167,
          110.45,
          116.0333,
          116.6333,
          117.7167,
          121.5167,
          123.7167,
          127.5364,
          128.1333,
          128.4833,
          129.4333,
          133.0241,
          137.0,
          140.7833,
          143.1667,
          143.3542,
          143.5281,
          144.2736,
          144.6708,
          156.1167,
          156.3594,
          158.4,
          158.65,
          162.435,
          164.172,
          165.8183,
          169.05,
          179.3067,
          -179.59,
          -171.8166,
          -147.6957,
          -147.3955,
          -147.3877,
          -123.75,
          -117.2897,
          -114.7706,
          -113.8511,
          -113.2133,
          -110.75,
          -108.4358,
          -105.3,
          -101.8778,
          -97.8553,
          -97.0297,
          -96.6742,
          -94.4833,
          -91.9167,
          -89.2461,
          -87.4082,
          -84.35,
          -81.3333,
          -79.2,
          -78.1167,
          -74.3667,
          -71.65,
          -70.15,
          -68.18,
          -66.5,
          -64.4833,
          -61.8667,
          -57.4269,
          -53.2783,
          -52.8506,
          -45.4166,
          -22.5819,
          -21.7667,
          -15.2167,
          -7.3066,
          -7.1498,
          -6.8823,
          -6.805,
          -6.745,
          -6.709,
          -6.6813,
          -6.6623,
          -1.145,
          -0.937,
          -0.2893,
          -0.068,
          -0.0598,
          -0.0202,
          -0.0026,
          0.0077,
          -0.1275
         ],
         "marker": {
          "color": [
           "orange",
           " #ffb84d",
           " #ffb84d",
           " #ffb84d",
           " #ffb84d",
           " #ffb84d",
           " #ffb84d",
           " #ffb84d",
           " #ffb84d",
           " #ffb84d",
           " #ffb84d",
           " #ffb84d",
           " #ffb84d",
           " #ffb84d",
           " #ffb84d",
           " #ffb84d",
           " #ffb84d",
           " #ffb84d",
           " #ffb84d",
           " #ffb84d",
           " #ffb84d",
           " #ffb84d",
           " #ffb84d",
           " #ffb84d",
           " #ffb84d",
           " #ffb84d",
           " #ffb84d",
           " #ffb84d",
           " #ffb84d",
           " #ffb84d",
           " #ffb84d",
           " #ffb84d",
           " #ffb84d",
           " #ffb84d",
           " #ffb84d",
           " #ffb84d",
           " #ffb84d",
           " #ffb84d",
           " #ffb84d",
           " #ffb84d",
           " #ffb84d",
           " #ffb84d",
           " #ffb84d",
           " #ffb84d",
           " #ffb84d",
           " #ffb84d",
           " #ffb84d",
           " #ffb84d",
           " #ffb84d",
           " #ffb84d",
           " #ffb84d",
           " #ffb84d",
           " #ffb84d",
           " #ffb84d",
           " #ffb84d",
           " #ffb84d",
           " #ffb84d",
           " #ffb84d",
           " #ffb84d",
           " #ffb84d",
           " #ffb84d",
           " #ffb84d",
           " #ffb84d",
           " #ffb84d",
           " #ffb84d",
           " #ffb84d",
           " #ffb84d",
           " #ffb84d",
           " #ffb84d",
           " #ffb84d",
           " #ffb84d",
           " #ffb84d",
           " #ffb84d",
           " #ffb84d",
           " #ffb84d",
           " #ffb84d",
           " #ffb84d",
           " #ffb84d",
           " #ffb84d",
           " #ffb84d",
           " #ffb84d",
           " #ffb84d",
           " #ffb84d",
           " #ffb84d",
           " #ffb84d",
           " #ffb84d",
           " #ffb84d",
           " #ffb84d",
           " #ffb84d",
           " #ffb84d",
           " #ffb84d",
           " #ffb84d",
           " #ffb84d",
           " #ffb84d",
           " #ffb84d",
           " #ffb84d",
           " #ffb84d",
           " #ffb84d",
           " #ffb84d",
           " #ffb84d",
           " #ffb84d",
           " #ffb84d",
           " #ffb84d",
           " #ffb84d",
           " #ffb84d",
           " #ffb84d",
           " #ffb84d",
           " #ffb84d",
           " #ffb84d",
           " #ffb84d",
           " #ffb84d",
           " #ffb84d",
           " #ffb84d",
           " #ffb84d",
           " #ffb84d",
           " #ffb84d",
           " #ffb84d",
           " #ffb84d",
           " #ffb84d",
           " #ffb84d",
           " #ffb84d",
           " #ffb84d",
           " #ffb84d",
           " #ffb84d",
           " #ffb84d",
           " #ffb84d",
           " #ffb84d",
           " #ffb84d",
           " #ffb84d",
           " #ffb84d",
           " #ffb84d",
           " #ffb84d",
           " #ffb84d",
           " #ffb84d",
           " #ffb84d",
           " #ffb84d",
           " #ffb84d",
           " #ffb84d",
           " #ffb84d",
           " #ffb84d",
           " #ffb84d",
           " #ffb84d",
           " #ffb84d",
           " #ffb84d",
           " #ffb84d",
           " #ffb84d",
           " #ffb84d",
           " #ffb84d",
           " #ffb84d",
           " #ffb84d",
           " #ffb84d",
           " #ffb84d",
           " #ffb84d",
           " #ffb84d",
           " #ffb84d",
           " #ffb84d",
           " #ffb84d",
           " #ffb84d",
           " #ffb84d",
           " #ffb84d",
           " #ffb84d",
           " #ffb84d",
           " #ffb84d",
           " #ffb84d",
           " #ffb84d",
           " #ffb84d",
           " #ffb84d",
           " #ffb84d",
           " #ffb84d",
           " #ffb84d",
           " #ffb84d",
           " #ffb84d",
           " #ffb84d",
           " #ffb84d",
           " #ffb84d",
           " #ffb84d",
           " #ffb84d",
           " #ffb84d",
           " #ffb84d",
           " #ffb84d",
           " #ffb84d",
           " #ffb84d",
           " #ffb84d",
           " #ffb84d",
           " #ffb84d",
           " #ffb84d",
           " #ffb84d",
           " #ffb84d",
           " #ffb84d",
           " #ffb84d",
           " #ffb84d",
           " #ffb84d",
           " #ffb84d",
           " #ffb84d",
           " #ffb84d",
           " #ffb84d",
           " #ffb84d",
           " #ffb84d",
           " #ffb84d",
           " #ffb84d",
           " #ffb84d",
           " #ffb84d",
           " #ffb84d",
           " #ffb84d",
           " #ffb84d",
           " #ffb84d",
           " #ffb84d",
           " #ffb84d",
           " #ffb84d",
           " #ffb84d",
           " #ffb84d",
           " #ffb84d",
           " #ffb84d",
           " #ffb84d",
           " #ffb84d",
           " #ffb84d",
           " #ffb84d",
           " #ffb84d",
           " #ffb84d",
           " #ffb84d",
           " #ffb84d",
           " #ffb84d",
           " #ffb84d",
           " #ffb84d",
           " #ffb84d",
           "red"
          ],
          "size": 8
         },
         "mode": "lines+markers",
         "text": [
          "City: London",
          "City: Holborn",
          "City: Spitalfields",
          "City: Stepney",
          "City: Hackney",
          "City: Stratford",
          "City: West Ham",
          "City: East Ham",
          "City: Plumstead",
          "City: Erith",
          "City: Aveley",
          "City: South Ockendon",
          "City: Orsett",
          "City: Stanford le Hope",
          "City: Pitsea",
          "City: Hadleigh",
          "City: Shoeburyness",
          "City: Great Wakering",
          "City: Whitstable",
          "City: Herne Bay",
          "City: Cliftonville",
          "City: Saint Peters",
          "City: Broadstairs",
          "City: Dunkerque",
          "City: De Panne",
          "City: Oudenburg",
          "City: Bruges",
          "City: Eeklo",
          "City: Middelburg",
          "City: Essen",
          "City: Hoogstraten",
          "City: Eindhoven",
          "City: Straelen",
          "City: Kamp-Lintfort",
          "City: Rheinberg",
          "City: Oberhausen",
          "City: Bottrop",
          "City: Gelsenkirchen",
          "City: Bochum",
          "City: Herne",
          "City: Castrop-Rauxel",
          "City: Dortmund",
          "City: Unna",
          "City: Fröndenberg",
          "City: Werl",
          "City: Soest",
          "City: Rüthen",
          "City: Wünnenberg",
          "City: Marsberg",
          "City: Warburg",
          "City: Hofgeismar",
          "City: Grebenstein",
          "City: Immenhausen",
          "City: Hannoversch Münden",
          "City: Göttingen",
          "City: Duderstadt",
          "City: Bad Sachsa",
          "City: Nordhausen",
          "City: Harzgerode",
          "City: Sangerhausen",
          "City: Mansfeld",
          "City: Gerbstedt",
          "City: Halle",
          "City: Landsberg",
          "City: Delitzsch",
          "City: Eilenburg",
          "City: Torgau",
          "City: Bad Liebenwerda",
          "City: Lauchhammer",
          "City: Senftenberg",
          "City: Lauta",
          "City: Spremberg",
          "City: Weißwasser",
          "City: Żary",
          "City: Bolesławiec",
          "City: Chojnów",
          "City: Brzeg Dolny",
          "City: Trzebnica",
          "City: Krotoszyn",
          "City: Sieradz",
          "City: Piotrków Trybunalski",
          "City: Opoczno",
          "City: Radom",
          "City: Dęblin",
          "City: Lubartów",
          "City: Łęczna",
          "City: Malaryta",
          "City: Kamin’-Kashyrs’kyy",
          "City: Rozhyshche",
          "City: Kostopil’",
          "City: Dubrovytsya",
          "City: Olevsk",
          "City: Ovruch",
          "City: Cheremoshna",
          "City: Chernihiv",
          "City: Mena",
          "City: Hlukhiv",
          "City: Rylsk",
          "City: Lgov",
          "City: Kurchatov",
          "City: Kursk",
          "City: Gubkin",
          "City: Semiluki",
          "City: Voronezh",
          "City: Novovoronezh",
          "City: Bobrov",
          "City: Ertil",
          "City: Borisoglebsk",
          "City: Balashov",
          "City: Kalininsk",
          "City: Saratov",
          "City: Engels",
          "City: Marks",
          "City: Yershov",
          "City: Oral",
          "City: Orenburg",
          "City: Kuvandyk",
          "City: Gay",
          "City: Orsk",
          "City: Yasnyy",
          "City: Zhitiqara",
          "City: Tobyl",
          "City: Esil",
          "City: Zhaltyr",
          "City: Zholymbet",
          "City: Ereymentaū",
          "City: Ekibastuz",
          "City: Aqsū",
          "City: Pavlodar",
          "City: Sharbaqty",
          "City: Rubtsovsk",
          "City: Zmeinogorsk",
          "City: Belokurikha",
          "City: Gorno-Altaysk",
          "City: Tashtagol",
          "City: Abaza",
          "City: Sayanogorsk",
          "City: Shagonar",
          "City: Kyzyl",
          "City: Mörön",
          "City: Slyudyanka",
          "City: Baykalsk",
          "City: Gusinoozërsk",
          "City: Khilok",
          "City: Shilka",
          "City: Baley",
          "City: Sretensk",
          "City: Genhe",
          "City: Oroqen Zizhiqi",
          "City: Blagoveshchensk",
          "City: Svobodnyy",
          "City: Belogorsk",
          "City: Zavitinsk",
          "City: Chegdomyn",
          "City: Komsomol’sk-na-Amure",
          "City: De-Kastri",
          "City: Nogliki",
          "City: Mobetsu",
          "City: Mukaiengaru",
          "City: Abashiri",
          "City: Honmachi",
          "City: Severo-Kuril’sk",
          "City: Bol’sheretsk",
          "City: Vilyuchinsk",
          "City: Petropavlovsk-Kamchatskiy",
          "City: Ust’-Kamchatsk",
          "City: Il’pyrskiy",
          "City: Korf",
          "City: Pakhachi",
          "City: Beringovskiy",
          "City: Zvëzdnyy",
          "City: Enurmino",
          "City: Farmers Loop",
          "City: Steele Creek",
          "City: Badger",
          "City: Northern Rockies",
          "City: Peace River",
          "City: Slave Lake",
          "City: Westlock",
          "City: Fort Saskatchewan",
          "City: Bonnyville",
          "City: Meadow Lake",
          "City: La Ronge",
          "City: Flin Flon",
          "City: Thompson",
          "City: Gimli",
          "City: St. Clements",
          "City: Kenora",
          "City: Sioux Lookout",
          "City: Thunder Bay",
          "City: Marquette",
          "City: Sault Ste. Marie",
          "City: Timmins",
          "City: La Sarre",
          "City: Amos",
          "City: Chibougamau",
          "City: Alma",
          "City: La Malbaie",
          "City: Mont-Joli",
          "City: Sainte-Anne-des-Monts",
          "City: Gaspé",
          "City: Les Îles-de-la-Madeleine",
          "City: Deer Lake",
          "City: Bay Roberts",
          "City: Portugal Cove-St. Philip's",
          "City: Narsarsuaq",
          "City: Keflavík",
          "City: Kópavogur",
          "City: Höfn",
          "City: Sørvágur",
          "City: Sandavágur",
          "City: Skopun",
          "City: Skúvoy",
          "City: Porkeri",
          "City: Sumba",
          "City: Húsavík",
          "City: Skálavík",
          "City: Lerwick",
          "City: Brotton",
          "City: Filey",
          "City: Grimsby",
          "City: Kirton",
          "City: Royston",
          "City: Stratford",
          "City: West Ham",
          "City: London"
         ],
         "type": "scattergeo"
        }
       ],
       "layout": {
        "geo": {
         "countrycolor": "rgb(0, 0, 0)",
         "landcolor": "#267326",
         "oceancolor": "#80bfff",
         "projection": {
          "type": "orthographic"
         },
         "showland": true,
         "showocean": true
        },
        "template": {
         "data": {
          "candlestick": [
           {
            "decreasing": {
             "line": {
              "color": "#000033"
             }
            },
            "increasing": {
             "line": {
              "color": "#000032"
             }
            },
            "type": "candlestick"
           }
          ],
          "contourcarpet": [
           {
            "colorscale": [
             [
              0.0,
              "#000011"
             ],
             [
              0.1111111111111111,
              "#000012"
             ],
             [
              0.2222222222222222,
              "#000013"
             ],
             [
              0.3333333333333333,
              "#000014"
             ],
             [
              0.4444444444444444,
              "#000015"
             ],
             [
              0.5555555555555556,
              "#000016"
             ],
             [
              0.6666666666666666,
              "#000017"
             ],
             [
              0.7777777777777778,
              "#000018"
             ],
             [
              0.8888888888888888,
              "#000019"
             ],
             [
              1.0,
              "#000020"
             ]
            ],
            "type": "contourcarpet"
           }
          ],
          "contour": [
           {
            "colorscale": [
             [
              0.0,
              "#000011"
             ],
             [
              0.1111111111111111,
              "#000012"
             ],
             [
              0.2222222222222222,
              "#000013"
             ],
             [
              0.3333333333333333,
              "#000014"
             ],
             [
              0.4444444444444444,
              "#000015"
             ],
             [
              0.5555555555555556,
              "#000016"
             ],
             [
              0.6666666666666666,
              "#000017"
             ],
             [
              0.7777777777777778,
              "#000018"
             ],
             [
              0.8888888888888888,
              "#000019"
             ],
             [
              1.0,
              "#000020"
             ]
            ],
            "type": "contour"
           }
          ],
          "heatmap": [
           {
            "colorscale": [
             [
              0.0,
              "#000011"
             ],
             [
              0.1111111111111111,
              "#000012"
             ],
             [
              0.2222222222222222,
              "#000013"
             ],
             [
              0.3333333333333333,
              "#000014"
             ],
             [
              0.4444444444444444,
              "#000015"
             ],
             [
              0.5555555555555556,
              "#000016"
             ],
             [
              0.6666666666666666,
              "#000017"
             ],
             [
              0.7777777777777778,
              "#000018"
             ],
             [
              0.8888888888888888,
              "#000019"
             ],
             [
              1.0,
              "#000020"
             ]
            ],
            "type": "heatmap"
           }
          ],
          "histogram2d": [
           {
            "colorscale": [
             [
              0.0,
              "#000011"
             ],
             [
              0.1111111111111111,
              "#000012"
             ],
             [
              0.2222222222222222,
              "#000013"
             ],
             [
              0.3333333333333333,
              "#000014"
             ],
             [
              0.4444444444444444,
              "#000015"
             ],
             [
              0.5555555555555556,
              "#000016"
             ],
             [
              0.6666666666666666,
              "#000017"
             ],
             [
              0.7777777777777778,
              "#000018"
             ],
             [
              0.8888888888888888,
              "#000019"
             ],
             [
              1.0,
              "#000020"
             ]
            ],
            "type": "histogram2d"
           }
          ],
          "icicle": [
           {
            "textfont": {
             "color": "white"
            },
            "type": "icicle"
           }
          ],
          "sankey": [
           {
            "textfont": {
             "color": "#000036"
            },
            "type": "sankey"
           }
          ],
          "scatter": [
           {
            "marker": {
             "line": {
              "width": 0
             }
            },
            "type": "scatter"
           }
          ],
          "table": [
           {
            "cells": {
             "fill": {
              "color": "#000038"
             },
             "font": {
              "color": "#000037"
             },
             "line": {
              "color": "#000039"
             }
            },
            "header": {
             "fill": {
              "color": "#000040"
             },
             "font": {
              "color": "#000036"
             },
             "line": {
              "color": "#000039"
             }
            },
            "type": "table"
           }
          ],
          "waterfall": [
           {
            "connector": {
             "line": {
              "color": "#000036",
              "width": 2
             }
            },
            "decreasing": {
             "marker": {
              "color": "#000033"
             }
            },
            "increasing": {
             "marker": {
              "color": "#000032"
             }
            },
            "totals": {
             "marker": {
              "color": "#000034"
             }
            },
            "type": "waterfall"
           }
          ]
         },
         "layout": {
          "coloraxis": {
           "colorscale": [
            [
             0.0,
             "#000011"
            ],
            [
             0.1111111111111111,
             "#000012"
            ],
            [
             0.2222222222222222,
             "#000013"
            ],
            [
             0.3333333333333333,
             "#000014"
            ],
            [
             0.4444444444444444,
             "#000015"
            ],
            [
             0.5555555555555556,
             "#000016"
            ],
            [
             0.6666666666666666,
             "#000017"
            ],
            [
             0.7777777777777778,
             "#000018"
            ],
            [
             0.8888888888888888,
             "#000019"
            ],
            [
             1.0,
             "#000020"
            ]
           ]
          },
          "colorscale": {
           "diverging": [
            [
             0.0,
             "#000021"
            ],
            [
             0.1,
             "#000022"
            ],
            [
             0.2,
             "#000023"
            ],
            [
             0.3,
             "#000024"
            ],
            [
             0.4,
             "#000025"
            ],
            [
             0.5,
             "#000026"
            ],
            [
             0.6,
             "#000027"
            ],
            [
             0.7,
             "#000028"
            ],
            [
             0.8,
             "#000029"
            ],
            [
             0.9,
             "#000030"
            ],
            [
             1.0,
             "#000031"
            ]
           ],
           "sequential": [
            [
             0.0,
             "#000011"
            ],
            [
             0.1111111111111111,
             "#000012"
            ],
            [
             0.2222222222222222,
             "#000013"
            ],
            [
             0.3333333333333333,
             "#000014"
            ],
            [
             0.4444444444444444,
             "#000015"
            ],
            [
             0.5555555555555556,
             "#000016"
            ],
            [
             0.6666666666666666,
             "#000017"
            ],
            [
             0.7777777777777778,
             "#000018"
            ],
            [
             0.8888888888888888,
             "#000019"
            ],
            [
             1.0,
             "#000020"
            ]
           ],
           "sequentialminus": [
            [
             0.0,
             "#000011"
            ],
            [
             0.1111111111111111,
             "#000012"
            ],
            [
             0.2222222222222222,
             "#000013"
            ],
            [
             0.3333333333333333,
             "#000014"
            ],
            [
             0.4444444444444444,
             "#000015"
            ],
            [
             0.5555555555555556,
             "#000016"
            ],
            [
             0.6666666666666666,
             "#000017"
            ],
            [
             0.7777777777777778,
             "#000018"
            ],
            [
             0.8888888888888888,
             "#000019"
            ],
            [
             1.0,
             "#000020"
            ]
           ]
          },
          "colorway": [
           "#000001",
           "#000002",
           "#000003",
           "#000004",
           "#000005",
           "#000006",
           "#000007",
           "#000008",
           "#000009",
           "#000010"
          ]
         }
        },
        "title": {
         "font": {
          "size": 20
         },
         "text": "Path on 3D Globe",
         "x": 0.5,
         "xanchor": "center"
        },
        "margin": {
         "r": 0,
         "t": 0,
         "l": 0,
         "b": 0
        },
        "height": 800
       },
       "config": {
        "plotlyServerURL": "https://plot.ly"
       }
      },
      "text/html": "<div>                            <div id=\"4c2411d8-0e90-453c-ac7b-a34fab941092\" class=\"plotly-graph-div\" style=\"height:800px; width:100%;\"></div>            <script type=\"text/javascript\">                require([\"plotly\"], function(Plotly) {                    window.PLOTLYENV=window.PLOTLYENV || {};                                    if (document.getElementById(\"4c2411d8-0e90-453c-ac7b-a34fab941092\")) {                    Plotly.newPlot(                        \"4c2411d8-0e90-453c-ac7b-a34fab941092\",                        [{\"lat\":[51.5072,51.5172,51.5166,51.5152,51.5414,51.5423,51.5347,51.5323,51.49,51.48,51.5018,51.5207,51.51,51.514,51.569,51.5535,51.5316,51.5516,51.361,51.37,51.3881,51.3651,51.3589,51.0383,51.1019,51.1833,51.2089,51.1858,51.502,51.4678,51.4008,51.43,51.45,51.5,51.5467,51.4699,51.5232,51.5167,51.4833,51.5426,51.55,51.5139,51.5347,51.4719,51.5528,51.5711,51.4933,51.5167,51.45,51.4881,51.496,51.45,51.4167,51.4167,51.5339,51.5125,51.5969,51.505,51.6417,51.4667,51.5942,51.6331,51.4828,51.5246,51.5264,51.4608,51.5603,51.5167,51.5,51.5167,51.4481,51.5717,51.5,51.6333,51.2667,51.2667,51.273,51.305,51.697,51.6,51.4,51.3833,51.4036,51.5667,51.4667,51.3,51.7972,51.6242,50.9131,50.8833,51.5667,51.2278,51.3244,51.3894,51.5,51.5167,51.6765,51.5667,51.6667,51.6667,51.7372,51.2833,51.6833,51.6717,51.3167,51.0944,51.8333,51.3667,51.55,51.5,51.5333,51.4667,51.7,51.35,51.2333,51.7667,51.4833,51.4747,51.2145,51.0333,52.1902,52.698,51.957,51.6324,51.7502,51.6303,51.7298,52.0333,52.3156,52.4999,51.5167,51.158,52.0,51.96,52.7667,52.65,53.1,51.5333,51.7167,49.6375,51.6594,51.5172,51.2833,51.35,51.85,51.5833,52.25,50.7833,50.5667,50.2578,51.3833,50.9167,50.1167,51.1178,50.55,51.4666,51.8333,44.3564,44.0617,44.0206,43.9114,50.6833,52.439,52.9333,53.0167,56.2135,59.9674,60.3321,60.5816,63.0655,70.9566,66.95,64.9061,64.9295,64.8006,59.0,56.2339,55.2853,54.1522,53.7128,54.2667,54.1242,55.1,54.7667,55.7433,50.6619,50.2689,49.7667,50.1,48.3822,46.544,46.5333,48.4667,48.8,48.5667,49.9167,48.55,47.65,48.58,49.1333,48.8333,47.3833,49.1744,47.5847,47.6272,61.1666,64.0,64.1167,64.25,62.0717,62.0537,61.9028,61.771,61.4814,61.4055,61.8099,61.8314,60.155,54.568,54.2101,53.5595,52.9278,52.0471,51.5423,51.5347,51.5072],\"line\":{\"color\":\"black\",\"width\":2},\"lon\":[-0.1275,-0.1182,-0.075,-0.0462,-0.0266,-0.0026,0.0077,0.0554,0.09,0.1778,0.2534,0.2956,0.37,0.4244,0.504,0.6095,0.7978,0.8165,1.026,1.13,1.4046,1.4191,1.4394,2.3775,2.5917,3.0,3.2242,3.5639,3.61,4.47,4.7611,5.5,6.2667,6.5333,6.6006,6.8514,6.9253,7.1,7.2167,7.219,7.3167,7.4653,7.6889,7.7658,7.9139,8.1092,8.4333,8.7,8.85,9.14,9.3872,9.4167,9.5,9.65,9.9356,10.2597,10.5522,10.7911,11.1428,11.3,11.4547,11.6167,11.9697,12.1596,12.3425,12.6358,13.0056,13.4,13.8,14.0167,14.0997,14.3794,14.6331,15.1333,15.5667,15.9333,16.7081,17.0614,17.4357,18.75,19.6833,20.2833,21.1567,21.8614,22.6,22.8833,24.0808,24.9606,25.27,26.4431,26.5667,27.6481,28.8081,30.0989,31.3,32.2167,33.9078,34.6833,35.2667,35.65,36.1872,37.55,39.0333,39.2106,39.2167,40.0322,40.8,42.0833,43.1667,44.45,46.0,46.1167,46.75,48.2833,51.3667,55.1,57.35,58.4543,58.5441,59.8667,61.1989,62.5749,66.3775,69.8328,71.7099,73.1049,75.3266,76.9167,76.9564,78.1499,81.2,82.1874,84.9833,85.96,87.8667,90.0833,91.4,92.9,94.45,100.1614,103.7061,104.1561,106.5167,110.45,116.0333,116.6333,117.7167,121.5167,123.7167,127.5364,128.1333,128.4833,129.4333,133.0241,137.0,140.7833,143.1667,143.3542,143.5281,144.2736,144.6708,156.1167,156.3594,158.4,158.65,162.435,164.172,165.8183,169.05,179.3067,-179.59,-171.8166,-147.6957,-147.3955,-147.3877,-123.75,-117.2897,-114.7706,-113.8511,-113.2133,-110.75,-108.4358,-105.3,-101.8778,-97.8553,-97.0297,-96.6742,-94.4833,-91.9167,-89.2461,-87.4082,-84.35,-81.3333,-79.2,-78.1167,-74.3667,-71.65,-70.15,-68.18,-66.5,-64.4833,-61.8667,-57.4269,-53.2783,-52.8506,-45.4166,-22.5819,-21.7667,-15.2167,-7.3066,-7.1498,-6.8823,-6.805,-6.745,-6.709,-6.6813,-6.6623,-1.145,-0.937,-0.2893,-0.068,-0.0598,-0.0202,-0.0026,0.0077,-0.1275],\"marker\":{\"color\":[\"orange\",\" #ffb84d\",\" #ffb84d\",\" #ffb84d\",\" #ffb84d\",\" #ffb84d\",\" #ffb84d\",\" #ffb84d\",\" #ffb84d\",\" #ffb84d\",\" #ffb84d\",\" #ffb84d\",\" #ffb84d\",\" #ffb84d\",\" #ffb84d\",\" #ffb84d\",\" #ffb84d\",\" #ffb84d\",\" #ffb84d\",\" #ffb84d\",\" #ffb84d\",\" #ffb84d\",\" #ffb84d\",\" #ffb84d\",\" #ffb84d\",\" #ffb84d\",\" #ffb84d\",\" #ffb84d\",\" #ffb84d\",\" #ffb84d\",\" #ffb84d\",\" #ffb84d\",\" #ffb84d\",\" #ffb84d\",\" #ffb84d\",\" #ffb84d\",\" #ffb84d\",\" #ffb84d\",\" #ffb84d\",\" #ffb84d\",\" #ffb84d\",\" #ffb84d\",\" #ffb84d\",\" #ffb84d\",\" #ffb84d\",\" #ffb84d\",\" #ffb84d\",\" #ffb84d\",\" #ffb84d\",\" #ffb84d\",\" #ffb84d\",\" #ffb84d\",\" #ffb84d\",\" #ffb84d\",\" #ffb84d\",\" #ffb84d\",\" #ffb84d\",\" #ffb84d\",\" #ffb84d\",\" #ffb84d\",\" #ffb84d\",\" #ffb84d\",\" #ffb84d\",\" #ffb84d\",\" #ffb84d\",\" #ffb84d\",\" #ffb84d\",\" #ffb84d\",\" #ffb84d\",\" #ffb84d\",\" #ffb84d\",\" #ffb84d\",\" #ffb84d\",\" #ffb84d\",\" #ffb84d\",\" #ffb84d\",\" #ffb84d\",\" #ffb84d\",\" #ffb84d\",\" #ffb84d\",\" #ffb84d\",\" #ffb84d\",\" #ffb84d\",\" #ffb84d\",\" #ffb84d\",\" #ffb84d\",\" #ffb84d\",\" #ffb84d\",\" #ffb84d\",\" #ffb84d\",\" #ffb84d\",\" #ffb84d\",\" #ffb84d\",\" #ffb84d\",\" #ffb84d\",\" #ffb84d\",\" #ffb84d\",\" #ffb84d\",\" #ffb84d\",\" #ffb84d\",\" #ffb84d\",\" #ffb84d\",\" #ffb84d\",\" #ffb84d\",\" #ffb84d\",\" #ffb84d\",\" #ffb84d\",\" #ffb84d\",\" #ffb84d\",\" #ffb84d\",\" #ffb84d\",\" #ffb84d\",\" #ffb84d\",\" #ffb84d\",\" #ffb84d\",\" #ffb84d\",\" #ffb84d\",\" #ffb84d\",\" #ffb84d\",\" #ffb84d\",\" #ffb84d\",\" #ffb84d\",\" #ffb84d\",\" #ffb84d\",\" #ffb84d\",\" #ffb84d\",\" #ffb84d\",\" #ffb84d\",\" #ffb84d\",\" #ffb84d\",\" #ffb84d\",\" #ffb84d\",\" #ffb84d\",\" #ffb84d\",\" #ffb84d\",\" #ffb84d\",\" #ffb84d\",\" #ffb84d\",\" #ffb84d\",\" #ffb84d\",\" #ffb84d\",\" #ffb84d\",\" #ffb84d\",\" #ffb84d\",\" #ffb84d\",\" #ffb84d\",\" #ffb84d\",\" #ffb84d\",\" #ffb84d\",\" #ffb84d\",\" #ffb84d\",\" #ffb84d\",\" #ffb84d\",\" #ffb84d\",\" #ffb84d\",\" #ffb84d\",\" #ffb84d\",\" #ffb84d\",\" #ffb84d\",\" #ffb84d\",\" #ffb84d\",\" #ffb84d\",\" #ffb84d\",\" #ffb84d\",\" #ffb84d\",\" #ffb84d\",\" #ffb84d\",\" #ffb84d\",\" #ffb84d\",\" #ffb84d\",\" #ffb84d\",\" #ffb84d\",\" #ffb84d\",\" #ffb84d\",\" #ffb84d\",\" #ffb84d\",\" #ffb84d\",\" #ffb84d\",\" #ffb84d\",\" #ffb84d\",\" #ffb84d\",\" #ffb84d\",\" #ffb84d\",\" #ffb84d\",\" #ffb84d\",\" #ffb84d\",\" #ffb84d\",\" #ffb84d\",\" #ffb84d\",\" #ffb84d\",\" #ffb84d\",\" #ffb84d\",\" #ffb84d\",\" #ffb84d\",\" #ffb84d\",\" #ffb84d\",\" #ffb84d\",\" #ffb84d\",\" #ffb84d\",\" #ffb84d\",\" #ffb84d\",\" #ffb84d\",\" #ffb84d\",\" #ffb84d\",\" #ffb84d\",\" #ffb84d\",\" #ffb84d\",\" #ffb84d\",\" #ffb84d\",\" #ffb84d\",\" #ffb84d\",\" #ffb84d\",\" #ffb84d\",\" #ffb84d\",\" #ffb84d\",\" #ffb84d\",\" #ffb84d\",\" #ffb84d\",\" #ffb84d\",\" #ffb84d\",\" #ffb84d\",\" #ffb84d\",\" #ffb84d\",\" #ffb84d\",\" #ffb84d\",\"red\"],\"size\":8},\"mode\":\"lines+markers\",\"text\":[\"City: London\",\"City: Holborn\",\"City: Spitalfields\",\"City: Stepney\",\"City: Hackney\",\"City: Stratford\",\"City: West Ham\",\"City: East Ham\",\"City: Plumstead\",\"City: Erith\",\"City: Aveley\",\"City: South Ockendon\",\"City: Orsett\",\"City: Stanford le Hope\",\"City: Pitsea\",\"City: Hadleigh\",\"City: Shoeburyness\",\"City: Great Wakering\",\"City: Whitstable\",\"City: Herne Bay\",\"City: Cliftonville\",\"City: Saint Peters\",\"City: Broadstairs\",\"City: Dunkerque\",\"City: De Panne\",\"City: Oudenburg\",\"City: Bruges\",\"City: Eeklo\",\"City: Middelburg\",\"City: Essen\",\"City: Hoogstraten\",\"City: Eindhoven\",\"City: Straelen\",\"City: Kamp-Lintfort\",\"City: Rheinberg\",\"City: Oberhausen\",\"City: Bottrop\",\"City: Gelsenkirchen\",\"City: Bochum\",\"City: Herne\",\"City: Castrop-Rauxel\",\"City: Dortmund\",\"City: Unna\",\"City: Fr\\u00f6ndenberg\",\"City: Werl\",\"City: Soest\",\"City: R\\u00fcthen\",\"City: W\\u00fcnnenberg\",\"City: Marsberg\",\"City: Warburg\",\"City: Hofgeismar\",\"City: Grebenstein\",\"City: Immenhausen\",\"City: Hannoversch M\\u00fcnden\",\"City: G\\u00f6ttingen\",\"City: Duderstadt\",\"City: Bad Sachsa\",\"City: Nordhausen\",\"City: Harzgerode\",\"City: Sangerhausen\",\"City: Mansfeld\",\"City: Gerbstedt\",\"City: Halle\",\"City: Landsberg\",\"City: Delitzsch\",\"City: Eilenburg\",\"City: Torgau\",\"City: Bad Liebenwerda\",\"City: Lauchhammer\",\"City: Senftenberg\",\"City: Lauta\",\"City: Spremberg\",\"City: Wei\\u00dfwasser\",\"City: \\u017bary\",\"City: Boles\\u0142awiec\",\"City: Chojn\\u00f3w\",\"City: Brzeg Dolny\",\"City: Trzebnica\",\"City: Krotoszyn\",\"City: Sieradz\",\"City: Piotrk\\u00f3w Trybunalski\",\"City: Opoczno\",\"City: Radom\",\"City: D\\u0119blin\",\"City: Lubart\\u00f3w\",\"City: \\u0141\\u0119czna\",\"City: Malaryta\",\"City: Kamin\\u2019-Kashyrs\\u2019kyy\",\"City: Rozhyshche\",\"City: Kostopil\\u2019\",\"City: Dubrovytsya\",\"City: Olevsk\",\"City: Ovruch\",\"City: Cheremoshna\",\"City: Chernihiv\",\"City: Mena\",\"City: Hlukhiv\",\"City: Rylsk\",\"City: Lgov\",\"City: Kurchatov\",\"City: Kursk\",\"City: Gubkin\",\"City: Semiluki\",\"City: Voronezh\",\"City: Novovoronezh\",\"City: Bobrov\",\"City: Ertil\",\"City: Borisoglebsk\",\"City: Balashov\",\"City: Kalininsk\",\"City: Saratov\",\"City: Engels\",\"City: Marks\",\"City: Yershov\",\"City: Oral\",\"City: Orenburg\",\"City: Kuvandyk\",\"City: Gay\",\"City: Orsk\",\"City: Yasnyy\",\"City: Zhitiqara\",\"City: Tobyl\",\"City: Esil\",\"City: Zhaltyr\",\"City: Zholymbet\",\"City: Ereymenta\\u016b\",\"City: Ekibastuz\",\"City: Aqs\\u016b\",\"City: Pavlodar\",\"City: Sharbaqty\",\"City: Rubtsovsk\",\"City: Zmeinogorsk\",\"City: Belokurikha\",\"City: Gorno-Altaysk\",\"City: Tashtagol\",\"City: Abaza\",\"City: Sayanogorsk\",\"City: Shagonar\",\"City: Kyzyl\",\"City: M\\u00f6r\\u00f6n\",\"City: Slyudyanka\",\"City: Baykalsk\",\"City: Gusinooz\\u00ebrsk\",\"City: Khilok\",\"City: Shilka\",\"City: Baley\",\"City: Sretensk\",\"City: Genhe\",\"City: Oroqen Zizhiqi\",\"City: Blagoveshchensk\",\"City: Svobodnyy\",\"City: Belogorsk\",\"City: Zavitinsk\",\"City: Chegdomyn\",\"City: Komsomol\\u2019sk-na-Amure\",\"City: De-Kastri\",\"City: Nogliki\",\"City: Mobetsu\",\"City: Mukaiengaru\",\"City: Abashiri\",\"City: Honmachi\",\"City: Severo-Kuril\\u2019sk\",\"City: Bol\\u2019sheretsk\",\"City: Vilyuchinsk\",\"City: Petropavlovsk-Kamchatskiy\",\"City: Ust\\u2019-Kamchatsk\",\"City: Il\\u2019pyrskiy\",\"City: Korf\",\"City: Pakhachi\",\"City: Beringovskiy\",\"City: Zv\\u00ebzdnyy\",\"City: Enurmino\",\"City: Farmers Loop\",\"City: Steele Creek\",\"City: Badger\",\"City: Northern Rockies\",\"City: Peace River\",\"City: Slave Lake\",\"City: Westlock\",\"City: Fort Saskatchewan\",\"City: Bonnyville\",\"City: Meadow Lake\",\"City: La Ronge\",\"City: Flin Flon\",\"City: Thompson\",\"City: Gimli\",\"City: St. Clements\",\"City: Kenora\",\"City: Sioux Lookout\",\"City: Thunder Bay\",\"City: Marquette\",\"City: Sault Ste. Marie\",\"City: Timmins\",\"City: La Sarre\",\"City: Amos\",\"City: Chibougamau\",\"City: Alma\",\"City: La Malbaie\",\"City: Mont-Joli\",\"City: Sainte-Anne-des-Monts\",\"City: Gasp\\u00e9\",\"City: Les \\u00celes-de-la-Madeleine\",\"City: Deer Lake\",\"City: Bay Roberts\",\"City: Portugal Cove-St. Philip's\",\"City: Narsarsuaq\",\"City: Keflav\\u00edk\",\"City: K\\u00f3pavogur\",\"City: H\\u00f6fn\",\"City: S\\u00f8rv\\u00e1gur\",\"City: Sandav\\u00e1gur\",\"City: Skopun\",\"City: Sk\\u00favoy\",\"City: Porkeri\",\"City: Sumba\",\"City: H\\u00fasav\\u00edk\",\"City: Sk\\u00e1lav\\u00edk\",\"City: Lerwick\",\"City: Brotton\",\"City: Filey\",\"City: Grimsby\",\"City: Kirton\",\"City: Royston\",\"City: Stratford\",\"City: West Ham\",\"City: London\"],\"type\":\"scattergeo\"}],                        {\"geo\":{\"countrycolor\":\"rgb(0, 0, 0)\",\"landcolor\":\"#267326\",\"oceancolor\":\"#80bfff\",\"projection\":{\"type\":\"orthographic\"},\"showland\":true,\"showocean\":true},\"template\":{\"data\":{\"candlestick\":[{\"decreasing\":{\"line\":{\"color\":\"#000033\"}},\"increasing\":{\"line\":{\"color\":\"#000032\"}},\"type\":\"candlestick\"}],\"contourcarpet\":[{\"colorscale\":[[0.0,\"#000011\"],[0.1111111111111111,\"#000012\"],[0.2222222222222222,\"#000013\"],[0.3333333333333333,\"#000014\"],[0.4444444444444444,\"#000015\"],[0.5555555555555556,\"#000016\"],[0.6666666666666666,\"#000017\"],[0.7777777777777778,\"#000018\"],[0.8888888888888888,\"#000019\"],[1.0,\"#000020\"]],\"type\":\"contourcarpet\"}],\"contour\":[{\"colorscale\":[[0.0,\"#000011\"],[0.1111111111111111,\"#000012\"],[0.2222222222222222,\"#000013\"],[0.3333333333333333,\"#000014\"],[0.4444444444444444,\"#000015\"],[0.5555555555555556,\"#000016\"],[0.6666666666666666,\"#000017\"],[0.7777777777777778,\"#000018\"],[0.8888888888888888,\"#000019\"],[1.0,\"#000020\"]],\"type\":\"contour\"}],\"heatmap\":[{\"colorscale\":[[0.0,\"#000011\"],[0.1111111111111111,\"#000012\"],[0.2222222222222222,\"#000013\"],[0.3333333333333333,\"#000014\"],[0.4444444444444444,\"#000015\"],[0.5555555555555556,\"#000016\"],[0.6666666666666666,\"#000017\"],[0.7777777777777778,\"#000018\"],[0.8888888888888888,\"#000019\"],[1.0,\"#000020\"]],\"type\":\"heatmap\"}],\"histogram2d\":[{\"colorscale\":[[0.0,\"#000011\"],[0.1111111111111111,\"#000012\"],[0.2222222222222222,\"#000013\"],[0.3333333333333333,\"#000014\"],[0.4444444444444444,\"#000015\"],[0.5555555555555556,\"#000016\"],[0.6666666666666666,\"#000017\"],[0.7777777777777778,\"#000018\"],[0.8888888888888888,\"#000019\"],[1.0,\"#000020\"]],\"type\":\"histogram2d\"}],\"icicle\":[{\"textfont\":{\"color\":\"white\"},\"type\":\"icicle\"}],\"sankey\":[{\"textfont\":{\"color\":\"#000036\"},\"type\":\"sankey\"}],\"scatter\":[{\"marker\":{\"line\":{\"width\":0}},\"type\":\"scatter\"}],\"table\":[{\"cells\":{\"fill\":{\"color\":\"#000038\"},\"font\":{\"color\":\"#000037\"},\"line\":{\"color\":\"#000039\"}},\"header\":{\"fill\":{\"color\":\"#000040\"},\"font\":{\"color\":\"#000036\"},\"line\":{\"color\":\"#000039\"}},\"type\":\"table\"}],\"waterfall\":[{\"connector\":{\"line\":{\"color\":\"#000036\",\"width\":2}},\"decreasing\":{\"marker\":{\"color\":\"#000033\"}},\"increasing\":{\"marker\":{\"color\":\"#000032\"}},\"totals\":{\"marker\":{\"color\":\"#000034\"}},\"type\":\"waterfall\"}]},\"layout\":{\"coloraxis\":{\"colorscale\":[[0.0,\"#000011\"],[0.1111111111111111,\"#000012\"],[0.2222222222222222,\"#000013\"],[0.3333333333333333,\"#000014\"],[0.4444444444444444,\"#000015\"],[0.5555555555555556,\"#000016\"],[0.6666666666666666,\"#000017\"],[0.7777777777777778,\"#000018\"],[0.8888888888888888,\"#000019\"],[1.0,\"#000020\"]]},\"colorscale\":{\"diverging\":[[0.0,\"#000021\"],[0.1,\"#000022\"],[0.2,\"#000023\"],[0.3,\"#000024\"],[0.4,\"#000025\"],[0.5,\"#000026\"],[0.6,\"#000027\"],[0.7,\"#000028\"],[0.8,\"#000029\"],[0.9,\"#000030\"],[1.0,\"#000031\"]],\"sequential\":[[0.0,\"#000011\"],[0.1111111111111111,\"#000012\"],[0.2222222222222222,\"#000013\"],[0.3333333333333333,\"#000014\"],[0.4444444444444444,\"#000015\"],[0.5555555555555556,\"#000016\"],[0.6666666666666666,\"#000017\"],[0.7777777777777778,\"#000018\"],[0.8888888888888888,\"#000019\"],[1.0,\"#000020\"]],\"sequentialminus\":[[0.0,\"#000011\"],[0.1111111111111111,\"#000012\"],[0.2222222222222222,\"#000013\"],[0.3333333333333333,\"#000014\"],[0.4444444444444444,\"#000015\"],[0.5555555555555556,\"#000016\"],[0.6666666666666666,\"#000017\"],[0.7777777777777778,\"#000018\"],[0.8888888888888888,\"#000019\"],[1.0,\"#000020\"]]},\"colorway\":[\"#000001\",\"#000002\",\"#000003\",\"#000004\",\"#000005\",\"#000006\",\"#000007\",\"#000008\",\"#000009\",\"#000010\"]}},\"title\":{\"font\":{\"size\":20},\"text\":\"Path on 3D Globe\",\"x\":0.5,\"xanchor\":\"center\"},\"margin\":{\"r\":0,\"t\":0,\"l\":0,\"b\":0},\"height\":800},                        {\"responsive\": true}                    ).then(function(){\n                            \nvar gd = document.getElementById('4c2411d8-0e90-453c-ac7b-a34fab941092');\nvar x = new MutationObserver(function (mutations, observer) {{\n        var display = window.getComputedStyle(gd).display;\n        if (!display || display === 'none') {{\n            console.log([gd, 'removed!']);\n            Plotly.purge(gd);\n            observer.disconnect();\n        }}\n}});\n\n// Listen for the removal of the full notebook cells\nvar notebookContainer = gd.closest('#notebook-container');\nif (notebookContainer) {{\n    x.observe(notebookContainer, {childList: true});\n}}\n\n// Listen for the clearing of the current output cell\nvar outputEl = gd.closest('.output');\nif (outputEl) {{\n    x.observe(outputEl, {childList: true});\n}}\n\n                        })                };                });            </script>        </div>"
     },
     "metadata": {},
     "output_type": "display_data"
    }
   ],
   "source": [
    "#Visualize the travel from London to London\n",
    "traveler.map_3d(east)"
   ],
   "metadata": {
    "collapsed": false,
    "ExecuteTime": {
     "end_time": "2023-11-13T16:08:33.310232300Z",
     "start_time": "2023-11-13T16:08:33.060556800Z"
    }
   },
   "id": "3092165c2c77b5d9"
  }
 ],
 "metadata": {
  "kernelspec": {
   "display_name": "Python 3",
   "language": "python",
   "name": "python3"
  },
  "language_info": {
   "codemirror_mode": {
    "name": "ipython",
    "version": 2
   },
   "file_extension": ".py",
   "mimetype": "text/x-python",
   "name": "python",
   "nbconvert_exporter": "python",
   "pygments_lexer": "ipython2",
   "version": "2.7.6"
  }
 },
 "nbformat": 4,
 "nbformat_minor": 5
}
