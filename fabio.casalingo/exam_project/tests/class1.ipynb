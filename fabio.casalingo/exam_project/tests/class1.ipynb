{
 "cells": [
  {
   "cell_type": "code",
   "execution_count": null,
   "id": "faf8d43a",
   "metadata": {},
   "outputs": [],
   "source": [
    "with open (path,'r') as file:\n",
    "    var = file.readlines()"
   ]
  },
  {
   "cell_type": "code",
   "execution_count": null,
   "id": "aff53ce7",
   "metadata": {},
   "outputs": [],
   "source": [
    "def import_data(path):\n",
    "    with open (path,'r') as file:\n",
    "        data = file.readlines()\n",
    "    return data"
   ]
  },
  {
   "cell_type": "code",
   "execution_count": null,
   "id": "7a955222",
   "metadata": {},
   "outputs": [],
   "source": [
    "# var = import_data('path')"
   ]
  },
  {
   "cell_type": "code",
   "execution_count": null,
   "id": "9111b215",
   "metadata": {},
   "outputs": [],
   "source": [
    "#install pandas"
   ]
  },
  {
   "cell_type": "code",
   "execution_count": 1,
   "id": "8a418625",
   "metadata": {
    "ExecuteTime": {
     "end_time": "2023-11-03T22:43:04.193344Z",
     "start_time": "2023-11-03T22:43:03.528980400Z"
    }
   },
   "outputs": [],
   "source": [
    "import pandas as pd"
   ]
  },
  {
   "cell_type": "code",
   "execution_count": 2,
   "id": "22bde2ab",
   "metadata": {
    "ExecuteTime": {
     "end_time": "2023-11-03T22:43:08.112333600Z",
     "start_time": "2023-11-03T22:43:04.193344Z"
    }
   },
   "outputs": [],
   "source": [
    "f = dataset = pd.read_excel('C:/Uni/Coding/python/worldcities.xlsx')"
   ]
  },
  {
   "cell_type": "code",
   "execution_count": 3,
   "id": "e2ad7ad3",
   "metadata": {
    "ExecuteTime": {
     "end_time": "2023-10-27T12:39:16.749588200Z",
     "start_time": "2023-10-27T12:39:16.727414600Z"
    }
   },
   "outputs": [
    {
     "data": {
      "text/plain": "              city   city_ascii      lat       lng      country iso2 iso3  \\\n0            Tokyo        Tokyo  35.6897  139.6922        Japan   JP  JPN   \n1          Jakarta      Jakarta  -6.2146  106.8451    Indonesia   ID  IDN   \n2            Delhi        Delhi  28.6600   77.2300        India   IN  IND   \n3           Mumbai       Mumbai  18.9667   72.8333        India   IN  IND   \n4           Manila       Manila  14.5958  120.9772  Philippines   PH  PHL   \n...            ...          ...      ...       ...          ...  ...  ...   \n26564         Nord         Nord  81.7166  -17.8000    Greenland   GL  GRL   \n26565  Timmiarmiut  Timmiarmiut  62.5333  -42.2167    Greenland   GL  GRL   \n26566  Cheremoshna  Cheremoshna  51.3894   30.0989      Ukraine   UA  UKR   \n26567    Ambarchik    Ambarchik  69.6510  162.3336       Russia   RU  RUS   \n26568      Nordvik      Nordvik  74.0165  111.5100       Russia   RU  RUS   \n\n               admin_name  capital  population          id  \n0                   Tōkyō  primary  37977000.0  1392685764  \n1                 Jakarta  primary  34540000.0  1360771077  \n2                   Delhi    admin  29617000.0  1356872604  \n3             Mahārāshtra    admin  23355000.0  1356226629  \n4                  Manila  primary  23088000.0  1608618140  \n...                   ...      ...         ...         ...  \n26564          Sermersooq      NaN        10.0  1304217709  \n26565            Kujalleq      NaN        10.0  1304206491  \n26566   Kyyivs’ka Oblast’      NaN         0.0  1804043438  \n26567    Sakha (Yakutiya)      NaN         0.0  1643739159  \n26568  Krasnoyarskiy Kray      NaN         0.0  1643587468  \n\n[26569 rows x 11 columns]",
      "text/html": "<div>\n<style scoped>\n    .dataframe tbody tr th:only-of-type {\n        vertical-align: middle;\n    }\n\n    .dataframe tbody tr th {\n        vertical-align: top;\n    }\n\n    .dataframe thead th {\n        text-align: right;\n    }\n</style>\n<table border=\"1\" class=\"dataframe\">\n  <thead>\n    <tr style=\"text-align: right;\">\n      <th></th>\n      <th>city</th>\n      <th>city_ascii</th>\n      <th>lat</th>\n      <th>lng</th>\n      <th>country</th>\n      <th>iso2</th>\n      <th>iso3</th>\n      <th>admin_name</th>\n      <th>capital</th>\n      <th>population</th>\n      <th>id</th>\n    </tr>\n  </thead>\n  <tbody>\n    <tr>\n      <th>0</th>\n      <td>Tokyo</td>\n      <td>Tokyo</td>\n      <td>35.6897</td>\n      <td>139.6922</td>\n      <td>Japan</td>\n      <td>JP</td>\n      <td>JPN</td>\n      <td>Tōkyō</td>\n      <td>primary</td>\n      <td>37977000.0</td>\n      <td>1392685764</td>\n    </tr>\n    <tr>\n      <th>1</th>\n      <td>Jakarta</td>\n      <td>Jakarta</td>\n      <td>-6.2146</td>\n      <td>106.8451</td>\n      <td>Indonesia</td>\n      <td>ID</td>\n      <td>IDN</td>\n      <td>Jakarta</td>\n      <td>primary</td>\n      <td>34540000.0</td>\n      <td>1360771077</td>\n    </tr>\n    <tr>\n      <th>2</th>\n      <td>Delhi</td>\n      <td>Delhi</td>\n      <td>28.6600</td>\n      <td>77.2300</td>\n      <td>India</td>\n      <td>IN</td>\n      <td>IND</td>\n      <td>Delhi</td>\n      <td>admin</td>\n      <td>29617000.0</td>\n      <td>1356872604</td>\n    </tr>\n    <tr>\n      <th>3</th>\n      <td>Mumbai</td>\n      <td>Mumbai</td>\n      <td>18.9667</td>\n      <td>72.8333</td>\n      <td>India</td>\n      <td>IN</td>\n      <td>IND</td>\n      <td>Mahārāshtra</td>\n      <td>admin</td>\n      <td>23355000.0</td>\n      <td>1356226629</td>\n    </tr>\n    <tr>\n      <th>4</th>\n      <td>Manila</td>\n      <td>Manila</td>\n      <td>14.5958</td>\n      <td>120.9772</td>\n      <td>Philippines</td>\n      <td>PH</td>\n      <td>PHL</td>\n      <td>Manila</td>\n      <td>primary</td>\n      <td>23088000.0</td>\n      <td>1608618140</td>\n    </tr>\n    <tr>\n      <th>...</th>\n      <td>...</td>\n      <td>...</td>\n      <td>...</td>\n      <td>...</td>\n      <td>...</td>\n      <td>...</td>\n      <td>...</td>\n      <td>...</td>\n      <td>...</td>\n      <td>...</td>\n      <td>...</td>\n    </tr>\n    <tr>\n      <th>26564</th>\n      <td>Nord</td>\n      <td>Nord</td>\n      <td>81.7166</td>\n      <td>-17.8000</td>\n      <td>Greenland</td>\n      <td>GL</td>\n      <td>GRL</td>\n      <td>Sermersooq</td>\n      <td>NaN</td>\n      <td>10.0</td>\n      <td>1304217709</td>\n    </tr>\n    <tr>\n      <th>26565</th>\n      <td>Timmiarmiut</td>\n      <td>Timmiarmiut</td>\n      <td>62.5333</td>\n      <td>-42.2167</td>\n      <td>Greenland</td>\n      <td>GL</td>\n      <td>GRL</td>\n      <td>Kujalleq</td>\n      <td>NaN</td>\n      <td>10.0</td>\n      <td>1304206491</td>\n    </tr>\n    <tr>\n      <th>26566</th>\n      <td>Cheremoshna</td>\n      <td>Cheremoshna</td>\n      <td>51.3894</td>\n      <td>30.0989</td>\n      <td>Ukraine</td>\n      <td>UA</td>\n      <td>UKR</td>\n      <td>Kyyivs’ka Oblast’</td>\n      <td>NaN</td>\n      <td>0.0</td>\n      <td>1804043438</td>\n    </tr>\n    <tr>\n      <th>26567</th>\n      <td>Ambarchik</td>\n      <td>Ambarchik</td>\n      <td>69.6510</td>\n      <td>162.3336</td>\n      <td>Russia</td>\n      <td>RU</td>\n      <td>RUS</td>\n      <td>Sakha (Yakutiya)</td>\n      <td>NaN</td>\n      <td>0.0</td>\n      <td>1643739159</td>\n    </tr>\n    <tr>\n      <th>26568</th>\n      <td>Nordvik</td>\n      <td>Nordvik</td>\n      <td>74.0165</td>\n      <td>111.5100</td>\n      <td>Russia</td>\n      <td>RU</td>\n      <td>RUS</td>\n      <td>Krasnoyarskiy Kray</td>\n      <td>NaN</td>\n      <td>0.0</td>\n      <td>1643587468</td>\n    </tr>\n  </tbody>\n</table>\n<p>26569 rows × 11 columns</p>\n</div>"
     },
     "execution_count": 3,
     "metadata": {},
     "output_type": "execute_result"
    }
   ],
   "source": [
    "f"
   ]
  },
  {
   "cell_type": "code",
   "execution_count": 3,
   "id": "bb053fcb",
   "metadata": {
    "ExecuteTime": {
     "end_time": "2023-11-03T22:43:11.853386300Z",
     "start_time": "2023-11-03T22:43:08.116459900Z"
    }
   },
   "outputs": [],
   "source": [
    "import numpy as np\n",
    "import pandas as pd\n",
    "from geopy.distance import great_circle as gc\n",
    "import exam_project.self_made_functions as func\n",
    "import folium"
   ]
  },
  {
   "cell_type": "code",
   "execution_count": 17,
   "outputs": [
    {
     "data": {
      "text/plain": "country\nUnited States                               7768\nUnited Kingdom                              1798\nGermany                                     1606\nRussia                                      1161\nJapan                                        827\n                                            ... \nNorthern Mariana Islands                       1\nMacau                                          1\nSingapore                                      1\nMartinique                                     1\nSouth Georgia And South Sandwich Islands       1\nName: count, Length: 224, dtype: int64"
     },
     "execution_count": 17,
     "metadata": {},
     "output_type": "execute_result"
    }
   ],
   "source": [
    "f['country'].value_counts()"
   ],
   "metadata": {
    "collapsed": false,
    "ExecuteTime": {
     "end_time": "2023-11-02T13:41:51.235826100Z",
     "start_time": "2023-11-02T13:41:51.210081700Z"
    }
   },
   "id": "90541eaf65dd13eb"
  },
  {
   "cell_type": "code",
   "execution_count": 6,
   "id": "32486353",
   "metadata": {
    "ExecuteTime": {
     "end_time": "2023-11-03T22:48:36.763651700Z",
     "start_time": "2023-11-03T22:48:36.717175800Z"
    }
   },
   "outputs": [
    {
     "data": {
      "text/plain": "        city city_ascii      lat      lng        country iso2 iso3 admin_name  \\\n536    Milan      Milan  45.4669   9.1900          Italy   IT  ITA   Lombardy   \n22380  Milan      Milan  42.0816 -83.6853  United States   US  USA   Michigan   \n23057  Milan      Milan  35.9126 -88.7554  United States   US  USA  Tennessee   \n\n      capital  population          id  \n536     admin   1351562.0  1380724377  \n22380     NaN      7778.0  1840003170  \n23057     NaN      7201.0  1840014483  ",
      "text/html": "<div>\n<style scoped>\n    .dataframe tbody tr th:only-of-type {\n        vertical-align: middle;\n    }\n\n    .dataframe tbody tr th {\n        vertical-align: top;\n    }\n\n    .dataframe thead th {\n        text-align: right;\n    }\n</style>\n<table border=\"1\" class=\"dataframe\">\n  <thead>\n    <tr style=\"text-align: right;\">\n      <th></th>\n      <th>city</th>\n      <th>city_ascii</th>\n      <th>lat</th>\n      <th>lng</th>\n      <th>country</th>\n      <th>iso2</th>\n      <th>iso3</th>\n      <th>admin_name</th>\n      <th>capital</th>\n      <th>population</th>\n      <th>id</th>\n    </tr>\n  </thead>\n  <tbody>\n    <tr>\n      <th>536</th>\n      <td>Milan</td>\n      <td>Milan</td>\n      <td>45.4669</td>\n      <td>9.1900</td>\n      <td>Italy</td>\n      <td>IT</td>\n      <td>ITA</td>\n      <td>Lombardy</td>\n      <td>admin</td>\n      <td>1351562.0</td>\n      <td>1380724377</td>\n    </tr>\n    <tr>\n      <th>22380</th>\n      <td>Milan</td>\n      <td>Milan</td>\n      <td>42.0816</td>\n      <td>-83.6853</td>\n      <td>United States</td>\n      <td>US</td>\n      <td>USA</td>\n      <td>Michigan</td>\n      <td>NaN</td>\n      <td>7778.0</td>\n      <td>1840003170</td>\n    </tr>\n    <tr>\n      <th>23057</th>\n      <td>Milan</td>\n      <td>Milan</td>\n      <td>35.9126</td>\n      <td>-88.7554</td>\n      <td>United States</td>\n      <td>US</td>\n      <td>USA</td>\n      <td>Tennessee</td>\n      <td>NaN</td>\n      <td>7201.0</td>\n      <td>1840014483</td>\n    </tr>\n  </tbody>\n</table>\n</div>"
     },
     "execution_count": 6,
     "metadata": {},
     "output_type": "execute_result"
    }
   ],
   "source": [
    "f[(f['city'] == 'Milan')]"
   ]
  },
  {
   "cell_type": "code",
   "execution_count": 9,
   "outputs": [
    {
     "data": {
      "text/plain": "              city   city_ascii      lat       lng      country iso2 iso3  \\\n0            Tokyo        Tokyo  35.6897  139.6922        Japan   JP  JPN   \n1          Jakarta      Jakarta  -6.2146  106.8451    Indonesia   ID  IDN   \n2            Delhi        Delhi  28.6600   77.2300        India   IN  IND   \n3           Mumbai       Mumbai  18.9667   72.8333        India   IN  IND   \n4           Manila       Manila  14.5958  120.9772  Philippines   PH  PHL   \n...            ...          ...      ...       ...          ...  ...  ...   \n26564         Nord         Nord  81.7166  -17.8000    Greenland   GL  GRL   \n26565  Timmiarmiut  Timmiarmiut  62.5333  -42.2167    Greenland   GL  GRL   \n26566  Cheremoshna  Cheremoshna  51.3894   30.0989      Ukraine   UA  UKR   \n26567    Ambarchik    Ambarchik  69.6510  162.3336       Russia   RU  RUS   \n26568      Nordvik      Nordvik  74.0165  111.5100       Russia   RU  RUS   \n\n               admin_name  capital  population          id  \\\n0                   Tōkyō  primary  37977000.0  1392685764   \n1                 Jakarta  primary  34540000.0  1360771077   \n2                   Delhi    admin  29617000.0  1356872604   \n3             Mahārāshtra    admin  23355000.0  1356226629   \n4                  Manila  primary  23088000.0  1608618140   \n...                   ...      ...         ...         ...   \n26564          Sermersooq      NaN        10.0  1304217709   \n26565            Kujalleq      NaN        10.0  1304206491   \n26566   Kyyivs’ka Oblast’      NaN         0.0  1804043438   \n26567    Sakha (Yakutiya)      NaN         0.0  1643739159   \n26568  Krasnoyarskiy Kray      NaN         0.0  1643587468   \n\n       Distance from start  \n0              9714.865056  \n1             11096.180648  \n2              6127.814615  \n3              6477.660525  \n4             10468.367562  \n...                    ...  \n26564          4147.895878  \n26565          3720.585463  \n26566          1669.957150  \n26567          7028.179994  \n26568          5548.980796  \n\n[26569 rows x 12 columns]",
      "text/html": "<div>\n<style scoped>\n    .dataframe tbody tr th:only-of-type {\n        vertical-align: middle;\n    }\n\n    .dataframe tbody tr th {\n        vertical-align: top;\n    }\n\n    .dataframe thead th {\n        text-align: right;\n    }\n</style>\n<table border=\"1\" class=\"dataframe\">\n  <thead>\n    <tr style=\"text-align: right;\">\n      <th></th>\n      <th>city</th>\n      <th>city_ascii</th>\n      <th>lat</th>\n      <th>lng</th>\n      <th>country</th>\n      <th>iso2</th>\n      <th>iso3</th>\n      <th>admin_name</th>\n      <th>capital</th>\n      <th>population</th>\n      <th>id</th>\n      <th>Distance from start</th>\n    </tr>\n  </thead>\n  <tbody>\n    <tr>\n      <th>0</th>\n      <td>Tokyo</td>\n      <td>Tokyo</td>\n      <td>35.6897</td>\n      <td>139.6922</td>\n      <td>Japan</td>\n      <td>JP</td>\n      <td>JPN</td>\n      <td>Tōkyō</td>\n      <td>primary</td>\n      <td>37977000.0</td>\n      <td>1392685764</td>\n      <td>9714.865056</td>\n    </tr>\n    <tr>\n      <th>1</th>\n      <td>Jakarta</td>\n      <td>Jakarta</td>\n      <td>-6.2146</td>\n      <td>106.8451</td>\n      <td>Indonesia</td>\n      <td>ID</td>\n      <td>IDN</td>\n      <td>Jakarta</td>\n      <td>primary</td>\n      <td>34540000.0</td>\n      <td>1360771077</td>\n      <td>11096.180648</td>\n    </tr>\n    <tr>\n      <th>2</th>\n      <td>Delhi</td>\n      <td>Delhi</td>\n      <td>28.6600</td>\n      <td>77.2300</td>\n      <td>India</td>\n      <td>IN</td>\n      <td>IND</td>\n      <td>Delhi</td>\n      <td>admin</td>\n      <td>29617000.0</td>\n      <td>1356872604</td>\n      <td>6127.814615</td>\n    </tr>\n    <tr>\n      <th>3</th>\n      <td>Mumbai</td>\n      <td>Mumbai</td>\n      <td>18.9667</td>\n      <td>72.8333</td>\n      <td>India</td>\n      <td>IN</td>\n      <td>IND</td>\n      <td>Mahārāshtra</td>\n      <td>admin</td>\n      <td>23355000.0</td>\n      <td>1356226629</td>\n      <td>6477.660525</td>\n    </tr>\n    <tr>\n      <th>4</th>\n      <td>Manila</td>\n      <td>Manila</td>\n      <td>14.5958</td>\n      <td>120.9772</td>\n      <td>Philippines</td>\n      <td>PH</td>\n      <td>PHL</td>\n      <td>Manila</td>\n      <td>primary</td>\n      <td>23088000.0</td>\n      <td>1608618140</td>\n      <td>10468.367562</td>\n    </tr>\n    <tr>\n      <th>...</th>\n      <td>...</td>\n      <td>...</td>\n      <td>...</td>\n      <td>...</td>\n      <td>...</td>\n      <td>...</td>\n      <td>...</td>\n      <td>...</td>\n      <td>...</td>\n      <td>...</td>\n      <td>...</td>\n      <td>...</td>\n    </tr>\n    <tr>\n      <th>26564</th>\n      <td>Nord</td>\n      <td>Nord</td>\n      <td>81.7166</td>\n      <td>-17.8000</td>\n      <td>Greenland</td>\n      <td>GL</td>\n      <td>GRL</td>\n      <td>Sermersooq</td>\n      <td>NaN</td>\n      <td>10.0</td>\n      <td>1304217709</td>\n      <td>4147.895878</td>\n    </tr>\n    <tr>\n      <th>26565</th>\n      <td>Timmiarmiut</td>\n      <td>Timmiarmiut</td>\n      <td>62.5333</td>\n      <td>-42.2167</td>\n      <td>Greenland</td>\n      <td>GL</td>\n      <td>GRL</td>\n      <td>Kujalleq</td>\n      <td>NaN</td>\n      <td>10.0</td>\n      <td>1304206491</td>\n      <td>3720.585463</td>\n    </tr>\n    <tr>\n      <th>26566</th>\n      <td>Cheremoshna</td>\n      <td>Cheremoshna</td>\n      <td>51.3894</td>\n      <td>30.0989</td>\n      <td>Ukraine</td>\n      <td>UA</td>\n      <td>UKR</td>\n      <td>Kyyivs’ka Oblast’</td>\n      <td>NaN</td>\n      <td>0.0</td>\n      <td>1804043438</td>\n      <td>1669.957150</td>\n    </tr>\n    <tr>\n      <th>26567</th>\n      <td>Ambarchik</td>\n      <td>Ambarchik</td>\n      <td>69.6510</td>\n      <td>162.3336</td>\n      <td>Russia</td>\n      <td>RU</td>\n      <td>RUS</td>\n      <td>Sakha (Yakutiya)</td>\n      <td>NaN</td>\n      <td>0.0</td>\n      <td>1643739159</td>\n      <td>7028.179994</td>\n    </tr>\n    <tr>\n      <th>26568</th>\n      <td>Nordvik</td>\n      <td>Nordvik</td>\n      <td>74.0165</td>\n      <td>111.5100</td>\n      <td>Russia</td>\n      <td>RU</td>\n      <td>RUS</td>\n      <td>Krasnoyarskiy Kray</td>\n      <td>NaN</td>\n      <td>0.0</td>\n      <td>1643587468</td>\n      <td>5548.980796</td>\n    </tr>\n  </tbody>\n</table>\n<p>26569 rows × 12 columns</p>\n</div>"
     },
     "execution_count": 9,
     "metadata": {},
     "output_type": "execute_result"
    }
   ],
   "source": [
    "\n",
    "f['Distance from start'] = f.apply(lambda row: gc((45.4669,9.1900) , (row['lat'], row['lng'])).kilometers,\n",
    "                                                      axis=1)\n",
    "f"
   ],
   "metadata": {
    "collapsed": false,
    "ExecuteTime": {
     "end_time": "2023-11-03T22:49:19.079211500Z",
     "start_time": "2023-11-03T22:49:18.494148900Z"
    }
   },
   "id": "3b9b68bee878d4e4"
  },
  {
   "cell_type": "code",
   "execution_count": 13,
   "outputs": [
    {
     "data": {
      "text/plain": "               city    city_ascii      lat       lng            country iso2  \\\n13224        Labasa        Labasa -16.4333  179.3667               Fiji   FJ   \n26390  Beringovskiy  Beringovskiy  63.0655  179.3067             Russia   RU   \n820        Funafuti      Funafuti  -8.5167  179.2167             Tuvalu   TV   \n5581        Nausori       Nausori -18.0244  178.5454               Fiji   FJ   \n796            Suva          Suva -18.1333  178.4333               Fiji   FJ   \n...             ...           ...      ...       ...                ...  ...   \n811      Nuku‘alofa    Nuku`alofa -21.1347 -175.2083              Tonga   TO   \n8820       Waitangi      Waitangi -43.9510 -176.5610        New Zealand   NZ   \n9240          Leava         Leava -14.2933 -178.1583  Wallis And Futuna   WF   \n26375     Egvekinot     Egvekinot  66.3221 -179.1837             Russia   RU   \n26557      Zvëzdnyy      Zvezdnyy  70.9566 -179.5900             Russia   RU   \n\n      iso3                   admin_name  capital  population          id  \n13224  FJI                      Macuata      NaN     27949.0  1242740801  \n26390  RUS  Chukotskiy Avtonomnyy Okrug      NaN      1861.0  1643017874  \n820    TUV                     Funafuti  primary      6025.0  1798251391  \n5581   FJI                      Tailevu      NaN     47604.0  1242640119  \n796    FJI                         Rewa  primary     88271.0  1242615095  \n...    ...                          ...      ...         ...         ...  \n811    TON                    Tongatapu  primary     24571.0  1776737461  \n8820   NZL              Chatham Islands    admin       300.0  1554847194  \n9240   WLF                       Sigave    admin         NaN  1876731744  \n26375  RUS  Chukotskiy Avtonomnyy Okrug      NaN      2248.0  1643466779  \n26557  RUS  Chukotskiy Avtonomnyy Okrug      NaN        10.0  1643877771  \n\n[26569 rows x 11 columns]",
      "text/html": "<div>\n<style scoped>\n    .dataframe tbody tr th:only-of-type {\n        vertical-align: middle;\n    }\n\n    .dataframe tbody tr th {\n        vertical-align: top;\n    }\n\n    .dataframe thead th {\n        text-align: right;\n    }\n</style>\n<table border=\"1\" class=\"dataframe\">\n  <thead>\n    <tr style=\"text-align: right;\">\n      <th></th>\n      <th>city</th>\n      <th>city_ascii</th>\n      <th>lat</th>\n      <th>lng</th>\n      <th>country</th>\n      <th>iso2</th>\n      <th>iso3</th>\n      <th>admin_name</th>\n      <th>capital</th>\n      <th>population</th>\n      <th>id</th>\n    </tr>\n  </thead>\n  <tbody>\n    <tr>\n      <th>13224</th>\n      <td>Labasa</td>\n      <td>Labasa</td>\n      <td>-16.4333</td>\n      <td>179.3667</td>\n      <td>Fiji</td>\n      <td>FJ</td>\n      <td>FJI</td>\n      <td>Macuata</td>\n      <td>NaN</td>\n      <td>27949.0</td>\n      <td>1242740801</td>\n    </tr>\n    <tr>\n      <th>26390</th>\n      <td>Beringovskiy</td>\n      <td>Beringovskiy</td>\n      <td>63.0655</td>\n      <td>179.3067</td>\n      <td>Russia</td>\n      <td>RU</td>\n      <td>RUS</td>\n      <td>Chukotskiy Avtonomnyy Okrug</td>\n      <td>NaN</td>\n      <td>1861.0</td>\n      <td>1643017874</td>\n    </tr>\n    <tr>\n      <th>820</th>\n      <td>Funafuti</td>\n      <td>Funafuti</td>\n      <td>-8.5167</td>\n      <td>179.2167</td>\n      <td>Tuvalu</td>\n      <td>TV</td>\n      <td>TUV</td>\n      <td>Funafuti</td>\n      <td>primary</td>\n      <td>6025.0</td>\n      <td>1798251391</td>\n    </tr>\n    <tr>\n      <th>5581</th>\n      <td>Nausori</td>\n      <td>Nausori</td>\n      <td>-18.0244</td>\n      <td>178.5454</td>\n      <td>Fiji</td>\n      <td>FJ</td>\n      <td>FJI</td>\n      <td>Tailevu</td>\n      <td>NaN</td>\n      <td>47604.0</td>\n      <td>1242640119</td>\n    </tr>\n    <tr>\n      <th>796</th>\n      <td>Suva</td>\n      <td>Suva</td>\n      <td>-18.1333</td>\n      <td>178.4333</td>\n      <td>Fiji</td>\n      <td>FJ</td>\n      <td>FJI</td>\n      <td>Rewa</td>\n      <td>primary</td>\n      <td>88271.0</td>\n      <td>1242615095</td>\n    </tr>\n    <tr>\n      <th>...</th>\n      <td>...</td>\n      <td>...</td>\n      <td>...</td>\n      <td>...</td>\n      <td>...</td>\n      <td>...</td>\n      <td>...</td>\n      <td>...</td>\n      <td>...</td>\n      <td>...</td>\n      <td>...</td>\n    </tr>\n    <tr>\n      <th>811</th>\n      <td>Nuku‘alofa</td>\n      <td>Nuku`alofa</td>\n      <td>-21.1347</td>\n      <td>-175.2083</td>\n      <td>Tonga</td>\n      <td>TO</td>\n      <td>TON</td>\n      <td>Tongatapu</td>\n      <td>primary</td>\n      <td>24571.0</td>\n      <td>1776737461</td>\n    </tr>\n    <tr>\n      <th>8820</th>\n      <td>Waitangi</td>\n      <td>Waitangi</td>\n      <td>-43.9510</td>\n      <td>-176.5610</td>\n      <td>New Zealand</td>\n      <td>NZ</td>\n      <td>NZL</td>\n      <td>Chatham Islands</td>\n      <td>admin</td>\n      <td>300.0</td>\n      <td>1554847194</td>\n    </tr>\n    <tr>\n      <th>9240</th>\n      <td>Leava</td>\n      <td>Leava</td>\n      <td>-14.2933</td>\n      <td>-178.1583</td>\n      <td>Wallis And Futuna</td>\n      <td>WF</td>\n      <td>WLF</td>\n      <td>Sigave</td>\n      <td>admin</td>\n      <td>NaN</td>\n      <td>1876731744</td>\n    </tr>\n    <tr>\n      <th>26375</th>\n      <td>Egvekinot</td>\n      <td>Egvekinot</td>\n      <td>66.3221</td>\n      <td>-179.1837</td>\n      <td>Russia</td>\n      <td>RU</td>\n      <td>RUS</td>\n      <td>Chukotskiy Avtonomnyy Okrug</td>\n      <td>NaN</td>\n      <td>2248.0</td>\n      <td>1643466779</td>\n    </tr>\n    <tr>\n      <th>26557</th>\n      <td>Zvëzdnyy</td>\n      <td>Zvezdnyy</td>\n      <td>70.9566</td>\n      <td>-179.5900</td>\n      <td>Russia</td>\n      <td>RU</td>\n      <td>RUS</td>\n      <td>Chukotskiy Avtonomnyy Okrug</td>\n      <td>NaN</td>\n      <td>10.0</td>\n      <td>1643877771</td>\n    </tr>\n  </tbody>\n</table>\n<p>26569 rows × 11 columns</p>\n</div>"
     },
     "execution_count": 13,
     "metadata": {},
     "output_type": "execute_result"
    }
   ],
   "source": [
    "f.sort_values(by='lng', ascending=False)"
   ],
   "metadata": {
    "collapsed": false,
    "ExecuteTime": {
     "end_time": "2023-11-03T12:03:16.668829700Z",
     "start_time": "2023-11-03T12:03:16.574064300Z"
    }
   },
   "id": "b2745dcb06007943"
  },
  {
   "cell_type": "code",
   "execution_count": 2,
   "outputs": [
    {
     "data": {
      "text/plain": "         city city_ascii      lat      lng country iso2 iso3      admin_name  \\\n2771    Parma      Parma  44.8015  10.3280   Italy   IT  ITA  Emilia-Romagna   \n536     Milan      Milan  45.4669   9.1900   Italy   IT  ITA        Lombardy   \n2722  Brescia    Brescia  45.5389  10.2203   Italy   IT  ITA        Lombardy   \n\n     capital  population          id  Distance from start  \n2771   minor    194417.0  1380655938            56.638928  \n536    admin   1351562.0  1380724377            61.175452  \n2722   minor    197008.0  1380432555            67.909551  ",
      "text/html": "<div>\n<style scoped>\n    .dataframe tbody tr th:only-of-type {\n        vertical-align: middle;\n    }\n\n    .dataframe tbody tr th {\n        vertical-align: top;\n    }\n\n    .dataframe thead th {\n        text-align: right;\n    }\n</style>\n<table border=\"1\" class=\"dataframe\">\n  <thead>\n    <tr style=\"text-align: right;\">\n      <th></th>\n      <th>city</th>\n      <th>city_ascii</th>\n      <th>lat</th>\n      <th>lng</th>\n      <th>country</th>\n      <th>iso2</th>\n      <th>iso3</th>\n      <th>admin_name</th>\n      <th>capital</th>\n      <th>population</th>\n      <th>id</th>\n      <th>Distance from start</th>\n    </tr>\n  </thead>\n  <tbody>\n    <tr>\n      <th>2771</th>\n      <td>Parma</td>\n      <td>Parma</td>\n      <td>44.8015</td>\n      <td>10.3280</td>\n      <td>Italy</td>\n      <td>IT</td>\n      <td>ITA</td>\n      <td>Emilia-Romagna</td>\n      <td>minor</td>\n      <td>194417.0</td>\n      <td>1380655938</td>\n      <td>56.638928</td>\n    </tr>\n    <tr>\n      <th>536</th>\n      <td>Milan</td>\n      <td>Milan</td>\n      <td>45.4669</td>\n      <td>9.1900</td>\n      <td>Italy</td>\n      <td>IT</td>\n      <td>ITA</td>\n      <td>Lombardy</td>\n      <td>admin</td>\n      <td>1351562.0</td>\n      <td>1380724377</td>\n      <td>61.175452</td>\n    </tr>\n    <tr>\n      <th>2722</th>\n      <td>Brescia</td>\n      <td>Brescia</td>\n      <td>45.5389</td>\n      <td>10.2203</td>\n      <td>Italy</td>\n      <td>IT</td>\n      <td>ITA</td>\n      <td>Lombardy</td>\n      <td>minor</td>\n      <td>197008.0</td>\n      <td>1380432555</td>\n      <td>67.909551</td>\n    </tr>\n  </tbody>\n</table>\n</div>"
     },
     "execution_count": 2,
     "metadata": {},
     "output_type": "execute_result"
    }
   ],
   "source": [
    "func.three_close_city(1380821832)[:3]"
   ],
   "metadata": {
    "collapsed": false,
    "ExecuteTime": {
     "end_time": "2023-10-28T09:30:58.147571900Z",
     "start_time": "2023-10-28T09:30:57.269063700Z"
    }
   },
   "id": "77dcddb89ff627e4"
  },
  {
   "cell_type": "code",
   "execution_count": null,
   "outputs": [],
   "source": [],
   "metadata": {
    "collapsed": false
   },
   "id": "3f50f547244a29cf"
  },
  {
   "cell_type": "code",
   "execution_count": 42,
   "outputs": [
    {
     "data": {
      "text/plain": "         city city_ascii      lat       lng country iso2 iso3 admin_name  \\\n13224  Labasa     Labasa -16.4333  179.3667    Fiji   FJ  FJI    Macuata   \n\n      capital  population          id  Distance from current  Valid  \n13224     NaN     27949.0  1242740801                    0.0  False  ",
      "text/html": "<div>\n<style scoped>\n    .dataframe tbody tr th:only-of-type {\n        vertical-align: middle;\n    }\n\n    .dataframe tbody tr th {\n        vertical-align: top;\n    }\n\n    .dataframe thead th {\n        text-align: right;\n    }\n</style>\n<table border=\"1\" class=\"dataframe\">\n  <thead>\n    <tr style=\"text-align: right;\">\n      <th></th>\n      <th>city</th>\n      <th>city_ascii</th>\n      <th>lat</th>\n      <th>lng</th>\n      <th>country</th>\n      <th>iso2</th>\n      <th>iso3</th>\n      <th>admin_name</th>\n      <th>capital</th>\n      <th>population</th>\n      <th>id</th>\n      <th>Distance from current</th>\n      <th>Valid</th>\n    </tr>\n  </thead>\n  <tbody>\n    <tr>\n      <th>13224</th>\n      <td>Labasa</td>\n      <td>Labasa</td>\n      <td>-16.4333</td>\n      <td>179.3667</td>\n      <td>Fiji</td>\n      <td>FJ</td>\n      <td>FJI</td>\n      <td>Macuata</td>\n      <td>NaN</td>\n      <td>27949.0</td>\n      <td>1242740801</td>\n      <td>0.0</td>\n      <td>False</td>\n    </tr>\n  </tbody>\n</table>\n</div>"
     },
     "execution_count": 42,
     "metadata": {},
     "output_type": "execute_result"
    }
   ],
   "source": [
    "f[f['lng']==f['lng'].min()]"
   ],
   "metadata": {
    "collapsed": false,
    "ExecuteTime": {
     "end_time": "2023-11-03T12:41:29.321417500Z",
     "start_time": "2023-11-03T12:41:29.207048400Z"
    }
   },
   "id": "88c33e5e1febbfdc"
  },
  {
   "cell_type": "code",
   "execution_count": 6,
   "outputs": [
    {
     "name": "stdout",
     "output_type": "stream",
     "text": [
      "Campobasso\n",
      "Bari\n",
      "Budva\n",
      "Pukë\n",
      "Damjan\n",
      "Shtërpcë\n",
      "Čučer-Sandevo\n",
      "Kumanovo\n",
      "Kratovo\n",
      "Kyustendil\n",
      "Simitli\n",
      "Yakoruda\n",
      "Krichim\n",
      "Parvomay\n",
      "Harmanli\n",
      "Orestiáda\n",
      "Tekirdağ\n",
      "Yalova\n",
      "Düzce\n",
      "Karabük\n",
      "Bayat\n",
      "Pazar\n",
      "Divriği\n",
      "Bingöl\n",
      "Tatvan\n",
      "Hakkari\n",
      "Pīrānshahr\n",
      "Marīvān\n",
      "Kermānshāh\n",
      "Dorūd\n",
      "Dehaq\n",
      "Dastgerd\n",
      "Mobārakeh\n",
      "Ţālkhvoncheh\n",
      "Shahreẕā\n",
      "Semīrom\n",
      "Bahman\n",
      "Taft\n",
      "Zarand\n",
      "Zāhedān\n",
      "Chaman\n",
      "Dera Ghazi Khan\n",
      "Hasilpur\n",
      "Abohar\n",
      "Hisar\n",
      "Alwar\n",
      "Āgra\n",
      "Etāwah\n",
      "Fatehpur\n",
      "Vārānasi\n",
      "Rājgīr\n",
      "Jāmuria\n",
      "Baidyabāti\n",
      "Dam Dam\n",
      "Hābra\n",
      "Bangaon\n",
      "Basīrhat\n",
      "Kolkāta\n",
      "Jaynagar-Majilpur\n",
      "Bārāsat\n",
      "Haldia\n",
      "Madhyamgram\n",
      "Hāora\n",
      "Kāmārhāti\n",
      "Bāli\n",
      "Pānihāti\n",
      "Khardah\n",
      "Rishra\n",
      "Titāgarh\n",
      "Shrīrāmpur\n",
      "Champdani\n",
      "Bhātpāra\n",
      "Bhadreswar\n",
      "Naihāti\n",
      "Chandannagar\n",
      "Hugli\n",
      "Hālīsahar\n",
      "Kānchrāpāra\n",
      "Kalyani\n",
      "Bānsbāria\n",
      "Shāntipur\n",
      "Krishnanagar\n",
      "Jessore\n",
      "Khulna\n",
      "Barishal\n",
      "Chattogram\n",
      "Sittwe\n",
      "Hinthada\n",
      "Mudon\n",
      "Uthai Thani\n",
      "Kaeng Khoi\n",
      "Prachin Buri\n",
      "Sa Kaeo\n",
      "Pailin\n",
      "Koh Kong\n",
      "Krong Kep\n",
      "Cà Mau\n",
      "Bạc Liêu\n",
      "Vũng Tàu\n",
      "Phan Thiết\n",
      "Phan Rang-Tháp Chàm\n",
      "Cam Ranh\n",
      "Cam Ranh\n",
      "Nha Trang\n",
      "Đà Lạt\n",
      "Ấp Đa Lợi\n",
      "Biên Hòa\n",
      "Trà Vinh\n",
      "Sóc Trăng\n",
      "Bến Tre\n",
      "Mỹ Tho\n",
      "Tân An\n",
      "Cần Thơ\n",
      "Vị Thanh\n",
      "Ho Chi Minh City\n",
      "Vĩnh Long\n",
      "Thủ Dầu Một\n",
      "Sa Đéc\n",
      "Cao Lãnh\n",
      "Rạch Giá\n",
      "Long Xuyên\n",
      "Tây Ninh\n",
      "Đồng Xoài\n",
      "Gia Nghĩa\n",
      "Tuy Hòa\n",
      "Buôn Ma Thuột\n",
      "Quy Nhơn\n",
      "Sen Monorom\n",
      "Bình Long\n",
      "Svay Rieng\n",
      "Châu Đốc\n",
      "Phú Quốc\n",
      "Takeo\n",
      "Prey Veng\n",
      "Suong\n",
      "Ta Khmau\n",
      "Kampot\n",
      "Phnom Penh\n",
      "Kratie\n",
      "Kampong Cham\n",
      "Kampong Speu\n",
      "Sihanoukville\n",
      "Kampong Chhnang\n",
      "Stung Treng\n",
      "Lumphat\n",
      "Pleiku\n",
      "Kon Tum\n",
      "Quảng Ngãi\n",
      "Banlung\n",
      "Attapu\n",
      "Tam Kỳ\n",
      "Hội An\n",
      "Quảng Hà\n",
      "Đà Nẵng\n",
      "Xékong\n",
      "Champasak\n",
      "Tbeng Meanchey\n",
      "Kampong Thom\n",
      "Kampong Thum\n",
      "Pursat\n",
      "Siem Reap\n",
      "Trat\n",
      "Battambang\n",
      "Khlung\n",
      "Chanthaburi\n",
      "Tha Mai\n",
      "Aranyaprathet\n",
      "Sisophon\n",
      "Samraong\n",
      "Det Udom\n",
      "Pakxé\n",
      "Salavan\n",
      "Huế\n",
      "Sanya\n",
      "Wancheng\n",
      "Jiaji\n",
      "Wencheng\n",
      "Chongshan\n",
      "Quảng Trị\n",
      "Phibun Mangsahan\n",
      "Kantharalak\n",
      "Warin Chamrap\n",
      "Ubon Ratchathani\n",
      "Si Sa Ket\n",
      "Amnat Charoen\n",
      "Surin\n",
      "Yasothon\n",
      "Buri Ram\n",
      "Nang Rong\n",
      "Wang Nam Yen\n",
      "Rayong\n",
      "Ban Map Ta Phut\n",
      "Ban Chang\n",
      "Sattahip\n",
      "Ban Nong Prue\n",
      "Phatthaya\n",
      "Ban Laem Chabang\n",
      "Ban Bueng\n",
      "Si Racha\n",
      "Phanat Nikhom\n",
      "Ban Saen Suk\n",
      "Chon Buri\n",
      "Ban Suan\n",
      "Ban Ang Sila\n",
      "Chachoengsao\n",
      "Ban Bang Kaeo\n",
      "Samut Prakan\n",
      "Phra Pradaeng\n",
      "Bangkok\n",
      "Bang Kruai\n",
      "Ban Khlong Ton Madua\n",
      "Samut Sakhon\n",
      "Ban Sai Ma Tai\n",
      "Ban Lam Sam Kaeo\n",
      "Nonthaburi\n",
      "Ban Om Noi\n",
      "Krathum Baen\n",
      "Samut Songkhram\n",
      "Cha-am\n",
      "Prachuap Khiri Khan\n",
      "Chumphon\n",
      "Pak Phanang\n",
      "Sadao\n",
      "Narathiwat\n",
      "Kuala Terengganu\n",
      "Kuantan\n",
      "Singapore\n",
      "Jambi\n",
      "Pangkalpinang\n",
      "Bekasi\n",
      "Magelang\n",
      "Malang\n",
      "Kulat\n",
      "Raba\n",
      "Kupang\n",
      "Lospalos\n",
      "Howard Springs\n",
      "Katherine\n",
      "Camooweal\n",
      "Windorah\n",
      "Bourke\n",
      "Mudgee\n",
      "Penrith\n",
      "Sydney\n"
     ]
    }
   ],
   "source": [
    "a =  func.distance_between_two_cities()"
   ],
   "metadata": {
    "collapsed": false,
    "ExecuteTime": {
     "end_time": "2023-10-28T12:33:24.589836900Z",
     "start_time": "2023-10-28T12:31:19.023022300Z"
    }
   },
   "id": "17a06b9fc40fb58a"
  },
  {
   "cell_type": "code",
   "execution_count": 42,
   "outputs": [],
   "source": [
    "mappa = folium.Map(location=[45.5236, -122.6750], zoom_start=0)"
   ],
   "metadata": {
    "collapsed": false,
    "ExecuteTime": {
     "end_time": "2023-10-28T13:00:55.235562700Z",
     "start_time": "2023-10-28T13:00:55.219673200Z"
    }
   },
   "id": "4c8e5889ccd149f3"
  },
  {
   "cell_type": "code",
   "execution_count": 43,
   "outputs": [],
   "source": [
    "for i in range(len(a)): \n",
    "    s = f[(f['id'] == a[i])][['lat', 'lng']].values[0]\n",
    "    #[f[(f['id'] == a[i])][['lat']].values[i],[f[(f['id'] == a[i])][['lng']].values[i]]]\n",
    "    folium.Marker(s).add_to(mappa)"
   ],
   "metadata": {
    "collapsed": false,
    "ExecuteTime": {
     "end_time": "2023-10-28T13:00:59.836102300Z",
     "start_time": "2023-10-28T13:00:59.687687300Z"
    }
   },
   "id": "2af4a09e5411f7c5"
  },
  {
   "cell_type": "code",
   "execution_count": 28,
   "outputs": [
    {
     "name": "stdout",
     "output_type": "stream",
     "text": [
      "1380382862\n",
      "1380959273\n",
      "1380991126\n",
      "1499564238\n",
      "1008739218\n",
      "1901520545\n",
      "1901828239\n",
      "1807969277\n",
      "1807301219\n",
      "1807262234\n",
      "1100543134\n",
      "1100000742\n",
      "1100407647\n",
      "1100205448\n",
      "1100284082\n",
      "1100003361\n",
      "1300874812\n",
      "1792519395\n",
      "1792838138\n",
      "1792999306\n",
      "1792834766\n",
      "1792851737\n",
      "1792303628\n",
      "1792352411\n",
      "1792920183\n",
      "1792530559\n",
      "1792629133\n",
      "1364699746\n",
      "1364680490\n",
      "1364535690\n",
      "1364662084\n",
      "1364662944\n",
      "1364996387\n",
      "1364110841\n",
      "1364903302\n",
      "1364242660\n",
      "1364089259\n",
      "1364686179\n",
      "1364828948\n",
      "1364870175\n",
      "1364072353\n",
      "1586640695\n",
      "1586002238\n",
      "1586677874\n",
      "1356846795\n",
      "1356004790\n",
      "1356570855\n",
      "1356187395\n",
      "1356241312\n",
      "1356059135\n",
      "1356145782\n",
      "1356823690\n",
      "1356777057\n",
      "1356079081\n",
      "1356051452\n",
      "1356091822\n",
      "1356624441\n",
      "1356109985\n",
      "1356060520\n",
      "1356557030\n",
      "1356550583\n",
      "1356491171\n",
      "1356501701\n",
      "1356986516\n",
      "1356676559\n",
      "1356113138\n",
      "1356118632\n",
      "1356765227\n",
      "1356339732\n",
      "1356590173\n",
      "1356021505\n",
      "1356132208\n",
      "1356022456\n",
      "1356320019\n",
      "1356715598\n",
      "1356174802\n",
      "1356109548\n",
      "1356242644\n",
      "1356022687\n",
      "1356108133\n",
      "1356897672\n",
      "1356584320\n",
      "1356128689\n",
      "1050244487\n",
      "1050667339\n",
      "1050297281\n",
      "1050830722\n",
      "1104269305\n",
      "1104524588\n",
      "1104174785\n",
      "1764844835\n",
      "1764167813\n",
      "1764262472\n",
      "1764207048\n",
      "1116050327\n",
      "1116924669\n",
      "1116392544\n",
      "1704320474\n",
      "1704298745\n",
      "1704581438\n",
      "1704221456\n",
      "1704094609\n",
      "1704104189\n",
      "1704516746\n",
      "1704497901\n",
      "1704933464\n",
      "1704613422\n",
      "1704863046\n",
      "1704929966\n",
      "1704758756\n",
      "1704108909\n",
      "1704000376\n",
      "1704199290\n",
      "1704783472\n",
      "1704210026\n",
      "1704774326\n",
      "1704262419\n",
      "1704890399\n",
      "1704983576\n",
      "1704276832\n",
      "1704872008\n",
      "1704453892\n",
      "1704250951\n",
      "1704845487\n",
      "1704361005\n",
      "1704697424\n",
      "1704542086\n",
      "1704056461\n",
      "1116978997\n",
      "1704953411\n",
      "1116432743\n",
      "1704020910\n",
      "1704992616\n",
      "1116674518\n",
      "1116378797\n",
      "1116319433\n",
      "1116571704\n",
      "1116966757\n",
      "1116260534\n",
      "1116453792\n",
      "1116115849\n",
      "1116446492\n",
      "1116098692\n",
      "1116735270\n",
      "1116286673\n",
      "1116149070\n",
      "1704220080\n",
      "1704988146\n",
      "1704029499\n",
      "1116605438\n",
      "1418894454\n",
      "1704410655\n",
      "1704897050\n",
      "1704966442\n",
      "1704949870\n",
      "1418000082\n",
      "1418902447\n",
      "1116207762\n",
      "1116471297\n",
      "1116000326\n",
      "1116566865\n",
      "1116263015\n",
      "1764126822\n",
      "1116106237\n",
      "1764654331\n",
      "1764151688\n",
      "1764588619\n",
      "1764167237\n",
      "1116276411\n",
      "1116989175\n",
      "1764920064\n",
      "1418863956\n",
      "1418448631\n",
      "1704016023\n",
      "1156373900\n",
      "1156017483\n",
      "1156658217\n",
      "1156985313\n",
      "1156147494\n",
      "1704089491\n",
      "1764591980\n",
      "1764009547\n",
      "1764105770\n",
      "1764611048\n",
      "1764002764\n",
      "1764038011\n",
      "1764813179\n",
      "1764520637\n",
      "1764141031\n",
      "1764430858\n",
      "1764123627\n",
      "1764920057\n",
      "1764852224\n",
      "1764733644\n",
      "1764518101\n",
      "1764743967\n",
      "1764492695\n",
      "1764108164\n",
      "1764134032\n",
      "1764003327\n",
      "1764762615\n",
      "1764664241\n",
      "1764202077\n",
      "1764305340\n",
      "1764931523\n",
      "1764632382\n",
      "1764813354\n",
      "1764159228\n",
      "1764849819\n",
      "1764068610\n",
      "1764357378\n",
      "1764645463\n",
      "1764502057\n",
      "1764698508\n",
      "1764012428\n",
      "1764667935\n",
      "1764298817\n",
      "1764425264\n",
      "1764305010\n",
      "1764087780\n",
      "1764877766\n",
      "1764012939\n",
      "1764714642\n",
      "1764417199\n",
      "1764748532\n",
      "1458475563\n",
      "1458763489\n",
      "1702341327\n",
      "1360645580\n",
      "1360901919\n",
      "1360006015\n",
      "1360065728\n",
      "1360141408\n",
      "1360003468\n",
      "1360014952\n",
      "1360696757\n",
      "1626878399\n",
      "1036674070\n",
      "1036323110\n",
      "1036815011\n",
      "1036272226\n",
      "1036074667\n",
      "1036213564\n",
      "1036796452\n",
      "1036074917\n"
     ]
    }
   ],
   "source": [
    "for i in range(len(a)):\n",
    "    print(a[i])"
   ],
   "metadata": {
    "collapsed": false,
    "ExecuteTime": {
     "end_time": "2023-10-28T12:49:18.654192700Z",
     "start_time": "2023-10-28T12:49:18.638335600Z"
    }
   },
   "id": "45c337cc75e6094e"
  },
  {
   "cell_type": "code",
   "execution_count": 34,
   "outputs": [
    {
     "data": {
      "text/plain": "[         lat\n 280  41.8931]"
     },
     "execution_count": 34,
     "metadata": {},
     "output_type": "execute_result"
    }
   ],
   "source": [
    "[f[(f['id'] == a[i])][['lat']]]"
   ],
   "metadata": {
    "collapsed": false,
    "ExecuteTime": {
     "end_time": "2023-10-28T12:50:53.270764300Z",
     "start_time": "2023-10-28T12:50:53.267704500Z"
    }
   },
   "id": "4ba15f4f872bb6eb"
  },
  {
   "cell_type": "code",
   "execution_count": 44,
   "outputs": [
    {
     "data": {
      "text/plain": "<folium.folium.Map at 0x1f8ef0f2f50>",
      "text/html": "<div style=\"width:100%;\"><div style=\"position:relative;width:100%;height:0;padding-bottom:60%;\"><span style=\"color:#565656\">Make this Notebook Trusted to load map: File -> Trust Notebook</span><iframe srcdoc=\"&lt;!DOCTYPE html&gt;\n&lt;html&gt;\n&lt;head&gt;\n    \n    &lt;meta http-equiv=&quot;content-type&quot; content=&quot;text/html; charset=UTF-8&quot; /&gt;\n    \n        &lt;script&gt;\n            L_NO_TOUCH = false;\n            L_DISABLE_3D = false;\n        &lt;/script&gt;\n    \n    &lt;style&gt;html, body {width: 100%;height: 100%;margin: 0;padding: 0;}&lt;/style&gt;\n    &lt;style&gt;#map {position:absolute;top:0;bottom:0;right:0;left:0;}&lt;/style&gt;\n    &lt;script src=&quot;https://cdn.jsdelivr.net/npm/leaflet@1.9.3/dist/leaflet.js&quot;&gt;&lt;/script&gt;\n    &lt;script src=&quot;https://code.jquery.com/jquery-1.12.4.min.js&quot;&gt;&lt;/script&gt;\n    &lt;script src=&quot;https://cdn.jsdelivr.net/npm/bootstrap@5.2.2/dist/js/bootstrap.bundle.min.js&quot;&gt;&lt;/script&gt;\n    &lt;script src=&quot;https://cdnjs.cloudflare.com/ajax/libs/Leaflet.awesome-markers/2.0.2/leaflet.awesome-markers.js&quot;&gt;&lt;/script&gt;\n    &lt;link rel=&quot;stylesheet&quot; href=&quot;https://cdn.jsdelivr.net/npm/leaflet@1.9.3/dist/leaflet.css&quot;/&gt;\n    &lt;link rel=&quot;stylesheet&quot; href=&quot;https://cdn.jsdelivr.net/npm/bootstrap@5.2.2/dist/css/bootstrap.min.css&quot;/&gt;\n    &lt;link rel=&quot;stylesheet&quot; href=&quot;https://netdna.bootstrapcdn.com/bootstrap/3.0.0/css/bootstrap.min.css&quot;/&gt;\n    &lt;link rel=&quot;stylesheet&quot; href=&quot;https://cdn.jsdelivr.net/npm/@fortawesome/fontawesome-free@6.2.0/css/all.min.css&quot;/&gt;\n    &lt;link rel=&quot;stylesheet&quot; href=&quot;https://cdnjs.cloudflare.com/ajax/libs/Leaflet.awesome-markers/2.0.2/leaflet.awesome-markers.css&quot;/&gt;\n    &lt;link rel=&quot;stylesheet&quot; href=&quot;https://cdn.jsdelivr.net/gh/python-visualization/folium/folium/templates/leaflet.awesome.rotate.min.css&quot;/&gt;\n    \n            &lt;meta name=&quot;viewport&quot; content=&quot;width=device-width,\n                initial-scale=1.0, maximum-scale=1.0, user-scalable=no&quot; /&gt;\n            &lt;style&gt;\n                #map_1f11d9b4e688f7eeba82eb6de73440fb {\n                    position: relative;\n                    width: 100.0%;\n                    height: 100.0%;\n                    left: 0.0%;\n                    top: 0.0%;\n                }\n                .leaflet-container { font-size: 1rem; }\n            &lt;/style&gt;\n        \n&lt;/head&gt;\n&lt;body&gt;\n    \n    \n            &lt;div class=&quot;folium-map&quot; id=&quot;map_1f11d9b4e688f7eeba82eb6de73440fb&quot; &gt;&lt;/div&gt;\n        \n&lt;/body&gt;\n&lt;script&gt;\n    \n    \n            var map_1f11d9b4e688f7eeba82eb6de73440fb = L.map(\n                &quot;map_1f11d9b4e688f7eeba82eb6de73440fb&quot;,\n                {\n                    center: [45.5236, -122.675],\n                    crs: L.CRS.EPSG3857,\n                    zoom: 0,\n                    zoomControl: true,\n                    preferCanvas: false,\n                }\n            );\n\n            \n\n        \n    \n            var tile_layer_ca7942cc65adcffb0340dbd1ba399a21 = L.tileLayer(\n                &quot;https://{s}.tile.openstreetmap.org/{z}/{x}/{y}.png&quot;,\n                {&quot;attribution&quot;: &quot;Data by \\u0026copy; \\u003ca target=\\&quot;_blank\\&quot; href=\\&quot;http://openstreetmap.org\\&quot;\\u003eOpenStreetMap\\u003c/a\\u003e, under \\u003ca target=\\&quot;_blank\\&quot; href=\\&quot;http://www.openstreetmap.org/copyright\\&quot;\\u003eODbL\\u003c/a\\u003e.&quot;, &quot;detectRetina&quot;: false, &quot;maxNativeZoom&quot;: 18, &quot;maxZoom&quot;: 18, &quot;minZoom&quot;: 0, &quot;noWrap&quot;: false, &quot;opacity&quot;: 1, &quot;subdomains&quot;: &quot;abc&quot;, &quot;tms&quot;: false}\n            ).addTo(map_1f11d9b4e688f7eeba82eb6de73440fb);\n        \n    \n            var marker_a941d55ebfa0573f013d16279747e780 = L.marker(\n                [41.8931, 12.4828],\n                {}\n            ).addTo(map_1f11d9b4e688f7eeba82eb6de73440fb);\n        \n    \n            var marker_5f2c7cff2de64e922cbb57649aee7abd = L.marker(\n                [41.563, 14.656],\n                {}\n            ).addTo(map_1f11d9b4e688f7eeba82eb6de73440fb);\n        \n    \n            var marker_05f7d033f5d4b6eeb72fa01e2ed4ba15 = L.marker(\n                [41.1253, 16.8667],\n                {}\n            ).addTo(map_1f11d9b4e688f7eeba82eb6de73440fb);\n        \n    \n            var marker_71a1e7925db5bc698556ef182af0669e = L.marker(\n                [42.2847, 18.8453],\n                {}\n            ).addTo(map_1f11d9b4e688f7eeba82eb6de73440fb);\n        \n    \n            var marker_55c789038ab508af75f39b978326afd3 = L.marker(\n                [42.05, 19.9],\n                {}\n            ).addTo(map_1f11d9b4e688f7eeba82eb6de73440fb);\n        \n    \n            var marker_b2b0e1a46ce94153aa65889c5191641a = L.marker(\n                [42.296, 20.5162],\n                {}\n            ).addTo(map_1f11d9b4e688f7eeba82eb6de73440fb);\n        \n    \n            var marker_f6c4f61d3b3113c87a86fbe65430053e = L.marker(\n                [42.2333, 21.0167],\n                {}\n            ).addTo(map_1f11d9b4e688f7eeba82eb6de73440fb);\n        \n    \n            var marker_5760af98978eceba05d2274895539dbb = L.marker(\n                [42.102, 21.3846],\n                {}\n            ).addTo(map_1f11d9b4e688f7eeba82eb6de73440fb);\n        \n    \n            var marker_9195df83b2a69d58bdea6d2ce433db4f = L.marker(\n                [42.1403, 21.7136],\n                {}\n            ).addTo(map_1f11d9b4e688f7eeba82eb6de73440fb);\n        \n    \n            var marker_3db5151ca5df6aac4e9b94c708b9a6dd = L.marker(\n                [42.0783, 22.175],\n                {}\n            ).addTo(map_1f11d9b4e688f7eeba82eb6de73440fb);\n        \n    \n            var marker_3bd2fc8a195b990fb5ec138bc8bff822 = L.marker(\n                [42.2811, 22.6889],\n                {}\n            ).addTo(map_1f11d9b4e688f7eeba82eb6de73440fb);\n        \n    \n            var marker_20f9fe2af23f0750d9cb1dad418e6fc8 = L.marker(\n                [41.8919, 23.1111],\n                {}\n            ).addTo(map_1f11d9b4e688f7eeba82eb6de73440fb);\n        \n    \n            var marker_4ba5871747a90cd5af50cfd464ffa30b = L.marker(\n                [42.0183, 23.6697],\n                {}\n            ).addTo(map_1f11d9b4e688f7eeba82eb6de73440fb);\n        \n    \n            var marker_0dd622f7e2be2f2a6621bfe69568022b = L.marker(\n                [42.0414, 24.47],\n                {}\n            ).addTo(map_1f11d9b4e688f7eeba82eb6de73440fb);\n        \n    \n            var marker_c515232c90b03cee68081d1884072a14 = L.marker(\n                [42.0994, 25.2242],\n                {}\n            ).addTo(map_1f11d9b4e688f7eeba82eb6de73440fb);\n        \n    \n            var marker_35951ca378301f2f56a76ca7f7c1f6d5 = L.marker(\n                [41.9297, 25.9019],\n                {}\n            ).addTo(map_1f11d9b4e688f7eeba82eb6de73440fb);\n        \n    \n            var marker_4c4f7cb21f84c4ed258d051aa086fbae = L.marker(\n                [41.5, 26.5333],\n                {}\n            ).addTo(map_1f11d9b4e688f7eeba82eb6de73440fb);\n        \n    \n            var marker_0c22c669bb229e2b3f17a3ab71fa49f4 = L.marker(\n                [40.9833, 27.5167],\n                {}\n            ).addTo(map_1f11d9b4e688f7eeba82eb6de73440fb);\n        \n    \n            var marker_499586a708b92715d2ec007ddc3f85d7 = L.marker(\n                [40.6556, 29.275],\n                {}\n            ).addTo(map_1f11d9b4e688f7eeba82eb6de73440fb);\n        \n    \n            var marker_e2c05b1717da1d2e7ce0b82aae54b4fd = L.marker(\n                [40.8417, 31.1583],\n                {}\n            ).addTo(map_1f11d9b4e688f7eeba82eb6de73440fb);\n        \n    \n            var marker_9e6c1c1edfc79cf6ed65670140b55569 = L.marker(\n                [41.2, 32.6333],\n                {}\n            ).addTo(map_1f11d9b4e688f7eeba82eb6de73440fb);\n        \n    \n            var marker_3dbc826cf2575b2bc33c8d77add99c68 = L.marker(\n                [40.646, 34.261],\n                {}\n            ).addTo(map_1f11d9b4e688f7eeba82eb6de73440fb);\n        \n    \n            var marker_3f83ff2d4e08961102b1cd2a6e349e61 = L.marker(\n                [40.2759, 36.2832],\n                {}\n            ).addTo(map_1f11d9b4e688f7eeba82eb6de73440fb);\n        \n    \n            var marker_e19c95f71a8cbf4a66e87e815b5f92e6 = L.marker(\n                [39.3667, 38.1167],\n                {}\n            ).addTo(map_1f11d9b4e688f7eeba82eb6de73440fb);\n        \n    \n            var marker_ae7405e956fb970c4641daef38011b98 = L.marker(\n                [38.8861, 40.5017],\n                {}\n            ).addTo(map_1f11d9b4e688f7eeba82eb6de73440fb);\n        \n    \n            var marker_80e8fd72bbaed15c56f58701fceda483 = L.marker(\n                [38.5066, 42.2816],\n                {}\n            ).addTo(map_1f11d9b4e688f7eeba82eb6de73440fb);\n        \n    \n            var marker_9a29d37ef1aedcec9688cc3734c9aeb4 = L.marker(\n                [37.5744, 43.7408],\n                {}\n            ).addTo(map_1f11d9b4e688f7eeba82eb6de73440fb);\n        \n    \n            var marker_9115cdf08d2a5489b5ee84fe598e4c96 = L.marker(\n                [36.6944, 45.1417],\n                {}\n            ).addTo(map_1f11d9b4e688f7eeba82eb6de73440fb);\n        \n    \n            var marker_49c08517a89822a1378609b917e8b76c = L.marker(\n                [35.5269, 46.1761],\n                {}\n            ).addTo(map_1f11d9b4e688f7eeba82eb6de73440fb);\n        \n    \n            var marker_e9ff487b668c6e7400a893bff3dd5c87 = L.marker(\n                [34.3167, 47.0686],\n                {}\n            ).addTo(map_1f11d9b4e688f7eeba82eb6de73440fb);\n        \n    \n            var marker_6f5b46189fb148f662f9157c12dd69c6 = L.marker(\n                [33.4933, 49.075],\n                {}\n            ).addTo(map_1f11d9b4e688f7eeba82eb6de73440fb);\n        \n    \n            var marker_4ee9c087bc44020f4a0fc86a07301547 = L.marker(\n                [33.1044, 50.9589],\n                {}\n            ).addTo(map_1f11d9b4e688f7eeba82eb6de73440fb);\n        \n    \n            var marker_7c14bbf588f21f7b71ea88c1eb374bfd = L.marker(\n                [32.8019, 51.6636],\n                {}\n            ).addTo(map_1f11d9b4e688f7eeba82eb6de73440fb);\n        \n    \n            var marker_112d143c0d8cb5d0f5aa3de3dec8c5ee = L.marker(\n                [32.3464, 51.5044],\n                {}\n            ).addTo(map_1f11d9b4e688f7eeba82eb6de73440fb);\n        \n    \n            var marker_73cf98e215f02ec4e933e1d6984f967d = L.marker(\n                [32.2628, 51.5622],\n                {}\n            ).addTo(map_1f11d9b4e688f7eeba82eb6de73440fb);\n        \n    \n            var marker_6513c67e39f99953d1d19684eb72f303 = L.marker(\n                [32.0089, 51.8667],\n                {}\n            ).addTo(map_1f11d9b4e688f7eeba82eb6de73440fb);\n        \n    \n            var marker_8ff20df26fce7a63c3c6f8f515c8987b = L.marker(\n                [31.4142, 51.5694],\n                {}\n            ).addTo(map_1f11d9b4e688f7eeba82eb6de73440fb);\n        \n    \n            var marker_4bc8bff2ba287c3a73e07ab68bccface = L.marker(\n                [31.1942, 52.4839],\n                {}\n            ).addTo(map_1f11d9b4e688f7eeba82eb6de73440fb);\n        \n    \n            var marker_d8aec27576e3e41b03decc692093f535 = L.marker(\n                [31.7475, 54.2042],\n                {}\n            ).addTo(map_1f11d9b4e688f7eeba82eb6de73440fb);\n        \n    \n            var marker_e5ecd8244cc8ced5357e2dc4f3013d6b = L.marker(\n                [30.8128, 56.5639],\n                {}\n            ).addTo(map_1f11d9b4e688f7eeba82eb6de73440fb);\n        \n    \n            var marker_7b5e0a643478fc268a5455efb5c674a4 = L.marker(\n                [29.4833, 60.8667],\n                {}\n            ).addTo(map_1f11d9b4e688f7eeba82eb6de73440fb);\n        \n    \n            var marker_e3f522f86a57a003518b6feed6430403 = L.marker(\n                [30.921, 66.4597],\n                {}\n            ).addTo(map_1f11d9b4e688f7eeba82eb6de73440fb);\n        \n    \n            var marker_7f3e620b693036e89e72e13de91ecf0a = L.marker(\n                [30.05, 70.6333],\n                {}\n            ).addTo(map_1f11d9b4e688f7eeba82eb6de73440fb);\n        \n    \n            var marker_41a2ae51b7c873fde1a86589addd9903 = L.marker(\n                [29.6967, 72.5542],\n                {}\n            ).addTo(map_1f11d9b4e688f7eeba82eb6de73440fb);\n        \n    \n            var marker_0d20c3f16edf616f796c71f080d74601 = L.marker(\n                [30.1204, 74.29],\n                {}\n            ).addTo(map_1f11d9b4e688f7eeba82eb6de73440fb);\n        \n    \n            var marker_966e35ad42b0ca534ce932304b916220 = L.marker(\n                [29.1489, 75.7367],\n                {}\n            ).addTo(map_1f11d9b4e688f7eeba82eb6de73440fb);\n        \n    \n            var marker_22938dcb2fdd8237ef0478d221394e92 = L.marker(\n                [27.5667, 76.6167],\n                {}\n            ).addTo(map_1f11d9b4e688f7eeba82eb6de73440fb);\n        \n    \n            var marker_0e64fb0d8fd93c1b7284c1cc0cd1b2ae = L.marker(\n                [27.18, 78.02],\n                {}\n            ).addTo(map_1f11d9b4e688f7eeba82eb6de73440fb);\n        \n    \n            var marker_ec9dd98f28ebf6e3b8894423f18c3d9f = L.marker(\n                [26.7855, 79.015],\n                {}\n            ).addTo(map_1f11d9b4e688f7eeba82eb6de73440fb);\n        \n    \n            var marker_4aacdf69d2e4cbb06132c6e38958c9af = L.marker(\n                [25.8804, 80.8],\n                {}\n            ).addTo(map_1f11d9b4e688f7eeba82eb6de73440fb);\n        \n    \n            var marker_31f5ab8e3ab3e2ea97e073f30cf6e46d = L.marker(\n                [25.3189, 83.0128],\n                {}\n            ).addTo(map_1f11d9b4e688f7eeba82eb6de73440fb);\n        \n    \n            var marker_760d9e324217686c34c1ec305f0a3f51 = L.marker(\n                [25.03, 85.42],\n                {}\n            ).addTo(map_1f11d9b4e688f7eeba82eb6de73440fb);\n        \n    \n            var marker_f8712acc133db3d04695a4f189657da3 = L.marker(\n                [23.7, 87.08],\n                {}\n            ).addTo(map_1f11d9b4e688f7eeba82eb6de73440fb);\n        \n    \n            var marker_e674112769290c70e909c51481832f74 = L.marker(\n                [22.79, 88.32],\n                {}\n            ).addTo(map_1f11d9b4e688f7eeba82eb6de73440fb);\n        \n    \n            var marker_565a91db2583562feae3e96d72863d30 = L.marker(\n                [22.62, 88.42],\n                {}\n            ).addTo(map_1f11d9b4e688f7eeba82eb6de73440fb);\n        \n    \n            var marker_7597b0426706772dde6b2900976ad365 = L.marker(\n                [22.83, 88.63],\n                {}\n            ).addTo(map_1f11d9b4e688f7eeba82eb6de73440fb);\n        \n    \n            var marker_c2ce3b83646ddb645ff311daf6d3a505 = L.marker(\n                [23.07, 88.82],\n                {}\n            ).addTo(map_1f11d9b4e688f7eeba82eb6de73440fb);\n        \n    \n            var marker_720691707bbd38bab5e1ca4eb629cae8 = L.marker(\n                [22.6572, 88.8942],\n                {}\n            ).addTo(map_1f11d9b4e688f7eeba82eb6de73440fb);\n        \n    \n            var marker_4fcf3ba4b93bce4e1ea8e025c826a0fc = L.marker(\n                [22.5411, 88.3378],\n                {}\n            ).addTo(map_1f11d9b4e688f7eeba82eb6de73440fb);\n        \n    \n            var marker_e5cddca377e729a8aa621995f619c156 = L.marker(\n                [22.1772, 88.4258],\n                {}\n            ).addTo(map_1f11d9b4e688f7eeba82eb6de73440fb);\n        \n    \n            var marker_bd8de5a687a23d364eb1d0e0e9785531 = L.marker(\n                [22.2333, 88.45],\n                {}\n            ).addTo(map_1f11d9b4e688f7eeba82eb6de73440fb);\n        \n    \n            var marker_badf313dbe4dc23d54ef73e001647ebe = L.marker(\n                [22.0257, 88.0583],\n                {}\n            ).addTo(map_1f11d9b4e688f7eeba82eb6de73440fb);\n        \n    \n            var marker_046c196c5a934980529f75d675c69f1d = L.marker(\n                [22.7, 88.45],\n                {}\n            ).addTo(map_1f11d9b4e688f7eeba82eb6de73440fb);\n        \n    \n            var marker_3a152a11dc70bc0d8532427615389644 = L.marker(\n                [22.59, 88.31],\n                {}\n            ).addTo(map_1f11d9b4e688f7eeba82eb6de73440fb);\n        \n    \n            var marker_bd6e1450f33954d570fa69a9768db9e4 = L.marker(\n                [22.67, 88.37],\n                {}\n            ).addTo(map_1f11d9b4e688f7eeba82eb6de73440fb);\n        \n    \n            var marker_5b0a58b6f8a4a27138bc6c0b62f51937 = L.marker(\n                [22.65, 88.34],\n                {}\n            ).addTo(map_1f11d9b4e688f7eeba82eb6de73440fb);\n        \n    \n            var marker_90fae591860765e1e4c226ff103ec648 = L.marker(\n                [22.69, 88.37],\n                {}\n            ).addTo(map_1f11d9b4e688f7eeba82eb6de73440fb);\n        \n    \n            var marker_9e6cca17f62c07831c2c3d6f90abf065 = L.marker(\n                [22.72, 88.38],\n                {}\n            ).addTo(map_1f11d9b4e688f7eeba82eb6de73440fb);\n        \n    \n            var marker_092bc010aa53f12e5716069c8f81a8f2 = L.marker(\n                [22.71, 88.35],\n                {}\n            ).addTo(map_1f11d9b4e688f7eeba82eb6de73440fb);\n        \n    \n            var marker_9e775aa6930e4e0508ffa490318fb19a = L.marker(\n                [22.74, 88.37],\n                {}\n            ).addTo(map_1f11d9b4e688f7eeba82eb6de73440fb);\n        \n    \n            var marker_db69144c01dab7194e57458c0c6fce5d = L.marker(\n                [22.75, 88.34],\n                {}\n            ).addTo(map_1f11d9b4e688f7eeba82eb6de73440fb);\n        \n    \n            var marker_a76bfeb0ca04f1449056d54726702354 = L.marker(\n                [22.8, 88.37],\n                {}\n            ).addTo(map_1f11d9b4e688f7eeba82eb6de73440fb);\n        \n    \n            var marker_4dea388cc8e5d2da87565a7e2868d1a7 = L.marker(\n                [22.8667, 88.4167],\n                {}\n            ).addTo(map_1f11d9b4e688f7eeba82eb6de73440fb);\n        \n    \n            var marker_d6ced29e6acd3fc1fa749710e7aef2e4 = L.marker(\n                [22.82, 88.35],\n                {}\n            ).addTo(map_1f11d9b4e688f7eeba82eb6de73440fb);\n        \n    \n            var marker_210f39e6f59fede60426d98c22a5a157 = L.marker(\n                [22.9, 88.42],\n                {}\n            ).addTo(map_1f11d9b4e688f7eeba82eb6de73440fb);\n        \n    \n            var marker_b12b356c8f80d3b20e4eedf7eaa30224 = L.marker(\n                [22.8667, 88.3833],\n                {}\n            ).addTo(map_1f11d9b4e688f7eeba82eb6de73440fb);\n        \n    \n            var marker_b78771a5465e1b6386f2c46c784d31de = L.marker(\n                [22.9, 88.39],\n                {}\n            ).addTo(map_1f11d9b4e688f7eeba82eb6de73440fb);\n        \n    \n            var marker_b9a392e87ece98c23f1380081635bdcb = L.marker(\n                [22.95, 88.42],\n                {}\n            ).addTo(map_1f11d9b4e688f7eeba82eb6de73440fb);\n        \n    \n            var marker_181b7922aab84fc5218ca5ab58b193ca = L.marker(\n                [22.97, 88.43],\n                {}\n            ).addTo(map_1f11d9b4e688f7eeba82eb6de73440fb);\n        \n    \n            var marker_b7be11d2b6b70b209a439ee46ba503ea = L.marker(\n                [22.975, 88.4344],\n                {}\n            ).addTo(map_1f11d9b4e688f7eeba82eb6de73440fb);\n        \n    \n            var marker_08b43e0ec0003c2916a3b319c22287e3 = L.marker(\n                [22.97, 88.4],\n                {}\n            ).addTo(map_1f11d9b4e688f7eeba82eb6de73440fb);\n        \n    \n            var marker_90fdf5677527140fd410141956d295c8 = L.marker(\n                [23.25, 88.43],\n                {}\n            ).addTo(map_1f11d9b4e688f7eeba82eb6de73440fb);\n        \n    \n            var marker_de0d20b229541812004b9bc432db274f = L.marker(\n                [23.4, 88.5],\n                {}\n            ).addTo(map_1f11d9b4e688f7eeba82eb6de73440fb);\n        \n    \n            var marker_a42c489cdbad3009487714b94f7a0b86 = L.marker(\n                [23.1704, 89.2],\n                {}\n            ).addTo(map_1f11d9b4e688f7eeba82eb6de73440fb);\n        \n    \n            var marker_6b37150d6fa188ee7a450f3bb47012b5 = L.marker(\n                [22.8167, 89.55],\n                {}\n            ).addTo(map_1f11d9b4e688f7eeba82eb6de73440fb);\n        \n    \n            var marker_fb22a01761c477476016f01952e641ed = L.marker(\n                [22.7, 90.3667],\n                {}\n            ).addTo(map_1f11d9b4e688f7eeba82eb6de73440fb);\n        \n    \n            var marker_7a3414973a8f42f5dc6a0bbd0965b4eb = L.marker(\n                [22.335, 91.8325],\n                {}\n            ).addTo(map_1f11d9b4e688f7eeba82eb6de73440fb);\n        \n    \n            var marker_19dc493ff3b25829878798912d690350 = L.marker(\n                [20.1444, 92.8969],\n                {}\n            ).addTo(map_1f11d9b4e688f7eeba82eb6de73440fb);\n        \n    \n            var marker_393fbe64adbec9932747adba38cf529b = L.marker(\n                [17.6483, 95.4679],\n                {}\n            ).addTo(map_1f11d9b4e688f7eeba82eb6de73440fb);\n        \n    \n            var marker_4a5de67a80fe92b0cee085d6c0144f46 = L.marker(\n                [16.2618, 97.7215],\n                {}\n            ).addTo(map_1f11d9b4e688f7eeba82eb6de73440fb);\n        \n    \n            var marker_1eab1409f22f60b7e187d4bd76b93370 = L.marker(\n                [15.38, 100.025],\n                {}\n            ).addTo(map_1f11d9b4e688f7eeba82eb6de73440fb);\n        \n    \n            var marker_265669e50c0d7b9c1fb7f09f27866997 = L.marker(\n                [14.5864, 100.9967],\n                {}\n            ).addTo(map_1f11d9b4e688f7eeba82eb6de73440fb);\n        \n    \n            var marker_3cad6a9d7958cf20f1a644b47bc8ba4f = L.marker(\n                [14.0567, 101.3739],\n                {}\n            ).addTo(map_1f11d9b4e688f7eeba82eb6de73440fb);\n        \n    \n            var marker_1d051abeef62b954a1db3a4d7736b402 = L.marker(\n                [13.8206, 102.0589],\n                {}\n            ).addTo(map_1f11d9b4e688f7eeba82eb6de73440fb);\n        \n    \n            var marker_9c972a681ae4e35d890226bb4297b6bf = L.marker(\n                [12.8489, 102.6093],\n                {}\n            ).addTo(map_1f11d9b4e688f7eeba82eb6de73440fb);\n        \n    \n            var marker_a6f80bd5e5559e34a9c7dda962eb9e5e = L.marker(\n                [11.6167, 102.9833],\n                {}\n            ).addTo(map_1f11d9b4e688f7eeba82eb6de73440fb);\n        \n    \n            var marker_3d44892ebfcc2e124b0e34e0fb4d613a = L.marker(\n                [10.4828, 104.3167],\n                {}\n            ).addTo(map_1f11d9b4e688f7eeba82eb6de73440fb);\n        \n    \n            var marker_3960de0ce1b237bed4d84c02c93f7ae3 = L.marker(\n                [9.1833, 105.15],\n                {}\n            ).addTo(map_1f11d9b4e688f7eeba82eb6de73440fb);\n        \n    \n            var marker_133e037e854b50b485daa2b0dd36f0e9 = L.marker(\n                [9.2833, 105.7167],\n                {}\n            ).addTo(map_1f11d9b4e688f7eeba82eb6de73440fb);\n        \n    \n            var marker_cb514507c788d9fbae76093cf504e2ae = L.marker(\n                [10.4042, 107.1417],\n                {}\n            ).addTo(map_1f11d9b4e688f7eeba82eb6de73440fb);\n        \n    \n            var marker_1154f85f92f6bc4480dcee24b996d449 = L.marker(\n                [10.9375, 108.1583],\n                {}\n            ).addTo(map_1f11d9b4e688f7eeba82eb6de73440fb);\n        \n    \n            var marker_5a6725a7cf25140187b65a713115ad63 = L.marker(\n                [11.5643, 108.9886],\n                {}\n            ).addTo(map_1f11d9b4e688f7eeba82eb6de73440fb);\n        \n    \n            var marker_486084050eac650841e05b36c4b7422f = L.marker(\n                [11.902, 109.2207],\n                {}\n            ).addTo(map_1f11d9b4e688f7eeba82eb6de73440fb);\n        \n    \n            var marker_2220d3869bec99cf8b4305ba3c02eba3 = L.marker(\n                [11.9136, 109.1369],\n                {}\n            ).addTo(map_1f11d9b4e688f7eeba82eb6de73440fb);\n        \n    \n            var marker_d2ec14b01aed7f557336916009fb5e66 = L.marker(\n                [12.25, 109.1833],\n                {}\n            ).addTo(map_1f11d9b4e688f7eeba82eb6de73440fb);\n        \n    \n            var marker_c75cff53ad39f9339814549532f4dcb9 = L.marker(\n                [11.9359, 108.4429],\n                {}\n            ).addTo(map_1f11d9b4e688f7eeba82eb6de73440fb);\n        \n    \n            var marker_e5517734332578f543cbaea1c7ff17c5 = L.marker(\n                [11.9304, 108.42],\n                {}\n            ).addTo(map_1f11d9b4e688f7eeba82eb6de73440fb);\n        \n    \n            var marker_5fe0675d24a054432c135caaec3b1ee3 = L.marker(\n                [10.9575, 106.8426],\n                {}\n            ).addTo(map_1f11d9b4e688f7eeba82eb6de73440fb);\n        \n    \n            var marker_9308cd6f21fef4a08bd614a9beecbb01 = L.marker(\n                [9.9369, 106.3411],\n                {}\n            ).addTo(map_1f11d9b4e688f7eeba82eb6de73440fb);\n        \n    \n            var marker_57a8c21ba76d22525e9484f4cb664eeb = L.marker(\n                [9.6, 105.9719],\n                {}\n            ).addTo(map_1f11d9b4e688f7eeba82eb6de73440fb);\n        \n    \n            var marker_b8cd6ca475290b52efdff0f316621529 = L.marker(\n                [10.2333, 106.3833],\n                {}\n            ).addTo(map_1f11d9b4e688f7eeba82eb6de73440fb);\n        \n    \n            var marker_6a6741456ab1df65b9073edce1c98066 = L.marker(\n                [10.35, 106.35],\n                {}\n            ).addTo(map_1f11d9b4e688f7eeba82eb6de73440fb);\n        \n    \n            var marker_9f476b43a7f8309235dc83493947594a = L.marker(\n                [10.5322, 106.4042],\n                {}\n            ).addTo(map_1f11d9b4e688f7eeba82eb6de73440fb);\n        \n    \n            var marker_d0cd8ab283d5662e763d792cd8a67d1f = L.marker(\n                [10.0333, 105.7833],\n                {}\n            ).addTo(map_1f11d9b4e688f7eeba82eb6de73440fb);\n        \n    \n            var marker_9a7be7ebee42edaf6c8d81d36bb0b399 = L.marker(\n                [9.7833, 105.4708],\n                {}\n            ).addTo(map_1f11d9b4e688f7eeba82eb6de73440fb);\n        \n    \n            var marker_7f07903c9c2ad374c8bb99a0dde716cd = L.marker(\n                [10.8167, 106.6333],\n                {}\n            ).addTo(map_1f11d9b4e688f7eeba82eb6de73440fb);\n        \n    \n            var marker_842d332e8b36b3a2c77077e8a92d1bcb = L.marker(\n                [10.255, 105.9753],\n                {}\n            ).addTo(map_1f11d9b4e688f7eeba82eb6de73440fb);\n        \n    \n            var marker_06714ca4d064fe8e05c10effb324398e = L.marker(\n                [11.0042, 106.6583],\n                {}\n            ).addTo(map_1f11d9b4e688f7eeba82eb6de73440fb);\n        \n    \n            var marker_66329f2443ef511963b80e477af7b720 = L.marker(\n                [10.3105, 105.7397],\n                {}\n            ).addTo(map_1f11d9b4e688f7eeba82eb6de73440fb);\n        \n    \n            var marker_dd125ab1a6df45f94608a95f8f58d461 = L.marker(\n                [10.4603, 105.6331],\n                {}\n            ).addTo(map_1f11d9b4e688f7eeba82eb6de73440fb);\n        \n    \n            var marker_3496e06e947d95c6233341febac4acce = L.marker(\n                [10.0125, 105.0808],\n                {}\n            ).addTo(map_1f11d9b4e688f7eeba82eb6de73440fb);\n        \n    \n            var marker_2b3cdf5ad67c8b89a303be7db83d01e3 = L.marker(\n                [10.3686, 105.4234],\n                {}\n            ).addTo(map_1f11d9b4e688f7eeba82eb6de73440fb);\n        \n    \n            var marker_1d078de376fadfb9fbc2c3a2f3adba8c = L.marker(\n                [11.3131, 106.0963],\n                {}\n            ).addTo(map_1f11d9b4e688f7eeba82eb6de73440fb);\n        \n    \n            var marker_e0373835af9167afcb2a900696bd7246 = L.marker(\n                [11.5349, 106.8832],\n                {}\n            ).addTo(map_1f11d9b4e688f7eeba82eb6de73440fb);\n        \n    \n            var marker_37ab8d53b9b48334a3d9c92aecb9c984 = L.marker(\n                [12.0042, 107.6907],\n                {}\n            ).addTo(map_1f11d9b4e688f7eeba82eb6de73440fb);\n        \n    \n            var marker_2e1717a22908d669d1fcfc0c92de8f58 = L.marker(\n                [13.0875, 109.3106],\n                {}\n            ).addTo(map_1f11d9b4e688f7eeba82eb6de73440fb);\n        \n    \n            var marker_8565a8394dd00fc18de4c2ec7ff3419f = L.marker(\n                [12.6667, 108.05],\n                {}\n            ).addTo(map_1f11d9b4e688f7eeba82eb6de73440fb);\n        \n    \n            var marker_0d0042aa92be4a39b709942c9b25cebc = L.marker(\n                [13.7765, 109.2237],\n                {}\n            ).addTo(map_1f11d9b4e688f7eeba82eb6de73440fb);\n        \n    \n            var marker_15649920eeb86ca077c813861aec24bd = L.marker(\n                [12.45, 107.2],\n                {}\n            ).addTo(map_1f11d9b4e688f7eeba82eb6de73440fb);\n        \n    \n            var marker_2bf26f483148a61c94f46d4c0917187e = L.marker(\n                [11.6504, 106.6],\n                {}\n            ).addTo(map_1f11d9b4e688f7eeba82eb6de73440fb);\n        \n    \n            var marker_be47bf3cd741c25e9c23fe511a8418ad = L.marker(\n                [11.0878, 105.7994],\n                {}\n            ).addTo(map_1f11d9b4e688f7eeba82eb6de73440fb);\n        \n    \n            var marker_725385aab99f93b333ba3d5b824824e3 = L.marker(\n                [10.7, 105.1167],\n                {}\n            ).addTo(map_1f11d9b4e688f7eeba82eb6de73440fb);\n        \n    \n            var marker_888588b9bac7385cf62ca3a07aad7f27 = L.marker(\n                [10.2289, 103.9572],\n                {}\n            ).addTo(map_1f11d9b4e688f7eeba82eb6de73440fb);\n        \n    \n            var marker_fc81306498726a03e26722aba8b94a16 = L.marker(\n                [10.9833, 104.7833],\n                {}\n            ).addTo(map_1f11d9b4e688f7eeba82eb6de73440fb);\n        \n    \n            var marker_7b1af39feb00d365e8933096a462831a = L.marker(\n                [11.484, 105.324],\n                {}\n            ).addTo(map_1f11d9b4e688f7eeba82eb6de73440fb);\n        \n    \n            var marker_c854e5a51aaad9d830304c2103442336 = L.marker(\n                [11.9167, 105.65],\n                {}\n            ).addTo(map_1f11d9b4e688f7eeba82eb6de73440fb);\n        \n    \n            var marker_087fcdf2fe5ce138f39acce48fbc1dc6 = L.marker(\n                [11.4833, 104.95],\n                {}\n            ).addTo(map_1f11d9b4e688f7eeba82eb6de73440fb);\n        \n    \n            var marker_3b2deb46dd9f3f5e60643fb4780ef47f = L.marker(\n                [10.6, 104.1667],\n                {}\n            ).addTo(map_1f11d9b4e688f7eeba82eb6de73440fb);\n        \n    \n            var marker_ba088559b6b86e2fe0898f8da014330a = L.marker(\n                [11.5696, 104.921],\n                {}\n            ).addTo(map_1f11d9b4e688f7eeba82eb6de73440fb);\n        \n    \n            var marker_cf038fb38895830313d7f539e3e84049 = L.marker(\n                [12.4881, 106.0188],\n                {}\n            ).addTo(map_1f11d9b4e688f7eeba82eb6de73440fb);\n        \n    \n            var marker_b1aca264f6c741045a41cfea52a0666a = L.marker(\n                [12.0, 105.45],\n                {}\n            ).addTo(map_1f11d9b4e688f7eeba82eb6de73440fb);\n        \n    \n            var marker_23f999f3f649a54fbd213b1dd9dd8070 = L.marker(\n                [11.45, 104.5333],\n                {}\n            ).addTo(map_1f11d9b4e688f7eeba82eb6de73440fb);\n        \n    \n            var marker_0e342e779f66dd5061541ac6139c9a14 = L.marker(\n                [10.6333, 103.5],\n                {}\n            ).addTo(map_1f11d9b4e688f7eeba82eb6de73440fb);\n        \n    \n            var marker_17bf4c849d7dbddfcd6fe1967270f55d = L.marker(\n                [12.25, 104.6667],\n                {}\n            ).addTo(map_1f11d9b4e688f7eeba82eb6de73440fb);\n        \n    \n            var marker_582788ba11ba892816bd582516dadaa4 = L.marker(\n                [13.5167, 105.9667],\n                {}\n            ).addTo(map_1f11d9b4e688f7eeba82eb6de73440fb);\n        \n    \n            var marker_d0aed7f80c4e78ed9faf5ec0f96c5cbe = L.marker(\n                [13.507, 106.981],\n                {}\n            ).addTo(map_1f11d9b4e688f7eeba82eb6de73440fb);\n        \n    \n            var marker_95973d80b5ed040f2d2ab2aa504d0c7b = L.marker(\n                [13.9833, 108.0],\n                {}\n            ).addTo(map_1f11d9b4e688f7eeba82eb6de73440fb);\n        \n    \n            var marker_f82bec651755ffcdc8c9a1b04287a530 = L.marker(\n                [14.3417, 107.9792],\n                {}\n            ).addTo(map_1f11d9b4e688f7eeba82eb6de73440fb);\n        \n    \n            var marker_2b31014e9b0062761cc4c7e15381eeef = L.marker(\n                [15.1206, 108.7922],\n                {}\n            ).addTo(map_1f11d9b4e688f7eeba82eb6de73440fb);\n        \n    \n            var marker_586b3fbc5c9b0597c64903fb1d9d3170 = L.marker(\n                [13.7394, 106.9873],\n                {}\n            ).addTo(map_1f11d9b4e688f7eeba82eb6de73440fb);\n        \n    \n            var marker_36faeb61b4532d1e0a010c8138e68658 = L.marker(\n                [14.8, 106.8333],\n                {}\n            ).addTo(map_1f11d9b4e688f7eeba82eb6de73440fb);\n        \n    \n            var marker_ae8a1f0df46f068437a28ca8e678b97f = L.marker(\n                [15.5667, 108.4833],\n                {}\n            ).addTo(map_1f11d9b4e688f7eeba82eb6de73440fb);\n        \n    \n            var marker_b43d4c1b3781ff9273b30948d42cd8e3 = L.marker(\n                [15.8733, 108.3327],\n                {}\n            ).addTo(map_1f11d9b4e688f7eeba82eb6de73440fb);\n        \n    \n            var marker_1871d8368ae53cd7f1dc8c105255c5e9 = L.marker(\n                [16.06, 108.25],\n                {}\n            ).addTo(map_1f11d9b4e688f7eeba82eb6de73440fb);\n        \n    \n            var marker_f08c9db7ea39ef47c5e249ca4872fced = L.marker(\n                [16.0748, 108.224],\n                {}\n            ).addTo(map_1f11d9b4e688f7eeba82eb6de73440fb);\n        \n    \n            var marker_94ccca976f772cbed308d38164c66409 = L.marker(\n                [15.3503, 106.7286],\n                {}\n            ).addTo(map_1f11d9b4e688f7eeba82eb6de73440fb);\n        \n    \n            var marker_fade73cffe657b2dd5db10951ee4fe75 = L.marker(\n                [14.8833, 105.8667],\n                {}\n            ).addTo(map_1f11d9b4e688f7eeba82eb6de73440fb);\n        \n    \n            var marker_060c9e6c756700bef8200f3243de55da = L.marker(\n                [13.8167, 104.9667],\n                {}\n            ).addTo(map_1f11d9b4e688f7eeba82eb6de73440fb);\n        \n    \n            var marker_f4f9561a2e84bd26a631510ed91e688e = L.marker(\n                [12.7111, 104.8886],\n                {}\n            ).addTo(map_1f11d9b4e688f7eeba82eb6de73440fb);\n        \n    \n            var marker_576eb5e3b7410f346aab96fa1d0c64a6 = L.marker(\n                [12.712, 104.889],\n                {}\n            ).addTo(map_1f11d9b4e688f7eeba82eb6de73440fb);\n        \n    \n            var marker_85bd8b165c2eda10b4c583611aafd3b5 = L.marker(\n                [12.5337, 103.9167],\n                {}\n            ).addTo(map_1f11d9b4e688f7eeba82eb6de73440fb);\n        \n    \n            var marker_1efd791fc7da5b6fa8e2057789922325 = L.marker(\n                [13.3622, 103.8597],\n                {}\n            ).addTo(map_1f11d9b4e688f7eeba82eb6de73440fb);\n        \n    \n            var marker_dd459c5b88a6f9cebf078c3130baead5 = L.marker(\n                [12.2417, 102.5125],\n                {}\n            ).addTo(map_1f11d9b4e688f7eeba82eb6de73440fb);\n        \n    \n            var marker_d2efe54dea7e5e1ed5fa9a56ebba6d9d = L.marker(\n                [13.1, 103.2],\n                {}\n            ).addTo(map_1f11d9b4e688f7eeba82eb6de73440fb);\n        \n    \n            var marker_5631e9e5d390761f95c255a560fbbe99 = L.marker(\n                [12.4547, 102.2214],\n                {}\n            ).addTo(map_1f11d9b4e688f7eeba82eb6de73440fb);\n        \n    \n            var marker_e5756d36266f765ead186c86a99c6359 = L.marker(\n                [12.6086, 102.1039],\n                {}\n            ).addTo(map_1f11d9b4e688f7eeba82eb6de73440fb);\n        \n    \n            var marker_3e8dc1322d78c46ee42474a97dc89cbf = L.marker(\n                [12.6196, 102.0112],\n                {}\n            ).addTo(map_1f11d9b4e688f7eeba82eb6de73440fb);\n        \n    \n            var marker_31eecaef21578b92c170e39f0fe08e81 = L.marker(\n                [13.6928, 102.5017],\n                {}\n            ).addTo(map_1f11d9b4e688f7eeba82eb6de73440fb);\n        \n    \n            var marker_d195ae2ebdab5c5ce0befec7cf3431e5 = L.marker(\n                [13.5833, 102.9833],\n                {}\n            ).addTo(map_1f11d9b4e688f7eeba82eb6de73440fb);\n        \n    \n            var marker_f059c7df3dc34d6cb4e37cce5e78a4e6 = L.marker(\n                [14.1817, 103.5176],\n                {}\n            ).addTo(map_1f11d9b4e688f7eeba82eb6de73440fb);\n        \n    \n            var marker_2e91767cc5fa9af0e6513481a27a4fa6 = L.marker(\n                [14.906, 105.0784],\n                {}\n            ).addTo(map_1f11d9b4e688f7eeba82eb6de73440fb);\n        \n    \n            var marker_508c61fa15aea835a1505e75d6548c10 = L.marker(\n                [15.1167, 105.7833],\n                {}\n            ).addTo(map_1f11d9b4e688f7eeba82eb6de73440fb);\n        \n    \n            var marker_2ee0936191244f6d1fedd5ffa6b54aa3 = L.marker(\n                [15.7167, 106.4167],\n                {}\n            ).addTo(map_1f11d9b4e688f7eeba82eb6de73440fb);\n        \n    \n            var marker_d0269121873a59a1fe30e324a666d0fa = L.marker(\n                [16.4667, 107.5833],\n                {}\n            ).addTo(map_1f11d9b4e688f7eeba82eb6de73440fb);\n        \n    \n            var marker_121248ba296a2d657f76c87611d5eee8 = L.marker(\n                [18.2536, 109.5019],\n                {}\n            ).addTo(map_1f11d9b4e688f7eeba82eb6de73440fb);\n        \n    \n            var marker_c22c6c208b0c7e9c33379709db824e15 = L.marker(\n                [18.8, 110.4],\n                {}\n            ).addTo(map_1f11d9b4e688f7eeba82eb6de73440fb);\n        \n    \n            var marker_daeca3f0d16555493a0054d107686b49 = L.marker(\n                [19.2431, 110.4642],\n                {}\n            ).addTo(map_1f11d9b4e688f7eeba82eb6de73440fb);\n        \n    \n            var marker_41cd8b5fc4ebd2a007e1edef2ab457dd = L.marker(\n                [19.6167, 110.75],\n                {}\n            ).addTo(map_1f11d9b4e688f7eeba82eb6de73440fb);\n        \n    \n            var marker_dd078174d5c8c9468ac62125ccfdb71b = L.marker(\n                [18.7787, 109.5117],\n                {}\n            ).addTo(map_1f11d9b4e688f7eeba82eb6de73440fb);\n        \n    \n            var marker_76ebf93ba58be5e8c813a5c3d93a4a80 = L.marker(\n                [16.7504, 107.2],\n                {}\n            ).addTo(map_1f11d9b4e688f7eeba82eb6de73440fb);\n        \n    \n            var marker_0cb6ec76a6648ede209d2f30b6a7595b = L.marker(\n                [15.2482, 105.2296],\n                {}\n            ).addTo(map_1f11d9b4e688f7eeba82eb6de73440fb);\n        \n    \n            var marker_c3a82e415be1c4debfc3fb105a6c06d3 = L.marker(\n                [14.6536, 104.6278],\n                {}\n            ).addTo(map_1f11d9b4e688f7eeba82eb6de73440fb);\n        \n    \n            var marker_1cca47c0977dbf64ede844f5d0f88950 = L.marker(\n                [15.2008, 104.8612],\n                {}\n            ).addTo(map_1f11d9b4e688f7eeba82eb6de73440fb);\n        \n    \n            var marker_26e4cfa9ed7c5b6a77f3cd100dc60016 = L.marker(\n                [15.2281, 104.8594],\n                {}\n            ).addTo(map_1f11d9b4e688f7eeba82eb6de73440fb);\n        \n    \n            var marker_5f310d7ca6a49a7a7b5cef690e160e9a = L.marker(\n                [15.1069, 104.3294],\n                {}\n            ).addTo(map_1f11d9b4e688f7eeba82eb6de73440fb);\n        \n    \n            var marker_bc2fef8990fba05eae7d243a66822408 = L.marker(\n                [15.85, 104.6333],\n                {}\n            ).addTo(map_1f11d9b4e688f7eeba82eb6de73440fb);\n        \n    \n            var marker_50b97bf1c62522885bf04bee401d1ec9 = L.marker(\n                [14.8833, 103.4931],\n                {}\n            ).addTo(map_1f11d9b4e688f7eeba82eb6de73440fb);\n        \n    \n            var marker_29985a1bfe0e8c23c8f34b7b6b501ae6 = L.marker(\n                [15.7883, 104.1506],\n                {}\n            ).addTo(map_1f11d9b4e688f7eeba82eb6de73440fb);\n        \n    \n            var marker_b4c0d7580e27a3a467cab0a860bc7393 = L.marker(\n                [14.9942, 103.1022],\n                {}\n            ).addTo(map_1f11d9b4e688f7eeba82eb6de73440fb);\n        \n    \n            var marker_9d15fe774fad61b4d72d84829bf1f8fe = L.marker(\n                [14.6363, 102.7746],\n                {}\n            ).addTo(map_1f11d9b4e688f7eeba82eb6de73440fb);\n        \n    \n            var marker_dd34eff1e4b0e25882d04187d12ac8da = L.marker(\n                [13.5004, 102.1806],\n                {}\n            ).addTo(map_1f11d9b4e688f7eeba82eb6de73440fb);\n        \n    \n            var marker_7ce171597a979d39d4a9ba9a02ca71d8 = L.marker(\n                [12.6742, 101.2789],\n                {}\n            ).addTo(map_1f11d9b4e688f7eeba82eb6de73440fb);\n        \n    \n            var marker_0d18e526b0a9e517b86ffa2edeb5f395 = L.marker(\n                [12.7258, 101.1722],\n                {}\n            ).addTo(map_1f11d9b4e688f7eeba82eb6de73440fb);\n        \n    \n            var marker_9ab3ff85f96b993ea2382c336e388f72 = L.marker(\n                [12.7209, 101.0669],\n                {}\n            ).addTo(map_1f11d9b4e688f7eeba82eb6de73440fb);\n        \n    \n            var marker_20b460bc68a242747ab4fc562f85ba39 = L.marker(\n                [12.6636, 100.9036],\n                {}\n            ).addTo(map_1f11d9b4e688f7eeba82eb6de73440fb);\n        \n    \n            var marker_1598e765437adbaae1b75a3dcf2b93bf = L.marker(\n                [12.9227, 100.9375],\n                {}\n            ).addTo(map_1f11d9b4e688f7eeba82eb6de73440fb);\n        \n    \n            var marker_56c953e9e2e670fabe56cd69a6b43703 = L.marker(\n                [12.9496, 100.893],\n                {}\n            ).addTo(map_1f11d9b4e688f7eeba82eb6de73440fb);\n        \n    \n            var marker_de0e4c99499c1617406bda8a06ec7036 = L.marker(\n                [13.086, 100.9247],\n                {}\n            ).addTo(map_1f11d9b4e688f7eeba82eb6de73440fb);\n        \n    \n            var marker_f173bc11a6c68cf5731db1cdce6cb237 = L.marker(\n                [13.314, 101.1114],\n                {}\n            ).addTo(map_1f11d9b4e688f7eeba82eb6de73440fb);\n        \n    \n            var marker_107c2717c045454b1cf1d37d834ebebf = L.marker(\n                [13.1744, 100.9306],\n                {}\n            ).addTo(map_1f11d9b4e688f7eeba82eb6de73440fb);\n        \n    \n            var marker_3c538160ee2b7aeb17d68d81a39c1e41 = L.marker(\n                [13.4458, 101.1844],\n                {}\n            ).addTo(map_1f11d9b4e688f7eeba82eb6de73440fb);\n        \n    \n            var marker_691c296544275f2abde2546e58f345d5 = L.marker(\n                [13.2882, 100.9144],\n                {}\n            ).addTo(map_1f11d9b4e688f7eeba82eb6de73440fb);\n        \n    \n            var marker_eaf67183944ccf5ea0cf124a656eb403 = L.marker(\n                [13.3611, 100.985],\n                {}\n            ).addTo(map_1f11d9b4e688f7eeba82eb6de73440fb);\n        \n    \n            var marker_1b2605cb1bb18762b2fd795397e4ceec = L.marker(\n                [13.3616, 100.9795],\n                {}\n            ).addTo(map_1f11d9b4e688f7eeba82eb6de73440fb);\n        \n    \n            var marker_d2555aeae1c4e217bfa8b23031edd1d9 = L.marker(\n                [13.3364, 100.9278],\n                {}\n            ).addTo(map_1f11d9b4e688f7eeba82eb6de73440fb);\n        \n    \n            var marker_116e5098eef8b2fadcd0a343b2aff0bc = L.marker(\n                [13.6903, 101.0703],\n                {}\n            ).addTo(map_1f11d9b4e688f7eeba82eb6de73440fb);\n        \n    \n            var marker_bf023b9306b75ac567dfc82f2f5cf2a9 = L.marker(\n                [13.6371, 100.6636],\n                {}\n            ).addTo(map_1f11d9b4e688f7eeba82eb6de73440fb);\n        \n    \n            var marker_22ec56abf1ee91526de9af5b71ccfac5 = L.marker(\n                [13.6004, 100.5964],\n                {}\n            ).addTo(map_1f11d9b4e688f7eeba82eb6de73440fb);\n        \n    \n            var marker_99b25b304e38bb285dcb23acaddad109 = L.marker(\n                [13.659, 100.5329],\n                {}\n            ).addTo(map_1f11d9b4e688f7eeba82eb6de73440fb);\n        \n    \n            var marker_db975f93caa533354cbf85e3f454111d = L.marker(\n                [13.75, 100.5167],\n                {}\n            ).addTo(map_1f11d9b4e688f7eeba82eb6de73440fb);\n        \n    \n            var marker_5308f1d24c96cf8956eefecf71a4e9bf = L.marker(\n                [13.8042, 100.4755],\n                {}\n            ).addTo(map_1f11d9b4e688f7eeba82eb6de73440fb);\n        \n    \n            var marker_708074db0597b85176d0d3c7266217b5 = L.marker(\n                [13.6372, 100.2967],\n                {}\n            ).addTo(map_1f11d9b4e688f7eeba82eb6de73440fb);\n        \n    \n            var marker_b0453e2240e1b2e80e4c5e673b9d60ab = L.marker(\n                [13.5486, 100.2775],\n                {}\n            ).addTo(map_1f11d9b4e688f7eeba82eb6de73440fb);\n        \n    \n            var marker_86fedc65a6d274b53674ada3e46a9e27 = L.marker(\n                [13.8444, 100.4829],\n                {}\n            ).addTo(map_1f11d9b4e688f7eeba82eb6de73440fb);\n        \n    \n            var marker_d96ff1ae9a5cab900758c6dd918e4d92 = L.marker(\n                [13.9726, 100.6506],\n                {}\n            ).addTo(map_1f11d9b4e688f7eeba82eb6de73440fb);\n        \n    \n            var marker_28521ff0473d9bae4e4e5c3a9be7e19c = L.marker(\n                [13.8667, 100.5167],\n                {}\n            ).addTo(map_1f11d9b4e688f7eeba82eb6de73440fb);\n        \n    \n            var marker_7ff3b6949db5e6cdf9d8c4aedccb457e = L.marker(\n                [13.7001, 100.3241],\n                {}\n            ).addTo(map_1f11d9b4e688f7eeba82eb6de73440fb);\n        \n    \n            var marker_d25bffe7829ad34937ee3a3ffe5ac0d9 = L.marker(\n                [13.6519, 100.2572],\n                {}\n            ).addTo(map_1f11d9b4e688f7eeba82eb6de73440fb);\n        \n    \n            var marker_d08f06385562902b8fe77c0cea91fd21 = L.marker(\n                [13.4097, 100.0017],\n                {}\n            ).addTo(map_1f11d9b4e688f7eeba82eb6de73440fb);\n        \n    \n            var marker_3249ece100cfdad05d965b44388dfa6d = L.marker(\n                [12.7997, 99.9669],\n                {}\n            ).addTo(map_1f11d9b4e688f7eeba82eb6de73440fb);\n        \n    \n            var marker_38596f25a4bef611bfbf91752c30d0f0 = L.marker(\n                [11.8067, 99.7956],\n                {}\n            ).addTo(map_1f11d9b4e688f7eeba82eb6de73440fb);\n        \n    \n            var marker_9ee60b9793348fdfbef7e87d6b2a0f56 = L.marker(\n                [10.4939, 99.18],\n                {}\n            ).addTo(map_1f11d9b4e688f7eeba82eb6de73440fb);\n        \n    \n            var marker_6e6daf9ffbb8f7f0cbb9c4106e754188 = L.marker(\n                [8.3511, 100.2019],\n                {}\n            ).addTo(map_1f11d9b4e688f7eeba82eb6de73440fb);\n        \n    \n            var marker_bee7a7058c4c65e475bc9053f9e78951 = L.marker(\n                [6.6386, 100.424],\n                {}\n            ).addTo(map_1f11d9b4e688f7eeba82eb6de73440fb);\n        \n    \n            var marker_41ce7ad447203cefd6b27f3177ed7952 = L.marker(\n                [6.4264, 101.8231],\n                {}\n            ).addTo(map_1f11d9b4e688f7eeba82eb6de73440fb);\n        \n    \n            var marker_e71f93046960eeeea6ced18be326fa0d = L.marker(\n                [5.3303, 103.1408],\n                {}\n            ).addTo(map_1f11d9b4e688f7eeba82eb6de73440fb);\n        \n    \n            var marker_1545b64607207eb373d509174cb44b14 = L.marker(\n                [3.8167, 103.3333],\n                {}\n            ).addTo(map_1f11d9b4e688f7eeba82eb6de73440fb);\n        \n    \n            var marker_5bc692d37188f9a6377ed96e011a5c96 = L.marker(\n                [1.3, 103.8],\n                {}\n            ).addTo(map_1f11d9b4e688f7eeba82eb6de73440fb);\n        \n    \n            var marker_9e08042af5b21475c48689ca6d22ce15 = L.marker(\n                [-1.59, 103.61],\n                {}\n            ).addTo(map_1f11d9b4e688f7eeba82eb6de73440fb);\n        \n    \n            var marker_6e875615d3852e0b37f9776718ae5312 = L.marker(\n                [-2.1, 106.1],\n                {}\n            ).addTo(map_1f11d9b4e688f7eeba82eb6de73440fb);\n        \n    \n            var marker_d84dac8ca48da0b0595de45af5b8c0fc = L.marker(\n                [-6.2333, 107.0],\n                {}\n            ).addTo(map_1f11d9b4e688f7eeba82eb6de73440fb);\n        \n    \n            var marker_a631b8c9d46fa36b1b6df80fd1882400 = L.marker(\n                [-7.4706, 110.2178],\n                {}\n            ).addTo(map_1f11d9b4e688f7eeba82eb6de73440fb);\n        \n    \n            var marker_2cd7557ee7d01a74fd11425c1cd1cff4 = L.marker(\n                [-7.98, 112.62],\n                {}\n            ).addTo(map_1f11d9b4e688f7eeba82eb6de73440fb);\n        \n    \n            var marker_745b90192c9d7332b8a766f55b1999b7 = L.marker(\n                [-8.7151, 115.1841],\n                {}\n            ).addTo(map_1f11d9b4e688f7eeba82eb6de73440fb);\n        \n    \n            var marker_f61899578bdf1ebfcc5d33eca3a0f015 = L.marker(\n                [-8.4614, 118.747],\n                {}\n            ).addTo(map_1f11d9b4e688f7eeba82eb6de73440fb);\n        \n    \n            var marker_c5346a0e565532126fb265ba582639cb = L.marker(\n                [-10.1633, 123.5778],\n                {}\n            ).addTo(map_1f11d9b4e688f7eeba82eb6de73440fb);\n        \n    \n            var marker_caa46a8cc60c9f6d0a5e1d69556c84ac = L.marker(\n                [-8.5167, 127.0333],\n                {}\n            ).addTo(map_1f11d9b4e688f7eeba82eb6de73440fb);\n        \n    \n            var marker_2277dd2406d828b9b5d54645faac07ec = L.marker(\n                [-12.4922, 131.053],\n                {}\n            ).addTo(map_1f11d9b4e688f7eeba82eb6de73440fb);\n        \n    \n            var marker_4b3c06c0e5ea42734e1de50ee6bf32d7 = L.marker(\n                [-14.4667, 132.2667],\n                {}\n            ).addTo(map_1f11d9b4e688f7eeba82eb6de73440fb);\n        \n    \n            var marker_68b5aba186465ead70e0148b7653bd23 = L.marker(\n                [-19.9167, 138.117],\n                {}\n            ).addTo(map_1f11d9b4e688f7eeba82eb6de73440fb);\n        \n    \n            var marker_728c317f683c2eaba430edbb3dd1ca6c = L.marker(\n                [-25.4206, 142.6547],\n                {}\n            ).addTo(map_1f11d9b4e688f7eeba82eb6de73440fb);\n        \n    \n            var marker_18abd3a353ffb9cb2a8cd668f44f61c8 = L.marker(\n                [-30.0817, 145.9511],\n                {}\n            ).addTo(map_1f11d9b4e688f7eeba82eb6de73440fb);\n        \n    \n            var marker_49936099d14c0fe08e3cabf4e22440e8 = L.marker(\n                [-32.6125, 149.5872],\n                {}\n            ).addTo(map_1f11d9b4e688f7eeba82eb6de73440fb);\n        \n    \n            var marker_3df9227b77a78e03f0c36ce7a653587f = L.marker(\n                [-33.7511, 150.6942],\n                {}\n            ).addTo(map_1f11d9b4e688f7eeba82eb6de73440fb);\n        \n    \n            var marker_65e908b9f09040cbb97ea9ba6b2756e2 = L.marker(\n                [-33.865, 151.2094],\n                {}\n            ).addTo(map_1f11d9b4e688f7eeba82eb6de73440fb);\n        \n&lt;/script&gt;\n&lt;/html&gt;\" style=\"position:absolute;width:100%;height:100%;left:0;top:0;border:none !important;\" allowfullscreen webkitallowfullscreen mozallowfullscreen></iframe></div></div>"
     },
     "execution_count": 44,
     "metadata": {},
     "output_type": "execute_result"
    }
   ],
   "source": [
    "mappa"
   ],
   "metadata": {
    "collapsed": false,
    "ExecuteTime": {
     "end_time": "2023-10-28T13:01:02.750799100Z",
     "start_time": "2023-10-28T13:01:02.603867100Z"
    }
   },
   "id": "4ef63e10e8f23ca0"
  },
  {
   "cell_type": "code",
   "execution_count": null,
   "outputs": [],
   "source": [],
   "metadata": {
    "collapsed": false
   },
   "id": "551eb4c40c19c28c"
  },
  {
   "cell_type": "code",
   "execution_count": 3,
   "outputs": [
    {
     "name": "stdout",
     "output_type": "stream",
     "text": [
      "Chiasso\n",
      "Lugano\n",
      "Locarno\n",
      "Bellinzona\n",
      "Mendrisio\n",
      "Varese\n",
      "Busto Arsizio\n",
      "Novara\n",
      "Biella\n",
      "Aosta\n",
      "Martigny\n",
      "Montreux\n",
      "Pully\n",
      "Crissier\n",
      "Bussy\n",
      "Morges\n",
      "Ecublens\n",
      "Renens\n",
      "Prilly\n",
      "Lausanne\n"
     ]
    },
    {
     "ename": "IndexError",
     "evalue": "single positional indexer is out-of-bounds",
     "output_type": "error",
     "traceback": [
      "\u001B[1;31m---------------------------------------------------------------------------\u001B[0m",
      "\u001B[1;31mIndexError\u001B[0m                                Traceback (most recent call last)",
      "Cell \u001B[1;32mIn[3], line 1\u001B[0m\n\u001B[1;32m----> 1\u001B[0m a \u001B[38;5;241m=\u001B[39m \u001B[43mfunc\u001B[49m\u001B[38;5;241;43m.\u001B[39;49m\u001B[43mdistance_between_two_cities\u001B[49m\u001B[43m(\u001B[49m\u001B[43m)\u001B[49m\n",
      "File \u001B[1;32mC:\\Uni\\Coding\\python\\exam_project\\exam_project\\self_made_functions.py:46\u001B[0m, in \u001B[0;36mdistance_between_two_cities\u001B[1;34m()\u001B[0m\n\u001B[0;32m     44\u001B[0m j \u001B[38;5;241m=\u001B[39m i\n\u001B[0;32m     45\u001B[0m \u001B[38;5;28;01mfor\u001B[39;00m x \u001B[38;5;129;01min\u001B[39;00m \u001B[38;5;28mrange\u001B[39m(i):\n\u001B[1;32m---> 46\u001B[0m     closest_city \u001B[38;5;241m=\u001B[39m \u001B[43mun_city\u001B[49m\u001B[38;5;241;43m.\u001B[39;49m\u001B[43msort_values\u001B[49m\u001B[43m(\u001B[49m\u001B[43mby\u001B[49m\u001B[38;5;241;43m=\u001B[39;49m\u001B[38;5;124;43m'\u001B[39;49m\u001B[38;5;124;43mDistance to destination\u001B[39;49m\u001B[38;5;124;43m'\u001B[39;49m\u001B[43m)\u001B[49m\u001B[38;5;241;43m.\u001B[39;49m\u001B[43miloc\u001B[49m\u001B[43m[\u001B[49m\u001B[43mx\u001B[49m\u001B[43m]\u001B[49m\n\u001B[0;32m     47\u001B[0m     \u001B[38;5;66;03m# print(\"CLOSEST: \",closest_city['city'])\u001B[39;00m\n\u001B[0;32m     48\u001B[0m     \u001B[38;5;28;01mif\u001B[39;00m closest_city[\u001B[38;5;124m'\u001B[39m\u001B[38;5;124mid\u001B[39m\u001B[38;5;124m'\u001B[39m] \u001B[38;5;129;01mnot\u001B[39;00m \u001B[38;5;129;01min\u001B[39;00m visited_cities:\n",
      "File \u001B[1;32mC:\\Uni\\Coding\\python\\ENV_DIR\\Lib\\site-packages\\pandas\\core\\indexing.py:1153\u001B[0m, in \u001B[0;36m_LocationIndexer.__getitem__\u001B[1;34m(self, key)\u001B[0m\n\u001B[0;32m   1150\u001B[0m axis \u001B[38;5;241m=\u001B[39m \u001B[38;5;28mself\u001B[39m\u001B[38;5;241m.\u001B[39maxis \u001B[38;5;129;01mor\u001B[39;00m \u001B[38;5;241m0\u001B[39m\n\u001B[0;32m   1152\u001B[0m maybe_callable \u001B[38;5;241m=\u001B[39m com\u001B[38;5;241m.\u001B[39mapply_if_callable(key, \u001B[38;5;28mself\u001B[39m\u001B[38;5;241m.\u001B[39mobj)\n\u001B[1;32m-> 1153\u001B[0m \u001B[38;5;28;01mreturn\u001B[39;00m \u001B[38;5;28;43mself\u001B[39;49m\u001B[38;5;241;43m.\u001B[39;49m\u001B[43m_getitem_axis\u001B[49m\u001B[43m(\u001B[49m\u001B[43mmaybe_callable\u001B[49m\u001B[43m,\u001B[49m\u001B[43m \u001B[49m\u001B[43maxis\u001B[49m\u001B[38;5;241;43m=\u001B[39;49m\u001B[43maxis\u001B[49m\u001B[43m)\u001B[49m\n",
      "File \u001B[1;32mC:\\Uni\\Coding\\python\\ENV_DIR\\Lib\\site-packages\\pandas\\core\\indexing.py:1714\u001B[0m, in \u001B[0;36m_iLocIndexer._getitem_axis\u001B[1;34m(self, key, axis)\u001B[0m\n\u001B[0;32m   1711\u001B[0m     \u001B[38;5;28;01mraise\u001B[39;00m \u001B[38;5;167;01mTypeError\u001B[39;00m(\u001B[38;5;124m\"\u001B[39m\u001B[38;5;124mCannot index by location index with a non-integer key\u001B[39m\u001B[38;5;124m\"\u001B[39m)\n\u001B[0;32m   1713\u001B[0m \u001B[38;5;66;03m# validate the location\u001B[39;00m\n\u001B[1;32m-> 1714\u001B[0m \u001B[38;5;28;43mself\u001B[39;49m\u001B[38;5;241;43m.\u001B[39;49m\u001B[43m_validate_integer\u001B[49m\u001B[43m(\u001B[49m\u001B[43mkey\u001B[49m\u001B[43m,\u001B[49m\u001B[43m \u001B[49m\u001B[43maxis\u001B[49m\u001B[43m)\u001B[49m\n\u001B[0;32m   1716\u001B[0m \u001B[38;5;28;01mreturn\u001B[39;00m \u001B[38;5;28mself\u001B[39m\u001B[38;5;241m.\u001B[39mobj\u001B[38;5;241m.\u001B[39m_ixs(key, axis\u001B[38;5;241m=\u001B[39maxis)\n",
      "File \u001B[1;32mC:\\Uni\\Coding\\python\\ENV_DIR\\Lib\\site-packages\\pandas\\core\\indexing.py:1647\u001B[0m, in \u001B[0;36m_iLocIndexer._validate_integer\u001B[1;34m(self, key, axis)\u001B[0m\n\u001B[0;32m   1645\u001B[0m len_axis \u001B[38;5;241m=\u001B[39m \u001B[38;5;28mlen\u001B[39m(\u001B[38;5;28mself\u001B[39m\u001B[38;5;241m.\u001B[39mobj\u001B[38;5;241m.\u001B[39m_get_axis(axis))\n\u001B[0;32m   1646\u001B[0m \u001B[38;5;28;01mif\u001B[39;00m key \u001B[38;5;241m>\u001B[39m\u001B[38;5;241m=\u001B[39m len_axis \u001B[38;5;129;01mor\u001B[39;00m key \u001B[38;5;241m<\u001B[39m \u001B[38;5;241m-\u001B[39mlen_axis:\n\u001B[1;32m-> 1647\u001B[0m     \u001B[38;5;28;01mraise\u001B[39;00m \u001B[38;5;167;01mIndexError\u001B[39;00m(\u001B[38;5;124m\"\u001B[39m\u001B[38;5;124msingle positional indexer is out-of-bounds\u001B[39m\u001B[38;5;124m\"\u001B[39m)\n",
      "\u001B[1;31mIndexError\u001B[0m: single positional indexer is out-of-bounds"
     ]
    }
   ],
   "source": [
    "a = func.distance_between_two_cities()\n"
   ],
   "metadata": {
    "collapsed": false,
    "ExecuteTime": {
     "end_time": "2023-10-28T13:09:27.083887Z",
     "start_time": "2023-10-28T13:09:16.039147900Z"
    }
   },
   "id": "ce0d4f3f36c50a03"
  },
  {
   "cell_type": "code",
   "execution_count": 4,
   "outputs": [
    {
     "name": "stdout",
     "output_type": "stream",
     "text": [
      "C:\\Uni\\Coding\\python\\exam_project\\tests\n"
     ]
    }
   ],
   "source": [
    "import os\n",
    "\n",
    "current_directory = os.getcwd()\n",
    "print(current_directory)\n"
   ],
   "metadata": {
    "collapsed": false,
    "ExecuteTime": {
     "end_time": "2023-10-28T14:53:34.754808900Z",
     "start_time": "2023-10-28T14:53:34.747257700Z"
    }
   },
   "id": "93c79ed964ff4e4f"
  },
  {
   "cell_type": "code",
   "execution_count": null,
   "outputs": [],
   "source": [],
   "metadata": {
    "collapsed": false
   },
   "id": "8aa5dfb98f64a94a"
  },
  {
   "cell_type": "code",
   "execution_count": 1,
   "outputs": [],
   "source": [
    "import pandas as pd\n",
    "df = pd.read_excel(r\"C:\\Uni\\Coding\\python\\worldcities.xlsx\")"
   ],
   "metadata": {
    "collapsed": false,
    "ExecuteTime": {
     "end_time": "2023-10-29T09:57:57.269795400Z",
     "start_time": "2023-10-29T09:57:52.637981200Z"
    }
   },
   "id": "dd9f9f0410ec67db"
  },
  {
   "cell_type": "code",
   "execution_count": 2,
   "outputs": [
    {
     "name": "stdout",
     "output_type": "stream",
     "text": [
      "0.14.0\n"
     ]
    }
   ],
   "source": [
    "import folium\n",
    "print(folium.__version__)\n"
   ],
   "metadata": {
    "collapsed": false,
    "ExecuteTime": {
     "end_time": "2023-10-29T09:58:05.072474500Z",
     "start_time": "2023-10-29T09:58:04.553270800Z"
    }
   },
   "id": "b1c8660dd77f7ede"
  },
  {
   "cell_type": "code",
   "execution_count": 13,
   "outputs": [],
   "source": [
    "lat=[]\n",
    "lng=[]\n",
    "for column_name, item in df.iterrows():\n",
    "        lat.append(df[\"lat\"].iloc[int(column_name)])\n",
    "\n",
    "for column_name, item in df.iterrows():\n",
    "        lng.append(df[\"lng\"].iloc[int(column_name)])\n"
   ],
   "metadata": {
    "collapsed": false,
    "ExecuteTime": {
     "end_time": "2023-10-29T10:24:27.925258300Z",
     "start_time": "2023-10-29T10:24:25.562421800Z"
    }
   },
   "id": "7728f06841e68a80"
  },
  {
   "cell_type": "code",
   "execution_count": 14,
   "outputs": [],
   "source": [
    "for i in range(len(df)):\n",
    "    map=func.Mappa(lat[i] , lng[i] ,df[\"city\"].iloc[i])\n",
    "#map= folium.Map( location =[30,10], zoom_start=2)\n",
    "map.save(\"Città.html\")"
   ],
   "metadata": {
    "collapsed": false,
    "ExecuteTime": {
     "end_time": "2023-10-29T10:24:52.398811Z",
     "start_time": "2023-10-29T10:24:29.386018600Z"
    }
   },
   "id": "1f90942c89d12375"
  },
  {
   "cell_type": "code",
   "execution_count": null,
   "outputs": [],
   "source": [],
   "metadata": {
    "collapsed": false
   },
   "id": "91376549454e308d"
  },
  {
   "cell_type": "code",
   "execution_count": 8,
   "outputs": [
    {
     "data": {
      "text/plain": "               city     city_ascii      lat     lng country iso2 iso3  \\\n3855          Monza          Monza  45.5836  9.2736   Italy   IT  ITA   \n4765  Busto Arsizio  Busto Arsizio  45.6120  8.8518   Italy   IT  ITA   \n4750           Como           Como  45.8103  9.0861   Italy   IT  ITA   \n\n     admin_name capital  population          id  Distance from start  Low lng  \n3855   Lombardy   minor    122728.0  1380622727            14.519071   8.8518  \n4765   Lombardy     NaN     83314.0  1380033378            30.888743   8.8518  \n4750   Lombardy   minor     84378.0  1380994905            39.029441   8.8518  ",
      "text/html": "<div>\n<style scoped>\n    .dataframe tbody tr th:only-of-type {\n        vertical-align: middle;\n    }\n\n    .dataframe tbody tr th {\n        vertical-align: top;\n    }\n\n    .dataframe thead th {\n        text-align: right;\n    }\n</style>\n<table border=\"1\" class=\"dataframe\">\n  <thead>\n    <tr style=\"text-align: right;\">\n      <th></th>\n      <th>city</th>\n      <th>city_ascii</th>\n      <th>lat</th>\n      <th>lng</th>\n      <th>country</th>\n      <th>iso2</th>\n      <th>iso3</th>\n      <th>admin_name</th>\n      <th>capital</th>\n      <th>population</th>\n      <th>id</th>\n      <th>Distance from start</th>\n      <th>Low lng</th>\n    </tr>\n  </thead>\n  <tbody>\n    <tr>\n      <th>3855</th>\n      <td>Monza</td>\n      <td>Monza</td>\n      <td>45.5836</td>\n      <td>9.2736</td>\n      <td>Italy</td>\n      <td>IT</td>\n      <td>ITA</td>\n      <td>Lombardy</td>\n      <td>minor</td>\n      <td>122728.0</td>\n      <td>1380622727</td>\n      <td>14.519071</td>\n      <td>8.8518</td>\n    </tr>\n    <tr>\n      <th>4765</th>\n      <td>Busto Arsizio</td>\n      <td>Busto Arsizio</td>\n      <td>45.6120</td>\n      <td>8.8518</td>\n      <td>Italy</td>\n      <td>IT</td>\n      <td>ITA</td>\n      <td>Lombardy</td>\n      <td>NaN</td>\n      <td>83314.0</td>\n      <td>1380033378</td>\n      <td>30.888743</td>\n      <td>8.8518</td>\n    </tr>\n    <tr>\n      <th>4750</th>\n      <td>Como</td>\n      <td>Como</td>\n      <td>45.8103</td>\n      <td>9.0861</td>\n      <td>Italy</td>\n      <td>IT</td>\n      <td>ITA</td>\n      <td>Lombardy</td>\n      <td>minor</td>\n      <td>84378.0</td>\n      <td>1380994905</td>\n      <td>39.029441</td>\n      <td>8.8518</td>\n    </tr>\n  </tbody>\n</table>\n</div>"
     },
     "execution_count": 8,
     "metadata": {},
     "output_type": "execute_result"
    }
   ],
   "source": [
    "\n",
    "s = f[f['id'] == 1826645935]\n",
    "start_city = int(s['id'].iloc[0])\n",
    "cl_cit = func.three_close_city(start_city)[:3]\n",
    "cl_cit['Low lng'] = min(cl_cit['lng'])\n",
    "cl_cit['Low lng']\n",
    "cl_cit"
   ],
   "metadata": {
    "collapsed": false,
    "ExecuteTime": {
     "end_time": "2023-11-01T14:40:14.085509900Z",
     "start_time": "2023-11-01T14:40:13.432591100Z"
    }
   },
   "id": "34a7adc1bc694145"
  },
  {
   "cell_type": "code",
   "execution_count": 11,
   "outputs": [],
   "source": [
    "dataset= pd.read_excel(r'http://island.ricerca.di.unimi.it/~alfio/shared/worldcities.xlsx')\n"
   ],
   "metadata": {
    "collapsed": false,
    "ExecuteTime": {
     "end_time": "2023-11-01T15:06:10.676829Z",
     "start_time": "2023-11-01T15:06:05.555406500Z"
    }
   },
   "id": "8aae31244d050bb3"
  },
  {
   "cell_type": "code",
   "execution_count": 19,
   "outputs": [
    {
     "name": "stdout",
     "output_type": "stream",
     "text": [
      "[1826645935, 1826499077, 1826642497, 1826465421, 1826369701, 1826843295, 1826413202, 1826645935]\n"
     ]
    }
   ],
   "source": [
    "visited_cities = []\n",
    "start_city_id = dataset[dataset['city'] == 'London']['id'].values[0]\n",
    "visited_cities.append(start_city_id)\n",
    "\n",
    "while True:\n",
    "    closest_cities = func.three_close_city(start_city_id)[:3]\n",
    "    next_city = None\n",
    "    \n",
    "    # Trova la città più ad est tra le città più vicine\n",
    "    for idx, row in closest_cities.iterrows():\n",
    "        if row['id'] not in visited_cities:\n",
    "            if next_city is None or row['lng'] > dataset[dataset['id'] == next_city]['lng'].values[0]:\n",
    "                next_city = row['id']\n",
    "    \n",
    "    if next_city is not None:\n",
    "        visited_cities.append(next_city)\n",
    "        start_city_id = next_city\n",
    "    \n",
    "# Torna a Londra\n",
    "visited_cities.append(visited_cities[0])\n",
    "\n",
    "print(visited_cities)\n",
    "\n",
    "#mappa = folium.Map(location = zoom, zoom_start = 6)\n",
    "mappa = folium.Map(location=[45.5236, -122.6750], zoom_start=0)\n",
    "for i in range(len(visited_cities)):\n",
    "    s = dataset[(dataset['id'] == visited_cities[i])][['lat', 'lng']].values[0]\n",
    "    #if i > 0 and i < (len (visit) - 1):\n",
    "        #s2 = dataset[(dataset['id'] == visit[i + 1])][['lat', 'lng']].values[0]\n",
    "    folium.Marker(s,popup = dataset[(dataset['id'] == visited_cities[i])][['city']].values[0] ).add_to(mappa)\n",
    "locations = [(dataset.loc[dataset['id'] == visited_cities[j], ['lat', 'lng']].values[0]) for j in range(len(visited_cities))]\n",
    "line = folium.PolyLine(locations=locations,\n",
    "                       color='blue',  # Colore della linea\n",
    "                       weight=5,  # Spessore della linea\n",
    "                       opacity=0.7  # Opacità della linea\n",
    "                       )\n",
    "line.add_to(mappa)\n",
    "mappa.save('mappa.html')"
   ],
   "metadata": {
    "collapsed": false,
    "ExecuteTime": {
     "end_time": "2023-11-01T15:11:00.676098400Z",
     "start_time": "2023-11-01T15:10:57.343846900Z"
    }
   },
   "id": "7f8fe2823b628db7"
  },
  {
   "cell_type": "code",
   "execution_count": 22,
   "outputs": [],
   "source": [
    "dataset = pd.read_excel('C:/Uni/Coding/python/worldcities.xlsx')\n"
   ],
   "metadata": {
    "collapsed": false,
    "ExecuteTime": {
     "end_time": "2023-11-03T12:20:47.121983300Z",
     "start_time": "2023-11-03T12:20:43.835084500Z"
    }
   },
   "id": "4a254dd4fafe789a"
  },
  {
   "cell_type": "code",
   "execution_count": 20,
   "outputs": [
    {
     "name": "stdout",
     "output_type": "stream",
     "text": [
      "[1826645935, 1826657058, 1826499077, 1826642497, 1826413202, 1826465421, 1826369701, 1826843295, 1826645935]\n"
     ]
    }
   ],
   "source": [
    "import pandas as pd\n",
    "from geopy.distance import great_circle as gc\n",
    "\n",
    "dataset = pd.read_excel('C:/Uni/Coding/python/worldcities.xlsx')\n",
    "\n",
    "def three_close_city(input_city_id):\n",
    "    city = dataset[dataset['id'] == input_city_id]\n",
    "    id_city = int(city['id'].iloc[0])\n",
    "    city_coords = (dataset.loc[dataset['id'] == id_city, 'lat'].values[0], dataset.loc[dataset['id'] == id_city, 'lng'].values[0])\n",
    "\n",
    "    dataset['Distance from start'] = dataset.apply(lambda row: gc(city_coords, (row['lat'], row['lng'])).kilometers, axis=1)\n",
    "\n",
    "    sorted_dataset = dataset.sort_values(by='Distance from start')\n",
    "    closest_cities = sorted_dataset.iloc[1:4]  # Prendi le tre città più vicine, escludendo Londra\n",
    "    return closest_cities\n",
    "\n",
    "def distance_between_two_cities():\n",
    "    visited_cities = []\n",
    "    start_city_id = dataset[dataset['city'] == 'London']['id'].values[0]\n",
    "    visited_cities.append(start_city_id)\n",
    "    \n",
    "    while True:\n",
    "        closest_cities = three_close_city(start_city_id)\n",
    "        next_city = None\n",
    "        \n",
    "        for idx, row in closest_cities.iterrows():\n",
    "            if row['id'] not in visited_cities:\n",
    "                next_city = row['id']\n",
    "                break\n",
    "        \n",
    "        if next_city is not None:\n",
    "            visited_cities.append(next_city)\n",
    "            start_city_id = next_city\n",
    "        else:\n",
    "            # Nessuna città ad est non visitata rimasta, torna a Londra\n",
    "            visited_cities.append(visited_cities[0])\n",
    "            break\n",
    "\n",
    "    return visited_cities\n",
    "\n",
    "visited_cities = distance_between_two_cities()\n",
    "print(visited_cities)\n"
   ],
   "metadata": {
    "collapsed": false,
    "ExecuteTime": {
     "end_time": "2023-11-01T15:24:31.301860300Z",
     "start_time": "2023-11-01T15:24:24.418741600Z"
    }
   },
   "id": "4af30e29bfee9f30"
  },
  {
   "cell_type": "code",
   "execution_count": null,
   "outputs": [],
   "source": [],
   "metadata": {
    "collapsed": false
   },
   "id": "870029513a5f24f4"
  },
  {
   "cell_type": "code",
   "execution_count": 24,
   "outputs": [
    {
     "name": "stdout",
     "output_type": "stream",
     "text": [
      "15550    Ba\n",
      "Name: city, dtype: object\n",
      "15550    Ba\n",
      "Name: city, dtype: object\n",
      "15550    Ba\n",
      "Name: city, dtype: object\n",
      "15550    Ba\n",
      "Name: city, dtype: object\n",
      "15550    Ba\n",
      "Name: city, dtype: object\n",
      "15550    Ba\n",
      "Name: city, dtype: object\n",
      "15550    Ba\n",
      "Name: city, dtype: object\n"
     ]
    },
    {
     "ename": "KeyboardInterrupt",
     "evalue": "",
     "output_type": "error",
     "traceback": [
      "\u001B[1;31m---------------------------------------------------------------------------\u001B[0m",
      "\u001B[1;31mKeyboardInterrupt\u001B[0m                         Traceback (most recent call last)",
      "Cell \u001B[1;32mIn[24], line 1\u001B[0m\n\u001B[1;32m----> 1\u001B[0m b \u001B[38;5;241m=\u001B[39m \u001B[43meast\u001B[49m\u001B[43m(\u001B[49m\u001B[38;5;241;43m1242193764\u001B[39;49m\u001B[43m)\u001B[49m\n\u001B[0;32m      2\u001B[0m func\u001B[38;5;241m.\u001B[39mmaps(b)\n",
      "Cell \u001B[1;32mIn[23], line 9\u001B[0m, in \u001B[0;36meast\u001B[1;34m(input_city_id)\u001B[0m\n\u001B[0;32m      4\u001B[0m city_coords \u001B[38;5;241m=\u001B[39m (dataset\u001B[38;5;241m.\u001B[39mloc[dataset[\u001B[38;5;124m'\u001B[39m\u001B[38;5;124mid\u001B[39m\u001B[38;5;124m'\u001B[39m] \u001B[38;5;241m==\u001B[39m input_city_id, \u001B[38;5;124m'\u001B[39m\u001B[38;5;124mlat\u001B[39m\u001B[38;5;124m'\u001B[39m]\u001B[38;5;241m.\u001B[39mvalues[\u001B[38;5;241m0\u001B[39m],\n\u001B[0;32m      5\u001B[0m                dataset\u001B[38;5;241m.\u001B[39mloc[dataset[\u001B[38;5;124m'\u001B[39m\u001B[38;5;124mid\u001B[39m\u001B[38;5;124m'\u001B[39m] \u001B[38;5;241m==\u001B[39m input_city_id, \u001B[38;5;124m'\u001B[39m\u001B[38;5;124mlng\u001B[39m\u001B[38;5;124m'\u001B[39m]\u001B[38;5;241m.\u001B[39mvalues[\u001B[38;5;241m0\u001B[39m])\n\u001B[0;32m      7\u001B[0m \u001B[38;5;28;01mwhile\u001B[39;00m \u001B[38;5;28;01mTrue\u001B[39;00m:\n\u001B[0;32m      8\u001B[0m     \u001B[38;5;66;03m# Calculate distances from the current city to all cities in the dataset\u001B[39;00m\n\u001B[1;32m----> 9\u001B[0m     dataset[\u001B[38;5;124m'\u001B[39m\u001B[38;5;124mDistance from start\u001B[39m\u001B[38;5;124m'\u001B[39m] \u001B[38;5;241m=\u001B[39m \u001B[43mdataset\u001B[49m\u001B[38;5;241;43m.\u001B[39;49m\u001B[43mapply\u001B[49m\u001B[43m(\u001B[49m\n\u001B[0;32m     10\u001B[0m \u001B[43m        \u001B[49m\u001B[38;5;28;43;01mlambda\u001B[39;49;00m\u001B[43m \u001B[49m\u001B[43mrow\u001B[49m\u001B[43m:\u001B[49m\u001B[43m \u001B[49m\u001B[43mgc\u001B[49m\u001B[43m(\u001B[49m\u001B[43mcity_coords\u001B[49m\u001B[43m,\u001B[49m\u001B[43m \u001B[49m\u001B[43m(\u001B[49m\u001B[43mrow\u001B[49m\u001B[43m[\u001B[49m\u001B[38;5;124;43m'\u001B[39;49m\u001B[38;5;124;43mlat\u001B[39;49m\u001B[38;5;124;43m'\u001B[39;49m\u001B[43m]\u001B[49m\u001B[43m,\u001B[49m\u001B[43m \u001B[49m\u001B[43mrow\u001B[49m\u001B[43m[\u001B[49m\u001B[38;5;124;43m'\u001B[39;49m\u001B[38;5;124;43mlng\u001B[39;49m\u001B[38;5;124;43m'\u001B[39;49m\u001B[43m]\u001B[49m\u001B[43m)\u001B[49m\u001B[43m)\u001B[49m\u001B[38;5;241;43m.\u001B[39;49m\u001B[43mkilometers\u001B[49m\u001B[43m,\u001B[49m\n\u001B[0;32m     11\u001B[0m \u001B[43m        \u001B[49m\u001B[43maxis\u001B[49m\u001B[38;5;241;43m=\u001B[39;49m\u001B[38;5;241;43m1\u001B[39;49m\n\u001B[0;32m     12\u001B[0m \u001B[43m    \u001B[49m\u001B[43m)\u001B[49m\n\u001B[0;32m     14\u001B[0m     east_cities \u001B[38;5;241m=\u001B[39m dataset[dataset[\u001B[38;5;124m'\u001B[39m\u001B[38;5;124mlng\u001B[39m\u001B[38;5;124m'\u001B[39m] \u001B[38;5;241m>\u001B[39m city_coords[\u001B[38;5;241m1\u001B[39m] \u001B[38;5;241m-\u001B[39m \u001B[38;5;241m180\u001B[39m]  \u001B[38;5;66;03m# Filter cities to the east\u001B[39;00m\n\u001B[0;32m     16\u001B[0m     \u001B[38;5;28;01mif\u001B[39;00m east_cities\u001B[38;5;241m.\u001B[39mempty:\n\u001B[0;32m     17\u001B[0m         \u001B[38;5;66;03m# No more cities to the east; let's wrap around to the westernmost city\u001B[39;00m\n",
      "File \u001B[1;32mC:\\Uni\\Coding\\python\\ENV_DIR\\Lib\\site-packages\\pandas\\core\\frame.py:10037\u001B[0m, in \u001B[0;36mDataFrame.apply\u001B[1;34m(self, func, axis, raw, result_type, args, by_row, **kwargs)\u001B[0m\n\u001B[0;32m  10025\u001B[0m \u001B[38;5;28;01mfrom\u001B[39;00m \u001B[38;5;21;01mpandas\u001B[39;00m\u001B[38;5;21;01m.\u001B[39;00m\u001B[38;5;21;01mcore\u001B[39;00m\u001B[38;5;21;01m.\u001B[39;00m\u001B[38;5;21;01mapply\u001B[39;00m \u001B[38;5;28;01mimport\u001B[39;00m frame_apply\n\u001B[0;32m  10027\u001B[0m op \u001B[38;5;241m=\u001B[39m frame_apply(\n\u001B[0;32m  10028\u001B[0m     \u001B[38;5;28mself\u001B[39m,\n\u001B[0;32m  10029\u001B[0m     func\u001B[38;5;241m=\u001B[39mfunc,\n\u001B[1;32m   (...)\u001B[0m\n\u001B[0;32m  10035\u001B[0m     kwargs\u001B[38;5;241m=\u001B[39mkwargs,\n\u001B[0;32m  10036\u001B[0m )\n\u001B[1;32m> 10037\u001B[0m \u001B[38;5;28;01mreturn\u001B[39;00m \u001B[43mop\u001B[49m\u001B[38;5;241;43m.\u001B[39;49m\u001B[43mapply\u001B[49m\u001B[43m(\u001B[49m\u001B[43m)\u001B[49m\u001B[38;5;241m.\u001B[39m__finalize__(\u001B[38;5;28mself\u001B[39m, method\u001B[38;5;241m=\u001B[39m\u001B[38;5;124m\"\u001B[39m\u001B[38;5;124mapply\u001B[39m\u001B[38;5;124m\"\u001B[39m)\n",
      "File \u001B[1;32mC:\\Uni\\Coding\\python\\ENV_DIR\\Lib\\site-packages\\pandas\\core\\apply.py:837\u001B[0m, in \u001B[0;36mFrameApply.apply\u001B[1;34m(self)\u001B[0m\n\u001B[0;32m    834\u001B[0m \u001B[38;5;28;01melif\u001B[39;00m \u001B[38;5;28mself\u001B[39m\u001B[38;5;241m.\u001B[39mraw:\n\u001B[0;32m    835\u001B[0m     \u001B[38;5;28;01mreturn\u001B[39;00m \u001B[38;5;28mself\u001B[39m\u001B[38;5;241m.\u001B[39mapply_raw()\n\u001B[1;32m--> 837\u001B[0m \u001B[38;5;28;01mreturn\u001B[39;00m \u001B[38;5;28;43mself\u001B[39;49m\u001B[38;5;241;43m.\u001B[39;49m\u001B[43mapply_standard\u001B[49m\u001B[43m(\u001B[49m\u001B[43m)\u001B[49m\n",
      "File \u001B[1;32mC:\\Uni\\Coding\\python\\ENV_DIR\\Lib\\site-packages\\pandas\\core\\apply.py:963\u001B[0m, in \u001B[0;36mFrameApply.apply_standard\u001B[1;34m(self)\u001B[0m\n\u001B[0;32m    962\u001B[0m \u001B[38;5;28;01mdef\u001B[39;00m \u001B[38;5;21mapply_standard\u001B[39m(\u001B[38;5;28mself\u001B[39m):\n\u001B[1;32m--> 963\u001B[0m     results, res_index \u001B[38;5;241m=\u001B[39m \u001B[38;5;28;43mself\u001B[39;49m\u001B[38;5;241;43m.\u001B[39;49m\u001B[43mapply_series_generator\u001B[49m\u001B[43m(\u001B[49m\u001B[43m)\u001B[49m\n\u001B[0;32m    965\u001B[0m     \u001B[38;5;66;03m# wrap results\u001B[39;00m\n\u001B[0;32m    966\u001B[0m     \u001B[38;5;28;01mreturn\u001B[39;00m \u001B[38;5;28mself\u001B[39m\u001B[38;5;241m.\u001B[39mwrap_results(results, res_index)\n",
      "File \u001B[1;32mC:\\Uni\\Coding\\python\\ENV_DIR\\Lib\\site-packages\\pandas\\core\\apply.py:979\u001B[0m, in \u001B[0;36mFrameApply.apply_series_generator\u001B[1;34m(self)\u001B[0m\n\u001B[0;32m    976\u001B[0m \u001B[38;5;28;01mwith\u001B[39;00m option_context(\u001B[38;5;124m\"\u001B[39m\u001B[38;5;124mmode.chained_assignment\u001B[39m\u001B[38;5;124m\"\u001B[39m, \u001B[38;5;28;01mNone\u001B[39;00m):\n\u001B[0;32m    977\u001B[0m     \u001B[38;5;28;01mfor\u001B[39;00m i, v \u001B[38;5;129;01min\u001B[39;00m \u001B[38;5;28menumerate\u001B[39m(series_gen):\n\u001B[0;32m    978\u001B[0m         \u001B[38;5;66;03m# ignore SettingWithCopy here in case the user mutates\u001B[39;00m\n\u001B[1;32m--> 979\u001B[0m         results[i] \u001B[38;5;241m=\u001B[39m \u001B[38;5;28;43mself\u001B[39;49m\u001B[38;5;241;43m.\u001B[39;49m\u001B[43mfunc\u001B[49m\u001B[43m(\u001B[49m\u001B[43mv\u001B[49m\u001B[43m,\u001B[49m\u001B[43m \u001B[49m\u001B[38;5;241;43m*\u001B[39;49m\u001B[38;5;28;43mself\u001B[39;49m\u001B[38;5;241;43m.\u001B[39;49m\u001B[43margs\u001B[49m\u001B[43m,\u001B[49m\u001B[43m \u001B[49m\u001B[38;5;241;43m*\u001B[39;49m\u001B[38;5;241;43m*\u001B[39;49m\u001B[38;5;28;43mself\u001B[39;49m\u001B[38;5;241;43m.\u001B[39;49m\u001B[43mkwargs\u001B[49m\u001B[43m)\u001B[49m\n\u001B[0;32m    980\u001B[0m         \u001B[38;5;28;01mif\u001B[39;00m \u001B[38;5;28misinstance\u001B[39m(results[i], ABCSeries):\n\u001B[0;32m    981\u001B[0m             \u001B[38;5;66;03m# If we have a view on v, we need to make a copy because\u001B[39;00m\n\u001B[0;32m    982\u001B[0m             \u001B[38;5;66;03m#  series_generator will swap out the underlying data\u001B[39;00m\n\u001B[0;32m    983\u001B[0m             results[i] \u001B[38;5;241m=\u001B[39m results[i]\u001B[38;5;241m.\u001B[39mcopy(deep\u001B[38;5;241m=\u001B[39m\u001B[38;5;28;01mFalse\u001B[39;00m)\n",
      "Cell \u001B[1;32mIn[23], line 10\u001B[0m, in \u001B[0;36meast.<locals>.<lambda>\u001B[1;34m(row)\u001B[0m\n\u001B[0;32m      4\u001B[0m city_coords \u001B[38;5;241m=\u001B[39m (dataset\u001B[38;5;241m.\u001B[39mloc[dataset[\u001B[38;5;124m'\u001B[39m\u001B[38;5;124mid\u001B[39m\u001B[38;5;124m'\u001B[39m] \u001B[38;5;241m==\u001B[39m input_city_id, \u001B[38;5;124m'\u001B[39m\u001B[38;5;124mlat\u001B[39m\u001B[38;5;124m'\u001B[39m]\u001B[38;5;241m.\u001B[39mvalues[\u001B[38;5;241m0\u001B[39m],\n\u001B[0;32m      5\u001B[0m                dataset\u001B[38;5;241m.\u001B[39mloc[dataset[\u001B[38;5;124m'\u001B[39m\u001B[38;5;124mid\u001B[39m\u001B[38;5;124m'\u001B[39m] \u001B[38;5;241m==\u001B[39m input_city_id, \u001B[38;5;124m'\u001B[39m\u001B[38;5;124mlng\u001B[39m\u001B[38;5;124m'\u001B[39m]\u001B[38;5;241m.\u001B[39mvalues[\u001B[38;5;241m0\u001B[39m])\n\u001B[0;32m      7\u001B[0m \u001B[38;5;28;01mwhile\u001B[39;00m \u001B[38;5;28;01mTrue\u001B[39;00m:\n\u001B[0;32m      8\u001B[0m     \u001B[38;5;66;03m# Calculate distances from the current city to all cities in the dataset\u001B[39;00m\n\u001B[0;32m      9\u001B[0m     dataset[\u001B[38;5;124m'\u001B[39m\u001B[38;5;124mDistance from start\u001B[39m\u001B[38;5;124m'\u001B[39m] \u001B[38;5;241m=\u001B[39m dataset\u001B[38;5;241m.\u001B[39mapply(\n\u001B[1;32m---> 10\u001B[0m         \u001B[38;5;28;01mlambda\u001B[39;00m row: \u001B[43mgc\u001B[49m\u001B[43m(\u001B[49m\u001B[43mcity_coords\u001B[49m\u001B[43m,\u001B[49m\u001B[43m \u001B[49m\u001B[43m(\u001B[49m\u001B[43mrow\u001B[49m\u001B[43m[\u001B[49m\u001B[38;5;124;43m'\u001B[39;49m\u001B[38;5;124;43mlat\u001B[39;49m\u001B[38;5;124;43m'\u001B[39;49m\u001B[43m]\u001B[49m\u001B[43m,\u001B[49m\u001B[43m \u001B[49m\u001B[43mrow\u001B[49m\u001B[43m[\u001B[49m\u001B[38;5;124;43m'\u001B[39;49m\u001B[38;5;124;43mlng\u001B[39;49m\u001B[38;5;124;43m'\u001B[39;49m\u001B[43m]\u001B[49m\u001B[43m)\u001B[49m\u001B[43m)\u001B[49m\u001B[38;5;241m.\u001B[39mkilometers,\n\u001B[0;32m     11\u001B[0m         axis\u001B[38;5;241m=\u001B[39m\u001B[38;5;241m1\u001B[39m\n\u001B[0;32m     12\u001B[0m     )\n\u001B[0;32m     14\u001B[0m     east_cities \u001B[38;5;241m=\u001B[39m dataset[dataset[\u001B[38;5;124m'\u001B[39m\u001B[38;5;124mlng\u001B[39m\u001B[38;5;124m'\u001B[39m] \u001B[38;5;241m>\u001B[39m city_coords[\u001B[38;5;241m1\u001B[39m] \u001B[38;5;241m-\u001B[39m \u001B[38;5;241m180\u001B[39m]  \u001B[38;5;66;03m# Filter cities to the east\u001B[39;00m\n\u001B[0;32m     16\u001B[0m     \u001B[38;5;28;01mif\u001B[39;00m east_cities\u001B[38;5;241m.\u001B[39mempty:\n\u001B[0;32m     17\u001B[0m         \u001B[38;5;66;03m# No more cities to the east; let's wrap around to the westernmost city\u001B[39;00m\n",
      "File \u001B[1;32mC:\\Uni\\Coding\\python\\ENV_DIR\\Lib\\site-packages\\geopy\\distance.py:461\u001B[0m, in \u001B[0;36mgreat_circle.__init__\u001B[1;34m(self, *args, **kwargs)\u001B[0m\n\u001B[0;32m    459\u001B[0m \u001B[38;5;28;01mdef\u001B[39;00m \u001B[38;5;21m__init__\u001B[39m(\u001B[38;5;28mself\u001B[39m, \u001B[38;5;241m*\u001B[39margs, \u001B[38;5;241m*\u001B[39m\u001B[38;5;241m*\u001B[39mkwargs):\n\u001B[0;32m    460\u001B[0m     \u001B[38;5;28mself\u001B[39m\u001B[38;5;241m.\u001B[39mRADIUS \u001B[38;5;241m=\u001B[39m kwargs\u001B[38;5;241m.\u001B[39mpop(\u001B[38;5;124m'\u001B[39m\u001B[38;5;124mradius\u001B[39m\u001B[38;5;124m'\u001B[39m, EARTH_RADIUS)\n\u001B[1;32m--> 461\u001B[0m     \u001B[38;5;28;43msuper\u001B[39;49m\u001B[43m(\u001B[49m\u001B[43m)\u001B[49m\u001B[38;5;241;43m.\u001B[39;49m\u001B[38;5;21;43m__init__\u001B[39;49m\u001B[43m(\u001B[49m\u001B[38;5;241;43m*\u001B[39;49m\u001B[43margs\u001B[49m\u001B[43m,\u001B[49m\u001B[43m \u001B[49m\u001B[38;5;241;43m*\u001B[39;49m\u001B[38;5;241;43m*\u001B[39;49m\u001B[43mkwargs\u001B[49m\u001B[43m)\u001B[49m\n",
      "File \u001B[1;32mC:\\Uni\\Coding\\python\\ENV_DIR\\Lib\\site-packages\\geopy\\distance.py:276\u001B[0m, in \u001B[0;36mDistance.__init__\u001B[1;34m(self, *args, **kwargs)\u001B[0m\n\u001B[0;32m    274\u001B[0m \u001B[38;5;28;01melif\u001B[39;00m \u001B[38;5;28mlen\u001B[39m(args) \u001B[38;5;241m>\u001B[39m \u001B[38;5;241m1\u001B[39m:\n\u001B[0;32m    275\u001B[0m     \u001B[38;5;28;01mfor\u001B[39;00m a, b \u001B[38;5;129;01min\u001B[39;00m util\u001B[38;5;241m.\u001B[39mpairwise(args):\n\u001B[1;32m--> 276\u001B[0m         kilometers \u001B[38;5;241m+\u001B[39m\u001B[38;5;241m=\u001B[39m \u001B[38;5;28;43mself\u001B[39;49m\u001B[38;5;241;43m.\u001B[39;49m\u001B[43mmeasure\u001B[49m\u001B[43m(\u001B[49m\u001B[43ma\u001B[49m\u001B[43m,\u001B[49m\u001B[43m \u001B[49m\u001B[43mb\u001B[49m\u001B[43m)\u001B[49m\n\u001B[0;32m    278\u001B[0m kilometers \u001B[38;5;241m+\u001B[39m\u001B[38;5;241m=\u001B[39m units\u001B[38;5;241m.\u001B[39mkilometers(\u001B[38;5;241m*\u001B[39m\u001B[38;5;241m*\u001B[39mkwargs)\n\u001B[0;32m    279\u001B[0m \u001B[38;5;28mself\u001B[39m\u001B[38;5;241m.\u001B[39m__kilometers \u001B[38;5;241m=\u001B[39m kilometers\n",
      "File \u001B[1;32mC:\\Uni\\Coding\\python\\ENV_DIR\\Lib\\site-packages\\geopy\\distance.py:464\u001B[0m, in \u001B[0;36mgreat_circle.measure\u001B[1;34m(self, a, b)\u001B[0m\n\u001B[0;32m    463\u001B[0m \u001B[38;5;28;01mdef\u001B[39;00m \u001B[38;5;21mmeasure\u001B[39m(\u001B[38;5;28mself\u001B[39m, a, b):\n\u001B[1;32m--> 464\u001B[0m     a, b \u001B[38;5;241m=\u001B[39m Point(a), \u001B[43mPoint\u001B[49m\u001B[43m(\u001B[49m\u001B[43mb\u001B[49m\u001B[43m)\u001B[49m\n\u001B[0;32m    465\u001B[0m     _ensure_same_altitude(a, b)\n\u001B[0;32m    467\u001B[0m     lat1, lng1 \u001B[38;5;241m=\u001B[39m radians(degrees\u001B[38;5;241m=\u001B[39ma\u001B[38;5;241m.\u001B[39mlatitude), radians(degrees\u001B[38;5;241m=\u001B[39ma\u001B[38;5;241m.\u001B[39mlongitude)\n",
      "\u001B[1;31mKeyboardInterrupt\u001B[0m: "
     ]
    }
   ],
   "source": [
    "b = east(1242193764)\n",
    "func.maps(b)"
   ],
   "metadata": {
    "collapsed": false,
    "ExecuteTime": {
     "end_time": "2023-11-03T12:20:57.382890200Z",
     "start_time": "2023-11-03T12:20:53.504587900Z"
    }
   },
   "id": "d92b6d36c7fd331a"
  },
  {
   "cell_type": "code",
   "execution_count": null,
   "outputs": [],
   "source": [],
   "metadata": {
    "collapsed": false
   },
   "id": "96cb4cdf73abcdb1"
  }
 ],
 "metadata": {
  "kernelspec": {
   "display_name": "Python 3 (ipykernel)",
   "language": "python",
   "name": "python3"
  },
  "language_info": {
   "codemirror_mode": {
    "name": "ipython",
    "version": 3
   },
   "file_extension": ".py",
   "mimetype": "text/x-python",
   "name": "python",
   "nbconvert_exporter": "python",
   "pygments_lexer": "ipython3",
   "version": "3.11.3"
  }
 },
 "nbformat": 4,
 "nbformat_minor": 5
}
