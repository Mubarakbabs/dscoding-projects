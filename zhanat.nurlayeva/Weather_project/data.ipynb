{
 "cells": [
  {
   "cell_type": "code",
   "execution_count": 21,
   "id": "initial_id",
   "metadata": {
    "collapsed": true,
    "ExecuteTime": {
     "end_time": "2023-10-26T18:48:29.043515Z",
     "start_time": "2023-10-26T18:48:28.793005Z"
    }
   },
   "outputs": [],
   "source": [
    "import pandas as pd"
   ]
  },
  {
   "cell_type": "code",
   "execution_count": 22,
   "outputs": [
    {
     "data": {
      "text/plain": "                 dt  AverageTemperature  AverageTemperatureUncertainty  \\\n0        1743-11-01               6.068                          1.737   \n1        1743-12-01                 NaN                            NaN   \n2        1744-01-01                 NaN                            NaN   \n3        1744-02-01                 NaN                            NaN   \n4        1744-03-01                 NaN                            NaN   \n...             ...                 ...                            ...   \n8599207  2013-05-01              11.464                          0.236   \n8599208  2013-06-01              15.043                          0.261   \n8599209  2013-07-01              18.775                          0.193   \n8599210  2013-08-01              18.025                          0.298   \n8599211  2013-09-01                 NaN                            NaN   \n\n           City      Country Latitude Longitude  \n0         Århus      Denmark   57.05N    10.33E  \n1         Århus      Denmark   57.05N    10.33E  \n2         Århus      Denmark   57.05N    10.33E  \n3         Århus      Denmark   57.05N    10.33E  \n4         Århus      Denmark   57.05N    10.33E  \n...         ...          ...      ...       ...  \n8599207  Zwolle  Netherlands   52.24N     5.26E  \n8599208  Zwolle  Netherlands   52.24N     5.26E  \n8599209  Zwolle  Netherlands   52.24N     5.26E  \n8599210  Zwolle  Netherlands   52.24N     5.26E  \n8599211  Zwolle  Netherlands   52.24N     5.26E  \n\n[8599212 rows x 7 columns]",
      "text/html": "<div>\n<style scoped>\n    .dataframe tbody tr th:only-of-type {\n        vertical-align: middle;\n    }\n\n    .dataframe tbody tr th {\n        vertical-align: top;\n    }\n\n    .dataframe thead th {\n        text-align: right;\n    }\n</style>\n<table border=\"1\" class=\"dataframe\">\n  <thead>\n    <tr style=\"text-align: right;\">\n      <th></th>\n      <th>dt</th>\n      <th>AverageTemperature</th>\n      <th>AverageTemperatureUncertainty</th>\n      <th>City</th>\n      <th>Country</th>\n      <th>Latitude</th>\n      <th>Longitude</th>\n    </tr>\n  </thead>\n  <tbody>\n    <tr>\n      <th>0</th>\n      <td>1743-11-01</td>\n      <td>6.068</td>\n      <td>1.737</td>\n      <td>Århus</td>\n      <td>Denmark</td>\n      <td>57.05N</td>\n      <td>10.33E</td>\n    </tr>\n    <tr>\n      <th>1</th>\n      <td>1743-12-01</td>\n      <td>NaN</td>\n      <td>NaN</td>\n      <td>Århus</td>\n      <td>Denmark</td>\n      <td>57.05N</td>\n      <td>10.33E</td>\n    </tr>\n    <tr>\n      <th>2</th>\n      <td>1744-01-01</td>\n      <td>NaN</td>\n      <td>NaN</td>\n      <td>Århus</td>\n      <td>Denmark</td>\n      <td>57.05N</td>\n      <td>10.33E</td>\n    </tr>\n    <tr>\n      <th>3</th>\n      <td>1744-02-01</td>\n      <td>NaN</td>\n      <td>NaN</td>\n      <td>Århus</td>\n      <td>Denmark</td>\n      <td>57.05N</td>\n      <td>10.33E</td>\n    </tr>\n    <tr>\n      <th>4</th>\n      <td>1744-03-01</td>\n      <td>NaN</td>\n      <td>NaN</td>\n      <td>Århus</td>\n      <td>Denmark</td>\n      <td>57.05N</td>\n      <td>10.33E</td>\n    </tr>\n    <tr>\n      <th>...</th>\n      <td>...</td>\n      <td>...</td>\n      <td>...</td>\n      <td>...</td>\n      <td>...</td>\n      <td>...</td>\n      <td>...</td>\n    </tr>\n    <tr>\n      <th>8599207</th>\n      <td>2013-05-01</td>\n      <td>11.464</td>\n      <td>0.236</td>\n      <td>Zwolle</td>\n      <td>Netherlands</td>\n      <td>52.24N</td>\n      <td>5.26E</td>\n    </tr>\n    <tr>\n      <th>8599208</th>\n      <td>2013-06-01</td>\n      <td>15.043</td>\n      <td>0.261</td>\n      <td>Zwolle</td>\n      <td>Netherlands</td>\n      <td>52.24N</td>\n      <td>5.26E</td>\n    </tr>\n    <tr>\n      <th>8599209</th>\n      <td>2013-07-01</td>\n      <td>18.775</td>\n      <td>0.193</td>\n      <td>Zwolle</td>\n      <td>Netherlands</td>\n      <td>52.24N</td>\n      <td>5.26E</td>\n    </tr>\n    <tr>\n      <th>8599210</th>\n      <td>2013-08-01</td>\n      <td>18.025</td>\n      <td>0.298</td>\n      <td>Zwolle</td>\n      <td>Netherlands</td>\n      <td>52.24N</td>\n      <td>5.26E</td>\n    </tr>\n    <tr>\n      <th>8599211</th>\n      <td>2013-09-01</td>\n      <td>NaN</td>\n      <td>NaN</td>\n      <td>Zwolle</td>\n      <td>Netherlands</td>\n      <td>52.24N</td>\n      <td>5.26E</td>\n    </tr>\n  </tbody>\n</table>\n<p>8599212 rows × 7 columns</p>\n</div>"
     },
     "execution_count": 22,
     "metadata": {},
     "output_type": "execute_result"
    }
   ],
   "source": [
    "df=pd.read_csv(\"GlobalLandTemperaturesByCity.csv\")\n",
    "df"
   ],
   "metadata": {
    "collapsed": false,
    "ExecuteTime": {
     "end_time": "2023-10-26T18:48:33.559097Z",
     "start_time": "2023-10-26T18:48:28.805988Z"
    }
   },
   "id": "3a058b1331e3e72c"
  },
  {
   "cell_type": "code",
   "execution_count": null,
   "outputs": [],
   "source": [],
   "metadata": {
    "collapsed": false
   },
   "id": "b4920a915fd9cd52"
  },
  {
   "cell_type": "code",
   "execution_count": 23,
   "outputs": [
    {
     "data": {
      "text/plain": "                dt  AverageTemperature  AverageTemperatureUncertainty  \\\n0       1743-11-01               4.384                          2.294   \n1       1743-12-01                 NaN                            NaN   \n2       1744-01-01                 NaN                            NaN   \n3       1744-02-01                 NaN                            NaN   \n4       1744-03-01                 NaN                            NaN   \n...            ...                 ...                            ...   \n577457  2013-05-01              19.059                          1.022   \n577458  2013-06-01              17.613                          0.473   \n577459  2013-07-01              17.000                          0.453   \n577460  2013-08-01              19.759                          0.717   \n577461  2013-09-01                 NaN                            NaN   \n\n         Country  \n0          Åland  \n1          Åland  \n2          Åland  \n3          Åland  \n4          Åland  \n...          ...  \n577457  Zimbabwe  \n577458  Zimbabwe  \n577459  Zimbabwe  \n577460  Zimbabwe  \n577461  Zimbabwe  \n\n[577462 rows x 4 columns]",
      "text/html": "<div>\n<style scoped>\n    .dataframe tbody tr th:only-of-type {\n        vertical-align: middle;\n    }\n\n    .dataframe tbody tr th {\n        vertical-align: top;\n    }\n\n    .dataframe thead th {\n        text-align: right;\n    }\n</style>\n<table border=\"1\" class=\"dataframe\">\n  <thead>\n    <tr style=\"text-align: right;\">\n      <th></th>\n      <th>dt</th>\n      <th>AverageTemperature</th>\n      <th>AverageTemperatureUncertainty</th>\n      <th>Country</th>\n    </tr>\n  </thead>\n  <tbody>\n    <tr>\n      <th>0</th>\n      <td>1743-11-01</td>\n      <td>4.384</td>\n      <td>2.294</td>\n      <td>Åland</td>\n    </tr>\n    <tr>\n      <th>1</th>\n      <td>1743-12-01</td>\n      <td>NaN</td>\n      <td>NaN</td>\n      <td>Åland</td>\n    </tr>\n    <tr>\n      <th>2</th>\n      <td>1744-01-01</td>\n      <td>NaN</td>\n      <td>NaN</td>\n      <td>Åland</td>\n    </tr>\n    <tr>\n      <th>3</th>\n      <td>1744-02-01</td>\n      <td>NaN</td>\n      <td>NaN</td>\n      <td>Åland</td>\n    </tr>\n    <tr>\n      <th>4</th>\n      <td>1744-03-01</td>\n      <td>NaN</td>\n      <td>NaN</td>\n      <td>Åland</td>\n    </tr>\n    <tr>\n      <th>...</th>\n      <td>...</td>\n      <td>...</td>\n      <td>...</td>\n      <td>...</td>\n    </tr>\n    <tr>\n      <th>577457</th>\n      <td>2013-05-01</td>\n      <td>19.059</td>\n      <td>1.022</td>\n      <td>Zimbabwe</td>\n    </tr>\n    <tr>\n      <th>577458</th>\n      <td>2013-06-01</td>\n      <td>17.613</td>\n      <td>0.473</td>\n      <td>Zimbabwe</td>\n    </tr>\n    <tr>\n      <th>577459</th>\n      <td>2013-07-01</td>\n      <td>17.000</td>\n      <td>0.453</td>\n      <td>Zimbabwe</td>\n    </tr>\n    <tr>\n      <th>577460</th>\n      <td>2013-08-01</td>\n      <td>19.759</td>\n      <td>0.717</td>\n      <td>Zimbabwe</td>\n    </tr>\n    <tr>\n      <th>577461</th>\n      <td>2013-09-01</td>\n      <td>NaN</td>\n      <td>NaN</td>\n      <td>Zimbabwe</td>\n    </tr>\n  </tbody>\n</table>\n<p>577462 rows × 4 columns</p>\n</div>"
     },
     "execution_count": 23,
     "metadata": {},
     "output_type": "execute_result"
    }
   ],
   "source": [
    "df=pd.read_csv(\"GlobalLandTemperaturesByCountry.csv\")\n",
    "df"
   ],
   "metadata": {
    "collapsed": false,
    "ExecuteTime": {
     "end_time": "2023-10-26T18:48:33.894125Z",
     "start_time": "2023-10-26T18:48:33.519827Z"
    }
   },
   "id": "cda4ca65bb2a1807"
  },
  {
   "cell_type": "code",
   "execution_count": 24,
   "outputs": [
    {
     "data": {
      "text/plain": "                dt  AverageTemperature  AverageTemperatureUncertainty  \\\n0       1849-01-01              26.704                          1.435   \n1       1849-02-01              27.434                          1.362   \n2       1849-03-01              28.101                          1.612   \n3       1849-04-01              26.140                          1.387   \n4       1849-05-01              25.427                          1.200   \n...            ...                 ...                            ...   \n239172  2013-05-01              18.979                          0.807   \n239173  2013-06-01              23.522                          0.647   \n239174  2013-07-01              25.251                          1.042   \n239175  2013-08-01              24.528                          0.840   \n239176  2013-09-01                 NaN                            NaN   \n\n           City        Country Latitude Longitude  \n0       Abidjan  Côte D'Ivoire    5.63N     3.23W  \n1       Abidjan  Côte D'Ivoire    5.63N     3.23W  \n2       Abidjan  Côte D'Ivoire    5.63N     3.23W  \n3       Abidjan  Côte D'Ivoire    5.63N     3.23W  \n4       Abidjan  Côte D'Ivoire    5.63N     3.23W  \n...         ...            ...      ...       ...  \n239172     Xian          China   34.56N   108.97E  \n239173     Xian          China   34.56N   108.97E  \n239174     Xian          China   34.56N   108.97E  \n239175     Xian          China   34.56N   108.97E  \n239176     Xian          China   34.56N   108.97E  \n\n[239177 rows x 7 columns]",
      "text/html": "<div>\n<style scoped>\n    .dataframe tbody tr th:only-of-type {\n        vertical-align: middle;\n    }\n\n    .dataframe tbody tr th {\n        vertical-align: top;\n    }\n\n    .dataframe thead th {\n        text-align: right;\n    }\n</style>\n<table border=\"1\" class=\"dataframe\">\n  <thead>\n    <tr style=\"text-align: right;\">\n      <th></th>\n      <th>dt</th>\n      <th>AverageTemperature</th>\n      <th>AverageTemperatureUncertainty</th>\n      <th>City</th>\n      <th>Country</th>\n      <th>Latitude</th>\n      <th>Longitude</th>\n    </tr>\n  </thead>\n  <tbody>\n    <tr>\n      <th>0</th>\n      <td>1849-01-01</td>\n      <td>26.704</td>\n      <td>1.435</td>\n      <td>Abidjan</td>\n      <td>Côte D'Ivoire</td>\n      <td>5.63N</td>\n      <td>3.23W</td>\n    </tr>\n    <tr>\n      <th>1</th>\n      <td>1849-02-01</td>\n      <td>27.434</td>\n      <td>1.362</td>\n      <td>Abidjan</td>\n      <td>Côte D'Ivoire</td>\n      <td>5.63N</td>\n      <td>3.23W</td>\n    </tr>\n    <tr>\n      <th>2</th>\n      <td>1849-03-01</td>\n      <td>28.101</td>\n      <td>1.612</td>\n      <td>Abidjan</td>\n      <td>Côte D'Ivoire</td>\n      <td>5.63N</td>\n      <td>3.23W</td>\n    </tr>\n    <tr>\n      <th>3</th>\n      <td>1849-04-01</td>\n      <td>26.140</td>\n      <td>1.387</td>\n      <td>Abidjan</td>\n      <td>Côte D'Ivoire</td>\n      <td>5.63N</td>\n      <td>3.23W</td>\n    </tr>\n    <tr>\n      <th>4</th>\n      <td>1849-05-01</td>\n      <td>25.427</td>\n      <td>1.200</td>\n      <td>Abidjan</td>\n      <td>Côte D'Ivoire</td>\n      <td>5.63N</td>\n      <td>3.23W</td>\n    </tr>\n    <tr>\n      <th>...</th>\n      <td>...</td>\n      <td>...</td>\n      <td>...</td>\n      <td>...</td>\n      <td>...</td>\n      <td>...</td>\n      <td>...</td>\n    </tr>\n    <tr>\n      <th>239172</th>\n      <td>2013-05-01</td>\n      <td>18.979</td>\n      <td>0.807</td>\n      <td>Xian</td>\n      <td>China</td>\n      <td>34.56N</td>\n      <td>108.97E</td>\n    </tr>\n    <tr>\n      <th>239173</th>\n      <td>2013-06-01</td>\n      <td>23.522</td>\n      <td>0.647</td>\n      <td>Xian</td>\n      <td>China</td>\n      <td>34.56N</td>\n      <td>108.97E</td>\n    </tr>\n    <tr>\n      <th>239174</th>\n      <td>2013-07-01</td>\n      <td>25.251</td>\n      <td>1.042</td>\n      <td>Xian</td>\n      <td>China</td>\n      <td>34.56N</td>\n      <td>108.97E</td>\n    </tr>\n    <tr>\n      <th>239175</th>\n      <td>2013-08-01</td>\n      <td>24.528</td>\n      <td>0.840</td>\n      <td>Xian</td>\n      <td>China</td>\n      <td>34.56N</td>\n      <td>108.97E</td>\n    </tr>\n    <tr>\n      <th>239176</th>\n      <td>2013-09-01</td>\n      <td>NaN</td>\n      <td>NaN</td>\n      <td>Xian</td>\n      <td>China</td>\n      <td>34.56N</td>\n      <td>108.97E</td>\n    </tr>\n  </tbody>\n</table>\n<p>239177 rows × 7 columns</p>\n</div>"
     },
     "execution_count": 24,
     "metadata": {},
     "output_type": "execute_result"
    }
   ],
   "source": [
    "df=pd.read_csv(\"GlobalLandTemperaturesByMajorCity.csv\")\n",
    "df"
   ],
   "metadata": {
    "collapsed": false,
    "ExecuteTime": {
     "end_time": "2023-10-26T18:48:34.035819Z",
     "start_time": "2023-10-26T18:48:33.664772Z"
    }
   },
   "id": "8cfb43993a79fca1"
  },
  {
   "cell_type": "code",
   "execution_count": 25,
   "outputs": [
    {
     "data": {
      "text/plain": "                dt  AverageTemperature  AverageTemperatureUncertainty  \\\n0       1855-05-01              25.544                          1.171   \n1       1855-06-01              24.228                          1.103   \n2       1855-07-01              24.371                          1.044   \n3       1855-08-01              25.427                          1.073   \n4       1855-09-01              25.675                          1.014   \n...            ...                 ...                            ...   \n645670  2013-05-01              21.634                          0.578   \n645671  2013-06-01              24.679                          0.596   \n645672  2013-07-01              29.272                          1.340   \n645673  2013-08-01              29.202                          0.869   \n645674  2013-09-01                 NaN                            NaN   \n\n           State Country  \n0           Acre  Brazil  \n1           Acre  Brazil  \n2           Acre  Brazil  \n3           Acre  Brazil  \n4           Acre  Brazil  \n...          ...     ...  \n645670  Zhejiang   China  \n645671  Zhejiang   China  \n645672  Zhejiang   China  \n645673  Zhejiang   China  \n645674  Zhejiang   China  \n\n[645675 rows x 5 columns]",
      "text/html": "<div>\n<style scoped>\n    .dataframe tbody tr th:only-of-type {\n        vertical-align: middle;\n    }\n\n    .dataframe tbody tr th {\n        vertical-align: top;\n    }\n\n    .dataframe thead th {\n        text-align: right;\n    }\n</style>\n<table border=\"1\" class=\"dataframe\">\n  <thead>\n    <tr style=\"text-align: right;\">\n      <th></th>\n      <th>dt</th>\n      <th>AverageTemperature</th>\n      <th>AverageTemperatureUncertainty</th>\n      <th>State</th>\n      <th>Country</th>\n    </tr>\n  </thead>\n  <tbody>\n    <tr>\n      <th>0</th>\n      <td>1855-05-01</td>\n      <td>25.544</td>\n      <td>1.171</td>\n      <td>Acre</td>\n      <td>Brazil</td>\n    </tr>\n    <tr>\n      <th>1</th>\n      <td>1855-06-01</td>\n      <td>24.228</td>\n      <td>1.103</td>\n      <td>Acre</td>\n      <td>Brazil</td>\n    </tr>\n    <tr>\n      <th>2</th>\n      <td>1855-07-01</td>\n      <td>24.371</td>\n      <td>1.044</td>\n      <td>Acre</td>\n      <td>Brazil</td>\n    </tr>\n    <tr>\n      <th>3</th>\n      <td>1855-08-01</td>\n      <td>25.427</td>\n      <td>1.073</td>\n      <td>Acre</td>\n      <td>Brazil</td>\n    </tr>\n    <tr>\n      <th>4</th>\n      <td>1855-09-01</td>\n      <td>25.675</td>\n      <td>1.014</td>\n      <td>Acre</td>\n      <td>Brazil</td>\n    </tr>\n    <tr>\n      <th>...</th>\n      <td>...</td>\n      <td>...</td>\n      <td>...</td>\n      <td>...</td>\n      <td>...</td>\n    </tr>\n    <tr>\n      <th>645670</th>\n      <td>2013-05-01</td>\n      <td>21.634</td>\n      <td>0.578</td>\n      <td>Zhejiang</td>\n      <td>China</td>\n    </tr>\n    <tr>\n      <th>645671</th>\n      <td>2013-06-01</td>\n      <td>24.679</td>\n      <td>0.596</td>\n      <td>Zhejiang</td>\n      <td>China</td>\n    </tr>\n    <tr>\n      <th>645672</th>\n      <td>2013-07-01</td>\n      <td>29.272</td>\n      <td>1.340</td>\n      <td>Zhejiang</td>\n      <td>China</td>\n    </tr>\n    <tr>\n      <th>645673</th>\n      <td>2013-08-01</td>\n      <td>29.202</td>\n      <td>0.869</td>\n      <td>Zhejiang</td>\n      <td>China</td>\n    </tr>\n    <tr>\n      <th>645674</th>\n      <td>2013-09-01</td>\n      <td>NaN</td>\n      <td>NaN</td>\n      <td>Zhejiang</td>\n      <td>China</td>\n    </tr>\n  </tbody>\n</table>\n<p>645675 rows × 5 columns</p>\n</div>"
     },
     "execution_count": 25,
     "metadata": {},
     "output_type": "execute_result"
    }
   ],
   "source": [
    "df=pd.read_csv(\"GlobalLandTemperaturesByState.csv\")\n",
    "df"
   ],
   "metadata": {
    "collapsed": false,
    "ExecuteTime": {
     "end_time": "2023-10-26T18:48:34.142354Z",
     "start_time": "2023-10-26T18:48:33.784222Z"
    }
   },
   "id": "999c2d6466c1be4d"
  },
  {
   "cell_type": "code",
   "execution_count": 26,
   "outputs": [
    {
     "data": {
      "text/plain": "              dt  LandAverageTemperature  LandAverageTemperatureUncertainty  \\\n0     1750-01-01                   3.034                              3.574   \n1     1750-02-01                   3.083                              3.702   \n2     1750-03-01                   5.626                              3.076   \n3     1750-04-01                   8.490                              2.451   \n4     1750-05-01                  11.573                              2.072   \n...          ...                     ...                                ...   \n3187  2015-08-01                  14.755                              0.072   \n3188  2015-09-01                  12.999                              0.079   \n3189  2015-10-01                  10.801                              0.102   \n3190  2015-11-01                   7.433                              0.119   \n3191  2015-12-01                   5.518                              0.100   \n\n      LandMaxTemperature  LandMaxTemperatureUncertainty  LandMinTemperature  \\\n0                    NaN                            NaN                 NaN   \n1                    NaN                            NaN                 NaN   \n2                    NaN                            NaN                 NaN   \n3                    NaN                            NaN                 NaN   \n4                    NaN                            NaN                 NaN   \n...                  ...                            ...                 ...   \n3187              20.699                          0.110               9.005   \n3188              18.845                          0.088               7.199   \n3189              16.450                          0.059               5.232   \n3190              12.892                          0.093               2.157   \n3191              10.725                          0.154               0.287   \n\n      LandMinTemperatureUncertainty  LandAndOceanAverageTemperature  \\\n0                               NaN                             NaN   \n1                               NaN                             NaN   \n2                               NaN                             NaN   \n3                               NaN                             NaN   \n4                               NaN                             NaN   \n...                             ...                             ...   \n3187                          0.170                          17.589   \n3188                          0.229                          17.049   \n3189                          0.115                          16.290   \n3190                          0.106                          15.252   \n3191                          0.099                          14.774   \n\n      LandAndOceanAverageTemperatureUncertainty  \n0                                           NaN  \n1                                           NaN  \n2                                           NaN  \n3                                           NaN  \n4                                           NaN  \n...                                         ...  \n3187                                      0.057  \n3188                                      0.058  \n3189                                      0.062  \n3190                                      0.063  \n3191                                      0.062  \n\n[3192 rows x 9 columns]",
      "text/html": "<div>\n<style scoped>\n    .dataframe tbody tr th:only-of-type {\n        vertical-align: middle;\n    }\n\n    .dataframe tbody tr th {\n        vertical-align: top;\n    }\n\n    .dataframe thead th {\n        text-align: right;\n    }\n</style>\n<table border=\"1\" class=\"dataframe\">\n  <thead>\n    <tr style=\"text-align: right;\">\n      <th></th>\n      <th>dt</th>\n      <th>LandAverageTemperature</th>\n      <th>LandAverageTemperatureUncertainty</th>\n      <th>LandMaxTemperature</th>\n      <th>LandMaxTemperatureUncertainty</th>\n      <th>LandMinTemperature</th>\n      <th>LandMinTemperatureUncertainty</th>\n      <th>LandAndOceanAverageTemperature</th>\n      <th>LandAndOceanAverageTemperatureUncertainty</th>\n    </tr>\n  </thead>\n  <tbody>\n    <tr>\n      <th>0</th>\n      <td>1750-01-01</td>\n      <td>3.034</td>\n      <td>3.574</td>\n      <td>NaN</td>\n      <td>NaN</td>\n      <td>NaN</td>\n      <td>NaN</td>\n      <td>NaN</td>\n      <td>NaN</td>\n    </tr>\n    <tr>\n      <th>1</th>\n      <td>1750-02-01</td>\n      <td>3.083</td>\n      <td>3.702</td>\n      <td>NaN</td>\n      <td>NaN</td>\n      <td>NaN</td>\n      <td>NaN</td>\n      <td>NaN</td>\n      <td>NaN</td>\n    </tr>\n    <tr>\n      <th>2</th>\n      <td>1750-03-01</td>\n      <td>5.626</td>\n      <td>3.076</td>\n      <td>NaN</td>\n      <td>NaN</td>\n      <td>NaN</td>\n      <td>NaN</td>\n      <td>NaN</td>\n      <td>NaN</td>\n    </tr>\n    <tr>\n      <th>3</th>\n      <td>1750-04-01</td>\n      <td>8.490</td>\n      <td>2.451</td>\n      <td>NaN</td>\n      <td>NaN</td>\n      <td>NaN</td>\n      <td>NaN</td>\n      <td>NaN</td>\n      <td>NaN</td>\n    </tr>\n    <tr>\n      <th>4</th>\n      <td>1750-05-01</td>\n      <td>11.573</td>\n      <td>2.072</td>\n      <td>NaN</td>\n      <td>NaN</td>\n      <td>NaN</td>\n      <td>NaN</td>\n      <td>NaN</td>\n      <td>NaN</td>\n    </tr>\n    <tr>\n      <th>...</th>\n      <td>...</td>\n      <td>...</td>\n      <td>...</td>\n      <td>...</td>\n      <td>...</td>\n      <td>...</td>\n      <td>...</td>\n      <td>...</td>\n      <td>...</td>\n    </tr>\n    <tr>\n      <th>3187</th>\n      <td>2015-08-01</td>\n      <td>14.755</td>\n      <td>0.072</td>\n      <td>20.699</td>\n      <td>0.110</td>\n      <td>9.005</td>\n      <td>0.170</td>\n      <td>17.589</td>\n      <td>0.057</td>\n    </tr>\n    <tr>\n      <th>3188</th>\n      <td>2015-09-01</td>\n      <td>12.999</td>\n      <td>0.079</td>\n      <td>18.845</td>\n      <td>0.088</td>\n      <td>7.199</td>\n      <td>0.229</td>\n      <td>17.049</td>\n      <td>0.058</td>\n    </tr>\n    <tr>\n      <th>3189</th>\n      <td>2015-10-01</td>\n      <td>10.801</td>\n      <td>0.102</td>\n      <td>16.450</td>\n      <td>0.059</td>\n      <td>5.232</td>\n      <td>0.115</td>\n      <td>16.290</td>\n      <td>0.062</td>\n    </tr>\n    <tr>\n      <th>3190</th>\n      <td>2015-11-01</td>\n      <td>7.433</td>\n      <td>0.119</td>\n      <td>12.892</td>\n      <td>0.093</td>\n      <td>2.157</td>\n      <td>0.106</td>\n      <td>15.252</td>\n      <td>0.063</td>\n    </tr>\n    <tr>\n      <th>3191</th>\n      <td>2015-12-01</td>\n      <td>5.518</td>\n      <td>0.100</td>\n      <td>10.725</td>\n      <td>0.154</td>\n      <td>0.287</td>\n      <td>0.099</td>\n      <td>14.774</td>\n      <td>0.062</td>\n    </tr>\n  </tbody>\n</table>\n<p>3192 rows × 9 columns</p>\n</div>"
     },
     "execution_count": 26,
     "metadata": {},
     "output_type": "execute_result"
    }
   ],
   "source": [
    "df=pd.read_csv(\"GlobalTemperatures.csv\")\n",
    "df"
   ],
   "metadata": {
    "collapsed": false,
    "ExecuteTime": {
     "end_time": "2023-10-26T18:48:34.148805Z",
     "start_time": "2023-10-26T18:48:34.021784Z"
    }
   },
   "id": "927dd0a2e9e49c8e"
  }
 ],
 "metadata": {
  "kernelspec": {
   "display_name": "Python 3",
   "language": "python",
   "name": "python3"
  },
  "language_info": {
   "codemirror_mode": {
    "name": "ipython",
    "version": 2
   },
   "file_extension": ".py",
   "mimetype": "text/x-python",
   "name": "python",
   "nbconvert_exporter": "python",
   "pygments_lexer": "ipython2",
   "version": "2.7.6"
  }
 },
 "nbformat": 4,
 "nbformat_minor": 5
}
