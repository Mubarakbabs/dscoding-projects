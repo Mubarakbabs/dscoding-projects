{
 "cells": [
  {
   "cell_type": "code",
   "execution_count": 15,
   "metadata": {},
   "outputs": [],
   "source": [
    "import streamlit as st\n",
    "import pandas as pd\n",
    "import numpy as np\n",
    "from sklearn.cluster import KMeans, AffinityPropagation\n",
    "from sklearn.metrics import silhouette_score\n",
    "from collections import Counter\n",
    "from src.ZooAnimals import DataProcessor"
   ]
  },
  {
   "cell_type": "code",
   "execution_count": 16,
   "metadata": {},
   "outputs": [
    {
     "name": "stderr",
     "output_type": "stream",
     "text": [
      "2023-11-21 19:51:46.051 \n",
      "  \u001b[33m\u001b[1mWarning:\u001b[0m to view this Streamlit app on a browser, run it with the following\n",
      "  command:\n",
      "\n",
      "    streamlit run c:\\Users\\Akash Mittal\\anaconda3\\Lib\\site-packages\\ipykernel_launcher.py [ARGUMENTS]\n"
     ]
    }
   ],
   "source": [
    "def run_clustering(data, method, **kwargs):\n",
    "    X_numeric = data.drop(['animal_name'], axis=1)\n",
    "\n",
    "    if method == \"affinity_propagation\":\n",
    "        af = AffinityPropagation(**kwargs)\n",
    "        labels = af.fit_predict(X_numeric)\n",
    "        cluster_centers = af.cluster_centers_\n",
    "    elif method == \"kmeans\":\n",
    "        kmeans = KMeans(**kwargs)\n",
    "        labels = kmeans.fit_predict(X_numeric)\n",
    "        cluster_centers = kmeans.cluster_centers_\n",
    "\n",
    "    # Display clustering results\n",
    "    result_df = pd.DataFrame({'animal_name': data['animal_name'], 'cluster_label': labels})\n",
    "    return result_df\n",
    "\n",
    "# Streamlit App\n",
    "def main():\n",
    "    st.title(\"Animal Clustering App\")\n",
    "\n",
    "    # Upload File\n",
    "    uploaded_file = st.file_uploader(\"Upload Excel File\", type=[\"xlsx\"])\n",
    "\n",
    "    if uploaded_file:\n",
    "        # Process the uploaded file and perform clustering\n",
    "        data_processor = DataProcessor(uploaded_file)\n",
    "        data_processor.import_data()\n",
    "        data = data_processor.data\n",
    "\n",
    "        # Display clustering options\n",
    "        clustering_method = st.selectbox(\"Select Clustering Method\", [\"Affinity Propagation\", \"K-Means\"])\n",
    "\n",
    "        if clustering_method == \"Affinity Propagation\":\n",
    "            damping = st.slider(\"Damping Factor\", 0.1, 1.0, 0.7)\n",
    "            result = run_clustering(data, method=\"affinity_propagation\", damping=damping)\n",
    "        elif clustering_method == \"K-Means\":\n",
    "            num_clusters = st.slider(\"Number of Clusters\", 2, 10, 3)\n",
    "            result = run_clustering(data, method=\"kmeans\", n_clusters=num_clusters)\n",
    "\n",
    "        # Display results\n",
    "        st.write(\"Clustering Results:\")\n",
    "        st.write(result)\n",
    "\n",
    "if __name__ == \"__main__\":\n",
    "    main()"
   ]
  }
 ],
 "metadata": {
  "kernelspec": {
   "display_name": "Python 3 (ipykernel)",
   "language": "python",
   "name": "python3"
  },
  "language_info": {
   "codemirror_mode": {
    "name": "ipython",
    "version": 3
   },
   "file_extension": ".py",
   "mimetype": "text/x-python",
   "name": "python",
   "nbconvert_exporter": "python",
   "pygments_lexer": "ipython3",
   "version": "3.11.4"
  }
 },
 "nbformat": 4,
 "nbformat_minor": 2
}
