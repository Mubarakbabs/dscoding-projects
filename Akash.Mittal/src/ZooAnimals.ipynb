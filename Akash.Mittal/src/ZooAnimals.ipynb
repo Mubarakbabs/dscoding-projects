{
 "cells": [
  {
   "cell_type": "code",
   "execution_count": 1,
   "id": "4a18f352",
   "metadata": {},
   "outputs": [],
   "source": [
    "# This File is for extracting feature data-points from the excel file using openpyxl and pandas.  "
   ]
  },
  {
   "cell_type": "code",
   "execution_count": 2,
   "id": "b6a30f49",
   "metadata": {},
   "outputs": [],
   "source": [
    "import pandas as pd\n",
    "import seaborn as sns\n",
    "import matplotlib.pyplot as plt"
   ]
  },
  {
   "cell_type": "code",
   "execution_count": 3,
   "id": "d9eff20f",
   "metadata": {},
   "outputs": [],
   "source": [
    "class DataProcessor():                    # DataProcessor class for importing the data and processing the initial files\n",
    "    def __init__(self, file_path):\n",
    "        self.file_path = file_path\n",
    "        self.data = None                  # Initialization the blank dataframe in class\n",
    "        \n",
    "    def import_data(self):                # Improting the data file\n",
    "        try:\n",
    "            self.data = pd.read_excel(self.file_path)\n",
    "            print(\"File Read OK.\")\n",
    "        except Exception as e:\n",
    "            print(f\"Error in File Read: {e}\")\n",
    "            \n",
    "    def output_data_structure(self):      # Function to Output the Column Names and a Brief Overview of the DataSet\n",
    "        if self.data is not None:         # This can be skipped also as the self.data dataframe can be used for same purpose\n",
    "            print(\"The Columns/ Attributes/ Features are :\")\n",
    "            for column_name in self.data.columns:\n",
    "                print(column_name)\n",
    "            print(\"A short Summary of Data Table: \")\n",
    "            data_tibble = self.data\n",
    "        else:\n",
    "            print(\"Check input data.\")\n",
    "            data_tibble = None\n",
    "        return data_tibble\n",
    "\n",
    "    def drop_column(self, column_name):    #Function to Drop a specific Column\n",
    "        if self.data is not None:\n",
    "            self.data = self.data.drop(column_name, axis = 1)\n",
    "            print(f\"Column '{column_name}' dropped successfully\")\n",
    "        else:\n",
    "            print(\"data not available or wrong column name.\")\n",
    "        \n",
    "    def create_pair_plot(self):            # Function to create Pair-Wise Scatter PLots\n",
    "        if self.data is not None:\n",
    "            sns.pairplot(self.data, kind='scatter', plot_kws={'alpha':0.5})\n",
    "            plt.suptitle('Pair Plot of Animal Features', y=1.03)\n",
    "            plt.show()\n",
    "        else:\n",
    "            print(\"Check input data.\")"
   ]
  },
  {
   "cell_type": "code",
   "execution_count": 4,
   "id": "f652f5de",
   "metadata": {},
   "outputs": [],
   "source": [
    "class DataValidation():                    # Class to load the class types for comaprison with our output\n",
    "    def __init__(self, file_path):\n",
    "        self.file_path = file_path\n",
    "        self.data = None\n",
    "    def import_data(self):\n",
    "        try:\n",
    "            self.data = pd.read_excel(self.file_path)\n",
    "            print(\"File Read OK.\")\n",
    "        except Exception as e:\n",
    "            print(f\"Error in File Read: {e}\")"
   ]
  },
  {
   "cell_type": "code",
   "execution_count": null,
   "id": "cedfc77c",
   "metadata": {},
   "outputs": [],
   "source": []
  },
  {
   "cell_type": "code",
   "execution_count": 5,
   "id": "bf246bb0",
   "metadata": {},
   "outputs": [],
   "source": [
    "#file_path = r\"C:\\Users\\Akash Mittal\\Documents\\Zoo_Lab\\zoo.xlsx\" #File Path of the Input File with Features of Animals"
   ]
  },
  {
   "cell_type": "code",
   "execution_count": 6,
   "id": "ffa3a491",
   "metadata": {},
   "outputs": [],
   "source": [
    "#dataprocess = DataProcessor(file_path) #Creating an Object of the DataProcessor Class with data used for analysis"
   ]
  },
  {
   "cell_type": "code",
   "execution_count": 7,
   "id": "fec00a28",
   "metadata": {},
   "outputs": [],
   "source": [
    "#dataprocess.import_data() # Imporitng Data"
   ]
  },
  {
   "cell_type": "code",
   "execution_count": 8,
   "id": "4f6562d7",
   "metadata": {},
   "outputs": [],
   "source": [
    "#dataprocess.output_data_structure() # Data Structure Output "
   ]
  },
  {
   "cell_type": "code",
   "execution_count": null,
   "id": "c27f4dc3",
   "metadata": {},
   "outputs": [],
   "source": []
  },
  {
   "cell_type": "code",
   "execution_count": 9,
   "id": "4a14d353",
   "metadata": {},
   "outputs": [],
   "source": [
    "#dataprocess.drop_column('class_type') # Dropping the Class_type column"
   ]
  },
  {
   "cell_type": "code",
   "execution_count": 10,
   "id": "f9d2077a",
   "metadata": {},
   "outputs": [],
   "source": [
    "#print(dataprocess.data)"
   ]
  },
  {
   "cell_type": "code",
   "execution_count": 11,
   "id": "1bed82f7",
   "metadata": {},
   "outputs": [],
   "source": [
    "#dataprocess.output_data_structure() # Data Structure Output "
   ]
  },
  {
   "cell_type": "code",
   "execution_count": 12,
   "id": "4769c747",
   "metadata": {},
   "outputs": [],
   "source": [
    "#print(dataprocess.data)"
   ]
  },
  {
   "cell_type": "code",
   "execution_count": 13,
   "id": "fd902eb1",
   "metadata": {},
   "outputs": [],
   "source": [
    "# dataprocess.create_pair_plot() # It creates a Pairwise Scatter Plot of the Data Points"
   ]
  },
  {
   "cell_type": "code",
   "execution_count": null,
   "id": "e98c5f8c",
   "metadata": {},
   "outputs": [],
   "source": []
  }
 ],
 "metadata": {
  "kernelspec": {
   "display_name": "Python 3 (ipykernel)",
   "language": "python",
   "name": "python3"
  },
  "language_info": {
   "codemirror_mode": {
    "name": "ipython",
    "version": 3
   },
   "file_extension": ".py",
   "mimetype": "text/x-python",
   "name": "python",
   "nbconvert_exporter": "python",
   "pygments_lexer": "ipython3",
   "version": "3.11.4"
  }
 },
 "nbformat": 4,
 "nbformat_minor": 5
}
