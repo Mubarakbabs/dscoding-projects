{
 "cells": [
  {
   "cell_type": "code",
   "execution_count": 27,
   "metadata": {},
   "outputs": [],
   "source": [
    "%run src/ZooAnimals.ipynb"
   ]
  },
  {
   "cell_type": "code",
   "execution_count": 28,
   "metadata": {},
   "outputs": [],
   "source": [
    "import numpy as np\n",
    "import pandas as pd\n",
    "import matplotlib.pyplot as plt\n",
    "import seaborn as sns\n",
    "from sklearn.cluster import AffinityPropagation\n",
    "from sklearn.cluster import KMeans\n",
    "from sklearn.metrics import silhouette_score\n"
   ]
  },
  {
   "cell_type": "code",
   "execution_count": 29,
   "metadata": {},
   "outputs": [],
   "source": [
    "file_path = r\"C:\\Users\\Akash Mittal\\Documents\\Zoo_Lab\\zoo.xlsx\" #File Path of the Input File with Features of Animals"
   ]
  },
  {
   "cell_type": "code",
   "execution_count": 30,
   "metadata": {},
   "outputs": [],
   "source": [
    "animal_data = DataProcessor(file_path)"
   ]
  },
  {
   "cell_type": "code",
   "execution_count": 31,
   "metadata": {},
   "outputs": [
    {
     "name": "stdout",
     "output_type": "stream",
     "text": [
      "File Read OK.\n"
     ]
    }
   ],
   "source": [
    "animal_data.import_data() # Imporitng Data"
   ]
  },
  {
   "cell_type": "code",
   "execution_count": 32,
   "metadata": {},
   "outputs": [
    {
     "name": "stdout",
     "output_type": "stream",
     "text": [
      "    animal_name  hair  feathers  eggs  milk  airborne  aquatic  predator  \\\n",
      "0      aardvark     1         0     0     1         0        0         1   \n",
      "1      antelope     1         0     0     1         0        0         0   \n",
      "2          bass     0         0     1     0         0        1         1   \n",
      "3          bear     1         0     0     1         0        0         1   \n",
      "4          boar     1         0     0     1         0        0         1   \n",
      "5       buffalo     1         0     0     1         0        0         0   \n",
      "6          calf     1         0     0     1         0        0         0   \n",
      "7          carp     0         0     1     0         0        1         0   \n",
      "8       catfish     0         0     1     0         0        1         1   \n",
      "9          cavy     1         0     0     1         0        0         0   \n",
      "10      cheetah     1         0     0     1         0        0         1   \n",
      "11      chicken     0         1     1     0         1        0         0   \n",
      "12         chub     0         0     1     0         0        1         1   \n",
      "13         clam     0         0     1     0         0        0         1   \n",
      "14         crab     0         0     1     0         0        1         1   \n",
      "15     crayfish     0         0     1     0         0        1         1   \n",
      "16         crow     0         1     1     0         1        0         1   \n",
      "17         deer     1         0     0     1         0        0         0   \n",
      "18      dogfish     0         0     1     0         0        1         1   \n",
      "19      dolphin     0         0     0     1         0        1         1   \n",
      "20         dove     0         1     1     0         1        0         0   \n",
      "21         duck     0         1     1     0         1        1         0   \n",
      "22     elephant     1         0     0     1         0        0         0   \n",
      "23     flamingo     0         1     1     0         1        0         0   \n",
      "24         flea     0         0     1     0         0        0         0   \n",
      "25         frog     0         0     1     0         0        1         1   \n",
      "26         frog     0         0     1     0         0        1         1   \n",
      "27     fruitbat     1         0     0     1         1        0         0   \n",
      "28      giraffe     1         0     0     1         0        0         0   \n",
      "29         girl     1         0     0     1         0        0         1   \n",
      "30         gnat     0         0     1     0         1        0         0   \n",
      "31         goat     1         0     0     1         0        0         0   \n",
      "32      gorilla     1         0     0     1         0        0         0   \n",
      "33         gull     0         1     1     0         1        1         1   \n",
      "34      haddock     0         0     1     0         0        1         0   \n",
      "35      hamster     1         0     0     1         0        0         0   \n",
      "36         hare     1         0     0     1         0        0         0   \n",
      "37         hawk     0         1     1     0         1        0         1   \n",
      "38      herring     0         0     1     0         0        1         1   \n",
      "39     honeybee     1         0     1     0         1        0         0   \n",
      "40     housefly     1         0     1     0         1        0         0   \n",
      "41         kiwi     0         1     1     0         0        0         1   \n",
      "42     ladybird     0         0     1     0         1        0         1   \n",
      "43         lark     0         1     1     0         1        0         0   \n",
      "44      leopard     1         0     0     1         0        0         1   \n",
      "45         lion     1         0     0     1         0        0         1   \n",
      "46      lobster     0         0     1     0         0        1         1   \n",
      "47         lynx     1         0     0     1         0        0         1   \n",
      "48         mink     1         0     0     1         0        1         1   \n",
      "49         mole     1         0     0     1         0        0         1   \n",
      "50     mongoose     1         0     0     1         0        0         1   \n",
      "51         moth     1         0     1     0         1        0         0   \n",
      "52         newt     0         0     1     0         0        1         1   \n",
      "53      octopus     0         0     1     0         0        1         1   \n",
      "54      opossum     1         0     0     1         0        0         1   \n",
      "55         oryx     1         0     0     1         0        0         0   \n",
      "56      ostrich     0         1     1     0         0        0         0   \n",
      "57     parakeet     0         1     1     0         1        0         0   \n",
      "58      penguin     0         1     1     0         0        1         1   \n",
      "59     pheasant     0         1     1     0         1        0         0   \n",
      "60         pike     0         0     1     0         0        1         1   \n",
      "61      piranha     0         0     1     0         0        1         1   \n",
      "62     pitviper     0         0     1     0         0        0         1   \n",
      "63     platypus     1         0     1     1         0        1         1   \n",
      "64      polecat     1         0     0     1         0        0         1   \n",
      "65         pony     1         0     0     1         0        0         0   \n",
      "66     porpoise     0         0     0     1         0        1         1   \n",
      "67         puma     1         0     0     1         0        0         1   \n",
      "68     pussycat     1         0     0     1         0        0         1   \n",
      "69      raccoon     1         0     0     1         0        0         1   \n",
      "70     reindeer     1         0     0     1         0        0         0   \n",
      "71         rhea     0         1     1     0         0        0         1   \n",
      "72     scorpion     0         0     0     0         0        0         1   \n",
      "73     seahorse     0         0     1     0         0        1         0   \n",
      "74         seal     1         0     0     1         0        1         1   \n",
      "75      sealion     1         0     0     1         0        1         1   \n",
      "76     seasnake     0         0     0     0         0        1         1   \n",
      "77      seawasp     0         0     1     0         0        1         1   \n",
      "78      skimmer     0         1     1     0         1        1         1   \n",
      "79         skua     0         1     1     0         1        1         1   \n",
      "80     slowworm     0         0     1     0         0        0         1   \n",
      "81         slug     0         0     1     0         0        0         0   \n",
      "82         sole     0         0     1     0         0        1         0   \n",
      "83      sparrow     0         1     1     0         1        0         0   \n",
      "84     squirrel     1         0     0     1         0        0         0   \n",
      "85     starfish     0         0     1     0         0        1         1   \n",
      "86     stingray     0         0     1     0         0        1         1   \n",
      "87         swan     0         1     1     0         1        1         0   \n",
      "88      termite     0         0     1     0         0        0         0   \n",
      "89         toad     0         0     1     0         0        1         0   \n",
      "90     tortoise     0         0     1     0         0        0         0   \n",
      "91      tuatara     0         0     1     0         0        0         1   \n",
      "92         tuna     0         0     1     0         0        1         1   \n",
      "93      vampire     1         0     0     1         1        0         0   \n",
      "94         vole     1         0     0     1         0        0         0   \n",
      "95      vulture     0         1     1     0         1        0         1   \n",
      "96      wallaby     1         0     0     1         0        0         0   \n",
      "97         wasp     1         0     1     0         1        0         0   \n",
      "98         wolf     1         0     0     1         0        0         1   \n",
      "99         worm     0         0     1     0         0        0         0   \n",
      "100        wren     0         1     1     0         1        0         0   \n",
      "\n",
      "     toothed  backbone  breathes  venomous  fins  legs  tail  domestic  \\\n",
      "0          1         1         1         0     0     4     0         0   \n",
      "1          1         1         1         0     0     4     1         0   \n",
      "2          1         1         0         0     1     0     1         0   \n",
      "3          1         1         1         0     0     4     0         0   \n",
      "4          1         1         1         0     0     4     1         0   \n",
      "5          1         1         1         0     0     4     1         0   \n",
      "6          1         1         1         0     0     4     1         1   \n",
      "7          1         1         0         0     1     0     1         1   \n",
      "8          1         1         0         0     1     0     1         0   \n",
      "9          1         1         1         0     0     4     0         1   \n",
      "10         1         1         1         0     0     4     1         0   \n",
      "11         0         1         1         0     0     2     1         1   \n",
      "12         1         1         0         0     1     0     1         0   \n",
      "13         0         0         0         0     0     0     0         0   \n",
      "14         0         0         0         0     0     4     0         0   \n",
      "15         0         0         0         0     0     6     0         0   \n",
      "16         0         1         1         0     0     2     1         0   \n",
      "17         1         1         1         0     0     4     1         0   \n",
      "18         1         1         0         0     1     0     1         0   \n",
      "19         1         1         1         0     1     0     1         0   \n",
      "20         0         1         1         0     0     2     1         1   \n",
      "21         0         1         1         0     0     2     1         0   \n",
      "22         1         1         1         0     0     4     1         0   \n",
      "23         0         1         1         0     0     2     1         0   \n",
      "24         0         0         1         0     0     6     0         0   \n",
      "25         1         1         1         0     0     4     0         0   \n",
      "26         1         1         1         1     0     4     0         0   \n",
      "27         1         1         1         0     0     2     1         0   \n",
      "28         1         1         1         0     0     4     1         0   \n",
      "29         1         1         1         0     0     2     0         1   \n",
      "30         0         0         1         0     0     6     0         0   \n",
      "31         1         1         1         0     0     4     1         1   \n",
      "32         1         1         1         0     0     2     0         0   \n",
      "33         0         1         1         0     0     2     1         0   \n",
      "34         1         1         0         0     1     0     1         0   \n",
      "35         1         1         1         0     0     4     1         1   \n",
      "36         1         1         1         0     0     4     1         0   \n",
      "37         0         1         1         0     0     2     1         0   \n",
      "38         1         1         0         0     1     0     1         0   \n",
      "39         0         0         1         1     0     6     0         1   \n",
      "40         0         0         1         0     0     6     0         0   \n",
      "41         0         1         1         0     0     2     1         0   \n",
      "42         0         0         1         0     0     6     0         0   \n",
      "43         0         1         1         0     0     2     1         0   \n",
      "44         1         1         1         0     0     4     1         0   \n",
      "45         1         1         1         0     0     4     1         0   \n",
      "46         0         0         0         0     0     6     0         0   \n",
      "47         1         1         1         0     0     4     1         0   \n",
      "48         1         1         1         0     0     4     1         0   \n",
      "49         1         1         1         0     0     4     1         0   \n",
      "50         1         1         1         0     0     4     1         0   \n",
      "51         0         0         1         0     0     6     0         0   \n",
      "52         1         1         1         0     0     4     1         0   \n",
      "53         0         0         0         0     0     8     0         0   \n",
      "54         1         1         1         0     0     4     1         0   \n",
      "55         1         1         1         0     0     4     1         0   \n",
      "56         0         1         1         0     0     2     1         0   \n",
      "57         0         1         1         0     0     2     1         1   \n",
      "58         0         1         1         0     0     2     1         0   \n",
      "59         0         1         1         0     0     2     1         0   \n",
      "60         1         1         0         0     1     0     1         0   \n",
      "61         1         1         0         0     1     0     1         0   \n",
      "62         1         1         1         1     0     0     1         0   \n",
      "63         0         1         1         0     0     4     1         0   \n",
      "64         1         1         1         0     0     4     1         0   \n",
      "65         1         1         1         0     0     4     1         1   \n",
      "66         1         1         1         0     1     0     1         0   \n",
      "67         1         1         1         0     0     4     1         0   \n",
      "68         1         1         1         0     0     4     1         1   \n",
      "69         1         1         1         0     0     4     1         0   \n",
      "70         1         1         1         0     0     4     1         1   \n",
      "71         0         1         1         0     0     2     1         0   \n",
      "72         0         0         1         1     0     8     1         0   \n",
      "73         1         1         0         0     1     0     1         0   \n",
      "74         1         1         1         0     1     0     0         0   \n",
      "75         1         1         1         0     1     2     1         0   \n",
      "76         1         1         0         1     0     0     1         0   \n",
      "77         0         0         0         1     0     0     0         0   \n",
      "78         0         1         1         0     0     2     1         0   \n",
      "79         0         1         1         0     0     2     1         0   \n",
      "80         1         1         1         0     0     0     1         0   \n",
      "81         0         0         1         0     0     0     0         0   \n",
      "82         1         1         0         0     1     0     1         0   \n",
      "83         0         1         1         0     0     2     1         0   \n",
      "84         1         1         1         0     0     2     1         0   \n",
      "85         0         0         0         0     0     5     0         0   \n",
      "86         1         1         0         1     1     0     1         0   \n",
      "87         0         1         1         0     0     2     1         0   \n",
      "88         0         0         1         0     0     6     0         0   \n",
      "89         1         1         1         0     0     4     0         0   \n",
      "90         0         1         1         0     0     4     1         0   \n",
      "91         1         1         1         0     0     4     1         0   \n",
      "92         1         1         0         0     1     0     1         0   \n",
      "93         1         1         1         0     0     2     1         0   \n",
      "94         1         1         1         0     0     4     1         0   \n",
      "95         0         1         1         0     0     2     1         0   \n",
      "96         1         1         1         0     0     2     1         0   \n",
      "97         0         0         1         1     0     6     0         0   \n",
      "98         1         1         1         0     0     4     1         0   \n",
      "99         0         0         1         0     0     0     0         0   \n",
      "100        0         1         1         0     0     2     1         0   \n",
      "\n",
      "     catsize  class_type  \n",
      "0          1           1  \n",
      "1          1           1  \n",
      "2          0           4  \n",
      "3          1           1  \n",
      "4          1           1  \n",
      "5          1           1  \n",
      "6          1           1  \n",
      "7          0           4  \n",
      "8          0           4  \n",
      "9          0           1  \n",
      "10         1           1  \n",
      "11         0           2  \n",
      "12         0           4  \n",
      "13         0           7  \n",
      "14         0           7  \n",
      "15         0           7  \n",
      "16         0           2  \n",
      "17         1           1  \n",
      "18         1           4  \n",
      "19         1           1  \n",
      "20         0           2  \n",
      "21         0           2  \n",
      "22         1           1  \n",
      "23         1           2  \n",
      "24         0           6  \n",
      "25         0           5  \n",
      "26         0           5  \n",
      "27         0           1  \n",
      "28         1           1  \n",
      "29         1           1  \n",
      "30         0           6  \n",
      "31         1           1  \n",
      "32         1           1  \n",
      "33         0           2  \n",
      "34         0           4  \n",
      "35         0           1  \n",
      "36         0           1  \n",
      "37         0           2  \n",
      "38         0           4  \n",
      "39         0           6  \n",
      "40         0           6  \n",
      "41         0           2  \n",
      "42         0           6  \n",
      "43         0           2  \n",
      "44         1           1  \n",
      "45         1           1  \n",
      "46         0           7  \n",
      "47         1           1  \n",
      "48         1           1  \n",
      "49         0           1  \n",
      "50         1           1  \n",
      "51         0           6  \n",
      "52         0           5  \n",
      "53         1           7  \n",
      "54         0           1  \n",
      "55         1           1  \n",
      "56         1           2  \n",
      "57         0           2  \n",
      "58         1           2  \n",
      "59         0           2  \n",
      "60         1           4  \n",
      "61         0           4  \n",
      "62         0           3  \n",
      "63         1           1  \n",
      "64         1           1  \n",
      "65         1           1  \n",
      "66         1           1  \n",
      "67         1           1  \n",
      "68         1           1  \n",
      "69         1           1  \n",
      "70         1           1  \n",
      "71         1           2  \n",
      "72         0           7  \n",
      "73         0           4  \n",
      "74         1           1  \n",
      "75         1           1  \n",
      "76         0           3  \n",
      "77         0           7  \n",
      "78         0           2  \n",
      "79         0           2  \n",
      "80         0           3  \n",
      "81         0           7  \n",
      "82         0           4  \n",
      "83         0           2  \n",
      "84         0           1  \n",
      "85         0           7  \n",
      "86         1           4  \n",
      "87         1           2  \n",
      "88         0           6  \n",
      "89         0           5  \n",
      "90         1           3  \n",
      "91         0           3  \n",
      "92         1           4  \n",
      "93         0           1  \n",
      "94         0           1  \n",
      "95         1           2  \n",
      "96         1           1  \n",
      "97         0           6  \n",
      "98         1           1  \n",
      "99         0           7  \n",
      "100        0           2  \n"
     ]
    }
   ],
   "source": [
    "print(animal_data.data) #Snapshot of Input Data"
   ]
  },
  {
   "cell_type": "code",
   "execution_count": 33,
   "metadata": {},
   "outputs": [],
   "source": [
    "X = animal_data.data.drop(['class_type'], axis=1) # Dropping the Class_type column"
   ]
  },
  {
   "cell_type": "code",
   "execution_count": 34,
   "metadata": {},
   "outputs": [],
   "source": [
    "Y = animal_data.data['class_type'] # Target Column for Animal Class "
   ]
  },
  {
   "cell_type": "code",
   "execution_count": 35,
   "metadata": {},
   "outputs": [],
   "source": [
    "# animal_data.create_pair_plot() # Creating a PairWise ScatterPlot for the Different Animal Features {Commented Out as it Takes more time to Plot that much graphs}"
   ]
  },
  {
   "cell_type": "code",
   "execution_count": 36,
   "metadata": {},
   "outputs": [],
   "source": [
    "# Using AffinityPropagation to Cluster the Data Points"
   ]
  },
  {
   "cell_type": "code",
   "execution_count": 37,
   "metadata": {},
   "outputs": [],
   "source": [
    "#Segregating only Numeric Data for Analysis\n",
    "X_numeric = X.drop(['animal_name'], axis=1)"
   ]
  },
  {
   "cell_type": "code",
   "execution_count": 38,
   "metadata": {},
   "outputs": [],
   "source": [
    "#Creating Affinity Object; the damping factor can be between [0.5, 1), preference for exemplars is set None, no preference to any point.\n",
    "af = AffinityPropagation(damping = 0.7, preference = None)"
   ]
  },
  {
   "cell_type": "code",
   "execution_count": 39,
   "metadata": {},
   "outputs": [
    {
     "data": {
      "text/html": [
       "<style>#sk-container-id-2 {color: black;}#sk-container-id-2 pre{padding: 0;}#sk-container-id-2 div.sk-toggleable {background-color: white;}#sk-container-id-2 label.sk-toggleable__label {cursor: pointer;display: block;width: 100%;margin-bottom: 0;padding: 0.3em;box-sizing: border-box;text-align: center;}#sk-container-id-2 label.sk-toggleable__label-arrow:before {content: \"▸\";float: left;margin-right: 0.25em;color: #696969;}#sk-container-id-2 label.sk-toggleable__label-arrow:hover:before {color: black;}#sk-container-id-2 div.sk-estimator:hover label.sk-toggleable__label-arrow:before {color: black;}#sk-container-id-2 div.sk-toggleable__content {max-height: 0;max-width: 0;overflow: hidden;text-align: left;background-color: #f0f8ff;}#sk-container-id-2 div.sk-toggleable__content pre {margin: 0.2em;color: black;border-radius: 0.25em;background-color: #f0f8ff;}#sk-container-id-2 input.sk-toggleable__control:checked~div.sk-toggleable__content {max-height: 200px;max-width: 100%;overflow: auto;}#sk-container-id-2 input.sk-toggleable__control:checked~label.sk-toggleable__label-arrow:before {content: \"▾\";}#sk-container-id-2 div.sk-estimator input.sk-toggleable__control:checked~label.sk-toggleable__label {background-color: #d4ebff;}#sk-container-id-2 div.sk-label input.sk-toggleable__control:checked~label.sk-toggleable__label {background-color: #d4ebff;}#sk-container-id-2 input.sk-hidden--visually {border: 0;clip: rect(1px 1px 1px 1px);clip: rect(1px, 1px, 1px, 1px);height: 1px;margin: -1px;overflow: hidden;padding: 0;position: absolute;width: 1px;}#sk-container-id-2 div.sk-estimator {font-family: monospace;background-color: #f0f8ff;border: 1px dotted black;border-radius: 0.25em;box-sizing: border-box;margin-bottom: 0.5em;}#sk-container-id-2 div.sk-estimator:hover {background-color: #d4ebff;}#sk-container-id-2 div.sk-parallel-item::after {content: \"\";width: 100%;border-bottom: 1px solid gray;flex-grow: 1;}#sk-container-id-2 div.sk-label:hover label.sk-toggleable__label {background-color: #d4ebff;}#sk-container-id-2 div.sk-serial::before {content: \"\";position: absolute;border-left: 1px solid gray;box-sizing: border-box;top: 0;bottom: 0;left: 50%;z-index: 0;}#sk-container-id-2 div.sk-serial {display: flex;flex-direction: column;align-items: center;background-color: white;padding-right: 0.2em;padding-left: 0.2em;position: relative;}#sk-container-id-2 div.sk-item {position: relative;z-index: 1;}#sk-container-id-2 div.sk-parallel {display: flex;align-items: stretch;justify-content: center;background-color: white;position: relative;}#sk-container-id-2 div.sk-item::before, #sk-container-id-2 div.sk-parallel-item::before {content: \"\";position: absolute;border-left: 1px solid gray;box-sizing: border-box;top: 0;bottom: 0;left: 50%;z-index: -1;}#sk-container-id-2 div.sk-parallel-item {display: flex;flex-direction: column;z-index: 1;position: relative;background-color: white;}#sk-container-id-2 div.sk-parallel-item:first-child::after {align-self: flex-end;width: 50%;}#sk-container-id-2 div.sk-parallel-item:last-child::after {align-self: flex-start;width: 50%;}#sk-container-id-2 div.sk-parallel-item:only-child::after {width: 0;}#sk-container-id-2 div.sk-dashed-wrapped {border: 1px dashed gray;margin: 0 0.4em 0.5em 0.4em;box-sizing: border-box;padding-bottom: 0.4em;background-color: white;}#sk-container-id-2 div.sk-label label {font-family: monospace;font-weight: bold;display: inline-block;line-height: 1.2em;}#sk-container-id-2 div.sk-label-container {text-align: center;}#sk-container-id-2 div.sk-container {/* jupyter's `normalize.less` sets `[hidden] { display: none; }` but bootstrap.min.css set `[hidden] { display: none !important; }` so we also need the `!important` here to be able to override the default hidden behavior on the sphinx rendered scikit-learn.org. See: https://github.com/scikit-learn/scikit-learn/issues/21755 */display: inline-block !important;position: relative;}#sk-container-id-2 div.sk-text-repr-fallback {display: none;}</style><div id=\"sk-container-id-2\" class=\"sk-top-container\"><div class=\"sk-text-repr-fallback\"><pre>AffinityPropagation(damping=0.7)</pre><b>In a Jupyter environment, please rerun this cell to show the HTML representation or trust the notebook. <br />On GitHub, the HTML representation is unable to render, please try loading this page with nbviewer.org.</b></div><div class=\"sk-container\" hidden><div class=\"sk-item\"><div class=\"sk-estimator sk-toggleable\"><input class=\"sk-toggleable__control sk-hidden--visually\" id=\"sk-estimator-id-2\" type=\"checkbox\" checked><label for=\"sk-estimator-id-2\" class=\"sk-toggleable__label sk-toggleable__label-arrow\">AffinityPropagation</label><div class=\"sk-toggleable__content\"><pre>AffinityPropagation(damping=0.7)</pre></div></div></div></div></div>"
      ],
      "text/plain": [
       "AffinityPropagation(damping=0.7)"
      ]
     },
     "execution_count": 39,
     "metadata": {},
     "output_type": "execute_result"
    }
   ],
   "source": [
    "# Fitting of the Affinity Propagation algorithm\n",
    "af.fit(X_numeric)"
   ]
  },
  {
   "cell_type": "code",
   "execution_count": 40,
   "metadata": {},
   "outputs": [],
   "source": [
    "#Get the Cluster Centers\n",
    "cluster_centers = af.cluster_centers_"
   ]
  },
  {
   "cell_type": "code",
   "execution_count": 41,
   "metadata": {},
   "outputs": [],
   "source": [
    "#Get labels for each data point\n",
    "labels = af.labels_"
   ]
  },
  {
   "cell_type": "code",
   "execution_count": 42,
   "metadata": {},
   "outputs": [
    {
     "name": "stdout",
     "output_type": "stream",
     "text": [
      "8\n"
     ]
    }
   ],
   "source": [
    "# Number of Clusters\n",
    "n_clusters = len(cluster_centers)\n",
    "print(n_clusters)"
   ]
  },
  {
   "cell_type": "code",
   "execution_count": 43,
   "metadata": {},
   "outputs": [],
   "source": [
    "# plotting the clusters"
   ]
  },
  {
   "cell_type": "code",
   "execution_count": 44,
   "metadata": {},
   "outputs": [],
   "source": [
    "colors = ['r', 'g', 'b', 'c', 'm', 'y', 'k']"
   ]
  },
  {
   "cell_type": "code",
   "execution_count": 45,
   "metadata": {},
   "outputs": [
    {
     "data": {
      "image/png": "[encoded data removed]",
      "text/plain": [
       "<Figure size 640x480 with 1 Axes>"
      ]
     },
     "metadata": {},
     "output_type": "display_data"
    }
   ],
   "source": [
    "for i in range(n_clusters):\n",
    "    plt.scatter(X_numeric.values[labels == i, 0], X_numeric.values[labels == i, 1], c=colors[i % len(colors)], alpha=0.70, label='Cluster {}'.format(i))\n",
    "\n",
    "plt.scatter(cluster_centers[:, 0], cluster_centers[:, 1], s=1, color='blue', label='Cluster centers')\n",
    "plt.title('Affinity Propagation Clustering')\n",
    "plt.legend()\n",
    "plt.show()"
   ]
  },
  {
   "cell_type": "code",
   "execution_count": 46,
   "metadata": {},
   "outputs": [
    {
     "name": "stdout",
     "output_type": "stream",
     "text": [
      "Cluster 0: 15 data points\n",
      "Cluster 1: 17 data points\n",
      "Cluster 2: 4 data points\n",
      "Cluster 3: 13 data points\n",
      "Cluster 4: 6 data points\n",
      "Cluster 5: 20 data points\n",
      "Cluster 6: 19 data points\n",
      "Cluster 7: 7 data points\n"
     ]
    }
   ],
   "source": [
    "#Labelling the Clusters\n",
    "unique_labels = np.unique(labels)\n",
    "for label in unique_labels:\n",
    "    cluster_size = np.sum(labels == label)\n",
    "    print(f\"Cluster {label}: {cluster_size} data points\")"
   ]
  },
  {
   "cell_type": "code",
   "execution_count": 47,
   "metadata": {},
   "outputs": [
    {
     "name": "stdout",
     "output_type": "stream",
     "text": [
      "    animal_name  class_type  cluster_label\n",
      "0      aardvark           1              1\n",
      "1      antelope           1              0\n",
      "2          bass           4              6\n",
      "3          bear           1              1\n",
      "4          boar           1              1\n",
      "5       buffalo           1              0\n",
      "6          calf           1              0\n",
      "7          carp           4              6\n",
      "8       catfish           4              6\n",
      "9          cavy           1              0\n",
      "10      cheetah           1              1\n",
      "11      chicken           2              5\n",
      "12         chub           4              6\n",
      "13         clam           7              2\n",
      "14         crab           7              4\n",
      "15     crayfish           7              3\n",
      "16         crow           2              5\n",
      "17         deer           1              0\n",
      "18      dogfish           4              6\n",
      "19      dolphin           1              6\n",
      "20         dove           2              5\n",
      "21         duck           2              5\n",
      "22     elephant           1              0\n",
      "23     flamingo           2              5\n",
      "24         flea           6              3\n",
      "25         frog           5              4\n",
      "26         frog           5              4\n",
      "27     fruitbat           1              7\n",
      "28      giraffe           1              0\n",
      "29         girl           1              7\n",
      "30         gnat           6              3\n",
      "31         goat           1              0\n",
      "32      gorilla           1              7\n",
      "33         gull           2              5\n",
      "34      haddock           4              6\n",
      "35      hamster           1              0\n",
      "36         hare           1              0\n",
      "37         hawk           2              5\n",
      "38      herring           4              6\n",
      "39     honeybee           6              3\n",
      "40     housefly           6              3\n",
      "41         kiwi           2              5\n",
      "42     ladybird           6              3\n",
      "43         lark           2              5\n",
      "44      leopard           1              1\n",
      "45         lion           1              1\n",
      "46      lobster           7              3\n",
      "47         lynx           1              1\n",
      "48         mink           1              1\n",
      "49         mole           1              1\n",
      "50     mongoose           1              1\n",
      "51         moth           6              3\n",
      "52         newt           5              4\n",
      "53      octopus           7              3\n",
      "54      opossum           1              1\n",
      "55         oryx           1              0\n",
      "56      ostrich           2              5\n",
      "57     parakeet           2              5\n",
      "58      penguin           2              5\n",
      "59     pheasant           2              5\n",
      "60         pike           4              6\n",
      "61      piranha           4              6\n",
      "62     pitviper           3              6\n",
      "63     platypus           1              1\n",
      "64      polecat           1              1\n",
      "65         pony           1              0\n",
      "66     porpoise           1              6\n",
      "67         puma           1              1\n",
      "68     pussycat           1              1\n",
      "69      raccoon           1              1\n",
      "70     reindeer           1              0\n",
      "71         rhea           2              5\n",
      "72     scorpion           7              3\n",
      "73     seahorse           4              6\n",
      "74         seal           1              6\n",
      "75      sealion           1              7\n",
      "76     seasnake           3              6\n",
      "77      seawasp           7              2\n",
      "78      skimmer           2              5\n",
      "79         skua           2              5\n",
      "80     slowworm           3              6\n",
      "81         slug           7              2\n",
      "82         sole           4              6\n",
      "83      sparrow           2              5\n",
      "84     squirrel           1              7\n",
      "85     starfish           7              3\n",
      "86     stingray           4              6\n",
      "87         swan           2              5\n",
      "88      termite           6              3\n",
      "89         toad           5              4\n",
      "90     tortoise           3              0\n",
      "91      tuatara           3              4\n",
      "92         tuna           4              6\n",
      "93      vampire           1              7\n",
      "94         vole           1              0\n",
      "95      vulture           2              5\n",
      "96      wallaby           1              7\n",
      "97         wasp           6              3\n",
      "98         wolf           1              1\n",
      "99         worm           7              2\n",
      "100        wren           2              5\n"
     ]
    }
   ],
   "source": [
    "# Comparison of Group from Initial Actual Set to Cluster made by Affinity Propagation\n",
    "# The difference in actual set and the outputs is not part of the project yet, However I will compare the results of the two ML classifiers used, Affinity Propagation and K-Means.\n",
    "\n",
    "animal_info = animal_data.data[['animal_name', 'class_type']].copy()\n",
    "animal_info['cluster_label'] = labels\n",
    "pd.set_option('display.max_rows', None)\n",
    "print(animal_info)\n"
   ]
  },
  {
   "cell_type": "code",
   "execution_count": 48,
   "metadata": {},
   "outputs": [
    {
     "name": "stdout",
     "output_type": "stream",
     "text": [
      "Silhouette Score Affinity Propagation: 0.4080231117612951\n"
     ]
    }
   ],
   "source": [
    "# Calculating Silhoutte Score For the Affinity Proparation Algorithm\n",
    "silhouette_AFP = silhouette_score(X_numeric, labels)\n",
    "print(f\"Silhouette Score Affinity Propagation: {silhouette_AFP}\")"
   ]
  }
 ],
 "metadata": {
  "kernelspec": {
   "display_name": "base",
   "language": "python",
   "name": "python3"
  },
  "language_info": {
   "codemirror_mode": {
    "name": "ipython",
    "version": 3
   },
   "file_extension": ".py",
   "mimetype": "text/x-python",
   "name": "python",
   "nbconvert_exporter": "python",
   "pygments_lexer": "ipython3",
   "version": "3.11.4"
  }
 },
 "nbformat": 4,
 "nbformat_minor": 2
}
