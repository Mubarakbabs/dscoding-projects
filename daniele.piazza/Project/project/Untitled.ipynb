{
 "cells": [
  {
   "cell_type": "code",
   "execution_count": 65,
   "id": "2fcac664",
   "metadata": {},
   "outputs": [],
   "source": [
    "from location import Location\n",
    "import pandas as pd\n",
    "from visualize import Visualize\n",
    "# install nbformat\n",
    "import plotly.express as px\n",
    "api_key = pd.read_csv(\"/Users/dani/Desktop/api_key.txt\",header=None)[0][0]\n",
    "major_path = \"Data/GlobalLandTemperaturesByMajorCity.csv\"\n",
    "all_path = \"Data/GlobalLandTemperaturesByCity.csv\"\n",
    "major = Location(major_path,api_key)\n",
    "all = Location(all_path,api_key)\n",
    "update_major = False\n",
    "if update_major:\n",
    "    major.update_file()\n",
    "update_all = False\n",
    "if update_all:\n",
    "    all.update_file()"
   ]
  },
  {
   "cell_type": "markdown",
   "id": "99d44c34",
   "metadata": {},
   "source": [
    "Google api can't find: Bally, Nigel, Sakura"
   ]
  },
  {
   "cell_type": "code",
   "execution_count": null,
   "id": "0caffc66",
   "metadata": {},
   "outputs": [],
   "source": [
    "# To do\n",
    "# Statistics for each city (mean, median, mode, std, var, min, max) for each year (v)\n",
    "# Scatter plot for each city (x = year, y = temperature) (v)\n",
    "# Map with temperature range by year (v)\n",
    "# Predict temperature (v)\n",
    "# General statistics for each country (mean, median, mode, std, var, min, max) for each year (TODO)\n",
    "# General scatter plot for each country (x = year, y = temperature) (TODO)\n",
    "# General map with temperature range by year (v)"
   ]
  },
  {
   "cell_type": "code",
   "execution_count": null,
   "id": "33d5a8cf",
   "metadata": {},
   "outputs": [],
   "source": []
  }
 ],
 "metadata": {
  "kernelspec": {
   "display_name": "Python 3 (ipykernel)",
   "language": "python",
   "name": "python3"
  },
  "language_info": {
   "codemirror_mode": {
    "name": "ipython",
    "version": 3
   },
   "file_extension": ".py",
   "mimetype": "text/x-python",
   "name": "python",
   "nbconvert_exporter": "python",
   "pygments_lexer": "ipython3",
   "version": "3.12.0"
  }
 },
 "nbformat": 4,
 "nbformat_minor": 5
}
