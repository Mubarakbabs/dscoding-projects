{
 "cells": [
  {
   "cell_type": "code",
   "execution_count": 1,
   "id": "a39b8f31",
   "metadata": {},
   "outputs": [],
   "source": [
    "import pandas as pd\n",
    "import matplotlib.pyplot as plt"
   ]
  },
  {
   "cell_type": "code",
   "execution_count": 2,
   "id": "21a82eb3",
   "metadata": {
    "tags": []
   },
   "outputs": [
    {
     "ename": "NameError",
     "evalue": "name 'AvailabilityBasedAllocator' is not defined",
     "output_type": "error",
     "traceback": [
      "\u001b[1;31m---------------------------------------------------------------------------\u001b[0m",
      "\u001b[1;31mNameError\u001b[0m                                 Traceback (most recent call last)",
      "Cell \u001b[1;32mIn[2], line 1\u001b[0m\n\u001b[1;32m----> 1\u001b[0m availability_based_allocator \u001b[38;5;241m=\u001b[39m AvailabilityBasedAllocator(hotels_df, guests_df, preferences_df)\n\u001b[0;32m      3\u001b[0m \u001b[38;5;66;03m# Call the allocate_and_calculate method to get the allocation result\u001b[39;00m\n\u001b[0;32m      4\u001b[0m allocation_result \u001b[38;5;241m=\u001b[39m availability_based_allocator\u001b[38;5;241m.\u001b[39mallocate_and_calculate()\n",
      "\u001b[1;31mNameError\u001b[0m: name 'AvailabilityBasedAllocator' is not defined"
     ]
    }
   ],
   "source": [
    "def Visualization(allocation):\n",
    "   "
   ]
  },
  {
   "cell_type": "code",
   "execution_count": null,
   "id": "f094cb19-475a-41b0-9aed-a2357c8b6fc0",
   "metadata": {},
   "outputs": [],
   "source": []
  }
 ],
 "metadata": {
  "kernelspec": {
   "display_name": "Python 3 (ipykernel)",
   "language": "python",
   "name": "python3"
  },
  "language_info": {
   "codemirror_mode": {
    "name": "ipython",
    "version": 3
   },
   "file_extension": ".py",
   "mimetype": "text/x-python",
   "name": "python",
   "nbconvert_exporter": "python",
   "pygments_lexer": "ipython3",
   "version": "3.11.4"
  }
 },
 "nbformat": 4,
 "nbformat_minor": 5
}
