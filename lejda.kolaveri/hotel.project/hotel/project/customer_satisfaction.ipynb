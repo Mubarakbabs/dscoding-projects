{
 "cells": [
  {
   "cell_type": "code",
   "execution_count": 3,
   "id": "96b71005-c9e6-49bb-93d5-465afbb9d712",
   "metadata": {},
   "outputs": [],
   "source": [
    "import pandas as pd\n",
    "import numpy as np"
   ]
  },
  {
   "cell_type": "code",
   "execution_count": 9,
   "id": "cce58ccb-c022-46ea-81af-0dc93aac7897",
   "metadata": {
    "tags": []
   },
   "outputs": [],
   "source": [
    "class Satisfaction:\n",
    "    def calculate_satisfaction_percentage(preferences, guest_id, hotel_id):\n",
    "        guest_preferences = preferences[preferences['guest'] == guest_id].reset_index() #filter preferences for the given guest\n",
    "        if guest_preferences.empty:\n",
    "            return 100  # No preferences, 100% satisfaction\n",
    "\n",
    "        index_of_preference = (guest_preferences['hotel'] == hotel_id).idxmax() # Find the index of the allocated hotel in the guest's preferences\n",
    "        satisfaction = round(((len(guest_preferences) - index_of_preference) / len(guest_preferences)) * 100)\n",
    "        return satisfaction if satisfaction >= 0 else 0\n",
    "    "
   ]
  },
  {
   "cell_type": "code",
   "execution_count": null,
   "id": "96ca7948-54cd-4e4f-8959-68a2d3f25a3a",
   "metadata": {},
   "outputs": [],
   "source": []
  }
 ],
 "metadata": {
  "kernelspec": {
   "display_name": "Python 3 (ipykernel)",
   "language": "python",
   "name": "python3"
  },
  "language_info": {
   "codemirror_mode": {
    "name": "ipython",
    "version": 3
   },
   "file_extension": ".py",
   "mimetype": "text/x-python",
   "name": "python",
   "nbconvert_exporter": "python",
   "pygments_lexer": "ipython3",
   "version": "3.11.4"
  }
 },
 "nbformat": 4,
 "nbformat_minor": 5
}
