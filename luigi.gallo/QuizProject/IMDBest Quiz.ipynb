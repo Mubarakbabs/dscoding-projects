{
 "cells": [
  {
   "cell_type": "code",
   "execution_count": 1,
   "metadata": {},
   "outputs": [],
   "source": [
    "# Import dataset in Pandas\n",
    "import random\n",
    "import pandas as pd\n"
   ]
  },
  {
   "cell_type": "code",
   "execution_count": 2,
   "metadata": {},
   "outputs": [],
   "source": [
    "# Read the IMDB .CSV dataset file\n",
    "df = pd.read_csv(r'C:/Users/Asus/Desktop/QuizProject/imdb_top_1000.csv')"
   ]
  },
  {
   "cell_type": "code",
   "execution_count": 3,
   "metadata": {},
   "outputs": [
    {
     "name": "stdout",
     "output_type": "stream",
     "text": [
      "                                           Poster_Link  \\\n",
      "0    https://m.media-amazon.com/images/M/MV5BMDFkYT...   \n",
      "1    https://m.media-amazon.com/images/M/MV5BM2MyNj...   \n",
      "2    https://m.media-amazon.com/images/M/MV5BMTMxNT...   \n",
      "3    https://m.media-amazon.com/images/M/MV5BMWMwMG...   \n",
      "4    https://m.media-amazon.com/images/M/MV5BMWU4N2...   \n",
      "..                                                 ...   \n",
      "995  https://m.media-amazon.com/images/M/MV5BNGEwMT...   \n",
      "996  https://m.media-amazon.com/images/M/MV5BODk3Yj...   \n",
      "997  https://m.media-amazon.com/images/M/MV5BM2U3Yz...   \n",
      "998  https://m.media-amazon.com/images/M/MV5BZTBmMj...   \n",
      "999  https://m.media-amazon.com/images/M/MV5BMTY5OD...   \n",
      "\n",
      "                 Series_Title Released_Year Certificate  Runtime  \\\n",
      "0    The Shawshank Redemption          1994           A  142 min   \n",
      "1               The Godfather          1972           A  175 min   \n",
      "2             The Dark Knight          2008          UA  152 min   \n",
      "3      The Godfather: Part II          1974           A  202 min   \n",
      "4                12 Angry Men          1957           U   96 min   \n",
      "..                        ...           ...         ...      ...   \n",
      "995    Breakfast at Tiffany's          1961           A  115 min   \n",
      "996                     Giant          1956           G  201 min   \n",
      "997     From Here to Eternity          1953      Passed  118 min   \n",
      "998                  Lifeboat          1944         NaN   97 min   \n",
      "999              The 39 Steps          1935         NaN   86 min   \n",
      "\n",
      "                        Genre  IMDB_Rating  \\\n",
      "0                       Drama          9.3   \n",
      "1                Crime, Drama          9.2   \n",
      "2        Action, Crime, Drama          9.0   \n",
      "3                Crime, Drama          9.0   \n",
      "4                Crime, Drama          9.0   \n",
      "..                        ...          ...   \n",
      "995    Comedy, Drama, Romance          7.6   \n",
      "996            Drama, Western          7.6   \n",
      "997       Drama, Romance, War          7.6   \n",
      "998                Drama, War          7.6   \n",
      "999  Crime, Mystery, Thriller          7.6   \n",
      "\n",
      "                                              Overview  Meta_score  \\\n",
      "0    Two imprisoned men bond over a number of years...        80.0   \n",
      "1    An organized crime dynasty's aging patriarch t...       100.0   \n",
      "2    When the menace known as the Joker wreaks havo...        84.0   \n",
      "3    The early life and career of Vito Corleone in ...        90.0   \n",
      "4    A jury holdout attempts to prevent a miscarria...        96.0   \n",
      "..                                                 ...         ...   \n",
      "995  A young New York socialite becomes interested ...        76.0   \n",
      "996  Sprawling epic covering the life of a Texas ca...        84.0   \n",
      "997  In Hawaii in 1941, a private is cruelly punish...        85.0   \n",
      "998  Several survivors of a torpedoed merchant ship...        78.0   \n",
      "999  A man in London tries to help a counter-espion...        93.0   \n",
      "\n",
      "                 Director              Star1              Star2  \\\n",
      "0          Frank Darabont        Tim Robbins     Morgan Freeman   \n",
      "1    Francis Ford Coppola      Marlon Brando          Al Pacino   \n",
      "2       Christopher Nolan     Christian Bale       Heath Ledger   \n",
      "3    Francis Ford Coppola          Al Pacino     Robert De Niro   \n",
      "4            Sidney Lumet        Henry Fonda        Lee J. Cobb   \n",
      "..                    ...                ...                ...   \n",
      "995         Blake Edwards     Audrey Hepburn     George Peppard   \n",
      "996        George Stevens   Elizabeth Taylor        Rock Hudson   \n",
      "997        Fred Zinnemann     Burt Lancaster   Montgomery Clift   \n",
      "998      Alfred Hitchcock  Tallulah Bankhead        John Hodiak   \n",
      "999      Alfred Hitchcock       Robert Donat  Madeleine Carroll   \n",
      "\n",
      "              Star3           Star4  No_of_Votes        Gross  \n",
      "0        Bob Gunton  William Sadler      2343110   28,341,469  \n",
      "1        James Caan    Diane Keaton      1620367  134,966,411  \n",
      "2     Aaron Eckhart   Michael Caine      2303232  534,858,444  \n",
      "3     Robert Duvall    Diane Keaton      1129952   57,300,000  \n",
      "4     Martin Balsam    John Fiedler       689845    4,360,000  \n",
      "..              ...             ...          ...          ...  \n",
      "995   Patricia Neal     Buddy Ebsen       166544          NaN  \n",
      "996      James Dean   Carroll Baker        34075          NaN  \n",
      "997    Deborah Kerr      Donna Reed        43374   30,500,000  \n",
      "998   Walter Slezak  William Bendix        26471          NaN  \n",
      "999  Lucie Mannheim  Godfrey Tearle        51853          NaN  \n",
      "\n",
      "[1000 rows x 16 columns]\n"
     ]
    }
   ],
   "source": [
    "# check if it is imported correctly\n",
    "print(df)"
   ]
  },
  {
   "cell_type": "code",
   "execution_count": 88,
   "metadata": {},
   "outputs": [],
   "source": [
    "def create_quiz(df):\n",
    " random_row = df.sample(1)\n",
    "\n",
    " actor = random_row['Star1'].values[0]\n",
    " director = random_row['Director'].values[0]\n",
    " genre = random_row['Genre'].values[0].split(',')[0]  # Split the genres and select the first one\n",
    " year = random_row['Released_Year'].values[0]\n",
    " film = random_row['Series_Title'].values[0]\n",
    "\n",
    " question = f\"What is the {genre} film directed by {director} starring {actor} in {year}?\"\n",
    "\n",
    " choices = [film]\n",
    " while len(choices) < 4:\n",
    "     random_film = df['Series_Title'].sample(1).values[0]\n",
    "     if random_film not in choices:\n",
    "         choices.append(random_film)\n",
    "\n",
    " random.shuffle(choices)\n",
    "\n",
    " return question, choices, film"
   ]
  },
  {
   "cell_type": "code",
   "execution_count": 89,
   "metadata": {},
   "outputs": [],
   "source": [
    "# Play the Quiz\n",
    "import time\n",
    "\n",
    "def play_quiz(df):\n",
    " score = 0\n",
    " num_questions = 5\n",
    " for i in range(num_questions):\n",
    "  question, choices, correct_answer = create_quiz(df)\n",
    "  print(question)\n",
    "  for j, choice in enumerate(choices, start=1):\n",
    "      print(f\"{j}. {choice}\")\n",
    "  time.sleep(1) # Add a small delay\n",
    "  answer = int(input(\"Enter the number of your answer: \"))\n",
    "  if choices[answer - 1] == correct_answer:\n",
    "      print(\"Correct!\")\n",
    "      score += 1\n",
    "  else:\n",
    "      print(\"Incorrect. The correct answer was\", correct_answer)\n",
    "  if i < num_questions - 2: # If it's not the last question\n",
    "      print(f\"Your current score is {score}\")\n",
    " print(f\"Your final score is {score}\")"
   ]
  },
  {
   "cell_type": "code",
   "execution_count": null,
   "metadata": {},
   "outputs": [],
   "source": [
    "print(df.columns)\n"
   ]
  },
  {
   "cell_type": "code",
   "execution_count": null,
   "metadata": {},
   "outputs": [],
   "source": [
    "play_quiz(df)"
   ]
  }
 ],
 "metadata": {
  "kernelspec": {
   "display_name": "Pythonproject",
   "language": "python",
   "name": "python3"
  },
  "language_info": {
   "codemirror_mode": {
    "name": "ipython",
    "version": 3
   },
   "file_extension": ".py",
   "mimetype": "text/x-python",
   "name": "python",
   "nbconvert_exporter": "python",
   "pygments_lexer": "ipython3",
   "version": "3.11.5"
  }
 },
 "nbformat": 4,
 "nbformat_minor": 2
}
