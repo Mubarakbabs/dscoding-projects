{
 "cells": [
  {
   "cell_type": "code",
   "execution_count": 51,
   "id": "initial_id",
   "metadata": {
    "collapsed": true,
    "ExecuteTime": {
     "end_time": "2023-11-10T00:05:36.144844600Z",
     "start_time": "2023-11-10T00:05:36.077874400Z"
    }
   },
   "outputs": [],
   "source": [
    "import pandas as pd\n",
    "from scipy.stats import beta\n",
    "import matplotlib.pyplot as plt\n",
    "import numpy as np"
   ]
  },
  {
   "cell_type": "markdown",
   "source": [
    "## Sorting data\n",
    "- The goal is to sort the data which is necessary for calculating The Bayesian Average of ratings\n",
    "    - Prior mean\n",
    "    - Prior weight\n",
    "    - Average rating of each game\n",
    "    - Number of rating of each game"
   ],
   "metadata": {
    "collapsed": false
   },
   "id": "792bfac803a11b07"
  },
  {
   "cell_type": "code",
   "execution_count": 23,
   "outputs": [
    {
     "data": {
      "text/plain": "          game                                         title  rating\n0        25984  Trivial Pursuit: Genus IV – Canadian Edition     3.0\n1        25984  Trivial Pursuit: Genus IV – Canadian Edition     5.0\n2        25984  Trivial Pursuit: Genus IV – Canadian Edition     3.0\n3        25984  Trivial Pursuit: Genus IV – Canadian Edition     7.0\n4        25984  Trivial Pursuit: Genus IV – Canadian Edition     6.0\n...        ...                                           ...     ...\n1082162  11906                 Source of the Nile: Tributary     5.0\n1082163  11906                 Source of the Nile: Tributary     NaN\n1082164  11906                 Source of the Nile: Tributary     NaN\n1082165  11906                 Source of the Nile: Tributary     NaN\n1082166  11906                 Source of the Nile: Tributary     NaN\n\n[1082167 rows x 3 columns]",
      "text/html": "<div>\n<style scoped>\n    .dataframe tbody tr th:only-of-type {\n        vertical-align: middle;\n    }\n\n    .dataframe tbody tr th {\n        vertical-align: top;\n    }\n\n    .dataframe thead th {\n        text-align: right;\n    }\n</style>\n<table border=\"1\" class=\"dataframe\">\n  <thead>\n    <tr style=\"text-align: right;\">\n      <th></th>\n      <th>game</th>\n      <th>title</th>\n      <th>rating</th>\n    </tr>\n  </thead>\n  <tbody>\n    <tr>\n      <th>0</th>\n      <td>25984</td>\n      <td>Trivial Pursuit: Genus IV – Canadian Edition</td>\n      <td>3.0</td>\n    </tr>\n    <tr>\n      <th>1</th>\n      <td>25984</td>\n      <td>Trivial Pursuit: Genus IV – Canadian Edition</td>\n      <td>5.0</td>\n    </tr>\n    <tr>\n      <th>2</th>\n      <td>25984</td>\n      <td>Trivial Pursuit: Genus IV – Canadian Edition</td>\n      <td>3.0</td>\n    </tr>\n    <tr>\n      <th>3</th>\n      <td>25984</td>\n      <td>Trivial Pursuit: Genus IV – Canadian Edition</td>\n      <td>7.0</td>\n    </tr>\n    <tr>\n      <th>4</th>\n      <td>25984</td>\n      <td>Trivial Pursuit: Genus IV – Canadian Edition</td>\n      <td>6.0</td>\n    </tr>\n    <tr>\n      <th>...</th>\n      <td>...</td>\n      <td>...</td>\n      <td>...</td>\n    </tr>\n    <tr>\n      <th>1082162</th>\n      <td>11906</td>\n      <td>Source of the Nile: Tributary</td>\n      <td>5.0</td>\n    </tr>\n    <tr>\n      <th>1082163</th>\n      <td>11906</td>\n      <td>Source of the Nile: Tributary</td>\n      <td>NaN</td>\n    </tr>\n    <tr>\n      <th>1082164</th>\n      <td>11906</td>\n      <td>Source of the Nile: Tributary</td>\n      <td>NaN</td>\n    </tr>\n    <tr>\n      <th>1082165</th>\n      <td>11906</td>\n      <td>Source of the Nile: Tributary</td>\n      <td>NaN</td>\n    </tr>\n    <tr>\n      <th>1082166</th>\n      <td>11906</td>\n      <td>Source of the Nile: Tributary</td>\n      <td>NaN</td>\n    </tr>\n  </tbody>\n</table>\n<p>1082167 rows × 3 columns</p>\n</div>"
     },
     "execution_count": 23,
     "metadata": {},
     "output_type": "execute_result"
    }
   ],
   "source": [
    "df = pd.read_csv('bgg.csv')\n",
    "df"
   ],
   "metadata": {
    "collapsed": false,
    "ExecuteTime": {
     "end_time": "2023-11-09T23:31:08.961008300Z",
     "start_time": "2023-11-09T23:31:07.860526100Z"
    }
   },
   "id": "b4f86dd17c165228"
  },
  {
   "cell_type": "code",
   "execution_count": 24,
   "outputs": [
    {
     "data": {
      "text/plain": "         game                                         title  rating\n0       25984  Trivial Pursuit: Genus IV – Canadian Edition    3.00\n1       25984  Trivial Pursuit: Genus IV – Canadian Edition    5.00\n2       25984  Trivial Pursuit: Genus IV – Canadian Edition    3.00\n3       25984  Trivial Pursuit: Genus IV – Canadian Edition    7.00\n4       25984  Trivial Pursuit: Genus IV – Canadian Edition    6.00\n...       ...                                           ...     ...\n706808  11906                 Source of the Nile: Tributary    8.00\n706809  11906                 Source of the Nile: Tributary    8.00\n706810  11906                 Source of the Nile: Tributary    9.00\n706811  11906                 Source of the Nile: Tributary    7.25\n706812  11906                 Source of the Nile: Tributary    5.00\n\n[706813 rows x 3 columns]",
      "text/html": "<div>\n<style scoped>\n    .dataframe tbody tr th:only-of-type {\n        vertical-align: middle;\n    }\n\n    .dataframe tbody tr th {\n        vertical-align: top;\n    }\n\n    .dataframe thead th {\n        text-align: right;\n    }\n</style>\n<table border=\"1\" class=\"dataframe\">\n  <thead>\n    <tr style=\"text-align: right;\">\n      <th></th>\n      <th>game</th>\n      <th>title</th>\n      <th>rating</th>\n    </tr>\n  </thead>\n  <tbody>\n    <tr>\n      <th>0</th>\n      <td>25984</td>\n      <td>Trivial Pursuit: Genus IV – Canadian Edition</td>\n      <td>3.00</td>\n    </tr>\n    <tr>\n      <th>1</th>\n      <td>25984</td>\n      <td>Trivial Pursuit: Genus IV – Canadian Edition</td>\n      <td>5.00</td>\n    </tr>\n    <tr>\n      <th>2</th>\n      <td>25984</td>\n      <td>Trivial Pursuit: Genus IV – Canadian Edition</td>\n      <td>3.00</td>\n    </tr>\n    <tr>\n      <th>3</th>\n      <td>25984</td>\n      <td>Trivial Pursuit: Genus IV – Canadian Edition</td>\n      <td>7.00</td>\n    </tr>\n    <tr>\n      <th>4</th>\n      <td>25984</td>\n      <td>Trivial Pursuit: Genus IV – Canadian Edition</td>\n      <td>6.00</td>\n    </tr>\n    <tr>\n      <th>...</th>\n      <td>...</td>\n      <td>...</td>\n      <td>...</td>\n    </tr>\n    <tr>\n      <th>706808</th>\n      <td>11906</td>\n      <td>Source of the Nile: Tributary</td>\n      <td>8.00</td>\n    </tr>\n    <tr>\n      <th>706809</th>\n      <td>11906</td>\n      <td>Source of the Nile: Tributary</td>\n      <td>8.00</td>\n    </tr>\n    <tr>\n      <th>706810</th>\n      <td>11906</td>\n      <td>Source of the Nile: Tributary</td>\n      <td>9.00</td>\n    </tr>\n    <tr>\n      <th>706811</th>\n      <td>11906</td>\n      <td>Source of the Nile: Tributary</td>\n      <td>7.25</td>\n    </tr>\n    <tr>\n      <th>706812</th>\n      <td>11906</td>\n      <td>Source of the Nile: Tributary</td>\n      <td>5.00</td>\n    </tr>\n  </tbody>\n</table>\n<p>706813 rows × 3 columns</p>\n</div>"
     },
     "execution_count": 24,
     "metadata": {},
     "output_type": "execute_result"
    }
   ],
   "source": [
    "df_no_nan=df.dropna().reset_index(drop=True)\n",
    "df_no_nan"
   ],
   "metadata": {
    "collapsed": false,
    "ExecuteTime": {
     "end_time": "2023-11-09T23:31:09.147932400Z",
     "start_time": "2023-11-09T23:31:08.962314200Z"
    }
   },
   "id": "28d1b020394f3f5e"
  },
  {
   "cell_type": "code",
   "execution_count": 25,
   "outputs": [
    {
     "data": {
      "text/plain": "title\nCosmic Encounter                        312\nGettysburg                              221\nDune                                    198\nLord of the Rings: The Confrontation    169\nArkham Horror                           167\n                                       ... \nAventuria                                 1\nErbschleicher AG                          1\nPeter Funk's Winning Words                1\nMusic Mystery                             1\nDer Blaumilch-Kanal                       1\nName: count, Length: 23264, dtype: int64"
     },
     "execution_count": 25,
     "metadata": {},
     "output_type": "execute_result"
    }
   ],
   "source": [
    "game_rating_number=df_no_nan['title'].value_counts()\n",
    "game_rating_number"
   ],
   "metadata": {
    "collapsed": false,
    "ExecuteTime": {
     "end_time": "2023-11-09T23:31:09.422711100Z",
     "start_time": "2023-11-09T23:31:09.110734Z"
    }
   },
   "id": "750512551601d490"
  },
  {
   "cell_type": "code",
   "execution_count": 26,
   "outputs": [
    {
     "data": {
      "text/plain": "title\n!dentity Crisis?                                       5.844444\n#MyLife                                                5.714286\n&Cetera                                                7.306452\n'65: Squad-Level Combat in the Jungles of Vietnam      7.612500\n'CA' Tactical Naval Warfare in the Pacific, 1941-45    4.513514\n                                                         ...   \nなつめも (Natsumemo)                                       7.916667\nひとひら (Hitohira)                                        6.166667\nカマクラコレクション (Kamakura Collection)                       7.500000\nボブジテン (Bob Jiten)                                      7.333333\n猿道 (Monkey Road)                                       5.784444\nName: rating, Length: 23264, dtype: float64"
     },
     "execution_count": 26,
     "metadata": {},
     "output_type": "execute_result"
    }
   ],
   "source": [
    "game_rating_average = df_no_nan.groupby('title')['rating'].mean()\n",
    "game_rating_average"
   ],
   "metadata": {
    "collapsed": false,
    "ExecuteTime": {
     "end_time": "2023-11-09T23:31:09.703727200Z",
     "start_time": "2023-11-09T23:31:09.223882200Z"
    }
   },
   "id": "b2f313b68f30a062"
  },
  {
   "cell_type": "code",
   "execution_count": 27,
   "outputs": [
    {
     "data": {
      "text/plain": "title\n!dentity Crisis?                                        52.60\n#MyLife                                                 40.00\n&Cetera                                                226.50\n'65: Squad-Level Combat in the Jungles of Vietnam      304.50\n'CA' Tactical Naval Warfare in the Pacific, 1941-45    167.00\n                                                        ...  \nなつめも (Natsumemo)                                       142.50\nひとひら (Hitohira)                                         74.00\nカマクラコレクション (Kamakura Collection)                        30.00\nボブジテン (Bob Jiten)                                       44.00\n猿道 (Monkey Road)                                        52.06\nName: rating, Length: 23264, dtype: float64"
     },
     "execution_count": 27,
     "metadata": {},
     "output_type": "execute_result"
    }
   ],
   "source": [
    "game_rating_sum = df_no_nan.groupby('title')['rating'].sum()\n",
    "game_rating_sum"
   ],
   "metadata": {
    "collapsed": false,
    "ExecuteTime": {
     "end_time": "2023-11-09T23:31:09.829496Z",
     "start_time": "2023-11-09T23:31:09.591737400Z"
    }
   },
   "id": "8d7b192d8e4d1007"
  },
  {
   "cell_type": "code",
   "execution_count": 28,
   "outputs": [
    {
     "data": {
      "text/plain": "                                                    rating  count\ntitle                                                            \n!dentity Crisis?                                     52.60      9\n#MyLife                                              40.00      7\n&Cetera                                             226.50     31\n'65: Squad-Level Combat in the Jungles of Vietnam   304.50     40\n'CA' Tactical Naval Warfare in the Pacific, 194...  167.00     37\n...                                                    ...    ...\nなつめも (Natsumemo)                                    142.50     18\nひとひら (Hitohira)                                      74.00     12\nカマクラコレクション (Kamakura Collection)                     30.00      4\nボブジテン (Bob Jiten)                                    44.00      6\n猿道 (Monkey Road)                                     52.06      9\n\n[23264 rows x 2 columns]",
      "text/html": "<div>\n<style scoped>\n    .dataframe tbody tr th:only-of-type {\n        vertical-align: middle;\n    }\n\n    .dataframe tbody tr th {\n        vertical-align: top;\n    }\n\n    .dataframe thead th {\n        text-align: right;\n    }\n</style>\n<table border=\"1\" class=\"dataframe\">\n  <thead>\n    <tr style=\"text-align: right;\">\n      <th></th>\n      <th>rating</th>\n      <th>count</th>\n    </tr>\n    <tr>\n      <th>title</th>\n      <th></th>\n      <th></th>\n    </tr>\n  </thead>\n  <tbody>\n    <tr>\n      <th>!dentity Crisis?</th>\n      <td>52.60</td>\n      <td>9</td>\n    </tr>\n    <tr>\n      <th>#MyLife</th>\n      <td>40.00</td>\n      <td>7</td>\n    </tr>\n    <tr>\n      <th>&amp;Cetera</th>\n      <td>226.50</td>\n      <td>31</td>\n    </tr>\n    <tr>\n      <th>'65: Squad-Level Combat in the Jungles of Vietnam</th>\n      <td>304.50</td>\n      <td>40</td>\n    </tr>\n    <tr>\n      <th>'CA' Tactical Naval Warfare in the Pacific, 1941-45</th>\n      <td>167.00</td>\n      <td>37</td>\n    </tr>\n    <tr>\n      <th>...</th>\n      <td>...</td>\n      <td>...</td>\n    </tr>\n    <tr>\n      <th>なつめも (Natsumemo)</th>\n      <td>142.50</td>\n      <td>18</td>\n    </tr>\n    <tr>\n      <th>ひとひら (Hitohira)</th>\n      <td>74.00</td>\n      <td>12</td>\n    </tr>\n    <tr>\n      <th>カマクラコレクション (Kamakura Collection)</th>\n      <td>30.00</td>\n      <td>4</td>\n    </tr>\n    <tr>\n      <th>ボブジテン (Bob Jiten)</th>\n      <td>44.00</td>\n      <td>6</td>\n    </tr>\n    <tr>\n      <th>猿道 (Monkey Road)</th>\n      <td>52.06</td>\n      <td>9</td>\n    </tr>\n  </tbody>\n</table>\n<p>23264 rows × 2 columns</p>\n</div>"
     },
     "execution_count": 28,
     "metadata": {},
     "output_type": "execute_result"
    }
   ],
   "source": [
    "sub_table= pd.merge(game_rating_sum, game_rating_number, on = 'title')\n",
    "sub_table"
   ],
   "metadata": {
    "collapsed": false,
    "ExecuteTime": {
     "end_time": "2023-11-09T23:31:09.920930400Z",
     "start_time": "2023-11-09T23:31:09.828500700Z"
    }
   },
   "id": "6aab0b3a38484a18"
  },
  {
   "cell_type": "code",
   "execution_count": 29,
   "outputs": [
    {
     "data": {
      "text/plain": "                                                    rating_x  count  rating_y\ntitle                                                                        \n!dentity Crisis?                                       52.60      9  5.844444\n#MyLife                                                40.00      7  5.714286\n&Cetera                                               226.50     31  7.306452\n'65: Squad-Level Combat in the Jungles of Vietnam     304.50     40  7.612500\n'CA' Tactical Naval Warfare in the Pacific, 194...    167.00     37  4.513514\n...                                                      ...    ...       ...\nなつめも (Natsumemo)                                      142.50     18  7.916667\nひとひら (Hitohira)                                        74.00     12  6.166667\nカマクラコレクション (Kamakura Collection)                       30.00      4  7.500000\nボブジテン (Bob Jiten)                                      44.00      6  7.333333\n猿道 (Monkey Road)                                       52.06      9  5.784444\n\n[23264 rows x 3 columns]",
      "text/html": "<div>\n<style scoped>\n    .dataframe tbody tr th:only-of-type {\n        vertical-align: middle;\n    }\n\n    .dataframe tbody tr th {\n        vertical-align: top;\n    }\n\n    .dataframe thead th {\n        text-align: right;\n    }\n</style>\n<table border=\"1\" class=\"dataframe\">\n  <thead>\n    <tr style=\"text-align: right;\">\n      <th></th>\n      <th>rating_x</th>\n      <th>count</th>\n      <th>rating_y</th>\n    </tr>\n    <tr>\n      <th>title</th>\n      <th></th>\n      <th></th>\n      <th></th>\n    </tr>\n  </thead>\n  <tbody>\n    <tr>\n      <th>!dentity Crisis?</th>\n      <td>52.60</td>\n      <td>9</td>\n      <td>5.844444</td>\n    </tr>\n    <tr>\n      <th>#MyLife</th>\n      <td>40.00</td>\n      <td>7</td>\n      <td>5.714286</td>\n    </tr>\n    <tr>\n      <th>&amp;Cetera</th>\n      <td>226.50</td>\n      <td>31</td>\n      <td>7.306452</td>\n    </tr>\n    <tr>\n      <th>'65: Squad-Level Combat in the Jungles of Vietnam</th>\n      <td>304.50</td>\n      <td>40</td>\n      <td>7.612500</td>\n    </tr>\n    <tr>\n      <th>'CA' Tactical Naval Warfare in the Pacific, 1941-45</th>\n      <td>167.00</td>\n      <td>37</td>\n      <td>4.513514</td>\n    </tr>\n    <tr>\n      <th>...</th>\n      <td>...</td>\n      <td>...</td>\n      <td>...</td>\n    </tr>\n    <tr>\n      <th>なつめも (Natsumemo)</th>\n      <td>142.50</td>\n      <td>18</td>\n      <td>7.916667</td>\n    </tr>\n    <tr>\n      <th>ひとひら (Hitohira)</th>\n      <td>74.00</td>\n      <td>12</td>\n      <td>6.166667</td>\n    </tr>\n    <tr>\n      <th>カマクラコレクション (Kamakura Collection)</th>\n      <td>30.00</td>\n      <td>4</td>\n      <td>7.500000</td>\n    </tr>\n    <tr>\n      <th>ボブジテン (Bob Jiten)</th>\n      <td>44.00</td>\n      <td>6</td>\n      <td>7.333333</td>\n    </tr>\n    <tr>\n      <th>猿道 (Monkey Road)</th>\n      <td>52.06</td>\n      <td>9</td>\n      <td>5.784444</td>\n    </tr>\n  </tbody>\n</table>\n<p>23264 rows × 3 columns</p>\n</div>"
     },
     "execution_count": 29,
     "metadata": {},
     "output_type": "execute_result"
    }
   ],
   "source": [
    "full_table=pd.merge(sub_table, game_rating_average, on = 'title')\n",
    "full_table"
   ],
   "metadata": {
    "collapsed": false,
    "ExecuteTime": {
     "end_time": "2023-11-09T23:31:10.001604200Z",
     "start_time": "2023-11-09T23:31:09.880983800Z"
    }
   },
   "id": "6698067f8e50be68"
  },
  {
   "cell_type": "code",
   "execution_count": 30,
   "outputs": [
    {
     "data": {
      "text/plain": "                                                    rating_sum  rating_number  \\\ntitle                                                                           \n!dentity Crisis?                                         52.60              9   \n#MyLife                                                  40.00              7   \n&Cetera                                                 226.50             31   \n'65: Squad-Level Combat in the Jungles of Vietnam       304.50             40   \n'CA' Tactical Naval Warfare in the Pacific, 194...      167.00             37   \n...                                                        ...            ...   \nなつめも (Natsumemo)                                        142.50             18   \nひとひら (Hitohira)                                          74.00             12   \nカマクラコレクション (Kamakura Collection)                         30.00              4   \nボブジテン (Bob Jiten)                                        44.00              6   \n猿道 (Monkey Road)                                         52.06              9   \n\n                                                    rating_average  \ntitle                                                               \n!dentity Crisis?                                          5.844444  \n#MyLife                                                   5.714286  \n&Cetera                                                   7.306452  \n'65: Squad-Level Combat in the Jungles of Vietnam         7.612500  \n'CA' Tactical Naval Warfare in the Pacific, 194...        4.513514  \n...                                                            ...  \nなつめも (Natsumemo)                                          7.916667  \nひとひら (Hitohira)                                           6.166667  \nカマクラコレクション (Kamakura Collection)                          7.500000  \nボブジテン (Bob Jiten)                                         7.333333  \n猿道 (Monkey Road)                                          5.784444  \n\n[23264 rows x 3 columns]",
      "text/html": "<div>\n<style scoped>\n    .dataframe tbody tr th:only-of-type {\n        vertical-align: middle;\n    }\n\n    .dataframe tbody tr th {\n        vertical-align: top;\n    }\n\n    .dataframe thead th {\n        text-align: right;\n    }\n</style>\n<table border=\"1\" class=\"dataframe\">\n  <thead>\n    <tr style=\"text-align: right;\">\n      <th></th>\n      <th>rating_sum</th>\n      <th>rating_number</th>\n      <th>rating_average</th>\n    </tr>\n    <tr>\n      <th>title</th>\n      <th></th>\n      <th></th>\n      <th></th>\n    </tr>\n  </thead>\n  <tbody>\n    <tr>\n      <th>!dentity Crisis?</th>\n      <td>52.60</td>\n      <td>9</td>\n      <td>5.844444</td>\n    </tr>\n    <tr>\n      <th>#MyLife</th>\n      <td>40.00</td>\n      <td>7</td>\n      <td>5.714286</td>\n    </tr>\n    <tr>\n      <th>&amp;Cetera</th>\n      <td>226.50</td>\n      <td>31</td>\n      <td>7.306452</td>\n    </tr>\n    <tr>\n      <th>'65: Squad-Level Combat in the Jungles of Vietnam</th>\n      <td>304.50</td>\n      <td>40</td>\n      <td>7.612500</td>\n    </tr>\n    <tr>\n      <th>'CA' Tactical Naval Warfare in the Pacific, 1941-45</th>\n      <td>167.00</td>\n      <td>37</td>\n      <td>4.513514</td>\n    </tr>\n    <tr>\n      <th>...</th>\n      <td>...</td>\n      <td>...</td>\n      <td>...</td>\n    </tr>\n    <tr>\n      <th>なつめも (Natsumemo)</th>\n      <td>142.50</td>\n      <td>18</td>\n      <td>7.916667</td>\n    </tr>\n    <tr>\n      <th>ひとひら (Hitohira)</th>\n      <td>74.00</td>\n      <td>12</td>\n      <td>6.166667</td>\n    </tr>\n    <tr>\n      <th>カマクラコレクション (Kamakura Collection)</th>\n      <td>30.00</td>\n      <td>4</td>\n      <td>7.500000</td>\n    </tr>\n    <tr>\n      <th>ボブジテン (Bob Jiten)</th>\n      <td>44.00</td>\n      <td>6</td>\n      <td>7.333333</td>\n    </tr>\n    <tr>\n      <th>猿道 (Monkey Road)</th>\n      <td>52.06</td>\n      <td>9</td>\n      <td>5.784444</td>\n    </tr>\n  </tbody>\n</table>\n<p>23264 rows × 3 columns</p>\n</div>"
     },
     "execution_count": 30,
     "metadata": {},
     "output_type": "execute_result"
    }
   ],
   "source": [
    "full_table.rename(columns={'rating_x': 'rating_sum', 'count': 'rating_number', 'rating_y': 'rating_average'}, inplace=True)\n",
    "full_table"
   ],
   "metadata": {
    "collapsed": false,
    "ExecuteTime": {
     "end_time": "2023-11-09T23:31:10.004595400Z",
     "start_time": "2023-11-09T23:31:09.930488500Z"
    }
   },
   "id": "958bbf0dfa2e3cb1"
  },
  {
   "cell_type": "code",
   "execution_count": 36,
   "outputs": [],
   "source": [
    "rating_number_array = full_table['rating_number'].values\n",
    "rating_average_array = full_table['rating_average'].values"
   ],
   "metadata": {
    "collapsed": false,
    "ExecuteTime": {
     "end_time": "2023-11-09T23:33:29.436889300Z",
     "start_time": "2023-11-09T23:33:29.329082500Z"
    }
   },
   "id": "8be261472fc7edd3"
  },
  {
   "cell_type": "code",
   "execution_count": 37,
   "outputs": [
    {
     "name": "stdout",
     "output_type": "stream",
     "text": [
      "prior weight: 30.382264442916092\n",
      "prior average: 6.119832661544632\n"
     ]
    }
   ],
   "source": [
    "prior_weight = np.mean(rating_number_array)\n",
    "prior_average = np.mean(rating_average_array)\n",
    "print('prior weight:', prior_weight)\n",
    "print('prior average:', prior_average)"
   ],
   "metadata": {
    "collapsed": false,
    "ExecuteTime": {
     "end_time": "2023-11-09T23:33:34.959503400Z",
     "start_time": "2023-11-09T23:33:34.953516Z"
    }
   },
   "id": "ba800991815c4c18"
  },
  {
   "cell_type": "markdown",
   "source": [
    "## The full rating table\n",
    "- The goal is to create a table which shows both the average ratings and the bayesian average ratings"
   ],
   "metadata": {
    "collapsed": false
   },
   "id": "a80ace3b89456d07"
  },
  {
   "cell_type": "code",
   "execution_count": 52,
   "outputs": [],
   "source": [
    "from Board_Game_Project.function import calculate_bayesian_average"
   ],
   "metadata": {
    "collapsed": false,
    "ExecuteTime": {
     "end_time": "2023-11-10T00:05:43.433382500Z",
     "start_time": "2023-11-10T00:05:43.362556200Z"
    }
   },
   "id": "60870606a7e5c702"
  },
  {
   "cell_type": "code",
   "execution_count": 58,
   "outputs": [
    {
     "ename": "TypeError",
     "evalue": "string indices must be integers, not 'str'",
     "output_type": "error",
     "traceback": [
      "\u001B[1;31m---------------------------------------------------------------------------\u001B[0m",
      "\u001B[1;31mTypeError\u001B[0m                                 Traceback (most recent call last)",
      "Cell \u001B[1;32mIn[58], line 3\u001B[0m\n\u001B[0;32m      1\u001B[0m bayesian_averages \u001B[38;5;241m=\u001B[39m []  \u001B[38;5;66;03m# making a list of bayesian averages\u001B[39;00m\n\u001B[0;32m      2\u001B[0m \u001B[38;5;28;01mfor\u001B[39;00m row \u001B[38;5;129;01min\u001B[39;00m full_table:\n\u001B[1;32m----> 3\u001B[0m     rating_sum \u001B[38;5;241m=\u001B[39m \u001B[43mrow\u001B[49m\u001B[43m[\u001B[49m\u001B[38;5;124;43m'\u001B[39;49m\u001B[38;5;124;43mrating_sum\u001B[39;49m\u001B[38;5;124;43m'\u001B[39;49m\u001B[43m]\u001B[49m\n\u001B[0;32m      4\u001B[0m     rating_number \u001B[38;5;241m=\u001B[39m row[\u001B[38;5;124m'\u001B[39m\u001B[38;5;124mrating_number\u001B[39m\u001B[38;5;124m'\u001B[39m]\n\u001B[0;32m      5\u001B[0m     avg \u001B[38;5;241m=\u001B[39m calculate_bayesian_average(rating_sum, rating_number, prior_weight, prior_average)\n",
      "\u001B[1;31mTypeError\u001B[0m: string indices must be integers, not 'str'"
     ]
    }
   ],
   "source": [
    "bayesian_averages = []  # making a list of bayesian averages\n",
    "for row in full_table:\n",
    "    rating_sum = row['rating_sum']\n",
    "    rating_number = row['rating_number']\n",
    "    avg = calculate_bayesian_average(rating_sum, rating_number, prior_weight, prior_average)\n",
    "    bayesian_averages.append(avg)"
   ],
   "metadata": {
    "collapsed": false,
    "ExecuteTime": {
     "end_time": "2023-11-10T00:15:07.682894700Z",
     "start_time": "2023-11-10T00:15:07.652328400Z"
    }
   },
   "id": "674afd9c9fc836e3"
  }
 ],
 "metadata": {
  "kernelspec": {
   "display_name": "Python 3",
   "language": "python",
   "name": "python3"
  },
  "language_info": {
   "codemirror_mode": {
    "name": "ipython",
    "version": 2
   },
   "file_extension": ".py",
   "mimetype": "text/x-python",
   "name": "python",
   "nbconvert_exporter": "python",
   "pygments_lexer": "ipython2",
   "version": "2.7.6"
  }
 },
 "nbformat": 4,
 "nbformat_minor": 5
}
