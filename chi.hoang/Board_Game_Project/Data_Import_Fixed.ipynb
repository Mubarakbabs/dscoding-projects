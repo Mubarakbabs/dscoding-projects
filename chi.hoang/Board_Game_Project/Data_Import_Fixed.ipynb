{
 "cells": [
  {
   "cell_type": "code",
   "execution_count": 1,
   "id": "initial_id",
   "metadata": {
    "collapsed": true,
    "ExecuteTime": {
     "end_time": "2023-11-03T19:19:47.541517Z",
     "start_time": "2023-11-03T19:19:45.704750600Z"
    }
   },
   "outputs": [],
   "source": [
    "import pandas as pd"
   ]
  },
  {
   "cell_type": "code",
   "execution_count": 2,
   "outputs": [
    {
     "data": {
      "text/plain": "          game                                         title  rating\n0        25984  Trivial Pursuit: Genus IV – Canadian Edition     3.0\n1        25984  Trivial Pursuit: Genus IV – Canadian Edition     5.0\n2        25984  Trivial Pursuit: Genus IV – Canadian Edition     3.0\n3        25984  Trivial Pursuit: Genus IV – Canadian Edition     7.0\n4        25984  Trivial Pursuit: Genus IV – Canadian Edition     6.0\n...        ...                                           ...     ...\n1082162  11906                 Source of the Nile: Tributary     5.0\n1082163  11906                 Source of the Nile: Tributary     NaN\n1082164  11906                 Source of the Nile: Tributary     NaN\n1082165  11906                 Source of the Nile: Tributary     NaN\n1082166  11906                 Source of the Nile: Tributary     NaN\n\n[1082167 rows x 3 columns]",
      "text/html": "<div>\n<style scoped>\n    .dataframe tbody tr th:only-of-type {\n        vertical-align: middle;\n    }\n\n    .dataframe tbody tr th {\n        vertical-align: top;\n    }\n\n    .dataframe thead th {\n        text-align: right;\n    }\n</style>\n<table border=\"1\" class=\"dataframe\">\n  <thead>\n    <tr style=\"text-align: right;\">\n      <th></th>\n      <th>game</th>\n      <th>title</th>\n      <th>rating</th>\n    </tr>\n  </thead>\n  <tbody>\n    <tr>\n      <th>0</th>\n      <td>25984</td>\n      <td>Trivial Pursuit: Genus IV – Canadian Edition</td>\n      <td>3.0</td>\n    </tr>\n    <tr>\n      <th>1</th>\n      <td>25984</td>\n      <td>Trivial Pursuit: Genus IV – Canadian Edition</td>\n      <td>5.0</td>\n    </tr>\n    <tr>\n      <th>2</th>\n      <td>25984</td>\n      <td>Trivial Pursuit: Genus IV – Canadian Edition</td>\n      <td>3.0</td>\n    </tr>\n    <tr>\n      <th>3</th>\n      <td>25984</td>\n      <td>Trivial Pursuit: Genus IV – Canadian Edition</td>\n      <td>7.0</td>\n    </tr>\n    <tr>\n      <th>4</th>\n      <td>25984</td>\n      <td>Trivial Pursuit: Genus IV – Canadian Edition</td>\n      <td>6.0</td>\n    </tr>\n    <tr>\n      <th>...</th>\n      <td>...</td>\n      <td>...</td>\n      <td>...</td>\n    </tr>\n    <tr>\n      <th>1082162</th>\n      <td>11906</td>\n      <td>Source of the Nile: Tributary</td>\n      <td>5.0</td>\n    </tr>\n    <tr>\n      <th>1082163</th>\n      <td>11906</td>\n      <td>Source of the Nile: Tributary</td>\n      <td>NaN</td>\n    </tr>\n    <tr>\n      <th>1082164</th>\n      <td>11906</td>\n      <td>Source of the Nile: Tributary</td>\n      <td>NaN</td>\n    </tr>\n    <tr>\n      <th>1082165</th>\n      <td>11906</td>\n      <td>Source of the Nile: Tributary</td>\n      <td>NaN</td>\n    </tr>\n    <tr>\n      <th>1082166</th>\n      <td>11906</td>\n      <td>Source of the Nile: Tributary</td>\n      <td>NaN</td>\n    </tr>\n  </tbody>\n</table>\n<p>1082167 rows × 3 columns</p>\n</div>"
     },
     "execution_count": 2,
     "metadata": {},
     "output_type": "execute_result"
    }
   ],
   "source": [
    "df = pd.read_csv(\"bgg.csv\")\n",
    "df"
   ],
   "metadata": {
    "collapsed": false,
    "ExecuteTime": {
     "end_time": "2023-11-03T19:19:48.584032900Z",
     "start_time": "2023-11-03T19:19:47.543511100Z"
    }
   },
   "id": "88160abff0e7576"
  },
  {
   "cell_type": "code",
   "execution_count": 3,
   "outputs": [
    {
     "data": {
      "text/plain": "          game             title  rating\n28668    30457  !dentity Crisis?    2.00\n28658    30457  !dentity Crisis?    3.00\n28660    30457  !dentity Crisis?    5.00\n28669    30457  !dentity Crisis?    5.00\n28663    30457  !dentity Crisis?    6.00\n...        ...               ...     ...\n773346  177572  猿道 (Monkey Road)    7.00\n773347  177572  猿道 (Monkey Road)    8.56\n773343  177572  猿道 (Monkey Road)     NaN\n773345  177572  猿道 (Monkey Road)     NaN\n773351  177572  猿道 (Monkey Road)     NaN\n\n[1082167 rows x 3 columns]",
      "text/html": "<div>\n<style scoped>\n    .dataframe tbody tr th:only-of-type {\n        vertical-align: middle;\n    }\n\n    .dataframe tbody tr th {\n        vertical-align: top;\n    }\n\n    .dataframe thead th {\n        text-align: right;\n    }\n</style>\n<table border=\"1\" class=\"dataframe\">\n  <thead>\n    <tr style=\"text-align: right;\">\n      <th></th>\n      <th>game</th>\n      <th>title</th>\n      <th>rating</th>\n    </tr>\n  </thead>\n  <tbody>\n    <tr>\n      <th>28668</th>\n      <td>30457</td>\n      <td>!dentity Crisis?</td>\n      <td>2.00</td>\n    </tr>\n    <tr>\n      <th>28658</th>\n      <td>30457</td>\n      <td>!dentity Crisis?</td>\n      <td>3.00</td>\n    </tr>\n    <tr>\n      <th>28660</th>\n      <td>30457</td>\n      <td>!dentity Crisis?</td>\n      <td>5.00</td>\n    </tr>\n    <tr>\n      <th>28669</th>\n      <td>30457</td>\n      <td>!dentity Crisis?</td>\n      <td>5.00</td>\n    </tr>\n    <tr>\n      <th>28663</th>\n      <td>30457</td>\n      <td>!dentity Crisis?</td>\n      <td>6.00</td>\n    </tr>\n    <tr>\n      <th>...</th>\n      <td>...</td>\n      <td>...</td>\n      <td>...</td>\n    </tr>\n    <tr>\n      <th>773346</th>\n      <td>177572</td>\n      <td>猿道 (Monkey Road)</td>\n      <td>7.00</td>\n    </tr>\n    <tr>\n      <th>773347</th>\n      <td>177572</td>\n      <td>猿道 (Monkey Road)</td>\n      <td>8.56</td>\n    </tr>\n    <tr>\n      <th>773343</th>\n      <td>177572</td>\n      <td>猿道 (Monkey Road)</td>\n      <td>NaN</td>\n    </tr>\n    <tr>\n      <th>773345</th>\n      <td>177572</td>\n      <td>猿道 (Monkey Road)</td>\n      <td>NaN</td>\n    </tr>\n    <tr>\n      <th>773351</th>\n      <td>177572</td>\n      <td>猿道 (Monkey Road)</td>\n      <td>NaN</td>\n    </tr>\n  </tbody>\n</table>\n<p>1082167 rows × 3 columns</p>\n</div>"
     },
     "execution_count": 3,
     "metadata": {},
     "output_type": "execute_result"
    }
   ],
   "source": [
    "df_sorted = df.sort_values(['title', 'rating'], ascending=(True, True))\n",
    "df_sorted"
   ],
   "metadata": {
    "collapsed": false,
    "ExecuteTime": {
     "end_time": "2023-11-03T19:19:49.277302200Z",
     "start_time": "2023-11-03T19:19:48.569070600Z"
    }
   },
   "id": "8e8d2147c05e6674"
  },
  {
   "cell_type": "code",
   "execution_count": 4,
   "outputs": [
    {
     "data": {
      "text/plain": "          game             title  rating\n0        30457  !dentity Crisis?    2.00\n1        30457  !dentity Crisis?    3.00\n2        30457  !dentity Crisis?    5.00\n3        30457  !dentity Crisis?    5.00\n4        30457  !dentity Crisis?    6.00\n...        ...               ...     ...\n706808  177572  猿道 (Monkey Road)    6.50\n706809  177572  猿道 (Monkey Road)    7.00\n706810  177572  猿道 (Monkey Road)    7.00\n706811  177572  猿道 (Monkey Road)    7.00\n706812  177572  猿道 (Monkey Road)    8.56\n\n[706813 rows x 3 columns]",
      "text/html": "<div>\n<style scoped>\n    .dataframe tbody tr th:only-of-type {\n        vertical-align: middle;\n    }\n\n    .dataframe tbody tr th {\n        vertical-align: top;\n    }\n\n    .dataframe thead th {\n        text-align: right;\n    }\n</style>\n<table border=\"1\" class=\"dataframe\">\n  <thead>\n    <tr style=\"text-align: right;\">\n      <th></th>\n      <th>game</th>\n      <th>title</th>\n      <th>rating</th>\n    </tr>\n  </thead>\n  <tbody>\n    <tr>\n      <th>0</th>\n      <td>30457</td>\n      <td>!dentity Crisis?</td>\n      <td>2.00</td>\n    </tr>\n    <tr>\n      <th>1</th>\n      <td>30457</td>\n      <td>!dentity Crisis?</td>\n      <td>3.00</td>\n    </tr>\n    <tr>\n      <th>2</th>\n      <td>30457</td>\n      <td>!dentity Crisis?</td>\n      <td>5.00</td>\n    </tr>\n    <tr>\n      <th>3</th>\n      <td>30457</td>\n      <td>!dentity Crisis?</td>\n      <td>5.00</td>\n    </tr>\n    <tr>\n      <th>4</th>\n      <td>30457</td>\n      <td>!dentity Crisis?</td>\n      <td>6.00</td>\n    </tr>\n    <tr>\n      <th>...</th>\n      <td>...</td>\n      <td>...</td>\n      <td>...</td>\n    </tr>\n    <tr>\n      <th>706808</th>\n      <td>177572</td>\n      <td>猿道 (Monkey Road)</td>\n      <td>6.50</td>\n    </tr>\n    <tr>\n      <th>706809</th>\n      <td>177572</td>\n      <td>猿道 (Monkey Road)</td>\n      <td>7.00</td>\n    </tr>\n    <tr>\n      <th>706810</th>\n      <td>177572</td>\n      <td>猿道 (Monkey Road)</td>\n      <td>7.00</td>\n    </tr>\n    <tr>\n      <th>706811</th>\n      <td>177572</td>\n      <td>猿道 (Monkey Road)</td>\n      <td>7.00</td>\n    </tr>\n    <tr>\n      <th>706812</th>\n      <td>177572</td>\n      <td>猿道 (Monkey Road)</td>\n      <td>8.56</td>\n    </tr>\n  </tbody>\n</table>\n<p>706813 rows × 3 columns</p>\n</div>"
     },
     "execution_count": 4,
     "metadata": {},
     "output_type": "execute_result"
    }
   ],
   "source": [
    "df2=df_sorted.dropna().reset_index(drop=True)\n",
    "df2"
   ],
   "metadata": {
    "collapsed": false,
    "ExecuteTime": {
     "end_time": "2023-11-03T19:19:49.620924300Z",
     "start_time": "2023-11-03T19:19:49.278300400Z"
    }
   },
   "id": "3a6fc1e7f7452b58"
  },
  {
   "cell_type": "code",
   "execution_count": 5,
   "outputs": [
    {
     "data": {
      "text/plain": "          game             title\n0        30457  !dentity Crisis?\n1        30457  !dentity Crisis?\n2        30457  !dentity Crisis?\n3        30457  !dentity Crisis?\n4        30457  !dentity Crisis?\n...        ...               ...\n706808  177572  猿道 (Monkey Road)\n706809  177572  猿道 (Monkey Road)\n706810  177572  猿道 (Monkey Road)\n706811  177572  猿道 (Monkey Road)\n706812  177572  猿道 (Monkey Road)\n\n[706813 rows x 2 columns]",
      "text/html": "<div>\n<style scoped>\n    .dataframe tbody tr th:only-of-type {\n        vertical-align: middle;\n    }\n\n    .dataframe tbody tr th {\n        vertical-align: top;\n    }\n\n    .dataframe thead th {\n        text-align: right;\n    }\n</style>\n<table border=\"1\" class=\"dataframe\">\n  <thead>\n    <tr style=\"text-align: right;\">\n      <th></th>\n      <th>game</th>\n      <th>title</th>\n    </tr>\n  </thead>\n  <tbody>\n    <tr>\n      <th>0</th>\n      <td>30457</td>\n      <td>!dentity Crisis?</td>\n    </tr>\n    <tr>\n      <th>1</th>\n      <td>30457</td>\n      <td>!dentity Crisis?</td>\n    </tr>\n    <tr>\n      <th>2</th>\n      <td>30457</td>\n      <td>!dentity Crisis?</td>\n    </tr>\n    <tr>\n      <th>3</th>\n      <td>30457</td>\n      <td>!dentity Crisis?</td>\n    </tr>\n    <tr>\n      <th>4</th>\n      <td>30457</td>\n      <td>!dentity Crisis?</td>\n    </tr>\n    <tr>\n      <th>...</th>\n      <td>...</td>\n      <td>...</td>\n    </tr>\n    <tr>\n      <th>706808</th>\n      <td>177572</td>\n      <td>猿道 (Monkey Road)</td>\n    </tr>\n    <tr>\n      <th>706809</th>\n      <td>177572</td>\n      <td>猿道 (Monkey Road)</td>\n    </tr>\n    <tr>\n      <th>706810</th>\n      <td>177572</td>\n      <td>猿道 (Monkey Road)</td>\n    </tr>\n    <tr>\n      <th>706811</th>\n      <td>177572</td>\n      <td>猿道 (Monkey Road)</td>\n    </tr>\n    <tr>\n      <th>706812</th>\n      <td>177572</td>\n      <td>猿道 (Monkey Road)</td>\n    </tr>\n  </tbody>\n</table>\n<p>706813 rows × 2 columns</p>\n</div>"
     },
     "execution_count": 5,
     "metadata": {},
     "output_type": "execute_result"
    }
   ],
   "source": [
    "df3 = df2[['game', 'title']]\n",
    "df3"
   ],
   "metadata": {
    "collapsed": false,
    "ExecuteTime": {
     "end_time": "2023-11-03T19:19:49.688910400Z",
     "start_time": "2023-11-03T19:19:49.497682200Z"
    }
   },
   "id": "8613e38c7017f162"
  },
  {
   "cell_type": "code",
   "execution_count": 6,
   "outputs": [
    {
     "data": {
      "text/plain": "title\n!dentity Crisis?                                        52.60\n#MyLife                                                 40.00\n&Cetera                                                226.50\n'65: Squad-Level Combat in the Jungles of Vietnam      304.50\n'CA' Tactical Naval Warfare in the Pacific, 1941-45    167.00\n                                                        ...  \nなつめも (Natsumemo)                                       142.50\nひとひら (Hitohira)                                         74.00\nカマクラコレクション (Kamakura Collection)                        30.00\nボブジテン (Bob Jiten)                                       44.00\n猿道 (Monkey Road)                                        52.06\nName: rating, Length: 23264, dtype: float64"
     },
     "execution_count": 6,
     "metadata": {},
     "output_type": "execute_result"
    }
   ],
   "source": [
    "game_ratings_sum = df2.groupby('title')['rating'].sum()\n",
    "game_ratings_sum"
   ],
   "metadata": {
    "collapsed": false,
    "ExecuteTime": {
     "end_time": "2023-11-03T19:19:50.116815Z",
     "start_time": "2023-11-03T19:19:49.547206200Z"
    }
   },
   "id": "2403a6b3059c38e8"
  },
  {
   "cell_type": "code",
   "execution_count": 7,
   "outputs": [
    {
     "data": {
      "text/plain": "title\nCosmic Encounter                        312\nGettysburg                              221\nDune                                    198\nLord of the Rings: The Confrontation    169\nArkham Horror                           167\n                                       ... \nThe LogiQuad Game System                  1\nI'm a Celebrity                           1\nCeuta                                     1\nCentre Chess                              1\nPutsch au Panador                         1\nName: count, Length: 23264, dtype: int64"
     },
     "execution_count": 7,
     "metadata": {},
     "output_type": "execute_result"
    }
   ],
   "source": [
    "dftitle=df2['title'].value_counts()\n",
    "dftitle"
   ],
   "metadata": {
    "collapsed": false,
    "ExecuteTime": {
     "end_time": "2023-11-03T19:19:50.232574400Z",
     "start_time": "2023-11-03T19:19:49.760482700Z"
    }
   },
   "id": "7aec49941eaf3140"
  },
  {
   "cell_type": "code",
   "execution_count": 8,
   "outputs": [
    {
     "data": {
      "text/plain": "title\n!dentity Crisis?                                       5.844444\n#MyLife                                                5.714286\n&Cetera                                                7.306452\n'65: Squad-Level Combat in the Jungles of Vietnam      7.612500\n'CA' Tactical Naval Warfare in the Pacific, 1941-45    4.513514\n                                                         ...   \nなつめも (Natsumemo)                                       7.916667\nひとひら (Hitohira)                                        6.166667\nカマクラコレクション (Kamakura Collection)                       7.500000\nボブジテン (Bob Jiten)                                      7.333333\n猿道 (Monkey Road)                                       5.784444\nName: rating, Length: 23264, dtype: float64"
     },
     "execution_count": 8,
     "metadata": {},
     "output_type": "execute_result"
    }
   ],
   "source": [
    "game_ratings_average = df2.groupby('title')['rating'].mean()\n",
    "game_ratings_average"
   ],
   "metadata": {
    "collapsed": false,
    "ExecuteTime": {
     "end_time": "2023-11-03T19:19:50.434335700Z",
     "start_time": "2023-11-03T19:19:49.852116400Z"
    }
   },
   "id": "a6e7a0f8db849c86"
  },
  {
   "cell_type": "code",
   "execution_count": 9,
   "outputs": [],
   "source": [
    "table1=game_ratings_sum"
   ],
   "metadata": {
    "collapsed": false,
    "ExecuteTime": {
     "end_time": "2023-11-03T19:19:50.473973400Z",
     "start_time": "2023-11-03T19:19:50.065005400Z"
    }
   },
   "id": "48d56e06e64f99fb"
  },
  {
   "cell_type": "code",
   "execution_count": 10,
   "outputs": [],
   "source": [
    "table2=dftitle"
   ],
   "metadata": {
    "collapsed": false,
    "ExecuteTime": {
     "end_time": "2023-11-03T19:19:50.531563600Z",
     "start_time": "2023-11-03T19:19:50.079417700Z"
    }
   },
   "id": "5a2256a4636ff854"
  },
  {
   "cell_type": "code",
   "execution_count": 11,
   "outputs": [],
   "source": [
    "table3=game_ratings_average"
   ],
   "metadata": {
    "collapsed": false,
    "ExecuteTime": {
     "end_time": "2023-11-03T19:19:50.532561300Z",
     "start_time": "2023-11-03T19:19:50.130137300Z"
    }
   },
   "id": "1075be3ae2b7145a"
  },
  {
   "cell_type": "code",
   "execution_count": 12,
   "outputs": [
    {
     "data": {
      "text/plain": "                                                    rating  count\ntitle                                                            \n!dentity Crisis?                                     52.60      9\n#MyLife                                              40.00      7\n&Cetera                                             226.50     31\n'65: Squad-Level Combat in the Jungles of Vietnam   304.50     40\n'CA' Tactical Naval Warfare in the Pacific, 194...  167.00     37\n...                                                    ...    ...\nなつめも (Natsumemo)                                    142.50     18\nひとひら (Hitohira)                                      74.00     12\nカマクラコレクション (Kamakura Collection)                     30.00      4\nボブジテン (Bob Jiten)                                    44.00      6\n猿道 (Monkey Road)                                     52.06      9\n\n[23264 rows x 2 columns]",
      "text/html": "<div>\n<style scoped>\n    .dataframe tbody tr th:only-of-type {\n        vertical-align: middle;\n    }\n\n    .dataframe tbody tr th {\n        vertical-align: top;\n    }\n\n    .dataframe thead th {\n        text-align: right;\n    }\n</style>\n<table border=\"1\" class=\"dataframe\">\n  <thead>\n    <tr style=\"text-align: right;\">\n      <th></th>\n      <th>rating</th>\n      <th>count</th>\n    </tr>\n    <tr>\n      <th>title</th>\n      <th></th>\n      <th></th>\n    </tr>\n  </thead>\n  <tbody>\n    <tr>\n      <th>!dentity Crisis?</th>\n      <td>52.60</td>\n      <td>9</td>\n    </tr>\n    <tr>\n      <th>#MyLife</th>\n      <td>40.00</td>\n      <td>7</td>\n    </tr>\n    <tr>\n      <th>&amp;Cetera</th>\n      <td>226.50</td>\n      <td>31</td>\n    </tr>\n    <tr>\n      <th>'65: Squad-Level Combat in the Jungles of Vietnam</th>\n      <td>304.50</td>\n      <td>40</td>\n    </tr>\n    <tr>\n      <th>'CA' Tactical Naval Warfare in the Pacific, 1941-45</th>\n      <td>167.00</td>\n      <td>37</td>\n    </tr>\n    <tr>\n      <th>...</th>\n      <td>...</td>\n      <td>...</td>\n    </tr>\n    <tr>\n      <th>なつめも (Natsumemo)</th>\n      <td>142.50</td>\n      <td>18</td>\n    </tr>\n    <tr>\n      <th>ひとひら (Hitohira)</th>\n      <td>74.00</td>\n      <td>12</td>\n    </tr>\n    <tr>\n      <th>カマクラコレクション (Kamakura Collection)</th>\n      <td>30.00</td>\n      <td>4</td>\n    </tr>\n    <tr>\n      <th>ボブジテン (Bob Jiten)</th>\n      <td>44.00</td>\n      <td>6</td>\n    </tr>\n    <tr>\n      <th>猿道 (Monkey Road)</th>\n      <td>52.06</td>\n      <td>9</td>\n    </tr>\n  </tbody>\n</table>\n<p>23264 rows × 2 columns</p>\n</div>"
     },
     "execution_count": 12,
     "metadata": {},
     "output_type": "execute_result"
    }
   ],
   "source": [
    "left=pd.merge(table1, table2, on = 'title')\n",
    "left"
   ],
   "metadata": {
    "collapsed": false,
    "ExecuteTime": {
     "end_time": "2023-11-03T19:19:50.534941700Z",
     "start_time": "2023-11-03T19:19:50.147389900Z"
    }
   },
   "id": "2da19b2c2a24338a"
  },
  {
   "cell_type": "code",
   "execution_count": 13,
   "outputs": [
    {
     "data": {
      "text/plain": "                                                    rating_x  count  rating_y\ntitle                                                                        \n!dentity Crisis?                                       52.60      9  5.844444\n#MyLife                                                40.00      7  5.714286\n&Cetera                                               226.50     31  7.306452\n'65: Squad-Level Combat in the Jungles of Vietnam     304.50     40  7.612500\n'CA' Tactical Naval Warfare in the Pacific, 194...    167.00     37  4.513514\n...                                                      ...    ...       ...\nなつめも (Natsumemo)                                      142.50     18  7.916667\nひとひら (Hitohira)                                        74.00     12  6.166667\nカマクラコレクション (Kamakura Collection)                       30.00      4  7.500000\nボブジテン (Bob Jiten)                                      44.00      6  7.333333\n猿道 (Monkey Road)                                       52.06      9  5.784444\n\n[23264 rows x 3 columns]",
      "text/html": "<div>\n<style scoped>\n    .dataframe tbody tr th:only-of-type {\n        vertical-align: middle;\n    }\n\n    .dataframe tbody tr th {\n        vertical-align: top;\n    }\n\n    .dataframe thead th {\n        text-align: right;\n    }\n</style>\n<table border=\"1\" class=\"dataframe\">\n  <thead>\n    <tr style=\"text-align: right;\">\n      <th></th>\n      <th>rating_x</th>\n      <th>count</th>\n      <th>rating_y</th>\n    </tr>\n    <tr>\n      <th>title</th>\n      <th></th>\n      <th></th>\n      <th></th>\n    </tr>\n  </thead>\n  <tbody>\n    <tr>\n      <th>!dentity Crisis?</th>\n      <td>52.60</td>\n      <td>9</td>\n      <td>5.844444</td>\n    </tr>\n    <tr>\n      <th>#MyLife</th>\n      <td>40.00</td>\n      <td>7</td>\n      <td>5.714286</td>\n    </tr>\n    <tr>\n      <th>&amp;Cetera</th>\n      <td>226.50</td>\n      <td>31</td>\n      <td>7.306452</td>\n    </tr>\n    <tr>\n      <th>'65: Squad-Level Combat in the Jungles of Vietnam</th>\n      <td>304.50</td>\n      <td>40</td>\n      <td>7.612500</td>\n    </tr>\n    <tr>\n      <th>'CA' Tactical Naval Warfare in the Pacific, 1941-45</th>\n      <td>167.00</td>\n      <td>37</td>\n      <td>4.513514</td>\n    </tr>\n    <tr>\n      <th>...</th>\n      <td>...</td>\n      <td>...</td>\n      <td>...</td>\n    </tr>\n    <tr>\n      <th>なつめも (Natsumemo)</th>\n      <td>142.50</td>\n      <td>18</td>\n      <td>7.916667</td>\n    </tr>\n    <tr>\n      <th>ひとひら (Hitohira)</th>\n      <td>74.00</td>\n      <td>12</td>\n      <td>6.166667</td>\n    </tr>\n    <tr>\n      <th>カマクラコレクション (Kamakura Collection)</th>\n      <td>30.00</td>\n      <td>4</td>\n      <td>7.500000</td>\n    </tr>\n    <tr>\n      <th>ボブジテン (Bob Jiten)</th>\n      <td>44.00</td>\n      <td>6</td>\n      <td>7.333333</td>\n    </tr>\n    <tr>\n      <th>猿道 (Monkey Road)</th>\n      <td>52.06</td>\n      <td>9</td>\n      <td>5.784444</td>\n    </tr>\n  </tbody>\n</table>\n<p>23264 rows × 3 columns</p>\n</div>"
     },
     "execution_count": 13,
     "metadata": {},
     "output_type": "execute_result"
    }
   ],
   "source": [
    "full_table=pd.merge(left, table3, on='title')\n",
    "full_table"
   ],
   "metadata": {
    "collapsed": false,
    "ExecuteTime": {
     "end_time": "2023-11-03T19:19:50.548904800Z",
     "start_time": "2023-11-03T19:19:50.194333700Z"
    }
   },
   "id": "cf1116f0659b6aa"
  },
  {
   "cell_type": "code",
   "execution_count": 14,
   "outputs": [
    {
     "data": {
      "text/plain": "                                                    rating_sum  rating_number  \\\ntitle                                                                           \n!dentity Crisis?                                         52.60              9   \n#MyLife                                                  40.00              7   \n&Cetera                                                 226.50             31   \n'65: Squad-Level Combat in the Jungles of Vietnam       304.50             40   \n'CA' Tactical Naval Warfare in the Pacific, 194...      167.00             37   \n...                                                        ...            ...   \nなつめも (Natsumemo)                                        142.50             18   \nひとひら (Hitohira)                                          74.00             12   \nカマクラコレクション (Kamakura Collection)                         30.00              4   \nボブジテン (Bob Jiten)                                        44.00              6   \n猿道 (Monkey Road)                                         52.06              9   \n\n                                                    rating_average  \ntitle                                                               \n!dentity Crisis?                                          5.844444  \n#MyLife                                                   5.714286  \n&Cetera                                                   7.306452  \n'65: Squad-Level Combat in the Jungles of Vietnam         7.612500  \n'CA' Tactical Naval Warfare in the Pacific, 194...        4.513514  \n...                                                            ...  \nなつめも (Natsumemo)                                          7.916667  \nひとひら (Hitohira)                                           6.166667  \nカマクラコレクション (Kamakura Collection)                          7.500000  \nボブジテン (Bob Jiten)                                         7.333333  \n猿道 (Monkey Road)                                          5.784444  \n\n[23264 rows x 3 columns]",
      "text/html": "<div>\n<style scoped>\n    .dataframe tbody tr th:only-of-type {\n        vertical-align: middle;\n    }\n\n    .dataframe tbody tr th {\n        vertical-align: top;\n    }\n\n    .dataframe thead th {\n        text-align: right;\n    }\n</style>\n<table border=\"1\" class=\"dataframe\">\n  <thead>\n    <tr style=\"text-align: right;\">\n      <th></th>\n      <th>rating_sum</th>\n      <th>rating_number</th>\n      <th>rating_average</th>\n    </tr>\n    <tr>\n      <th>title</th>\n      <th></th>\n      <th></th>\n      <th></th>\n    </tr>\n  </thead>\n  <tbody>\n    <tr>\n      <th>!dentity Crisis?</th>\n      <td>52.60</td>\n      <td>9</td>\n      <td>5.844444</td>\n    </tr>\n    <tr>\n      <th>#MyLife</th>\n      <td>40.00</td>\n      <td>7</td>\n      <td>5.714286</td>\n    </tr>\n    <tr>\n      <th>&amp;Cetera</th>\n      <td>226.50</td>\n      <td>31</td>\n      <td>7.306452</td>\n    </tr>\n    <tr>\n      <th>'65: Squad-Level Combat in the Jungles of Vietnam</th>\n      <td>304.50</td>\n      <td>40</td>\n      <td>7.612500</td>\n    </tr>\n    <tr>\n      <th>'CA' Tactical Naval Warfare in the Pacific, 1941-45</th>\n      <td>167.00</td>\n      <td>37</td>\n      <td>4.513514</td>\n    </tr>\n    <tr>\n      <th>...</th>\n      <td>...</td>\n      <td>...</td>\n      <td>...</td>\n    </tr>\n    <tr>\n      <th>なつめも (Natsumemo)</th>\n      <td>142.50</td>\n      <td>18</td>\n      <td>7.916667</td>\n    </tr>\n    <tr>\n      <th>ひとひら (Hitohira)</th>\n      <td>74.00</td>\n      <td>12</td>\n      <td>6.166667</td>\n    </tr>\n    <tr>\n      <th>カマクラコレクション (Kamakura Collection)</th>\n      <td>30.00</td>\n      <td>4</td>\n      <td>7.500000</td>\n    </tr>\n    <tr>\n      <th>ボブジテン (Bob Jiten)</th>\n      <td>44.00</td>\n      <td>6</td>\n      <td>7.333333</td>\n    </tr>\n    <tr>\n      <th>猿道 (Monkey Road)</th>\n      <td>52.06</td>\n      <td>9</td>\n      <td>5.784444</td>\n    </tr>\n  </tbody>\n</table>\n<p>23264 rows × 3 columns</p>\n</div>"
     },
     "execution_count": 14,
     "metadata": {},
     "output_type": "execute_result"
    }
   ],
   "source": [
    "full_table.rename(columns={'rating_x': 'rating_sum', 'count': 'rating_number', 'rating_y': 'rating_average'}, inplace=True)\n",
    "full_table"
   ],
   "metadata": {
    "collapsed": false,
    "ExecuteTime": {
     "end_time": "2023-11-03T19:19:50.551379500Z",
     "start_time": "2023-11-03T19:19:50.252469400Z"
    }
   },
   "id": "e8e0812344f469be"
  },
  {
   "cell_type": "code",
   "execution_count": 15,
   "outputs": [
    {
     "data": {
      "text/plain": "30.382264442916092"
     },
     "execution_count": 15,
     "metadata": {},
     "output_type": "execute_result"
    }
   ],
   "source": [
    "prior_weight=full_table['rating_number'].mean()\n",
    "prior_weight"
   ],
   "metadata": {
    "collapsed": false,
    "ExecuteTime": {
     "end_time": "2023-11-03T19:19:50.608028900Z",
     "start_time": "2023-11-03T19:19:50.278895900Z"
    }
   },
   "id": "729e7d1adaf436f2"
  },
  {
   "cell_type": "code",
   "execution_count": 16,
   "outputs": [
    {
     "data": {
      "text/plain": "6.119832661544632"
     },
     "execution_count": 16,
     "metadata": {},
     "output_type": "execute_result"
    }
   ],
   "source": [
    "prior_mean= full_table['rating_average'].mean()\n",
    "prior_mean"
   ],
   "metadata": {
    "collapsed": false,
    "ExecuteTime": {
     "end_time": "2023-11-03T19:19:50.610028500Z",
     "start_time": "2023-11-03T19:19:50.298025900Z"
    }
   },
   "id": "bcb6e99bc7dce339"
  },
  {
   "cell_type": "markdown",
   "source": [
    "## The full rating table\n",
    "- We need a table which shows both the average rating and the bayesian average rating"
   ],
   "metadata": {
    "collapsed": false
   },
   "id": "8616586e8c0caed2"
  },
  {
   "cell_type": "code",
   "execution_count": 18,
   "outputs": [
    {
     "ename": "SyntaxError",
     "evalue": "invalid syntax. Perhaps you forgot a comma? (function.py, line 17)",
     "output_type": "error",
     "traceback": [
      "Traceback \u001B[1;36m(most recent call last)\u001B[0m:\n",
      "\u001B[0m  File \u001B[0;32m~\\AppData\\Local\\Programs\\Python\\Python312\\Lib\\site-packages\\IPython\\core\\interactiveshell.py:3526\u001B[0m in \u001B[0;35mrun_code\u001B[0m\n    exec(code_obj, self.user_global_ns, self.user_ns)\u001B[0m\n",
      "\u001B[1;36m  Cell \u001B[1;32mIn[18], line 1\u001B[1;36m\n\u001B[1;33m    from Board_Game_Project.function import Bayesian_average_funct\u001B[1;36m\n",
      "\u001B[1;36m  File \u001B[1;32mC:\\GitHub\\dscoding-projects\\chi.hoang\\Board_Game_Project\\function.py:17\u001B[1;36m\u001B[0m\n\u001B[1;33m    bins=20, alpha=0.5\u001B[0m\n\u001B[1;37m                   ^\u001B[0m\n\u001B[1;31mSyntaxError\u001B[0m\u001B[1;31m:\u001B[0m invalid syntax. Perhaps you forgot a comma?\n"
     ]
    }
   ],
   "source": [
    "from Board_Game_Project.function import Bayesian_average_funct"
   ],
   "metadata": {
    "collapsed": false,
    "ExecuteTime": {
     "end_time": "2023-11-03T19:25:09.814174200Z",
     "start_time": "2023-11-03T19:25:09.750412800Z"
    }
   },
   "id": "7ccafb1c3747c1c3"
  },
  {
   "cell_type": "code",
   "execution_count": 19,
   "outputs": [
    {
     "data": {
      "text/plain": "                                                    rating_sum  rating_number  \\\ntitle                                                                           \n!dentity Crisis?                                         52.60              9   \n#MyLife                                                  40.00              7   \n&Cetera                                                 226.50             31   \n'65: Squad-Level Combat in the Jungles of Vietnam       304.50             40   \n'CA' Tactical Naval Warfare in the Pacific, 194...      167.00             37   \n...                                                        ...            ...   \nなつめも (Natsumemo)                                        142.50             18   \nひとひら (Hitohira)                                          74.00             12   \nカマクラコレクション (Kamakura Collection)                         30.00              4   \nボブジテン (Bob Jiten)                                        44.00              6   \n猿道 (Monkey Road)                                         52.06              9   \n\n                                                    rating_average  \\\ntitle                                                                \n!dentity Crisis?                                          5.844444   \n#MyLife                                                   5.714286   \n&Cetera                                                   7.306452   \n'65: Squad-Level Combat in the Jungles of Vietnam         7.612500   \n'CA' Tactical Naval Warfare in the Pacific, 194...        4.513514   \n...                                                            ...   \nなつめも (Natsumemo)                                          7.916667   \nひとひら (Hitohira)                                           6.166667   \nカマクラコレクション (Kamakura Collection)                          7.500000   \nボブジテン (Bob Jiten)                                         7.333333   \n猿道 (Monkey Road)                                          5.784444   \n\n                                                    bayesian_average  \ntitle                                                                 \n!dentity Crisis?                                            6.056898  \n#MyLife                                                     6.043892  \n&Cetera                                                     6.719113  \n'65: Squad-Level Combat in the Jungles of Vietnam           6.968153  \n'CA' Tactical Naval Warfare in the Pacific, 194...          5.237793  \n...                                                              ...  \nなつめも (Natsumemo)                                            6.788322  \nひとひら (Hitohira)                                             6.133093  \nカマクラコレクション (Kamakura Collection)                            6.280400  \nボブジテン (Bob Jiten)                                           6.319958  \n猿道 (Monkey Road)                                            6.043187  \n\n[23264 rows x 4 columns]",
      "text/html": "<div>\n<style scoped>\n    .dataframe tbody tr th:only-of-type {\n        vertical-align: middle;\n    }\n\n    .dataframe tbody tr th {\n        vertical-align: top;\n    }\n\n    .dataframe thead th {\n        text-align: right;\n    }\n</style>\n<table border=\"1\" class=\"dataframe\">\n  <thead>\n    <tr style=\"text-align: right;\">\n      <th></th>\n      <th>rating_sum</th>\n      <th>rating_number</th>\n      <th>rating_average</th>\n      <th>bayesian_average</th>\n    </tr>\n    <tr>\n      <th>title</th>\n      <th></th>\n      <th></th>\n      <th></th>\n      <th></th>\n    </tr>\n  </thead>\n  <tbody>\n    <tr>\n      <th>!dentity Crisis?</th>\n      <td>52.60</td>\n      <td>9</td>\n      <td>5.844444</td>\n      <td>6.056898</td>\n    </tr>\n    <tr>\n      <th>#MyLife</th>\n      <td>40.00</td>\n      <td>7</td>\n      <td>5.714286</td>\n      <td>6.043892</td>\n    </tr>\n    <tr>\n      <th>&amp;Cetera</th>\n      <td>226.50</td>\n      <td>31</td>\n      <td>7.306452</td>\n      <td>6.719113</td>\n    </tr>\n    <tr>\n      <th>'65: Squad-Level Combat in the Jungles of Vietnam</th>\n      <td>304.50</td>\n      <td>40</td>\n      <td>7.612500</td>\n      <td>6.968153</td>\n    </tr>\n    <tr>\n      <th>'CA' Tactical Naval Warfare in the Pacific, 1941-45</th>\n      <td>167.00</td>\n      <td>37</td>\n      <td>4.513514</td>\n      <td>5.237793</td>\n    </tr>\n    <tr>\n      <th>...</th>\n      <td>...</td>\n      <td>...</td>\n      <td>...</td>\n      <td>...</td>\n    </tr>\n    <tr>\n      <th>なつめも (Natsumemo)</th>\n      <td>142.50</td>\n      <td>18</td>\n      <td>7.916667</td>\n      <td>6.788322</td>\n    </tr>\n    <tr>\n      <th>ひとひら (Hitohira)</th>\n      <td>74.00</td>\n      <td>12</td>\n      <td>6.166667</td>\n      <td>6.133093</td>\n    </tr>\n    <tr>\n      <th>カマクラコレクション (Kamakura Collection)</th>\n      <td>30.00</td>\n      <td>4</td>\n      <td>7.500000</td>\n      <td>6.280400</td>\n    </tr>\n    <tr>\n      <th>ボブジテン (Bob Jiten)</th>\n      <td>44.00</td>\n      <td>6</td>\n      <td>7.333333</td>\n      <td>6.319958</td>\n    </tr>\n    <tr>\n      <th>猿道 (Monkey Road)</th>\n      <td>52.06</td>\n      <td>9</td>\n      <td>5.784444</td>\n      <td>6.043187</td>\n    </tr>\n  </tbody>\n</table>\n<p>23264 rows × 4 columns</p>\n</div>"
     },
     "execution_count": 19,
     "metadata": {},
     "output_type": "execute_result"
    }
   ],
   "source": [
    "full_table['bayesian_average'] = full_table.apply(lambda row: Bayesian_average_funct(row),axis=1)\n",
    "full_table"
   ],
   "metadata": {
    "collapsed": false,
    "ExecuteTime": {
     "end_time": "2023-11-03T19:25:23.793239800Z",
     "start_time": "2023-11-03T19:25:23.430310700Z"
    }
   },
   "id": "289561c345a851a8"
  }
 ],
 "metadata": {
  "kernelspec": {
   "display_name": "Python 3",
   "language": "python",
   "name": "python3"
  },
  "language_info": {
   "codemirror_mode": {
    "name": "ipython",
    "version": 2
   },
   "file_extension": ".py",
   "mimetype": "text/x-python",
   "name": "python",
   "nbconvert_exporter": "python",
   "pygments_lexer": "ipython2",
   "version": "2.7.6"
  }
 },
 "nbformat": 4,
 "nbformat_minor": 5
}
