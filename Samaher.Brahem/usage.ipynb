{
 "cells": [
  {
   "cell_type": "markdown",
   "metadata": {},
   "source": [
    "## Database Connection"
   ]
  },
  {
   "cell_type": "markdown",
   "metadata": {},
   "source": [
    "Defining a class to connect to the database from Postgres Server using psycopg2 and pandas.\n",
    "The queries extract only the needed data for the project."
   ]
  },
  {
   "cell_type": "code",
   "execution_count": null,
   "metadata": {},
   "outputs": [],
   "source": [
    "import psycopg2\n",
    "import pandas as pd\n",
    "\n",
    "class DataManager:\n",
    "    def __init__(self, dbname, user, password, host, port):\n",
    "        self.conn = psycopg2.connect(\n",
    "            dbname=dbname,\n",
    "            user=user,\n",
    "            password=password,\n",
    "            host=host,\n",
    "            port=port\n",
    "        )\n",
    "        self.cursor = self.conn.cursor()\n",
    "\n",
    "    def execute_query(self, query):\n",
    "        self.cursor.execute(query)\n",
    "        return self.cursor.fetchall()\n",
    "\n",
    "    def close_connection(self):\n",
    "        self.cursor.close()\n",
    "        self.conn.close()\n",
    "\n",
    "    def get_movie_release_years(self):\n",
    "        query = \"SELECT official_title, year FROM imdb.movie;\"\n",
    "        return pd.DataFrame(self.execute_query(query), columns=['official_title', 'year'])\n",
    "\n",
    "    def get_movie_genres(self):\n",
    "        query = \"SELECT movie.official_title, genre.genre FROM imdb.genre LEFT JOIN imdb.movie ON movie.id = genre.movie;\"\n",
    "        return pd.DataFrame(self.execute_query(query), columns=['official_title', 'genre'])\n",
    "\n",
    "    def get_producing_countries(self):\n",
    "        query = \"SELECT movie.official_title, produced.country FROM imdb.produced LEFT JOIN imdb.movie ON produced.movie = movie.id;\"\n",
    "        return pd.DataFrame(self.execute_query(query), columns=['official_title', 'country'])\n",
    "\n",
    "    def get_rating_info(self):\n",
    "        query = \"SELECT movie.official_title, rating.votes, rating.score, rating.scale FROM imdb.movie LEFT JOIN imdb.rating ON movie.id = rating.movie;\"\n",
    "        return pd.DataFrame(self.execute_query(query), columns=['official_title', 'votes', 'score', 'scale'])\n",
    "\n",
    "    def get_crew_contributions(self):\n",
    "        query = \"SELECT movie.official_title, person.given_name, crew.p_role FROM imdb.crew LEFT JOIN imdb.movie ON crew.movie = movie.id LEFT JOIN imdb.person ON crew.person = person.id;\"\n",
    "        return pd.DataFrame(self.execute_query(query), columns=['official_title', 'given_name', 'p_role'])\n"
   ]
  },
  {
   "cell_type": "markdown",
   "metadata": {},
   "source": [
    "Connecting to the database:"
   ]
  },
  {
   "cell_type": "code",
   "execution_count": null,
   "metadata": {},
   "outputs": [],
   "source": [
    "from data import DataManager\n",
    "\n",
    "imdb_data = DataManager(\n",
    "    dbname='imdb',\n",
    "    user='samaher',\n",
    "    password=\"CodingIsFun++\",\n",
    "    host='localhost',\n",
    "    port='5432'\n",
    ")"
   ]
  },
  {
   "cell_type": "markdown",
   "metadata": {},
   "source": [
    "Checking if the connection is working fine:"
   ]
  },
  {
   "cell_type": "code",
   "execution_count": null,
   "metadata": {},
   "outputs": [],
   "source": [
    "# Get data for movie release years\n",
    "release_years_data = imdb_data.get_movie_release_years()\n",
    "print(\"Movie Release Years:\")\n",
    "print(release_years_data)"
   ]
  },
  {
   "cell_type": "code",
   "execution_count": null,
   "metadata": {},
   "outputs": [],
   "source": [
    "# Get data for movie genres\n",
    "genre_data = imdb_data.get_movie_genres()\n",
    "print(\"\\nMovie Genres:\")\n",
    "print(genre_data)"
   ]
  },
  {
   "cell_type": "markdown",
   "metadata": {},
   "source": [
    "Closing the connection:"
   ]
  },
  {
   "cell_type": "code",
   "execution_count": null,
   "metadata": {},
   "outputs": [],
   "source": [
    "imdb_data.close_connection()"
   ]
  }
 ],
 "metadata": {
  "kernelspec": {
   "display_name": ".venv",
   "language": "python",
   "name": "python3"
  },
  "language_info": {
   "codemirror_mode": {
    "name": "ipython",
    "version": 3
   },
   "file_extension": ".py",
   "mimetype": "text/x-python",
   "name": "python",
   "nbconvert_exporter": "python",
   "pygments_lexer": "ipython3",
   "version": "3.12.0"
  }
 },
 "nbformat": 4,
 "nbformat_minor": 2
}
