{
 "cells": [
  {
   "cell_type": "code",
   "execution_count": null,
   "metadata": {},
   "outputs": [],
   "source": [
    "from data_manager import DataManager\n",
    "\n",
    "imdb_data = DataManager(\n",
    "    dbname='imdb',\n",
    "    user='samaher',\n",
    "    password=\"CodingIsFun++\",\n",
    "    host='localhost',\n",
    "    port='5432'\n",
    ")\n",
    "\n",
    "# Get the movie data from the database\n",
    "movie_data = imdb_data.get_movie()"
   ]
  },
  {
   "cell_type": "code",
   "execution_count": null,
   "metadata": {},
   "outputs": [],
   "source": [
    "movie_data"
   ]
  },
  {
   "cell_type": "code",
   "execution_count": null,
   "metadata": {},
   "outputs": [],
   "source": [
    "import numpy as np\n",
    "import pandas as pd\n",
    "import random \n"
   ]
  },
  {
   "cell_type": "code",
   "execution_count": null,
   "metadata": {},
   "outputs": [],
   "source": [
    "def find_highest_voted_movie(movie_df):\n",
    "    max_votes_index = np.argmax(movie_df['votes'].values)\n",
    "    highest_voted_movie = movie_df.loc[max_votes_index, 'official_title']\n",
    "    return highest_voted_movie"
   ]
  },
  {
   "cell_type": "code",
   "execution_count": null,
   "metadata": {},
   "outputs": [],
   "source": [
    "# Test the function with the provided movie_data\n",
    "highest_voted = find_highest_voted_movie(movie_data)\n",
    "print(\"The movie with the highest number of votes is:\", highest_voted)"
   ]
  },
  {
   "cell_type": "code",
   "execution_count": null,
   "metadata": {},
   "outputs": [],
   "source": [
    "def generate_question(row, desired_difficulty, question_type, correct_answer_column):\n",
    "    official_title = row['official_title']\n",
    "    correct_answer = row[correct_answer_column]\n",
    "\n",
    "    # Determining difficulty level \n",
    "    year = int(row['year']) \n",
    "    votes = int(row['votes'])\n",
    "    difficulty_level = determine_difficulty_level(year, votes)\n",
    "\n",
    "    # Checking if the difficulty level matches the desired difficulty\n",
    "    if difficulty_level == desired_difficulty:\n",
    "        \n",
    "        # Getting unique values excluding the correct answer\n",
    "        other_options = list(set(movie_data[correct_answer_column].unique()))\n",
    "        other_options.remove(correct_answer)  # Removing the correct answer\n",
    "\n",
    "        # Selecting 3 more random incorrect options\n",
    "        all_options = [correct_answer] + random.sample(other_options, 3)\n",
    "\n",
    "        # Shuffling the options to randomize their order\n",
    "        random.shuffle(all_options)\n",
    "\n",
    "        # Mapping options to letters (A, B, C, D)\n",
    "        options_mapping = {chr(ord('A') + i): option for i, option in enumerate(all_options)}\n",
    "\n",
    "        # Constructing the question dictionary\n",
    "        question_dict = {\n",
    "            'question': f'{question_type} || {official_title} ||',\n",
    "            'options': options_mapping,\n",
    "            'correct_answer': chr(ord('A') + other_options.index(correct_answer)),\n",
    "            'difficulty_level': difficulty_level\n",
    "        }\n",
    "\n",
    "        return question_dict\n"
   ]
  },
  {
   "cell_type": "code",
   "execution_count": null,
   "metadata": {},
   "outputs": [],
   "source": [
    "def quiz_game(data_frame=None):\n",
    "    if data_frame is None:\n",
    "        # If no dataframe is provided, we'll movie_data as default\n",
    "        data_frame = movie_data\n",
    "\n",
    "    difficulty_levels = ['easy', 'medium', 'hard']\n",
    "    total_score = 0\n",
    "    used_questions = []\n",
    "\n",
    "    # Getting user input for difficulty level\n",
    "    user_difficulty = input(\"Choosing a difficulty level (easy, medium, hard): \").lower()\n",
    "\n",
    "    # Validating user input\n",
    "    while user_difficulty not in difficulty_levels:\n",
    "        print(\"Invalid difficulty level. Please choose from: easy, medium, hard\")\n",
    "        user_difficulty = input(\"Choosing a difficulty level (easy, medium, hard): \").lower()\n",
    "\n",
    "    # List of question generators with parameters for different question types\n",
    "    question_generators = [\n",
    "        {'generator': generate_question, 'params': ('When was this movie released? ==> ', 'year')},\n",
    "        {'generator': generate_question, 'params': ('Where was this movie produced? ==> ', 'country')}\n",
    "    ]\n",
    "\n",
    "    # Playing 10 questions, randomly choosing from different types of questions\n",
    "    for i in range(10):\n",
    "        while True:\n",
    "            # Randomly select a question generator with its respective parameters\n",
    "            question_info = None\n",
    "            generator_info = random.choice(question_generators)\n",
    "            question_type, correct_answer_column = generator_info['params']\n",
    "\n",
    "            row_index = random.randint(0, len(data_frame) - 1)\n",
    "            row = data_frame.iloc[row_index]\n",
    "\n",
    "            # Generating the question with the desired difficulty level using the selected generator\n",
    "            question_info = generator_info['generator'](row, user_difficulty, question_type, correct_answer_column)\n",
    "\n",
    "            # Making sure used questions do not appear again in the same quiz\n",
    "            if question_info is not None and question_info['question'] not in used_questions:\n",
    "                used_questions.append(question_info['question'])\n",
    "                break\n",
    "\n",
    "        # Printing the question information\n",
    "        print(question_info['question'])\n",
    "\n",
    "        # Printing options with letters (A, B, C, D)\n",
    "        for letter, option in question_info['options'].items():\n",
    "            print(f\"{letter}. {option}\")\n",
    "\n",
    "        # Getting user's choice with validation\n",
    "        user_choice = None\n",
    "        while user_choice not in ['A', 'B', 'C', 'D']:\n",
    "            user_choice = input(\"Entering your choice (A, B, C, D): \").upper()\n",
    "\n",
    "            if user_choice not in ['A', 'B', 'C', 'D']:\n",
    "                print(\"You typed a wrong letter. Please type again.\")\n",
    "\n",
    "        # Checking if the user's choice is correct\n",
    "        is_correct = user_choice == question_info['correct_answer']\n",
    "\n",
    "        # Calculating and displaying the score\n",
    "        score = calculate_score(question_info['difficulty_level'], is_correct)\n",
    "        total_score += score\n",
    "\n",
    "        # Providing feedback on the answer\n",
    "        if is_correct:\n",
    "            print(\"Correct!\")\n",
    "        else:\n",
    "            print(f\"Wrong! The correct answer is: {question_info['correct_answer']}\")\n",
    "\n",
    "        print(f\"Your score for this question: {score}\")\n",
    "        print(\"----------------------------\")\n",
    "\n",
    "    print(f\"Total score: {total_score}\")\n"
   ]
  },
  {
   "cell_type": "code",
   "execution_count": null,
   "metadata": {},
   "outputs": [],
   "source": [
    "imdb_data.close_connection()"
   ]
  },
  {
   "cell_type": "code",
   "execution_count": null,
   "metadata": {},
   "outputs": [],
   "source": [
    "quiz_game()"
   ]
  }
 ],
 "metadata": {
  "kernelspec": {
   "display_name": ".venv",
   "language": "python",
   "name": "python3"
  },
  "language_info": {
   "codemirror_mode": {
    "name": "ipython",
    "version": 3
   },
   "file_extension": ".py",
   "mimetype": "text/x-python",
   "name": "python",
   "nbconvert_exporter": "python",
   "pygments_lexer": "ipython3",
   "version": "3.12.0"
  }
 },
 "nbformat": 4,
 "nbformat_minor": 2
}
