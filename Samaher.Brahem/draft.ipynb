{
 "cells": [
  {
   "cell_type": "markdown",
   "metadata": {},
   "source": [
    "## Database Connection"
   ]
  },
  {
   "cell_type": "markdown",
   "metadata": {},
   "source": [
    "Connecting to the database:"
   ]
  },
  {
   "cell_type": "code",
   "execution_count": 1,
   "metadata": {},
   "outputs": [],
   "source": [
    "from data import DataManager\n",
    "\n",
    "imdb_data = DataManager(\n",
    "    dbname='imdb',\n",
    "    user='samaher',\n",
    "    password=\"CodingIsFun++\",\n",
    "    host='localhost',\n",
    "    port='5432'\n",
    ")"
   ]
  },
  {
   "cell_type": "markdown",
   "metadata": {},
   "source": [
    "Creating 5 dataframes for the tables I extracted from the database: \n",
    "- movie\n",
    "- genre\n",
    "- prod\n",
    "- rating\n",
    "- crew"
   ]
  },
  {
   "cell_type": "code",
   "execution_count": 2,
   "metadata": {},
   "outputs": [],
   "source": [
    "# Get data from the movie table\n",
    "movie_data = imdb_data.get_movie()\n",
    "\n",
    "# Get data from the genre table\n",
    "genre_data = imdb_data.get_genre()\n",
    "\n",
    "# Get data from the produced table\n",
    "prod_data = imdb_data.get_prod()\n",
    "\n",
    "# Get data from the rating table\n",
    "rating_data = imdb_data.get_rating()\n",
    "\n",
    "# Get data from the crew table\n",
    "crew_data = imdb_data.get_crew()\n"
   ]
  },
  {
   "cell_type": "markdown",
   "metadata": {},
   "source": [
    "I will define the levels of difficulty of the questions based on the popularity of the movies. \n",
    "\n",
    "- easy: 500'000+ votes\n",
    "- medium: 100'000 <= votes < 500'000\n",
    "- hard: votes < 100'000 "
   ]
  },
  {
   "cell_type": "code",
   "execution_count": 3,
   "metadata": {},
   "outputs": [
    {
     "name": "stdout",
     "output_type": "stream",
     "text": [
      "Easy Movies: ['Batman v Superman: Dawn of Justice', 'Interstellar', 'Man of Steel', 'The Dark Knight Rises', 'Inception', 'The Dark Knight', 'The Prestige', 'Batman Begins', 'Memento', 'The Wolf of Wall Street', 'The Revenant', 'Django Unchained', 'Shutter Island', 'The Departed', 'Catch Me If You Can', 'Inglourious Basterds', 'Sin City', 'Kill Bill: Vol. 2', 'Kill Bill: Vol. 1', 'Pulp Fiction', 'Reservoir Dogs', 'Full Metal Jacket', 'The Shining', 'A Clockwork Orange', 'Transformers', 'Shrek', 'Saving Private Ryan', \"Schindler's List\", 'Back to the Future', 'Jurassic Park', 'Indiana Jones and the Last Crusade', 'Raiders of the Lost Ark', 'The Social Network', 'American Beauty', 'Se7en', 'The Usual Suspects', \"One Flew Over the Cuckoo's Nest\"]\n",
      "Medium Movies: ['The Birds', 'Psycho', 'North by Northwest', 'Vertigo', 'Rear Window', 'Dial M for Murder', 'Strangers on a Train', 'Rope', 'Citizen Kane', 'The Third Man', 'Dunkirk', 'Transcendence', 'Insomnia', 'Dallas Buyers Club', 'Magic Mike', 'Mud', 'The Lincoln Lawyer', 'Tropic Thunder', 'How to Lose a Guy in 10 Days', 'Reign of Fire', 'Contact', 'A Time to Kill', 'Dazed and Confused', 'The Ides of March', 'Orphan', 'The Aviator', 'The Great Gatsby', 'J. Edgar', 'Revolutionary Road', 'Body of Lies', 'Blood Diamond', 'Planet Terror', 'Death Proof', 'Grindhouse', 'Hostel', 'From Dusk Till Dawn', 'The Hateful Eight', 'Jackie Brown', 'Natural Born Killers', 'True Romance', 'Desperado', 'Eyes Wide Shut', 'Barry Lyndon', '2001: A Space Odyssey', 'Dr. Strangelove or: How I Learned to Stop Worrying and Love the Bomb', 'Paths of Glory', 'Spartacus', 'Mission: Impossible - Rogue Nation', 'Jack Reacher', 'Mission: Impossible - Ghost Protocol', 'Mission: Impossible III', 'The Last Samurai', 'Vanilla Sky', 'The Others', 'Mission: Impossible II', 'Mission: Impossible', 'The Mummy', 'Edge of Tomorrow', 'Oblivion', 'Knight and Day', 'Valkyrie', 'War of the Worlds', 'Collateral', 'Austin Powers in Goldmember', 'Minority Report', 'Magnolia', 'Jerry Maguire', 'Interview with the Vampire: The Vampire Chronicles', 'A Few Good Men', 'Rain Man', 'Top Gun', 'Bridge of Spies', 'Jurassic World', 'Transformers: Age of Extinction', 'Lincoln', 'Men in Black 3', 'War Horse', 'The Adventures of Tintin', 'Real Steel', 'Cowboys & Aliens', 'Transformers: Dark of the Moon', 'Super 8', 'True Grit', 'The Lovely Bones', 'Transformers: Revenge of the Fallen', 'Eagle Eye', 'Letters from Iwo Jima', 'Flags of Our Fathers', 'Munich', 'Memoirs of a Geisha', 'The Terminal', 'Men in Black II', 'Band of Brothers', 'Jurassic Park III', 'Artificial Intelligence: AI', 'The Mask of Zorro', 'Deep Impact', 'Men in Black', 'Twister', 'Cape Fear', 'Back to the Future Part III', 'Back to the Future Part II', 'Who Framed Roger Rabbit', 'The Goonies', 'Gremlins', 'Poltergeist', 'E.T. the Extra-Terrestrial', 'Indiana Jones and the Kingdom of the Crystal Skull', 'The Lost World: Jurassic Park', 'Hook', 'Indiana Jones and the Temple of Doom', 'Close Encounters of the Third Kind', 'Jaws', 'Paul', 'The Blues Brothers', 'Captain Phillips', '21', 'Baby Driver', 'Horrible Bosses 2', 'Horrible Bosses', 'The Men Who Stare at Goats', 'Moon', 'Superman Returns', 'K-PAX', 'Pay It Forward', \"A Bug's Life\", 'The Negotiator', 'L.A. Confidential', 'Garden State', 'Along Came Polly', 'Erin Brockovich', 'Man on the Moon', 'Gattaca', 'Big Fish', 'The Virgin Suicides', 'Hercules', 'Mars Attacks!', 'Space Jam', 'Last Action Hero', 'Batman Returns']\n",
      "Hard Movies: ['Family Plot', 'Torn Curtain', 'Marnie', 'The Alfred Hitchcock Hour', 'Alcoa Premiere', 'Alfred Hitchcock Presents', 'Suspicion', 'The Wrong Man', 'The Man Who Knew Too Much', 'The Trouble with Harry', 'To Catch a Thief', 'I Confess', 'Stage Fright', 'Under Capricorn', 'Notorious', 'Lifeboat', \"Lord Camber's Ladies\", 'Memory of the Camps', 'Frontline', 'The Paradine Case', 'Spellbound', 'Watchtower Over Tomorrow', 'The Fighting Generation', 'Aventure malgache', 'Bon Voyage', 'Shadow of a Doubt', 'Saboteur', 'Suspicion', 'Mr. & Mrs. Smith', 'Foreign Correspondent', 'Rebecca', 'Jamaica Inn', 'The Lady Vanishes', 'Young and Innocent', 'Sabotage', 'Secret Agent', 'The 39 Steps', 'The Man Who Knew Too Much', 'Waltzes from Vienna', 'Number Seventeen', 'Rich and Strange', 'Mary', 'The Skin Game', 'Murder!', 'Juno and the Paycock', 'Elstree Calling', 'An Elastic Affair', 'Sound Test for Blackmail', 'Blackmail', 'The Manxman', 'Champagne', 'Easy Virtue', \"The Farmer's Wife\", 'Downhill', 'The Ring', 'The Lodger: A Story of the London Fog', 'The Pleasure Garden', 'Always Tell Your Wife', \"Don't Give Me the Finger\", 'Forever and a Day', \"The Prude's Fall\", 'Die Prinzessin und der Geiger', 'The Passionate Adventure', 'The White Shadow', 'Woman to Woman', \"Orson Welles' The Dreamers\", \"Filming 'The Trial'\", 'The Deep', 'The Golden Honeymoon', 'Vienna', 'Nella terra di Don Chisciotte', 'Mr. Arkadin', 'The Tragedy of Othello: The Moor of Venice', 'Macbeth', 'The Lady from Shanghai', 'Jane Eyre', 'The Magnificent Ambersons', 'Journey Into Fear', 'The Green Goddess', 'Too Much Johnson', 'Moby Dick', 'Around the World with Orson Welles', \"It's All True\", 'Don Quijote de Orson Welles', 'The Spirit of Charles Lindbergh', \"Filming 'Othello'\", 'F for Fake', 'London', 'The Southern Star', 'Treasure Island', 'Falstaff (Chimes at Midnight)', 'Le procès', 'No Exit', 'David e Golia', 'Orson Welles at Large: Portrait of Gina', 'Touch of Evil', 'Three Cases of Murder', 'The Unthinking Lobster', 'Black Magic', 'The Stranger', 'The Hearts of Age', 'Citizen Vader', 'F for favor', 'The Hitchhiker', 'The Big Brass Ring', 'The Way to Santiago', 'The Big Brass Ring', 'The Hearts of Age', 'NBC: The First Fifty Years - A Closer Look', 'Topaz', 'Treasure Island', 'The Bible: In the Beginning...', 'La isla del tesoro', 'Monsieur Verdoux', 'Someone to Love', 'The Transformers: The Movie', 'Gurikku no bouken', 'Where Is Parsifal?', 'Hot Money', 'Slapstick (Of Another Kind)', 'Butterfly', 'Tales of the Klondike', 'History of the World: Part I', 'The Man Who Saw Tomorrow', 'The Greenstone', 'Shogun', 'Tajna Nikole Tesle', 'The Double McGuffin', 'The Muppet Movie', 'The New Media Bible: Book of Genesis', 'Il grande attacco', 'Rime of the Ancient Mariner', 'Some Call It Greed', 'Hot Tomorrows', 'Voyage of the Damned', 'Ein Unbekannter rechnet ab', 'Sutjeska', 'Get to Know Your Rabbit', 'Necromancy', 'Freedom River', 'La décade prodigieuse', 'A Safe Place', 'Malpertuis', 'Is It Always Right to Be Right?', 'Waterloo', 'Catch-22', 'Start the Revolution Without Me', 'The Kremlin Letter', 'Bitka na Neretvi', '12 + 1', 'Kampf um Rom II - Der Verrat', 'Tepepa', 'To Build a Fire', 'Kampf um Rom I', 'House of Cards', 'Oedipus the King', \"I'll Never Forget What's'isname\", 'The Sailor from Gibraltar', 'Casino Royale', 'A Man for All Seasons', 'Paris brûle-t-il?', 'La fabuleuse aventure de Marco Polo', 'The Finest Hours', 'The V.I.P.s', 'Ro.Go.Pa.G.', 'La Fayette', 'King of Kings', 'I tartari', 'Austerlitz', 'Crack in the Mirror', 'High Journey', 'Ferry to Hong Kong', 'Compulsion', 'Les seigneurs de la forêt', 'The Roots of Heaven', 'South Seas Adventure', 'The Vikings', 'The Long, Hot Summer', 'Man in the Shadow', 'Moby Dick', 'Napoléon', 'Trouble in the Glen', \"Si Versailles m'était conté\", \"L'uomo la bestia e la virtù\", 'Return to Glennascaul', \"Trent's Last Case\", 'The Black Rose', 'Prince of Foxes', 'Duel in the Sun', 'Tomorrow Is Forever', 'Follow the Boys', 'Swiss Family Robinson', 'Quay', 'Following', 'Larceny', 'Doodlebug', 'Gold', 'Addicted to Facebook', 'Surfer, Dude', 'Sahara', 'The Rebel', 'Chicano Chariots', 'The Dark Tower', 'Lincoln: Crafted', 'Sing', 'Kubo and the Two Strings', 'Free State of Jones', 'The Sea of Trees', 'Synthesizers', 'The Paperboy', 'Killer Joe', 'Bernie', 'Ghosts of Girlfriends Past', \"Fool's Gold\", 'We Are Marshall', 'Failure to Launch', 'Two for the Money', 'Magnificent Desolation: Walking on the Moon 3D', 'Paparazzi', 'Tiptoes', 'Freedom: A History of Us', 'Frailty', 'Thirteen Conversations About One Thing', 'The Wedding Planner', 'U-571', 'Edtv', 'Making Sandwiches', 'Welcome to Hollywood', 'The Newton Boys', 'Amistad', 'Larger Than Life', 'Lone Star', 'Judgement', 'Submission', 'Scorpion Spring', 'Glory Daze', 'Boys on the Side', 'The Return of the Texas Chainsaw Massacre', 'Angels in the Outfield', \"My Boyfriend's Back\", 'Unsolved Mysteries', 'Fire Chasers', 'Live by Night', 'Before the Flood', 'The Ivory Game', 'Catching the Sun', 'Cowspiracy: The Sustainability Secret', 'Virunga', 'Out of the Furnace', 'Runner Runner', 'Red Riding Hood', 'The 11th Hour', 'Gardener of Eden', 'The Assassination of Richard Nixon', 'The Audition', 'Inception: The Cobol Job', '#15SecondScare', 'Hell Ride', 'Hostel: Part II', \"Freedom's Fury\", 'Daltry Calhoun', 'My Name Is Modesty: A Modesty Blaise Adventure', \"From Dusk Till Dawn 3: The Hangman's Daughter\", 'From Dusk Till Dawn 2: Texas Blood Money', \"God Said, 'Ha!'\", 'Curdled', 'Four Rooms', 'Killing Zoe', 'Siu nin Wong Fei Hung chi: Tit ma lau', 'Past Midnight', \"My Best Friend's Birthday\", 'Kill Bill: The Whole Bloody Affair', 'Reservoir Dogs: Sundance Institute 1991 June Film Lab', 'Scenes from Django Unchained - UK Winner', 'Reservoir Wolves', 'Leonard Cohen: Dance Me to the End of Love', \"She's Funny That Way\", 'Diary of the Dead', 'Sukiyaki Western Django', 'Little Nicky', 'Girl 6', 'Destiny Turns on the Radio', 'Somebody to Love', 'Sleep with Me', 'The Coriolis Effect', 'Eddie Presley', 'Vegetables', \"Killer's Kiss\", 'Fear and Desire', 'Day of the Fight', 'Lolita', 'The Killing', 'The Seafarers', 'Flying Padre', 'Jack Reacher: Never Go Back', 'Ask the Dust', 'Elizabethtown', 'Suspect Zero', 'Shattered Glass', 'Hitting It Hard', 'Narc', 'Without Limits', 'Days of Thunder', 'American Made', 'Rock of Ages', 'Lions for Lambs', 'Aimee Mann: Save Me', 'The Firm', 'Far and Away', 'Born on the Fourth of July', 'Cocktail', 'The Color of Money', 'Legend', 'All the Right Moves', 'Risky Business', \"Losin' It\", 'The Outsiders', 'Taps', 'Endless Love', 'Transformers: The Last Knight', 'Five Came Back', 'Finding Oscar', 'The BFG', 'Auschwitz', 'The Hundred-Foot Journey', \"Don't Say No Until I Finish Talking: The Story of Richard D. Zanuck\", 'Transformers: The Ride - 3D', 'Rising: Rebuilding Ground Zero', 'Hereafter', 'The Pacific', 'Dance with the Devil', 'The Big Bad Heist', 'Spell Your Name', 'Monster House', 'The Legend of Zorro', 'Into the West', 'Voices from the List', 'Burma Bridge Busters', 'Taken', 'Price for Peace', 'Broken Silence', 'We Stand Alone Together', 'Shooting War', 'A Holocaust szemei', \"Animaniacs: Wakko's Wish\", 'The Haunting', 'The Last Days', 'The Lost Children of Berlin', 'The Best of Roger Rabbit', 'Survivors of the Holocaust', 'Balto', 'Casper', \"Yakko's World: An Animaniacs Singalong\", 'The Flintstones', \"I'm Mad\", \"We're Back! A Dinosaur's Story\", 'Trail Mix-Up', 'Tiny Toon Adventures: How I Spent My Vacation', 'An American Tail: Fievel Goes West', 'A Brief History of Time', 'Warner Bros. Celebration of Tradition, June 2, 1990', 'Arachnophobia', 'Gremlins 2: The New Batch', 'Roller Coaster Rabbit', 'Yume', 'Joe Versus the Volcano', 'Always', 'Dad', 'Tummy Trouble', 'The Land Before Time', '*batteries not included', 'Empire of the Sun', \"Three O'Clock High\", 'Innerspace', 'Harry and the Hendersons', 'An American Tail', 'The Money Pit', 'The Color Purple', 'Young Sherlock Holmes', 'Fandango', 'Twilight Zone: The Movie', 'Continental Divide', 'Used Cars', 'I Wanna Hold Your Hand', 'Escape to Nowhere', 'A Timeless Call', 'The Unfinished Journey', 'The Visionary', 'Strokes of Genius', '1941', 'The Sugarland Express', \"Amblin'\", 'Slipstream', 'Firelight', 'Fighter Squad', 'The Last Gun', 'Poltergeist', 'Ace Eli and Rodger of the Skies', 'Your Studio and You', 'Michael Jackson: Liberian Girl', 'Home', 'Beauty Mark', 'Boredom', 'The Library Book', 'The Mascot', 'Jump!', 'The Gift', 'NOW: In the Wings on a World Stage', \"Love's Routine\", 'The Smile Man', 'Saving Norman', 'The Ventriloquist', 'Envelope', 'Spirit of a Denture', 'Safe', 'Xing ying bu li', 'Shakespeare High', 'Father of Invention', 'Fanboys', 'Shrink', 'Hackers Wanted', 'Columbus Day', 'Bernard and Doris', \"Mini's First Time\", 'Mr. Gibb', 'The Sasquatch Gang', 'Beyond the Sea', 'Triggerstreet.com', 'The United States of Leland', 'Uncle Frank', 'Interstate 84', 'The Big Kahuna', 'Swimming with Sharks', 'Albino Alligator', 'Rebel in the Rye', 'Nine Lives', 'Elvis & Nixon', 'Nature Is Speaking', 'At the Top', 'American Masters', 'Old Vic: Tunnels', \"The Organ Grinder's Monkey\", 'Margin Call', 'Casino Jack', 'Telstar: The Joe Meek Story', 'The Applicant', 'Machine Child', 'Fred Claus', 'The Interrogation of Leo and Lisa', 'Edison', 'The Life of David Gale', 'The Tower of Babble', 'The Shipping News', \"Shackleton's Antarctic Adventure\", 'Ordinary Decent Criminal', 'Hurlyburly', 'Midnight in the Garden of Good and Evil', 'Outbreak', 'The Ref', 'Iron Will', 'Consenting Adults', 'Glengarry Glen Ross', 'Henry & June', 'A Show of Force', 'See No Evil, Hear No Evil', 'Working Girl', 'Rocket Gibraltar', 'The Murder of Mary Phagan', 'Heartburn', 'Curmudgeons', 'Harold and Lillian: A Hollywood Love Story', 'A Walk Among the Tombstones', 'Danny DeVito & the Contract', 'Reno 911!: Miami', 'Freedom Writers', 'Relative Strangers', 'Even Money', 'Bye Bye Benjamin', 'Be Cool', 'Camp', 'How High', \"The Caveman's Valentine\", 'Drowning Mona', 'Living Out Loud', 'Out of Sight', 'Feeling Minnesota', 'Matilda', 'Sunset Park', 'Get Shorty', '8 Seconds', 'Reality Bites', 'Hoffa', 'Skin Deep', 'Duplex', 'Death to Smoochy', 'The War of the Roses', 'Throw Momma from the Train', 'The Comedian', 'Wiener-Dog', 'One Direction: Steal My Girl', 'All the Wilderness', 'Seven Minutes to Save the World', 'Hotel Noir', 'Forces of Nature', 'The Lorax', 'Girl Walks Into a Bar', \"Inside the Actor's Workshop\", \"I'm Still Here\", 'When in Rome', 'House Broken', 'Solitary Man', 'Just Add Water', 'Nobel Son', 'The Good Night', 'Deck the Halls', '10 Items or Less', \"My Girlfriend's Abroad\", 'The Oh in Ohio', \"Marilyn Hotchkiss' Ballroom Dancing & Charm School\", 'Christmas in Love', 'Catching Kringle', \"Bad Boy's 10th Anniversary... The Hits\", 'Family of the Year', 'Anything Else', 'Heist', \"What's the Worst That Could Happen?\", 'Screwed', 'Biography', 'The Rainmaker', 'Disney Sing-Along-Songs: Zero to Hero', 'Junior', 'Felony', 'Renaissance Man', \"Look Who's Talking Now\", 'Jack the Bear', \"Other People's Money\", 'Money', 'The Earth Day Special', 'Twins', '2 Live Crew: Yakety Yak', 'Tin Men', 'Ruthless People', 'My Little Pony: The Movie', 'Wise Guys', 'Head Office', 'The Jewel of the Nile', 'Johnny Dangerously', 'Romancing the Stone', 'Ray Parker Jr.: Ghostbusters', 'Terms of Endearment', 'Going Ape!', 'Swap Meet', \"Goin' South\", \"The World's Greatest Lover\", 'The Van', 'Car Wash', 'The Money', 'Deadly Hero', \"Hurry Up, or I'll Be 30\", 'Scalawag', 'Hot Dogs for Gauguin', 'La mortadella', 'Dreams of Glass', 'Mia madre', 'Su re', 'Block-notes di Habemus Papam', 'Habemus Papam', 'Il caimano', 'Te lo leggo negli occhi', 'The Last Customer', \"Il grido d'angoscia dell'uccello predatore (20 tagli d'Aprile)\", 'Zappaterra,', 'La stanza del figlio', 'I diari della Sacher', 'Aprile', 'La seconda volta', 'Caro diario', 'Il portaborse', 'La cosa', 'Palombella rossa', 'Domani accadrà', 'Notte italiana', 'Io sono un autarchico', 'Come parli, frate?', 'La sconfitta', 'Paté de bourgeois', \"Chacun son cinéma ou Ce petit coup au coeur quand la lumière s'éteint et que le film commence\", 'Il giorno della prima di Close Up', \"L'unico paese al mondo\", 'La messa è finita', 'Bianca', \"Sogni d'oro\", 'Ecce bombo', 'Caos calmo', 'Trois vies et une seule mort', 'Padre padrone', 'Killer in Red', 'Youth', 'The Dream', 'Sabbia', 'Rio, Eu Te Amo', 'La grande bellezza', 'Allo specchio', 'This Must Be the Place', 'Napoli 24', \"L'Aquila 2009 - Cinque registi tra le macerie\", 'La partita lenta', 'Il divo - La spettacolare vita di Giulio Andreotti', \"L'amico di famiglia\", \"Le conseguenze dell'amore\", 'La notte lunga', \"L'uomo in più\", \"L'amore non ha confini\", 'Un paradiso', 'Polvere di Napoli', 'Questione di cuore', 'Lascia perdere, Johnny!', 'Tipota', 'Turné', 'Romanzo Siciliano', 'Forever Young', 'Gli ultimi saranno ultimi', 'Dobbiamo parlare', 'Il ragazzo invisibile', 'Il capitale umano', 'La sedia della felicità', 'Tutto tutto niente niente', 'Scialla! (Stai sereno)', 'Una sconfinata giovinezza', 'Happy Family', 'La giusta distanza', 'La terra', \"L'amore ritorna\", 'Ricordati di me', 'A cavallo della tigre', 'Hotel', 'La lingua del santo', 'Denti', 'Magicians', 'The Missing', 'La balia', 'Del perduto amore', 'Mia aioniotita kai mia mera', 'La parola amore esiste', 'I corti italiani', 'Le acrobate', 'Testimone a rischio', 'Marianna Ucrìa', 'Pianese Nunzio, 14 anni a maggio', 'I sfagi tou kokora', 'Le affinità elettive', \"Livers Ain't Cheap\", 'La scuola', 'Un eroe borghese', 'Come due coccodrilli', \"Un'anima divisa in due\", 'La fine è nota', 'Puerto Escondido', 'Americano rosso', 'Italia-Germania 4-3', \"L'aria serena dell'ovest\", 'Rebus', 'Marrakech Express', 'Apartment Zero', 'Via Montenapoleone', 'Salomè', 'La donna delle meraviglie', 'Morte in Vaticano', 'La festa perduta', 'La storia vera della signora dalle camelie', 'Masoch', 'Il bandito dagli occhi azzurri', 'Luci del varietà', 'The King of Ads', 'La voce della luna', 'Intervista', 'Ginger e Fred', 'Alta Società: Rigatoni Barilla', 'Che bel paesaggio: Bitter Campari', 'E la nave va', 'La città delle donne', \"Prova d'orchestra\", 'Il Casanova di Federico Fellini', 'Amarcord', 'Roma', 'I clowns', 'Fellini - Satyricon', 'Histoires extraordinaires', 'Giulietta degli spiriti', '8½', 'Boccaccio 70', 'La dolce vita', 'Le notti di Cabiria', 'Il bidone', 'La strada', \"L'amore in città\", 'I vitelloni', 'Lo sceicco bianco', 'Pasqualino Cammarata... capitano di fregata', 'Sweet Charity', 'Fortunella', 'Il brigante di Tacca del Lupo', 'Cameriera bella presenza offresi...', 'La città si difende', 'Il cammino della speranza', 'Francesco, giullare di Dio', 'Il mulino del Po', 'La città dolente', 'In nome della legge', 'Senza pietà', \"L'amore\", 'Il passatore', 'Il delitto di Giovanni Episcopo', 'Aquila nera', 'Paisà', 'Roma città aperta', \"Chi l'ha visto?\", 'Apparizione', \"L'ultima carrozzella\", \"Campo de' fiori\", 'I cavalieri del deserto', 'Quarta pagina', \"Avanti c'è posto...\", 'Liv', 'Sicilia', 'Eros', 'Lo sguardo di Michelangelo', 'Al di là delle nuvole', 'Noto, mandorli, Vulcano, Stromboli, carnevale', '12 registi per 12 città', 'Kumbha Mela', 'Ritorno a Lisca Bianca', 'Identificazione di una donna', 'Il mistero di Oberwald', 'Professione: reporter', 'Chung Kuo - Cina', 'Zabriskie Point', 'Blowup', 'I tre volti', 'Il deserto rosso', \"L'eclisse\", 'La notte', \"L'avventura\", 'Il grido', 'Le amiche', 'I vinti', 'La signora senza camelie', 'Cronaca di un amore', 'La villa dei mostri', 'La funivia del Faloria', \"L'amorosa menzogna\", 'Superstizione', 'Roma-Montevideo', 'Sette canne, un vestito', 'N.U.', 'Gente del Po', 'Caccia tragica', 'Un pilota ritorna', 'Frenzy']\n"
     ]
    }
   ],
   "source": [
    "import pandas as pd\n",
    "\n",
    "# Creating a dictionary for the difficulty\n",
    "difficulty = {\n",
    "    'easy': [],\n",
    "    'medium': [],\n",
    "    'hard': []\n",
    "}\n",
    "\n",
    "# Categorizing the difficulty level of all movies according to their popularity\n",
    "for index, row in rating_data.iterrows():\n",
    "    try:\n",
    "        votes = int(row['votes'])\n",
    "        category = 'easy' if votes >= 500000 else ('medium' if 100000 <= votes < 500000 else 'hard')\n",
    "        difficulty[category].append(row['official_title'])\n",
    "    except ValueError:\n",
    "        print(f\"Invalid votes value for '{row['official_title']}' at index {index}\") # Just making sure all movies are categorized\n",
    "\n",
    "# Printing the result\n",
    "for level, titles in difficulty.items():\n",
    "    print(f\"{level.capitalize()} Movies:\", titles)\n",
    "\n"
   ]
  },
  {
   "cell_type": "code",
   "execution_count": null,
   "metadata": {},
   "outputs": [],
   "source": [
    "difficulty['easy']"
   ]
  },
  {
   "cell_type": "markdown",
   "metadata": {},
   "source": [
    "I want to check the level of difficulty of a particular movie."
   ]
  },
  {
   "cell_type": "code",
   "execution_count": null,
   "metadata": {},
   "outputs": [],
   "source": [
    "def get_difficulty(movie_title):\n",
    "    for level, titles in difficulty.items():\n",
    "        if movie_title in titles:\n",
    "            return level\n",
    "    return None "
   ]
  },
  {
   "cell_type": "code",
   "execution_count": null,
   "metadata": {},
   "outputs": [],
   "source": [
    "movie_to_check = 'Interstellar'\n",
    "difficulty_level = get_difficulty(movie_to_check)\n",
    "\n",
    "if difficulty_level:\n",
    "    print(f\"The difficulty level of '{movie_to_check}' is: {difficulty_level.capitalize()}\")\n",
    "else:\n",
    "    print(f\"'{movie_to_check}' not found in any difficulty level.\")"
   ]
  },
  {
   "cell_type": "markdown",
   "metadata": {},
   "source": [
    "I will create a question that has the difficulty level 'easy'"
   ]
  },
  {
   "cell_type": "markdown",
   "metadata": {},
   "source": [
    "## Closing the connection:"
   ]
  },
  {
   "cell_type": "code",
   "execution_count": null,
   "metadata": {},
   "outputs": [],
   "source": [
    "imdb_data.close_connection()"
   ]
  }
 ],
 "metadata": {
  "kernelspec": {
   "display_name": ".venv",
   "language": "python",
   "name": "python3"
  },
  "language_info": {
   "codemirror_mode": {
    "name": "ipython",
    "version": 3
   },
   "file_extension": ".py",
   "mimetype": "text/x-python",
   "name": "python",
   "nbconvert_exporter": "python",
   "pygments_lexer": "ipython3",
   "version": "3.12.0"
  }
 },
 "nbformat": 4,
 "nbformat_minor": 2
}
