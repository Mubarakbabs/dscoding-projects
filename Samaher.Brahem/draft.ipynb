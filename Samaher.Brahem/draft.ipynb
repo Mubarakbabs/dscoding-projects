{
 "cells": [
  {
   "cell_type": "markdown",
   "metadata": {},
   "source": [
    "## Database Connection"
   ]
  },
  {
   "cell_type": "markdown",
   "metadata": {},
   "source": [
    "Connecting to the database:"
   ]
  },
  {
   "cell_type": "code",
   "execution_count": 1,
   "metadata": {},
   "outputs": [],
   "source": [
    "from data import DataManager\n",
    "\n",
    "imdb_data = DataManager(\n",
    "    dbname='imdb',\n",
    "    user='samaher',\n",
    "    password=\"CodingIsFun++\",\n",
    "    host='localhost',\n",
    "    port='5432'\n",
    ")"
   ]
  },
  {
   "cell_type": "markdown",
   "metadata": {},
   "source": [
    "Creating 5 dataframes for the tables I extracted from the database: \n",
    "- movie\n",
    "- genre\n",
    "- prod\n",
    "- rating\n",
    "- crew"
   ]
  },
  {
   "cell_type": "code",
   "execution_count": 2,
   "metadata": {},
   "outputs": [],
   "source": [
    "# Get data from the movie table\n",
    "movie_data = imdb_data.get_movie()\n",
    "\n",
    "# Get data from the genre table\n",
    "genre_data = imdb_data.get_genre()\n",
    "\n",
    "# Get data from the produced table\n",
    "prod_data = imdb_data.get_prod()\n",
    "\n",
    "# Get data from the rating table\n",
    "rating_data = imdb_data.get_rating()\n",
    "\n",
    "# Get data from the crew table\n",
    "crew_data = imdb_data.get_crew()\n"
   ]
  },
  {
   "cell_type": "markdown",
   "metadata": {},
   "source": [
    "### Quiz info \n",
    "\n",
    "- questions: list of questions from the table movie\n",
    "- correct answer: the cell in the corresponding row of the column 'year' in the movie table\n",
    "- options: 3 random options from random cells in the column 'year' in the movie table BUT different from the correct answer\n",
    "- level: choose the level of difficulty"
   ]
  },
  {
   "cell_type": "markdown",
   "metadata": {},
   "source": [
    "#### Score\n",
    "\n",
    "The score is calculated this way: \n",
    "wrong answer: 0 points\n",
    "correct answer:\n",
    "- 1 if EASY\n",
    "- 2 if MEDIUM\n",
    "- 3 if HARD"
   ]
  },
  {
   "cell_type": "markdown",
   "metadata": {},
   "source": [
    "#### Difficulty Level\n",
    "\n",
    "- easy: if the movie was released starting from 2010 and has more than 500000 votes\n",
    "- medium: if the movie was released between 1990 and 2010 and has between 100000 abd 500000\n",
    "- hard: if the movie was released before 1990 and has less than 100000 votes"
   ]
  },
  {
   "cell_type": "code",
   "execution_count": 32,
   "metadata": {},
   "outputs": [],
   "source": [
    "def determine_difficulty_level(year, votes):\n",
    "    if (year >= 2010 and votes >= 500000) or (year < 2010 and votes >= 1000000):\n",
    "        return 'easy'\n",
    "    elif 1990 <= year < 2010 and 100000 <= votes < 500000:\n",
    "        return 'medium'\n",
    "    elif year < 1990 and votes < 100000:\n",
    "        return 'hard'\n",
    "    else:\n",
    "        return 'unknown'\n"
   ]
  },
  {
   "cell_type": "code",
   "execution_count": 37,
   "metadata": {},
   "outputs": [
    {
     "name": "stdout",
     "output_type": "stream",
     "text": [
      "When was the movie Hostel released?\n",
      "A. 1951\n",
      "B. 2005\n",
      "C. 1930\n",
      "D. 1952\n",
      "Correct!\n",
      "Your score: 2\n"
     ]
    }
   ],
   "source": [
    "import random\n",
    "\n",
    "def generate_movie_question(row, desired_difficulty):\n",
    "    official_title = row['official_title']\n",
    "    movie_correct_answer = row['year']\n",
    "\n",
    "    # Determining difficulty level based on release year and votes\n",
    "    year = int(row['year'])\n",
    "    votes = int(row['votes'])\n",
    "    difficulty_level = determine_difficulty_level(year, votes)\n",
    "\n",
    "    # Check if the difficulty level matches the desired difficulty\n",
    "    if difficulty_level == desired_difficulty:\n",
    "        # Getting all unique years excluding the correct answer\n",
    "        all_years = list(set(movie_data['year'].unique()))\n",
    "        all_years.remove(movie_correct_answer)  # Removing the correct answer\n",
    "\n",
    "        # Selecting 3 more random incorrect options\n",
    "        movie_options = [movie_correct_answer] + random.sample(all_years, 3)\n",
    "\n",
    "        # Shuffling the options to randomize their order\n",
    "        random.shuffle(movie_options)\n",
    "\n",
    "        # Mapping options to letters (A, B, C, D)\n",
    "        options_mapping = {chr(ord('A') + i): option for i, option in enumerate(movie_options)}\n",
    "\n",
    "        # Constructing the question dictionary\n",
    "        question_dict = {\n",
    "            'question': f'When was the movie {official_title} released?',\n",
    "            'options': options_mapping,\n",
    "            'correct_answer': chr(ord('A') + movie_options.index(movie_correct_answer)),\n",
    "            'difficulty_level': difficulty_level\n",
    "        }\n",
    "\n",
    "        return question_dict\n",
    "    else:\n",
    "        return None  # Return None for questions with undesired difficulty\n",
    "\n",
    "# Update quiz_game to remove the difficulty_level argument\n",
    "def quiz_game():\n",
    "    difficulty_levels = ['easy', 'medium', 'hard']\n",
    "\n",
    "    # Getting user input for difficulty level\n",
    "    user_difficulty = input(\"Choosing a difficulty level (easy, medium, hard): \").lower()\n",
    "\n",
    "    # Validating user input\n",
    "    while user_difficulty not in difficulty_levels:\n",
    "        print(\"Invalid difficulty level. Please choose from: easy, medium, hard\")\n",
    "        user_difficulty = input(\"Choosing a difficulty level (easy, medium, hard): \").lower()\n",
    "\n",
    "    # Generating a random row index\n",
    "    while True:\n",
    "        row_index = random.randint(0, len(movie_data) - 1)\n",
    "        row = movie_data.iloc[row_index]\n",
    "\n",
    "        # Generating the question with the desired difficulty level\n",
    "        question_info = generate_movie_question(row, user_difficulty)\n",
    "\n",
    "        if question_info is not None:  # Check if a valid question is generated\n",
    "            break\n",
    "\n",
    "    # Printing the question information\n",
    "    print(question_info['question'])\n",
    "\n",
    "    # Printing options with letters (A, B, C, D)\n",
    "    for letter, option in question_info['options'].items():\n",
    "        print(f\"{letter}. {option}\")\n",
    "\n",
    "    # Getting user's choice\n",
    "    user_choice = input(\"Entering your choice (A, B, C, D): \").upper()\n",
    "\n",
    "    # Checking if the user's choice is correct\n",
    "    is_correct = user_choice == question_info['correct_answer']\n",
    "\n",
    "    # Calculating and displaying the score\n",
    "    score = calculate_score(question_info['difficulty_level'], is_correct)\n",
    "\n",
    "    # Providing feedback on the answer\n",
    "    if is_correct:\n",
    "        print(\"Correct!\")\n",
    "    else:\n",
    "        print(f\"Wrong! The correct answer is: {question_info['correct_answer']}\")\n",
    "\n",
    "    print(f\"Your score: {score}\")\n",
    "\n",
    "# Calling the quiz_game function to play the game\n",
    "quiz_game()\n"
   ]
  },
  {
   "cell_type": "code",
   "execution_count": 22,
   "metadata": {},
   "outputs": [
    {
     "data": {
      "text/html": [
       "<div>\n",
       "<style scoped>\n",
       "    .dataframe tbody tr th:only-of-type {\n",
       "        vertical-align: middle;\n",
       "    }\n",
       "\n",
       "    .dataframe tbody tr th {\n",
       "        vertical-align: top;\n",
       "    }\n",
       "\n",
       "    .dataframe thead th {\n",
       "        text-align: right;\n",
       "    }\n",
       "</style>\n",
       "<table border=\"1\" class=\"dataframe\">\n",
       "  <thead>\n",
       "    <tr style=\"text-align: right;\">\n",
       "      <th></th>\n",
       "      <th>official_title</th>\n",
       "      <th>year</th>\n",
       "      <th>votes</th>\n",
       "      <th>score</th>\n",
       "      <th>scale</th>\n",
       "    </tr>\n",
       "  </thead>\n",
       "  <tbody>\n",
       "    <tr>\n",
       "      <th>53</th>\n",
       "      <td>Elstree Calling</td>\n",
       "      <td>1930</td>\n",
       "      <td>254</td>\n",
       "      <td>5.8</td>\n",
       "      <td>10</td>\n",
       "    </tr>\n",
       "  </tbody>\n",
       "</table>\n",
       "</div>"
      ],
      "text/plain": [
       "     official_title  year  votes score scale\n",
       "53  Elstree Calling  1930    254   5.8    10"
      ]
     },
     "execution_count": 22,
     "metadata": {},
     "output_type": "execute_result"
    }
   ],
   "source": [
    "check_row = rating_data[rating_data['official_title'] == 'Elstree Calling']\n",
    "check_row"
   ]
  },
  {
   "cell_type": "markdown",
   "metadata": {},
   "source": [
    "## Closing the connection:"
   ]
  },
  {
   "cell_type": "code",
   "execution_count": null,
   "metadata": {},
   "outputs": [],
   "source": [
    "imdb_data.close_connection()"
   ]
  }
 ],
 "metadata": {
  "kernelspec": {
   "display_name": ".venv",
   "language": "python",
   "name": "python3"
  },
  "language_info": {
   "codemirror_mode": {
    "name": "ipython",
    "version": 3
   },
   "file_extension": ".py",
   "mimetype": "text/x-python",
   "name": "python",
   "nbconvert_exporter": "python",
   "pygments_lexer": "ipython3",
   "version": "3.12.0"
  }
 },
 "nbformat": 4,
 "nbformat_minor": 2
}
