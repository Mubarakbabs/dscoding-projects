{
 "cells": [
  {
   "cell_type": "markdown",
   "metadata": {},
   "source": [
    "## Database Connection\n",
    "\n",
    "Connecting to the Database:"
   ]
  },
  {
   "cell_type": "code",
   "execution_count": 1,
   "metadata": {},
   "outputs": [],
   "source": [
    "from data import DataManager\n",
    "\n",
    "imdb_data = DataManager(\n",
    "    dbname='imdb',\n",
    "    user='samaher',\n",
    "    password=\"CodingIsFun++\",\n",
    "    host='localhost',\n",
    "    port='5432'\n",
    ")"
   ]
  },
  {
   "cell_type": "markdown",
   "metadata": {},
   "source": [
    "## Loading the Dataframes\n",
    "\n",
    "I'm using 2 dataframes:\n",
    "1. movie_data\n",
    "2. prod_data"
   ]
  },
  {
   "cell_type": "code",
   "execution_count": 2,
   "metadata": {},
   "outputs": [],
   "source": [
    "# Get data from the movie table\n",
    "movie_data = imdb_data.get_movie()\n",
    "\n",
    "# Get data from the produced table\n",
    "prod_data = imdb_data.get_prod()"
   ]
  },
  {
   "cell_type": "markdown",
   "metadata": {},
   "source": [
    "## Libraries\n",
    "Libraries being used:"
   ]
  },
  {
   "cell_type": "code",
   "execution_count": 8,
   "metadata": {},
   "outputs": [],
   "source": [
    "import random\n",
    "import pandas as pd"
   ]
  },
  {
   "cell_type": "markdown",
   "metadata": {},
   "source": [
    "## Difficulty Level \n",
    "\n",
    "The logic of determining the difficulty level of the quiz is built upon 2 elements:\n",
    "- Recency: The more recent the movie, the easier it is to recognize it. This is determined based on the release date 'year'.\n",
    "- Popularity: The more popular the movie, the easier it is to recognize it. This is determined based on the number of votes that are assigned to the movie on IMDb\n",
    "\n",
    "To make the algorithm more accurate, I added to the 'easy' category, all movies that have more than 1 MILLION votes on IMDb. Those popular movies, in my opinion, should be categorized as 'easy'."
   ]
  },
  {
   "cell_type": "code",
   "execution_count": 3,
   "metadata": {},
   "outputs": [],
   "source": [
    "# function for the difficulty level\n",
    "\n",
    "def determine_difficulty_level(year, votes):\n",
    "    if (year >= 2010 and votes >= 500000) or (year < 2010 and votes >= 1000000):\n",
    "        return 'easy'\n",
    "    elif 1990 <= year < 2010 and 100000 <= votes < 500000:\n",
    "        return 'medium'\n",
    "    elif year < 1990 and votes < 100000:\n",
    "        return 'hard'\n",
    "    else:\n",
    "        return 'unknown'"
   ]
  },
  {
   "cell_type": "markdown",
   "metadata": {},
   "source": [
    "## Score\n",
    "\n",
    "The score is calculated this way: \n",
    "\n",
    "1. wrong answer: 0 points\n",
    "2. correct answer:\n",
    "    - 1 point if EASY\n",
    "    - 2 points if MEDIUM\n",
    "    - 3 points if HARD\n",
    "    "
   ]
  },
  {
   "cell_type": "code",
   "execution_count": 4,
   "metadata": {},
   "outputs": [],
   "source": [
    "# function calculating the score\n",
    "\n",
    "def calculate_score(difficulty_level, is_correct): # is_correct is a boolean variable that represents if the anser given by the user is TRUE or FALSE\n",
    "    if is_correct:\n",
    "        if difficulty_level == 'easy':\n",
    "            return 1\n",
    "        elif difficulty_level == 'medium':\n",
    "            return 2\n",
    "        elif difficulty_level == 'hard':\n",
    "            return 3\n",
    "    else:\n",
    "        return 0\n"
   ]
  },
  {
   "cell_type": "markdown",
   "metadata": {},
   "source": [
    "## Generating Questions + Options"
   ]
  },
  {
   "cell_type": "code",
   "execution_count": 7,
   "metadata": {},
   "outputs": [],
   "source": [
    "def generate_question(row, desired_difficulty, data_frame, question_type, correct_answer_column):\n",
    "    official_title = row['official_title']\n",
    "    correct_answer = row[correct_answer_column]\n",
    "\n",
    "    # Determining difficulty level \n",
    "    year = int(row['year']) \n",
    "    votes = int(row['votes'])\n",
    "    difficulty_level = determine_difficulty_level(year, votes)\n",
    "\n",
    "    # Checking if the difficulty level matches the desired difficulty\n",
    "    if difficulty_level == desired_difficulty:\n",
    "        \n",
    "        # Getting unique values excluding the correct answer\n",
    "        all_answers = list(set(data_frame[correct_answer_column].unique()))\n",
    "        all_answers.remove(correct_answer)  # Removing the correct answer\n",
    "\n",
    "        # Selecting 3 more random incorrect options\n",
    "        other_options = [correct_answer] + random.sample(all_answers, 3)\n",
    "\n",
    "        # Shuffling the options to randomize their order\n",
    "        random.shuffle(other_options)\n",
    "\n",
    "        # Mapping options to letters (A, B, C, D)\n",
    "        options_mapping = {chr(ord('A') + i): option for i, option in enumerate(other_options)}\n",
    "\n",
    "        # Constructing the question dictionary\n",
    "        question_dict = {\n",
    "            'question': f'{question_type} || {official_title} ||',\n",
    "            'options': options_mapping,\n",
    "            'correct_answer': chr(ord('A') + other_options.index(correct_answer)),\n",
    "            'difficulty_level': difficulty_level\n",
    "        }\n",
    "\n",
    "        return question_dict\n"
   ]
  },
  {
   "cell_type": "markdown",
   "metadata": {},
   "source": [
    "## THE Quiz\n",
    "\n",
    "Well, basically, the quiz is composed of:\n",
    "- 10 Questions that go by one by one\n",
    "- For each question, you have 4 options including only ONE correct answer\n",
    "\n",
    "P.S. before starting the quiz you have to pick the desired difficulty level. "
   ]
  },
  {
   "cell_type": "code",
   "execution_count": 9,
   "metadata": {},
   "outputs": [],
   "source": [
    "def quiz_game():\n",
    "    difficulty_levels = ['easy', 'medium', 'hard']\n",
    "    total_score = 0\n",
    "    used_questions = []\n",
    "\n",
    "    # Getting user input for difficulty level\n",
    "    user_difficulty = input(\"Choosing a difficulty level (easy, medium, hard): \").lower()\n",
    "\n",
    "    # Validating user input\n",
    "    while user_difficulty not in difficulty_levels:\n",
    "        print(\"Invalid difficulty level. Please choose from: easy, medium, hard\")\n",
    "        user_difficulty = input(\"Choosing a difficulty level (easy, medium, hard): \").lower()\n",
    "\n",
    "    # List of question generators with parameters for different question types\n",
    "    question_generators = [\n",
    "        {'generator': generate_question, 'params': (movie_data, 'When was this movie released? ==> ', 'year')},\n",
    "        {'generator': generate_question, 'params': (prod_data, 'Where was this movie produced? ==> ', 'country')}\n",
    "    ]\n",
    "\n",
    "    # Playing 10 questions, randomly choosing from different types of questions\n",
    "    for i in range(10):\n",
    "        while True:\n",
    "            # Randomly select a question generator with its respective parameters\n",
    "            question_info = None\n",
    "            generator_info = random.choice(question_generators)\n",
    "            data_frame, question_type, correct_answer_column = generator_info['params']\n",
    "\n",
    "            row_index = random.randint(0, len(data_frame) - 1)\n",
    "            row = data_frame.iloc[row_index]\n",
    "\n",
    "            # Generating the question with the desired difficulty level using the selected generator\n",
    "            question_info = generator_info['generator'](row, user_difficulty, data_frame, question_type, correct_answer_column)\n",
    "\n",
    "            # Making sure used questions do not appear again in the same quiz\n",
    "            if question_info is not None and question_info['question'] not in used_questions:\n",
    "                used_questions.append(question_info['question'])\n",
    "                break\n",
    "\n",
    "        # Printing the question information\n",
    "        print(question_info['question'])\n",
    "\n",
    "        # Printing options with letters (A, B, C, D)\n",
    "        for letter, option in question_info['options'].items():\n",
    "            print(f\"{letter}. {option}\")\n",
    "\n",
    "        # Getting user's choice with validation\n",
    "        user_choice = None\n",
    "        while user_choice not in ['A', 'B', 'C', 'D']:\n",
    "            user_choice = input(\"Entering your choice (A, B, C, D): \").upper()\n",
    "\n",
    "            if user_choice not in ['A', 'B', 'C', 'D']:\n",
    "                print(\"You typed a wrong letter. Please type again.\")\n",
    "\n",
    "        # Checking if the user's choice is correct\n",
    "        is_correct = user_choice == question_info['correct_answer']\n",
    "\n",
    "        # Calculating and displaying the score\n",
    "        score = calculate_score(question_info['difficulty_level'], is_correct)\n",
    "        total_score += score\n",
    "\n",
    "        # Providing feedback on the answer\n",
    "        if is_correct:\n",
    "            print(\"Correct!\")\n",
    "        else:\n",
    "            print(f\"Wrong! The correct answer is: {question_info['correct_answer']}\")\n",
    "\n",
    "        print(f\"Your score for this question: {score}\")\n",
    "        print(\"----------------------------\")\n",
    "\n",
    "    print(f\"Total score: {total_score}\")\n"
   ]
  },
  {
   "cell_type": "markdown",
   "metadata": {},
   "source": [
    "## Checking the Quiz"
   ]
  },
  {
   "cell_type": "code",
   "execution_count": 10,
   "metadata": {},
   "outputs": [
    {
     "name": "stdout",
     "output_type": "stream",
     "text": [
      "Where was this movie produced? ==>  || Batman Begins ||\n",
      "A. CHN\n",
      "B. LIE\n",
      "C. GBR\n",
      "D. NLD\n",
      "Correct!\n",
      "Your score for this question: 1\n",
      "----------------------------\n",
      "When was this movie released? ==>  || Batman v Superman: Dawn of Justice ||\n",
      "A. 2002\n",
      "B. 2014\n",
      "C. 1944\n",
      "D. 2016\n",
      "Correct!\n",
      "Your score for this question: 1\n",
      "----------------------------\n",
      "When was this movie released? ==>  || The Wolf of Wall Street ||\n",
      "A. 1979\n",
      "B. 1997\n",
      "C. 1968\n",
      "D. 2013\n",
      "Correct!\n",
      "Your score for this question: 1\n",
      "----------------------------\n",
      "When was this movie released? ==>  || The Social Network ||\n",
      "A. 1936\n",
      "B. 2010\n",
      "C. 1931\n",
      "D. 1982\n",
      "Correct!\n",
      "Your score for this question: 1\n",
      "----------------------------\n",
      "Where was this movie produced? ==>  || Inception ||\n",
      "A. AUT\n",
      "B. CHN\n",
      "C. GRC\n",
      "D. USA\n",
      "Correct!\n",
      "Your score for this question: 1\n",
      "----------------------------\n",
      "When was this movie released? ==>  || Se7en ||\n",
      "A. 1995\n",
      "B. 1937\n",
      "C. 2011\n",
      "D. 1982\n",
      "Wrong! The correct answer is: A\n",
      "Your score for this question: 0\n",
      "----------------------------\n",
      "Where was this movie produced? ==>  || Se7en ||\n",
      "A. ROU\n",
      "B. NLD\n",
      "C. USA\n",
      "D. CUB\n",
      "Correct!\n",
      "Your score for this question: 1\n",
      "----------------------------\n",
      "Where was this movie produced? ==>  || The Wolf of Wall Street ||\n",
      "A. POL\n",
      "B. USA\n",
      "C. IND\n",
      "D. PRT\n",
      "Correct!\n",
      "Your score for this question: 1\n",
      "----------------------------\n",
      "Where was this movie produced? ==>  || Interstellar ||\n",
      "A. CAN\n",
      "B. HKG\n",
      "C. UKR\n",
      "D. JPN\n",
      "Wrong! The correct answer is: A\n",
      "Your score for this question: 0\n",
      "----------------------------\n",
      "Where was this movie produced? ==>  || Pulp Fiction ||\n",
      "A. CHN\n",
      "B. SVK\n",
      "C. AUS\n",
      "D. USA\n",
      "Wrong! The correct answer is: D\n",
      "Your score for this question: 0\n",
      "----------------------------\n",
      "Total score: 7\n"
     ]
    }
   ],
   "source": [
    "quiz_game()"
   ]
  },
  {
   "cell_type": "code",
   "execution_count": null,
   "metadata": {},
   "outputs": [],
   "source": []
  }
 ],
 "metadata": {
  "kernelspec": {
   "display_name": ".venv",
   "language": "python",
   "name": "python3"
  },
  "language_info": {
   "codemirror_mode": {
    "name": "ipython",
    "version": 3
   },
   "file_extension": ".py",
   "mimetype": "text/x-python",
   "name": "python",
   "nbconvert_exporter": "python",
   "pygments_lexer": "ipython3",
   "version": "3.12.0"
  }
 },
 "nbformat": 4,
 "nbformat_minor": 2
}
