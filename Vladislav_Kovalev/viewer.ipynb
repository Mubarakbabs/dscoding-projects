{
 "cells": [
  {
   "cell_type": "code",
   "execution_count": 14,
   "metadata": {},
   "outputs": [],
   "source": [
    "import subprocess\n",
    "\n",
    "packages = [\n",
    "    \"pandas\",\n",
    "    \"openpyxl\",\n",
    "    \"matplotlib\",\n",
    "    \"numpy\",\n",
    "    \"streamlit\",\n",
    "]\n",
    "\n",
    "for package in packages:\n",
    "    subprocess.call([\"pip\", \"install\", \"--q\", package])"
   ]
  },
  {
   "cell_type": "code",
   "execution_count": 15,
   "metadata": {},
   "outputs": [],
   "source": [
    "import pandas as pd\n",
    "import numpy as np\n",
    "import matplotlib.pyplot as plt"
   ]
  },
  {
   "cell_type": "code",
   "execution_count": 19,
   "metadata": {},
   "outputs": [],
   "source": [
    "dataHotels = pd.read_excel(\"./hotels/hotels.xlsx\")\n",
    "dataGuests = pd.read_excel(\"./hotels/guests.xlsx\")\n",
    "dataPreferences = pd.read_excel(\"./hotels/preferences.xlsx\")"
   ]
  },
  {
   "cell_type": "code",
   "execution_count": null,
   "metadata": {},
   "outputs": [],
   "source": []
  }
 ],
 "metadata": {
  "kernelspec": {
   "display_name": "Python 3",
   "language": "python",
   "name": "python3"
  },
  "language_info": {
   "codemirror_mode": {
    "name": "ipython",
    "version": 3
   },
   "file_extension": ".py",
   "mimetype": "text/x-python",
   "name": "python",
   "nbconvert_exporter": "python",
   "pygments_lexer": "ipython3",
   "version": "3.9.6"
  },
  "orig_nbformat": 4
 },
 "nbformat": 4,
 "nbformat_minor": 2
}
