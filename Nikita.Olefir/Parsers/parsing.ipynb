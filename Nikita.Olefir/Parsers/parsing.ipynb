{
 "cells": [
  {
   "cell_type": "code",
   "execution_count": 2,
   "metadata": {},
   "outputs": [],
   "source": [
    "import requests\n",
    "from bs4 import BeautifulSoup"
   ]
  },
  {
   "cell_type": "code",
   "execution_count": 3,
   "metadata": {},
   "outputs": [],
   "source": [
    "res = requests.get(\"https://chessfox.com/13-different-types-of-chess-openings/#Hypermodern-Openings\")\n",
    "soup = BeautifulSoup(res.text,\"html.parser\")\n",
    "\n"
   ]
  },
  {
   "cell_type": "code",
   "execution_count": 5,
   "metadata": {},
   "outputs": [
    {
     "data": {
      "text/plain": [
       "<ul><li><a href=\"#Open-Games\">Open Games</a></li><li><a href=\"#Semi-Open-Games\">Semi-Open Games</a></li><li><a href=\"#Closed-Games\">Closed Games</a></li><li><a href=\"#Semi-Closed-Games\">Semi-Closed Games</a></li><li><a href=\"#Symmetrical-Openings\">Symmetrical Openings</a></li><li><a href=\"#System-Openings\">Opening Systems</a></li><li><a href=\"#Gambit-Openings\">Gambit Openings</a></li><li><a href=\"#Hypermodern-Openings\">Hypermodern Openings</a></li><li><a href=\"#Classical-Openings\">Classical Openings</a></li><li><a href=\"#Flank-Openings\">Flank Openings</a></li><li><a href=\"#Tactical-Openings\">Tactical Openings</a></li><li><a href=\"#Positional-Openings\">Positional Openings</a></li><li><a href=\"#Reversed-Openings\">Reversed Openings</a></li></ul>"
      ]
     },
     "execution_count": 5,
     "metadata": {},
     "output_type": "execute_result"
    }
   ],
   "source": [
    "soup.find('ul',class_=None, role =None)"
   ]
  },
  {
   "cell_type": "code",
   "execution_count": 7,
   "metadata": {},
   "outputs": [
    {
     "name": "stdout",
     "output_type": "stream",
     "text": [
      "['Open Games', 'Semi-Open Games', 'Closed Games', 'Semi-Closed Games', 'Symmetrical Openings', 'Opening Systems', 'Gambit Openings', 'Hypermodern Openings', 'Classical Openings', 'Flank Openings', 'Tactical Openings', 'Positional Openings', 'Reversed Openings']\n"
     ]
    }
   ],
   "source": [
    "my_ul = soup.find('ul', class_=None, role=None)\n",
    "li_goals =my_ul.find_all('li')\n",
    "goals = []\n",
    "for li_goal in li_goals:    \n",
    "    goals.append(li_goal.   string)\n",
    "print(goals)"
   ]
  },
  {
   "cell_type": "code",
   "execution_count": 8,
   "metadata": {},
   "outputs": [
    {
     "data": {
      "text/plain": [
       "13"
      ]
     },
     "execution_count": 8,
     "metadata": {},
     "output_type": "execute_result"
    }
   ],
   "source": [
    "len(goals)"
   ]
  }
 ],
 "metadata": {
  "kernelspec": {
   "display_name": "pyenvchess",
   "language": "python",
   "name": "python3"
  },
  "language_info": {
   "codemirror_mode": {
    "name": "ipython",
    "version": 3
   },
   "file_extension": ".py",
   "mimetype": "text/x-python",
   "name": "python",
   "nbconvert_exporter": "python",
   "pygments_lexer": "ipython3",
   "version": "3.12.0"
  }
 },
 "nbformat": 4,
 "nbformat_minor": 2
}
