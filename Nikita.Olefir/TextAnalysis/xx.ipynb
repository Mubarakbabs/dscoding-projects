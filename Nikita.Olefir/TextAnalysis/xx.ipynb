{
 "cells": [
  {
   "cell_type": "code",
   "execution_count": null,
   "metadata": {},
   "outputs": [],
   "source": [
    "import pandas as pd\n",
    "from preprocess import TextPreprocessor\n",
    "from descriptive_statistics import word_length_distribution, calculate_word_statistics, plot_most_frequent_words\n",
    "from words_replacing import WordReplacer\n",
    "from stem_and_lem import TextStemLem\n"
   ]
  },
  {
   "cell_type": "code",
   "execution_count": null,
   "metadata": {},
   "outputs": [],
   "source": [
    "comments_df = comments_extractor('ACMilan', '17pzwvv')"
   ]
  },
  {
   "cell_type": "code",
   "execution_count": null,
   "metadata": {},
   "outputs": [],
   "source": [
    "comments_df = pd.read_csv(\"comments_win.csv\")"
   ]
  },
  {
   "cell_type": "code",
   "execution_count": null,
   "metadata": {},
   "outputs": [],
   "source": [
    "preprocessor = TextPreprocessor(comments_df)"
   ]
  },
  {
   "cell_type": "code",
   "execution_count": null,
   "metadata": {},
   "outputs": [],
   "source": [
    "preprocessed_df = preprocessor.apply_all('body')"
   ]
  },
  {
   "cell_type": "code",
   "execution_count": null,
   "metadata": {},
   "outputs": [],
   "source": [
    "word_mapping = {'puli': 'pulisic'}\n",
    "word_replacer = WordReplacer(preprocessed_df)\n",
    "result_df = word_replacer.replace_words('body', word_mapping)\n",
    "print(result_df)"
   ]
  },
  {
   "cell_type": "code",
   "execution_count": null,
   "metadata": {},
   "outputs": [],
   "source": [
    "display(preprocessed_df)"
   ]
  },
  {
   "cell_type": "code",
   "execution_count": null,
   "metadata": {},
   "outputs": [],
   "source": [
    "word_length_distribution(result_df,'body')"
   ]
  },
  {
   "cell_type": "code",
   "execution_count": null,
   "metadata": {},
   "outputs": [],
   "source": [
    "calculate_word_statistics(result_df,'body')"
   ]
  },
  {
   "cell_type": "code",
   "execution_count": null,
   "metadata": {},
   "outputs": [],
   "source": [
    "plot_most_frequent_words(result_df,'body',20)"
   ]
  },
  {
   "cell_type": "code",
   "execution_count": null,
   "metadata": {},
   "outputs": [],
   "source": [
    "final = preprocessed_df['body']\n",
    "final.to_csv('won.csv')"
   ]
  },
  {
   "cell_type": "code",
   "execution_count": null,
   "metadata": {},
   "outputs": [],
   "source": [
    "# Example usage:\n",
    "# Assuming 'df' is your pandas DataFrame and 'text_column' is the column containing text\n",
    "# You can create an instance of the TextProcessor class and apply the functions\n",
    "\n",
    "text_processor = TextProcessor(df)\n",
    "text_processor.stem_words('text_column')\n",
    "text_processor.lemmatize_words('text_column')\n",
    "\n",
    "# The updated DataFrame with new columns 'stemmed_words' and 'lemmatized_words' can be accessed using text_processor.dataframe"
   ]
  },
  {
   "cell_type": "code",
   "execution_count": null,
   "metadata": {},
   "outputs": [],
   "source": [
    "tsl = TextStemLem(preprocessed_df)\n",
    "tsl.stem_words('body')\n",
    "tsl.lemmatize_words('body')\n",
    "updated_df = tsl.dataframe"
   ]
  },
  {
   "cell_type": "code",
   "execution_count": null,
   "metadata": {},
   "outputs": [],
   "source": [
    "updated_df"
   ]
  },
  {
   "cell_type": "code",
   "execution_count": null,
   "metadata": {},
   "outputs": [],
   "source": [
    "calculate_word_statistics(updated_df,'body')"
   ]
  },
  {
   "cell_type": "code",
   "execution_count": null,
   "metadata": {},
   "outputs": [],
   "source": [
    "calculate_word_statistics(updated_df,'stemmed_words')"
   ]
  },
  {
   "cell_type": "code",
   "execution_count": null,
   "metadata": {},
   "outputs": [],
   "source": [
    "calculate_word_statistics(updated_df,'lemmatized_words')"
   ]
  }
 ],
 "metadata": {
  "kernelspec": {
   "display_name": "pyenvchess",
   "language": "python",
   "name": "python3"
  },
  "language_info": {
   "codemirror_mode": {
    "name": "ipython",
    "version": 3
   },
   "file_extension": ".py",
   "mimetype": "text/x-python",
   "name": "python",
   "nbconvert_exporter": "python",
   "pygments_lexer": "ipython3",
   "version": "3.10.13"
  }
 },
 "nbformat": 4,
 "nbformat_minor": 2
}
