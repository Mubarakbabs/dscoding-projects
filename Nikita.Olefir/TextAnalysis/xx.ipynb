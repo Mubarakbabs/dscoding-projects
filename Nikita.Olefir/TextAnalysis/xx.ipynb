{
 "cells": [
  {
   "cell_type": "code",
   "execution_count": 1,
   "metadata": {},
   "outputs": [],
   "source": [
    "import sys\n",
    "sys.path.append('/Users/nikitaolefir/Programming/DSE/Python_Course/dscoding-projects/Nikita.Olefir')"
   ]
  },
  {
   "cell_type": "code",
   "execution_count": null,
   "metadata": {},
   "outputs": [],
   "source": [
    "from comments_extractor import comments_extractor\n",
    "import pandas as pd\n",
    "from preprocess import TextPreprocessor\n",
    "from descriptive_statistics import word_length_distribution, calculate_word_statistics, plot_most_frequent_words\n",
    "from words_replacing import WordReplacer\n",
    "from stem_and_lem import TextStemLem\n"
   ]
  },
  {
   "cell_type": "code",
   "execution_count": 2,
   "metadata": {},
   "outputs": [
    {
     "ename": "ModuleNotFoundError",
     "evalue": "No module named 'credentials'",
     "output_type": "error",
     "traceback": [
      "\u001b[0;31m---------------------------------------------------------------------------\u001b[0m",
      "\u001b[0;31mModuleNotFoundError\u001b[0m                       Traceback (most recent call last)",
      "\u001b[1;32m/Users/nikitaolefir/Programming/DSE/Python_Course/dscoding-projects/Nikita.Olefir/Reddit/xx.ipynb Cell 3\u001b[0m line \u001b[0;36m1\n\u001b[0;32m----> <a href='vscode-notebook-cell:/Users/nikitaolefir/Programming/DSE/Python_Course/dscoding-projects/Nikita.Olefir/Reddit/xx.ipynb#W1sZmlsZQ%3D%3D?line=0'>1</a>\u001b[0m \u001b[39mfrom\u001b[39;00m \u001b[39mReddit\u001b[39;00m \u001b[39mimport\u001b[39;00m comments_extractor\n",
      "File \u001b[0;32m~/Programming/DSE/Python_Course/dscoding-projects/Nikita.Olefir/Reddit/comments_extractor.py:1\u001b[0m\n\u001b[0;32m----> 1\u001b[0m \u001b[39mfrom\u001b[39;00m \u001b[39mAPI_Reddit\u001b[39;00m\u001b[39m.\u001b[39;00m\u001b[39mReddit_API_Wrapper\u001b[39;00m \u001b[39mimport\u001b[39;00m reddit\n\u001b[1;32m      2\u001b[0m \u001b[39mimport\u001b[39;00m \u001b[39mpandas\u001b[39;00m \u001b[39mas\u001b[39;00m \u001b[39mpd\u001b[39;00m\n\u001b[1;32m      5\u001b[0m \u001b[39mdef\u001b[39;00m \u001b[39mcomments_extractor\u001b[39m(subreddit_name: \u001b[39mstr\u001b[39m, submission_id: \u001b[39mstr\u001b[39m):\n",
      "File \u001b[0;32m~/Programming/DSE/Python_Course/dscoding-projects/Nikita.Olefir/API_Reddit/Reddit_API_Wrapper.py:2\u001b[0m\n\u001b[1;32m      1\u001b[0m \u001b[39mimport\u001b[39;00m \u001b[39mpraw\u001b[39;00m\n\u001b[0;32m----> 2\u001b[0m \u001b[39mfrom\u001b[39;00m \u001b[39mcredentials\u001b[39;00m \u001b[39mimport\u001b[39;00m USERNAME, PASSWORD, CLIENT_ID, CLIENT_SECRET\n\u001b[1;32m      4\u001b[0m reddit \u001b[39m=\u001b[39m praw\u001b[39m.\u001b[39mReddit(\n\u001b[1;32m      5\u001b[0m     client_id\u001b[39m=\u001b[39mCLIENT_ID,\n\u001b[1;32m      6\u001b[0m     client_secret\u001b[39m=\u001b[39mCLIENT_SECRET,\n\u001b[0;32m   (...)\u001b[0m\n\u001b[1;32m      9\u001b[0m     user_agent\u001b[39m=\u001b[39m\u001b[39m\"\u001b[39m\u001b[39mMyAPI/1 by (nikitaolefir)\u001b[39m\u001b[39m\"\u001b[39m,\n\u001b[1;32m     10\u001b[0m     )\n",
      "\u001b[0;31mModuleNotFoundError\u001b[0m: No module named 'credentials'"
     ]
    }
   ],
   "source": [
    "from Reddit import comments_extractor"
   ]
  },
  {
   "cell_type": "code",
   "execution_count": null,
   "metadata": {},
   "outputs": [],
   "source": [
    "from API_Reddit.Reddit_API_Wrapper import reddit"
   ]
  },
  {
   "cell_type": "code",
   "execution_count": null,
   "metadata": {},
   "outputs": [],
   "source": [
    "comments_df = comments_extractor('ACMilan', '17pzwvv')"
   ]
  },
  {
   "cell_type": "code",
   "execution_count": null,
   "metadata": {},
   "outputs": [],
   "source": [
    "comments_df = pd.read_csv(\"comments_win.csv\")"
   ]
  },
  {
   "cell_type": "code",
   "execution_count": null,
   "metadata": {},
   "outputs": [],
   "source": [
    "preprocessor = TextPreprocessor(comments_df)"
   ]
  },
  {
   "cell_type": "code",
   "execution_count": null,
   "metadata": {},
   "outputs": [],
   "source": [
    "preprocessed_df = preprocessor.apply_all('body')"
   ]
  },
  {
   "cell_type": "code",
   "execution_count": null,
   "metadata": {},
   "outputs": [],
   "source": [
    "word_mapping = {'puli': 'pulisic'}\n",
    "word_replacer = WordReplacer(preprocessed_df)\n",
    "result_df = word_replacer.replace_words('body', word_mapping)\n",
    "print(result_df)"
   ]
  },
  {
   "cell_type": "code",
   "execution_count": null,
   "metadata": {},
   "outputs": [],
   "source": [
    "display(preprocessed_df)"
   ]
  },
  {
   "cell_type": "code",
   "execution_count": null,
   "metadata": {},
   "outputs": [],
   "source": [
    "word_length_distribution(result_df,'body')"
   ]
  },
  {
   "cell_type": "code",
   "execution_count": null,
   "metadata": {},
   "outputs": [],
   "source": [
    "calculate_word_statistics(result_df,'body')"
   ]
  },
  {
   "cell_type": "code",
   "execution_count": null,
   "metadata": {},
   "outputs": [],
   "source": [
    "plot_most_frequent_words(result_df,'body',20)"
   ]
  },
  {
   "cell_type": "code",
   "execution_count": null,
   "metadata": {},
   "outputs": [],
   "source": [
    "final = preprocessed_df['body']\n",
    "final.to_csv('won.csv')"
   ]
  },
  {
   "cell_type": "code",
   "execution_count": null,
   "metadata": {},
   "outputs": [],
   "source": [
    "# Example usage:\n",
    "# Assuming 'df' is your pandas DataFrame and 'text_column' is the column containing text\n",
    "# You can create an instance of the TextProcessor class and apply the functions\n",
    "\n",
    "text_processor = TextProcessor(df)\n",
    "text_processor.stem_words('text_column')\n",
    "text_processor.lemmatize_words('text_column')\n",
    "\n",
    "# The updated DataFrame with new columns 'stemmed_words' and 'lemmatized_words' can be accessed using text_processor.dataframe"
   ]
  },
  {
   "cell_type": "code",
   "execution_count": null,
   "metadata": {},
   "outputs": [],
   "source": [
    "tsl = TextStemLem(preprocessed_df)\n",
    "tsl.stem_words('body')\n",
    "tsl.lemmatize_words('body')\n",
    "updated_df = tsl.dataframe"
   ]
  },
  {
   "cell_type": "code",
   "execution_count": null,
   "metadata": {},
   "outputs": [],
   "source": [
    "updated_df"
   ]
  },
  {
   "cell_type": "code",
   "execution_count": null,
   "metadata": {},
   "outputs": [],
   "source": [
    "calculate_word_statistics(updated_df,'body')"
   ]
  },
  {
   "cell_type": "code",
   "execution_count": null,
   "metadata": {},
   "outputs": [],
   "source": [
    "calculate_word_statistics(updated_df,'stemmed_words')"
   ]
  },
  {
   "cell_type": "code",
   "execution_count": null,
   "metadata": {},
   "outputs": [],
   "source": [
    "calculate_word_statistics(updated_df,'lemmatized_words')"
   ]
  }
 ],
 "metadata": {
  "kernelspec": {
   "display_name": "pyenvchess",
   "language": "python",
   "name": "python3"
  },
  "language_info": {
   "codemirror_mode": {
    "name": "ipython",
    "version": 3
   },
   "file_extension": ".py",
   "mimetype": "text/x-python",
   "name": "python",
   "nbconvert_exporter": "python",
   "pygments_lexer": "ipython3",
   "version": "3.10.13"
  }
 },
 "nbformat": 4,
 "nbformat_minor": 2
}
