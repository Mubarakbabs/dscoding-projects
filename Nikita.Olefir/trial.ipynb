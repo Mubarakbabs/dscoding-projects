{
 "cells": [
  {
   "cell_type": "code",
   "execution_count": 1,
   "metadata": {},
   "outputs": [],
   "source": [
    "import pandas as pd\n",
    "import numpy as np\n",
    "import matplotlib.pyplot as plt\n",
    "from gensim.models import Word2Vec\n",
    "from sklearn.metrics.pairwise import cosine_similarity\n",
    "import nltk\n",
    "from nltk.tokenize import word_tokenize\n",
    "nltk.download('punkt') \n",
    "from IPython.display import clear_output\n",
    "\n",
    "\n",
    "from API_Reddit.comments_extractor import comments_extractor\n",
    "from TextAnalysis.preprocessor import TextPreprocessor\n",
    "from TextAnalysis.descriptive_statistics_and_visalization import word_length_distribution, calculate_word_statistics, plot_most_frequent_words\n",
    "from TextAnalysis.words_replacing import WordReplacer\n",
    "from TextAnalysis.stem_and_lem  import TextStemLem\n",
    "from TextAnalysis.pre_prepocessing import hash_text, change_time_format\n",
    "from TextAnalysis.word_mapping import word_mapping\n",
    "from TextAnalysis.sentiment_analysis_over_time import analyze_sentiment\n",
    "from TextAnalysis.word_embedding import create_word_embeddings\n",
    "\n",
    "clear_output()"
   ]
  },
  {
   "cell_type": "markdown",
   "metadata": {},
   "source": [
    "Note: there might be some problems with the importing some libraries (like gensim) to the terminal and then running the import in the Jupyter notebook. If you cannot import them and Python says about unresolved imports, try this:\n",
    "```py\n",
    "!python -m pip install -U gensim\n",
    "```\n",
    "Just put in the cell of the Jupyter Notebook, install an restart everything."
   ]
  },
  {
   "cell_type": "markdown",
   "metadata": {},
   "source": [
    "---"
   ]
  },
  {
   "cell_type": "markdown",
   "metadata": {},
   "source": [
    "# Exctraction of comments using Reddit API"
   ]
  },
  {
   "cell_type": "code",
   "execution_count": null,
   "metadata": {},
   "outputs": [],
   "source": [
    "# Two distinct dataframes are created. It takes a few minute to extract all comments, \n",
    "# so consider making tea in the meantime\n",
    "\n",
    "comments_after_win = comments_extractor('ACMilan', '17pzwvv') \n",
    "comments_after_lose = comments_extractor('ACMilan', '17gb1xz')"
   ]
  },
  {
   "cell_type": "markdown",
   "metadata": {},
   "source": [
    " If you do not want to waste your time running the code over and over again to download comments aftere there is so mistake, consider downloading data to a csv file and name it the way you like. After that just assign in to a variable. For example:\n",
    "\n",
    "```py\n",
    "comments_after_lose.to_csv('milan_lost.csv', index=False)\n",
    "sad_comments = pd.read_csv('milan_lost.csv')\n",
    "```\n",
    "\n",
    "I will continue with the previous names of the dataframe."
   ]
  },
  {
   "cell_type": "code",
   "execution_count": 2,
   "metadata": {},
   "outputs": [],
   "source": [
    "comments_after_lose = pd.read_csv('milan_lost.csv')\n",
    "comments_after_win = pd.read_csv('milan_win.csv')"
   ]
  },
  {
   "cell_type": "markdown",
   "metadata": {},
   "source": [
    "You can check that everything is ok just by writing the name(s) of a DataFrame and running the code. Before that, however, I want to apply two functions that allow me to present the better version of the data:\n",
    "- I want to hash the names of people leaving commets\n",
    "- change the date_time representation so that it is more user-friendly\n",
    "\n",
    "To do so, I use functions from the \"pre_preprocessing\" module from the TextAnalysis Folder."
   ]
  },
  {
   "cell_type": "code",
   "execution_count": 3,
   "metadata": {},
   "outputs": [],
   "source": [
    "# Firstly I hash the 'author' columns in both dataframes\n",
    "comments_after_win = hash_text(comments_after_win,column_name='author')\n",
    "comments_after_lose = hash_text(comments_after_lose,column_name='author')\n",
    "\n",
    "# Then I change the format of the representation of date and time\n",
    "comments_after_win = change_time_format(comments_after_win,column_name='created_utc')\n",
    "comments_after_lose = change_time_format(comments_after_lose,column_name='created_utc')\n",
    "\n",
    "#Lastly, to each of the dataframes I add a column with the results of the match: win or lose\n",
    "comments_after_win['match_status'] = 'win'\n",
    "comments_after_lose['match_status'] = 'lose'\n",
    "# It will be needed for word embedding,"
   ]
  },
  {
   "cell_type": "markdown",
   "metadata": {},
   "source": [
    "---"
   ]
  },
  {
   "cell_type": "markdown",
   "metadata": {},
   "source": [
    "### The DataFrames afrer pre_prepocessing:"
   ]
  },
  {
   "cell_type": "code",
   "execution_count": null,
   "metadata": {},
   "outputs": [],
   "source": [
    "comments_after_lose.head(5)"
   ]
  },
  {
   "cell_type": "code",
   "execution_count": null,
   "metadata": {},
   "outputs": [],
   "source": [
    "comments_after_win.head(5)"
   ]
  },
  {
   "cell_type": "markdown",
   "metadata": {},
   "source": [
    "---"
   ]
  },
  {
   "cell_type": "markdown",
   "metadata": {},
   "source": [
    "# Preprocessing Stage"
   ]
  },
  {
   "cell_type": "markdown",
   "metadata": {},
   "source": [
    "#### Now we use quite a few function to preprocess data\n",
    "Consult with the \"preprocessor\", \"words_replacing\"and \"stem_and_lem\" modules in the TextAnalysis folder. All the documentation is written there.\n",
    "\n",
    "After the execution of the comments we expect the text to be:\n",
    "- In lower case;\n",
    "- Without any links;\n",
    "- Without punctuation;\n",
    "- Without stopwords (words that don't have much meaning);\n",
    "- Without any special characters;\n",
    "- Contaning only words with more than 2 letters (to avoid nonsense words that might appear during previous stages);\n",
    "- With curse words masked;\n",
    "  \n",
    "Additionally, I manually replace some of the words as long as they refer to the same thing(person) but are treated differently when analyzing data. Mainly, it concerns surnames of the players. For example, Christian Pulisic can be addressed by \"Puli\" and \"Pulisich\" by the fans of Milan; or \"RCL\" is a \"Ruben Loftus-Cheek\". No python library can trace it, so I have to manually change it if I notice something. It can surely impact the analysis of the comments, but there is no recearch withou limitations.  For that, I use \"words_replacing\" module in the TextAnalysis folder.\n",
    "\n",
    "Lastly, I want to add two columns to the dataframe: one with stemmed words and another with lemmatized words. Those are nedded as I want to compare text of I receive after preprocessing with even \"purer\" data to have just a better view of the situation. For that, I use \"stem_and_lem\" module in the TextAnalysis folder."
   ]
  },
  {
   "cell_type": "markdown",
   "metadata": {},
   "source": [
    "We have to make instances of the class TextProcessor to apply all the functions:"
   ]
  },
  {
   "cell_type": "code",
   "execution_count": 4,
   "metadata": {},
   "outputs": [],
   "source": [
    "preprocessor_lose = TextPreprocessor(comments_after_lose)\n",
    "preprocessor_win = TextPreprocessor(comments_after_win)"
   ]
  },
  {
   "cell_type": "markdown",
   "metadata": {},
   "source": [
    "After that we create dataframes out of the instances:"
   ]
  },
  {
   "cell_type": "code",
   "execution_count": 5,
   "metadata": {},
   "outputs": [],
   "source": [
    "# body -- the name of the column that contains the text of the comments\n",
    "preprocessed_lose_df = preprocessor_lose.apply_all('body')\n",
    "preprocessed_win_df = preprocessor_win.apply_all('body')"
   ]
  },
  {
   "cell_type": "markdown",
   "metadata": {},
   "source": [
    "Now we can look what we get:"
   ]
  },
  {
   "cell_type": "code",
   "execution_count": null,
   "metadata": {},
   "outputs": [],
   "source": [
    "preprocessed_lose_df.head(5)"
   ]
  },
  {
   "cell_type": "code",
   "execution_count": null,
   "metadata": {},
   "outputs": [],
   "source": [
    "preprocessed_win_df.head(5)"
   ]
  },
  {
   "cell_type": "markdown",
   "metadata": {},
   "source": [
    "Now let's turn to the replacement of the word that refer to the same person:"
   ]
  },
  {
   "cell_type": "code",
   "execution_count": 6,
   "metadata": {},
   "outputs": [],
   "source": [
    "# We firstly create two instances of the WordReplacer class\n",
    "word_replacer_win = WordReplacer(preprocessed_win_df)\n",
    "word_replacer_lose = WordReplacer(preprocessed_lose_df)\n",
    "\n",
    "#Then we create two dataframes (I name them the same way to avoid the confusion)\n",
    "# and we use the dictionary 'word_mapping' from the respective module.\n",
    "preprocessed_win_df = word_replacer_win.replace_words('body', word_mapping)\n",
    "word_replacer_lose = word_replacer_lose.replace_words('body', word_mapping)"
   ]
  },
  {
   "cell_type": "code",
   "execution_count": null,
   "metadata": {},
   "outputs": [],
   "source": [
    "preprocessed_win_df.head(5) #It works, as we have \"leao\" instead of \"rafa\"."
   ]
  },
  {
   "cell_type": "markdown",
   "metadata": {},
   "source": [
    "##### Now we can proceede with adding columns with stemmed and lemmatized words:"
   ]
  },
  {
   "cell_type": "code",
   "execution_count": 7,
   "metadata": {},
   "outputs": [],
   "source": [
    "# We firstly create two instances of the TextStemLem class:\n",
    "tsl_w = TextStemLem(preprocessed_win_df)\n",
    "tsl_l = TextStemLem(preprocessed_lose_df)\n",
    "\n",
    "# Then we add a column with stemmed words\n",
    "tsl_w.stem_words('body')\n",
    "tsl_l.stem_words('body')\n",
    "\n",
    "# Finally, we add a column with lemmatized words\n",
    "tsl_w.lemmatize_words('body')\n",
    "tsl_l.lemmatize_words('body')\n",
    "\n",
    "clear_output()"
   ]
  },
  {
   "cell_type": "code",
   "execution_count": 8,
   "metadata": {},
   "outputs": [],
   "source": [
    "preprocessed_win_df = tsl_w.dataframe\n",
    "preprocessed_lose_df = tsl_l.dataframe"
   ]
  },
  {
   "cell_type": "code",
   "execution_count": null,
   "metadata": {},
   "outputs": [],
   "source": [
    "preprocessed_win_df.head(5) # As you can see, everything works\n",
    "# and we are done with the preprocessing part"
   ]
  },
  {
   "cell_type": "markdown",
   "metadata": {},
   "source": [
    "---"
   ]
  },
  {
   "cell_type": "markdown",
   "metadata": {},
   "source": [
    "# Descriptive Statistics"
   ]
  },
  {
   "cell_type": "markdown",
   "metadata": {},
   "source": [
    "To get the descriptive statistics, I use functions from the \"descriptive_statistics\" module in the TextAnalysis folder.\n",
    "There are three functions:\n",
    "\n",
    "1) word_length_distribution: It returns histograms with the distribution of words in columns\n",
    "2) calculate_word_statistics: It returns a DataFrame with the statistics about the words (total number of words, number of unique words, average length, median word lenght)\n",
    "3) plot_most_frequent_words: It returns histograms with the most frequently used words (number is arbitrary, by default it is 10\n",
    "\n",
    "As long as I apply this function to the columns 'body', 'stemmed_words', and 'lemmatized_words', there should be a list of them to apply functions simultanitously. "
   ]
  },
  {
   "cell_type": "code",
   "execution_count": 9,
   "metadata": {},
   "outputs": [],
   "source": [
    "# create a list with column names \n",
    "columns_list = ['body', 'stemmed_words', 'lemmatized_words']"
   ]
  },
  {
   "cell_type": "markdown",
   "metadata": {},
   "source": [
    "Let's see at the histogram with the words' length distribution:"
   ]
  },
  {
   "cell_type": "code",
   "execution_count": null,
   "metadata": {},
   "outputs": [],
   "source": [
    "word_length_distribution(preprocessed_win_df, columns_list,figsize=(5,8))"
   ]
  },
  {
   "cell_type": "code",
   "execution_count": null,
   "metadata": {},
   "outputs": [],
   "source": [
    "word_length_distribution(preprocessed_lose_df, columns_list,figsize=(5,8))"
   ]
  },
  {
   "cell_type": "markdown",
   "metadata": {},
   "source": [
    "Then let's see at the descriptive statistics concerning the words usage:"
   ]
  },
  {
   "cell_type": "code",
   "execution_count": null,
   "metadata": {},
   "outputs": [],
   "source": [
    "calculate_word_statistics(preprocessed_win_df, columns_list)"
   ]
  },
  {
   "cell_type": "markdown",
   "metadata": {},
   "source": [
    "Lastly, lets see at the most used words in the comments after the both games:"
   ]
  },
  {
   "cell_type": "code",
   "execution_count": null,
   "metadata": {},
   "outputs": [],
   "source": [
    "plot_most_frequent_words(preprocessed_lose_df,columns_list)"
   ]
  },
  {
   "cell_type": "code",
   "execution_count": null,
   "metadata": {},
   "outputs": [],
   "source": [
    "plot_most_frequent_words(preprocessed_win_df,columns_list, 10)"
   ]
  },
  {
   "cell_type": "markdown",
   "metadata": {},
   "source": [
    "What we can see from these histograms:\n",
    "1. When Milan lost, fans blamed Krunić (a player of Milan that played badly) and Pioli (the coach of Milan; he also frequently pick Krunić for the main squad, causing negative sentiment often).\n",
    "2. We also see that they adressed  Leao and the team in general in their comments (blaming it as a whole).\n",
    "3. When Milan won, they praised Ruben Loftus-Cheek, Pulisic and Leao.\n",
    "4. They also addres the coach of Milan (from the actual text fans mostly joke about his love to use Krunić in every game, strategy and another match when he saved himself from being fired)."
   ]
  },
  {
   "cell_type": "markdown",
   "metadata": {},
   "source": [
    "---"
   ]
  },
  {
   "cell_type": "markdown",
   "metadata": {},
   "source": [
    "# Sentiment Analysis"
   ]
  },
  {
   "cell_type": "markdown",
   "metadata": {},
   "source": [
    "Now we proceede with the sentiment analysis. Consult with the 'sentiment_analysis_over_time' module."
   ]
  },
  {
   "cell_type": "code",
   "execution_count": null,
   "metadata": {},
   "outputs": [],
   "source": [
    "# In the function we are going to use, we need to insert the date of the match. I prefer to create a variable for that, \n",
    "# but you can directly insert the dates it is written here. Note that you have to insert either of those dates, and the time: 20 and 23.\n",
    "# If not, the graph will not appear as intended (see it yourself in the title of the graph).\n",
    "the_day_milan_lost = '2023-10-25'\n",
    "the_day_milan_won = '2023-11-07'"
   ]
  },
  {
   "cell_type": "code",
   "execution_count": null,
   "metadata": {},
   "outputs": [],
   "source": [
    "# Assuming your DataFrame is named 'preprocessed_win_df'\n",
    "# Replace 'YourColumnName' with the actual column names in your DataFrame\n",
    "\n",
    "# Use the function with your specific parameters\n",
    "analyze_sentiment(preprocessed_win_df, the_day_milan_won, 20, 23, interval_minutes=5)"
   ]
  },
  {
   "cell_type": "code",
   "execution_count": null,
   "metadata": {},
   "outputs": [],
   "source": [
    "analyze_sentiment(preprocessed_lose_df, the_day_milan_lost, 20, 23, interval_minutes=5)"
   ]
  },
  {
   "cell_type": "markdown",
   "metadata": {},
   "source": [
    "In most of the cases, sentiment is neutral (interval for that is from -0.5 and 0.5). Interesting that there is a spike in the 'positivity' (even though it is not positive as it does not near 0.5) after the match has finished (probably fans could not believe in that and were able to write something good on Reddit only one hour after the game finished)."
   ]
  },
  {
   "cell_type": "markdown",
   "metadata": {},
   "source": [
    "---"
   ]
  },
  {
   "cell_type": "markdown",
   "metadata": {},
   "source": [
    "# Word Embedding"
   ]
  },
  {
   "cell_type": "markdown",
   "metadata": {},
   "source": [
    "Lets firstly concatinate the two dataframes:"
   ]
  },
  {
   "cell_type": "code",
   "execution_count": 10,
   "metadata": {},
   "outputs": [],
   "source": [
    "concatenated_df = pd.concat([preprocessed_win_df, preprocessed_lose_df], axis=0, ignore_index=True)"
   ]
  },
  {
   "cell_type": "code",
   "execution_count": 11,
   "metadata": {},
   "outputs": [
    {
     "data": {
      "text/html": [
       "<div>\n",
       "<style scoped>\n",
       "    .dataframe tbody tr th:only-of-type {\n",
       "        vertical-align: middle;\n",
       "    }\n",
       "\n",
       "    .dataframe tbody tr th {\n",
       "        vertical-align: top;\n",
       "    }\n",
       "\n",
       "    .dataframe thead th {\n",
       "        text-align: right;\n",
       "    }\n",
       "</style>\n",
       "<table border=\"1\" class=\"dataframe\">\n",
       "  <thead>\n",
       "    <tr style=\"text-align: right;\">\n",
       "      <th></th>\n",
       "      <th>author</th>\n",
       "      <th>body</th>\n",
       "      <th>created_datetime</th>\n",
       "      <th>match_status</th>\n",
       "      <th>stemmed_words</th>\n",
       "      <th>lemmatized_words</th>\n",
       "    </tr>\n",
       "  </thead>\n",
       "  <tbody>\n",
       "    <tr>\n",
       "      <th>0</th>\n",
       "      <td>e747f9104e</td>\n",
       "      <td>match thread todays match testing new feature ...</td>\n",
       "      <td>2023-11-07 17:47:32</td>\n",
       "      <td>win</td>\n",
       "      <td>match thread today match test new featur reddi...</td>\n",
       "      <td>match thread today match testing new feature r...</td>\n",
       "    </tr>\n",
       "    <tr>\n",
       "      <th>1</th>\n",
       "      <td>c781e57654</td>\n",
       "      <td>rlc different type animal today holy sh****</td>\n",
       "      <td>2023-11-07 22:02:38</td>\n",
       "      <td>win</td>\n",
       "      <td>rlc differ type anim today holi sh****</td>\n",
       "      <td>rlc different type animal today holy sh****</td>\n",
       "    </tr>\n",
       "    <tr>\n",
       "      <th>2</th>\n",
       "      <td>b7aa5347ca</td>\n",
       "      <td>leao world class tonight running like crazy</td>\n",
       "      <td>2023-11-07 21:42:52</td>\n",
       "      <td>win</td>\n",
       "      <td>leao world class tonight run like crazi</td>\n",
       "      <td>leao world class tonight running like crazy</td>\n",
       "    </tr>\n",
       "    <tr>\n",
       "      <th>3</th>\n",
       "      <td>e52216b2a4</td>\n",
       "      <td>rlc signing summer confirmed</td>\n",
       "      <td>2023-11-07 20:51:49</td>\n",
       "      <td>win</td>\n",
       "      <td>rlc sign summer confirm</td>\n",
       "      <td>rlc signing summer confirmed</td>\n",
       "    </tr>\n",
       "    <tr>\n",
       "      <th>4</th>\n",
       "      <td>439667f389</td>\n",
       "      <td>calabria pocketing superstar</td>\n",
       "      <td>2023-11-07 21:59:58</td>\n",
       "      <td>win</td>\n",
       "      <td>calabria pocket superstar</td>\n",
       "      <td>calabria pocketing superstar</td>\n",
       "    </tr>\n",
       "  </tbody>\n",
       "</table>\n",
       "</div>"
      ],
      "text/plain": [
       "       author                                               body  \\\n",
       "0  e747f9104e  match thread todays match testing new feature ...   \n",
       "1  c781e57654        rlc different type animal today holy sh****   \n",
       "2  b7aa5347ca        leao world class tonight running like crazy   \n",
       "3  e52216b2a4                       rlc signing summer confirmed   \n",
       "4  439667f389                       calabria pocketing superstar   \n",
       "\n",
       "     created_datetime match_status  \\\n",
       "0 2023-11-07 17:47:32          win   \n",
       "1 2023-11-07 22:02:38          win   \n",
       "2 2023-11-07 21:42:52          win   \n",
       "3 2023-11-07 20:51:49          win   \n",
       "4 2023-11-07 21:59:58          win   \n",
       "\n",
       "                                       stemmed_words  \\\n",
       "0  match thread today match test new featur reddi...   \n",
       "1             rlc differ type anim today holi sh****   \n",
       "2            leao world class tonight run like crazi   \n",
       "3                            rlc sign summer confirm   \n",
       "4                          calabria pocket superstar   \n",
       "\n",
       "                                    lemmatized_words  \n",
       "0  match thread today match testing new feature r...  \n",
       "1        rlc different type animal today holy sh****  \n",
       "2        leao world class tonight running like crazy  \n",
       "3                       rlc signing summer confirmed  \n",
       "4                       calabria pocketing superstar  "
      ]
     },
     "execution_count": 11,
     "metadata": {},
     "output_type": "execute_result"
    }
   ],
   "source": [
    "concatenated_df.head(5)"
   ]
  },
  {
   "cell_type": "markdown",
   "metadata": {},
   "source": [
    "Then we apply function called 'create_word_embeddings' from the 'word_embedding' module. In the arguments you should write the column you want to have embedded words from. Actually, as the future analysis shows, it does not matter if you indicate 'body', 'stemmed_words', or 'lemmatized_words' in the argument. The model accuracy is the same (and pretty low)."
   ]
  },
  {
   "cell_type": "code",
   "execution_count": 12,
   "metadata": {},
   "outputs": [
    {
     "data": {
      "text/html": [
       "<div>\n",
       "<style scoped>\n",
       "    .dataframe tbody tr th:only-of-type {\n",
       "        vertical-align: middle;\n",
       "    }\n",
       "\n",
       "    .dataframe tbody tr th {\n",
       "        vertical-align: top;\n",
       "    }\n",
       "\n",
       "    .dataframe thead th {\n",
       "        text-align: right;\n",
       "    }\n",
       "</style>\n",
       "<table border=\"1\" class=\"dataframe\">\n",
       "  <thead>\n",
       "    <tr style=\"text-align: right;\">\n",
       "      <th></th>\n",
       "      <th>author</th>\n",
       "      <th>body</th>\n",
       "      <th>created_datetime</th>\n",
       "      <th>match_status</th>\n",
       "      <th>stemmed_words</th>\n",
       "      <th>lemmatized_words</th>\n",
       "      <th>tokenized_comments</th>\n",
       "      <th>comment_embeddings</th>\n",
       "    </tr>\n",
       "  </thead>\n",
       "  <tbody>\n",
       "    <tr>\n",
       "      <th>0</th>\n",
       "      <td>e747f9104e</td>\n",
       "      <td>match thread todays match testing new feature ...</td>\n",
       "      <td>2023-11-07 17:47:32</td>\n",
       "      <td>win</td>\n",
       "      <td>match thread today match test new featur reddi...</td>\n",
       "      <td>match thread today match testing new feature r...</td>\n",
       "      <td>[match, thread, todays, match, testing, new, f...</td>\n",
       "      <td>[-0.04716194, 0.077114426, 0.044802226, -0.019...</td>\n",
       "    </tr>\n",
       "    <tr>\n",
       "      <th>1</th>\n",
       "      <td>c781e57654</td>\n",
       "      <td>rlc different type animal today holy sh****</td>\n",
       "      <td>2023-11-07 22:02:38</td>\n",
       "      <td>win</td>\n",
       "      <td>rlc differ type anim today holi sh****</td>\n",
       "      <td>rlc different type animal today holy sh****</td>\n",
       "      <td>[rlc, different, type, animal, today, holy, sh...</td>\n",
       "      <td>[-0.0734609, 0.09230742, 0.05839523, 0.0060195...</td>\n",
       "    </tr>\n",
       "    <tr>\n",
       "      <th>2</th>\n",
       "      <td>b7aa5347ca</td>\n",
       "      <td>leao world class tonight running like crazy</td>\n",
       "      <td>2023-11-07 21:42:52</td>\n",
       "      <td>win</td>\n",
       "      <td>leao world class tonight run like crazi</td>\n",
       "      <td>leao world class tonight running like crazy</td>\n",
       "      <td>[leao, world, class, tonight, running, like, c...</td>\n",
       "      <td>[-0.10237355, 0.15870216, 0.08971954, -0.04308...</td>\n",
       "    </tr>\n",
       "    <tr>\n",
       "      <th>3</th>\n",
       "      <td>e52216b2a4</td>\n",
       "      <td>rlc signing summer confirmed</td>\n",
       "      <td>2023-11-07 20:51:49</td>\n",
       "      <td>win</td>\n",
       "      <td>rlc sign summer confirm</td>\n",
       "      <td>rlc signing summer confirmed</td>\n",
       "      <td>[rlc, signing, summer, confirmed]</td>\n",
       "      <td>[-0.03955528, 0.060718965, 0.034167755, -0.011...</td>\n",
       "    </tr>\n",
       "    <tr>\n",
       "      <th>4</th>\n",
       "      <td>439667f389</td>\n",
       "      <td>calabria pocketing superstar</td>\n",
       "      <td>2023-11-07 21:59:58</td>\n",
       "      <td>win</td>\n",
       "      <td>calabria pocket superstar</td>\n",
       "      <td>calabria pocketing superstar</td>\n",
       "      <td>[calabria, pocketing, superstar]</td>\n",
       "      <td>[-0.03479184, 0.059792805, 0.029881043, -0.016...</td>\n",
       "    </tr>\n",
       "    <tr>\n",
       "      <th>...</th>\n",
       "      <td>...</td>\n",
       "      <td>...</td>\n",
       "      <td>...</td>\n",
       "      <td>...</td>\n",
       "      <td>...</td>\n",
       "      <td>...</td>\n",
       "      <td>...</td>\n",
       "      <td>...</td>\n",
       "    </tr>\n",
       "    <tr>\n",
       "      <th>4490</th>\n",
       "      <td>87e34e82dd</td>\n",
       "      <td>match genoa saw rhe matches cagliari dortmund ...</td>\n",
       "      <td>2023-10-25 20:03:30</td>\n",
       "      <td>lose</td>\n",
       "      <td>match genoa saw rhe match cagliari dortmund go...</td>\n",
       "      <td>match genoa saw rhe match cagliari dortmund go...</td>\n",
       "      <td>[match, genoa, saw, rhe, matches, cagliari, do...</td>\n",
       "      <td>[-0.067948945, 0.10757224, 0.06304995, -0.0293...</td>\n",
       "    </tr>\n",
       "    <tr>\n",
       "      <th>4491</th>\n",
       "      <td>f0e0a89f0e</td>\n",
       "      <td>believe hearing</td>\n",
       "      <td>2023-10-25 21:22:22</td>\n",
       "      <td>lose</td>\n",
       "      <td>believ hear</td>\n",
       "      <td>believe hearing</td>\n",
       "      <td>[believe, hearing]</td>\n",
       "      <td>[-0.024557576, 0.05102497, 0.028345786, -0.015...</td>\n",
       "    </tr>\n",
       "    <tr>\n",
       "      <th>4492</th>\n",
       "      <td>d75d059850</td>\n",
       "      <td>okay man supporting baldy fck msging</td>\n",
       "      <td>2023-10-25 20:34:46</td>\n",
       "      <td>lose</td>\n",
       "      <td>okay man support baldi fck msging</td>\n",
       "      <td>okay man supporting baldy fck msging</td>\n",
       "      <td>[okay, man, supporting, baldy, fck, msging]</td>\n",
       "      <td>[-0.03647869, 0.062156547, 0.036112074, -0.015...</td>\n",
       "    </tr>\n",
       "    <tr>\n",
       "      <th>4493</th>\n",
       "      <td>aeb90804ca</td>\n",
       "      <td>think pioli advancebetter tactics players igno...</td>\n",
       "      <td>2023-10-25 21:35:02</td>\n",
       "      <td>lose</td>\n",
       "      <td>think pioli advancebett tactic player ignor</td>\n",
       "      <td>think pioli advancebetter tactic player ignoring</td>\n",
       "      <td>[think, pioli, advancebetter, tactics, players...</td>\n",
       "      <td>[-0.1035843, 0.16529746, 0.09456744, -0.044773...</td>\n",
       "    </tr>\n",
       "    <tr>\n",
       "      <th>4494</th>\n",
       "      <td>c16223e666</td>\n",
       "      <td>support support milan support players manager ...</td>\n",
       "      <td>2023-10-25 20:37:46</td>\n",
       "      <td>lose</td>\n",
       "      <td>support support milan support player manag hap...</td>\n",
       "      <td>support support milan support player manager h...</td>\n",
       "      <td>[support, support, milan, support, players, ma...</td>\n",
       "      <td>[-0.06232626, 0.09755882, 0.05750858, -0.02570...</td>\n",
       "    </tr>\n",
       "  </tbody>\n",
       "</table>\n",
       "<p>4495 rows × 8 columns</p>\n",
       "</div>"
      ],
      "text/plain": [
       "          author                                               body  \\\n",
       "0     e747f9104e  match thread todays match testing new feature ...   \n",
       "1     c781e57654        rlc different type animal today holy sh****   \n",
       "2     b7aa5347ca        leao world class tonight running like crazy   \n",
       "3     e52216b2a4                       rlc signing summer confirmed   \n",
       "4     439667f389                       calabria pocketing superstar   \n",
       "...          ...                                                ...   \n",
       "4490  87e34e82dd  match genoa saw rhe matches cagliari dortmund ...   \n",
       "4491  f0e0a89f0e                                    believe hearing   \n",
       "4492  d75d059850               okay man supporting baldy fck msging   \n",
       "4493  aeb90804ca  think pioli advancebetter tactics players igno...   \n",
       "4494  c16223e666  support support milan support players manager ...   \n",
       "\n",
       "        created_datetime match_status  \\\n",
       "0    2023-11-07 17:47:32          win   \n",
       "1    2023-11-07 22:02:38          win   \n",
       "2    2023-11-07 21:42:52          win   \n",
       "3    2023-11-07 20:51:49          win   \n",
       "4    2023-11-07 21:59:58          win   \n",
       "...                  ...          ...   \n",
       "4490 2023-10-25 20:03:30         lose   \n",
       "4491 2023-10-25 21:22:22         lose   \n",
       "4492 2023-10-25 20:34:46         lose   \n",
       "4493 2023-10-25 21:35:02         lose   \n",
       "4494 2023-10-25 20:37:46         lose   \n",
       "\n",
       "                                          stemmed_words  \\\n",
       "0     match thread today match test new featur reddi...   \n",
       "1                rlc differ type anim today holi sh****   \n",
       "2               leao world class tonight run like crazi   \n",
       "3                               rlc sign summer confirm   \n",
       "4                             calabria pocket superstar   \n",
       "...                                                 ...   \n",
       "4490  match genoa saw rhe match cagliari dortmund go...   \n",
       "4491                                        believ hear   \n",
       "4492                  okay man support baldi fck msging   \n",
       "4493        think pioli advancebett tactic player ignor   \n",
       "4494  support support milan support player manag hap...   \n",
       "\n",
       "                                       lemmatized_words  \\\n",
       "0     match thread today match testing new feature r...   \n",
       "1           rlc different type animal today holy sh****   \n",
       "2           leao world class tonight running like crazy   \n",
       "3                          rlc signing summer confirmed   \n",
       "4                          calabria pocketing superstar   \n",
       "...                                                 ...   \n",
       "4490  match genoa saw rhe match cagliari dortmund go...   \n",
       "4491                                    believe hearing   \n",
       "4492               okay man supporting baldy fck msging   \n",
       "4493   think pioli advancebetter tactic player ignoring   \n",
       "4494  support support milan support player manager h...   \n",
       "\n",
       "                                     tokenized_comments  \\\n",
       "0     [match, thread, todays, match, testing, new, f...   \n",
       "1     [rlc, different, type, animal, today, holy, sh...   \n",
       "2     [leao, world, class, tonight, running, like, c...   \n",
       "3                     [rlc, signing, summer, confirmed]   \n",
       "4                      [calabria, pocketing, superstar]   \n",
       "...                                                 ...   \n",
       "4490  [match, genoa, saw, rhe, matches, cagliari, do...   \n",
       "4491                                 [believe, hearing]   \n",
       "4492        [okay, man, supporting, baldy, fck, msging]   \n",
       "4493  [think, pioli, advancebetter, tactics, players...   \n",
       "4494  [support, support, milan, support, players, ma...   \n",
       "\n",
       "                                     comment_embeddings  \n",
       "0     [-0.04716194, 0.077114426, 0.044802226, -0.019...  \n",
       "1     [-0.0734609, 0.09230742, 0.05839523, 0.0060195...  \n",
       "2     [-0.10237355, 0.15870216, 0.08971954, -0.04308...  \n",
       "3     [-0.03955528, 0.060718965, 0.034167755, -0.011...  \n",
       "4     [-0.03479184, 0.059792805, 0.029881043, -0.016...  \n",
       "...                                                 ...  \n",
       "4490  [-0.067948945, 0.10757224, 0.06304995, -0.0293...  \n",
       "4491  [-0.024557576, 0.05102497, 0.028345786, -0.015...  \n",
       "4492  [-0.03647869, 0.062156547, 0.036112074, -0.015...  \n",
       "4493  [-0.1035843, 0.16529746, 0.09456744, -0.044773...  \n",
       "4494  [-0.06232626, 0.09755882, 0.05750858, -0.02570...  \n",
       "\n",
       "[4495 rows x 8 columns]"
      ]
     },
     "execution_count": 12,
     "metadata": {},
     "output_type": "execute_result"
    }
   ],
   "source": [
    "create_word_embeddings(concatenated_df,'body')"
   ]
  },
  {
   "cell_type": "code",
   "execution_count": 14,
   "metadata": {},
   "outputs": [
    {
     "data": {
      "text/html": [
       "<div>\n",
       "<style scoped>\n",
       "    .dataframe tbody tr th:only-of-type {\n",
       "        vertical-align: middle;\n",
       "    }\n",
       "\n",
       "    .dataframe tbody tr th {\n",
       "        vertical-align: top;\n",
       "    }\n",
       "\n",
       "    .dataframe thead th {\n",
       "        text-align: right;\n",
       "    }\n",
       "</style>\n",
       "<table border=\"1\" class=\"dataframe\">\n",
       "  <thead>\n",
       "    <tr style=\"text-align: right;\">\n",
       "      <th></th>\n",
       "      <th>author</th>\n",
       "      <th>body</th>\n",
       "      <th>created_datetime</th>\n",
       "      <th>match_status</th>\n",
       "      <th>stemmed_words</th>\n",
       "      <th>lemmatized_words</th>\n",
       "      <th>tokenized_comments</th>\n",
       "      <th>comment_embeddings</th>\n",
       "    </tr>\n",
       "  </thead>\n",
       "  <tbody>\n",
       "    <tr>\n",
       "      <th>0</th>\n",
       "      <td>e747f9104e</td>\n",
       "      <td>match thread todays match testing new feature ...</td>\n",
       "      <td>2023-11-07 17:47:32</td>\n",
       "      <td>win</td>\n",
       "      <td>match thread today match test new featur reddi...</td>\n",
       "      <td>match thread today match testing new feature r...</td>\n",
       "      <td>[match, thread, todays, match, testing, new, f...</td>\n",
       "      <td>[-0.04716194, 0.077114426, 0.044802226, -0.019...</td>\n",
       "    </tr>\n",
       "    <tr>\n",
       "      <th>1</th>\n",
       "      <td>c781e57654</td>\n",
       "      <td>rlc different type animal today holy sh****</td>\n",
       "      <td>2023-11-07 22:02:38</td>\n",
       "      <td>win</td>\n",
       "      <td>rlc differ type anim today holi sh****</td>\n",
       "      <td>rlc different type animal today holy sh****</td>\n",
       "      <td>[rlc, different, type, animal, today, holy, sh...</td>\n",
       "      <td>[-0.0734609, 0.09230742, 0.05839523, 0.0060195...</td>\n",
       "    </tr>\n",
       "    <tr>\n",
       "      <th>2</th>\n",
       "      <td>b7aa5347ca</td>\n",
       "      <td>leao world class tonight running like crazy</td>\n",
       "      <td>2023-11-07 21:42:52</td>\n",
       "      <td>win</td>\n",
       "      <td>leao world class tonight run like crazi</td>\n",
       "      <td>leao world class tonight running like crazy</td>\n",
       "      <td>[leao, world, class, tonight, running, like, c...</td>\n",
       "      <td>[-0.10237355, 0.15870216, 0.08971954, -0.04308...</td>\n",
       "    </tr>\n",
       "    <tr>\n",
       "      <th>3</th>\n",
       "      <td>e52216b2a4</td>\n",
       "      <td>rlc signing summer confirmed</td>\n",
       "      <td>2023-11-07 20:51:49</td>\n",
       "      <td>win</td>\n",
       "      <td>rlc sign summer confirm</td>\n",
       "      <td>rlc signing summer confirmed</td>\n",
       "      <td>[rlc, signing, summer, confirmed]</td>\n",
       "      <td>[-0.03955528, 0.060718965, 0.034167755, -0.011...</td>\n",
       "    </tr>\n",
       "    <tr>\n",
       "      <th>4</th>\n",
       "      <td>439667f389</td>\n",
       "      <td>calabria pocketing superstar</td>\n",
       "      <td>2023-11-07 21:59:58</td>\n",
       "      <td>win</td>\n",
       "      <td>calabria pocket superstar</td>\n",
       "      <td>calabria pocketing superstar</td>\n",
       "      <td>[calabria, pocketing, superstar]</td>\n",
       "      <td>[-0.03479184, 0.059792805, 0.029881043, -0.016...</td>\n",
       "    </tr>\n",
       "  </tbody>\n",
       "</table>\n",
       "</div>"
      ],
      "text/plain": [
       "       author                                               body  \\\n",
       "0  e747f9104e  match thread todays match testing new feature ...   \n",
       "1  c781e57654        rlc different type animal today holy sh****   \n",
       "2  b7aa5347ca        leao world class tonight running like crazy   \n",
       "3  e52216b2a4                       rlc signing summer confirmed   \n",
       "4  439667f389                       calabria pocketing superstar   \n",
       "\n",
       "     created_datetime match_status  \\\n",
       "0 2023-11-07 17:47:32          win   \n",
       "1 2023-11-07 22:02:38          win   \n",
       "2 2023-11-07 21:42:52          win   \n",
       "3 2023-11-07 20:51:49          win   \n",
       "4 2023-11-07 21:59:58          win   \n",
       "\n",
       "                                       stemmed_words  \\\n",
       "0  match thread today match test new featur reddi...   \n",
       "1             rlc differ type anim today holi sh****   \n",
       "2            leao world class tonight run like crazi   \n",
       "3                            rlc sign summer confirm   \n",
       "4                          calabria pocket superstar   \n",
       "\n",
       "                                    lemmatized_words  \\\n",
       "0  match thread today match testing new feature r...   \n",
       "1        rlc different type animal today holy sh****   \n",
       "2        leao world class tonight running like crazy   \n",
       "3                       rlc signing summer confirmed   \n",
       "4                       calabria pocketing superstar   \n",
       "\n",
       "                                  tokenized_comments  \\\n",
       "0  [match, thread, todays, match, testing, new, f...   \n",
       "1  [rlc, different, type, animal, today, holy, sh...   \n",
       "2  [leao, world, class, tonight, running, like, c...   \n",
       "3                  [rlc, signing, summer, confirmed]   \n",
       "4                   [calabria, pocketing, superstar]   \n",
       "\n",
       "                                  comment_embeddings  \n",
       "0  [-0.04716194, 0.077114426, 0.044802226, -0.019...  \n",
       "1  [-0.0734609, 0.09230742, 0.05839523, 0.0060195...  \n",
       "2  [-0.10237355, 0.15870216, 0.08971954, -0.04308...  \n",
       "3  [-0.03955528, 0.060718965, 0.034167755, -0.011...  \n",
       "4  [-0.03479184, 0.059792805, 0.029881043, -0.016...  "
      ]
     },
     "execution_count": 14,
     "metadata": {},
     "output_type": "execute_result"
    }
   ],
   "source": [
    "concatenated_df.head(5)"
   ]
  },
  {
   "cell_type": "code",
   "execution_count": 15,
   "metadata": {},
   "outputs": [],
   "source": [
    "win_comments = concatenated_df[concatenated_df['match_status'] == 'win']['comment_embeddings'].dropna()\n",
    "lose_comments = concatenated_df[concatenated_df['match_status'] == 'lose']['comment_embeddings'].dropna()\n",
    "\n",
    "similarity_matrix = cosine_similarity(win_comments.tolist(), lose_comments.tolist())"
   ]
  },
  {
   "cell_type": "code",
   "execution_count": 16,
   "metadata": {},
   "outputs": [],
   "source": [
    "from sklearn.model_selection import train_test_split\n",
    "from sklearn.linear_model import LogisticRegression\n",
    "from sklearn.metrics import accuracy_score\n",
    "train_data, test_data = train_test_split(concatenated_df, test_size=0.2, random_state=42)"
   ]
  },
  {
   "cell_type": "code",
   "execution_count": 17,
   "metadata": {},
   "outputs": [],
   "source": [
    "concatenated_df = concatenated_df.dropna(subset=['comment_embeddings', 'match_status'])\n"
   ]
  },
  {
   "cell_type": "code",
   "execution_count": 18,
   "metadata": {},
   "outputs": [],
   "source": [
    "train_data, test_data = train_test_split(concatenated_df, test_size=0.2, random_state=42)\n"
   ]
  },
  {
   "cell_type": "code",
   "execution_count": 19,
   "metadata": {},
   "outputs": [],
   "source": [
    "X_train = list(train_data['comment_embeddings'])\n",
    "y_train = list(train_data['match_status'])\n"
   ]
  },
  {
   "cell_type": "code",
   "execution_count": 20,
   "metadata": {},
   "outputs": [],
   "source": [
    "X_test = list(test_data['comment_embeddings'])\n",
    "y_test = list(test_data['match_status'])"
   ]
  },
  {
   "cell_type": "code",
   "execution_count": 21,
   "metadata": {},
   "outputs": [
    {
     "data": {
      "text/html": [
       "<style>#sk-container-id-1 {color: black;background-color: white;}#sk-container-id-1 pre{padding: 0;}#sk-container-id-1 div.sk-toggleable {background-color: white;}#sk-container-id-1 label.sk-toggleable__label {cursor: pointer;display: block;width: 100%;margin-bottom: 0;padding: 0.3em;box-sizing: border-box;text-align: center;}#sk-container-id-1 label.sk-toggleable__label-arrow:before {content: \"▸\";float: left;margin-right: 0.25em;color: #696969;}#sk-container-id-1 label.sk-toggleable__label-arrow:hover:before {color: black;}#sk-container-id-1 div.sk-estimator:hover label.sk-toggleable__label-arrow:before {color: black;}#sk-container-id-1 div.sk-toggleable__content {max-height: 0;max-width: 0;overflow: hidden;text-align: left;background-color: #f0f8ff;}#sk-container-id-1 div.sk-toggleable__content pre {margin: 0.2em;color: black;border-radius: 0.25em;background-color: #f0f8ff;}#sk-container-id-1 input.sk-toggleable__control:checked~div.sk-toggleable__content {max-height: 200px;max-width: 100%;overflow: auto;}#sk-container-id-1 input.sk-toggleable__control:checked~label.sk-toggleable__label-arrow:before {content: \"▾\";}#sk-container-id-1 div.sk-estimator input.sk-toggleable__control:checked~label.sk-toggleable__label {background-color: #d4ebff;}#sk-container-id-1 div.sk-label input.sk-toggleable__control:checked~label.sk-toggleable__label {background-color: #d4ebff;}#sk-container-id-1 input.sk-hidden--visually {border: 0;clip: rect(1px 1px 1px 1px);clip: rect(1px, 1px, 1px, 1px);height: 1px;margin: -1px;overflow: hidden;padding: 0;position: absolute;width: 1px;}#sk-container-id-1 div.sk-estimator {font-family: monospace;background-color: #f0f8ff;border: 1px dotted black;border-radius: 0.25em;box-sizing: border-box;margin-bottom: 0.5em;}#sk-container-id-1 div.sk-estimator:hover {background-color: #d4ebff;}#sk-container-id-1 div.sk-parallel-item::after {content: \"\";width: 100%;border-bottom: 1px solid gray;flex-grow: 1;}#sk-container-id-1 div.sk-label:hover label.sk-toggleable__label {background-color: #d4ebff;}#sk-container-id-1 div.sk-serial::before {content: \"\";position: absolute;border-left: 1px solid gray;box-sizing: border-box;top: 0;bottom: 0;left: 50%;z-index: 0;}#sk-container-id-1 div.sk-serial {display: flex;flex-direction: column;align-items: center;background-color: white;padding-right: 0.2em;padding-left: 0.2em;position: relative;}#sk-container-id-1 div.sk-item {position: relative;z-index: 1;}#sk-container-id-1 div.sk-parallel {display: flex;align-items: stretch;justify-content: center;background-color: white;position: relative;}#sk-container-id-1 div.sk-item::before, #sk-container-id-1 div.sk-parallel-item::before {content: \"\";position: absolute;border-left: 1px solid gray;box-sizing: border-box;top: 0;bottom: 0;left: 50%;z-index: -1;}#sk-container-id-1 div.sk-parallel-item {display: flex;flex-direction: column;z-index: 1;position: relative;background-color: white;}#sk-container-id-1 div.sk-parallel-item:first-child::after {align-self: flex-end;width: 50%;}#sk-container-id-1 div.sk-parallel-item:last-child::after {align-self: flex-start;width: 50%;}#sk-container-id-1 div.sk-parallel-item:only-child::after {width: 0;}#sk-container-id-1 div.sk-dashed-wrapped {border: 1px dashed gray;margin: 0 0.4em 0.5em 0.4em;box-sizing: border-box;padding-bottom: 0.4em;background-color: white;}#sk-container-id-1 div.sk-label label {font-family: monospace;font-weight: bold;display: inline-block;line-height: 1.2em;}#sk-container-id-1 div.sk-label-container {text-align: center;}#sk-container-id-1 div.sk-container {/* jupyter's `normalize.less` sets `[hidden] { display: none; }` but bootstrap.min.css set `[hidden] { display: none !important; }` so we also need the `!important` here to be able to override the default hidden behavior on the sphinx rendered scikit-learn.org. See: https://github.com/scikit-learn/scikit-learn/issues/21755 */display: inline-block !important;position: relative;}#sk-container-id-1 div.sk-text-repr-fallback {display: none;}</style><div id=\"sk-container-id-1\" class=\"sk-top-container\"><div class=\"sk-text-repr-fallback\"><pre>LogisticRegression(random_state=42)</pre><b>In a Jupyter environment, please rerun this cell to show the HTML representation or trust the notebook. <br />On GitHub, the HTML representation is unable to render, please try loading this page with nbviewer.org.</b></div><div class=\"sk-container\" hidden><div class=\"sk-item\"><div class=\"sk-estimator sk-toggleable\"><input class=\"sk-toggleable__control sk-hidden--visually\" id=\"sk-estimator-id-1\" type=\"checkbox\" checked><label for=\"sk-estimator-id-1\" class=\"sk-toggleable__label sk-toggleable__label-arrow\">LogisticRegression</label><div class=\"sk-toggleable__content\"><pre>LogisticRegression(random_state=42)</pre></div></div></div></div></div>"
      ],
      "text/plain": [
       "LogisticRegression(random_state=42)"
      ]
     },
     "execution_count": 21,
     "metadata": {},
     "output_type": "execute_result"
    }
   ],
   "source": [
    "classifier = LogisticRegression(random_state=42)\n",
    "classifier.fit(X_train, y_train)\n"
   ]
  },
  {
   "cell_type": "code",
   "execution_count": 22,
   "metadata": {},
   "outputs": [
    {
     "name": "stdout",
     "output_type": "stream",
     "text": [
      "Accuracy: 0.5422773393461104\n"
     ]
    }
   ],
   "source": [
    "predictions = classifier.predict(X_test)\n",
    "\n",
    "# Evaluate the model\n",
    "accuracy = accuracy_score(y_test, predictions)\n",
    "print(f\"Accuracy: {accuracy}\")"
   ]
  },
  {
   "cell_type": "code",
   "execution_count": 24,
   "metadata": {},
   "outputs": [
    {
     "data": {
      "text/plain": [
       "array([[0.999663  , 0.9995135 , 0.999829  , ..., 0.9989981 , 0.99979573,\n",
       "        0.9997209 ],\n",
       "       [0.9716872 , 0.97102565, 0.9713132 , ..., 0.9715186 , 0.9704575 ,\n",
       "        0.97089803],\n",
       "       [0.9996508 , 0.9994076 , 0.999754  , ..., 0.99889314, 0.99972886,\n",
       "        0.9996296 ],\n",
       "       ...,\n",
       "       [0.99924767, 0.99915546, 0.9993652 , ..., 0.99869674, 0.9993572 ,\n",
       "        0.99916166],\n",
       "       [0.99781704, 0.99740076, 0.99775845, ..., 0.99719393, 0.9975121 ,\n",
       "        0.997604  ],\n",
       "       [0.99938905, 0.99906355, 0.99941134, ..., 0.99867046, 0.99927074,\n",
       "        0.9992956 ]], dtype=float32)"
      ]
     },
     "execution_count": 24,
     "metadata": {},
     "output_type": "execute_result"
    }
   ],
   "source": [
    "similarity_matrix"
   ]
  },
  {
   "cell_type": "code",
   "execution_count": 23,
   "metadata": {},
   "outputs": [
    {
     "data": {
      "image/png": "[encoded data removed]",
      "text/plain": [
       "<Figure size 640x480 with 1 Axes>"
      ]
     },
     "metadata": {},
     "output_type": "display_data"
    }
   ],
   "source": [
    "import numpy as np\n",
    "import matplotlib.pyplot as plt\n",
    "\n",
    "# Assuming similarity_matrix is your cosine similarity matrix\n",
    "sample_size = 100  # Adjust the sample size as needed\n",
    "sampled_indices = np.random.choice(similarity_matrix.shape[0], size=sample_size, replace=False)\n",
    "sampled_matrix = similarity_matrix[sampled_indices][:, sampled_indices]\n",
    "\n",
    "# Visualize the sampled matrix (you can use seaborn, matplotlib, or any other preferred library)\n",
    "plt.imshow(sampled_matrix, cmap='viridis')\n",
    "plt.title('Sampled Cosine Similarity Matrix')\n",
    "plt.show()"
   ]
  }
 ],
 "metadata": {
  "kernelspec": {
   "display_name": "venv1",
   "language": "python",
   "name": "python3"
  },
  "language_info": {
   "codemirror_mode": {
    "name": "ipython",
    "version": 3
   },
   "file_extension": ".py",
   "mimetype": "text/x-python",
   "name": "python",
   "nbconvert_exporter": "python",
   "pygments_lexer": "ipython3",
   "version": "3.10.13"
  }
 },
 "nbformat": 4,
 "nbformat_minor": 2
}
