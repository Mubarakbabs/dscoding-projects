{
 "cells": [
  {
   "cell_type": "code",
   "execution_count": 1,
   "metadata": {},
   "outputs": [],
   "source": [
    "from API_constructor import comments_extractor"
   ]
  },
  {
   "cell_type": "code",
   "execution_count": 2,
   "metadata": {},
   "outputs": [
    {
     "name": "stdout",
     "output_type": "stream",
     "text": [
      "                author                                               body  \\\n",
      "0      mercurialsaliva  This is the match thread for today's match. We...   \n",
      "1        Ellemannen123  RLC was a different type of animal today holy ...   \n",
      "2             etclipse  Rafa has been world class tonight he’s been ru...   \n",
      "3     flywithRossonero   So RLC was the signing of the summer? Confirmed?   \n",
      "4              Frakula         Calabria pocketing another superstar LW :)   \n",
      "...                ...                                                ...   \n",
      "1975   smoothasbutta15  Hey dipshit… I said if puli had completely 100...   \n",
      "1976        DragoonAle  Agree, still doesn't excuse a 0.04 on both sta...   \n",
      "1977   smoothasbutta15  Good talk mate. Go study, get a tutor for your...   \n",
      "1978        DragoonAle  Really hope you and all those parrots like you...   \n",
      "1979   smoothasbutta15  Bro… he literally has a the second highest rat...   \n",
      "\n",
      "      score   created_utc  \n",
      "0         1  1.699379e+09  \n",
      "1        56  1.699395e+09  \n",
      "2        41  1.699393e+09  \n",
      "3        37  1.699390e+09  \n",
      "4        34  1.699394e+09  \n",
      "...     ...           ...  \n",
      "1975      2  1.699399e+09  \n",
      "1976      1  1.699400e+09  \n",
      "1977      2  1.699400e+09  \n",
      "1978      1  1.699401e+09  \n",
      "1979      2  1.699401e+09  \n",
      "\n",
      "[1980 rows x 4 columns]\n"
     ]
    }
   ],
   "source": [
    "comments_extractor('ACMilan', '17pzwvv')"
   ]
  }
 ],
 "metadata": {
  "kernelspec": {
   "display_name": "pyenvchess",
   "language": "python",
   "name": "python3"
  },
  "language_info": {
   "codemirror_mode": {
    "name": "ipython",
    "version": 3
   },
   "file_extension": ".py",
   "mimetype": "text/x-python",
   "name": "python",
   "nbconvert_exporter": "python",
   "pygments_lexer": "ipython3",
   "version": "3.12.0"
  }
 },
 "nbformat": 4,
 "nbformat_minor": 2
}
