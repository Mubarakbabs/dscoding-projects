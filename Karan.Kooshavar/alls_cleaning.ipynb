{
 "cells": [
  {
   "cell_type": "markdown",
   "id": "d127ffce",
   "metadata": {},
   "source": [
    "# Data Cleaning Process\n",
    "\n",
    "\n",
    "\n",
    "\n",
    "# The cell below cleans the directory\n",
    "so that when the data base is updated, first the directory is cleaned and then new files are added to it."
   ]
  },
  {
   "cell_type": "code",
   "execution_count": 1,
   "id": "308f4c4c",
   "metadata": {},
   "outputs": [
    {
     "name": "stdout",
     "output_type": "stream",
     "text": [
      "fatto\n"
     ]
    }
   ],
   "source": [
    "#clean the directory\n",
    "import os\n",
    "\n",
    "def delete_files_in_directory(directory):\n",
    "    # Check if the directory exists\n",
    "    if not os.path.exists(directory):\n",
    "        print(\"Directory does not exist:\", directory)\n",
    "        return\n",
    "\n",
    "  \n",
    "    for filename in os.listdir(directory):\n",
    "        file_path = os.path.join(directory, filename)\n",
    "        try:\n",
    "            if os.path.isfile(file_path) or os.path.islink(file_path):\n",
    "                os.unlink(file_path)  # This will delete the file or symlink\n",
    "            elif os.path.isdir(file_path):\n",
    "                # If you want to delete directories, uncomment the following line\n",
    "                # shutil.rmtree(file_path)\n",
    "                pass\n",
    "        except Exception as e:\n",
    "            print('Failed to delete %s. Reason: %s' % (file_path, e))\n",
    "\n",
    "\n",
    "delete_files_in_directory('/Users/karankooshavar/Downloads/archive/alls')\n",
    "print('fatto')"
   ]
  },
  {
   "cell_type": "markdown",
   "id": "f1e798be",
   "metadata": {},
   "source": [
    "# The four cells below are just to convert the files from .tsv to .csv\n",
    "Just because working with .csv is easier and more familiar to most users."
   ]
  },
  {
   "cell_type": "code",
   "execution_count": 2,
   "id": "7b0fce8c",
   "metadata": {},
   "outputs": [
    {
     "name": "stderr",
     "output_type": "stream",
     "text": [
      "/var/folders/wc/n_yxy54n7g94rjjzy4vskbkr0000gn/T/ipykernel_1720/2945633562.py:4: DtypeWarning: Columns (4) have mixed types. Specify dtype option on import or set low_memory=False.\n",
      "  df = pd.read_csv('/Users/karankooshavar/Downloads/archive/title.basics.tsv/data.tsv', sep='\\t')\n"
     ]
    },
    {
     "name": "stdout",
     "output_type": "stream",
     "text": [
      "fatto\n"
     ]
    }
   ],
   "source": [
    "import pandas as pd\n",
    "\n",
    "# Load the large dataset specifying the tab separator\n",
    "df = pd.read_csv('/Users/karankooshavar/Downloads/archive/title.basics.tsv/data.tsv', sep='\\t')\n",
    "\n",
    "# Save the smaller sample dataset as CSV\n",
    "df.to_csv('/Users/karankooshavar/Downloads/archive/alls/all_titles.csv', index=False)\n",
    "print('fatto')\n"
   ]
  },
  {
   "cell_type": "code",
   "execution_count": 3,
   "id": "34b5bca5",
   "metadata": {},
   "outputs": [
    {
     "name": "stdout",
     "output_type": "stream",
     "text": [
      "fatto\n"
     ]
    }
   ],
   "source": [
    "#import pandas as pd\n",
    "\n",
    "# Load the large dataset specifying the tab separator\n",
    "df = pd.read_csv('/Users/karankooshavar/Downloads/archive/title.ratings.tsv/data.tsv', sep='\\t')\n",
    "\n",
    "# Save the smaller sample dataset as CSV\n",
    "df.to_csv('/Users/karankooshavar/Downloads/archive/alls/all_ratings.csv', index=False)\n",
    "print('fatto')\n"
   ]
  },
  {
   "cell_type": "code",
   "execution_count": 4,
   "id": "6a89a336",
   "metadata": {},
   "outputs": [
    {
     "name": "stdout",
     "output_type": "stream",
     "text": [
      "fatto\n"
     ]
    }
   ],
   "source": [
    "#import pandas as pd\n",
    "\n",
    "# Load the large dataset specifying the tab separator\n",
    "df = pd.read_csv('/Users/karankooshavar/Downloads/archive/name.basics.tsv/data.tsv', sep='\\t')\n",
    "\n",
    "# Save the smaller sample dataset as CSV\n",
    "df.to_csv('/Users/karankooshavar/Downloads/archive/alls/all_people.csv', index=False)\n",
    "print('fatto')\n"
   ]
  },
  {
   "cell_type": "code",
   "execution_count": 5,
   "id": "16961ccd",
   "metadata": {},
   "outputs": [
    {
     "name": "stdout",
     "output_type": "stream",
     "text": [
      "fatto\n"
     ]
    }
   ],
   "source": [
    "#import pandas as pd\n",
    "\n",
    "# Load the large dataset specifying the tab separator\n",
    "df = pd.read_csv('/Users/karankooshavar/Downloads/archive/title.principals.tsv/data.tsv', sep='\\t')\n",
    "\n",
    "# Save the smaller sample dataset as CSV\n",
    "df.to_csv('/Users/karankooshavar/Downloads/archive/alls/all_roles.csv', index=False)\n",
    "print('fatto')\n"
   ]
  },
  {
   "cell_type": "markdown",
   "id": "3edcbc9f",
   "metadata": {},
   "source": [
    "# Cleaning the movie titles\n",
    "The cell uses 2 different tables to determin which movies are rated more than 6.5 and are rated by more that 100000 users. This part is to delete the less known movies from the data set, so the ordinary user is familiar with most of the movies that are questioned in the quiz."
   ]
  },
  {
   "cell_type": "code",
   "execution_count": 6,
   "id": "bd4ed22f",
   "metadata": {},
   "outputs": [
    {
     "name": "stderr",
     "output_type": "stream",
     "text": [
      "/var/folders/wc/n_yxy54n7g94rjjzy4vskbkr0000gn/T/ipykernel_1720/475274057.py:9: DtypeWarning: Columns (4) have mixed types. Specify dtype option on import or set low_memory=False.\n",
      "  titles_df = pd.read_csv(titles_path)\n"
     ]
    },
    {
     "name": "stdout",
     "output_type": "stream",
     "text": [
      "fatto\n"
     ]
    }
   ],
   "source": [
    "#import pandas as pd\n",
    "\n",
    "# Paths to the CSV files\n",
    "ratings_path = '/Users/karankooshavar/Downloads/archive/alls/all_ratings.csv'\n",
    "titles_path = '/Users/karankooshavar/Downloads/archive/alls/all_titles.csv'\n",
    "\n",
    "# Load the data from both files into pandas dataframes\n",
    "ratings_df = pd.read_csv(ratings_path)\n",
    "titles_df = pd.read_csv(titles_path)\n",
    "\n",
    "# Filter the ratings dataframe based on the given criteria\n",
    "filtered_ratings_df = ratings_df[(ratings_df['numVotes'] > 100000) & (ratings_df['averageRating'] > 6.5)]\n",
    "\n",
    "# Merge the filtered ratings dataframe with the titles dataframe on 'tconst'\n",
    "merged_df = pd.merge(filtered_ratings_df, titles_df, on='tconst', how='inner')\n",
    "\n",
    "# Path to the output CSV file\n",
    "output_path = 'filtered_titles.csv'\n",
    "\n",
    "# Save the merged dataframe to a CSV file\n",
    "merged_df.to_csv('/Users/karankooshavar/Downloads/archive/alls/all_filtered_titles.csv', index=False)\n",
    "\n",
    "print('fatto')\n"
   ]
  },
  {
   "cell_type": "markdown",
   "id": "ae47f1e6",
   "metadata": {},
   "source": [
    "This cell drops the columns in on the table that are not needed for our quiz."
   ]
  },
  {
   "cell_type": "code",
   "execution_count": 7,
   "id": "df09c374",
   "metadata": {},
   "outputs": [
    {
     "name": "stdout",
     "output_type": "stream",
     "text": [
      "fatto\n"
     ]
    }
   ],
   "source": [
    "#import pandas as pd\n",
    "\n",
    "# Path to the CSV file\n",
    "input_path = '/Users/karankooshavar/Downloads/archive/alls/all_filtered_titles.csv'\n",
    "\n",
    "# Load the data into a pandas dataframe\n",
    "df = pd.read_csv(input_path)\n",
    "\n",
    "# Drop the specified columns\n",
    "df = df.drop(columns=['originalTitle', 'isAdult', 'runtimeMinutes'])\n",
    "\n",
    "# Path to the output CSV file\n",
    "output_path = 'cleaned_titles.csv'\n",
    "\n",
    "# Save the dataframe to a new CSV file\n",
    "df.to_csv('/Users/karankooshavar/Downloads/archive/alls/all_cleaned_titles.csv', index=False)\n",
    "\n",
    "print('fatto')\n"
   ]
  },
  {
   "cell_type": "markdown",
   "id": "590b9d90",
   "metadata": {},
   "source": [
    "# Cleaning the roles table\n",
    "In the roles table we have Person-ID and Movie-ID of everyone ever in the movies. This cell only keeps the roles that the corresponding Movie-ID is in our previously cleaned and filtered movies dataset."
   ]
  },
  {
   "cell_type": "code",
   "execution_count": 8,
   "id": "a42c7ea1",
   "metadata": {},
   "outputs": [
    {
     "name": "stdout",
     "output_type": "stream",
     "text": [
      "fatto\n"
     ]
    }
   ],
   "source": [
    "#import pandas as pd\n",
    "\n",
    "# Load the data from both files into pandas dataframes\n",
    "cleaned_titles_path = '/Users/karankooshavar/Downloads/archive/alls/all_cleaned_titles.csv'\n",
    "roles_path = '/Users/karankooshavar/Downloads/archive/alls/all_roles.csv'\n",
    "\n",
    "cleaned_titles_df = pd.read_csv(cleaned_titles_path)\n",
    "roles_df = pd.read_csv(roles_path)\n",
    "\n",
    "# Filter roles_df to only keep rows with tconst present in cleaned_titles_df\n",
    "filtered_roles_df = roles_df[roles_df['tconst'].isin(cleaned_titles_df['tconst'])]\n",
    "\n",
    "# Save the filtered dataframe to a CSV file\n",
    "output_roles_path = 'filtered_roles.csv'\n",
    "filtered_roles_df.to_csv('/Users/karankooshavar/Downloads/archive/alls/all_cleaned_roles.csv', index=False)\n",
    "\n",
    "print('fatto')\n"
   ]
  },
  {
   "cell_type": "markdown",
   "id": "28f5c361",
   "metadata": {},
   "source": [
    "# Adding difficulty to each movie\n",
    "By using the K-means clustring, the cell below uses the YEAR, NUMBER OF VOTES and Average rating to cluster the movie titles to 3 groups. Then assigning them a difficulty score where 3 is the  most difficult and 1 is the easiest."
   ]
  },
  {
   "cell_type": "code",
   "execution_count": 13,
   "id": "ce3517e4",
   "metadata": {},
   "outputs": [
    {
     "name": "stdout",
     "output_type": "stream",
     "text": [
      "fatto\n"
     ]
    }
   ],
   "source": [
    "#import pandas as pd\n",
    "from sklearn.cluster import KMeans\n",
    "\n",
    "\n",
    "file_path = '/Users/karankooshavar/Downloads/archive/alls/all_cleaned_titles.csv'\n",
    "data = pd.read_csv(file_path)\n",
    "\n",
    "\n",
    "# Selecting the relevant columns for clustering\n",
    "X = data[['averageRating','numVotes', 'startYear']]\n",
    "\n",
    "# KMeans with 3 clusters\n",
    "kmeans = KMeans(n_clusters=3, random_state=0).fit(X)\n",
    "\n",
    "# Assigning the cluster labels to a new column in the dataframe\n",
    "data['difficulty'] = kmeans.labels_ + 1  # Adding 1 to make range 1-3 instead of 0-2\n",
    "\n",
    "# Swap 1 with 3 and 3 with 1\n",
    "data['difficulty'] = data['difficulty'].replace({1: 3, 3: 1})\n",
    "\n",
    "\n",
    "# Saving the modified dataframe to a new CSV file\n",
    "data.to_csv('/Users/karankooshavar/Downloads/archive/alls/all_with_difficulty_titles.csv', index=False)\n",
    "\n",
    "print('fatto')"
   ]
  },
  {
   "cell_type": "markdown",
   "id": "8d6cd659",
   "metadata": {},
   "source": [
    "Because the roles table doesn't include the name of the people amd just the Person-ID, this cell tries to merge two tables and put the name of the person according to their ID in the same table."
   ]
  },
  {
   "cell_type": "code",
   "execution_count": 10,
   "id": "e83e6017",
   "metadata": {},
   "outputs": [
    {
     "name": "stdout",
     "output_type": "stream",
     "text": [
      "fatto\n"
     ]
    }
   ],
   "source": [
    "#import pandas as pd\n",
    "\n",
    "# Load the data from both files into pandas dataframes\n",
    "cleaned_roles_path = '/Users/karankooshavar/Downloads/archive/alls/all_cleaned_roles.csv'\n",
    "allpeople_path = '/Users/karankooshavar/Downloads/archive/alls/all_people.csv'\n",
    "\n",
    "cleaned_roles_df = pd.read_csv(cleaned_roles_path)\n",
    "allpeople_df = pd.read_csv(allpeople_path)\n",
    "\n",
    "# Filter roles_df to only keep rows with tconst present in cleaned_titles_df\n",
    "filtered_roles_df = allpeople_df[allpeople_df['nconst'].isin(cleaned_roles_df['nconst'])]\n",
    "\n",
    "# Save the filtered dataframe to a CSV file\n",
    "output_roles_path = 'people_cleaned_roles.csv'\n",
    "filtered_roles_df.to_csv('/Users/karankooshavar/Downloads/archive/alls/people_cleaned_roles.csv', index=False)\n",
    "\n",
    "print('fatto')"
   ]
  },
  {
   "cell_type": "markdown",
   "id": "6ad99e96",
   "metadata": {},
   "source": [
    "Finally the data from all the files above are combined to have a table with all the data we want for the quiz."
   ]
  },
  {
   "cell_type": "code",
   "execution_count": 11,
   "id": "be10b3ae",
   "metadata": {},
   "outputs": [
    {
     "name": "stdout",
     "output_type": "stream",
     "text": [
      "fatto\n"
     ]
    }
   ],
   "source": [
    "#import pandas as pd\n",
    "\n",
    "# Load the data from both files into pandas dataframes\n",
    "cleaned_titles_path = '/Users/karankooshavar/Downloads/archive/alls/all_with_difficulty_titles.csv'\n",
    "roles_path = '/Users/karankooshavar/Downloads/archive/alls/all_cleaned_roles.csv'\n",
    "people_cleaned_path = \"/Users/karankooshavar/Downloads/archive/alls/people_cleaned_roles.csv\"\n",
    "\n",
    "\n",
    "cleaned_diffuculty_titles_df = pd.read_csv(cleaned_titles_path)\n",
    "roles_cleaned_df = pd.read_csv(roles_path)\n",
    "people_cleaned_roles_df = pd.read_csv(people_cleaned_path)\n",
    "\n",
    "# Merge the filtered ratings dataframe with the titles dataframe on 'tconst'\n",
    "merged_quiz_df = pd.merge(roles_cleaned_df[['tconst', 'nconst', 'category']],\n",
    "                     cleaned_diffuculty_titles_df[['tconst', 'titleType', 'primaryTitle', 'startYear','difficulty']],\n",
    "                     on='tconst', how='inner')\n",
    "merged_quiz2_df = pd.merge(merged_quiz_df,\n",
    "                     people_cleaned_roles_df[['nconst', 'primaryName']],\n",
    "                     on='nconst', how='inner')\n",
    "\n",
    "# Save the filtered dataframe to a CSV file\n",
    "output_roles_path = 'quizable_roles.csv'\n",
    "merged_quiz2_df.to_csv('/Users/karankooshavar/Downloads/archive/alls/all_qiuzable_roles.csv', index=False)\n",
    "\n",
    "print('fatto')"
   ]
  }
 ],
 "metadata": {
  "kernelspec": {
   "display_name": "Python 3 (ipykernel)",
   "language": "python",
   "name": "python3"
  },
  "language_info": {
   "codemirror_mode": {
    "name": "ipython",
    "version": 3
   },
   "file_extension": ".py",
   "mimetype": "text/x-python",
   "name": "python",
   "nbconvert_exporter": "python",
   "pygments_lexer": "ipython3",
   "version": "3.9.13"
  }
 },
 "nbformat": 4,
 "nbformat_minor": 5
}
