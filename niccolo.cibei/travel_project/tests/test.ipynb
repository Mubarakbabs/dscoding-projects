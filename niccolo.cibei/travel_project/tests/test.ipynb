{
 "cells": [
  {
   "cell_type": "code",
   "execution_count": 1,
   "id": "initial_id",
   "metadata": {
    "collapsed": true,
    "ExecuteTime": {
     "end_time": "2023-11-03T15:41:50.901975800Z",
     "start_time": "2023-11-03T15:41:49.790287100Z"
    }
   },
   "outputs": [],
   "source": [
    "import pandas as pd\n",
    "import numpy as np\n",
    "import scipy\n",
    "from Utils import ut"
   ]
  },
  {
   "cell_type": "code",
   "execution_count": 2,
   "outputs": [
    {
     "data": {
      "text/plain": "              city   city_ascii      lat       lng      country iso2 iso3  \\\n0            Tokyo        Tokyo  35.6897  139.6922        Japan   JP  JPN   \n1          Jakarta      Jakarta  -6.2146  106.8451    Indonesia   ID  IDN   \n2            Delhi        Delhi  28.6600   77.2300        India   IN  IND   \n3           Mumbai       Mumbai  18.9667   72.8333        India   IN  IND   \n4           Manila       Manila  14.5958  120.9772  Philippines   PH  PHL   \n...            ...          ...      ...       ...          ...  ...  ...   \n26564         Nord         Nord  81.7166  -17.8000    Greenland   GL  GRL   \n26565  Timmiarmiut  Timmiarmiut  62.5333  -42.2167    Greenland   GL  GRL   \n26566  Cheremoshna  Cheremoshna  51.3894   30.0989      Ukraine   UA  UKR   \n26567    Ambarchik    Ambarchik  69.6510  162.3336       Russia   RU  RUS   \n26568      Nordvik      Nordvik  74.0165  111.5100       Russia   RU  RUS   \n\n               admin_name  capital  population          id  \n0                   Tōkyō  primary  37977000.0  1392685764  \n1                 Jakarta  primary  34540000.0  1360771077  \n2                   Delhi    admin  29617000.0  1356872604  \n3             Mahārāshtra    admin  23355000.0  1356226629  \n4                  Manila  primary  23088000.0  1608618140  \n...                   ...      ...         ...         ...  \n26564          Sermersooq      NaN        10.0  1304217709  \n26565            Kujalleq      NaN        10.0  1304206491  \n26566   Kyyivs’ka Oblast’      NaN         0.0  1804043438  \n26567    Sakha (Yakutiya)      NaN         0.0  1643739159  \n26568  Krasnoyarskiy Kray      NaN         0.0  1643587468  \n\n[26569 rows x 11 columns]",
      "text/html": "<div>\n<style scoped>\n    .dataframe tbody tr th:only-of-type {\n        vertical-align: middle;\n    }\n\n    .dataframe tbody tr th {\n        vertical-align: top;\n    }\n\n    .dataframe thead th {\n        text-align: right;\n    }\n</style>\n<table border=\"1\" class=\"dataframe\">\n  <thead>\n    <tr style=\"text-align: right;\">\n      <th></th>\n      <th>city</th>\n      <th>city_ascii</th>\n      <th>lat</th>\n      <th>lng</th>\n      <th>country</th>\n      <th>iso2</th>\n      <th>iso3</th>\n      <th>admin_name</th>\n      <th>capital</th>\n      <th>population</th>\n      <th>id</th>\n    </tr>\n  </thead>\n  <tbody>\n    <tr>\n      <th>0</th>\n      <td>Tokyo</td>\n      <td>Tokyo</td>\n      <td>35.6897</td>\n      <td>139.6922</td>\n      <td>Japan</td>\n      <td>JP</td>\n      <td>JPN</td>\n      <td>Tōkyō</td>\n      <td>primary</td>\n      <td>37977000.0</td>\n      <td>1392685764</td>\n    </tr>\n    <tr>\n      <th>1</th>\n      <td>Jakarta</td>\n      <td>Jakarta</td>\n      <td>-6.2146</td>\n      <td>106.8451</td>\n      <td>Indonesia</td>\n      <td>ID</td>\n      <td>IDN</td>\n      <td>Jakarta</td>\n      <td>primary</td>\n      <td>34540000.0</td>\n      <td>1360771077</td>\n    </tr>\n    <tr>\n      <th>2</th>\n      <td>Delhi</td>\n      <td>Delhi</td>\n      <td>28.6600</td>\n      <td>77.2300</td>\n      <td>India</td>\n      <td>IN</td>\n      <td>IND</td>\n      <td>Delhi</td>\n      <td>admin</td>\n      <td>29617000.0</td>\n      <td>1356872604</td>\n    </tr>\n    <tr>\n      <th>3</th>\n      <td>Mumbai</td>\n      <td>Mumbai</td>\n      <td>18.9667</td>\n      <td>72.8333</td>\n      <td>India</td>\n      <td>IN</td>\n      <td>IND</td>\n      <td>Mahārāshtra</td>\n      <td>admin</td>\n      <td>23355000.0</td>\n      <td>1356226629</td>\n    </tr>\n    <tr>\n      <th>4</th>\n      <td>Manila</td>\n      <td>Manila</td>\n      <td>14.5958</td>\n      <td>120.9772</td>\n      <td>Philippines</td>\n      <td>PH</td>\n      <td>PHL</td>\n      <td>Manila</td>\n      <td>primary</td>\n      <td>23088000.0</td>\n      <td>1608618140</td>\n    </tr>\n    <tr>\n      <th>...</th>\n      <td>...</td>\n      <td>...</td>\n      <td>...</td>\n      <td>...</td>\n      <td>...</td>\n      <td>...</td>\n      <td>...</td>\n      <td>...</td>\n      <td>...</td>\n      <td>...</td>\n      <td>...</td>\n    </tr>\n    <tr>\n      <th>26564</th>\n      <td>Nord</td>\n      <td>Nord</td>\n      <td>81.7166</td>\n      <td>-17.8000</td>\n      <td>Greenland</td>\n      <td>GL</td>\n      <td>GRL</td>\n      <td>Sermersooq</td>\n      <td>NaN</td>\n      <td>10.0</td>\n      <td>1304217709</td>\n    </tr>\n    <tr>\n      <th>26565</th>\n      <td>Timmiarmiut</td>\n      <td>Timmiarmiut</td>\n      <td>62.5333</td>\n      <td>-42.2167</td>\n      <td>Greenland</td>\n      <td>GL</td>\n      <td>GRL</td>\n      <td>Kujalleq</td>\n      <td>NaN</td>\n      <td>10.0</td>\n      <td>1304206491</td>\n    </tr>\n    <tr>\n      <th>26566</th>\n      <td>Cheremoshna</td>\n      <td>Cheremoshna</td>\n      <td>51.3894</td>\n      <td>30.0989</td>\n      <td>Ukraine</td>\n      <td>UA</td>\n      <td>UKR</td>\n      <td>Kyyivs’ka Oblast’</td>\n      <td>NaN</td>\n      <td>0.0</td>\n      <td>1804043438</td>\n    </tr>\n    <tr>\n      <th>26567</th>\n      <td>Ambarchik</td>\n      <td>Ambarchik</td>\n      <td>69.6510</td>\n      <td>162.3336</td>\n      <td>Russia</td>\n      <td>RU</td>\n      <td>RUS</td>\n      <td>Sakha (Yakutiya)</td>\n      <td>NaN</td>\n      <td>0.0</td>\n      <td>1643739159</td>\n    </tr>\n    <tr>\n      <th>26568</th>\n      <td>Nordvik</td>\n      <td>Nordvik</td>\n      <td>74.0165</td>\n      <td>111.5100</td>\n      <td>Russia</td>\n      <td>RU</td>\n      <td>RUS</td>\n      <td>Krasnoyarskiy Kray</td>\n      <td>NaN</td>\n      <td>0.0</td>\n      <td>1643587468</td>\n    </tr>\n  </tbody>\n</table>\n<p>26569 rows × 11 columns</p>\n</div>"
     },
     "execution_count": 2,
     "metadata": {},
     "output_type": "execute_result"
    }
   ],
   "source": [
    "#url = 'http://island.ricerca.di.unimi.it/~alfio/shared/worldcities.xlsx'\n",
    "df= pd.read_excel(r\"C:\\Users\\cibei\\OneDrive\\Desktop\\Coding_for_data_science\\Python\\dscoding-projects\\niccolo.cibei\\travel_project\\travel_project\\dataset\\worldcities.xlsx\")\n",
    "\n",
    "df"
   ],
   "metadata": {
    "collapsed": false,
    "ExecuteTime": {
     "end_time": "2023-11-03T15:41:56.890483400Z",
     "start_time": "2023-11-03T15:41:53.491405300Z"
    }
   },
   "id": "d2b7213a1a6c3009"
  },
  {
   "cell_type": "code",
   "execution_count": 3,
   "outputs": [
    {
     "data": {
      "text/plain": "        city_ascii      lat       lng iso2  capital  population          id  \\\n0            Tokyo  35.6897  139.6922   JP  primary  37977000.0  1392685764   \n1          Jakarta  -6.2146  106.8451   ID  primary  34540000.0  1360771077   \n2            Delhi  28.6600   77.2300   IN    admin  29617000.0  1356872604   \n3           Mumbai  18.9667   72.8333   IN    admin  23355000.0  1356226629   \n4           Manila  14.5958  120.9772   PH  primary  23088000.0  1608618140   \n...            ...      ...       ...  ...      ...         ...         ...   \n26564         Nord  81.7166  -17.8000   GL      NaN        10.0  1304217709   \n26565  Timmiarmiut  62.5333  -42.2167   GL      NaN        10.0  1304206491   \n26566  Cheremoshna  51.3894   30.0989   UA      NaN         0.0  1804043438   \n26567    Ambarchik  69.6510  162.3336   RU      NaN         0.0  1643739159   \n26568      Nordvik  74.0165  111.5100   RU      NaN         0.0  1643587468   \n\n       closest_city_1  closest_city_2  closest_city_3  ...  closest_city_21  \\\n0          1392000470      1392975133      1392735490  ...       1392092333   \n1          1360006015      1360962899      1360002844  ...       1360745537   \n2          1356215164      1356691871      1356013205  ...       1356139858   \n3          1356923031      1356681152      1356019118  ...       1356840670   \n4          1608448280      1608897690      1608817515  ...       1608850554   \n...               ...             ...             ...  ...              ...   \n26564      1304036812      1352098424      1352929836  ...       1234210554   \n26565      1304138343      1304746917      1304230512  ...       1124741456   \n26566      1112972491      1804529063      1112536668  ...       1804757407   \n26567      1643001530      1643174283      1643015766  ...       1643382256   \n26568      1643550363      1643818493      1643497497  ...       1643010185   \n\n       closest_city_22  closest_city_23  closest_city_24  closest_city_25  \\\n0           1392340764       1392319161       1392309515       1392078110   \n1           1360148993       1360902897       1360384833       1360094721   \n2           1356168278       1356269375       1356004790       1356242932   \n3           1356110593       1356921375       1356224695       1356651502   \n4           1608826995       1608848483       1608418544       1608039268   \n...                ...              ...              ...              ...   \n26564       1234932703       1234512915       1234729250       1234436400   \n26565       1124000563       1124924217       1124372298       1304966853   \n26566       1112580227       1804079919       1112915706       1804003590   \n26567       1643408923       1643511192       1643837733       1643216966   \n26568       1643430483       1643662368       1643809018       1643535665   \n\n       closest_city_26  closest_city_27  closest_city_28  closest_city_29  \\\n0           1392118339       1392883192       1392398873       1392233405   \n1           1360901919       1360853933       1360027360       1360407556   \n2           1356099769       1356187395       1356947216       1356666569   \n3           1356675162       1356982375       1356800561       1356005329   \n4           1608358783       1608571683       1608990723       1608604441   \n...                ...              ...              ...              ...   \n26564       1234149995       1234814533       1234473077       1234200740   \n26565       1124068277       1304004889       1352563432       1352901945   \n26566       1112494264       1804648682       1112814087       1112844638   \n26567       1643731360       1643453469       1643017360       1643827519   \n26568       1643214114       1643265838       1643017251       1643610062   \n\n       closest_city_30  \n0           1392042507  \n1           1360921516  \n2           1356970407  \n3           1356314385  \n4           1608985581  \n...                ...  \n26564       1234508245  \n26565       1124408131  \n26566       1804758853  \n26567       1643784414  \n26568       1643494440  \n\n[26569 rows x 37 columns]",
      "text/html": "<div>\n<style scoped>\n    .dataframe tbody tr th:only-of-type {\n        vertical-align: middle;\n    }\n\n    .dataframe tbody tr th {\n        vertical-align: top;\n    }\n\n    .dataframe thead th {\n        text-align: right;\n    }\n</style>\n<table border=\"1\" class=\"dataframe\">\n  <thead>\n    <tr style=\"text-align: right;\">\n      <th></th>\n      <th>city_ascii</th>\n      <th>lat</th>\n      <th>lng</th>\n      <th>iso2</th>\n      <th>capital</th>\n      <th>population</th>\n      <th>id</th>\n      <th>closest_city_1</th>\n      <th>closest_city_2</th>\n      <th>closest_city_3</th>\n      <th>...</th>\n      <th>closest_city_21</th>\n      <th>closest_city_22</th>\n      <th>closest_city_23</th>\n      <th>closest_city_24</th>\n      <th>closest_city_25</th>\n      <th>closest_city_26</th>\n      <th>closest_city_27</th>\n      <th>closest_city_28</th>\n      <th>closest_city_29</th>\n      <th>closest_city_30</th>\n    </tr>\n  </thead>\n  <tbody>\n    <tr>\n      <th>0</th>\n      <td>Tokyo</td>\n      <td>35.6897</td>\n      <td>139.6922</td>\n      <td>JP</td>\n      <td>primary</td>\n      <td>37977000.0</td>\n      <td>1392685764</td>\n      <td>1392000470</td>\n      <td>1392975133</td>\n      <td>1392735490</td>\n      <td>...</td>\n      <td>1392092333</td>\n      <td>1392340764</td>\n      <td>1392319161</td>\n      <td>1392309515</td>\n      <td>1392078110</td>\n      <td>1392118339</td>\n      <td>1392883192</td>\n      <td>1392398873</td>\n      <td>1392233405</td>\n      <td>1392042507</td>\n    </tr>\n    <tr>\n      <th>1</th>\n      <td>Jakarta</td>\n      <td>-6.2146</td>\n      <td>106.8451</td>\n      <td>ID</td>\n      <td>primary</td>\n      <td>34540000.0</td>\n      <td>1360771077</td>\n      <td>1360006015</td>\n      <td>1360962899</td>\n      <td>1360002844</td>\n      <td>...</td>\n      <td>1360745537</td>\n      <td>1360148993</td>\n      <td>1360902897</td>\n      <td>1360384833</td>\n      <td>1360094721</td>\n      <td>1360901919</td>\n      <td>1360853933</td>\n      <td>1360027360</td>\n      <td>1360407556</td>\n      <td>1360921516</td>\n    </tr>\n    <tr>\n      <th>2</th>\n      <td>Delhi</td>\n      <td>28.6600</td>\n      <td>77.2300</td>\n      <td>IN</td>\n      <td>admin</td>\n      <td>29617000.0</td>\n      <td>1356872604</td>\n      <td>1356215164</td>\n      <td>1356691871</td>\n      <td>1356013205</td>\n      <td>...</td>\n      <td>1356139858</td>\n      <td>1356168278</td>\n      <td>1356269375</td>\n      <td>1356004790</td>\n      <td>1356242932</td>\n      <td>1356099769</td>\n      <td>1356187395</td>\n      <td>1356947216</td>\n      <td>1356666569</td>\n      <td>1356970407</td>\n    </tr>\n    <tr>\n      <th>3</th>\n      <td>Mumbai</td>\n      <td>18.9667</td>\n      <td>72.8333</td>\n      <td>IN</td>\n      <td>admin</td>\n      <td>23355000.0</td>\n      <td>1356226629</td>\n      <td>1356923031</td>\n      <td>1356681152</td>\n      <td>1356019118</td>\n      <td>...</td>\n      <td>1356840670</td>\n      <td>1356110593</td>\n      <td>1356921375</td>\n      <td>1356224695</td>\n      <td>1356651502</td>\n      <td>1356675162</td>\n      <td>1356982375</td>\n      <td>1356800561</td>\n      <td>1356005329</td>\n      <td>1356314385</td>\n    </tr>\n    <tr>\n      <th>4</th>\n      <td>Manila</td>\n      <td>14.5958</td>\n      <td>120.9772</td>\n      <td>PH</td>\n      <td>primary</td>\n      <td>23088000.0</td>\n      <td>1608618140</td>\n      <td>1608448280</td>\n      <td>1608897690</td>\n      <td>1608817515</td>\n      <td>...</td>\n      <td>1608850554</td>\n      <td>1608826995</td>\n      <td>1608848483</td>\n      <td>1608418544</td>\n      <td>1608039268</td>\n      <td>1608358783</td>\n      <td>1608571683</td>\n      <td>1608990723</td>\n      <td>1608604441</td>\n      <td>1608985581</td>\n    </tr>\n    <tr>\n      <th>...</th>\n      <td>...</td>\n      <td>...</td>\n      <td>...</td>\n      <td>...</td>\n      <td>...</td>\n      <td>...</td>\n      <td>...</td>\n      <td>...</td>\n      <td>...</td>\n      <td>...</td>\n      <td>...</td>\n      <td>...</td>\n      <td>...</td>\n      <td>...</td>\n      <td>...</td>\n      <td>...</td>\n      <td>...</td>\n      <td>...</td>\n      <td>...</td>\n      <td>...</td>\n      <td>...</td>\n    </tr>\n    <tr>\n      <th>26564</th>\n      <td>Nord</td>\n      <td>81.7166</td>\n      <td>-17.8000</td>\n      <td>GL</td>\n      <td>NaN</td>\n      <td>10.0</td>\n      <td>1304217709</td>\n      <td>1304036812</td>\n      <td>1352098424</td>\n      <td>1352929836</td>\n      <td>...</td>\n      <td>1234210554</td>\n      <td>1234932703</td>\n      <td>1234512915</td>\n      <td>1234729250</td>\n      <td>1234436400</td>\n      <td>1234149995</td>\n      <td>1234814533</td>\n      <td>1234473077</td>\n      <td>1234200740</td>\n      <td>1234508245</td>\n    </tr>\n    <tr>\n      <th>26565</th>\n      <td>Timmiarmiut</td>\n      <td>62.5333</td>\n      <td>-42.2167</td>\n      <td>GL</td>\n      <td>NaN</td>\n      <td>10.0</td>\n      <td>1304206491</td>\n      <td>1304138343</td>\n      <td>1304746917</td>\n      <td>1304230512</td>\n      <td>...</td>\n      <td>1124741456</td>\n      <td>1124000563</td>\n      <td>1124924217</td>\n      <td>1124372298</td>\n      <td>1304966853</td>\n      <td>1124068277</td>\n      <td>1304004889</td>\n      <td>1352563432</td>\n      <td>1352901945</td>\n      <td>1124408131</td>\n    </tr>\n    <tr>\n      <th>26566</th>\n      <td>Cheremoshna</td>\n      <td>51.3894</td>\n      <td>30.0989</td>\n      <td>UA</td>\n      <td>NaN</td>\n      <td>0.0</td>\n      <td>1804043438</td>\n      <td>1112972491</td>\n      <td>1804529063</td>\n      <td>1112536668</td>\n      <td>...</td>\n      <td>1804757407</td>\n      <td>1112580227</td>\n      <td>1804079919</td>\n      <td>1112915706</td>\n      <td>1804003590</td>\n      <td>1112494264</td>\n      <td>1804648682</td>\n      <td>1112814087</td>\n      <td>1112844638</td>\n      <td>1804758853</td>\n    </tr>\n    <tr>\n      <th>26567</th>\n      <td>Ambarchik</td>\n      <td>69.6510</td>\n      <td>162.3336</td>\n      <td>RU</td>\n      <td>NaN</td>\n      <td>0.0</td>\n      <td>1643739159</td>\n      <td>1643001530</td>\n      <td>1643174283</td>\n      <td>1643015766</td>\n      <td>...</td>\n      <td>1643382256</td>\n      <td>1643408923</td>\n      <td>1643511192</td>\n      <td>1643837733</td>\n      <td>1643216966</td>\n      <td>1643731360</td>\n      <td>1643453469</td>\n      <td>1643017360</td>\n      <td>1643827519</td>\n      <td>1643784414</td>\n    </tr>\n    <tr>\n      <th>26568</th>\n      <td>Nordvik</td>\n      <td>74.0165</td>\n      <td>111.5100</td>\n      <td>RU</td>\n      <td>NaN</td>\n      <td>0.0</td>\n      <td>1643587468</td>\n      <td>1643550363</td>\n      <td>1643818493</td>\n      <td>1643497497</td>\n      <td>...</td>\n      <td>1643010185</td>\n      <td>1643430483</td>\n      <td>1643662368</td>\n      <td>1643809018</td>\n      <td>1643535665</td>\n      <td>1643214114</td>\n      <td>1643265838</td>\n      <td>1643017251</td>\n      <td>1643610062</td>\n      <td>1643494440</td>\n    </tr>\n  </tbody>\n</table>\n<p>26569 rows × 37 columns</p>\n</div>"
     },
     "execution_count": 3,
     "metadata": {},
     "output_type": "execute_result"
    }
   ],
   "source": [
    "ut.cleaned_Dataframe(df)\n",
    "ut.find_closest_cities(df, k=30)"
   ],
   "metadata": {
    "collapsed": false,
    "ExecuteTime": {
     "end_time": "2023-11-03T15:44:36.343413600Z",
     "start_time": "2023-11-03T15:41:59.802276300Z"
    }
   },
   "id": "7cb4f5121c993437"
  },
  {
   "cell_type": "code",
   "execution_count": 7,
   "outputs": [
    {
     "ename": "NetworkXNoPath",
     "evalue": "Target 1392685764 cannot be reached from given sources",
     "output_type": "error",
     "traceback": [
      "\u001B[1;31m---------------------------------------------------------------------------\u001B[0m",
      "\u001B[1;31mNetworkXNoPath\u001B[0m                            Traceback (most recent call last)",
      "Cell \u001B[1;32mIn[7], line 33\u001B[0m\n\u001B[0;32m     30\u001B[0m target_id \u001B[38;5;241m=\u001B[39m df\u001B[38;5;241m.\u001B[39mloc[df[\u001B[38;5;124m'\u001B[39m\u001B[38;5;124mcity_ascii\u001B[39m\u001B[38;5;124m'\u001B[39m] \u001B[38;5;241m==\u001B[39m target_city_name, \u001B[38;5;124m'\u001B[39m\u001B[38;5;124mid\u001B[39m\u001B[38;5;124m'\u001B[39m]\u001B[38;5;241m.\u001B[39mvalues[\u001B[38;5;241m0\u001B[39m]\n\u001B[0;32m     32\u001B[0m \u001B[38;5;66;03m# Find the shortest path between the source and target city IDs\u001B[39;00m\n\u001B[1;32m---> 33\u001B[0m shortest_path \u001B[38;5;241m=\u001B[39m \u001B[43mnx\u001B[49m\u001B[38;5;241;43m.\u001B[39;49m\u001B[43mshortest_path\u001B[49m\u001B[43m(\u001B[49m\u001B[43mG\u001B[49m\u001B[43m,\u001B[49m\u001B[43m \u001B[49m\u001B[43msource\u001B[49m\u001B[38;5;241;43m=\u001B[39;49m\u001B[43msource_id\u001B[49m\u001B[43m,\u001B[49m\u001B[43m \u001B[49m\u001B[43mtarget\u001B[49m\u001B[38;5;241;43m=\u001B[39;49m\u001B[43mtarget_id\u001B[49m\u001B[43m,\u001B[49m\u001B[43m \u001B[49m\u001B[43mweight\u001B[49m\u001B[38;5;241;43m=\u001B[39;49m\u001B[38;5;124;43m'\u001B[39;49m\u001B[38;5;124;43mweight\u001B[39;49m\u001B[38;5;124;43m'\u001B[39;49m\u001B[43m,\u001B[49m\u001B[43m \u001B[49m\u001B[43mmethod\u001B[49m\u001B[38;5;241;43m=\u001B[39;49m\u001B[38;5;124;43m'\u001B[39;49m\u001B[38;5;124;43mbellman-ford\u001B[39;49m\u001B[38;5;124;43m'\u001B[39;49m\u001B[43m)\u001B[49m\n\u001B[0;32m     35\u001B[0m \u001B[38;5;28mprint\u001B[39m(\u001B[38;5;124m\"\u001B[39m\u001B[38;5;124mShortest Path (City IDs):\u001B[39m\u001B[38;5;124m\"\u001B[39m, shortest_path)\n",
      "File \u001B[1;32m~\\OneDrive\\Desktop\\Coding_for_data_science\\Python\\dscoding-projects\\niccolo.cibei\\Venv\\Lib\\site-packages\\networkx\\utils\\backends.py:412\u001B[0m, in \u001B[0;36m_dispatch.__call__\u001B[1;34m(self, backend, *args, **kwargs)\u001B[0m\n\u001B[0;32m    409\u001B[0m \u001B[38;5;28;01mdef\u001B[39;00m \u001B[38;5;21m__call__\u001B[39m(\u001B[38;5;28mself\u001B[39m, \u001B[38;5;241m/\u001B[39m, \u001B[38;5;241m*\u001B[39margs, backend\u001B[38;5;241m=\u001B[39m\u001B[38;5;28;01mNone\u001B[39;00m, \u001B[38;5;241m*\u001B[39m\u001B[38;5;241m*\u001B[39mkwargs):\n\u001B[0;32m    410\u001B[0m     \u001B[38;5;28;01mif\u001B[39;00m \u001B[38;5;129;01mnot\u001B[39;00m backends:\n\u001B[0;32m    411\u001B[0m         \u001B[38;5;66;03m# Fast path if no backends are installed\u001B[39;00m\n\u001B[1;32m--> 412\u001B[0m         \u001B[38;5;28;01mreturn\u001B[39;00m \u001B[38;5;28;43mself\u001B[39;49m\u001B[38;5;241;43m.\u001B[39;49m\u001B[43morig_func\u001B[49m\u001B[43m(\u001B[49m\u001B[38;5;241;43m*\u001B[39;49m\u001B[43margs\u001B[49m\u001B[43m,\u001B[49m\u001B[43m \u001B[49m\u001B[38;5;241;43m*\u001B[39;49m\u001B[38;5;241;43m*\u001B[39;49m\u001B[43mkwargs\u001B[49m\u001B[43m)\u001B[49m\n\u001B[0;32m    414\u001B[0m     \u001B[38;5;66;03m# Use `backend_name` in this function instead of `backend`\u001B[39;00m\n\u001B[0;32m    415\u001B[0m     backend_name \u001B[38;5;241m=\u001B[39m backend\n",
      "File \u001B[1;32m~\\OneDrive\\Desktop\\Coding_for_data_science\\Python\\dscoding-projects\\niccolo.cibei\\Venv\\Lib\\site-packages\\networkx\\algorithms\\shortest_paths\\generic.py:177\u001B[0m, in \u001B[0;36mshortest_path\u001B[1;34m(G, source, target, weight, method)\u001B[0m\n\u001B[0;32m    175\u001B[0m             _, paths \u001B[38;5;241m=\u001B[39m nx\u001B[38;5;241m.\u001B[39mbidirectional_dijkstra(G, source, target, weight)\n\u001B[0;32m    176\u001B[0m         \u001B[38;5;28;01melse\u001B[39;00m:  \u001B[38;5;66;03m# method == 'bellman-ford':\u001B[39;00m\n\u001B[1;32m--> 177\u001B[0m             paths \u001B[38;5;241m=\u001B[39m \u001B[43mnx\u001B[49m\u001B[38;5;241;43m.\u001B[39;49m\u001B[43mbellman_ford_path\u001B[49m\u001B[43m(\u001B[49m\u001B[43mG\u001B[49m\u001B[43m,\u001B[49m\u001B[43m \u001B[49m\u001B[43msource\u001B[49m\u001B[43m,\u001B[49m\u001B[43m \u001B[49m\u001B[43mtarget\u001B[49m\u001B[43m,\u001B[49m\u001B[43m \u001B[49m\u001B[43mweight\u001B[49m\u001B[43m)\u001B[49m\n\u001B[0;32m    178\u001B[0m \u001B[38;5;28;01mreturn\u001B[39;00m paths\n",
      "File \u001B[1;32m~\\OneDrive\\Desktop\\Coding_for_data_science\\Python\\dscoding-projects\\niccolo.cibei\\Venv\\Lib\\site-packages\\networkx\\utils\\backends.py:412\u001B[0m, in \u001B[0;36m_dispatch.__call__\u001B[1;34m(self, backend, *args, **kwargs)\u001B[0m\n\u001B[0;32m    409\u001B[0m \u001B[38;5;28;01mdef\u001B[39;00m \u001B[38;5;21m__call__\u001B[39m(\u001B[38;5;28mself\u001B[39m, \u001B[38;5;241m/\u001B[39m, \u001B[38;5;241m*\u001B[39margs, backend\u001B[38;5;241m=\u001B[39m\u001B[38;5;28;01mNone\u001B[39;00m, \u001B[38;5;241m*\u001B[39m\u001B[38;5;241m*\u001B[39mkwargs):\n\u001B[0;32m    410\u001B[0m     \u001B[38;5;28;01mif\u001B[39;00m \u001B[38;5;129;01mnot\u001B[39;00m backends:\n\u001B[0;32m    411\u001B[0m         \u001B[38;5;66;03m# Fast path if no backends are installed\u001B[39;00m\n\u001B[1;32m--> 412\u001B[0m         \u001B[38;5;28;01mreturn\u001B[39;00m \u001B[38;5;28;43mself\u001B[39;49m\u001B[38;5;241;43m.\u001B[39;49m\u001B[43morig_func\u001B[49m\u001B[43m(\u001B[49m\u001B[38;5;241;43m*\u001B[39;49m\u001B[43margs\u001B[49m\u001B[43m,\u001B[49m\u001B[43m \u001B[49m\u001B[38;5;241;43m*\u001B[39;49m\u001B[38;5;241;43m*\u001B[39;49m\u001B[43mkwargs\u001B[49m\u001B[43m)\u001B[49m\n\u001B[0;32m    414\u001B[0m     \u001B[38;5;66;03m# Use `backend_name` in this function instead of `backend`\u001B[39;00m\n\u001B[0;32m    415\u001B[0m     backend_name \u001B[38;5;241m=\u001B[39m backend\n",
      "File \u001B[1;32m~\\OneDrive\\Desktop\\Coding_for_data_science\\Python\\dscoding-projects\\niccolo.cibei\\Venv\\Lib\\site-packages\\networkx\\algorithms\\shortest_paths\\weighted.py:1542\u001B[0m, in \u001B[0;36mbellman_ford_path\u001B[1;34m(G, source, target, weight)\u001B[0m\n\u001B[0;32m   1487\u001B[0m \u001B[38;5;129m@nx\u001B[39m\u001B[38;5;241m.\u001B[39m_dispatch(edge_attrs\u001B[38;5;241m=\u001B[39m\u001B[38;5;124m\"\u001B[39m\u001B[38;5;124mweight\u001B[39m\u001B[38;5;124m\"\u001B[39m)\n\u001B[0;32m   1488\u001B[0m \u001B[38;5;28;01mdef\u001B[39;00m \u001B[38;5;21mbellman_ford_path\u001B[39m(G, source, target, weight\u001B[38;5;241m=\u001B[39m\u001B[38;5;124m\"\u001B[39m\u001B[38;5;124mweight\u001B[39m\u001B[38;5;124m\"\u001B[39m):\n\u001B[0;32m   1489\u001B[0m \u001B[38;5;250m    \u001B[39m\u001B[38;5;124;03m\"\"\"Returns the shortest path from source to target in a weighted graph G.\u001B[39;00m\n\u001B[0;32m   1490\u001B[0m \n\u001B[0;32m   1491\u001B[0m \u001B[38;5;124;03m    Parameters\u001B[39;00m\n\u001B[1;32m   (...)\u001B[0m\n\u001B[0;32m   1540\u001B[0m \u001B[38;5;124;03m    dijkstra_path, bellman_ford_path_length\u001B[39;00m\n\u001B[0;32m   1541\u001B[0m \u001B[38;5;124;03m    \"\"\"\u001B[39;00m\n\u001B[1;32m-> 1542\u001B[0m     length, path \u001B[38;5;241m=\u001B[39m \u001B[43msingle_source_bellman_ford\u001B[49m\u001B[43m(\u001B[49m\u001B[43mG\u001B[49m\u001B[43m,\u001B[49m\u001B[43m \u001B[49m\u001B[43msource\u001B[49m\u001B[43m,\u001B[49m\u001B[43m \u001B[49m\u001B[43mtarget\u001B[49m\u001B[38;5;241;43m=\u001B[39;49m\u001B[43mtarget\u001B[49m\u001B[43m,\u001B[49m\u001B[43m \u001B[49m\u001B[43mweight\u001B[49m\u001B[38;5;241;43m=\u001B[39;49m\u001B[43mweight\u001B[49m\u001B[43m)\u001B[49m\n\u001B[0;32m   1543\u001B[0m     \u001B[38;5;28;01mreturn\u001B[39;00m path\n",
      "File \u001B[1;32m~\\OneDrive\\Desktop\\Coding_for_data_science\\Python\\dscoding-projects\\niccolo.cibei\\Venv\\Lib\\site-packages\\networkx\\utils\\backends.py:412\u001B[0m, in \u001B[0;36m_dispatch.__call__\u001B[1;34m(self, backend, *args, **kwargs)\u001B[0m\n\u001B[0;32m    409\u001B[0m \u001B[38;5;28;01mdef\u001B[39;00m \u001B[38;5;21m__call__\u001B[39m(\u001B[38;5;28mself\u001B[39m, \u001B[38;5;241m/\u001B[39m, \u001B[38;5;241m*\u001B[39margs, backend\u001B[38;5;241m=\u001B[39m\u001B[38;5;28;01mNone\u001B[39;00m, \u001B[38;5;241m*\u001B[39m\u001B[38;5;241m*\u001B[39mkwargs):\n\u001B[0;32m    410\u001B[0m     \u001B[38;5;28;01mif\u001B[39;00m \u001B[38;5;129;01mnot\u001B[39;00m backends:\n\u001B[0;32m    411\u001B[0m         \u001B[38;5;66;03m# Fast path if no backends are installed\u001B[39;00m\n\u001B[1;32m--> 412\u001B[0m         \u001B[38;5;28;01mreturn\u001B[39;00m \u001B[38;5;28;43mself\u001B[39;49m\u001B[38;5;241;43m.\u001B[39;49m\u001B[43morig_func\u001B[49m\u001B[43m(\u001B[49m\u001B[38;5;241;43m*\u001B[39;49m\u001B[43margs\u001B[49m\u001B[43m,\u001B[49m\u001B[43m \u001B[49m\u001B[38;5;241;43m*\u001B[39;49m\u001B[38;5;241;43m*\u001B[39;49m\u001B[43mkwargs\u001B[49m\u001B[43m)\u001B[49m\n\u001B[0;32m    414\u001B[0m     \u001B[38;5;66;03m# Use `backend_name` in this function instead of `backend`\u001B[39;00m\n\u001B[0;32m    415\u001B[0m     backend_name \u001B[38;5;241m=\u001B[39m backend\n",
      "File \u001B[1;32m~\\OneDrive\\Desktop\\Coding_for_data_science\\Python\\dscoding-projects\\niccolo.cibei\\Venv\\Lib\\site-packages\\networkx\\algorithms\\shortest_paths\\weighted.py:1820\u001B[0m, in \u001B[0;36msingle_source_bellman_ford\u001B[1;34m(G, source, target, weight)\u001B[0m\n\u001B[0;32m   1817\u001B[0m weight \u001B[38;5;241m=\u001B[39m _weight_function(G, weight)\n\u001B[0;32m   1819\u001B[0m paths \u001B[38;5;241m=\u001B[39m {source: [source]}  \u001B[38;5;66;03m# dictionary of paths\u001B[39;00m\n\u001B[1;32m-> 1820\u001B[0m dist \u001B[38;5;241m=\u001B[39m \u001B[43m_bellman_ford\u001B[49m\u001B[43m(\u001B[49m\u001B[43mG\u001B[49m\u001B[43m,\u001B[49m\u001B[43m \u001B[49m\u001B[43m[\u001B[49m\u001B[43msource\u001B[49m\u001B[43m]\u001B[49m\u001B[43m,\u001B[49m\u001B[43m \u001B[49m\u001B[43mweight\u001B[49m\u001B[43m,\u001B[49m\u001B[43m \u001B[49m\u001B[43mpaths\u001B[49m\u001B[38;5;241;43m=\u001B[39;49m\u001B[43mpaths\u001B[49m\u001B[43m,\u001B[49m\u001B[43m \u001B[49m\u001B[43mtarget\u001B[49m\u001B[38;5;241;43m=\u001B[39;49m\u001B[43mtarget\u001B[49m\u001B[43m)\u001B[49m\n\u001B[0;32m   1821\u001B[0m \u001B[38;5;28;01mif\u001B[39;00m target \u001B[38;5;129;01mis\u001B[39;00m \u001B[38;5;28;01mNone\u001B[39;00m:\n\u001B[0;32m   1822\u001B[0m     \u001B[38;5;28;01mreturn\u001B[39;00m (dist, paths)\n",
      "File \u001B[1;32m~\\OneDrive\\Desktop\\Coding_for_data_science\\Python\\dscoding-projects\\niccolo.cibei\\Venv\\Lib\\site-packages\\networkx\\algorithms\\shortest_paths\\weighted.py:1358\u001B[0m, in \u001B[0;36m_bellman_ford\u001B[1;34m(G, source, weight, pred, paths, dist, target, heuristic)\u001B[0m\n\u001B[0;32m   1356\u001B[0m     \u001B[38;5;28;01mfor\u001B[39;00m dst \u001B[38;5;129;01min\u001B[39;00m dsts:\n\u001B[0;32m   1357\u001B[0m         gen \u001B[38;5;241m=\u001B[39m _build_paths_from_predecessors(sources, dst, pred)\n\u001B[1;32m-> 1358\u001B[0m         paths[dst] \u001B[38;5;241m=\u001B[39m \u001B[38;5;28;43mnext\u001B[39;49m\u001B[43m(\u001B[49m\u001B[43mgen\u001B[49m\u001B[43m)\u001B[49m\n\u001B[0;32m   1360\u001B[0m \u001B[38;5;28;01mreturn\u001B[39;00m dist\n",
      "File \u001B[1;32m~\\OneDrive\\Desktop\\Coding_for_data_science\\Python\\dscoding-projects\\niccolo.cibei\\Venv\\Lib\\site-packages\\networkx\\algorithms\\shortest_paths\\generic.py:696\u001B[0m, in \u001B[0;36m_build_paths_from_predecessors\u001B[1;34m(sources, target, pred)\u001B[0m\n\u001B[0;32m    656\u001B[0m \u001B[38;5;250m\u001B[39m\u001B[38;5;124;03m\"\"\"Compute all simple paths to target, given the predecessors found in\u001B[39;00m\n\u001B[0;32m    657\u001B[0m \u001B[38;5;124;03mpred, terminating when any source in sources is found.\u001B[39;00m\n\u001B[0;32m    658\u001B[0m \n\u001B[1;32m   (...)\u001B[0m\n\u001B[0;32m    693\u001B[0m \u001B[38;5;124;03mbellman_ford_path\u001B[39;00m\n\u001B[0;32m    694\u001B[0m \u001B[38;5;124;03m\"\"\"\u001B[39;00m\n\u001B[0;32m    695\u001B[0m \u001B[38;5;28;01mif\u001B[39;00m target \u001B[38;5;129;01mnot\u001B[39;00m \u001B[38;5;129;01min\u001B[39;00m pred:\n\u001B[1;32m--> 696\u001B[0m     \u001B[38;5;28;01mraise\u001B[39;00m nx\u001B[38;5;241m.\u001B[39mNetworkXNoPath(\u001B[38;5;124mf\u001B[39m\u001B[38;5;124m\"\u001B[39m\u001B[38;5;124mTarget \u001B[39m\u001B[38;5;132;01m{\u001B[39;00mtarget\u001B[38;5;132;01m}\u001B[39;00m\u001B[38;5;124m cannot be reached from given sources\u001B[39m\u001B[38;5;124m\"\u001B[39m)\n\u001B[0;32m    698\u001B[0m seen \u001B[38;5;241m=\u001B[39m {target}\n\u001B[0;32m    699\u001B[0m stack \u001B[38;5;241m=\u001B[39m [[target, \u001B[38;5;241m0\u001B[39m]]\n",
      "\u001B[1;31mNetworkXNoPath\u001B[0m: Target 1392685764 cannot be reached from given sources"
     ]
    }
   ],
   "source": [
    "#works!!!\n",
    "import networkx as nx\n",
    "import pandas as pd\n",
    "from haversine import haversine\n",
    "\n",
    "# Create a directed graph\n",
    "G = nx.DiGraph()\n",
    "\n",
    "# Add nodes for each city using their IDs\n",
    "for city_id in df['id']:\n",
    "    G.add_node(city_id)\n",
    "\n",
    "# Calculate distances and add edges between cities\n",
    "for i, row in df.iterrows():\n",
    "    city_id = row['id']\n",
    "    for j in range(1, 15):  # Iterate over closest_city_1, closest_city_2, closest_city_3, ...\n",
    "        closest_id = row[f'closest_city_{j}']\n",
    "        if closest_id is not None:  # we want to be sure that the closest city exists\n",
    "            coords1 = (row['lat'], row['lng'])\n",
    "            coords2 = df.loc[df['id'] == closest_id, ['lat', 'lng']].values[0]\n",
    "            distance = haversine(coords1, coords2)  # Calculate the Haversine distance\n",
    "            G.add_edge(city_id, closest_id, weight=distance)\n",
    "\n",
    "# Input the source and target city names\n",
    "source_city_name = \"London\"  # Replace with the actual source city name\n",
    "target_city_name = \"Tokyo\"  # Replace with the actual target city name\n",
    "\n",
    "# Find the corresponding IDs for the source and target cities\n",
    "source_id = df.loc[df['city_ascii'] == source_city_name, 'id'].values[0]\n",
    "target_id = df.loc[df['city_ascii'] == target_city_name, 'id'].values[0]\n",
    "\n",
    "# Find the shortest path between the source and target city IDs\n",
    "shortest_path = nx.shortest_path(G, source=source_id, target=target_id, weight='weight')\n",
    "\n",
    "print(\"Shortest Path (City IDs):\", shortest_path)\n"
   ],
   "metadata": {
    "collapsed": false,
    "ExecuteTime": {
     "end_time": "2023-11-03T16:35:47.260218300Z",
     "start_time": "2023-11-03T16:32:20.401502700Z"
    }
   },
   "id": "24cba63595b12cf5"
  },
  {
   "cell_type": "code",
   "execution_count": 5,
   "outputs": [],
   "source": [
    "#works!!!\n",
    "import folium\n",
    "\n",
    "def create_map(df, shortest_path):\n",
    "    # Create a map centered at the midpoint of the shortest path\n",
    "    midpoint_idx = len(shortest_path) // 2\n",
    "    midpoint_coords = df.loc[df['id'] == shortest_path[midpoint_idx], ['lat', 'lng']].values[0]\n",
    "    mappa = folium.Map(location=midpoint_coords, zoom_start=6)\n",
    "\n",
    "    # Add markers for each city along the shortest path\n",
    "    for city_id in shortest_path:\n",
    "        city_data = df.loc[df['id'] == city_id]\n",
    "        if not city_data.empty:\n",
    "            city_coords = city_data[['lat', 'lng']].values[0]\n",
    "            city_name = city_data['city_ascii'].values[0]\n",
    "            folium.Marker(city_coords, popup=city_name).add_to(mappa)\n",
    "\n",
    "    # Create a PolyLine to connect the cities in the shortest path\n",
    "    locations = [df.loc[df['id'] == city_id, ['lat', 'lng']].values[0] for city_id in shortest_path if not df.loc[df['id'] == city_id].empty]\n",
    "    line = folium.PolyLine(locations=locations, color='blue', weight=5, opacity=0.7)\n",
    "    line.add_to(mappa)\n",
    "\n",
    "    # Save the map to an HTML file\n",
    "    mappa.save('shortest_path_map.html')\n",
    "\n",
    "# Input the source and target city names\n",
    "source_city_name = \"London\"  # Replace with the actual source city name\n",
    "target_city_name = \"Tokyo\"  # Replace with the actual target city name\n",
    "\n",
    "# Find the corresponding IDs for the source and target cities\n",
    "source_id = df.loc[df['city_ascii'] == source_city_name, 'id'].values\n",
    "target_id = df.loc[df['city_ascii'] == target_city_name, 'id'].values\n",
    "\n",
    "# Ensure that the source and target IDs are not empty\n",
    "\n",
    "source_id = source_id[0]\n",
    "target_id = target_id[0]\n",
    "\n",
    "# Find the shortest path between the source and target city IDs\n",
    "shortest_path = nx.shortest_path(G, source=source_id, target=target_id, weight='weight')\n",
    "\n",
    "# Create and save the map for the shortest path\n",
    "create_map(df, shortest_path)\n"
   ],
   "metadata": {
    "collapsed": false,
    "ExecuteTime": {
     "end_time": "2023-11-03T15:52:20.304098400Z",
     "start_time": "2023-11-03T15:52:19.152306100Z"
    }
   },
   "id": "2cf999feeccd43a4"
  },
  {
   "cell_type": "code",
   "execution_count": 26,
   "outputs": [],
   "source": [],
   "metadata": {
    "collapsed": false
   },
   "id": "ec118de520ae6265"
  },
  {
   "cell_type": "code",
   "execution_count": null,
   "outputs": [],
   "source": [
    "import networkx as nx\n",
    "import pandas as pd\n",
    "from haversine import haversine\n",
    "\n",
    "\n",
    "\n",
    "# Create a directed graph\n",
    "G = nx.DiGraph()\n",
    "\n",
    "# Add nodes for each city using their IDs\n",
    "for city_id in df['id']:\n",
    "    G.add_node(city_id)\n",
    "\n",
    "# Calculate distances and add edges between cities\n",
    "for i, row in df.iterrows():\n",
    "    city_id = row['id']\n",
    "    for j in range(1, 4):  # Assuming 3 closest cities\n",
    "        closest_id = row[f'closest_city_{j}']\n",
    "        if closest_id is not None:\n",
    "            coords1 = (row['lat'], row['lng'])\n",
    "            coords2 = df.loc[df['id'] == closest_id, ['lat', 'lng']].values[0]\n",
    "            distance = haversine(coords1, coords2)  # Calculate the Haversine distance\n",
    "            G.add_edge(city_id, closest_id, weight=distance)\n",
    "\n",
    "# Start from London\n",
    "source_city_name = \"London\"\n",
    "source_id = df.loc[df['city_ascii'] == source_city_name, 'id'].values[0]\n",
    "\n",
    "# Find the shortest path that starts from London and ends in London\n",
    "shortest_path = nx.shortest_path(G, source=source_id, target=source_id, weight='weight')\n",
    "\n",
    "print(\"Shortest Path (City IDs):\", shortest_path)\n"
   ],
   "metadata": {
    "collapsed": false,
    "is_executing": true,
    "ExecuteTime": {
     "start_time": "2023-11-03T13:28:31.532175700Z"
    }
   },
   "id": "fd204a9d313f9c08"
  },
  {
   "cell_type": "code",
   "execution_count": null,
   "outputs": [],
   "source": [],
   "metadata": {
    "collapsed": false
   },
   "id": "8541fd138b3cbb13"
  }
 ],
 "metadata": {
  "kernelspec": {
   "display_name": "Python 3",
   "language": "python",
   "name": "python3"
  },
  "language_info": {
   "codemirror_mode": {
    "name": "ipython",
    "version": 2
   },
   "file_extension": ".py",
   "mimetype": "text/x-python",
   "name": "python",
   "nbconvert_exporter": "python",
   "pygments_lexer": "ipython2",
   "version": "2.7.6"
  }
 },
 "nbformat": 4,
 "nbformat_minor": 5
}
