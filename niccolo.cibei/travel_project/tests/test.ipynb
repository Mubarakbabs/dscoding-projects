{
 "cells": [
  {
   "cell_type": "code",
   "execution_count": 1,
   "id": "initial_id",
   "metadata": {
    "collapsed": true,
    "ExecuteTime": {
     "end_time": "2023-11-04T17:19:18.756670500Z",
     "start_time": "2023-11-04T17:19:14.731171400Z"
    }
   },
   "outputs": [],
   "source": [
    "import numpy\n",
    "import pandas as pd\n",
    "import numpy as np\n",
    "import scipy\n",
    "from Utils import ut"
   ]
  },
  {
   "cell_type": "code",
   "execution_count": 6,
   "outputs": [
    {
     "data": {
      "text/plain": "        city city_ascii      lat       lng      country iso2 iso3  \\\n0      Tokyo      Tokyo  35.6897  139.6922        Japan   JP  JPN   \n1    Jakarta    Jakarta  -6.2146  106.8451    Indonesia   ID  IDN   \n2      Delhi      Delhi  28.6600   77.2300        India   IN  IND   \n3     Mumbai     Mumbai  18.9667   72.8333        India   IN  IND   \n4     Manila     Manila  14.5958  120.9772  Philippines   PH  PHL   \n..       ...        ...      ...       ...          ...  ...  ...   \n95  Nanchong   Nanchong  30.7991  106.0784        China   CN  CHN   \n96     Zunyi      Zunyi  27.7050  106.9336        China   CN  CHN   \n97     Lu’an      Lu'an  31.7542  116.5078        China   CN  CHN   \n98    Yichun     Yichun  27.8041  114.3830        China   CN  CHN   \n99   Taizhou    Taizhou  28.6583  121.4221        China   CN  CHN   \n\n     admin_name  capital  population          id  \n0         Tōkyō  primary  37977000.0  1392685764  \n1       Jakarta  primary  34540000.0  1360771077  \n2         Delhi    admin  29617000.0  1356872604  \n3   Mahārāshtra    admin  23355000.0  1356226629  \n4        Manila  primary  23088000.0  1608618140  \n..          ...      ...         ...         ...  \n95      Sichuan    minor   6183000.0  1156762337  \n96      Guizhou      NaN   6127009.0  1156539782  \n97        Anhui    minor   6090000.0  1156499624  \n98      Jiangxi    minor   6048700.0  1156229590  \n99     Zhejiang    minor   5968838.0  1156322307  \n\n[100 rows x 11 columns]",
      "text/html": "<div>\n<style scoped>\n    .dataframe tbody tr th:only-of-type {\n        vertical-align: middle;\n    }\n\n    .dataframe tbody tr th {\n        vertical-align: top;\n    }\n\n    .dataframe thead th {\n        text-align: right;\n    }\n</style>\n<table border=\"1\" class=\"dataframe\">\n  <thead>\n    <tr style=\"text-align: right;\">\n      <th></th>\n      <th>city</th>\n      <th>city_ascii</th>\n      <th>lat</th>\n      <th>lng</th>\n      <th>country</th>\n      <th>iso2</th>\n      <th>iso3</th>\n      <th>admin_name</th>\n      <th>capital</th>\n      <th>population</th>\n      <th>id</th>\n    </tr>\n  </thead>\n  <tbody>\n    <tr>\n      <th>0</th>\n      <td>Tokyo</td>\n      <td>Tokyo</td>\n      <td>35.6897</td>\n      <td>139.6922</td>\n      <td>Japan</td>\n      <td>JP</td>\n      <td>JPN</td>\n      <td>Tōkyō</td>\n      <td>primary</td>\n      <td>37977000.0</td>\n      <td>1392685764</td>\n    </tr>\n    <tr>\n      <th>1</th>\n      <td>Jakarta</td>\n      <td>Jakarta</td>\n      <td>-6.2146</td>\n      <td>106.8451</td>\n      <td>Indonesia</td>\n      <td>ID</td>\n      <td>IDN</td>\n      <td>Jakarta</td>\n      <td>primary</td>\n      <td>34540000.0</td>\n      <td>1360771077</td>\n    </tr>\n    <tr>\n      <th>2</th>\n      <td>Delhi</td>\n      <td>Delhi</td>\n      <td>28.6600</td>\n      <td>77.2300</td>\n      <td>India</td>\n      <td>IN</td>\n      <td>IND</td>\n      <td>Delhi</td>\n      <td>admin</td>\n      <td>29617000.0</td>\n      <td>1356872604</td>\n    </tr>\n    <tr>\n      <th>3</th>\n      <td>Mumbai</td>\n      <td>Mumbai</td>\n      <td>18.9667</td>\n      <td>72.8333</td>\n      <td>India</td>\n      <td>IN</td>\n      <td>IND</td>\n      <td>Mahārāshtra</td>\n      <td>admin</td>\n      <td>23355000.0</td>\n      <td>1356226629</td>\n    </tr>\n    <tr>\n      <th>4</th>\n      <td>Manila</td>\n      <td>Manila</td>\n      <td>14.5958</td>\n      <td>120.9772</td>\n      <td>Philippines</td>\n      <td>PH</td>\n      <td>PHL</td>\n      <td>Manila</td>\n      <td>primary</td>\n      <td>23088000.0</td>\n      <td>1608618140</td>\n    </tr>\n    <tr>\n      <th>...</th>\n      <td>...</td>\n      <td>...</td>\n      <td>...</td>\n      <td>...</td>\n      <td>...</td>\n      <td>...</td>\n      <td>...</td>\n      <td>...</td>\n      <td>...</td>\n      <td>...</td>\n      <td>...</td>\n    </tr>\n    <tr>\n      <th>95</th>\n      <td>Nanchong</td>\n      <td>Nanchong</td>\n      <td>30.7991</td>\n      <td>106.0784</td>\n      <td>China</td>\n      <td>CN</td>\n      <td>CHN</td>\n      <td>Sichuan</td>\n      <td>minor</td>\n      <td>6183000.0</td>\n      <td>1156762337</td>\n    </tr>\n    <tr>\n      <th>96</th>\n      <td>Zunyi</td>\n      <td>Zunyi</td>\n      <td>27.7050</td>\n      <td>106.9336</td>\n      <td>China</td>\n      <td>CN</td>\n      <td>CHN</td>\n      <td>Guizhou</td>\n      <td>NaN</td>\n      <td>6127009.0</td>\n      <td>1156539782</td>\n    </tr>\n    <tr>\n      <th>97</th>\n      <td>Lu’an</td>\n      <td>Lu'an</td>\n      <td>31.7542</td>\n      <td>116.5078</td>\n      <td>China</td>\n      <td>CN</td>\n      <td>CHN</td>\n      <td>Anhui</td>\n      <td>minor</td>\n      <td>6090000.0</td>\n      <td>1156499624</td>\n    </tr>\n    <tr>\n      <th>98</th>\n      <td>Yichun</td>\n      <td>Yichun</td>\n      <td>27.8041</td>\n      <td>114.3830</td>\n      <td>China</td>\n      <td>CN</td>\n      <td>CHN</td>\n      <td>Jiangxi</td>\n      <td>minor</td>\n      <td>6048700.0</td>\n      <td>1156229590</td>\n    </tr>\n    <tr>\n      <th>99</th>\n      <td>Taizhou</td>\n      <td>Taizhou</td>\n      <td>28.6583</td>\n      <td>121.4221</td>\n      <td>China</td>\n      <td>CN</td>\n      <td>CHN</td>\n      <td>Zhejiang</td>\n      <td>minor</td>\n      <td>5968838.0</td>\n      <td>1156322307</td>\n    </tr>\n  </tbody>\n</table>\n<p>100 rows × 11 columns</p>\n</div>"
     },
     "execution_count": 6,
     "metadata": {},
     "output_type": "execute_result"
    }
   ],
   "source": [
    "#url = 'http://island.ricerca.di.unimi.it/~alfio/shared/worldcities.xlsx'\n",
    "df= pd.read_excel(r\"C:\\Users\\cibei\\OneDrive\\Desktop\\Coding_for_data_science\\Python\\dscoding-projects\\niccolo.cibei\\travel_project\\travel_project\\dataset\\worldcities.xlsx\")\n",
    "df = df.drop(index= range(100, 26569), axis=0)"
   ],
   "metadata": {
    "collapsed": false,
    "ExecuteTime": {
     "end_time": "2023-11-04T17:21:39.501629300Z",
     "start_time": "2023-11-04T17:21:36.697945400Z"
    }
   },
   "id": "d2b7213a1a6c3009"
  },
  {
   "cell_type": "code",
   "execution_count": 8,
   "outputs": [
    {
     "ename": "NetworkXNoPath",
     "evalue": "No path between 1826645935 and 1840034016.",
     "output_type": "error",
     "traceback": [
      "\u001B[1;31m---------------------------------------------------------------------------\u001B[0m",
      "\u001B[1;31mNetworkXNoPath\u001B[0m                            Traceback (most recent call last)",
      "Cell \u001B[1;32mIn[8], line 33\u001B[0m\n\u001B[0;32m     30\u001B[0m target_id \u001B[38;5;241m=\u001B[39m df\u001B[38;5;241m.\u001B[39mloc[df[\u001B[38;5;124m'\u001B[39m\u001B[38;5;124mcity_ascii\u001B[39m\u001B[38;5;124m'\u001B[39m] \u001B[38;5;241m==\u001B[39m target_city_name, \u001B[38;5;124m'\u001B[39m\u001B[38;5;124mid\u001B[39m\u001B[38;5;124m'\u001B[39m]\u001B[38;5;241m.\u001B[39mvalues[\u001B[38;5;241m0\u001B[39m]\n\u001B[0;32m     32\u001B[0m \u001B[38;5;66;03m# Find the shortest path between the source and target city IDs\u001B[39;00m\n\u001B[1;32m---> 33\u001B[0m shortest_path \u001B[38;5;241m=\u001B[39m \u001B[43mnx\u001B[49m\u001B[38;5;241;43m.\u001B[39;49m\u001B[43mshortest_path\u001B[49m\u001B[43m(\u001B[49m\u001B[43mG\u001B[49m\u001B[43m,\u001B[49m\u001B[43m \u001B[49m\u001B[43msource\u001B[49m\u001B[38;5;241;43m=\u001B[39;49m\u001B[43msource_id\u001B[49m\u001B[43m,\u001B[49m\u001B[43m \u001B[49m\u001B[43mtarget\u001B[49m\u001B[38;5;241;43m=\u001B[39;49m\u001B[43mtarget_id\u001B[49m\u001B[43m,\u001B[49m\u001B[43m \u001B[49m\u001B[43mweight\u001B[49m\u001B[38;5;241;43m=\u001B[39;49m\u001B[38;5;124;43m'\u001B[39;49m\u001B[38;5;124;43mweight\u001B[39;49m\u001B[38;5;124;43m'\u001B[39;49m\u001B[43m)\u001B[49m\n\u001B[0;32m     35\u001B[0m \u001B[38;5;28mprint\u001B[39m(\u001B[38;5;124m\"\u001B[39m\u001B[38;5;124mShortest Path (City IDs):\u001B[39m\u001B[38;5;124m\"\u001B[39m, shortest_path)\n",
      "File \u001B[1;32m~\\OneDrive\\Desktop\\Coding_for_data_science\\Python\\dscoding-projects\\niccolo.cibei\\Venv\\Lib\\site-packages\\networkx\\utils\\backends.py:412\u001B[0m, in \u001B[0;36m_dispatch.__call__\u001B[1;34m(self, backend, *args, **kwargs)\u001B[0m\n\u001B[0;32m    409\u001B[0m \u001B[38;5;28;01mdef\u001B[39;00m \u001B[38;5;21m__call__\u001B[39m(\u001B[38;5;28mself\u001B[39m, \u001B[38;5;241m/\u001B[39m, \u001B[38;5;241m*\u001B[39margs, backend\u001B[38;5;241m=\u001B[39m\u001B[38;5;28;01mNone\u001B[39;00m, \u001B[38;5;241m*\u001B[39m\u001B[38;5;241m*\u001B[39mkwargs):\n\u001B[0;32m    410\u001B[0m     \u001B[38;5;28;01mif\u001B[39;00m \u001B[38;5;129;01mnot\u001B[39;00m backends:\n\u001B[0;32m    411\u001B[0m         \u001B[38;5;66;03m# Fast path if no backends are installed\u001B[39;00m\n\u001B[1;32m--> 412\u001B[0m         \u001B[38;5;28;01mreturn\u001B[39;00m \u001B[38;5;28;43mself\u001B[39;49m\u001B[38;5;241;43m.\u001B[39;49m\u001B[43morig_func\u001B[49m\u001B[43m(\u001B[49m\u001B[38;5;241;43m*\u001B[39;49m\u001B[43margs\u001B[49m\u001B[43m,\u001B[49m\u001B[43m \u001B[49m\u001B[38;5;241;43m*\u001B[39;49m\u001B[38;5;241;43m*\u001B[39;49m\u001B[43mkwargs\u001B[49m\u001B[43m)\u001B[49m\n\u001B[0;32m    414\u001B[0m     \u001B[38;5;66;03m# Use `backend_name` in this function instead of `backend`\u001B[39;00m\n\u001B[0;32m    415\u001B[0m     backend_name \u001B[38;5;241m=\u001B[39m backend\n",
      "File \u001B[1;32m~\\OneDrive\\Desktop\\Coding_for_data_science\\Python\\dscoding-projects\\niccolo.cibei\\Venv\\Lib\\site-packages\\networkx\\algorithms\\shortest_paths\\generic.py:175\u001B[0m, in \u001B[0;36mshortest_path\u001B[1;34m(G, source, target, weight, method)\u001B[0m\n\u001B[0;32m    173\u001B[0m     paths \u001B[38;5;241m=\u001B[39m nx\u001B[38;5;241m.\u001B[39mbidirectional_shortest_path(G, source, target)\n\u001B[0;32m    174\u001B[0m \u001B[38;5;28;01melif\u001B[39;00m method \u001B[38;5;241m==\u001B[39m \u001B[38;5;124m\"\u001B[39m\u001B[38;5;124mdijkstra\u001B[39m\u001B[38;5;124m\"\u001B[39m:\n\u001B[1;32m--> 175\u001B[0m     _, paths \u001B[38;5;241m=\u001B[39m \u001B[43mnx\u001B[49m\u001B[38;5;241;43m.\u001B[39;49m\u001B[43mbidirectional_dijkstra\u001B[49m\u001B[43m(\u001B[49m\u001B[43mG\u001B[49m\u001B[43m,\u001B[49m\u001B[43m \u001B[49m\u001B[43msource\u001B[49m\u001B[43m,\u001B[49m\u001B[43m \u001B[49m\u001B[43mtarget\u001B[49m\u001B[43m,\u001B[49m\u001B[43m \u001B[49m\u001B[43mweight\u001B[49m\u001B[43m)\u001B[49m\n\u001B[0;32m    176\u001B[0m \u001B[38;5;28;01melse\u001B[39;00m:  \u001B[38;5;66;03m# method == 'bellman-ford':\u001B[39;00m\n\u001B[0;32m    177\u001B[0m     paths \u001B[38;5;241m=\u001B[39m nx\u001B[38;5;241m.\u001B[39mbellman_ford_path(G, source, target, weight)\n",
      "File \u001B[1;32m~\\OneDrive\\Desktop\\Coding_for_data_science\\Python\\dscoding-projects\\niccolo.cibei\\Venv\\Lib\\site-packages\\networkx\\utils\\backends.py:412\u001B[0m, in \u001B[0;36m_dispatch.__call__\u001B[1;34m(self, backend, *args, **kwargs)\u001B[0m\n\u001B[0;32m    409\u001B[0m \u001B[38;5;28;01mdef\u001B[39;00m \u001B[38;5;21m__call__\u001B[39m(\u001B[38;5;28mself\u001B[39m, \u001B[38;5;241m/\u001B[39m, \u001B[38;5;241m*\u001B[39margs, backend\u001B[38;5;241m=\u001B[39m\u001B[38;5;28;01mNone\u001B[39;00m, \u001B[38;5;241m*\u001B[39m\u001B[38;5;241m*\u001B[39mkwargs):\n\u001B[0;32m    410\u001B[0m     \u001B[38;5;28;01mif\u001B[39;00m \u001B[38;5;129;01mnot\u001B[39;00m backends:\n\u001B[0;32m    411\u001B[0m         \u001B[38;5;66;03m# Fast path if no backends are installed\u001B[39;00m\n\u001B[1;32m--> 412\u001B[0m         \u001B[38;5;28;01mreturn\u001B[39;00m \u001B[38;5;28;43mself\u001B[39;49m\u001B[38;5;241;43m.\u001B[39;49m\u001B[43morig_func\u001B[49m\u001B[43m(\u001B[49m\u001B[38;5;241;43m*\u001B[39;49m\u001B[43margs\u001B[49m\u001B[43m,\u001B[49m\u001B[43m \u001B[49m\u001B[38;5;241;43m*\u001B[39;49m\u001B[38;5;241;43m*\u001B[39;49m\u001B[43mkwargs\u001B[49m\u001B[43m)\u001B[49m\n\u001B[0;32m    414\u001B[0m     \u001B[38;5;66;03m# Use `backend_name` in this function instead of `backend`\u001B[39;00m\n\u001B[0;32m    415\u001B[0m     backend_name \u001B[38;5;241m=\u001B[39m backend\n",
      "File \u001B[1;32m~\\OneDrive\\Desktop\\Coding_for_data_science\\Python\\dscoding-projects\\niccolo.cibei\\Venv\\Lib\\site-packages\\networkx\\algorithms\\shortest_paths\\weighted.py:2431\u001B[0m, in \u001B[0;36mbidirectional_dijkstra\u001B[1;34m(G, source, target, weight)\u001B[0m\n\u001B[0;32m   2429\u001B[0m                     revpath\u001B[38;5;241m.\u001B[39mreverse()\n\u001B[0;32m   2430\u001B[0m                     finalpath \u001B[38;5;241m=\u001B[39m paths[\u001B[38;5;241m0\u001B[39m][w] \u001B[38;5;241m+\u001B[39m revpath[\u001B[38;5;241m1\u001B[39m:]\n\u001B[1;32m-> 2431\u001B[0m \u001B[38;5;28;01mraise\u001B[39;00m nx\u001B[38;5;241m.\u001B[39mNetworkXNoPath(\u001B[38;5;124mf\u001B[39m\u001B[38;5;124m\"\u001B[39m\u001B[38;5;124mNo path between \u001B[39m\u001B[38;5;132;01m{\u001B[39;00msource\u001B[38;5;132;01m}\u001B[39;00m\u001B[38;5;124m and \u001B[39m\u001B[38;5;132;01m{\u001B[39;00mtarget\u001B[38;5;132;01m}\u001B[39;00m\u001B[38;5;124m.\u001B[39m\u001B[38;5;124m\"\u001B[39m)\n",
      "\u001B[1;31mNetworkXNoPath\u001B[0m: No path between 1826645935 and 1840034016."
     ]
    }
   ],
   "source": [
    "#works!!!\n",
    "import networkx as nx\n",
    "import pandas as pd\n",
    "from haversine import haversine\n",
    "\n",
    "# Create a directed graph\n",
    "G = nx.DiGraph()\n",
    "\n",
    "# Add nodes for each city using their IDs\n",
    "for city_id in df['id']:\n",
    "    G.add_node(city_id)\n",
    "\n",
    "# Calculate distances and add edges between cities\n",
    "for i, row in df.iterrows():\n",
    "    city_id = row['id']\n",
    "    for j in range(1, 31):  # Iterate over closest_city_1, closest_city_2, closest_city_3, ...\n",
    "        closest_id = row[f'closest_city_{j}']\n",
    "        if closest_id is not None:  # we want to be sure that the closest city exists\n",
    "            coords1 = (row['lat'], row['lng'])\n",
    "            coords2 = df.loc[df['id'] == closest_id, ['lat', 'lng']].values[0]\n",
    "            distance = haversine(coords1, coords2)  # Calculate the Haversine distance\n",
    "            G.add_edge(city_id, closest_id, weight=distance)\n",
    "\n",
    "# Input the source and target city names\n",
    "source_city_name = \"London\"  # Replace with the actual source city name\n",
    "target_city_name = \"New York\"  # Replace with the actual target city name\n",
    "\n",
    "# Find the corresponding IDs for the source and target cities\n",
    "source_id = df.loc[df['city_ascii'] == source_city_name, 'id'].values[0]\n",
    "target_id = df.loc[df['city_ascii'] == target_city_name, 'id'].values[0]\n",
    "\n",
    "# Find the shortest path between the source and target city IDs\n",
    "shortest_path = nx.shortest_path(G, source=source_id, target=target_id, weight='weight')\n",
    "\n",
    "print(\"Shortest Path (City IDs):\", shortest_path)\n"
   ],
   "metadata": {
    "collapsed": false,
    "ExecuteTime": {
     "end_time": "2023-11-03T16:56:59.009309400Z",
     "start_time": "2023-11-03T16:50:13.776274300Z"
    }
   },
   "id": "24cba63595b12cf5"
  },
  {
   "cell_type": "code",
   "execution_count": 5,
   "outputs": [],
   "source": [
    "#works!!!\n",
    "import folium\n",
    "\n",
    "def create_map(df, shortest_path):\n",
    "    # Create a map centered at the midpoint of the shortest path\n",
    "    midpoint_idx = len(shortest_path) // 2\n",
    "    midpoint_coords = df.loc[df['id'] == shortest_path[midpoint_idx], ['lat', 'lng']].values[0]\n",
    "    mappa = folium.Map(location=midpoint_coords, zoom_start=6)\n",
    "\n",
    "    # Add markers for each city along the shortest path\n",
    "    for city_id in shortest_path:\n",
    "        city_data = df.loc[df['id'] == city_id]\n",
    "        if not city_data.empty:\n",
    "            city_coords = city_data[['lat', 'lng']].values[0]\n",
    "            city_name = city_data['city_ascii'].values[0]\n",
    "            folium.Marker(city_coords, popup=city_name).add_to(mappa)\n",
    "\n",
    "    # Create a PolyLine to connect the cities in the shortest path\n",
    "    locations = [df.loc[df['id'] == city_id, ['lat', 'lng']].values[0] for city_id in shortest_path if not df.loc[df['id'] == city_id].empty]\n",
    "    line = folium.PolyLine(locations=locations, color='blue', weight=5, opacity=0.7)\n",
    "    line.add_to(mappa)\n",
    "\n",
    "    # Save the map to an HTML file\n",
    "    mappa.save('shortest_path_map.html')\n",
    "\n",
    "# Input the source and target city names\n",
    "source_city_name = \"London\"  # Replace with the actual source city name\n",
    "target_city_name = \"Tokyo\"  # Replace with the actual target city name\n",
    "\n",
    "# Find the corresponding IDs for the source and target cities\n",
    "source_id = df.loc[df['city_ascii'] == source_city_name, 'id'].values\n",
    "target_id = df.loc[df['city_ascii'] == target_city_name, 'id'].values\n",
    "\n",
    "# Ensure that the source and target IDs are not empty\n",
    "\n",
    "source_id = source_id[0]\n",
    "target_id = target_id[0]\n",
    "\n",
    "# Find the shortest path between the source and target city IDs\n",
    "shortest_path = nx.shortest_path(G, source=source_id, target=target_id, weight='weight')\n",
    "\n",
    "# Create and save the map for the shortest path\n",
    "create_map(df, shortest_path)\n"
   ],
   "metadata": {
    "collapsed": false,
    "ExecuteTime": {
     "end_time": "2023-11-03T15:52:20.304098400Z",
     "start_time": "2023-11-03T15:52:19.152306100Z"
    }
   },
   "id": "2cf999feeccd43a4"
  },
  {
   "cell_type": "code",
   "execution_count": null,
   "outputs": [],
   "source": [
    "import networkx as nx\n",
    "\n",
    "from haversine import haversine\n",
    "\n",
    "\n",
    "\n",
    "# Create a directed graph\n",
    "G = nx.DiGraph()\n",
    "\n",
    "# Add nodes for each city using their IDs\n",
    "for city_id in df['id']:\n",
    "    G.add_node(city_id)\n",
    "\n",
    "# Calculate distances and add edges between cities\n",
    "for i, row in df.iterrows():\n",
    "    city_id = row['id']\n",
    "    for j in range(1, 4):  # Assuming 3 closest cities\n",
    "        closest_id = row[f'closest_city_{j}']\n",
    "        if closest_id is not None:\n",
    "            coords1 = (row['lat'], row['lng'])\n",
    "            coords2 = df.loc[df['id'] == closest_id, ['lat', 'lng']].values[0]\n",
    "            distance = haversine(coords1, coords2)  # Calculate the Haversine distance\n",
    "            G.add_edge(city_id, closest_id, weight=distance)\n",
    "\n",
    "# Start from London\n",
    "source_city_name = \"London\"\n",
    "source_id = df.loc[df['city_ascii'] == source_city_name, 'id'].values[0]\n",
    "\n",
    "# Find the shortest path that starts from London and ends in London\n",
    "shortest_path = nx.shortest_path(G, source=source_id, target=source_id, weight='weight')\n",
    "\n",
    "print(\"Shortest Path (City IDs):\", shortest_path)\n"
   ],
   "metadata": {
    "collapsed": false,
    "ExecuteTime": {
     "start_time": "2023-11-03T13:28:31.532175700Z"
    }
   },
   "id": "fd204a9d313f9c08"
  },
  {
   "cell_type": "code",
   "execution_count": 7,
   "outputs": [
    {
     "data": {
      "text/plain": "id          1392685764  1360771077  1356872604  1356226629  1608618140  \\\nid                                                                       \n1392685764         NaN  103.330660  121.981129  133.747195   54.726319   \n1360771077  103.330660         NaN   88.792425   82.129171   48.819357   \n1356872604  121.981129   88.792425         NaN   20.656595   89.178857   \n1356226629  133.747195   82.129171   20.656595         NaN   93.816894   \n1608618140   54.726319   48.819357   89.178857   93.816894         NaN   \n...                ...         ...         ...         ...         ...   \n1156762337   65.918513   71.848646   56.138085   68.482342   42.718339   \n1156539782   65.433672   65.828679   57.674041   68.315804   37.283321   \n1156499624   45.635730   76.035505   76.460165   88.315905   34.410737   \n1156229590   51.444760   67.622079   72.120045   82.438100   28.650500   \n1156322307   37.990805   73.353157   85.761236   96.152312   27.305033   \n\nid          1156073548  1076532519  1410836482  1484247881  1156237133  ...  \\\nid                                                                      ...   \n1392685764   36.441739  379.438080   24.903124  464.549213   56.794950  ...   \n1360771077   77.898765  299.750476   93.567289  402.831674   58.291842  ...   \n1356872604   85.985223  260.865283   98.124945  342.730626   70.739239  ...   \n1356226629   97.305534  246.096103  111.154042  333.734584   78.868085  ...   \n1608618140   32.173509  333.602108   46.118016  427.270283   22.329309  ...   \n...                ...         ...         ...         ...         ...  ...   \n1156762337   29.871576  314.578444   42.682218  398.857041   20.390591  ...   \n1156539782   28.992656  314.190590   43.404550  400.229862   15.151282  ...   \n1156499624    9.690704  334.306413   23.292877  419.168651   17.887450  ...   \n1156229590   15.217256  327.994282   30.978998  414.682901    9.331965  ...   \n1156322307    4.868872  341.522408   20.425139  428.398963   19.134302  ...   \n\nid          1156932948  1156829655  1156275243  1840015149  1156477539  \\\nid                                                                       \n1392685764   35.910779   45.989732   39.333268  427.182962   74.691240   \n1360771077   89.150134   64.565794   75.342680  368.292266   61.192340   \n1356872604   87.124927   80.585973   83.383437  305.587850   49.936083   \n1356226629  100.569045   89.537825   94.433766  297.302195   59.160746   \n1608618140   44.259549   20.555313   30.421034  391.044167   40.846095   \n...                ...         ...         ...         ...         ...   \n1156762337   32.137431   26.825453   27.362579  361.651593   12.946337   \n1156539782   33.580406   23.252653   26.152923  363.200840    9.694912   \n1156499624   14.328960   13.874109    7.678689  381.935683   29.782866   \n1156229590   22.917928    9.898747   12.188009  377.658729   23.285665   \n1156322307   16.967303    9.116138    3.933205  391.338182   36.992664   \n\nid          1156762337  1156539782  1156499624  1156229590  1156322307  \nid                                                                      \n1392685764   65.918513   65.433672   45.635730   51.444760   37.990805  \n1360771077   71.848646   65.828679   76.035505   67.622079   73.353157  \n1356872604   56.138085   57.674041   76.460165   72.120045   85.761236  \n1356226629   68.482342   68.315804   88.315905   82.438100   96.152312  \n1608618140   42.718339   37.283321   34.410737   28.650500   27.305033  \n...                ...         ...         ...         ...         ...  \n1156762337         NaN    6.229913   20.324329   17.132384   30.065060  \n1156539782    6.229913         NaN   20.173579   14.457964   28.177891  \n1156499624   20.324329   20.173579         NaN    8.704664   11.271708  \n1156229590   17.132384   14.457964    8.704664         NaN   13.760640  \n1156322307   30.065060   28.177891   11.271708   13.760640         NaN  \n\n[100 rows x 100 columns]",
      "text/html": "<div>\n<style scoped>\n    .dataframe tbody tr th:only-of-type {\n        vertical-align: middle;\n    }\n\n    .dataframe tbody tr th {\n        vertical-align: top;\n    }\n\n    .dataframe thead th {\n        text-align: right;\n    }\n</style>\n<table border=\"1\" class=\"dataframe\">\n  <thead>\n    <tr style=\"text-align: right;\">\n      <th>id</th>\n      <th>1392685764</th>\n      <th>1360771077</th>\n      <th>1356872604</th>\n      <th>1356226629</th>\n      <th>1608618140</th>\n      <th>1156073548</th>\n      <th>1076532519</th>\n      <th>1410836482</th>\n      <th>1484247881</th>\n      <th>1156237133</th>\n      <th>...</th>\n      <th>1156932948</th>\n      <th>1156829655</th>\n      <th>1156275243</th>\n      <th>1840015149</th>\n      <th>1156477539</th>\n      <th>1156762337</th>\n      <th>1156539782</th>\n      <th>1156499624</th>\n      <th>1156229590</th>\n      <th>1156322307</th>\n    </tr>\n    <tr>\n      <th>id</th>\n      <th></th>\n      <th></th>\n      <th></th>\n      <th></th>\n      <th></th>\n      <th></th>\n      <th></th>\n      <th></th>\n      <th></th>\n      <th></th>\n      <th></th>\n      <th></th>\n      <th></th>\n      <th></th>\n      <th></th>\n      <th></th>\n      <th></th>\n      <th></th>\n      <th></th>\n      <th></th>\n      <th></th>\n    </tr>\n  </thead>\n  <tbody>\n    <tr>\n      <th>1392685764</th>\n      <td>NaN</td>\n      <td>103.330660</td>\n      <td>121.981129</td>\n      <td>133.747195</td>\n      <td>54.726319</td>\n      <td>36.441739</td>\n      <td>379.438080</td>\n      <td>24.903124</td>\n      <td>464.549213</td>\n      <td>56.794950</td>\n      <td>...</td>\n      <td>35.910779</td>\n      <td>45.989732</td>\n      <td>39.333268</td>\n      <td>427.182962</td>\n      <td>74.691240</td>\n      <td>65.918513</td>\n      <td>65.433672</td>\n      <td>45.635730</td>\n      <td>51.444760</td>\n      <td>37.990805</td>\n    </tr>\n    <tr>\n      <th>1360771077</th>\n      <td>103.330660</td>\n      <td>NaN</td>\n      <td>88.792425</td>\n      <td>82.129171</td>\n      <td>48.819357</td>\n      <td>77.898765</td>\n      <td>299.750476</td>\n      <td>93.567289</td>\n      <td>402.831674</td>\n      <td>58.291842</td>\n      <td>...</td>\n      <td>89.150134</td>\n      <td>64.565794</td>\n      <td>75.342680</td>\n      <td>368.292266</td>\n      <td>61.192340</td>\n      <td>71.848646</td>\n      <td>65.828679</td>\n      <td>76.035505</td>\n      <td>67.622079</td>\n      <td>73.353157</td>\n    </tr>\n    <tr>\n      <th>1356872604</th>\n      <td>121.981129</td>\n      <td>88.792425</td>\n      <td>NaN</td>\n      <td>20.656595</td>\n      <td>89.178857</td>\n      <td>85.985223</td>\n      <td>260.865283</td>\n      <td>98.124945</td>\n      <td>342.730626</td>\n      <td>70.739239</td>\n      <td>...</td>\n      <td>87.124927</td>\n      <td>80.585973</td>\n      <td>83.383437</td>\n      <td>305.587850</td>\n      <td>49.936083</td>\n      <td>56.138085</td>\n      <td>57.674041</td>\n      <td>76.460165</td>\n      <td>72.120045</td>\n      <td>85.761236</td>\n    </tr>\n    <tr>\n      <th>1356226629</th>\n      <td>133.747195</td>\n      <td>82.129171</td>\n      <td>20.656595</td>\n      <td>NaN</td>\n      <td>93.816894</td>\n      <td>97.305534</td>\n      <td>246.096103</td>\n      <td>111.154042</td>\n      <td>333.734584</td>\n      <td>78.868085</td>\n      <td>...</td>\n      <td>100.569045</td>\n      <td>89.537825</td>\n      <td>94.433766</td>\n      <td>297.302195</td>\n      <td>59.160746</td>\n      <td>68.482342</td>\n      <td>68.315804</td>\n      <td>88.315905</td>\n      <td>82.438100</td>\n      <td>96.152312</td>\n    </tr>\n    <tr>\n      <th>1608618140</th>\n      <td>54.726319</td>\n      <td>48.819357</td>\n      <td>89.178857</td>\n      <td>93.816894</td>\n      <td>NaN</td>\n      <td>32.173509</td>\n      <td>333.602108</td>\n      <td>46.118016</td>\n      <td>427.270283</td>\n      <td>22.329309</td>\n      <td>...</td>\n      <td>44.259549</td>\n      <td>20.555313</td>\n      <td>30.421034</td>\n      <td>391.044167</td>\n      <td>40.846095</td>\n      <td>42.718339</td>\n      <td>37.283321</td>\n      <td>34.410737</td>\n      <td>28.650500</td>\n      <td>27.305033</td>\n    </tr>\n    <tr>\n      <th>...</th>\n      <td>...</td>\n      <td>...</td>\n      <td>...</td>\n      <td>...</td>\n      <td>...</td>\n      <td>...</td>\n      <td>...</td>\n      <td>...</td>\n      <td>...</td>\n      <td>...</td>\n      <td>...</td>\n      <td>...</td>\n      <td>...</td>\n      <td>...</td>\n      <td>...</td>\n      <td>...</td>\n      <td>...</td>\n      <td>...</td>\n      <td>...</td>\n      <td>...</td>\n      <td>...</td>\n    </tr>\n    <tr>\n      <th>1156762337</th>\n      <td>65.918513</td>\n      <td>71.848646</td>\n      <td>56.138085</td>\n      <td>68.482342</td>\n      <td>42.718339</td>\n      <td>29.871576</td>\n      <td>314.578444</td>\n      <td>42.682218</td>\n      <td>398.857041</td>\n      <td>20.390591</td>\n      <td>...</td>\n      <td>32.137431</td>\n      <td>26.825453</td>\n      <td>27.362579</td>\n      <td>361.651593</td>\n      <td>12.946337</td>\n      <td>NaN</td>\n      <td>6.229913</td>\n      <td>20.324329</td>\n      <td>17.132384</td>\n      <td>30.065060</td>\n    </tr>\n    <tr>\n      <th>1156539782</th>\n      <td>65.433672</td>\n      <td>65.828679</td>\n      <td>57.674041</td>\n      <td>68.315804</td>\n      <td>37.283321</td>\n      <td>28.992656</td>\n      <td>314.190590</td>\n      <td>43.404550</td>\n      <td>400.229862</td>\n      <td>15.151282</td>\n      <td>...</td>\n      <td>33.580406</td>\n      <td>23.252653</td>\n      <td>26.152923</td>\n      <td>363.200840</td>\n      <td>9.694912</td>\n      <td>6.229913</td>\n      <td>NaN</td>\n      <td>20.173579</td>\n      <td>14.457964</td>\n      <td>28.177891</td>\n    </tr>\n    <tr>\n      <th>1156499624</th>\n      <td>45.635730</td>\n      <td>76.035505</td>\n      <td>76.460165</td>\n      <td>88.315905</td>\n      <td>34.410737</td>\n      <td>9.690704</td>\n      <td>334.306413</td>\n      <td>23.292877</td>\n      <td>419.168651</td>\n      <td>17.887450</td>\n      <td>...</td>\n      <td>14.328960</td>\n      <td>13.874109</td>\n      <td>7.678689</td>\n      <td>381.935683</td>\n      <td>29.782866</td>\n      <td>20.324329</td>\n      <td>20.173579</td>\n      <td>NaN</td>\n      <td>8.704664</td>\n      <td>11.271708</td>\n    </tr>\n    <tr>\n      <th>1156229590</th>\n      <td>51.444760</td>\n      <td>67.622079</td>\n      <td>72.120045</td>\n      <td>82.438100</td>\n      <td>28.650500</td>\n      <td>15.217256</td>\n      <td>327.994282</td>\n      <td>30.978998</td>\n      <td>414.682901</td>\n      <td>9.331965</td>\n      <td>...</td>\n      <td>22.917928</td>\n      <td>9.898747</td>\n      <td>12.188009</td>\n      <td>377.658729</td>\n      <td>23.285665</td>\n      <td>17.132384</td>\n      <td>14.457964</td>\n      <td>8.704664</td>\n      <td>NaN</td>\n      <td>13.760640</td>\n    </tr>\n    <tr>\n      <th>1156322307</th>\n      <td>37.990805</td>\n      <td>73.353157</td>\n      <td>85.761236</td>\n      <td>96.152312</td>\n      <td>27.305033</td>\n      <td>4.868872</td>\n      <td>341.522408</td>\n      <td>20.425139</td>\n      <td>428.398963</td>\n      <td>19.134302</td>\n      <td>...</td>\n      <td>16.967303</td>\n      <td>9.116138</td>\n      <td>3.933205</td>\n      <td>391.338182</td>\n      <td>36.992664</td>\n      <td>30.065060</td>\n      <td>28.177891</td>\n      <td>11.271708</td>\n      <td>13.760640</td>\n      <td>NaN</td>\n    </tr>\n  </tbody>\n</table>\n<p>100 rows × 100 columns</p>\n</div>"
     },
     "execution_count": 7,
     "metadata": {},
     "output_type": "execute_result"
    }
   ],
   "source": [
    "hav_matrix = ut.haversine_matrix(df)\n",
    "hav_matrix"
   ],
   "metadata": {
    "collapsed": false,
    "ExecuteTime": {
     "end_time": "2023-11-04T17:21:47.339028700Z",
     "start_time": "2023-11-04T17:21:47.276229400Z"
    }
   },
   "id": "a76a43578f81eb46"
  },
  {
   "cell_type": "code",
   "execution_count": 33,
   "outputs": [
    {
     "ename": "KeyError",
     "evalue": "1",
     "output_type": "error",
     "traceback": [
      "\u001B[1;31m---------------------------------------------------------------------------\u001B[0m",
      "\u001B[1;31mKeyError\u001B[0m                                  Traceback (most recent call last)",
      "File \u001B[1;32m~\\OneDrive\\Desktop\\Coding_for_data_science\\Python\\dscoding-projects\\niccolo.cibei\\Venv\\Lib\\site-packages\\pandas\\core\\indexes\\base.py:3790\u001B[0m, in \u001B[0;36mIndex.get_loc\u001B[1;34m(self, key)\u001B[0m\n\u001B[0;32m   3789\u001B[0m \u001B[38;5;28;01mtry\u001B[39;00m:\n\u001B[1;32m-> 3790\u001B[0m     \u001B[38;5;28;01mreturn\u001B[39;00m \u001B[38;5;28;43mself\u001B[39;49m\u001B[38;5;241;43m.\u001B[39;49m\u001B[43m_engine\u001B[49m\u001B[38;5;241;43m.\u001B[39;49m\u001B[43mget_loc\u001B[49m\u001B[43m(\u001B[49m\u001B[43mcasted_key\u001B[49m\u001B[43m)\u001B[49m\n\u001B[0;32m   3791\u001B[0m \u001B[38;5;28;01mexcept\u001B[39;00m \u001B[38;5;167;01mKeyError\u001B[39;00m \u001B[38;5;28;01mas\u001B[39;00m err:\n",
      "File \u001B[1;32mindex.pyx:152\u001B[0m, in \u001B[0;36mpandas._libs.index.IndexEngine.get_loc\u001B[1;34m()\u001B[0m\n",
      "File \u001B[1;32mindex.pyx:181\u001B[0m, in \u001B[0;36mpandas._libs.index.IndexEngine.get_loc\u001B[1;34m()\u001B[0m\n",
      "File \u001B[1;32mpandas\\_libs\\hashtable_class_helper.pxi:7080\u001B[0m, in \u001B[0;36mpandas._libs.hashtable.PyObjectHashTable.get_item\u001B[1;34m()\u001B[0m\n",
      "File \u001B[1;32mpandas\\_libs\\hashtable_class_helper.pxi:7088\u001B[0m, in \u001B[0;36mpandas._libs.hashtable.PyObjectHashTable.get_item\u001B[1;34m()\u001B[0m\n",
      "\u001B[1;31mKeyError\u001B[0m: 1",
      "\nThe above exception was the direct cause of the following exception:\n",
      "\u001B[1;31mKeyError\u001B[0m                                  Traceback (most recent call last)",
      "Cell \u001B[1;32mIn[33], line 11\u001B[0m\n\u001B[0;32m      9\u001B[0m cc \u001B[38;5;241m=\u001B[39m hav_matrix\u001B[38;5;241m.\u001B[39miloc[\u001B[38;5;241m0\u001B[39m]\u001B[38;5;241m.\u001B[39msort_values()\n\u001B[0;32m     10\u001B[0m \u001B[38;5;28;01mfor\u001B[39;00m i \u001B[38;5;129;01min\u001B[39;00m \u001B[38;5;28mrange\u001B[39m(\u001B[38;5;241m1\u001B[39m,\u001B[38;5;241m4\u001B[39m):\n\u001B[1;32m---> 11\u001B[0m    G\u001B[38;5;241m.\u001B[39madd_edge(\u001B[43mdf\u001B[49m\u001B[43m[\u001B[49m\u001B[38;5;241;43m1\u001B[39;49m\u001B[43m]\u001B[49m, cc[\u001B[38;5;124m'\u001B[39m\u001B[38;5;124mid\u001B[39m\u001B[38;5;124m'\u001B[39m], weight\u001B[38;5;241m=\u001B[39mdistance)\n",
      "File \u001B[1;32m~\\OneDrive\\Desktop\\Coding_for_data_science\\Python\\dscoding-projects\\niccolo.cibei\\Venv\\Lib\\site-packages\\pandas\\core\\frame.py:3893\u001B[0m, in \u001B[0;36mDataFrame.__getitem__\u001B[1;34m(self, key)\u001B[0m\n\u001B[0;32m   3891\u001B[0m \u001B[38;5;28;01mif\u001B[39;00m \u001B[38;5;28mself\u001B[39m\u001B[38;5;241m.\u001B[39mcolumns\u001B[38;5;241m.\u001B[39mnlevels \u001B[38;5;241m>\u001B[39m \u001B[38;5;241m1\u001B[39m:\n\u001B[0;32m   3892\u001B[0m     \u001B[38;5;28;01mreturn\u001B[39;00m \u001B[38;5;28mself\u001B[39m\u001B[38;5;241m.\u001B[39m_getitem_multilevel(key)\n\u001B[1;32m-> 3893\u001B[0m indexer \u001B[38;5;241m=\u001B[39m \u001B[38;5;28;43mself\u001B[39;49m\u001B[38;5;241;43m.\u001B[39;49m\u001B[43mcolumns\u001B[49m\u001B[38;5;241;43m.\u001B[39;49m\u001B[43mget_loc\u001B[49m\u001B[43m(\u001B[49m\u001B[43mkey\u001B[49m\u001B[43m)\u001B[49m\n\u001B[0;32m   3894\u001B[0m \u001B[38;5;28;01mif\u001B[39;00m is_integer(indexer):\n\u001B[0;32m   3895\u001B[0m     indexer \u001B[38;5;241m=\u001B[39m [indexer]\n",
      "File \u001B[1;32m~\\OneDrive\\Desktop\\Coding_for_data_science\\Python\\dscoding-projects\\niccolo.cibei\\Venv\\Lib\\site-packages\\pandas\\core\\indexes\\base.py:3797\u001B[0m, in \u001B[0;36mIndex.get_loc\u001B[1;34m(self, key)\u001B[0m\n\u001B[0;32m   3792\u001B[0m     \u001B[38;5;28;01mif\u001B[39;00m \u001B[38;5;28misinstance\u001B[39m(casted_key, \u001B[38;5;28mslice\u001B[39m) \u001B[38;5;129;01mor\u001B[39;00m (\n\u001B[0;32m   3793\u001B[0m         \u001B[38;5;28misinstance\u001B[39m(casted_key, abc\u001B[38;5;241m.\u001B[39mIterable)\n\u001B[0;32m   3794\u001B[0m         \u001B[38;5;129;01mand\u001B[39;00m \u001B[38;5;28many\u001B[39m(\u001B[38;5;28misinstance\u001B[39m(x, \u001B[38;5;28mslice\u001B[39m) \u001B[38;5;28;01mfor\u001B[39;00m x \u001B[38;5;129;01min\u001B[39;00m casted_key)\n\u001B[0;32m   3795\u001B[0m     ):\n\u001B[0;32m   3796\u001B[0m         \u001B[38;5;28;01mraise\u001B[39;00m InvalidIndexError(key)\n\u001B[1;32m-> 3797\u001B[0m     \u001B[38;5;28;01mraise\u001B[39;00m \u001B[38;5;167;01mKeyError\u001B[39;00m(key) \u001B[38;5;28;01mfrom\u001B[39;00m \u001B[38;5;21;01merr\u001B[39;00m\n\u001B[0;32m   3798\u001B[0m \u001B[38;5;28;01mexcept\u001B[39;00m \u001B[38;5;167;01mTypeError\u001B[39;00m:\n\u001B[0;32m   3799\u001B[0m     \u001B[38;5;66;03m# If we have a listlike key, _check_indexing_error will raise\u001B[39;00m\n\u001B[0;32m   3800\u001B[0m     \u001B[38;5;66;03m#  InvalidIndexError. Otherwise we fall through and re-raise\u001B[39;00m\n\u001B[0;32m   3801\u001B[0m     \u001B[38;5;66;03m#  the TypeError.\u001B[39;00m\n\u001B[0;32m   3802\u001B[0m     \u001B[38;5;28mself\u001B[39m\u001B[38;5;241m.\u001B[39m_check_indexing_error(key)\n",
      "\u001B[1;31mKeyError\u001B[0m: 1"
     ]
    }
   ],
   "source": [
    "import networkx as nx\n",
    "\n",
    "G = nx.DiGraph()\n",
    "\n",
    "# Add nodes for each city using their IDs\n",
    "for city_id in df['id']:\n",
    "    G.add_node(city_id)\n",
    "    \n",
    "cc = pd.DataFrame(hav_matrix.iloc[0].sort_values())\n",
    "for i in range(1,4):\n",
    "   G.add_edge(df.iloc[11][0], cc['id'], weight=distance)"
   ],
   "metadata": {
    "collapsed": false,
    "ExecuteTime": {
     "end_time": "2023-11-04T17:52:12.124735800Z",
     "start_time": "2023-11-04T17:52:12.062093200Z"
    }
   },
   "id": "f04b0147d327b83c"
  },
  {
   "cell_type": "code",
   "execution_count": 38,
   "outputs": [
    {
     "ename": "KeyError",
     "evalue": "0",
     "output_type": "error",
     "traceback": [
      "\u001B[1;31m---------------------------------------------------------------------------\u001B[0m",
      "\u001B[1;31mKeyError\u001B[0m                                  Traceback (most recent call last)",
      "File \u001B[1;32m~\\OneDrive\\Desktop\\Coding_for_data_science\\Python\\dscoding-projects\\niccolo.cibei\\Venv\\Lib\\site-packages\\pandas\\core\\indexes\\base.py:3790\u001B[0m, in \u001B[0;36mIndex.get_loc\u001B[1;34m(self, key)\u001B[0m\n\u001B[0;32m   3789\u001B[0m \u001B[38;5;28;01mtry\u001B[39;00m:\n\u001B[1;32m-> 3790\u001B[0m     \u001B[38;5;28;01mreturn\u001B[39;00m \u001B[38;5;28;43mself\u001B[39;49m\u001B[38;5;241;43m.\u001B[39;49m\u001B[43m_engine\u001B[49m\u001B[38;5;241;43m.\u001B[39;49m\u001B[43mget_loc\u001B[49m\u001B[43m(\u001B[49m\u001B[43mcasted_key\u001B[49m\u001B[43m)\u001B[49m\n\u001B[0;32m   3791\u001B[0m \u001B[38;5;28;01mexcept\u001B[39;00m \u001B[38;5;167;01mKeyError\u001B[39;00m \u001B[38;5;28;01mas\u001B[39;00m err:\n",
      "File \u001B[1;32mindex.pyx:152\u001B[0m, in \u001B[0;36mpandas._libs.index.IndexEngine.get_loc\u001B[1;34m()\u001B[0m\n",
      "File \u001B[1;32mindex.pyx:181\u001B[0m, in \u001B[0;36mpandas._libs.index.IndexEngine.get_loc\u001B[1;34m()\u001B[0m\n",
      "File \u001B[1;32mpandas\\_libs\\hashtable_class_helper.pxi:2606\u001B[0m, in \u001B[0;36mpandas._libs.hashtable.Int64HashTable.get_item\u001B[1;34m()\u001B[0m\n",
      "File \u001B[1;32mpandas\\_libs\\hashtable_class_helper.pxi:2630\u001B[0m, in \u001B[0;36mpandas._libs.hashtable.Int64HashTable.get_item\u001B[1;34m()\u001B[0m\n",
      "\u001B[1;31mKeyError\u001B[0m: 0",
      "\nThe above exception was the direct cause of the following exception:\n",
      "\u001B[1;31mKeyError\u001B[0m                                  Traceback (most recent call last)",
      "Cell \u001B[1;32mIn[38], line 2\u001B[0m\n\u001B[0;32m      1\u001B[0m cc \u001B[38;5;241m=\u001B[39m pd\u001B[38;5;241m.\u001B[39mDataFrame(hav_matrix\u001B[38;5;241m.\u001B[39miloc[\u001B[38;5;241m0\u001B[39m]\u001B[38;5;241m.\u001B[39msort_values())\n\u001B[1;32m----> 2\u001B[0m \u001B[43mcc\u001B[49m\u001B[38;5;241;43m.\u001B[39;49m\u001B[43miloc\u001B[49m\u001B[43m[\u001B[49m\u001B[38;5;241;43m0\u001B[39;49m\u001B[43m]\u001B[49m\u001B[43m[\u001B[49m\u001B[38;5;241;43m0\u001B[39;49m\u001B[43m]\u001B[49m\n",
      "File \u001B[1;32m~\\OneDrive\\Desktop\\Coding_for_data_science\\Python\\dscoding-projects\\niccolo.cibei\\Venv\\Lib\\site-packages\\pandas\\core\\series.py:1040\u001B[0m, in \u001B[0;36mSeries.__getitem__\u001B[1;34m(self, key)\u001B[0m\n\u001B[0;32m   1037\u001B[0m     \u001B[38;5;28;01mreturn\u001B[39;00m \u001B[38;5;28mself\u001B[39m\u001B[38;5;241m.\u001B[39m_values[key]\n\u001B[0;32m   1039\u001B[0m \u001B[38;5;28;01melif\u001B[39;00m key_is_scalar:\n\u001B[1;32m-> 1040\u001B[0m     \u001B[38;5;28;01mreturn\u001B[39;00m \u001B[38;5;28;43mself\u001B[39;49m\u001B[38;5;241;43m.\u001B[39;49m\u001B[43m_get_value\u001B[49m\u001B[43m(\u001B[49m\u001B[43mkey\u001B[49m\u001B[43m)\u001B[49m\n\u001B[0;32m   1042\u001B[0m \u001B[38;5;66;03m# Convert generator to list before going through hashable part\u001B[39;00m\n\u001B[0;32m   1043\u001B[0m \u001B[38;5;66;03m# (We will iterate through the generator there to check for slices)\u001B[39;00m\n\u001B[0;32m   1044\u001B[0m \u001B[38;5;28;01mif\u001B[39;00m is_iterator(key):\n",
      "File \u001B[1;32m~\\OneDrive\\Desktop\\Coding_for_data_science\\Python\\dscoding-projects\\niccolo.cibei\\Venv\\Lib\\site-packages\\pandas\\core\\series.py:1156\u001B[0m, in \u001B[0;36mSeries._get_value\u001B[1;34m(self, label, takeable)\u001B[0m\n\u001B[0;32m   1153\u001B[0m     \u001B[38;5;28;01mreturn\u001B[39;00m \u001B[38;5;28mself\u001B[39m\u001B[38;5;241m.\u001B[39m_values[label]\n\u001B[0;32m   1155\u001B[0m \u001B[38;5;66;03m# Similar to Index.get_value, but we do not fall back to positional\u001B[39;00m\n\u001B[1;32m-> 1156\u001B[0m loc \u001B[38;5;241m=\u001B[39m \u001B[38;5;28;43mself\u001B[39;49m\u001B[38;5;241;43m.\u001B[39;49m\u001B[43mindex\u001B[49m\u001B[38;5;241;43m.\u001B[39;49m\u001B[43mget_loc\u001B[49m\u001B[43m(\u001B[49m\u001B[43mlabel\u001B[49m\u001B[43m)\u001B[49m\n\u001B[0;32m   1158\u001B[0m \u001B[38;5;28;01mif\u001B[39;00m is_integer(loc):\n\u001B[0;32m   1159\u001B[0m     \u001B[38;5;28;01mreturn\u001B[39;00m \u001B[38;5;28mself\u001B[39m\u001B[38;5;241m.\u001B[39m_values[loc]\n",
      "File \u001B[1;32m~\\OneDrive\\Desktop\\Coding_for_data_science\\Python\\dscoding-projects\\niccolo.cibei\\Venv\\Lib\\site-packages\\pandas\\core\\indexes\\base.py:3797\u001B[0m, in \u001B[0;36mIndex.get_loc\u001B[1;34m(self, key)\u001B[0m\n\u001B[0;32m   3792\u001B[0m     \u001B[38;5;28;01mif\u001B[39;00m \u001B[38;5;28misinstance\u001B[39m(casted_key, \u001B[38;5;28mslice\u001B[39m) \u001B[38;5;129;01mor\u001B[39;00m (\n\u001B[0;32m   3793\u001B[0m         \u001B[38;5;28misinstance\u001B[39m(casted_key, abc\u001B[38;5;241m.\u001B[39mIterable)\n\u001B[0;32m   3794\u001B[0m         \u001B[38;5;129;01mand\u001B[39;00m \u001B[38;5;28many\u001B[39m(\u001B[38;5;28misinstance\u001B[39m(x, \u001B[38;5;28mslice\u001B[39m) \u001B[38;5;28;01mfor\u001B[39;00m x \u001B[38;5;129;01min\u001B[39;00m casted_key)\n\u001B[0;32m   3795\u001B[0m     ):\n\u001B[0;32m   3796\u001B[0m         \u001B[38;5;28;01mraise\u001B[39;00m InvalidIndexError(key)\n\u001B[1;32m-> 3797\u001B[0m     \u001B[38;5;28;01mraise\u001B[39;00m \u001B[38;5;167;01mKeyError\u001B[39;00m(key) \u001B[38;5;28;01mfrom\u001B[39;00m \u001B[38;5;21;01merr\u001B[39;00m\n\u001B[0;32m   3798\u001B[0m \u001B[38;5;28;01mexcept\u001B[39;00m \u001B[38;5;167;01mTypeError\u001B[39;00m:\n\u001B[0;32m   3799\u001B[0m     \u001B[38;5;66;03m# If we have a listlike key, _check_indexing_error will raise\u001B[39;00m\n\u001B[0;32m   3800\u001B[0m     \u001B[38;5;66;03m#  InvalidIndexError. Otherwise we fall through and re-raise\u001B[39;00m\n\u001B[0;32m   3801\u001B[0m     \u001B[38;5;66;03m#  the TypeError.\u001B[39;00m\n\u001B[0;32m   3802\u001B[0m     \u001B[38;5;28mself\u001B[39m\u001B[38;5;241m.\u001B[39m_check_indexing_error(key)\n",
      "\u001B[1;31mKeyError\u001B[0m: 0"
     ]
    }
   ],
   "source": [
    "\n",
    "cc = pd.DataFrame(hav_matrix.iloc[0].sort_values())\n",
    "cc.iloc[0]"
   ],
   "metadata": {
    "collapsed": false,
    "ExecuteTime": {
     "end_time": "2023-11-04T17:56:45.663531100Z",
     "start_time": "2023-11-04T17:56:45.469559100Z"
    }
   },
   "id": "4d68c4dc44e62638"
  },
  {
   "cell_type": "code",
   "execution_count": 15,
   "outputs": [
    {
     "data": {
      "text/plain": "id          1392685764  1360771077  1356872604  1356226629  1608618140  \\\nid                                                                       \n1392685764         NaN  103.330660  121.981129  133.747195   54.726319   \n1360771077  103.330660         NaN   88.792425   82.129171   48.819357   \n1356872604  121.981129   88.792425         NaN   20.656595   89.178857   \n1356226629  133.747195   82.129171   20.656595         NaN   93.816894   \n1608618140   54.726319   48.819357   89.178857   93.816894         NaN   \n...                ...         ...         ...         ...         ...   \n1156762337   65.918513   71.848646   56.138085   68.482342   42.718339   \n1156539782   65.433672   65.828679   57.674041   68.315804   37.283321   \n1156499624   45.635730   76.035505   76.460165   88.315905   34.410737   \n1156229590   51.444760   67.622079   72.120045   82.438100   28.650500   \n1156322307   37.990805   73.353157   85.761236   96.152312   27.305033   \n\nid          1156073548  1076532519  1410836482  1484247881  1156237133  ...  \\\nid                                                                      ...   \n1392685764   36.441739  379.438080   24.903124  464.549213   56.794950  ...   \n1360771077   77.898765  299.750476   93.567289  402.831674   58.291842  ...   \n1356872604   85.985223  260.865283   98.124945  342.730626   70.739239  ...   \n1356226629   97.305534  246.096103  111.154042  333.734584   78.868085  ...   \n1608618140   32.173509  333.602108   46.118016  427.270283   22.329309  ...   \n...                ...         ...         ...         ...         ...  ...   \n1156762337   29.871576  314.578444   42.682218  398.857041   20.390591  ...   \n1156539782   28.992656  314.190590   43.404550  400.229862   15.151282  ...   \n1156499624    9.690704  334.306413   23.292877  419.168651   17.887450  ...   \n1156229590   15.217256  327.994282   30.978998  414.682901    9.331965  ...   \n1156322307    4.868872  341.522408   20.425139  428.398963   19.134302  ...   \n\nid          1156932948  1156829655  1156275243  1840015149  1156477539  \\\nid                                                                       \n1392685764   35.910779   45.989732   39.333268  427.182962   74.691240   \n1360771077   89.150134   64.565794   75.342680  368.292266   61.192340   \n1356872604   87.124927   80.585973   83.383437  305.587850   49.936083   \n1356226629  100.569045   89.537825   94.433766  297.302195   59.160746   \n1608618140   44.259549   20.555313   30.421034  391.044167   40.846095   \n...                ...         ...         ...         ...         ...   \n1156762337   32.137431   26.825453   27.362579  361.651593   12.946337   \n1156539782   33.580406   23.252653   26.152923  363.200840    9.694912   \n1156499624   14.328960   13.874109    7.678689  381.935683   29.782866   \n1156229590   22.917928    9.898747   12.188009  377.658729   23.285665   \n1156322307   16.967303    9.116138    3.933205  391.338182   36.992664   \n\nid          1156762337  1156539782  1156499624  1156229590  1156322307  \nid                                                                      \n1392685764   65.918513   65.433672   45.635730   51.444760   37.990805  \n1360771077   71.848646   65.828679   76.035505   67.622079   73.353157  \n1356872604   56.138085   57.674041   76.460165   72.120045   85.761236  \n1356226629   68.482342   68.315804   88.315905   82.438100   96.152312  \n1608618140   42.718339   37.283321   34.410737   28.650500   27.305033  \n...                ...         ...         ...         ...         ...  \n1156762337         NaN    6.229913   20.324329   17.132384   30.065060  \n1156539782    6.229913         NaN   20.173579   14.457964   28.177891  \n1156499624   20.324329   20.173579         NaN    8.704664   11.271708  \n1156229590   17.132384   14.457964    8.704664         NaN   13.760640  \n1156322307   30.065060   28.177891   11.271708   13.760640         NaN  \n\n[100 rows x 100 columns]",
      "text/html": "<div>\n<style scoped>\n    .dataframe tbody tr th:only-of-type {\n        vertical-align: middle;\n    }\n\n    .dataframe tbody tr th {\n        vertical-align: top;\n    }\n\n    .dataframe thead th {\n        text-align: right;\n    }\n</style>\n<table border=\"1\" class=\"dataframe\">\n  <thead>\n    <tr style=\"text-align: right;\">\n      <th>id</th>\n      <th>1392685764</th>\n      <th>1360771077</th>\n      <th>1356872604</th>\n      <th>1356226629</th>\n      <th>1608618140</th>\n      <th>1156073548</th>\n      <th>1076532519</th>\n      <th>1410836482</th>\n      <th>1484247881</th>\n      <th>1156237133</th>\n      <th>...</th>\n      <th>1156932948</th>\n      <th>1156829655</th>\n      <th>1156275243</th>\n      <th>1840015149</th>\n      <th>1156477539</th>\n      <th>1156762337</th>\n      <th>1156539782</th>\n      <th>1156499624</th>\n      <th>1156229590</th>\n      <th>1156322307</th>\n    </tr>\n    <tr>\n      <th>id</th>\n      <th></th>\n      <th></th>\n      <th></th>\n      <th></th>\n      <th></th>\n      <th></th>\n      <th></th>\n      <th></th>\n      <th></th>\n      <th></th>\n      <th></th>\n      <th></th>\n      <th></th>\n      <th></th>\n      <th></th>\n      <th></th>\n      <th></th>\n      <th></th>\n      <th></th>\n      <th></th>\n      <th></th>\n    </tr>\n  </thead>\n  <tbody>\n    <tr>\n      <th>1392685764</th>\n      <td>NaN</td>\n      <td>103.330660</td>\n      <td>121.981129</td>\n      <td>133.747195</td>\n      <td>54.726319</td>\n      <td>36.441739</td>\n      <td>379.438080</td>\n      <td>24.903124</td>\n      <td>464.549213</td>\n      <td>56.794950</td>\n      <td>...</td>\n      <td>35.910779</td>\n      <td>45.989732</td>\n      <td>39.333268</td>\n      <td>427.182962</td>\n      <td>74.691240</td>\n      <td>65.918513</td>\n      <td>65.433672</td>\n      <td>45.635730</td>\n      <td>51.444760</td>\n      <td>37.990805</td>\n    </tr>\n    <tr>\n      <th>1360771077</th>\n      <td>103.330660</td>\n      <td>NaN</td>\n      <td>88.792425</td>\n      <td>82.129171</td>\n      <td>48.819357</td>\n      <td>77.898765</td>\n      <td>299.750476</td>\n      <td>93.567289</td>\n      <td>402.831674</td>\n      <td>58.291842</td>\n      <td>...</td>\n      <td>89.150134</td>\n      <td>64.565794</td>\n      <td>75.342680</td>\n      <td>368.292266</td>\n      <td>61.192340</td>\n      <td>71.848646</td>\n      <td>65.828679</td>\n      <td>76.035505</td>\n      <td>67.622079</td>\n      <td>73.353157</td>\n    </tr>\n    <tr>\n      <th>1356872604</th>\n      <td>121.981129</td>\n      <td>88.792425</td>\n      <td>NaN</td>\n      <td>20.656595</td>\n      <td>89.178857</td>\n      <td>85.985223</td>\n      <td>260.865283</td>\n      <td>98.124945</td>\n      <td>342.730626</td>\n      <td>70.739239</td>\n      <td>...</td>\n      <td>87.124927</td>\n      <td>80.585973</td>\n      <td>83.383437</td>\n      <td>305.587850</td>\n      <td>49.936083</td>\n      <td>56.138085</td>\n      <td>57.674041</td>\n      <td>76.460165</td>\n      <td>72.120045</td>\n      <td>85.761236</td>\n    </tr>\n    <tr>\n      <th>1356226629</th>\n      <td>133.747195</td>\n      <td>82.129171</td>\n      <td>20.656595</td>\n      <td>NaN</td>\n      <td>93.816894</td>\n      <td>97.305534</td>\n      <td>246.096103</td>\n      <td>111.154042</td>\n      <td>333.734584</td>\n      <td>78.868085</td>\n      <td>...</td>\n      <td>100.569045</td>\n      <td>89.537825</td>\n      <td>94.433766</td>\n      <td>297.302195</td>\n      <td>59.160746</td>\n      <td>68.482342</td>\n      <td>68.315804</td>\n      <td>88.315905</td>\n      <td>82.438100</td>\n      <td>96.152312</td>\n    </tr>\n    <tr>\n      <th>1608618140</th>\n      <td>54.726319</td>\n      <td>48.819357</td>\n      <td>89.178857</td>\n      <td>93.816894</td>\n      <td>NaN</td>\n      <td>32.173509</td>\n      <td>333.602108</td>\n      <td>46.118016</td>\n      <td>427.270283</td>\n      <td>22.329309</td>\n      <td>...</td>\n      <td>44.259549</td>\n      <td>20.555313</td>\n      <td>30.421034</td>\n      <td>391.044167</td>\n      <td>40.846095</td>\n      <td>42.718339</td>\n      <td>37.283321</td>\n      <td>34.410737</td>\n      <td>28.650500</td>\n      <td>27.305033</td>\n    </tr>\n    <tr>\n      <th>...</th>\n      <td>...</td>\n      <td>...</td>\n      <td>...</td>\n      <td>...</td>\n      <td>...</td>\n      <td>...</td>\n      <td>...</td>\n      <td>...</td>\n      <td>...</td>\n      <td>...</td>\n      <td>...</td>\n      <td>...</td>\n      <td>...</td>\n      <td>...</td>\n      <td>...</td>\n      <td>...</td>\n      <td>...</td>\n      <td>...</td>\n      <td>...</td>\n      <td>...</td>\n      <td>...</td>\n    </tr>\n    <tr>\n      <th>1156762337</th>\n      <td>65.918513</td>\n      <td>71.848646</td>\n      <td>56.138085</td>\n      <td>68.482342</td>\n      <td>42.718339</td>\n      <td>29.871576</td>\n      <td>314.578444</td>\n      <td>42.682218</td>\n      <td>398.857041</td>\n      <td>20.390591</td>\n      <td>...</td>\n      <td>32.137431</td>\n      <td>26.825453</td>\n      <td>27.362579</td>\n      <td>361.651593</td>\n      <td>12.946337</td>\n      <td>NaN</td>\n      <td>6.229913</td>\n      <td>20.324329</td>\n      <td>17.132384</td>\n      <td>30.065060</td>\n    </tr>\n    <tr>\n      <th>1156539782</th>\n      <td>65.433672</td>\n      <td>65.828679</td>\n      <td>57.674041</td>\n      <td>68.315804</td>\n      <td>37.283321</td>\n      <td>28.992656</td>\n      <td>314.190590</td>\n      <td>43.404550</td>\n      <td>400.229862</td>\n      <td>15.151282</td>\n      <td>...</td>\n      <td>33.580406</td>\n      <td>23.252653</td>\n      <td>26.152923</td>\n      <td>363.200840</td>\n      <td>9.694912</td>\n      <td>6.229913</td>\n      <td>NaN</td>\n      <td>20.173579</td>\n      <td>14.457964</td>\n      <td>28.177891</td>\n    </tr>\n    <tr>\n      <th>1156499624</th>\n      <td>45.635730</td>\n      <td>76.035505</td>\n      <td>76.460165</td>\n      <td>88.315905</td>\n      <td>34.410737</td>\n      <td>9.690704</td>\n      <td>334.306413</td>\n      <td>23.292877</td>\n      <td>419.168651</td>\n      <td>17.887450</td>\n      <td>...</td>\n      <td>14.328960</td>\n      <td>13.874109</td>\n      <td>7.678689</td>\n      <td>381.935683</td>\n      <td>29.782866</td>\n      <td>20.324329</td>\n      <td>20.173579</td>\n      <td>NaN</td>\n      <td>8.704664</td>\n      <td>11.271708</td>\n    </tr>\n    <tr>\n      <th>1156229590</th>\n      <td>51.444760</td>\n      <td>67.622079</td>\n      <td>72.120045</td>\n      <td>82.438100</td>\n      <td>28.650500</td>\n      <td>15.217256</td>\n      <td>327.994282</td>\n      <td>30.978998</td>\n      <td>414.682901</td>\n      <td>9.331965</td>\n      <td>...</td>\n      <td>22.917928</td>\n      <td>9.898747</td>\n      <td>12.188009</td>\n      <td>377.658729</td>\n      <td>23.285665</td>\n      <td>17.132384</td>\n      <td>14.457964</td>\n      <td>8.704664</td>\n      <td>NaN</td>\n      <td>13.760640</td>\n    </tr>\n    <tr>\n      <th>1156322307</th>\n      <td>37.990805</td>\n      <td>73.353157</td>\n      <td>85.761236</td>\n      <td>96.152312</td>\n      <td>27.305033</td>\n      <td>4.868872</td>\n      <td>341.522408</td>\n      <td>20.425139</td>\n      <td>428.398963</td>\n      <td>19.134302</td>\n      <td>...</td>\n      <td>16.967303</td>\n      <td>9.116138</td>\n      <td>3.933205</td>\n      <td>391.338182</td>\n      <td>36.992664</td>\n      <td>30.065060</td>\n      <td>28.177891</td>\n      <td>11.271708</td>\n      <td>13.760640</td>\n      <td>NaN</td>\n    </tr>\n  </tbody>\n</table>\n<p>100 rows × 100 columns</p>\n</div>"
     },
     "execution_count": 15,
     "metadata": {},
     "output_type": "execute_result"
    }
   ],
   "source": [
    "data = hav_matrix \n",
    "for i in range(len(data)):\n",
    "    data.iloc[i].sort_values()"
   ],
   "metadata": {
    "collapsed": false,
    "ExecuteTime": {
     "end_time": "2023-11-04T17:28:20.838398900Z",
     "start_time": "2023-11-04T17:28:20.779125400Z"
    }
   },
   "id": "9ec0cc8fbc8cd86b"
  }
 ],
 "metadata": {
  "kernelspec": {
   "display_name": "Python 3",
   "language": "python",
   "name": "python3"
  },
  "language_info": {
   "codemirror_mode": {
    "name": "ipython",
    "version": 2
   },
   "file_extension": ".py",
   "mimetype": "text/x-python",
   "name": "python",
   "nbconvert_exporter": "python",
   "pygments_lexer": "ipython2",
   "version": "2.7.6"
  }
 },
 "nbformat": 4,
 "nbformat_minor": 5
}
