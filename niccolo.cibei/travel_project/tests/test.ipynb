{
 "cells": [
  {
   "cell_type": "code",
   "execution_count": 1,
   "id": "initial_id",
   "metadata": {
    "collapsed": true,
    "ExecuteTime": {
     "end_time": "2023-11-12T09:58:09.878036900Z",
     "start_time": "2023-11-12T09:58:09.239817200Z"
    }
   },
   "outputs": [],
   "source": [
    "import numpy\n",
    "import pandas as pd\n",
    "import numpy as np\n",
    "import scipy"
   ]
  },
  {
   "cell_type": "code",
   "execution_count": 2,
   "outputs": [
    {
     "data": {
      "text/plain": "             city   city_ascii      lat       lng        country iso2 iso3  \\\n12       New York     New York  40.6943  -73.9249  United States   US  USA   \n14         Moscow       Moscow  55.7558   37.6178         Russia   RU  RUS   \n27    Los Angeles  Los Angeles  34.1139 -118.4068  United States   US  USA   \n49        Chicago      Chicago  41.8373  -87.6862  United States   US  USA   \n93          Miami        Miami  25.7839  -80.2102  United States   US  USA   \n...           ...          ...      ...       ...            ...  ...  ...   \n3885   Fort Smith   Fort Smith  35.3493  -94.3695  United States   US  USA   \n3889      Kenosha      Kenosha  42.5864  -87.8765  United States   US  USA   \n3890      Amherst      Amherst  43.0117  -78.7569  United States   US  USA   \n3894   South Lyon   South Lyon  42.4614  -83.6526  United States   US  USA   \n3897  Pervouralsk  Pervouralsk  56.9167   59.9500         Russia   RU  RUS   \n\n                 admin_name  capital  population          id  \n12                 New York      NaN  18713220.0  1840034016  \n14                   Moskva  primary  17125000.0  1643318494  \n27               California      NaN  12750807.0  1840020491  \n49                 Illinois      NaN   8604203.0  1840000494  \n93                  Florida      NaN   6445545.0  1840015149  \n...                     ...      ...         ...         ...  \n3885               Arkansas      NaN    125354.0  1840013456  \n3889              Wisconsin      NaN    124972.0  1840003160  \n3890               New York      NaN    124952.0  1840057194  \n3894               Michigan      NaN    124694.0  1840002432  \n3897  Sverdlovskaya Oblast’      NaN    124447.0  1643845220  \n\n[500 rows x 11 columns]",
      "text/html": "<div>\n<style scoped>\n    .dataframe tbody tr th:only-of-type {\n        vertical-align: middle;\n    }\n\n    .dataframe tbody tr th {\n        vertical-align: top;\n    }\n\n    .dataframe thead th {\n        text-align: right;\n    }\n</style>\n<table border=\"1\" class=\"dataframe\">\n  <thead>\n    <tr style=\"text-align: right;\">\n      <th></th>\n      <th>city</th>\n      <th>city_ascii</th>\n      <th>lat</th>\n      <th>lng</th>\n      <th>country</th>\n      <th>iso2</th>\n      <th>iso3</th>\n      <th>admin_name</th>\n      <th>capital</th>\n      <th>population</th>\n      <th>id</th>\n    </tr>\n  </thead>\n  <tbody>\n    <tr>\n      <th>12</th>\n      <td>New York</td>\n      <td>New York</td>\n      <td>40.6943</td>\n      <td>-73.9249</td>\n      <td>United States</td>\n      <td>US</td>\n      <td>USA</td>\n      <td>New York</td>\n      <td>NaN</td>\n      <td>18713220.0</td>\n      <td>1840034016</td>\n    </tr>\n    <tr>\n      <th>14</th>\n      <td>Moscow</td>\n      <td>Moscow</td>\n      <td>55.7558</td>\n      <td>37.6178</td>\n      <td>Russia</td>\n      <td>RU</td>\n      <td>RUS</td>\n      <td>Moskva</td>\n      <td>primary</td>\n      <td>17125000.0</td>\n      <td>1643318494</td>\n    </tr>\n    <tr>\n      <th>27</th>\n      <td>Los Angeles</td>\n      <td>Los Angeles</td>\n      <td>34.1139</td>\n      <td>-118.4068</td>\n      <td>United States</td>\n      <td>US</td>\n      <td>USA</td>\n      <td>California</td>\n      <td>NaN</td>\n      <td>12750807.0</td>\n      <td>1840020491</td>\n    </tr>\n    <tr>\n      <th>49</th>\n      <td>Chicago</td>\n      <td>Chicago</td>\n      <td>41.8373</td>\n      <td>-87.6862</td>\n      <td>United States</td>\n      <td>US</td>\n      <td>USA</td>\n      <td>Illinois</td>\n      <td>NaN</td>\n      <td>8604203.0</td>\n      <td>1840000494</td>\n    </tr>\n    <tr>\n      <th>93</th>\n      <td>Miami</td>\n      <td>Miami</td>\n      <td>25.7839</td>\n      <td>-80.2102</td>\n      <td>United States</td>\n      <td>US</td>\n      <td>USA</td>\n      <td>Florida</td>\n      <td>NaN</td>\n      <td>6445545.0</td>\n      <td>1840015149</td>\n    </tr>\n    <tr>\n      <th>...</th>\n      <td>...</td>\n      <td>...</td>\n      <td>...</td>\n      <td>...</td>\n      <td>...</td>\n      <td>...</td>\n      <td>...</td>\n      <td>...</td>\n      <td>...</td>\n      <td>...</td>\n      <td>...</td>\n    </tr>\n    <tr>\n      <th>3885</th>\n      <td>Fort Smith</td>\n      <td>Fort Smith</td>\n      <td>35.3493</td>\n      <td>-94.3695</td>\n      <td>United States</td>\n      <td>US</td>\n      <td>USA</td>\n      <td>Arkansas</td>\n      <td>NaN</td>\n      <td>125354.0</td>\n      <td>1840013456</td>\n    </tr>\n    <tr>\n      <th>3889</th>\n      <td>Kenosha</td>\n      <td>Kenosha</td>\n      <td>42.5864</td>\n      <td>-87.8765</td>\n      <td>United States</td>\n      <td>US</td>\n      <td>USA</td>\n      <td>Wisconsin</td>\n      <td>NaN</td>\n      <td>124972.0</td>\n      <td>1840003160</td>\n    </tr>\n    <tr>\n      <th>3890</th>\n      <td>Amherst</td>\n      <td>Amherst</td>\n      <td>43.0117</td>\n      <td>-78.7569</td>\n      <td>United States</td>\n      <td>US</td>\n      <td>USA</td>\n      <td>New York</td>\n      <td>NaN</td>\n      <td>124952.0</td>\n      <td>1840057194</td>\n    </tr>\n    <tr>\n      <th>3894</th>\n      <td>South Lyon</td>\n      <td>South Lyon</td>\n      <td>42.4614</td>\n      <td>-83.6526</td>\n      <td>United States</td>\n      <td>US</td>\n      <td>USA</td>\n      <td>Michigan</td>\n      <td>NaN</td>\n      <td>124694.0</td>\n      <td>1840002432</td>\n    </tr>\n    <tr>\n      <th>3897</th>\n      <td>Pervouralsk</td>\n      <td>Pervouralsk</td>\n      <td>56.9167</td>\n      <td>59.9500</td>\n      <td>Russia</td>\n      <td>RU</td>\n      <td>RUS</td>\n      <td>Sverdlovskaya Oblast’</td>\n      <td>NaN</td>\n      <td>124447.0</td>\n      <td>1643845220</td>\n    </tr>\n  </tbody>\n</table>\n<p>500 rows × 11 columns</p>\n</div>"
     },
     "execution_count": 2,
     "metadata": {},
     "output_type": "execute_result"
    }
   ],
   "source": [
    "#url = 'http://island.ricerca.di.unimi.it/~alfio/shared/worldcities.xlsx'\n",
    "df= pd.read_excel(r\"C:\\Users\\cibei\\OneDrive\\Desktop\\Coding_for_data_science\\Python\\dscoding-projects\\niccolo.cibei\\travel_project\\travel_project\\dataset\\worldcities.xlsx\")\n",
    "#df = df.drop(index= range(500, 26569), axis=0)\n",
    "df = df[df['iso2'].isin(['US', 'RU'])].head(500)\n",
    "df"
   ],
   "metadata": {
    "collapsed": false,
    "ExecuteTime": {
     "end_time": "2023-11-12T09:58:13.205246100Z",
     "start_time": "2023-11-12T09:58:09.880031900Z"
    }
   },
   "id": "d2b7213a1a6c3009"
  },
  {
   "cell_type": "code",
   "execution_count": 3,
   "outputs": [],
   "source": [
    "#works!!!\n",
    "import folium\n",
    "\n",
    "def create_map(df, shortest_path):\n",
    "    # Create a map centered at the midpoint of the shortest path\n",
    "    midpoint_idx = len(shortest_path) // 2\n",
    "    midpoint_coords = df.loc[df['id'] == shortest_path[midpoint_idx], ['lat', 'lng']].values[0]\n",
    "    mappa = folium.Map(location=midpoint_coords, zoom_start=6)\n",
    "\n",
    "    # Add markers for each city along the shortest path\n",
    "    for city_id in shortest_path:\n",
    "        city_data = df.loc[df['id'] == city_id]\n",
    "        if not city_data.empty:\n",
    "            city_coords = city_data[['lat', 'lng']].values[0]\n",
    "            city_name = city_data['city_ascii'].values[0]\n",
    "            folium.Marker(city_coords, popup=city_name).add_to(mappa)\n",
    "\n",
    "    # Create a PolyLine to connect the cities in the shortest path\n",
    "    locations = [df.loc[df['id'] == city_id, ['lat', 'lng']].values[0] for city_id in shortest_path if not df.loc[df['id'] == city_id].empty]\n",
    "    line = folium.PolyLine(locations=locations, color='blue', weight=5, opacity=0.7)\n",
    "    line.add_to(mappa)\n",
    "\n",
    "    # Save the map to an HTML file\n",
    "    mappa.save('shortest_path_map.html')\n",
    "\n",
    "\n"
   ],
   "metadata": {
    "collapsed": false,
    "ExecuteTime": {
     "end_time": "2023-11-12T09:58:13.517206800Z",
     "start_time": "2023-11-12T09:58:13.160366900Z"
    }
   },
   "id": "2cf999feeccd43a4"
  },
  {
   "cell_type": "code",
   "execution_count": 4,
   "outputs": [],
   "source": [
    "from Utils import prova_1"
   ],
   "metadata": {
    "collapsed": false,
    "ExecuteTime": {
     "end_time": "2023-11-12T09:58:14.333434200Z",
     "start_time": "2023-11-12T09:58:13.519203100Z"
    }
   },
   "id": "9ca8ebd1d7e82316"
  },
  {
   "cell_type": "code",
   "execution_count": 5,
   "outputs": [],
   "source": [
    "travel_graph = prova_1.TravelGraph(df)"
   ],
   "metadata": {
    "collapsed": false,
    "ExecuteTime": {
     "end_time": "2023-11-12T09:58:14.333434200Z",
     "start_time": "2023-11-12T09:58:14.311336900Z"
    }
   },
   "id": "98e73587fb52db02"
  },
  {
   "cell_type": "code",
   "execution_count": 6,
   "outputs": [],
   "source": [
    "travel_graph.graph_creation(k=30)\n"
   ],
   "metadata": {
    "collapsed": false,
    "ExecuteTime": {
     "end_time": "2023-11-12T09:58:16.845297200Z",
     "start_time": "2023-11-12T09:58:14.320470Z"
    }
   },
   "id": "6b3fa1c1a91cb9ac"
  },
  {
   "cell_type": "code",
   "execution_count": 7,
   "outputs": [
    {
     "name": "stdout",
     "output_type": "stream",
     "text": [
      "[1643129247, 1840023385]\n"
     ]
    }
   ],
   "source": [
    "shortest_path = travel_graph.shortest_path(source_city_name= \"Petropavlovsk-Kamchatskiy\",target_city_name= \"Anchorage\")\n",
    "print(shortest_path)\n"
   ],
   "metadata": {
    "collapsed": false,
    "ExecuteTime": {
     "end_time": "2023-11-12T09:58:16.862753100Z",
     "start_time": "2023-11-12T09:58:16.848275500Z"
    }
   },
   "id": "6c42e3626ad754af"
  },
  {
   "cell_type": "code",
   "execution_count": 17,
   "outputs": [],
   "source": [
    "uu = travel_graph.cycle_tour(start_city_name= 'New York')"
   ],
   "metadata": {
    "collapsed": false,
    "ExecuteTime": {
     "end_time": "2023-11-12T09:59:52.525558900Z",
     "start_time": "2023-11-12T09:59:40.324613300Z"
    }
   },
   "id": "6fc8b5226d776a24"
  },
  {
   "cell_type": "code",
   "execution_count": 18,
   "outputs": [
    {
     "data": {
      "text/plain": "['New York',\n 'Queens',\n 'North Hempstead',\n 'Hempstead',\n 'Oyster Bay',\n 'Huntington',\n 'Babylon',\n 'Islip',\n 'Brookhaven',\n 'Bridgeport',\n 'Danbury',\n 'Poughkeepsie',\n 'Albany',\n 'Hartford',\n 'Norwich',\n 'Worcester',\n 'Providence',\n 'New Bedford',\n 'Barnstable',\n 'Boston',\n 'Nashua',\n 'Portland',\n 'Manchester',\n 'Springfield',\n 'Waterbury',\n 'New Haven',\n 'Stamford',\n 'Yonkers',\n 'Bronx',\n 'Manhattan',\n 'Newark',\n 'Paterson',\n 'Ramapo',\n 'Allentown',\n 'Scranton',\n 'Binghamton',\n 'Syracuse',\n 'Rochester',\n 'Amherst',\n 'Buffalo',\n 'Erie',\n 'Youngstown',\n 'Pittsburgh',\n 'Canton',\n 'Akron',\n 'Cleveland',\n 'Lorain',\n 'Toledo',\n 'Ann Arbor',\n 'South Lyon',\n 'Sterling Heights',\n 'Warren',\n 'Detroit',\n 'Flint',\n 'Lansing',\n 'Grand Rapids',\n 'Muskegon',\n 'Kalamazoo',\n 'Elkhart',\n 'Fort Wayne',\n 'South Bend',\n 'Chicago',\n 'Round Lake Beach',\n 'Kenosha',\n 'Racine',\n 'Milwaukee',\n 'Appleton',\n 'Green Bay',\n 'Madison',\n 'Rockford',\n 'Naperville',\n 'Aurora',\n 'Joliet',\n 'Bloomington',\n 'Champaign',\n 'Lafayette',\n 'Indianapolis',\n 'Cincinnati',\n 'Charleston',\n 'Huntington',\n 'Columbus',\n 'Dayton',\n 'Lexington',\n 'Louisville',\n 'Evansville',\n 'Clarksville',\n 'Nashville',\n 'Murfreesboro',\n 'Huntsville',\n 'Chattanooga',\n 'Knoxville',\n 'Asheville',\n 'Johnson City',\n 'Greenville',\n 'Mauldin',\n 'Spartanburg',\n 'Gastonia',\n 'Charlotte',\n 'Hickory',\n 'Greensboro',\n 'High Point',\n 'Winston-Salem',\n 'Concord',\n 'Columbia',\n 'Augusta',\n 'Athens',\n 'Gainesville',\n 'Atlanta',\n 'Macon',\n 'Warner Robins',\n 'Columbus',\n 'Montgomery',\n 'Birmingham',\n 'Tuscaloosa',\n 'Memphis',\n 'Little Rock',\n 'Fort Smith',\n 'Fayetteville',\n 'Springfield',\n 'Columbia',\n 'Kansas City',\n 'Kansas City',\n 'Overland Park',\n 'Olathe',\n 'Topeka',\n 'Wichita',\n 'Lincoln',\n 'Omaha',\n 'Fargo',\n 'Minneapolis',\n 'St. Paul',\n 'Sioux Falls',\n 'Des Moines',\n 'Cedar Rapids',\n 'Davenport',\n 'Peoria',\n 'Springfield',\n 'St. Louis',\n 'Springfield',\n 'Tulsa',\n 'Oklahoma City',\n 'Amarillo',\n 'Lubbock',\n 'Midland',\n 'Odessa',\n 'El Paso',\n 'Las Cruces',\n 'Albuquerque',\n 'Pueblo',\n 'Colorado Springs',\n 'Aurora',\n 'Denver',\n 'Fort Collins',\n 'Greeley',\n 'Thornton',\n 'Lakewood',\n 'Grand Junction',\n 'Provo',\n 'West Valley City',\n 'Salt Lake City',\n 'Ogden',\n 'Boise',\n 'Nampa',\n 'Kennewick',\n 'Spokane',\n 'Yakima',\n 'Kent',\n 'Bellevue',\n 'Seattle',\n 'Marysville',\n 'Bellingham',\n 'Anchorage',\n 'Petropavlovsk-Kamchatskiy',\n 'Yuzhno-Sakhalinsk',\n \"Komsomol'sk-na-Amure\",\n 'Khabarovsk',\n 'Blagoveshchensk',\n 'Yakutsk',\n 'Noginsk',\n 'Norilsk',\n 'Nakhodka',\n 'Surgut',\n 'Nizhnevartovsk',\n 'Nefteyugansk',\n 'Tyumen',\n \"Kamensk-Ural'skiy\",\n 'Chelyabinsk',\n 'Kopeysk',\n 'Miass',\n 'Zlatoust',\n 'Magnitogorsk',\n 'Orsk',\n 'Salavat',\n 'Orenburg',\n 'Sterlitamak',\n 'Ufa',\n 'Neftekamsk',\n 'Izhevsk',\n 'Naberezhnyye Chelny',\n 'Nizhnekamsk',\n 'Almetyevsk',\n 'Kazan',\n 'Novocheboksarsk',\n 'Ulyanovsk',\n 'Tolyatti',\n 'Samara',\n 'Syzran',\n 'Balakovo',\n 'Engels',\n 'Astrakhan',\n 'Khasavyurt',\n 'Makhachkala',\n 'Groznyy',\n 'Vladikavkaz',\n 'Nalchik',\n 'Pyatigorsk',\n 'Kislovodsk',\n 'Stavropol',\n 'Armavir',\n 'Maykop',\n 'Sochi',\n 'Krasnodar',\n 'Novorossiysk',\n 'Bataysk',\n 'Rostov',\n 'Taganrog',\n 'Novocherkassk',\n 'Shakhty',\n 'Volgodonsk',\n 'Volgograd',\n 'Volzhskiy',\n 'Saratov',\n 'Penza',\n 'Saransk',\n 'Tambov',\n 'Lipetsk',\n 'Voronezh',\n 'Staryy Oskol',\n 'Belgorod',\n 'Kursk',\n 'Orel',\n 'Smolensk',\n 'Bryansk',\n 'Tula',\n 'Novomoskovsk',\n 'Serpukhov',\n 'Kaluga',\n 'Podolsk',\n 'Domodedovo',\n 'Odintsovo',\n 'Krasnogorsk',\n 'Khimki',\n 'Mytishchi',\n 'Korolev',\n 'Shchelkovo',\n 'Elektrostal',\n 'Vladimir',\n 'Kovrov',\n 'Ivanovo',\n 'Kostroma',\n 'Yaroslavl',\n 'Rybinsk',\n 'Cherepovets',\n 'Vologda',\n 'Murmansk',\n 'Severodvinsk',\n 'Arkhangelsk',\n 'Petrozavodsk',\n 'Saint Petersburg',\n 'Kolpino',\n 'Velikiy Novgorod',\n 'Pskov',\n 'Kaliningrad',\n 'Tver',\n 'Moscow',\n 'Balashikha',\n 'Lyubertsy',\n 'Kolomna',\n 'Ryazan',\n 'Dzerzhinsk',\n 'Nizhniy Novgorod',\n 'Cheboksary',\n 'Yoshkar-Ola',\n 'Kirov',\n 'Syktyvkar',\n 'Berezniki',\n 'Perm',\n 'Nizhniy Tagil',\n 'Pervouralsk',\n 'Yekaterinburg',\n 'Kurgan',\n 'Omsk',\n 'Novosibirsk',\n 'Barnaul',\n 'Rubtsovsk',\n 'Biysk',\n 'Prokopyevsk',\n 'Kemerovo',\n 'Tomsk',\n 'Novokuznetsk',\n 'Abakan',\n 'Krasnoyarsk',\n 'Bratsk',\n 'Angarsk',\n 'Irkutsk',\n 'Ulan-Ude',\n 'Chita',\n 'Nakhodka',\n 'Vladivostok',\n 'Ussuriysk',\n 'Petropavlovsk-Kamchatskiy',\n 'Anchorage',\n 'Bremerton',\n 'Tacoma',\n 'Olympia',\n 'Vancouver',\n 'Portland',\n 'Salem',\n 'Eugene',\n 'Medford',\n 'Reno',\n 'Roseville',\n 'Sacramento',\n 'Elk Grove',\n 'Stockton',\n 'Fairfield',\n 'Vallejo',\n 'Santa Rosa',\n 'Concord',\n 'Oakland',\n 'Hayward',\n 'Fremont',\n 'Sunnyvale',\n 'Santa Clara',\n 'San Jose',\n 'Santa Cruz',\n 'Salinas',\n 'Honolulu',\n 'San Francisco',\n 'Antioch',\n 'Modesto',\n 'Merced',\n 'Fresno',\n 'Visalia',\n 'Bakersfield',\n 'Lancaster',\n 'Palmdale',\n 'Santa Clarita',\n 'Santa Maria',\n 'Santa Barbara',\n 'Oxnard',\n 'Thousand Oaks',\n 'Simi Valley',\n 'Los Angeles',\n 'Pasadena',\n 'Glendale',\n 'Torrance',\n 'Long Beach',\n 'Huntington Beach',\n 'Garden Grove',\n 'Santa Ana',\n 'Orange',\n 'Irvine',\n 'Mission Viejo',\n 'Chula Vista',\n 'San Diego',\n 'Escondido',\n 'Oceanside',\n 'Murrieta',\n 'Hemet',\n 'Enterprise',\n 'Paradise',\n 'Henderson',\n 'Sunrise Manor',\n 'North Las Vegas',\n 'Las Vegas',\n 'Spring Valley',\n 'Victorville',\n 'San Bernardino',\n 'Fontana',\n 'Riverside',\n 'Rancho Cucamonga',\n 'Ontario',\n 'Pomona',\n 'Fullerton',\n 'Anaheim',\n 'Corona',\n 'Moreno Valley',\n 'Indio',\n 'Yuma',\n 'Avondale',\n 'Glendale',\n 'Peoria',\n 'Surprise',\n 'Phoenix',\n 'Scottsdale',\n 'Tempe',\n 'Chandler',\n 'Gilbert',\n 'Mesa',\n 'Tucson',\n 'El Paso',\n 'Laredo',\n 'McAllen',\n 'Harlingen',\n 'Brownsville',\n 'Corpus Christi',\n 'San Antonio',\n 'Austin',\n 'Round Rock',\n 'Shreveport',\n 'Tyler',\n 'Mesquite',\n 'Dallas',\n 'Garland',\n 'Plano',\n 'McKinney',\n 'Frisco',\n 'Denton',\n 'Carrollton',\n 'Irving',\n 'Grand Prairie',\n 'Arlington',\n 'Fort Worth',\n 'Waco',\n 'Killeen',\n 'College Station',\n 'Houston',\n 'Pasadena',\n 'Beaumont',\n 'Port Arthur',\n 'Lake Charles',\n 'Lafayette',\n 'Baton Rouge',\n 'Jackson',\n 'Metairie',\n 'Houma',\n 'New Orleans',\n 'Gulfport',\n 'Mobile',\n 'Pensacola',\n 'Panama City',\n 'Tallahassee',\n 'Gainesville',\n 'Palm Coast',\n 'Deltona',\n 'Orlando',\n 'Kissimmee',\n 'Winter Haven',\n 'Lakeland',\n 'Tampa',\n 'St. Petersburg',\n 'Sarasota',\n 'North Port',\n 'Cape Coral',\n 'Bonita Springs',\n 'Miami',\n 'Hialeah',\n 'Miramar',\n 'Pembroke Pines',\n 'Hollywood',\n 'Fort Lauderdale',\n 'Coral Springs',\n 'Port St. Lucie',\n 'Palm Bay',\n 'Leesburg',\n 'Ocala',\n 'Jacksonville',\n 'Savannah',\n 'Charleston',\n 'Myrtle Beach',\n 'Wilmington',\n 'Fayetteville',\n 'Cary',\n 'Greenville',\n 'Raleigh',\n 'Durham',\n 'Burlington',\n 'Roanoke',\n 'Lynchburg',\n 'Richmond',\n 'Newport News',\n 'Hampton',\n 'Norfolk',\n 'Chesapeake',\n 'Virginia Beach',\n 'Fredericksburg',\n 'Alexandria',\n 'Arlington',\n 'Hagerstown',\n 'Frederick',\n 'Washington',\n 'Baltimore',\n 'York',\n 'Harrisburg',\n 'Lancaster',\n 'Reading',\n 'Philadelphia',\n 'Atlantic City',\n 'Trenton',\n 'Staten Island',\n 'Elizabeth',\n 'Jersey City',\n 'Brooklyn',\n 'New York']"
     },
     "execution_count": 18,
     "metadata": {},
     "output_type": "execute_result"
    }
   ],
   "source": [
    "uu"
   ],
   "metadata": {
    "collapsed": false,
    "ExecuteTime": {
     "end_time": "2023-11-12T09:59:52.542257700Z",
     "start_time": "2023-11-12T09:59:52.527732600Z"
    }
   },
   "id": "59f8e3ee1adafd7b"
  },
  {
   "cell_type": "code",
   "execution_count": 10,
   "outputs": [],
   "source": [
    "import networkx as nx"
   ],
   "metadata": {
    "collapsed": false,
    "ExecuteTime": {
     "end_time": "2023-11-12T09:58:28.659452700Z",
     "start_time": "2023-11-12T09:58:28.644360300Z"
    }
   },
   "id": "68f45de1ba8be220"
  },
  {
   "cell_type": "code",
   "execution_count": 11,
   "outputs": [
    {
     "data": {
      "text/plain": "<Figure size 640x480 with 1 Axes>",
      "image/png": "[encoded data removed]"
     },
     "metadata": {},
     "output_type": "display_data"
    }
   ],
   "source": [
    "nx.draw(travel_graph.G)"
   ],
   "metadata": {
    "collapsed": false,
    "ExecuteTime": {
     "end_time": "2023-11-12T09:58:31.814207100Z",
     "start_time": "2023-11-12T09:58:28.651475500Z"
    }
   },
   "id": "7dddf78add10c872"
  },
  {
   "cell_type": "code",
   "execution_count": 13,
   "outputs": [],
   "source": [
    "create_map(df, shortest_path)"
   ],
   "metadata": {
    "collapsed": false,
    "ExecuteTime": {
     "end_time": "2023-11-12T09:58:56.738466500Z",
     "start_time": "2023-11-12T09:58:56.713884700Z"
    }
   },
   "id": "71a586cbcd620c9e"
  },
  {
   "cell_type": "code",
   "execution_count": 14,
   "outputs": [
    {
     "data": {
      "text/plain": "<bound method TravelGraph.haversine_matrix of <Utils.prova_1.TravelGraph object at 0x000001FD3C4AED20>>"
     },
     "execution_count": 14,
     "metadata": {},
     "output_type": "execute_result"
    }
   ],
   "source": [
    "travel_graph.haversine_matrix"
   ],
   "metadata": {
    "collapsed": false,
    "ExecuteTime": {
     "end_time": "2023-11-12T09:58:58.562094900Z",
     "start_time": "2023-11-12T09:58:58.537812300Z"
    }
   },
   "id": "f3d23202545dc34b"
  },
  {
   "cell_type": "code",
   "execution_count": 15,
   "outputs": [],
   "source": [
    "# Coordina il centro della mappa sulla prima città nel dataset\n",
    "map_center = [df['lat'].iloc[0], df['lng'].iloc[0]]\n",
    "\n",
    "# Crea la mappa\n",
    "my_map = folium.Map(location=map_center, zoom_start=4)\n",
    "\n",
    "# Aggiungi marcatori per ogni città nel DataFrame\n",
    "for index, row in df.iterrows():\n",
    "    folium.Marker([row['lat'], row['lng']], popup=row['city_ascii']).add_to(my_map)\n",
    "\n",
    "# Mostra la mappa\n",
    "my_map.save('cities_map.html')  # Salva la mappa come file HTML\n"
   ],
   "metadata": {
    "collapsed": false,
    "ExecuteTime": {
     "end_time": "2023-11-12T09:59:02.451304500Z",
     "start_time": "2023-11-12T09:59:01.760678Z"
    }
   },
   "id": "da8a8c04969d18fd"
  },
  {
   "cell_type": "code",
   "execution_count": 16,
   "outputs": [
    {
     "data": {
      "text/plain": "['New York',\n 'Queens',\n 'North Hempstead',\n 'Hempstead',\n 'Oyster Bay',\n 'Huntington',\n 'Babylon',\n 'Islip',\n 'Brookhaven',\n 'Bridgeport',\n 'Danbury',\n 'Poughkeepsie',\n 'Albany',\n 'Hartford',\n 'Norwich',\n 'Worcester',\n 'Providence',\n 'New Bedford',\n 'Barnstable',\n 'Boston',\n 'Nashua',\n 'Portland',\n 'Manchester',\n 'Springfield',\n 'Waterbury',\n 'New Haven',\n 'Stamford',\n 'Yonkers',\n 'Bronx',\n 'Manhattan',\n 'Newark',\n 'Paterson',\n 'Ramapo',\n 'Allentown',\n 'Scranton',\n 'Binghamton',\n 'Syracuse',\n 'Rochester',\n 'Amherst',\n 'Buffalo',\n 'Erie',\n 'Youngstown',\n 'Pittsburgh',\n 'Canton',\n 'Akron',\n 'Cleveland',\n 'Lorain',\n 'Toledo',\n 'Ann Arbor',\n 'South Lyon',\n 'Sterling Heights',\n 'Warren',\n 'Detroit',\n 'Flint',\n 'Lansing',\n 'Grand Rapids',\n 'Muskegon',\n 'Kalamazoo',\n 'Elkhart',\n 'Fort Wayne',\n 'South Bend',\n 'Chicago',\n 'Round Lake Beach',\n 'Kenosha',\n 'Racine',\n 'Milwaukee',\n 'Appleton',\n 'Green Bay',\n 'Madison',\n 'Rockford',\n 'Naperville',\n 'Aurora',\n 'Joliet',\n 'Bloomington',\n 'Champaign',\n 'Lafayette',\n 'Indianapolis',\n 'Cincinnati',\n 'Charleston',\n 'Huntington',\n 'Columbus',\n 'Dayton',\n 'Lexington',\n 'Louisville',\n 'Evansville',\n 'Clarksville',\n 'Nashville',\n 'Murfreesboro',\n 'Huntsville',\n 'Chattanooga',\n 'Knoxville',\n 'Asheville',\n 'Johnson City',\n 'Greenville',\n 'Mauldin',\n 'Spartanburg',\n 'Gastonia',\n 'Charlotte',\n 'Hickory',\n 'Greensboro',\n 'High Point',\n 'Winston-Salem',\n 'Concord',\n 'Columbia',\n 'Augusta',\n 'Athens',\n 'Gainesville',\n 'Atlanta',\n 'Macon',\n 'Warner Robins',\n 'Columbus',\n 'Montgomery',\n 'Birmingham',\n 'Tuscaloosa',\n 'Memphis',\n 'Little Rock',\n 'Fort Smith',\n 'Fayetteville',\n 'Springfield',\n 'Columbia',\n 'Kansas City',\n 'Kansas City',\n 'Overland Park',\n 'Olathe',\n 'Topeka',\n 'Wichita',\n 'Lincoln',\n 'Omaha',\n 'Fargo',\n 'Minneapolis',\n 'St. Paul',\n 'Sioux Falls',\n 'Des Moines',\n 'Cedar Rapids',\n 'Davenport',\n 'Peoria',\n 'Springfield',\n 'St. Louis',\n 'Springfield',\n 'Tulsa',\n 'Oklahoma City',\n 'Amarillo',\n 'Lubbock',\n 'Midland',\n 'Odessa',\n 'El Paso',\n 'Las Cruces',\n 'Albuquerque',\n 'Pueblo',\n 'Colorado Springs',\n 'Aurora',\n 'Denver',\n 'Fort Collins',\n 'Greeley',\n 'Thornton',\n 'Lakewood',\n 'Grand Junction',\n 'Provo',\n 'West Valley City',\n 'Salt Lake City',\n 'Ogden',\n 'Boise',\n 'Nampa',\n 'Kennewick',\n 'Spokane',\n 'Yakima',\n 'Kent',\n 'Bellevue',\n 'Seattle',\n 'Marysville',\n 'Bellingham',\n 'Anchorage',\n 'Petropavlovsk-Kamchatskiy',\n 'Yuzhno-Sakhalinsk',\n \"Komsomol'sk-na-Amure\",\n 'Khabarovsk',\n 'Blagoveshchensk',\n 'Yakutsk',\n 'Noginsk',\n 'Norilsk',\n 'Nakhodka',\n 'Surgut',\n 'Nizhnevartovsk',\n 'Nefteyugansk',\n 'Tyumen',\n \"Kamensk-Ural'skiy\",\n 'Chelyabinsk',\n 'Kopeysk',\n 'Miass',\n 'Zlatoust',\n 'Magnitogorsk',\n 'Orsk',\n 'Salavat',\n 'Orenburg',\n 'Sterlitamak',\n 'Ufa',\n 'Neftekamsk',\n 'Izhevsk',\n 'Naberezhnyye Chelny',\n 'Nizhnekamsk',\n 'Almetyevsk',\n 'Kazan',\n 'Novocheboksarsk',\n 'Ulyanovsk',\n 'Tolyatti',\n 'Samara',\n 'Syzran',\n 'Balakovo',\n 'Engels',\n 'Astrakhan',\n 'Khasavyurt',\n 'Makhachkala',\n 'Groznyy',\n 'Vladikavkaz',\n 'Nalchik',\n 'Pyatigorsk',\n 'Kislovodsk',\n 'Stavropol',\n 'Armavir',\n 'Maykop',\n 'Sochi',\n 'Krasnodar',\n 'Novorossiysk',\n 'Bataysk',\n 'Rostov',\n 'Taganrog',\n 'Novocherkassk',\n 'Shakhty',\n 'Volgodonsk',\n 'Volgograd',\n 'Volzhskiy',\n 'Saratov',\n 'Penza',\n 'Saransk',\n 'Tambov',\n 'Lipetsk',\n 'Voronezh',\n 'Staryy Oskol',\n 'Belgorod',\n 'Kursk',\n 'Orel',\n 'Smolensk',\n 'Bryansk',\n 'Tula',\n 'Novomoskovsk',\n 'Serpukhov',\n 'Kaluga',\n 'Podolsk',\n 'Domodedovo',\n 'Odintsovo',\n 'Krasnogorsk',\n 'Khimki',\n 'Mytishchi',\n 'Korolev',\n 'Shchelkovo',\n 'Elektrostal',\n 'Vladimir',\n 'Kovrov',\n 'Ivanovo',\n 'Kostroma',\n 'Yaroslavl',\n 'Rybinsk',\n 'Cherepovets',\n 'Vologda',\n 'Murmansk',\n 'Severodvinsk',\n 'Arkhangelsk',\n 'Petrozavodsk',\n 'Saint Petersburg',\n 'Kolpino',\n 'Velikiy Novgorod',\n 'Pskov',\n 'Kaliningrad',\n 'Tver',\n 'Moscow',\n 'Balashikha',\n 'Lyubertsy',\n 'Kolomna',\n 'Ryazan',\n 'Dzerzhinsk',\n 'Nizhniy Novgorod',\n 'Cheboksary',\n 'Yoshkar-Ola',\n 'Kirov',\n 'Syktyvkar',\n 'Berezniki',\n 'Perm',\n 'Nizhniy Tagil',\n 'Pervouralsk',\n 'Yekaterinburg',\n 'Kurgan',\n 'Omsk',\n 'Novosibirsk',\n 'Barnaul',\n 'Rubtsovsk',\n 'Biysk',\n 'Prokopyevsk',\n 'Kemerovo',\n 'Tomsk',\n 'Novokuznetsk',\n 'Abakan',\n 'Krasnoyarsk',\n 'Bratsk',\n 'Angarsk',\n 'Irkutsk',\n 'Ulan-Ude',\n 'Chita',\n 'Nakhodka',\n 'Vladivostok',\n 'Ussuriysk',\n 'Petropavlovsk-Kamchatskiy',\n 'Anchorage',\n 'Bremerton',\n 'Tacoma',\n 'Olympia',\n 'Vancouver',\n 'Portland',\n 'Salem',\n 'Eugene',\n 'Medford',\n 'Reno',\n 'Roseville',\n 'Sacramento',\n 'Elk Grove',\n 'Stockton',\n 'Fairfield',\n 'Vallejo',\n 'Santa Rosa',\n 'Concord',\n 'Oakland',\n 'Hayward',\n 'Fremont',\n 'Sunnyvale',\n 'Santa Clara',\n 'San Jose',\n 'Santa Cruz',\n 'Salinas',\n 'Honolulu',\n 'San Francisco',\n 'Antioch',\n 'Modesto',\n 'Merced',\n 'Fresno',\n 'Visalia',\n 'Bakersfield',\n 'Lancaster',\n 'Palmdale',\n 'Santa Clarita',\n 'Santa Maria',\n 'Santa Barbara',\n 'Oxnard',\n 'Thousand Oaks',\n 'Simi Valley',\n 'Los Angeles',\n 'Pasadena',\n 'Glendale',\n 'Torrance',\n 'Long Beach',\n 'Huntington Beach',\n 'Garden Grove',\n 'Santa Ana',\n 'Orange',\n 'Irvine',\n 'Mission Viejo',\n 'Chula Vista',\n 'San Diego',\n 'Escondido',\n 'Oceanside',\n 'Murrieta',\n 'Hemet',\n 'Enterprise',\n 'Paradise',\n 'Henderson',\n 'Sunrise Manor',\n 'North Las Vegas',\n 'Las Vegas',\n 'Spring Valley',\n 'Victorville',\n 'San Bernardino',\n 'Fontana',\n 'Riverside',\n 'Rancho Cucamonga',\n 'Ontario',\n 'Pomona',\n 'Fullerton',\n 'Anaheim',\n 'Corona',\n 'Moreno Valley',\n 'Indio',\n 'Yuma',\n 'Avondale',\n 'Glendale',\n 'Peoria',\n 'Surprise',\n 'Phoenix',\n 'Scottsdale',\n 'Tempe',\n 'Chandler',\n 'Gilbert',\n 'Mesa',\n 'Tucson',\n 'El Paso',\n 'Laredo',\n 'McAllen',\n 'Harlingen',\n 'Brownsville',\n 'Corpus Christi',\n 'San Antonio',\n 'Austin',\n 'Round Rock',\n 'Shreveport',\n 'Tyler',\n 'Mesquite',\n 'Dallas',\n 'Garland',\n 'Plano',\n 'McKinney',\n 'Frisco',\n 'Denton',\n 'Carrollton',\n 'Irving',\n 'Grand Prairie',\n 'Arlington',\n 'Fort Worth',\n 'Waco',\n 'Killeen',\n 'College Station',\n 'Houston',\n 'Pasadena',\n 'Beaumont',\n 'Port Arthur',\n 'Lake Charles',\n 'Lafayette',\n 'Baton Rouge',\n 'Jackson',\n 'Metairie',\n 'Houma',\n 'New Orleans',\n 'Gulfport',\n 'Mobile',\n 'Pensacola',\n 'Panama City',\n 'Tallahassee',\n 'Gainesville',\n 'Palm Coast',\n 'Deltona',\n 'Orlando',\n 'Kissimmee',\n 'Winter Haven',\n 'Lakeland',\n 'Tampa',\n 'St. Petersburg',\n 'Sarasota',\n 'North Port',\n 'Cape Coral',\n 'Bonita Springs',\n 'Miami',\n 'Hialeah',\n 'Miramar',\n 'Pembroke Pines',\n 'Hollywood',\n 'Fort Lauderdale',\n 'Coral Springs',\n 'Port St. Lucie',\n 'Palm Bay',\n 'Leesburg',\n 'Ocala',\n 'Jacksonville',\n 'Savannah',\n 'Charleston',\n 'Myrtle Beach',\n 'Wilmington',\n 'Fayetteville',\n 'Cary',\n 'Greenville',\n 'Raleigh',\n 'Durham',\n 'Burlington',\n 'Roanoke',\n 'Lynchburg',\n 'Richmond',\n 'Newport News',\n 'Hampton',\n 'Norfolk',\n 'Chesapeake',\n 'Virginia Beach',\n 'Fredericksburg',\n 'Alexandria',\n 'Arlington',\n 'Hagerstown',\n 'Frederick',\n 'Washington',\n 'Baltimore',\n 'York',\n 'Harrisburg',\n 'Lancaster',\n 'Reading',\n 'Philadelphia',\n 'Atlantic City',\n 'Trenton',\n 'Staten Island',\n 'Elizabeth',\n 'Jersey City',\n 'Brooklyn',\n 'New York']"
     },
     "execution_count": 16,
     "metadata": {},
     "output_type": "execute_result"
    }
   ],
   "source": [
    "travel_graph.cycle_tour(start_city_name= 'New York')"
   ],
   "metadata": {
    "collapsed": false,
    "ExecuteTime": {
     "end_time": "2023-11-12T09:59:15.304721800Z",
     "start_time": "2023-11-12T09:59:03.742304600Z"
    }
   },
   "id": "c52301a9966cd647"
  },
  {
   "cell_type": "code",
   "execution_count": null,
   "outputs": [],
   "source": [
    "import plotly.graph_objects as go\n",
    "\n",
    "def plot_shortest_path(df, shortest_path):\n",
    "    # Estrai le coordinate delle città\n",
    "    city_coords = df[['lat', 'lng']].to_numpy()\n",
    "\n",
    "    # Estrai le coordinate del percorso\n",
    "    path_coords = [city_coords[city_id - 1] for city_id in shortest_path]\n",
    "\n",
    "    # Crea un grafico a dispersione con il percorso\n",
    "    fig = go.Figure()\n",
    "\n",
    "    fig.add_trace(go.Scattergeo(\n",
    "        locationmode=\"ISO-3\",\n",
    "        lon=[coord[1] for coord in city_coords],\n",
    "        lat=[coord[0] for coord in city_coords],\n",
    "        mode=\"markers\",\n",
    "        marker=dict(size=8, color=\"red\"),\n",
    "        hoverinfo=\"text\",\n",
    "        text=df['city_ascii'],\n",
    "        name=\"Cities\"\n",
    "    ))\n",
    "\n",
    "    fig.add_trace(go.Scattergeo(\n",
    "        locationmode=\"ISO-3\",\n",
    "        lon=[coord[1] for coord in path_coords],\n",
    "        lat=[coord[0] for coord in path_coords],\n",
    "        mode=\"lines+markers\",\n",
    "        line=dict(width=2, color=\"blue\"),\n",
    "        marker=dict(size=8, color=\"blue\"),\n",
    "        hoverinfo=\"text\",\n",
    "        text=df['city_ascii'][shortest_path],\n",
    "        name=\"Shortest Path\"\n",
    "    ))\n",
    "\n",
    "    fig.update_geos(projection_type=\"natural earth\", showland=True, landcolor=\"rgb(250, 250, 250)\")\n",
    "\n",
    "    fig.show()\n"
   ],
   "metadata": {
    "collapsed": false
   },
   "id": "7c3d54b3f8496a23"
  }
 ],
 "metadata": {
  "kernelspec": {
   "display_name": "Python 3",
   "language": "python",
   "name": "python3"
  },
  "language_info": {
   "codemirror_mode": {
    "name": "ipython",
    "version": 2
   },
   "file_extension": ".py",
   "mimetype": "text/x-python",
   "name": "python",
   "nbconvert_exporter": "python",
   "pygments_lexer": "ipython2",
   "version": "2.7.6"
  }
 },
 "nbformat": 4,
 "nbformat_minor": 5
}
