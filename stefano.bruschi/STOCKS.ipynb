{
 "cells": [
  {
   "cell_type": "markdown",
   "source": [
    "## HO CALCOLATO I DAILY RETURN PER OGNI TITOLO STOCK"
   ],
   "metadata": {
    "collapsed": false
   },
   "id": "d79111852bf49660"
  },
  {
   "cell_type": "code",
   "execution_count": 1,
   "outputs": [],
   "source": [
    "import os\n",
    "import pandas as pd\n",
    "\n",
    "\n",
    "class STOCKProcessor:\n",
    "    def __init__(self, folder_path):\n",
    "        self.folder_path = folder_path\n",
    "\n",
    "    def daily_return_calculation(self):\n",
    "        for filename in os.listdir(self.folder_path):\n",
    "            if filename.endswith(\".csv\"):\n",
    "                file_path = os.path.join(self.folder_path, filename)\n",
    "                df = pd.read_csv(file_path)\n",
    "\n",
    "                # Calcola la colonna 'daily_return'\n",
    "                df['daily_return'] = (df['Adj Close'].shift(0) / df['Adj Close'].shift(1) - 1) * 100\n",
    "\n",
    "                # Salva il DataFrame aggiornato nel file CSV\n",
    "                df.to_csv(file_path, index=False)\n",
    "\n",
    "\n",
    "# Esempio di utilizzo\n",
    "if __name__ == \"__main__\":\n",
    "    # Sostituisci 'path_della_tua_cartella' con il percorso effettivo della tua cartella 'etfs'\n",
    "    processor = STOCKProcessor('C:\\\\Users\\\\stebr\\\\DireDSCoding\\\\dscoding-projects\\\\stefano.bruschi\\\\Data\\\\stocks')\n",
    "    processor.daily_return_calculation()"
   ],
   "metadata": {
    "collapsed": false,
    "ExecuteTime": {
     "end_time": "2023-11-21T13:04:48.407507200Z",
     "start_time": "2023-11-21T13:01:53.816623900Z"
    }
   },
   "id": "80f43d1af787e79f"
  },
  {
   "cell_type": "markdown",
   "source": [
    "## HO CALCOLATO DAILY RETURN DEL MERCATO STOCK"
   ],
   "metadata": {
    "collapsed": false
   },
   "id": "86429668de204972"
  },
  {
   "cell_type": "code",
   "execution_count": 2,
   "outputs": [],
   "source": [
    "import os\n",
    "import pandas as pd\n",
    "\n",
    "\n",
    "def calculate_daily_return_mean():\n",
    "    folder_path = \"Data/stocks\"\n",
    "    output_file = os.path.join(folder_path, \"mkt_values.csv\")\n",
    "\n",
    "    # Lista per memorizzare i DataFrame di ogni file CSV\n",
    "    dfs = []\n",
    "\n",
    "    # Leggi i file CSV nella cartella \"stocks\"\n",
    "    for file in os.listdir(folder_path):\n",
    "        if file.endswith(\".csv\"):\n",
    "            file_path = os.path.join(folder_path, file)\n",
    "            df = pd.read_csv(file_path)\n",
    "\n",
    "            # Aggiungi il DataFrame alla lista\n",
    "            dfs.append(df)\n",
    "\n",
    "    # Unisci i DataFrame in base alla colonna \"Date\"\n",
    "    result_df = pd.concat(dfs, axis=0, ignore_index=True, sort=False)\n",
    "\n",
    "    # Calcola la media per ogni data nella colonna \"daily_return\"\n",
    "    mean_values = result_df.groupby(\"Date\")[\"daily_return\"].mean().reset_index()\n",
    "\n",
    "    # Scrivi i risultati nel nuovo file \"mkt_values.csv\"\n",
    "    mean_values.to_csv(output_file, index=False)\n",
    "\n",
    "\n",
    "if __name__ == \"__main__\":\n",
    "    calculate_daily_return_mean()\n"
   ],
   "metadata": {
    "collapsed": false,
    "ExecuteTime": {
     "end_time": "2023-11-19T20:49:56.560726600Z",
     "start_time": "2023-11-19T20:48:26.606079200Z"
    }
   },
   "id": "d1b94f19310f4a0b"
  },
  {
   "cell_type": "markdown",
   "source": [
    "## CALCOLO LE MEDIE MENSILI "
   ],
   "metadata": {
    "collapsed": false
   },
   "id": "fa26052309c78"
  },
  {
   "cell_type": "code",
   "execution_count": 2,
   "outputs": [],
   "source": [
    "import os\n",
    "import pandas as pd\n",
    "\n",
    "# Definisci la cartella contenente i file CSV\n",
    "cartella = 'Data/stocks'\n",
    "\n",
    "# Loop attraverso tutti i file nella cartella\n",
    "for file in os.listdir(cartella):\n",
    "    # Verifica se il file attuale ha l'estensione \".csv\"\n",
    "    if file.endswith(\".csv\"):\n",
    "        # Crea il percorso completo del file\n",
    "        percorso_file = os.path.join(cartella, file)\n",
    "        # Carica il file CSV in un DataFrame\n",
    "        df = pd.read_csv(percorso_file)\n",
    "        # Converti la colonna 'Date' in formato datetime\n",
    "        df['Date'] = pd.to_datetime(df['Date'])\n",
    "        # Calcola la media dei rendimenti giornalieri per ogni mese\n",
    "        media_mensile = df.groupby(df['Date'].dt.to_period('M'))['daily_return'].mean()\n",
    "        # Crea una nuova colonna 'monthly_mean' nel DataFrame originale e assegna i valori delle medie mensili\n",
    "        df['monthly_mean'] = df['Date'].dt.to_period('M').map(media_mensile)\n",
    "        # Salva il DataFrame modificato nel file CSV originale\n",
    "        df.to_csv(percorso_file, index=False)\n"
   ],
   "metadata": {
    "collapsed": false,
    "ExecuteTime": {
     "end_time": "2023-11-21T13:30:27.647213500Z",
     "start_time": "2023-11-21T13:21:26.653692500Z"
    }
   },
   "id": "bbc18c8ce4d5111f"
  },
  {
   "cell_type": "markdown",
   "source": [
    "## RMSE "
   ],
   "metadata": {
    "collapsed": false
   },
   "id": "1455f6a82293eab6"
  },
  {
   "cell_type": "code",
   "execution_count": 3,
   "outputs": [],
   "source": [
    "import os\n",
    "import pandas as pd\n",
    "import numpy as np\n",
    "\n",
    "# Cartella contenente i file CSV\n",
    "cartella = 'Data/stocks'\n",
    "\n",
    "# Lista dei file da elaborare (prendi tutti i file nella cartella)\n",
    "elenco_file = [file for file in os.listdir(cartella) if file.endswith('.csv')]\n",
    "\n",
    "# Loop attraverso i file specificati\n",
    "for file in elenco_file:\n",
    "    # Crea il percorso completo al file\n",
    "    percorso_file = os.path.join(cartella, file)\n",
    "\n",
    "    # Carica il DataFrame da ciascun file CSV\n",
    "    df = pd.read_csv(percorso_file)\n",
    "\n",
    "    # Converti la colonna 'Date' in formato datetime\n",
    "    df['Date'] = pd.to_datetime(df['Date'])\n",
    "\n",
    "    # Estrai informazioni su mese e anno dalla colonna 'Date'\n",
    "    df['Mese'] = df['Date'].dt.month\n",
    "    df['Anno'] = df['Date'].dt.year\n",
    "\n",
    "    # Raggruppa i dati per mese\n",
    "    gruppo_mensile = df.groupby(['Mese', 'Anno'])\n",
    "\n",
    "    # Calcola lo scarto quadratico medio per ogni mese\n",
    "    scarti_quadratici_mensili = []\n",
    "    for (mese, anno), dati_mese in gruppo_mensile:\n",
    "        RMSE = np.sqrt(np.mean((dati_mese['daily_return'] - dati_mese['monthly_mean']) ** 2))\n",
    "        scarti_quadratici_mensili.append({\n",
    "            'Mese': mese,\n",
    "            'Anno': anno,\n",
    "            'RMSE': RMSE\n",
    "        })\n",
    "\n",
    "    # Crea un DataFrame con gli scarti quadratici medi mensili\n",
    "    df_scarti = pd.DataFrame(scarti_quadratici_mensili)\n",
    "\n",
    "    # Unisci il DataFrame degli scarti con il DataFrame originale\n",
    "    df = pd.merge(df, df_scarti, on=['Mese', 'Anno'], how='left')\n",
    "\n",
    "    # Rimuovi le colonne 'Mese' e 'Anno'\n",
    "    df = df.drop(['Mese', 'Anno'], axis=1)\n",
    "\n",
    "    # Salva il DataFrame aggiornato nel file originale\n",
    "    df.to_csv(percorso_file, index=False)\n"
   ],
   "metadata": {
    "collapsed": false,
    "ExecuteTime": {
     "end_time": "2023-11-21T15:14:08.586563Z",
     "start_time": "2023-11-21T15:09:16.900914200Z"
    }
   },
   "id": "334fa8744332ded7"
  },
  {
   "cell_type": "code",
   "execution_count": null,
   "outputs": [],
   "source": [],
   "metadata": {
    "collapsed": false
   },
   "id": "533ad583be4665eb"
  }
 ],
 "metadata": {
  "kernelspec": {
   "display_name": "Python 3",
   "language": "python",
   "name": "python3"
  },
  "language_info": {
   "codemirror_mode": {
    "name": "ipython",
    "version": 2
   },
   "file_extension": ".py",
   "mimetype": "text/x-python",
   "name": "python",
   "nbconvert_exporter": "python",
   "pygments_lexer": "ipython2",
   "version": "2.7.6"
  }
 },
 "nbformat": 4,
 "nbformat_minor": 5
}
