{
 "cells": [
  {
   "cell_type": "markdown",
   "source": [
    "## HO CALCOLATO I DAILY RETURN PER OGNI TITOLO ETF"
   ],
   "metadata": {
    "collapsed": false
   },
   "id": "a0f8308c0d008c8f"
  },
  {
   "cell_type": "code",
   "execution_count": 1,
   "outputs": [],
   "source": [
    "import os\n",
    "import pandas as pd\n",
    "\n",
    "class ETFProcessor:\n",
    "    def __init__(self, folder_path):\n",
    "        self.folder_path = folder_path\n",
    "\n",
    "    def daily_return_calculation(self):\n",
    "        for filename in os.listdir(self.folder_path):\n",
    "            if filename.endswith(\".csv\"):\n",
    "                file_path = os.path.join(self.folder_path, filename)\n",
    "                df = pd.read_csv(file_path)\n",
    "                \n",
    "            # Calcola la colonna 'daily_return' e moltiplica per 100\n",
    "            df['daily_return'] = (df['Adj Close'].shift(0) / df['Adj Close'].shift(1) - 1) * 100\n",
    "\n",
    "            # Salva il DataFrame aggiornato nel file CSV\n",
    "            df.to_csv(file_path, index=False)\n",
    "\n",
    "# Esempio di utilizzo\n",
    "if __name__ == \"__main__\":\n",
    "    # Sostituisci 'path_della_tua_cartella' con il percorso effettivo della tua cartella 'etfs'\n",
    "    processor = ETFProcessor('C:\\\\Users\\\\stebr\\\\DireDSCoding\\\\dscoding-projects\\\\stefano.bruschi\\\\Data\\\\etfs')\n",
    "    processor.daily_return_calculation()\n"
   ],
   "metadata": {
    "collapsed": false,
    "ExecuteTime": {
     "end_time": "2023-11-21T13:01:32.774276500Z",
     "start_time": "2023-11-21T13:00:27.003146500Z"
    }
   },
   "id": "initial_id"
  },
  {
   "cell_type": "markdown",
   "source": [
    "## HO CALCOLATO I DAILY RETURN DEL MKT ETF"
   ],
   "metadata": {
    "collapsed": false
   },
   "id": "b3ba337e7c661351"
  },
  {
   "cell_type": "code",
   "execution_count": 9,
   "outputs": [],
   "source": [
    "import os\n",
    "import pandas as pd\n",
    "\n",
    "def calculate_daily_return_mean():\n",
    "    folder_path = \"Data/etfs\"\n",
    "    output_file = os.path.join(folder_path, \"mkt_values.csv\")\n",
    "    \n",
    "    # Lista per memorizzare i DataFrame di ogni file CSV\n",
    "    dfs = []\n",
    "\n",
    "    # Leggi i file CSV nella cartella \"etfs\"\n",
    "    for file in os.listdir(folder_path):\n",
    "        if file.endswith(\".csv\"):\n",
    "            file_path = os.path.join(folder_path, file)\n",
    "            df = pd.read_csv(file_path)\n",
    "            \n",
    "            # Aggiungi il DataFrame alla lista\n",
    "            dfs.append(df)\n",
    "\n",
    "    # Unisci i DataFrame in base alla colonna \"Date\"\n",
    "    result_df = pd.concat(dfs, axis=0, ignore_index=True, sort=False)\n",
    "\n",
    "    # Calcola la media per ogni data nella colonna \"daily_return\"\n",
    "    mean_values = result_df.groupby(\"Date\")[\"daily_return\"].mean().reset_index()\n",
    "\n",
    "    # Scrivi i risultati nel nuovo file \"mkt_values.csv\"\n",
    "    mean_values.to_csv(output_file, index=False)\n",
    "\n",
    "if __name__ == \"__main__\":\n",
    "    calculate_daily_return_mean()\n"
   ],
   "metadata": {
    "collapsed": false,
    "ExecuteTime": {
     "end_time": "2023-11-19T20:43:27.188593400Z",
     "start_time": "2023-11-19T20:43:17.058046400Z"
    }
   },
   "id": "c8f73502eb80982b"
  },
  {
   "cell_type": "markdown",
   "source": [
    "## CALCOLO LE MEDIE MENSILI "
   ],
   "metadata": {
    "collapsed": false
   },
   "id": "358f476a71fde0cc"
  },
  {
   "cell_type": "code",
   "execution_count": 2,
   "outputs": [],
   "source": [
    "import os\n",
    "import pandas as pd\n",
    "\n",
    "# Definisci la cartella contenente i file CSV\n",
    "cartella = 'Data/etfs'\n",
    "\n",
    "# Loop attraverso tutti i file nella cartella\n",
    "for file in os.listdir(cartella):\n",
    "    # Verifica se il file attuale ha l'estensione \".csv\"\n",
    "    if file.endswith(\".csv\"):\n",
    "        # Crea il percorso completo del file\n",
    "        percorso_file = os.path.join(cartella, file)\n",
    "        # Carica il file CSV in un DataFrame\n",
    "        df = pd.read_csv(percorso_file)\n",
    "        # Converti la colonna 'Date' in formato datetime\n",
    "        df['Date'] = pd.to_datetime(df['Date'])\n",
    "        # Calcola la media dei rendimenti giornalieri per ogni mese\n",
    "        media_mensile = df.groupby(df['Date'].dt.to_period('M'))['daily_return'].mean()\n",
    "        # Crea una nuova colonna 'monthly_mean' nel DataFrame originale e assegna i valori delle medie mensili\n",
    "        df['monthly_mean'] = df['Date'].dt.to_period('M').map(media_mensile)\n",
    "        # Salva il DataFrame modificato nel file CSV originale\n",
    "        df.to_csv(percorso_file, index=False)\n"
   ],
   "metadata": {
    "collapsed": false,
    "ExecuteTime": {
     "end_time": "2023-11-21T13:26:19.851417700Z",
     "start_time": "2023-11-21T13:21:45.079448700Z"
    }
   },
   "id": "3f9c738f282ec99a"
  },
  {
   "cell_type": "markdown",
   "source": [
    "## RMSE"
   ],
   "metadata": {
    "collapsed": false
   },
   "id": "2046902bbfea85b7"
  },
  {
   "cell_type": "code",
   "execution_count": null,
   "outputs": [],
   "source": [
    "import os\n",
    "import pandas as pd\n",
    "import numpy as np\n",
    "\n",
    "# Cartella contenente i file CSV\n",
    "cartella = 'Data/etfs'\n",
    "\n",
    "# Lista dei file da elaborare (prendi tutti i file nella cartella)\n",
    "elenco_file = [file for file in os.listdir(cartella) if file.endswith('.csv')]\n",
    "\n",
    "# Loop attraverso i file specificati\n",
    "for file in elenco_file:\n",
    "    # Crea il percorso completo al file\n",
    "    percorso_file = os.path.join(cartella, file)\n",
    "\n",
    "    # Carica il DataFrame da ciascun file CSV\n",
    "    df = pd.read_csv(percorso_file)\n",
    "\n",
    "    # Converti la colonna 'Date' in formato datetime\n",
    "    df['Date'] = pd.to_datetime(df['Date'])\n",
    "\n",
    "    # Estrai informazioni su mese e anno dalla colonna 'Date'\n",
    "    df['Mese'] = df['Date'].dt.month\n",
    "    df['Anno'] = df['Date'].dt.year\n",
    "\n",
    "    # Raggruppa i dati per mese\n",
    "    gruppo_mensile = df.groupby(['Mese', 'Anno'])\n",
    "\n",
    "    # Calcola lo scarto quadratico medio per ogni mese\n",
    "    scarti_quadratici_mensili = []\n",
    "    for (mese, anno), dati_mese in gruppo_mensile:\n",
    "        RMSE = np.sqrt(np.mean((dati_mese['daily_return'] - dati_mese['monthly_mean']) ** 2))\n",
    "        scarti_quadratici_mensili.append({\n",
    "            'Mese': mese,\n",
    "            'Anno': anno,\n",
    "            'RMSE': RMSE\n",
    "        })\n",
    "\n",
    "    # Crea un DataFrame con gli scarti quadratici medi mensili\n",
    "    df_scarti = pd.DataFrame(scarti_quadratici_mensili)\n",
    "\n",
    "    # Unisci il DataFrame degli scarti con il DataFrame originale\n",
    "    df = pd.merge(df, df_scarti, on=['Mese', 'Anno'], how='left')\n",
    "\n",
    "    # Rimuovi le colonne 'Mese' e 'Anno'\n",
    "    df = df.drop(['Mese', 'Anno'], axis=1)\n",
    "\n",
    "    # Salva il DataFrame aggiornato nel file originale\n",
    "    df.to_csv(percorso_file, index=False)\n"
   ],
   "metadata": {
    "collapsed": false
   },
   "id": "37f92f7b7a3ce3"
  },
  {
   "cell_type": "code",
   "execution_count": null,
   "outputs": [],
   "source": [],
   "metadata": {
    "collapsed": false
   },
   "id": "b332546bb49828f6"
  }
 ],
 "metadata": {
  "kernelspec": {
   "display_name": "Python 3",
   "language": "python",
   "name": "python3"
  },
  "language_info": {
   "codemirror_mode": {
    "name": "ipython",
    "version": 2
   },
   "file_extension": ".py",
   "mimetype": "text/x-python",
   "name": "python",
   "nbconvert_exporter": "python",
   "pygments_lexer": "ipython2",
   "version": "2.7.6"
  }
 },
 "nbformat": 4,
 "nbformat_minor": 5
}
