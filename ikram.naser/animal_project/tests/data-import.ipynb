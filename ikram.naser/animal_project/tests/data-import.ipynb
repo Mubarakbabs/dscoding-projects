{
 "cells": [
  {
   "cell_type": "code",
   "execution_count": null,
   "id": "initial_id",
   "metadata": {
    "collapsed": true
   },
   "outputs": [],
   "source": [
    "path = 'C:\\Users\\admin\\Downloads\\archive.zip'\n",
    "open(path, 'r')\n",
    "\n",
    "file.readlines()\n",
    "\n",
    "file.close()\n",
    "\n",
    "with open(path, 'r') as file:\n",
    "    texts = file.readlines()\n",
    "#open different connection for every file to import\n",
    "with open(path, 'r') as file: #in path you paste the path to that file\n",
    "    \n",
    "with open(path 'r') as file: #in path you paste the path to that file\n",
    "    \n",
    "def import_cisi_data(path):\n",
    "    with open(path, 'r') as file:\n",
    "        data = file.readlines()\n",
    "        return data\n",
    "    \n",
    "import pandas as pd \n",
    "pd.read_csv(path)  # or pd.read_excel(path)\n",
    "#API, software that make communication happening between 2 softwares (i want data from wikipedia)\n",
    "\n"
   ]
  }
 ],
 "metadata": {
  "kernelspec": {
   "display_name": "Python 3",
   "language": "python",
   "name": "python3"
  },
  "language_info": {
   "codemirror_mode": {
    "name": "ipython",
    "version": 2
   },
   "file_extension": ".py",
   "mimetype": "text/x-python",
   "name": "python",
   "nbconvert_exporter": "python",
   "pygments_lexer": "ipython2",
   "version": "2.7.6"
  }
 },
 "nbformat": 4,
 "nbformat_minor": 5
}
