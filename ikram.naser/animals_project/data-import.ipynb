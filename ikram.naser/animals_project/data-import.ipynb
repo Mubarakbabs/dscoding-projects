{
 "cells": [
  {
   "cell_type": "code",
   "execution_count": 54,
   "outputs": [],
   "source": [
    "import pandas as pd\n",
    "import matplotlib.pyplot as plt\n",
    "import numpy as np\n",
    "from sklearn.neighbors import KNeighborsClassifier\n",
    "from sklearn.model_selection import train_test_split\n",
    "from sklearn.preprocessing import StandardScaler\n",
    "from sklearn import tree\n",
    "from sklearn.tree import DecisionTreeClassifier\n",
    "from sklearn.ensemble import RandomForestClassifier\n",
    "from sklearn import svm\n",
    "from sklearn.naive_bayes import GaussianNB"
   ],
   "metadata": {
    "collapsed": false,
    "ExecuteTime": {
     "end_time": "2023-11-05T15:26:33.261184800Z",
     "start_time": "2023-11-05T15:26:32.301318Z"
    }
   },
   "id": "initial_id"
  },
  {
   "cell_type": "code",
   "execution_count": 2,
   "outputs": [
    {
     "data": {
      "text/plain": "  animal_name  hair  feathers  eggs  milk  airborne  aquatic  predator  \\\n0    aardvark     1         0     0     1         0        0         1   \n1    antelope     1         0     0     1         0        0         0   \n2        bass     0         0     1     0         0        1         1   \n3        bear     1         0     0     1         0        0         1   \n4        boar     1         0     0     1         0        0         1   \n\n   toothed  backbone  breathes  venomous  fins  legs  tail  domestic  catsize  \\\n0        1         1         1         0     0     4     0         0        1   \n1        1         1         1         0     0     4     1         0        1   \n2        1         1         0         0     1     0     1         0        0   \n3        1         1         1         0     0     4     0         0        1   \n4        1         1         1         0     0     4     1         0        1   \n\n   class_type  \n0           1  \n1           1  \n2           4  \n3           1  \n4           1  ",
      "text/html": "<div>\n<style scoped>\n    .dataframe tbody tr th:only-of-type {\n        vertical-align: middle;\n    }\n\n    .dataframe tbody tr th {\n        vertical-align: top;\n    }\n\n    .dataframe thead th {\n        text-align: right;\n    }\n</style>\n<table border=\"1\" class=\"dataframe\">\n  <thead>\n    <tr style=\"text-align: right;\">\n      <th></th>\n      <th>animal_name</th>\n      <th>hair</th>\n      <th>feathers</th>\n      <th>eggs</th>\n      <th>milk</th>\n      <th>airborne</th>\n      <th>aquatic</th>\n      <th>predator</th>\n      <th>toothed</th>\n      <th>backbone</th>\n      <th>breathes</th>\n      <th>venomous</th>\n      <th>fins</th>\n      <th>legs</th>\n      <th>tail</th>\n      <th>domestic</th>\n      <th>catsize</th>\n      <th>class_type</th>\n    </tr>\n  </thead>\n  <tbody>\n    <tr>\n      <th>0</th>\n      <td>aardvark</td>\n      <td>1</td>\n      <td>0</td>\n      <td>0</td>\n      <td>1</td>\n      <td>0</td>\n      <td>0</td>\n      <td>1</td>\n      <td>1</td>\n      <td>1</td>\n      <td>1</td>\n      <td>0</td>\n      <td>0</td>\n      <td>4</td>\n      <td>0</td>\n      <td>0</td>\n      <td>1</td>\n      <td>1</td>\n    </tr>\n    <tr>\n      <th>1</th>\n      <td>antelope</td>\n      <td>1</td>\n      <td>0</td>\n      <td>0</td>\n      <td>1</td>\n      <td>0</td>\n      <td>0</td>\n      <td>0</td>\n      <td>1</td>\n      <td>1</td>\n      <td>1</td>\n      <td>0</td>\n      <td>0</td>\n      <td>4</td>\n      <td>1</td>\n      <td>0</td>\n      <td>1</td>\n      <td>1</td>\n    </tr>\n    <tr>\n      <th>2</th>\n      <td>bass</td>\n      <td>0</td>\n      <td>0</td>\n      <td>1</td>\n      <td>0</td>\n      <td>0</td>\n      <td>1</td>\n      <td>1</td>\n      <td>1</td>\n      <td>1</td>\n      <td>0</td>\n      <td>0</td>\n      <td>1</td>\n      <td>0</td>\n      <td>1</td>\n      <td>0</td>\n      <td>0</td>\n      <td>4</td>\n    </tr>\n    <tr>\n      <th>3</th>\n      <td>bear</td>\n      <td>1</td>\n      <td>0</td>\n      <td>0</td>\n      <td>1</td>\n      <td>0</td>\n      <td>0</td>\n      <td>1</td>\n      <td>1</td>\n      <td>1</td>\n      <td>1</td>\n      <td>0</td>\n      <td>0</td>\n      <td>4</td>\n      <td>0</td>\n      <td>0</td>\n      <td>1</td>\n      <td>1</td>\n    </tr>\n    <tr>\n      <th>4</th>\n      <td>boar</td>\n      <td>1</td>\n      <td>0</td>\n      <td>0</td>\n      <td>1</td>\n      <td>0</td>\n      <td>0</td>\n      <td>1</td>\n      <td>1</td>\n      <td>1</td>\n      <td>1</td>\n      <td>0</td>\n      <td>0</td>\n      <td>4</td>\n      <td>1</td>\n      <td>0</td>\n      <td>1</td>\n      <td>1</td>\n    </tr>\n  </tbody>\n</table>\n</div>"
     },
     "execution_count": 2,
     "metadata": {},
     "output_type": "execute_result"
    }
   ],
   "source": [
    "zoo = pd.read_csv('C:/Users/admin/Downloads/animal_DB/zoo.csv')\n",
    "zoo.head()"
   ],
   "metadata": {
    "collapsed": false,
    "ExecuteTime": {
     "end_time": "2023-11-05T14:06:24.974561600Z",
     "start_time": "2023-11-05T14:06:23.915362Z"
    }
   },
   "id": "ef1a9be583a44c71"
  },
  {
   "cell_type": "code",
   "execution_count": 3,
   "outputs": [
    {
     "data": {
      "text/plain": "   Class_Number  Number_Of_Animal_Species_In_Class    Class_Type  \\\n0             1                                 41        Mammal   \n1             2                                 20          Bird   \n2             3                                  5       Reptile   \n3             4                                 13          Fish   \n4             5                                  4     Amphibian   \n5             6                                  8           Bug   \n6             7                                 10  Invertebrate   \n\n                                        Animal_Names  \n0  aardvark, antelope, bear, boar, buffalo, calf,...  \n1  chicken, crow, dove, duck, flamingo, gull, haw...  \n2    pitviper, seasnake, slowworm, tortoise, tuatara  \n3  bass, carp, catfish, chub, dogfish, haddock, h...  \n4                             frog, frog, newt, toad  \n5  flea, gnat, honeybee, housefly, ladybird, moth...  \n6  clam, crab, crayfish, lobster, octopus, scorpi...  ",
      "text/html": "<div>\n<style scoped>\n    .dataframe tbody tr th:only-of-type {\n        vertical-align: middle;\n    }\n\n    .dataframe tbody tr th {\n        vertical-align: top;\n    }\n\n    .dataframe thead th {\n        text-align: right;\n    }\n</style>\n<table border=\"1\" class=\"dataframe\">\n  <thead>\n    <tr style=\"text-align: right;\">\n      <th></th>\n      <th>Class_Number</th>\n      <th>Number_Of_Animal_Species_In_Class</th>\n      <th>Class_Type</th>\n      <th>Animal_Names</th>\n    </tr>\n  </thead>\n  <tbody>\n    <tr>\n      <th>0</th>\n      <td>1</td>\n      <td>41</td>\n      <td>Mammal</td>\n      <td>aardvark, antelope, bear, boar, buffalo, calf,...</td>\n    </tr>\n    <tr>\n      <th>1</th>\n      <td>2</td>\n      <td>20</td>\n      <td>Bird</td>\n      <td>chicken, crow, dove, duck, flamingo, gull, haw...</td>\n    </tr>\n    <tr>\n      <th>2</th>\n      <td>3</td>\n      <td>5</td>\n      <td>Reptile</td>\n      <td>pitviper, seasnake, slowworm, tortoise, tuatara</td>\n    </tr>\n    <tr>\n      <th>3</th>\n      <td>4</td>\n      <td>13</td>\n      <td>Fish</td>\n      <td>bass, carp, catfish, chub, dogfish, haddock, h...</td>\n    </tr>\n    <tr>\n      <th>4</th>\n      <td>5</td>\n      <td>4</td>\n      <td>Amphibian</td>\n      <td>frog, frog, newt, toad</td>\n    </tr>\n    <tr>\n      <th>5</th>\n      <td>6</td>\n      <td>8</td>\n      <td>Bug</td>\n      <td>flea, gnat, honeybee, housefly, ladybird, moth...</td>\n    </tr>\n    <tr>\n      <th>6</th>\n      <td>7</td>\n      <td>10</td>\n      <td>Invertebrate</td>\n      <td>clam, crab, crayfish, lobster, octopus, scorpi...</td>\n    </tr>\n  </tbody>\n</table>\n</div>"
     },
     "execution_count": 3,
     "metadata": {},
     "output_type": "execute_result"
    }
   ],
   "source": [
    "class_types = pd.read_csv('C:/Users/admin/Downloads/animal_DB/class.csv')\n",
    "class_types.head(7)"
   ],
   "metadata": {
    "collapsed": false,
    "ExecuteTime": {
     "end_time": "2023-11-05T14:06:25.599658100Z",
     "start_time": "2023-11-05T14:06:24.867446100Z"
    }
   },
   "id": "a6be4bacac3843f6"
  },
  {
   "cell_type": "code",
   "execution_count": 4,
   "outputs": [
    {
     "name": "stdout",
     "output_type": "stream",
     "text": [
      "{'Mammal': 41, 'Bird': 20, 'Reptile': 5, 'Fish': 13, 'Amphibian': 4, 'Bug': 8, 'Invertebrate': 10}\n"
     ]
    },
    {
     "data": {
      "text/plain": "<Figure size 1000x600 with 1 Axes>",
      "image/png": "[encoded data removed]"
     },
     "metadata": {},
     "output_type": "display_data"
    }
   ],
   "source": [
    "# counting and visualizing animal class types \n",
    "\n",
    "animal_classes = class_types.iloc[:,2]\n",
    "n_of_animals = class_types.iloc[:,1]\n",
    "\n",
    "animals_distribution = dict(zip(animal_classes, n_of_animals))\n",
    "print(animals_distribution)\n",
    "\n",
    "plt.figure(figsize=(10, 6)) #width of 10 inches and a height of 6 inches\n",
    "plt.bar(animal_classes, n_of_animals, color='blue')\n",
    "plt.xlabel('Animal classes')\n",
    "plt.ylabel('Number of animals')\n",
    "plt.title('Animal Class Types Distribution')\n",
    "plt.show()"
   ],
   "metadata": {
    "collapsed": false,
    "ExecuteTime": {
     "end_time": "2023-11-05T14:06:31.616090Z",
     "start_time": "2023-11-05T14:06:24.968049800Z"
    }
   },
   "id": "d84373eed27b035"
  },
  {
   "cell_type": "code",
   "execution_count": 5,
   "outputs": [
    {
     "name": "stdout",
     "output_type": "stream",
     "text": [
      "     hair  feathers  eggs  milk  airborne  aquatic  predator  toothed  \\\n",
      "0       1         0     0     1         0        0         1        1   \n",
      "1       1         0     0     1         0        0         0        1   \n",
      "2       0         0     1     0         0        1         1        1   \n",
      "3       1         0     0     1         0        0         1        1   \n",
      "4       1         0     0     1         0        0         1        1   \n",
      "..    ...       ...   ...   ...       ...      ...       ...      ...   \n",
      "96      1         0     0     1         0        0         0        1   \n",
      "97      1         0     1     0         1        0         0        0   \n",
      "98      1         0     0     1         0        0         1        1   \n",
      "99      0         0     1     0         0        0         0        0   \n",
      "100     0         1     1     0         1        0         0        0   \n",
      "\n",
      "     backbone  breathes  venomous  fins  legs  tail  domestic  catsize  \n",
      "0           1         1         0     0     4     0         0        1  \n",
      "1           1         1         0     0     4     1         0        1  \n",
      "2           1         0         0     1     0     1         0        0  \n",
      "3           1         1         0     0     4     0         0        1  \n",
      "4           1         1         0     0     4     1         0        1  \n",
      "..        ...       ...       ...   ...   ...   ...       ...      ...  \n",
      "96          1         1         0     0     2     1         0        1  \n",
      "97          0         1         1     0     6     0         0        0  \n",
      "98          1         1         0     0     4     1         0        1  \n",
      "99          0         1         0     0     0     0         0        0  \n",
      "100         1         1         0     0     2     1         0        0  \n",
      "\n",
      "[101 rows x 16 columns]\n",
      "0      1\n",
      "1      1\n",
      "2      4\n",
      "3      1\n",
      "4      1\n",
      "      ..\n",
      "96     1\n",
      "97     6\n",
      "98     1\n",
      "99     7\n",
      "100    2\n",
      "Name: class_type, Length: 101, dtype: int64\n"
     ]
    }
   ],
   "source": [
    "\n",
    "X = zoo.iloc[:, 1:17]  # only the features \n",
    "Y = zoo.iloc[:, 17]    #only the label\n",
    "print(X)\n",
    "print(Y)\n",
    "X_train, X_test, Y_train, Y_test = train_test_split(X, Y, test_size = 0.3, random_state = 10)\n"
   ],
   "metadata": {
    "collapsed": false,
    "ExecuteTime": {
     "end_time": "2023-11-05T14:06:31.619090400Z",
     "start_time": "2023-11-05T14:06:29.929243100Z"
    }
   },
   "id": "5cfbcb3e7874964c"
  },
  {
   "cell_type": "code",
   "execution_count": 6,
   "outputs": [
    {
     "name": "stdout",
     "output_type": "stream",
     "text": [
      "    hair  feathers  eggs  milk  airborne  aquatic  predator  toothed  \\\n",
      "35     1         0     0     1         0        0         0        1   \n",
      "67     1         0     0     1         0        0         1        1   \n",
      "74     1         0     0     1         0        1         1        1   \n",
      "55     1         0     0     1         0        0         0        1   \n",
      "34     0         0     1     0         0        1         0        1   \n",
      "..   ...       ...   ...   ...       ...      ...       ...      ...   \n",
      "89     0         0     1     0         0        1         0        1   \n",
      "28     1         0     0     1         0        0         0        1   \n",
      "64     1         0     0     1         0        0         1        1   \n",
      "15     0         0     1     0         0        1         1        0   \n",
      "9      1         0     0     1         0        0         0        1   \n",
      "\n",
      "    backbone  breathes  venomous  fins  legs  tail  domestic  catsize  \n",
      "35         1         1         0     0     4     1         1        0  \n",
      "67         1         1         0     0     4     1         0        1  \n",
      "74         1         1         0     1     0     0         0        1  \n",
      "55         1         1         0     0     4     1         0        1  \n",
      "34         1         0         0     1     0     1         0        0  \n",
      "..       ...       ...       ...   ...   ...   ...       ...      ...  \n",
      "89         1         1         0     0     4     0         0        0  \n",
      "28         1         1         0     0     4     1         0        1  \n",
      "64         1         1         0     0     4     1         0        1  \n",
      "15         0         0         0     0     6     0         0        0  \n",
      "9          1         1         0     0     4     0         1        0  \n",
      "\n",
      "[70 rows x 16 columns]\n"
     ]
    }
   ],
   "source": [
    "print(X_train)"
   ],
   "metadata": {
    "collapsed": false,
    "ExecuteTime": {
     "end_time": "2023-11-05T14:06:31.635091700Z",
     "start_time": "2023-11-05T14:06:29.995936300Z"
    }
   },
   "id": "2fa56a6f6fe60169"
  },
  {
   "cell_type": "code",
   "execution_count": 7,
   "outputs": [
    {
     "name": "stdout",
     "output_type": "stream",
     "text": [
      "35    1\n",
      "67    1\n",
      "74    1\n",
      "55    1\n",
      "34    4\n",
      "     ..\n",
      "89    5\n",
      "28    1\n",
      "64    1\n",
      "15    7\n",
      "9     1\n",
      "Name: class_type, Length: 70, dtype: int64\n"
     ]
    }
   ],
   "source": [
    "print(Y_train)"
   ],
   "metadata": {
    "collapsed": false,
    "ExecuteTime": {
     "end_time": "2023-11-05T14:06:31.636094300Z",
     "start_time": "2023-11-05T14:06:30.026090500Z"
    }
   },
   "id": "5eb23e6f2719bea0"
  },
  {
   "cell_type": "code",
   "execution_count": 8,
   "outputs": [
    {
     "name": "stdout",
     "output_type": "stream",
     "text": [
      "    hair  feathers  eggs  milk  airborne  aquatic  predator  toothed  \\\n",
      "79     0         1     1     0         1        1         1        0   \n",
      "63     1         0     1     1         0        1         1        0   \n",
      "85     0         0     1     0         0        1         1        0   \n",
      "39     1         0     1     0         1        0         0        0   \n",
      "38     0         0     1     0         0        1         1        1   \n",
      "3      1         0     0     1         0        0         1        1   \n",
      "19     0         0     0     1         0        1         1        1   \n",
      "66     0         0     0     1         0        1         1        1   \n",
      "90     0         0     1     0         0        0         0        0   \n",
      "14     0         0     1     0         0        1         1        0   \n",
      "43     0         1     1     0         1        0         0        0   \n",
      "2      0         0     1     0         0        1         1        1   \n",
      "1      1         0     0     1         0        0         0        1   \n",
      "42     0         0     1     0         1        0         1        0   \n",
      "61     0         0     1     0         0        1         1        1   \n",
      "44     1         0     0     1         0        0         1        1   \n",
      "26     0         0     1     0         0        1         1        1   \n",
      "95     0         1     1     0         1        0         1        0   \n",
      "75     1         0     0     1         0        1         1        1   \n",
      "82     0         0     1     0         0        1         0        1   \n",
      "81     0         0     1     0         0        0         0        0   \n",
      "91     0         0     1     0         0        0         1        1   \n",
      "71     0         1     1     0         0        0         1        0   \n",
      "53     0         0     1     0         0        1         1        0   \n",
      "48     1         0     0     1         0        1         1        1   \n",
      "45     1         0     0     1         0        0         1        1   \n",
      "58     0         1     1     0         0        1         1        0   \n",
      "21     0         1     1     0         1        1         0        0   \n",
      "98     1         0     0     1         0        0         1        1   \n",
      "6      1         0     0     1         0        0         0        1   \n",
      "94     1         0     0     1         0        0         0        1   \n",
      "\n",
      "    backbone  breathes  venomous  fins  legs  tail  domestic  catsize  \n",
      "79         1         1         0     0     2     1         0        0  \n",
      "63         1         1         0     0     4     1         0        1  \n",
      "85         0         0         0     0     5     0         0        0  \n",
      "39         0         1         1     0     6     0         1        0  \n",
      "38         1         0         0     1     0     1         0        0  \n",
      "3          1         1         0     0     4     0         0        1  \n",
      "19         1         1         0     1     0     1         0        1  \n",
      "66         1         1         0     1     0     1         0        1  \n",
      "90         1         1         0     0     4     1         0        1  \n",
      "14         0         0         0     0     4     0         0        0  \n",
      "43         1         1         0     0     2     1         0        0  \n",
      "2          1         0         0     1     0     1         0        0  \n",
      "1          1         1         0     0     4     1         0        1  \n",
      "42         0         1         0     0     6     0         0        0  \n",
      "61         1         0         0     1     0     1         0        0  \n",
      "44         1         1         0     0     4     1         0        1  \n",
      "26         1         1         1     0     4     0         0        0  \n",
      "95         1         1         0     0     2     1         0        1  \n",
      "75         1         1         0     1     2     1         0        1  \n",
      "82         1         0         0     1     0     1         0        0  \n",
      "81         0         1         0     0     0     0         0        0  \n",
      "91         1         1         0     0     4     1         0        0  \n",
      "71         1         1         0     0     2     1         0        1  \n",
      "53         0         0         0     0     8     0         0        1  \n",
      "48         1         1         0     0     4     1         0        1  \n",
      "45         1         1         0     0     4     1         0        1  \n",
      "58         1         1         0     0     2     1         0        1  \n",
      "21         1         1         0     0     2     1         0        0  \n",
      "98         1         1         0     0     4     1         0        1  \n",
      "6          1         1         0     0     4     1         1        1  \n",
      "94         1         1         0     0     4     1         0        0  \n"
     ]
    }
   ],
   "source": [
    "print(X_test)"
   ],
   "metadata": {
    "collapsed": false,
    "ExecuteTime": {
     "end_time": "2023-11-05T14:06:31.639093500Z",
     "start_time": "2023-11-05T14:06:30.041333700Z"
    }
   },
   "id": "6a4a4b2b4966573e"
  },
  {
   "cell_type": "code",
   "execution_count": 9,
   "outputs": [
    {
     "name": "stdout",
     "output_type": "stream",
     "text": [
      "79    2\n",
      "63    1\n",
      "85    7\n",
      "39    6\n",
      "38    4\n",
      "3     1\n",
      "19    1\n",
      "66    1\n",
      "90    3\n",
      "14    7\n",
      "43    2\n",
      "2     4\n",
      "1     1\n",
      "42    6\n",
      "61    4\n",
      "44    1\n",
      "26    5\n",
      "95    2\n",
      "75    1\n",
      "82    4\n",
      "81    7\n",
      "91    3\n",
      "71    2\n",
      "53    7\n",
      "48    1\n",
      "45    1\n",
      "58    2\n",
      "21    2\n",
      "98    1\n",
      "6     1\n",
      "94    1\n",
      "Name: class_type, dtype: int64\n"
     ]
    }
   ],
   "source": [
    "print(Y_test)"
   ],
   "metadata": {
    "collapsed": false,
    "ExecuteTime": {
     "end_time": "2023-11-05T14:06:31.645092800Z",
     "start_time": "2023-11-05T14:06:30.073725400Z"
    }
   },
   "id": "d60dd6891f27989"
  },
  {
   "cell_type": "code",
   "execution_count": 10,
   "outputs": [],
   "source": [
    "# feature scaling\n",
    "sc = StandardScaler()\n",
    "X_train = sc.fit_transform(X_train)\n",
    "X_test = sc.transform(X_test)"
   ],
   "metadata": {
    "collapsed": false,
    "ExecuteTime": {
     "end_time": "2023-11-05T14:06:31.645092800Z",
     "start_time": "2023-11-05T14:06:30.094881700Z"
    }
   },
   "id": "e65a672635ba11da"
  },
  {
   "cell_type": "code",
   "execution_count": 11,
   "outputs": [
    {
     "name": "stdout",
     "output_type": "stream",
     "text": [
      "[[ 1.08972474 -0.5        -1.12163475 ...  0.58834841  2.31595258\n",
      "  -0.81649658]\n",
      " [ 1.08972474 -0.5        -1.12163475 ...  0.58834841 -0.43178777\n",
      "   1.22474487]\n",
      " [ 1.08972474 -0.5        -1.12163475 ... -1.69967317 -0.43178777\n",
      "   1.22474487]\n",
      " ...\n",
      " [ 1.08972474 -0.5        -1.12163475 ...  0.58834841 -0.43178777\n",
      "   1.22474487]\n",
      " [-0.91766294 -0.5         0.89155583 ... -1.69967317 -0.43178777\n",
      "  -0.81649658]\n",
      " [ 1.08972474 -0.5        -1.12163475 ... -1.69967317  2.31595258\n",
      "  -0.81649658]]\n"
     ]
    }
   ],
   "source": [
    "print(X_train)"
   ],
   "metadata": {
    "collapsed": false,
    "ExecuteTime": {
     "end_time": "2023-11-05T14:06:31.648093700Z",
     "start_time": "2023-11-05T14:06:30.113266800Z"
    }
   },
   "id": "27624ac24af4bf85"
  },
  {
   "cell_type": "code",
   "execution_count": 12,
   "outputs": [
    {
     "name": "stdout",
     "output_type": "stream",
     "text": [
      "[[-0.91766294  2.          0.89155583 -0.84102145  1.69967317  1.58113883\n",
      "   1.02899151 -1.30088727  0.45485883  0.5        -0.30618622 -0.40824829\n",
      "  -0.39773369  0.58834841 -0.43178777 -0.81649658]\n",
      " [ 1.08972474 -0.5         0.89155583  1.18903032 -0.58834841  1.58113883\n",
      "   1.02899151 -1.30088727  0.45485883  0.5        -0.30618622 -0.40824829\n",
      "   0.59660054  0.58834841 -0.43178777  1.22474487]\n",
      " [-0.91766294 -0.5         0.89155583 -0.84102145 -0.58834841  1.58113883\n",
      "   1.02899151 -1.30088727 -2.19848433 -2.         -0.30618622 -0.40824829\n",
      "   1.09376766 -1.69967317 -0.43178777 -0.81649658]\n",
      " [ 1.08972474 -0.5         0.89155583 -0.84102145  1.69967317 -0.63245553\n",
      "  -0.97182532 -1.30088727 -2.19848433  0.5         3.26598632 -0.40824829\n",
      "   1.59093477 -1.69967317  2.31595258 -0.81649658]\n",
      " [-0.91766294 -0.5         0.89155583 -0.84102145 -0.58834841  1.58113883\n",
      "   1.02899151  0.76870611  0.45485883 -2.         -0.30618622  2.44948974\n",
      "  -1.39206792  0.58834841 -0.43178777 -0.81649658]\n",
      " [ 1.08972474 -0.5        -1.12163475  1.18903032 -0.58834841 -0.63245553\n",
      "   1.02899151  0.76870611  0.45485883  0.5        -0.30618622 -0.40824829\n",
      "   0.59660054 -1.69967317 -0.43178777  1.22474487]\n",
      " [-0.91766294 -0.5        -1.12163475  1.18903032 -0.58834841  1.58113883\n",
      "   1.02899151  0.76870611  0.45485883  0.5        -0.30618622  2.44948974\n",
      "  -1.39206792  0.58834841 -0.43178777  1.22474487]\n",
      " [-0.91766294 -0.5        -1.12163475  1.18903032 -0.58834841  1.58113883\n",
      "   1.02899151  0.76870611  0.45485883  0.5        -0.30618622  2.44948974\n",
      "  -1.39206792  0.58834841 -0.43178777  1.22474487]\n",
      " [-0.91766294 -0.5         0.89155583 -0.84102145 -0.58834841 -0.63245553\n",
      "  -0.97182532 -1.30088727  0.45485883  0.5        -0.30618622 -0.40824829\n",
      "   0.59660054  0.58834841 -0.43178777  1.22474487]\n",
      " [-0.91766294 -0.5         0.89155583 -0.84102145 -0.58834841  1.58113883\n",
      "   1.02899151 -1.30088727 -2.19848433 -2.         -0.30618622 -0.40824829\n",
      "   0.59660054 -1.69967317 -0.43178777 -0.81649658]\n",
      " [-0.91766294  2.          0.89155583 -0.84102145  1.69967317 -0.63245553\n",
      "  -0.97182532 -1.30088727  0.45485883  0.5        -0.30618622 -0.40824829\n",
      "  -0.39773369  0.58834841 -0.43178777 -0.81649658]\n",
      " [-0.91766294 -0.5         0.89155583 -0.84102145 -0.58834841  1.58113883\n",
      "   1.02899151  0.76870611  0.45485883 -2.         -0.30618622  2.44948974\n",
      "  -1.39206792  0.58834841 -0.43178777 -0.81649658]\n",
      " [ 1.08972474 -0.5        -1.12163475  1.18903032 -0.58834841 -0.63245553\n",
      "  -0.97182532  0.76870611  0.45485883  0.5        -0.30618622 -0.40824829\n",
      "   0.59660054  0.58834841 -0.43178777  1.22474487]\n",
      " [-0.91766294 -0.5         0.89155583 -0.84102145  1.69967317 -0.63245553\n",
      "   1.02899151 -1.30088727 -2.19848433  0.5        -0.30618622 -0.40824829\n",
      "   1.59093477 -1.69967317 -0.43178777 -0.81649658]\n",
      " [-0.91766294 -0.5         0.89155583 -0.84102145 -0.58834841  1.58113883\n",
      "   1.02899151  0.76870611  0.45485883 -2.         -0.30618622  2.44948974\n",
      "  -1.39206792  0.58834841 -0.43178777 -0.81649658]\n",
      " [ 1.08972474 -0.5        -1.12163475  1.18903032 -0.58834841 -0.63245553\n",
      "   1.02899151  0.76870611  0.45485883  0.5        -0.30618622 -0.40824829\n",
      "   0.59660054  0.58834841 -0.43178777  1.22474487]\n",
      " [-0.91766294 -0.5         0.89155583 -0.84102145 -0.58834841  1.58113883\n",
      "   1.02899151  0.76870611  0.45485883  0.5         3.26598632 -0.40824829\n",
      "   0.59660054 -1.69967317 -0.43178777 -0.81649658]\n",
      " [-0.91766294  2.          0.89155583 -0.84102145  1.69967317 -0.63245553\n",
      "   1.02899151 -1.30088727  0.45485883  0.5        -0.30618622 -0.40824829\n",
      "  -0.39773369  0.58834841 -0.43178777  1.22474487]\n",
      " [ 1.08972474 -0.5        -1.12163475  1.18903032 -0.58834841  1.58113883\n",
      "   1.02899151  0.76870611  0.45485883  0.5        -0.30618622  2.44948974\n",
      "  -0.39773369  0.58834841 -0.43178777  1.22474487]\n",
      " [-0.91766294 -0.5         0.89155583 -0.84102145 -0.58834841  1.58113883\n",
      "  -0.97182532  0.76870611  0.45485883 -2.         -0.30618622  2.44948974\n",
      "  -1.39206792  0.58834841 -0.43178777 -0.81649658]\n",
      " [-0.91766294 -0.5         0.89155583 -0.84102145 -0.58834841 -0.63245553\n",
      "  -0.97182532 -1.30088727 -2.19848433  0.5        -0.30618622 -0.40824829\n",
      "  -1.39206792 -1.69967317 -0.43178777 -0.81649658]\n",
      " [-0.91766294 -0.5         0.89155583 -0.84102145 -0.58834841 -0.63245553\n",
      "   1.02899151  0.76870611  0.45485883  0.5        -0.30618622 -0.40824829\n",
      "   0.59660054  0.58834841 -0.43178777 -0.81649658]\n",
      " [-0.91766294  2.          0.89155583 -0.84102145 -0.58834841 -0.63245553\n",
      "   1.02899151 -1.30088727  0.45485883  0.5        -0.30618622 -0.40824829\n",
      "  -0.39773369  0.58834841 -0.43178777  1.22474487]\n",
      " [-0.91766294 -0.5         0.89155583 -0.84102145 -0.58834841  1.58113883\n",
      "   1.02899151 -1.30088727 -2.19848433 -2.         -0.30618622 -0.40824829\n",
      "   2.585269   -1.69967317 -0.43178777  1.22474487]\n",
      " [ 1.08972474 -0.5        -1.12163475  1.18903032 -0.58834841  1.58113883\n",
      "   1.02899151  0.76870611  0.45485883  0.5        -0.30618622 -0.40824829\n",
      "   0.59660054  0.58834841 -0.43178777  1.22474487]\n",
      " [ 1.08972474 -0.5        -1.12163475  1.18903032 -0.58834841 -0.63245553\n",
      "   1.02899151  0.76870611  0.45485883  0.5        -0.30618622 -0.40824829\n",
      "   0.59660054  0.58834841 -0.43178777  1.22474487]\n",
      " [-0.91766294  2.          0.89155583 -0.84102145 -0.58834841  1.58113883\n",
      "   1.02899151 -1.30088727  0.45485883  0.5        -0.30618622 -0.40824829\n",
      "  -0.39773369  0.58834841 -0.43178777  1.22474487]\n",
      " [-0.91766294  2.          0.89155583 -0.84102145  1.69967317  1.58113883\n",
      "  -0.97182532 -1.30088727  0.45485883  0.5        -0.30618622 -0.40824829\n",
      "  -0.39773369  0.58834841 -0.43178777 -0.81649658]\n",
      " [ 1.08972474 -0.5        -1.12163475  1.18903032 -0.58834841 -0.63245553\n",
      "   1.02899151  0.76870611  0.45485883  0.5        -0.30618622 -0.40824829\n",
      "   0.59660054  0.58834841 -0.43178777  1.22474487]\n",
      " [ 1.08972474 -0.5        -1.12163475  1.18903032 -0.58834841 -0.63245553\n",
      "  -0.97182532  0.76870611  0.45485883  0.5        -0.30618622 -0.40824829\n",
      "   0.59660054  0.58834841  2.31595258  1.22474487]\n",
      " [ 1.08972474 -0.5        -1.12163475  1.18903032 -0.58834841 -0.63245553\n",
      "  -0.97182532  0.76870611  0.45485883  0.5        -0.30618622 -0.40824829\n",
      "   0.59660054  0.58834841 -0.43178777 -0.81649658]]\n"
     ]
    }
   ],
   "source": [
    "print(X_test)"
   ],
   "metadata": {
    "collapsed": false,
    "ExecuteTime": {
     "end_time": "2023-11-05T14:06:31.654092800Z",
     "start_time": "2023-11-05T14:06:30.140843100Z"
    }
   },
   "id": "c8db8a319e61190"
  },
  {
   "cell_type": "code",
   "execution_count": 13,
   "outputs": [
    {
     "data": {
      "text/plain": "KNeighborsClassifier()",
      "text/html": "<style>#sk-container-id-1 {color: black;}#sk-container-id-1 pre{padding: 0;}#sk-container-id-1 div.sk-toggleable {background-color: white;}#sk-container-id-1 label.sk-toggleable__label {cursor: pointer;display: block;width: 100%;margin-bottom: 0;padding: 0.3em;box-sizing: border-box;text-align: center;}#sk-container-id-1 label.sk-toggleable__label-arrow:before {content: \"▸\";float: left;margin-right: 0.25em;color: #696969;}#sk-container-id-1 label.sk-toggleable__label-arrow:hover:before {color: black;}#sk-container-id-1 div.sk-estimator:hover label.sk-toggleable__label-arrow:before {color: black;}#sk-container-id-1 div.sk-toggleable__content {max-height: 0;max-width: 0;overflow: hidden;text-align: left;background-color: #f0f8ff;}#sk-container-id-1 div.sk-toggleable__content pre {margin: 0.2em;color: black;border-radius: 0.25em;background-color: #f0f8ff;}#sk-container-id-1 input.sk-toggleable__control:checked~div.sk-toggleable__content {max-height: 200px;max-width: 100%;overflow: auto;}#sk-container-id-1 input.sk-toggleable__control:checked~label.sk-toggleable__label-arrow:before {content: \"▾\";}#sk-container-id-1 div.sk-estimator input.sk-toggleable__control:checked~label.sk-toggleable__label {background-color: #d4ebff;}#sk-container-id-1 div.sk-label input.sk-toggleable__control:checked~label.sk-toggleable__label {background-color: #d4ebff;}#sk-container-id-1 input.sk-hidden--visually {border: 0;clip: rect(1px 1px 1px 1px);clip: rect(1px, 1px, 1px, 1px);height: 1px;margin: -1px;overflow: hidden;padding: 0;position: absolute;width: 1px;}#sk-container-id-1 div.sk-estimator {font-family: monospace;background-color: #f0f8ff;border: 1px dotted black;border-radius: 0.25em;box-sizing: border-box;margin-bottom: 0.5em;}#sk-container-id-1 div.sk-estimator:hover {background-color: #d4ebff;}#sk-container-id-1 div.sk-parallel-item::after {content: \"\";width: 100%;border-bottom: 1px solid gray;flex-grow: 1;}#sk-container-id-1 div.sk-label:hover label.sk-toggleable__label {background-color: #d4ebff;}#sk-container-id-1 div.sk-serial::before {content: \"\";position: absolute;border-left: 1px solid gray;box-sizing: border-box;top: 0;bottom: 0;left: 50%;z-index: 0;}#sk-container-id-1 div.sk-serial {display: flex;flex-direction: column;align-items: center;background-color: white;padding-right: 0.2em;padding-left: 0.2em;position: relative;}#sk-container-id-1 div.sk-item {position: relative;z-index: 1;}#sk-container-id-1 div.sk-parallel {display: flex;align-items: stretch;justify-content: center;background-color: white;position: relative;}#sk-container-id-1 div.sk-item::before, #sk-container-id-1 div.sk-parallel-item::before {content: \"\";position: absolute;border-left: 1px solid gray;box-sizing: border-box;top: 0;bottom: 0;left: 50%;z-index: -1;}#sk-container-id-1 div.sk-parallel-item {display: flex;flex-direction: column;z-index: 1;position: relative;background-color: white;}#sk-container-id-1 div.sk-parallel-item:first-child::after {align-self: flex-end;width: 50%;}#sk-container-id-1 div.sk-parallel-item:last-child::after {align-self: flex-start;width: 50%;}#sk-container-id-1 div.sk-parallel-item:only-child::after {width: 0;}#sk-container-id-1 div.sk-dashed-wrapped {border: 1px dashed gray;margin: 0 0.4em 0.5em 0.4em;box-sizing: border-box;padding-bottom: 0.4em;background-color: white;}#sk-container-id-1 div.sk-label label {font-family: monospace;font-weight: bold;display: inline-block;line-height: 1.2em;}#sk-container-id-1 div.sk-label-container {text-align: center;}#sk-container-id-1 div.sk-container {/* jupyter's `normalize.less` sets `[hidden] { display: none; }` but bootstrap.min.css set `[hidden] { display: none !important; }` so we also need the `!important` here to be able to override the default hidden behavior on the sphinx rendered scikit-learn.org. See: https://github.com/scikit-learn/scikit-learn/issues/21755 */display: inline-block !important;position: relative;}#sk-container-id-1 div.sk-text-repr-fallback {display: none;}</style><div id=\"sk-container-id-1\" class=\"sk-top-container\"><div class=\"sk-text-repr-fallback\"><pre>KNeighborsClassifier()</pre><b>In a Jupyter environment, please rerun this cell to show the HTML representation or trust the notebook. <br />On GitHub, the HTML representation is unable to render, please try loading this page with nbviewer.org.</b></div><div class=\"sk-container\" hidden><div class=\"sk-item\"><div class=\"sk-estimator sk-toggleable\"><input class=\"sk-toggleable__control sk-hidden--visually\" id=\"sk-estimator-id-1\" type=\"checkbox\" checked><label for=\"sk-estimator-id-1\" class=\"sk-toggleable__label sk-toggleable__label-arrow\">KNeighborsClassifier</label><div class=\"sk-toggleable__content\"><pre>KNeighborsClassifier()</pre></div></div></div></div></div>"
     },
     "execution_count": 13,
     "metadata": {},
     "output_type": "execute_result"
    }
   ],
   "source": [
    "#KNN \n",
    "classifier = KNeighborsClassifier(n_neighbors = 5, metric = 'minkowski', p = 2) #“minkowski”,which results in the standard Euclidean distance when p = 2\n",
    "classifier.fit(X_train, Y_train)"
   ],
   "metadata": {
    "collapsed": false,
    "ExecuteTime": {
     "end_time": "2023-11-05T14:06:31.657093200Z",
     "start_time": "2023-11-05T14:06:30.190175900Z"
    }
   },
   "id": "ef6086c5542d8cde"
  },
  {
   "cell_type": "code",
   "execution_count": 14,
   "outputs": [
    {
     "name": "stdout",
     "output_type": "stream",
     "text": [
      "[2 4 1 6 4 1 5 2 1 4 6 5 2 7 1]\n"
     ]
    }
   ],
   "source": [
    "#predicting a new result\n",
    "Y_pred = classifier.predict(X_test[10:25])\n",
    "print(Y_pred)"
   ],
   "metadata": {
    "collapsed": false,
    "ExecuteTime": {
     "end_time": "2023-11-05T14:06:31.660095Z",
     "start_time": "2023-11-05T14:06:30.222006300Z"
    }
   },
   "id": "d3d94a511385685f"
  },
  {
   "cell_type": "code",
   "execution_count": 15,
   "outputs": [
    {
     "name": "stdout",
     "output_type": "stream",
     "text": [
      "43    2\n",
      "2     4\n",
      "1     1\n",
      "42    6\n",
      "61    4\n",
      "44    1\n",
      "26    5\n",
      "95    2\n",
      "75    1\n",
      "82    4\n",
      "81    7\n",
      "91    3\n",
      "71    2\n",
      "53    7\n",
      "48    1\n",
      "Name: class_type, dtype: int64\n"
     ]
    }
   ],
   "source": [
    "print(Y_test[10:25])\n"
   ],
   "metadata": {
    "collapsed": false,
    "ExecuteTime": {
     "end_time": "2023-11-05T14:06:31.661095400Z",
     "start_time": "2023-11-05T14:06:30.860371200Z"
    }
   },
   "id": "a76499e970184b06"
  },
  {
   "cell_type": "code",
   "execution_count": null,
   "outputs": [],
   "source": [
    "\n",
    "   Y_pred = classifier.predict(X_test[10:25])\n",
    "   Y_test = Y_test[10:25]\n",
    "   #comparing results with np.intersect1d\n",
    "#print(len(np.intersect1d(Y_pred, Y_test)/len(Y_pred))\n",
    "#print(np.concatenate(Y_pred, Y_test))"
   ],
   "metadata": {
    "collapsed": false
   },
   "id": "2625aa2a420733f8"
  },
  {
   "cell_type": "code",
   "execution_count": null,
   "outputs": [],
   "source": [
    "#Decision tree classification\n",
    "X = zoo.iloc[:, 1:17]  # only the features \n",
    "Y = zoo.iloc[:, 17]    #only the label\n",
    "\n",
    "X_train, X_test, Y_train, Y_test = train_test_split(X, Y, test_size = 0.3, random_state = 10)"
   ],
   "metadata": {
    "collapsed": false
   },
   "id": "68e9e23c573a0d1a"
  },
  {
   "cell_type": "code",
   "execution_count": 22,
   "outputs": [],
   "source": [
    "sc = StandardScaler()\n",
    "X_train = sc.fit_transform(X_train)\n",
    "X_test = sc.transform(X_test)"
   ],
   "metadata": {
    "collapsed": false,
    "ExecuteTime": {
     "end_time": "2023-11-05T14:24:45.307696300Z",
     "start_time": "2023-11-05T14:24:45.162656200Z"
    }
   },
   "id": "779e52acb7e2e001"
  },
  {
   "cell_type": "code",
   "execution_count": 23,
   "outputs": [
    {
     "data": {
      "text/plain": "DecisionTreeClassifier()",
      "text/html": "<style>#sk-container-id-2 {color: black;}#sk-container-id-2 pre{padding: 0;}#sk-container-id-2 div.sk-toggleable {background-color: white;}#sk-container-id-2 label.sk-toggleable__label {cursor: pointer;display: block;width: 100%;margin-bottom: 0;padding: 0.3em;box-sizing: border-box;text-align: center;}#sk-container-id-2 label.sk-toggleable__label-arrow:before {content: \"▸\";float: left;margin-right: 0.25em;color: #696969;}#sk-container-id-2 label.sk-toggleable__label-arrow:hover:before {color: black;}#sk-container-id-2 div.sk-estimator:hover label.sk-toggleable__label-arrow:before {color: black;}#sk-container-id-2 div.sk-toggleable__content {max-height: 0;max-width: 0;overflow: hidden;text-align: left;background-color: #f0f8ff;}#sk-container-id-2 div.sk-toggleable__content pre {margin: 0.2em;color: black;border-radius: 0.25em;background-color: #f0f8ff;}#sk-container-id-2 input.sk-toggleable__control:checked~div.sk-toggleable__content {max-height: 200px;max-width: 100%;overflow: auto;}#sk-container-id-2 input.sk-toggleable__control:checked~label.sk-toggleable__label-arrow:before {content: \"▾\";}#sk-container-id-2 div.sk-estimator input.sk-toggleable__control:checked~label.sk-toggleable__label {background-color: #d4ebff;}#sk-container-id-2 div.sk-label input.sk-toggleable__control:checked~label.sk-toggleable__label {background-color: #d4ebff;}#sk-container-id-2 input.sk-hidden--visually {border: 0;clip: rect(1px 1px 1px 1px);clip: rect(1px, 1px, 1px, 1px);height: 1px;margin: -1px;overflow: hidden;padding: 0;position: absolute;width: 1px;}#sk-container-id-2 div.sk-estimator {font-family: monospace;background-color: #f0f8ff;border: 1px dotted black;border-radius: 0.25em;box-sizing: border-box;margin-bottom: 0.5em;}#sk-container-id-2 div.sk-estimator:hover {background-color: #d4ebff;}#sk-container-id-2 div.sk-parallel-item::after {content: \"\";width: 100%;border-bottom: 1px solid gray;flex-grow: 1;}#sk-container-id-2 div.sk-label:hover label.sk-toggleable__label {background-color: #d4ebff;}#sk-container-id-2 div.sk-serial::before {content: \"\";position: absolute;border-left: 1px solid gray;box-sizing: border-box;top: 0;bottom: 0;left: 50%;z-index: 0;}#sk-container-id-2 div.sk-serial {display: flex;flex-direction: column;align-items: center;background-color: white;padding-right: 0.2em;padding-left: 0.2em;position: relative;}#sk-container-id-2 div.sk-item {position: relative;z-index: 1;}#sk-container-id-2 div.sk-parallel {display: flex;align-items: stretch;justify-content: center;background-color: white;position: relative;}#sk-container-id-2 div.sk-item::before, #sk-container-id-2 div.sk-parallel-item::before {content: \"\";position: absolute;border-left: 1px solid gray;box-sizing: border-box;top: 0;bottom: 0;left: 50%;z-index: -1;}#sk-container-id-2 div.sk-parallel-item {display: flex;flex-direction: column;z-index: 1;position: relative;background-color: white;}#sk-container-id-2 div.sk-parallel-item:first-child::after {align-self: flex-end;width: 50%;}#sk-container-id-2 div.sk-parallel-item:last-child::after {align-self: flex-start;width: 50%;}#sk-container-id-2 div.sk-parallel-item:only-child::after {width: 0;}#sk-container-id-2 div.sk-dashed-wrapped {border: 1px dashed gray;margin: 0 0.4em 0.5em 0.4em;box-sizing: border-box;padding-bottom: 0.4em;background-color: white;}#sk-container-id-2 div.sk-label label {font-family: monospace;font-weight: bold;display: inline-block;line-height: 1.2em;}#sk-container-id-2 div.sk-label-container {text-align: center;}#sk-container-id-2 div.sk-container {/* jupyter's `normalize.less` sets `[hidden] { display: none; }` but bootstrap.min.css set `[hidden] { display: none !important; }` so we also need the `!important` here to be able to override the default hidden behavior on the sphinx rendered scikit-learn.org. See: https://github.com/scikit-learn/scikit-learn/issues/21755 */display: inline-block !important;position: relative;}#sk-container-id-2 div.sk-text-repr-fallback {display: none;}</style><div id=\"sk-container-id-2\" class=\"sk-top-container\"><div class=\"sk-text-repr-fallback\"><pre>DecisionTreeClassifier()</pre><b>In a Jupyter environment, please rerun this cell to show the HTML representation or trust the notebook. <br />On GitHub, the HTML representation is unable to render, please try loading this page with nbviewer.org.</b></div><div class=\"sk-container\" hidden><div class=\"sk-item\"><div class=\"sk-estimator sk-toggleable\"><input class=\"sk-toggleable__control sk-hidden--visually\" id=\"sk-estimator-id-2\" type=\"checkbox\" checked><label for=\"sk-estimator-id-2\" class=\"sk-toggleable__label sk-toggleable__label-arrow\">DecisionTreeClassifier</label><div class=\"sk-toggleable__content\"><pre>DecisionTreeClassifier()</pre></div></div></div></div></div>"
     },
     "execution_count": 23,
     "metadata": {},
     "output_type": "execute_result"
    }
   ],
   "source": [
    "classifier = DecisionTreeClassifier()\n",
    "classifier.fit(X_train, Y_train)"
   ],
   "metadata": {
    "collapsed": false,
    "ExecuteTime": {
     "end_time": "2023-11-05T14:24:53.128550600Z",
     "start_time": "2023-11-05T14:24:52.733229300Z"
    }
   },
   "id": "fa48d400f3650c05"
  },
  {
   "cell_type": "code",
   "execution_count": 43,
   "outputs": [
    {
     "name": "stdout",
     "output_type": "stream",
     "text": [
      "[1 7 6 4 1 1 1 2 7 2 4 1 6 4 1 5 2 1 4 7 5 2 7 1]\n"
     ]
    }
   ],
   "source": [
    "y_pred_tree = classifier.predict(X_test[1:25])\n",
    "print(y_pred_tree)"
   ],
   "metadata": {
    "collapsed": false,
    "ExecuteTime": {
     "end_time": "2023-11-05T15:06:18.846621300Z",
     "start_time": "2023-11-05T15:06:18.596553700Z"
    }
   },
   "id": "5fe2d19f63e1fe61"
  },
  {
   "cell_type": "code",
   "execution_count": 44,
   "outputs": [
    {
     "name": "stdout",
     "output_type": "stream",
     "text": [
      "63    1\n",
      "85    7\n",
      "39    6\n",
      "38    4\n",
      "3     1\n",
      "19    1\n",
      "66    1\n",
      "90    3\n",
      "14    7\n",
      "43    2\n",
      "2     4\n",
      "1     1\n",
      "42    6\n",
      "61    4\n",
      "44    1\n",
      "26    5\n",
      "95    2\n",
      "75    1\n",
      "82    4\n",
      "81    7\n",
      "91    3\n",
      "71    2\n",
      "53    7\n",
      "48    1\n",
      "Name: class_type, dtype: int64\n"
     ]
    }
   ],
   "source": [
    "print(Y_test[1:25])"
   ],
   "metadata": {
    "collapsed": false,
    "ExecuteTime": {
     "end_time": "2023-11-05T15:06:23.567392100Z",
     "start_time": "2023-11-05T15:06:23.548386300Z"
    }
   },
   "id": "439926e2ac7abf0f"
  },
  {
   "cell_type": "code",
   "execution_count": null,
   "outputs": [],
   "source": [
    "#compare the predictions with the real values"
   ],
   "metadata": {
    "collapsed": false
   },
   "id": "e17c9291f62d778d"
  },
  {
   "cell_type": "code",
   "execution_count": 40,
   "outputs": [
    {
     "data": {
      "text/plain": "RandomForestClassifier()",
      "text/html": "<style>#sk-container-id-3 {color: black;}#sk-container-id-3 pre{padding: 0;}#sk-container-id-3 div.sk-toggleable {background-color: white;}#sk-container-id-3 label.sk-toggleable__label {cursor: pointer;display: block;width: 100%;margin-bottom: 0;padding: 0.3em;box-sizing: border-box;text-align: center;}#sk-container-id-3 label.sk-toggleable__label-arrow:before {content: \"▸\";float: left;margin-right: 0.25em;color: #696969;}#sk-container-id-3 label.sk-toggleable__label-arrow:hover:before {color: black;}#sk-container-id-3 div.sk-estimator:hover label.sk-toggleable__label-arrow:before {color: black;}#sk-container-id-3 div.sk-toggleable__content {max-height: 0;max-width: 0;overflow: hidden;text-align: left;background-color: #f0f8ff;}#sk-container-id-3 div.sk-toggleable__content pre {margin: 0.2em;color: black;border-radius: 0.25em;background-color: #f0f8ff;}#sk-container-id-3 input.sk-toggleable__control:checked~div.sk-toggleable__content {max-height: 200px;max-width: 100%;overflow: auto;}#sk-container-id-3 input.sk-toggleable__control:checked~label.sk-toggleable__label-arrow:before {content: \"▾\";}#sk-container-id-3 div.sk-estimator input.sk-toggleable__control:checked~label.sk-toggleable__label {background-color: #d4ebff;}#sk-container-id-3 div.sk-label input.sk-toggleable__control:checked~label.sk-toggleable__label {background-color: #d4ebff;}#sk-container-id-3 input.sk-hidden--visually {border: 0;clip: rect(1px 1px 1px 1px);clip: rect(1px, 1px, 1px, 1px);height: 1px;margin: -1px;overflow: hidden;padding: 0;position: absolute;width: 1px;}#sk-container-id-3 div.sk-estimator {font-family: monospace;background-color: #f0f8ff;border: 1px dotted black;border-radius: 0.25em;box-sizing: border-box;margin-bottom: 0.5em;}#sk-container-id-3 div.sk-estimator:hover {background-color: #d4ebff;}#sk-container-id-3 div.sk-parallel-item::after {content: \"\";width: 100%;border-bottom: 1px solid gray;flex-grow: 1;}#sk-container-id-3 div.sk-label:hover label.sk-toggleable__label {background-color: #d4ebff;}#sk-container-id-3 div.sk-serial::before {content: \"\";position: absolute;border-left: 1px solid gray;box-sizing: border-box;top: 0;bottom: 0;left: 50%;z-index: 0;}#sk-container-id-3 div.sk-serial {display: flex;flex-direction: column;align-items: center;background-color: white;padding-right: 0.2em;padding-left: 0.2em;position: relative;}#sk-container-id-3 div.sk-item {position: relative;z-index: 1;}#sk-container-id-3 div.sk-parallel {display: flex;align-items: stretch;justify-content: center;background-color: white;position: relative;}#sk-container-id-3 div.sk-item::before, #sk-container-id-3 div.sk-parallel-item::before {content: \"\";position: absolute;border-left: 1px solid gray;box-sizing: border-box;top: 0;bottom: 0;left: 50%;z-index: -1;}#sk-container-id-3 div.sk-parallel-item {display: flex;flex-direction: column;z-index: 1;position: relative;background-color: white;}#sk-container-id-3 div.sk-parallel-item:first-child::after {align-self: flex-end;width: 50%;}#sk-container-id-3 div.sk-parallel-item:last-child::after {align-self: flex-start;width: 50%;}#sk-container-id-3 div.sk-parallel-item:only-child::after {width: 0;}#sk-container-id-3 div.sk-dashed-wrapped {border: 1px dashed gray;margin: 0 0.4em 0.5em 0.4em;box-sizing: border-box;padding-bottom: 0.4em;background-color: white;}#sk-container-id-3 div.sk-label label {font-family: monospace;font-weight: bold;display: inline-block;line-height: 1.2em;}#sk-container-id-3 div.sk-label-container {text-align: center;}#sk-container-id-3 div.sk-container {/* jupyter's `normalize.less` sets `[hidden] { display: none; }` but bootstrap.min.css set `[hidden] { display: none !important; }` so we also need the `!important` here to be able to override the default hidden behavior on the sphinx rendered scikit-learn.org. See: https://github.com/scikit-learn/scikit-learn/issues/21755 */display: inline-block !important;position: relative;}#sk-container-id-3 div.sk-text-repr-fallback {display: none;}</style><div id=\"sk-container-id-3\" class=\"sk-top-container\"><div class=\"sk-text-repr-fallback\"><pre>RandomForestClassifier()</pre><b>In a Jupyter environment, please rerun this cell to show the HTML representation or trust the notebook. <br />On GitHub, the HTML representation is unable to render, please try loading this page with nbviewer.org.</b></div><div class=\"sk-container\" hidden><div class=\"sk-item\"><div class=\"sk-estimator sk-toggleable\"><input class=\"sk-toggleable__control sk-hidden--visually\" id=\"sk-estimator-id-3\" type=\"checkbox\" checked><label for=\"sk-estimator-id-3\" class=\"sk-toggleable__label sk-toggleable__label-arrow\">RandomForestClassifier</label><div class=\"sk-toggleable__content\"><pre>RandomForestClassifier()</pre></div></div></div></div></div>"
     },
     "execution_count": 40,
     "metadata": {},
     "output_type": "execute_result"
    }
   ],
   "source": [
    "#Random forest\n",
    "X = zoo.iloc[:, 1:17]  # only the features \n",
    "Y = zoo.iloc[:, 17]    #only the label\n",
    "\n",
    "sc = StandardScaler()\n",
    "X_train = sc.fit_transform(X_train)\n",
    "X_test = sc.transform(X_test)\n",
    "\n",
    "X_train, X_test, Y_train, Y_test = train_test_split(X, Y, test_size = 0.3, random_state = 10)\n",
    "classifier = RandomForestClassifier()\n",
    "classifier.fit(X_train, Y_train)"
   ],
   "metadata": {
    "collapsed": false,
    "ExecuteTime": {
     "end_time": "2023-11-05T15:02:11.534247500Z",
     "start_time": "2023-11-05T15:02:10.375679Z"
    }
   },
   "id": "fbd28c0ed6c1ea2c"
  },
  {
   "cell_type": "code",
   "execution_count": 47,
   "outputs": [
    {
     "name": "stdout",
     "output_type": "stream",
     "text": [
      "[2 1 7 6 4 1 1 1 2 7 2 4 1 6 4 1 5 2 1 4 7 5 2 7 1 1 2 2 1 1]\n"
     ]
    }
   ],
   "source": [
    "y_pred_forest = classifier.predict(X_test[0:30])\n",
    "print(y_pred_forest)"
   ],
   "metadata": {
    "collapsed": false,
    "ExecuteTime": {
     "end_time": "2023-11-05T15:09:35.993356700Z",
     "start_time": "2023-11-05T15:09:33.175578500Z"
    }
   },
   "id": "db8e68bb5ffbca37"
  },
  {
   "cell_type": "code",
   "execution_count": 48,
   "outputs": [
    {
     "name": "stdout",
     "output_type": "stream",
     "text": [
      "79    2\n",
      "63    1\n",
      "85    7\n",
      "39    6\n",
      "38    4\n",
      "3     1\n",
      "19    1\n",
      "66    1\n",
      "90    3\n",
      "14    7\n",
      "43    2\n",
      "2     4\n",
      "1     1\n",
      "42    6\n",
      "61    4\n",
      "44    1\n",
      "26    5\n",
      "95    2\n",
      "75    1\n",
      "82    4\n",
      "81    7\n",
      "91    3\n",
      "71    2\n",
      "53    7\n",
      "48    1\n",
      "45    1\n",
      "58    2\n",
      "21    2\n",
      "98    1\n",
      "6     1\n",
      "Name: class_type, dtype: int64\n"
     ]
    }
   ],
   "source": [
    "print(Y_test[0:30])"
   ],
   "metadata": {
    "collapsed": false,
    "ExecuteTime": {
     "end_time": "2023-11-05T15:09:41.219769700Z",
     "start_time": "2023-11-05T15:09:41.121484900Z"
    }
   },
   "id": "58cc9fb3fd3c6474"
  },
  {
   "cell_type": "code",
   "execution_count": null,
   "outputs": [],
   "source": [
    "#compare the predictions with the real values, confusion matrix?"
   ],
   "metadata": {
    "collapsed": false
   },
   "id": "e16f8d57ae509ef0"
  },
  {
   "cell_type": "code",
   "execution_count": null,
   "outputs": [],
   "source": [
    "#SVM\n",
    "X = zoo.iloc[:, 1:17]  # only the features \n",
    "Y = zoo.iloc[:, 17]    #only the label\n",
    "\n",
    "sc = StandardScaler()\n",
    "X_train = sc.fit_transform(X_train)\n",
    "X_test = sc.transform(X_test)\n",
    "\n",
    "X_train, X_test, Y_train, Y_test = train_test_split(X, Y, test_size = 0.3, random_state = 10)\n",
    "classifier = svm.SVC()\n",
    "classifier.fit(X_train, Y_train)"
   ],
   "metadata": {
    "collapsed": false
   },
   "id": "f8767b577d7fbc4c"
  },
  {
   "cell_type": "code",
   "execution_count": 52,
   "outputs": [
    {
     "name": "stdout",
     "output_type": "stream",
     "text": [
      "[1 1 1 2 7 2 4 1 6 4 1 5 2 1 4]\n"
     ]
    }
   ],
   "source": [
    "y_pred_svm = classifier.predict(X_test[5:20])\n",
    "print(y_pred_svm)"
   ],
   "metadata": {
    "collapsed": false,
    "ExecuteTime": {
     "end_time": "2023-11-05T15:20:13.888339700Z",
     "start_time": "2023-11-05T15:20:13.714767200Z"
    }
   },
   "id": "d9cc602702ac233a"
  },
  {
   "cell_type": "code",
   "execution_count": 53,
   "outputs": [
    {
     "name": "stdout",
     "output_type": "stream",
     "text": [
      "3     1\n",
      "19    1\n",
      "66    1\n",
      "90    3\n",
      "14    7\n",
      "43    2\n",
      "2     4\n",
      "1     1\n",
      "42    6\n",
      "61    4\n",
      "44    1\n",
      "26    5\n",
      "95    2\n",
      "75    1\n",
      "82    4\n",
      "Name: class_type, dtype: int64\n"
     ]
    }
   ],
   "source": [
    "print(Y_test[5:20])"
   ],
   "metadata": {
    "collapsed": false,
    "ExecuteTime": {
     "end_time": "2023-11-05T15:20:52.580061500Z",
     "start_time": "2023-11-05T15:20:52.472091100Z"
    }
   },
   "id": "6b5b18f02a1bb511"
  },
  {
   "cell_type": "code",
   "execution_count": null,
   "outputs": [],
   "source": [
    "#compare the predictions with the real values, confusion matrix?"
   ],
   "metadata": {
    "collapsed": false
   },
   "id": "eda022a59ccec943"
  },
  {
   "cell_type": "code",
   "execution_count": 57,
   "outputs": [
    {
     "data": {
      "text/plain": "GaussianNB()",
      "text/html": "<style>#sk-container-id-4 {color: black;}#sk-container-id-4 pre{padding: 0;}#sk-container-id-4 div.sk-toggleable {background-color: white;}#sk-container-id-4 label.sk-toggleable__label {cursor: pointer;display: block;width: 100%;margin-bottom: 0;padding: 0.3em;box-sizing: border-box;text-align: center;}#sk-container-id-4 label.sk-toggleable__label-arrow:before {content: \"▸\";float: left;margin-right: 0.25em;color: #696969;}#sk-container-id-4 label.sk-toggleable__label-arrow:hover:before {color: black;}#sk-container-id-4 div.sk-estimator:hover label.sk-toggleable__label-arrow:before {color: black;}#sk-container-id-4 div.sk-toggleable__content {max-height: 0;max-width: 0;overflow: hidden;text-align: left;background-color: #f0f8ff;}#sk-container-id-4 div.sk-toggleable__content pre {margin: 0.2em;color: black;border-radius: 0.25em;background-color: #f0f8ff;}#sk-container-id-4 input.sk-toggleable__control:checked~div.sk-toggleable__content {max-height: 200px;max-width: 100%;overflow: auto;}#sk-container-id-4 input.sk-toggleable__control:checked~label.sk-toggleable__label-arrow:before {content: \"▾\";}#sk-container-id-4 div.sk-estimator input.sk-toggleable__control:checked~label.sk-toggleable__label {background-color: #d4ebff;}#sk-container-id-4 div.sk-label input.sk-toggleable__control:checked~label.sk-toggleable__label {background-color: #d4ebff;}#sk-container-id-4 input.sk-hidden--visually {border: 0;clip: rect(1px 1px 1px 1px);clip: rect(1px, 1px, 1px, 1px);height: 1px;margin: -1px;overflow: hidden;padding: 0;position: absolute;width: 1px;}#sk-container-id-4 div.sk-estimator {font-family: monospace;background-color: #f0f8ff;border: 1px dotted black;border-radius: 0.25em;box-sizing: border-box;margin-bottom: 0.5em;}#sk-container-id-4 div.sk-estimator:hover {background-color: #d4ebff;}#sk-container-id-4 div.sk-parallel-item::after {content: \"\";width: 100%;border-bottom: 1px solid gray;flex-grow: 1;}#sk-container-id-4 div.sk-label:hover label.sk-toggleable__label {background-color: #d4ebff;}#sk-container-id-4 div.sk-serial::before {content: \"\";position: absolute;border-left: 1px solid gray;box-sizing: border-box;top: 0;bottom: 0;left: 50%;z-index: 0;}#sk-container-id-4 div.sk-serial {display: flex;flex-direction: column;align-items: center;background-color: white;padding-right: 0.2em;padding-left: 0.2em;position: relative;}#sk-container-id-4 div.sk-item {position: relative;z-index: 1;}#sk-container-id-4 div.sk-parallel {display: flex;align-items: stretch;justify-content: center;background-color: white;position: relative;}#sk-container-id-4 div.sk-item::before, #sk-container-id-4 div.sk-parallel-item::before {content: \"\";position: absolute;border-left: 1px solid gray;box-sizing: border-box;top: 0;bottom: 0;left: 50%;z-index: -1;}#sk-container-id-4 div.sk-parallel-item {display: flex;flex-direction: column;z-index: 1;position: relative;background-color: white;}#sk-container-id-4 div.sk-parallel-item:first-child::after {align-self: flex-end;width: 50%;}#sk-container-id-4 div.sk-parallel-item:last-child::after {align-self: flex-start;width: 50%;}#sk-container-id-4 div.sk-parallel-item:only-child::after {width: 0;}#sk-container-id-4 div.sk-dashed-wrapped {border: 1px dashed gray;margin: 0 0.4em 0.5em 0.4em;box-sizing: border-box;padding-bottom: 0.4em;background-color: white;}#sk-container-id-4 div.sk-label label {font-family: monospace;font-weight: bold;display: inline-block;line-height: 1.2em;}#sk-container-id-4 div.sk-label-container {text-align: center;}#sk-container-id-4 div.sk-container {/* jupyter's `normalize.less` sets `[hidden] { display: none; }` but bootstrap.min.css set `[hidden] { display: none !important; }` so we also need the `!important` here to be able to override the default hidden behavior on the sphinx rendered scikit-learn.org. See: https://github.com/scikit-learn/scikit-learn/issues/21755 */display: inline-block !important;position: relative;}#sk-container-id-4 div.sk-text-repr-fallback {display: none;}</style><div id=\"sk-container-id-4\" class=\"sk-top-container\"><div class=\"sk-text-repr-fallback\"><pre>GaussianNB()</pre><b>In a Jupyter environment, please rerun this cell to show the HTML representation or trust the notebook. <br />On GitHub, the HTML representation is unable to render, please try loading this page with nbviewer.org.</b></div><div class=\"sk-container\" hidden><div class=\"sk-item\"><div class=\"sk-estimator sk-toggleable\"><input class=\"sk-toggleable__control sk-hidden--visually\" id=\"sk-estimator-id-4\" type=\"checkbox\" checked><label for=\"sk-estimator-id-4\" class=\"sk-toggleable__label sk-toggleable__label-arrow\">GaussianNB</label><div class=\"sk-toggleable__content\"><pre>GaussianNB()</pre></div></div></div></div></div>"
     },
     "execution_count": 57,
     "metadata": {},
     "output_type": "execute_result"
    }
   ],
   "source": [
    "#Naive Bayes\n",
    "X = zoo.iloc[:, 1:17]  # only the features \n",
    "Y = zoo.iloc[:, 17]    #only the label\n",
    "\n",
    "sc = StandardScaler()\n",
    "X_train = sc.fit_transform(X_train)\n",
    "X_test = sc.transform(X_test)\n",
    "\n",
    "X_train, X_test, Y_train, Y_test = train_test_split(X, Y, test_size=0.5, random_state=0)\n",
    "classifier = GaussianNB()\n",
    "classifier.fit(X_train, Y_train)"
   ],
   "metadata": {
    "collapsed": false,
    "ExecuteTime": {
     "end_time": "2023-11-05T15:36:19.237379600Z",
     "start_time": "2023-11-05T15:36:16.736980600Z"
    }
   },
   "id": "741018096523ac01"
  },
  {
   "cell_type": "code",
   "execution_count": 58,
   "outputs": [
    {
     "name": "stdout",
     "output_type": "stream",
     "text": [
      "[1 2 4 1 1 7 1 2 7 4 6 1 6 2 4]\n"
     ]
    }
   ],
   "source": [
    "y_pred_NB = classifier.predict(X_test[5:20])\n",
    "print(y_pred_NB)"
   ],
   "metadata": {
    "collapsed": false,
    "ExecuteTime": {
     "end_time": "2023-11-05T15:38:30.194350300Z",
     "start_time": "2023-11-05T15:38:29.533996400Z"
    }
   },
   "id": "d71fd76f14a4f3d6"
  },
  {
   "cell_type": "code",
   "execution_count": 59,
   "outputs": [
    {
     "name": "stdout",
     "output_type": "stream",
     "text": [
      "94    1\n",
      "16    2\n",
      "73    4\n",
      "54    1\n",
      "96    1\n",
      "53    7\n",
      "93    1\n",
      "78    2\n",
      "13    7\n",
      "7     4\n",
      "30    6\n",
      "22    1\n",
      "24    6\n",
      "33    2\n",
      "8     4\n",
      "Name: class_type, dtype: int64\n"
     ]
    }
   ],
   "source": [
    "print(Y_test[5:20])"
   ],
   "metadata": {
    "collapsed": false,
    "ExecuteTime": {
     "end_time": "2023-11-05T15:39:11.947488600Z",
     "start_time": "2023-11-05T15:39:08.479581Z"
    }
   },
   "id": "7185df693a78a49e"
  },
  {
   "cell_type": "code",
   "execution_count": null,
   "outputs": [],
   "source": [
    "#compare the predictions with the real values, confusion matrix?"
   ],
   "metadata": {
    "collapsed": false
   },
   "id": "5ecb896bb84f7e0d"
  },
  {
   "cell_type": "code",
   "execution_count": null,
   "outputs": [],
   "source": [
    "#comparing algorithms"
   ],
   "metadata": {
    "collapsed": false
   },
   "id": "5811cbb5b5332238"
  }
 ],
 "metadata": {
  "kernelspec": {
   "display_name": "Python 3",
   "language": "python",
   "name": "python3"
  },
  "language_info": {
   "codemirror_mode": {
    "name": "ipython",
    "version": 2
   },
   "file_extension": ".py",
   "mimetype": "text/x-python",
   "name": "python",
   "nbconvert_exporter": "python",
   "pygments_lexer": "ipython2",
   "version": "2.7.6"
  }
 },
 "nbformat": 4,
 "nbformat_minor": 5
}
