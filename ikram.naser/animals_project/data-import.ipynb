{
 "cells": [
  {
   "cell_type": "code",
   "execution_count": 4,
   "outputs": [],
   "source": [
    "# Importing\n",
    "import pandas as pd\n",
    "import matplotlib.pyplot as plt\n",
    "import numpy as np\n",
    "from sklearn.neighbors import KNeighborsClassifier\n",
    "from sklearn.model_selection import train_test_split\n",
    "from sklearn.preprocessing import StandardScaler\n",
    "from sklearn import tree\n",
    "from sklearn.tree import DecisionTreeClassifier\n",
    "from sklearn.ensemble import RandomForestClassifier\n",
    "from sklearn import svm\n",
    "from sklearn.naive_bayes import GaussianNB\n",
    "import seaborn as sns"
   ],
   "metadata": {
    "collapsed": false,
    "ExecuteTime": {
     "end_time": "2023-11-11T14:48:37.910472600Z",
     "start_time": "2023-11-11T14:48:19.450740200Z"
    }
   },
   "id": "a3b3712fe694a1d0"
  },
  {
   "cell_type": "code",
   "execution_count": 5,
   "outputs": [
    {
     "data": {
      "text/plain": "  animal_name  hair  feathers  eggs  milk  airborne  aquatic  predator  \\\n0    aardvark     1         0     0     1         0        0         1   \n1    antelope     1         0     0     1         0        0         0   \n2        bass     0         0     1     0         0        1         1   \n3        bear     1         0     0     1         0        0         1   \n4        boar     1         0     0     1         0        0         1   \n\n   toothed  backbone  breathes  venomous  fins  legs  tail  domestic  catsize  \\\n0        1         1         1         0     0     4     0         0        1   \n1        1         1         1         0     0     4     1         0        1   \n2        1         1         0         0     1     0     1         0        0   \n3        1         1         1         0     0     4     0         0        1   \n4        1         1         1         0     0     4     1         0        1   \n\n   class_type  \n0           1  \n1           1  \n2           4  \n3           1  \n4           1  ",
      "text/html": "<div>\n<style scoped>\n    .dataframe tbody tr th:only-of-type {\n        vertical-align: middle;\n    }\n\n    .dataframe tbody tr th {\n        vertical-align: top;\n    }\n\n    .dataframe thead th {\n        text-align: right;\n    }\n</style>\n<table border=\"1\" class=\"dataframe\">\n  <thead>\n    <tr style=\"text-align: right;\">\n      <th></th>\n      <th>animal_name</th>\n      <th>hair</th>\n      <th>feathers</th>\n      <th>eggs</th>\n      <th>milk</th>\n      <th>airborne</th>\n      <th>aquatic</th>\n      <th>predator</th>\n      <th>toothed</th>\n      <th>backbone</th>\n      <th>breathes</th>\n      <th>venomous</th>\n      <th>fins</th>\n      <th>legs</th>\n      <th>tail</th>\n      <th>domestic</th>\n      <th>catsize</th>\n      <th>class_type</th>\n    </tr>\n  </thead>\n  <tbody>\n    <tr>\n      <th>0</th>\n      <td>aardvark</td>\n      <td>1</td>\n      <td>0</td>\n      <td>0</td>\n      <td>1</td>\n      <td>0</td>\n      <td>0</td>\n      <td>1</td>\n      <td>1</td>\n      <td>1</td>\n      <td>1</td>\n      <td>0</td>\n      <td>0</td>\n      <td>4</td>\n      <td>0</td>\n      <td>0</td>\n      <td>1</td>\n      <td>1</td>\n    </tr>\n    <tr>\n      <th>1</th>\n      <td>antelope</td>\n      <td>1</td>\n      <td>0</td>\n      <td>0</td>\n      <td>1</td>\n      <td>0</td>\n      <td>0</td>\n      <td>0</td>\n      <td>1</td>\n      <td>1</td>\n      <td>1</td>\n      <td>0</td>\n      <td>0</td>\n      <td>4</td>\n      <td>1</td>\n      <td>0</td>\n      <td>1</td>\n      <td>1</td>\n    </tr>\n    <tr>\n      <th>2</th>\n      <td>bass</td>\n      <td>0</td>\n      <td>0</td>\n      <td>1</td>\n      <td>0</td>\n      <td>0</td>\n      <td>1</td>\n      <td>1</td>\n      <td>1</td>\n      <td>1</td>\n      <td>0</td>\n      <td>0</td>\n      <td>1</td>\n      <td>0</td>\n      <td>1</td>\n      <td>0</td>\n      <td>0</td>\n      <td>4</td>\n    </tr>\n    <tr>\n      <th>3</th>\n      <td>bear</td>\n      <td>1</td>\n      <td>0</td>\n      <td>0</td>\n      <td>1</td>\n      <td>0</td>\n      <td>0</td>\n      <td>1</td>\n      <td>1</td>\n      <td>1</td>\n      <td>1</td>\n      <td>0</td>\n      <td>0</td>\n      <td>4</td>\n      <td>0</td>\n      <td>0</td>\n      <td>1</td>\n      <td>1</td>\n    </tr>\n    <tr>\n      <th>4</th>\n      <td>boar</td>\n      <td>1</td>\n      <td>0</td>\n      <td>0</td>\n      <td>1</td>\n      <td>0</td>\n      <td>0</td>\n      <td>1</td>\n      <td>1</td>\n      <td>1</td>\n      <td>1</td>\n      <td>0</td>\n      <td>0</td>\n      <td>4</td>\n      <td>1</td>\n      <td>0</td>\n      <td>1</td>\n      <td>1</td>\n    </tr>\n  </tbody>\n</table>\n</div>"
     },
     "execution_count": 5,
     "metadata": {},
     "output_type": "execute_result"
    }
   ],
   "source": [
    "zoo = pd.read_csv('C:/Users/admin/Downloads/animal_DB/zoo.csv')\n",
    "zoo.head()"
   ],
   "metadata": {
    "collapsed": false,
    "ExecuteTime": {
     "end_time": "2023-11-11T14:48:39.459886100Z",
     "start_time": "2023-11-11T14:48:37.992993100Z"
    }
   },
   "id": "15a49096d3d37f9c"
  },
  {
   "cell_type": "code",
   "execution_count": 6,
   "outputs": [
    {
     "data": {
      "text/plain": "   Class_Number  Number_Of_Animal_Species_In_Class Class_Type  \\\n0             1                                 41     Mammal   \n1             2                                 20       Bird   \n2             3                                  5    Reptile   \n3             4                                 13       Fish   \n4             5                                  4  Amphibian   \n\n                                        Animal_Names  \n0  aardvark, antelope, bear, boar, buffalo, calf,...  \n1  chicken, crow, dove, duck, flamingo, gull, haw...  \n2    pitviper, seasnake, slowworm, tortoise, tuatara  \n3  bass, carp, catfish, chub, dogfish, haddock, h...  \n4                             frog, frog, newt, toad  ",
      "text/html": "<div>\n<style scoped>\n    .dataframe tbody tr th:only-of-type {\n        vertical-align: middle;\n    }\n\n    .dataframe tbody tr th {\n        vertical-align: top;\n    }\n\n    .dataframe thead th {\n        text-align: right;\n    }\n</style>\n<table border=\"1\" class=\"dataframe\">\n  <thead>\n    <tr style=\"text-align: right;\">\n      <th></th>\n      <th>Class_Number</th>\n      <th>Number_Of_Animal_Species_In_Class</th>\n      <th>Class_Type</th>\n      <th>Animal_Names</th>\n    </tr>\n  </thead>\n  <tbody>\n    <tr>\n      <th>0</th>\n      <td>1</td>\n      <td>41</td>\n      <td>Mammal</td>\n      <td>aardvark, antelope, bear, boar, buffalo, calf,...</td>\n    </tr>\n    <tr>\n      <th>1</th>\n      <td>2</td>\n      <td>20</td>\n      <td>Bird</td>\n      <td>chicken, crow, dove, duck, flamingo, gull, haw...</td>\n    </tr>\n    <tr>\n      <th>2</th>\n      <td>3</td>\n      <td>5</td>\n      <td>Reptile</td>\n      <td>pitviper, seasnake, slowworm, tortoise, tuatara</td>\n    </tr>\n    <tr>\n      <th>3</th>\n      <td>4</td>\n      <td>13</td>\n      <td>Fish</td>\n      <td>bass, carp, catfish, chub, dogfish, haddock, h...</td>\n    </tr>\n    <tr>\n      <th>4</th>\n      <td>5</td>\n      <td>4</td>\n      <td>Amphibian</td>\n      <td>frog, frog, newt, toad</td>\n    </tr>\n  </tbody>\n</table>\n</div>"
     },
     "execution_count": 6,
     "metadata": {},
     "output_type": "execute_result"
    }
   ],
   "source": [
    "class_types = pd.read_csv('C:/Users/admin/Downloads/animal_DB/class.csv')\n",
    "class_types.head()"
   ],
   "metadata": {
    "collapsed": false,
    "ExecuteTime": {
     "end_time": "2023-11-11T14:48:48.775140900Z",
     "start_time": "2023-11-11T14:48:45.526083800Z"
    }
   },
   "id": "a6be4bacac3843f6"
  },
  {
   "cell_type": "code",
   "execution_count": 4,
   "outputs": [
    {
     "name": "stdout",
     "output_type": "stream",
     "text": [
      "{'Mammal': 41, 'Bird': 20, 'Reptile': 5, 'Fish': 13, 'Amphibian': 4, 'Bug': 8, 'Invertebrate': 10}\n"
     ]
    },
    {
     "data": {
      "text/plain": "<Figure size 1000x600 with 1 Axes>",
      "image/png": "[encoded data removed]"
     },
     "metadata": {},
     "output_type": "display_data"
    }
   ],
   "source": [
    "# counting and visualizing animal class types \n",
    "\n",
    "animal_classes = class_types.iloc[:,2]\n",
    "n_of_animals = class_types.iloc[:,1]\n",
    "\n",
    "animals_distribution = dict(zip(animal_classes, n_of_animals))\n",
    "print(animals_distribution)\n",
    "\n",
    "plt.figure(figsize=(10, 6)) #width of 10 inches and a height of 6 inches\n",
    "plt.bar(animal_classes, n_of_animals, color='blue')\n",
    "plt.xlabel('Animal classes')\n",
    "plt.ylabel('Number of animals')\n",
    "plt.title('Animal Class Types Distribution')\n",
    "plt.show()"
   ],
   "metadata": {
    "collapsed": false,
    "ExecuteTime": {
     "end_time": "2023-11-11T07:02:31.026755500Z",
     "start_time": "2023-11-11T07:02:17.717401300Z"
    }
   },
   "id": "f9398b75f808bc93"
  },
  {
   "cell_type": "code",
   "execution_count": 5,
   "outputs": [
    {
     "data": {
      "text/plain": "  animal_name  hair  feathers  eggs  milk  airborne  aquatic  predator  \\\n0    aardvark     1         0     0     1         0        0         1   \n1    antelope     1         0     0     1         0        0         0   \n2        bass     0         0     1     0         0        1         1   \n3        bear     1         0     0     1         0        0         1   \n4        boar     1         0     0     1         0        0         1   \n\n   toothed  backbone  ...  fins  legs  tail  domestic  catsize  class_type  \\\n0        1         1  ...     0     4     0         0        1           1   \n1        1         1  ...     0     4     1         0        1           1   \n2        1         1  ...     1     0     1         0        0           4   \n3        1         1  ...     0     4     0         0        1           1   \n4        1         1  ...     0     4     1         0        1           1   \n\n   Class_Number  Number_Of_Animal_Species_In_Class  Class_Type  \\\n0             1                                 41      Mammal   \n1             1                                 41      Mammal   \n2             4                                 13        Fish   \n3             1                                 41      Mammal   \n4             1                                 41      Mammal   \n\n                                        Animal_Names  \n0  aardvark, antelope, bear, boar, buffalo, calf,...  \n1  aardvark, antelope, bear, boar, buffalo, calf,...  \n2  bass, carp, catfish, chub, dogfish, haddock, h...  \n3  aardvark, antelope, bear, boar, buffalo, calf,...  \n4  aardvark, antelope, bear, boar, buffalo, calf,...  \n\n[5 rows x 22 columns]",
      "text/html": "<div>\n<style scoped>\n    .dataframe tbody tr th:only-of-type {\n        vertical-align: middle;\n    }\n\n    .dataframe tbody tr th {\n        vertical-align: top;\n    }\n\n    .dataframe thead th {\n        text-align: right;\n    }\n</style>\n<table border=\"1\" class=\"dataframe\">\n  <thead>\n    <tr style=\"text-align: right;\">\n      <th></th>\n      <th>animal_name</th>\n      <th>hair</th>\n      <th>feathers</th>\n      <th>eggs</th>\n      <th>milk</th>\n      <th>airborne</th>\n      <th>aquatic</th>\n      <th>predator</th>\n      <th>toothed</th>\n      <th>backbone</th>\n      <th>...</th>\n      <th>fins</th>\n      <th>legs</th>\n      <th>tail</th>\n      <th>domestic</th>\n      <th>catsize</th>\n      <th>class_type</th>\n      <th>Class_Number</th>\n      <th>Number_Of_Animal_Species_In_Class</th>\n      <th>Class_Type</th>\n      <th>Animal_Names</th>\n    </tr>\n  </thead>\n  <tbody>\n    <tr>\n      <th>0</th>\n      <td>aardvark</td>\n      <td>1</td>\n      <td>0</td>\n      <td>0</td>\n      <td>1</td>\n      <td>0</td>\n      <td>0</td>\n      <td>1</td>\n      <td>1</td>\n      <td>1</td>\n      <td>...</td>\n      <td>0</td>\n      <td>4</td>\n      <td>0</td>\n      <td>0</td>\n      <td>1</td>\n      <td>1</td>\n      <td>1</td>\n      <td>41</td>\n      <td>Mammal</td>\n      <td>aardvark, antelope, bear, boar, buffalo, calf,...</td>\n    </tr>\n    <tr>\n      <th>1</th>\n      <td>antelope</td>\n      <td>1</td>\n      <td>0</td>\n      <td>0</td>\n      <td>1</td>\n      <td>0</td>\n      <td>0</td>\n      <td>0</td>\n      <td>1</td>\n      <td>1</td>\n      <td>...</td>\n      <td>0</td>\n      <td>4</td>\n      <td>1</td>\n      <td>0</td>\n      <td>1</td>\n      <td>1</td>\n      <td>1</td>\n      <td>41</td>\n      <td>Mammal</td>\n      <td>aardvark, antelope, bear, boar, buffalo, calf,...</td>\n    </tr>\n    <tr>\n      <th>2</th>\n      <td>bass</td>\n      <td>0</td>\n      <td>0</td>\n      <td>1</td>\n      <td>0</td>\n      <td>0</td>\n      <td>1</td>\n      <td>1</td>\n      <td>1</td>\n      <td>1</td>\n      <td>...</td>\n      <td>1</td>\n      <td>0</td>\n      <td>1</td>\n      <td>0</td>\n      <td>0</td>\n      <td>4</td>\n      <td>4</td>\n      <td>13</td>\n      <td>Fish</td>\n      <td>bass, carp, catfish, chub, dogfish, haddock, h...</td>\n    </tr>\n    <tr>\n      <th>3</th>\n      <td>bear</td>\n      <td>1</td>\n      <td>0</td>\n      <td>0</td>\n      <td>1</td>\n      <td>0</td>\n      <td>0</td>\n      <td>1</td>\n      <td>1</td>\n      <td>1</td>\n      <td>...</td>\n      <td>0</td>\n      <td>4</td>\n      <td>0</td>\n      <td>0</td>\n      <td>1</td>\n      <td>1</td>\n      <td>1</td>\n      <td>41</td>\n      <td>Mammal</td>\n      <td>aardvark, antelope, bear, boar, buffalo, calf,...</td>\n    </tr>\n    <tr>\n      <th>4</th>\n      <td>boar</td>\n      <td>1</td>\n      <td>0</td>\n      <td>0</td>\n      <td>1</td>\n      <td>0</td>\n      <td>0</td>\n      <td>1</td>\n      <td>1</td>\n      <td>1</td>\n      <td>...</td>\n      <td>0</td>\n      <td>4</td>\n      <td>1</td>\n      <td>0</td>\n      <td>1</td>\n      <td>1</td>\n      <td>1</td>\n      <td>41</td>\n      <td>Mammal</td>\n      <td>aardvark, antelope, bear, boar, buffalo, calf,...</td>\n    </tr>\n  </tbody>\n</table>\n<p>5 rows × 22 columns</p>\n</div>"
     },
     "execution_count": 5,
     "metadata": {},
     "output_type": "execute_result"
    }
   ],
   "source": [
    "df=pd.merge(zoo,class_types,how='left',left_on='class_type',right_on='Class_Number')\n",
    "df.head()"
   ],
   "metadata": {
    "collapsed": false,
    "ExecuteTime": {
     "end_time": "2023-11-11T07:02:31.040266Z",
     "start_time": "2023-11-11T07:02:29.327939Z"
    }
   },
   "id": "39bf3f7852de39de"
  },
  {
   "cell_type": "code",
   "execution_count": 7,
   "outputs": [],
   "source": [
    "# Splitting data into training set and testing set\n",
    "\n",
    "X = zoo.iloc[:, 1:17]  # only the features \n",
    "Y = zoo.iloc[:, 17]    #only the label\n",
    "    \n",
    "    \n",
    "X.head()\n",
    "Y.head()\n",
    "X_train, X_test, Y_train, Y_test = train_test_split(X, Y, test_size = 0.3, random_state = 42, stratify = Y)\n",
    "#test size is pseudo-random number parameter that allows you to reproduce the same train test split each time you run the code scikitlearn recommend ( random_state=42)\n",
    "#the stratify parameter splits the dataset in a way that the proportion of values in the sample will be the same as the proportion provided with this parameter."
   ],
   "metadata": {
    "collapsed": false,
    "ExecuteTime": {
     "end_time": "2023-11-11T14:49:03.573209800Z",
     "start_time": "2023-11-11T14:49:03.414183700Z"
    }
   },
   "id": "5cfbcb3e7874964c"
  },
  {
   "cell_type": "code",
   "execution_count": 7,
   "outputs": [
    {
     "name": "stdout",
     "output_type": "stream",
     "text": [
      "    hair  feathers  eggs  milk  airborne  aquatic  predator  toothed  \\\n",
      "86     0         0     1     0         0        1         1        1   \n",
      "99     0         0     1     0         0        0         0        0   \n",
      "20     0         1     1     0         1        0         0        0   \n",
      "41     0         1     1     0         0        0         1        0   \n",
      "64     1         0     0     1         0        0         1        1   \n",
      "..   ...       ...   ...   ...       ...      ...       ...      ...   \n",
      "66     0         0     0     1         0        1         1        1   \n",
      "15     0         0     1     0         0        1         1        0   \n",
      "62     0         0     1     0         0        0         1        1   \n",
      "32     1         0     0     1         0        0         0        1   \n",
      "57     0         1     1     0         1        0         0        0   \n",
      "\n",
      "    backbone  breathes  venomous  fins  legs  tail  domestic  catsize  \n",
      "86         1         0         1     1     0     1         0        1  \n",
      "99         0         1         0     0     0     0         0        0  \n",
      "20         1         1         0     0     2     1         1        0  \n",
      "41         1         1         0     0     2     1         0        0  \n",
      "64         1         1         0     0     4     1         0        1  \n",
      "..       ...       ...       ...   ...   ...   ...       ...      ...  \n",
      "66         1         1         0     1     0     1         0        1  \n",
      "15         0         0         0     0     6     0         0        0  \n",
      "62         1         1         1     0     0     1         0        0  \n",
      "32         1         1         0     0     2     0         0        1  \n",
      "57         1         1         0     0     2     1         1        0  \n",
      "\n",
      "[70 rows x 16 columns]\n"
     ]
    }
   ],
   "source": [
    "print(X_train)"
   ],
   "metadata": {
    "collapsed": false,
    "ExecuteTime": {
     "end_time": "2023-11-11T07:02:31.046266500Z",
     "start_time": "2023-11-11T07:02:29.413458800Z"
    }
   },
   "id": "2fa56a6f6fe60169"
  },
  {
   "cell_type": "code",
   "execution_count": 8,
   "outputs": [
    {
     "name": "stdout",
     "output_type": "stream",
     "text": [
      "86    4\n",
      "99    7\n",
      "20    2\n",
      "41    2\n",
      "64    1\n",
      "     ..\n",
      "66    1\n",
      "15    7\n",
      "62    3\n",
      "32    1\n",
      "57    2\n",
      "Name: class_type, Length: 70, dtype: int64\n"
     ]
    }
   ],
   "source": [
    "print(Y_train)"
   ],
   "metadata": {
    "collapsed": false,
    "ExecuteTime": {
     "end_time": "2023-11-11T07:02:31.048267500Z",
     "start_time": "2023-11-11T07:02:29.452971800Z"
    }
   },
   "id": "5eb23e6f2719bea0"
  },
  {
   "cell_type": "code",
   "execution_count": 9,
   "outputs": [
    {
     "name": "stdout",
     "output_type": "stream",
     "text": [
      "     hair  feathers  eggs  milk  airborne  aquatic  predator  toothed  \\\n",
      "100     0         1     1     0         1        0         0        0   \n",
      "58      0         1     1     0         0        1         1        0   \n",
      "43      0         1     1     0         1        0         0        0   \n",
      "21      0         1     1     0         1        1         0        0   \n",
      "10      1         0     0     1         0        0         1        1   \n",
      "40      1         0     1     0         1        0         0        0   \n",
      "50      1         0     0     1         0        0         1        1   \n",
      "4       1         0     0     1         0        0         1        1   \n",
      "87      0         1     1     0         1        1         0        0   \n",
      "80      0         0     1     0         0        0         1        1   \n",
      "70      1         0     0     1         0        0         0        1   \n",
      "37      0         1     1     0         1        0         1        0   \n",
      "7       0         0     1     0         0        1         0        1   \n",
      "44      1         0     0     1         0        0         1        1   \n",
      "53      0         0     1     0         0        1         1        0   \n",
      "60      0         0     1     0         0        1         1        1   \n",
      "84      1         0     0     1         0        0         0        1   \n",
      "47      1         0     0     1         0        0         1        1   \n",
      "94      1         0     0     1         0        0         0        1   \n",
      "89      0         0     1     0         0        1         0        1   \n",
      "92      0         0     1     0         0        1         1        1   \n",
      "93      1         0     0     1         1        0         0        1   \n",
      "49      1         0     0     1         0        0         1        1   \n",
      "12      0         0     1     0         0        1         1        1   \n",
      "31      1         0     0     1         0        0         0        1   \n",
      "76      0         0     0     0         0        1         1        1   \n",
      "77      0         0     1     0         0        1         1        0   \n",
      "65      1         0     0     1         0        0         0        1   \n",
      "14      0         0     1     0         0        1         1        0   \n",
      "51      1         0     1     0         1        0         0        0   \n",
      "22      1         0     0     1         0        0         0        1   \n",
      "\n",
      "     backbone  breathes  venomous  fins  legs  tail  domestic  catsize  \n",
      "100         1         1         0     0     2     1         0        0  \n",
      "58          1         1         0     0     2     1         0        1  \n",
      "43          1         1         0     0     2     1         0        0  \n",
      "21          1         1         0     0     2     1         0        0  \n",
      "10          1         1         0     0     4     1         0        1  \n",
      "40          0         1         0     0     6     0         0        0  \n",
      "50          1         1         0     0     4     1         0        1  \n",
      "4           1         1         0     0     4     1         0        1  \n",
      "87          1         1         0     0     2     1         0        1  \n",
      "80          1         1         0     0     0     1         0        0  \n",
      "70          1         1         0     0     4     1         1        1  \n",
      "37          1         1         0     0     2     1         0        0  \n",
      "7           1         0         0     1     0     1         1        0  \n",
      "44          1         1         0     0     4     1         0        1  \n",
      "53          0         0         0     0     8     0         0        1  \n",
      "60          1         0         0     1     0     1         0        1  \n",
      "84          1         1         0     0     2     1         0        0  \n",
      "47          1         1         0     0     4     1         0        1  \n",
      "94          1         1         0     0     4     1         0        0  \n",
      "89          1         1         0     0     4     0         0        0  \n",
      "92          1         0         0     1     0     1         0        1  \n",
      "93          1         1         0     0     2     1         0        0  \n",
      "49          1         1         0     0     4     1         0        0  \n",
      "12          1         0         0     1     0     1         0        0  \n",
      "31          1         1         0     0     4     1         1        1  \n",
      "76          1         0         1     0     0     1         0        0  \n",
      "77          0         0         1     0     0     0         0        0  \n",
      "65          1         1         0     0     4     1         1        1  \n",
      "14          0         0         0     0     4     0         0        0  \n",
      "51          0         1         0     0     6     0         0        0  \n",
      "22          1         1         0     0     4     1         0        1  \n"
     ]
    }
   ],
   "source": [
    "print(X_test)"
   ],
   "metadata": {
    "collapsed": false,
    "ExecuteTime": {
     "end_time": "2023-11-11T07:02:31.055269Z",
     "start_time": "2023-11-11T07:02:29.804520200Z"
    }
   },
   "id": "6a4a4b2b4966573e"
  },
  {
   "cell_type": "code",
   "execution_count": 10,
   "outputs": [
    {
     "name": "stdout",
     "output_type": "stream",
     "text": [
      "100    2\n",
      "58     2\n",
      "43     2\n",
      "21     2\n",
      "10     1\n",
      "40     6\n",
      "50     1\n",
      "4      1\n",
      "87     2\n",
      "80     3\n",
      "70     1\n",
      "37     2\n",
      "7      4\n",
      "44     1\n",
      "53     7\n",
      "60     4\n",
      "84     1\n",
      "47     1\n",
      "94     1\n",
      "89     5\n",
      "92     4\n",
      "93     1\n",
      "49     1\n",
      "12     4\n",
      "31     1\n",
      "76     3\n",
      "77     7\n",
      "65     1\n",
      "14     7\n",
      "51     6\n",
      "22     1\n",
      "Name: class_type, dtype: int64\n"
     ]
    }
   ],
   "source": [
    "print(Y_test)"
   ],
   "metadata": {
    "collapsed": false,
    "ExecuteTime": {
     "end_time": "2023-11-11T07:02:31.060268300Z",
     "start_time": "2023-11-11T07:02:29.809521100Z"
    }
   },
   "id": "d60dd6891f27989"
  },
  {
   "cell_type": "code",
   "execution_count": 11,
   "outputs": [],
   "source": [
    "## feature scaling\n",
    "sc = StandardScaler()\n",
    "X_train = sc.fit_transform(X_train)\n",
    "X_test = sc.transform(X_test)"
   ],
   "metadata": {
    "collapsed": false,
    "ExecuteTime": {
     "end_time": "2023-11-11T07:02:31.063269700Z",
     "start_time": "2023-11-11T07:02:29.813520500Z"
    }
   },
   "id": "e65a672635ba11da"
  },
  {
   "cell_type": "code",
   "execution_count": 12,
   "outputs": [
    {
     "name": "stdout",
     "output_type": "stream",
     "text": [
      "[[-0.81649658 -0.5         0.81649658 ...  0.63245553 -0.38411064\n",
      "   1.15470054]\n",
      " [-0.81649658 -0.5         0.81649658 ... -1.58113883 -0.38411064\n",
      "  -0.8660254 ]\n",
      " [-0.81649658  2.          0.81649658 ...  0.63245553  2.60341656\n",
      "  -0.8660254 ]\n",
      " ...\n",
      " [-0.81649658 -0.5         0.81649658 ...  0.63245553 -0.38411064\n",
      "  -0.8660254 ]\n",
      " [ 1.22474487 -0.5        -1.22474487 ... -1.58113883 -0.38411064\n",
      "   1.15470054]\n",
      " [-0.81649658  2.          0.81649658 ...  0.63245553  2.60341656\n",
      "  -0.8660254 ]]\n"
     ]
    }
   ],
   "source": [
    "print(X_train)"
   ],
   "metadata": {
    "collapsed": false,
    "ExecuteTime": {
     "end_time": "2023-11-11T07:02:31.066270900Z",
     "start_time": "2023-11-11T07:02:29.815521700Z"
    }
   },
   "id": "27624ac24af4bf85"
  },
  {
   "cell_type": "code",
   "execution_count": 13,
   "outputs": [
    {
     "name": "stdout",
     "output_type": "stream",
     "text": [
      "[[-0.81649658  2.          0.81649658 -0.81649658  1.83711731 -0.72231512\n",
      "  -1.15470054 -1.18903032  0.47756693  0.47756693 -0.30618622 -0.47756693\n",
      "  -0.41606078  0.63245553 -0.38411064 -0.8660254 ]\n",
      " [-0.81649658  2.          0.81649658 -0.81649658 -0.54433105  1.38443731\n",
      "   0.8660254  -1.18903032  0.47756693  0.47756693 -0.30618622 -0.47756693\n",
      "  -0.41606078  0.63245553 -0.38411064  1.15470054]\n",
      " [-0.81649658  2.          0.81649658 -0.81649658  1.83711731 -0.72231512\n",
      "  -1.15470054 -1.18903032  0.47756693  0.47756693 -0.30618622 -0.47756693\n",
      "  -0.41606078  0.63245553 -0.38411064 -0.8660254 ]\n",
      " [-0.81649658  2.          0.81649658 -0.81649658  1.83711731  1.38443731\n",
      "  -1.15470054 -1.18903032  0.47756693  0.47756693 -0.30618622 -0.47756693\n",
      "  -0.41606078  0.63245553 -0.38411064 -0.8660254 ]\n",
      " [ 1.22474487 -0.5        -1.22474487  1.22474487 -0.54433105 -0.72231512\n",
      "   0.8660254   0.84102145  0.47756693  0.47756693 -0.30618622 -0.47756693\n",
      "   0.57120208  0.63245553 -0.38411064  1.15470054]\n",
      " [ 1.22474487 -0.5         0.81649658 -0.81649658  1.83711731 -0.72231512\n",
      "  -1.15470054 -1.18903032 -2.09394732  0.47756693 -0.30618622 -0.47756693\n",
      "   1.55846494 -1.58113883 -0.38411064 -0.8660254 ]\n",
      " [ 1.22474487 -0.5        -1.22474487  1.22474487 -0.54433105 -0.72231512\n",
      "   0.8660254   0.84102145  0.47756693  0.47756693 -0.30618622 -0.47756693\n",
      "   0.57120208  0.63245553 -0.38411064  1.15470054]\n",
      " [ 1.22474487 -0.5        -1.22474487  1.22474487 -0.54433105 -0.72231512\n",
      "   0.8660254   0.84102145  0.47756693  0.47756693 -0.30618622 -0.47756693\n",
      "   0.57120208  0.63245553 -0.38411064  1.15470054]\n",
      " [-0.81649658  2.          0.81649658 -0.81649658  1.83711731  1.38443731\n",
      "  -1.15470054 -1.18903032  0.47756693  0.47756693 -0.30618622 -0.47756693\n",
      "  -0.41606078  0.63245553 -0.38411064  1.15470054]\n",
      " [-0.81649658 -0.5         0.81649658 -0.81649658 -0.54433105 -0.72231512\n",
      "   0.8660254   0.84102145  0.47756693  0.47756693 -0.30618622 -0.47756693\n",
      "  -1.40332363  0.63245553 -0.38411064 -0.8660254 ]\n",
      " [ 1.22474487 -0.5        -1.22474487  1.22474487 -0.54433105 -0.72231512\n",
      "  -1.15470054  0.84102145  0.47756693  0.47756693 -0.30618622 -0.47756693\n",
      "   0.57120208  0.63245553  2.60341656  1.15470054]\n",
      " [-0.81649658  2.          0.81649658 -0.81649658  1.83711731 -0.72231512\n",
      "   0.8660254  -1.18903032  0.47756693  0.47756693 -0.30618622 -0.47756693\n",
      "  -0.41606078  0.63245553 -0.38411064 -0.8660254 ]\n",
      " [-0.81649658 -0.5         0.81649658 -0.81649658 -0.54433105  1.38443731\n",
      "  -1.15470054  0.84102145  0.47756693 -2.09394732 -0.30618622  2.09394732\n",
      "  -1.40332363  0.63245553  2.60341656 -0.8660254 ]\n",
      " [ 1.22474487 -0.5        -1.22474487  1.22474487 -0.54433105 -0.72231512\n",
      "   0.8660254   0.84102145  0.47756693  0.47756693 -0.30618622 -0.47756693\n",
      "   0.57120208  0.63245553 -0.38411064  1.15470054]\n",
      " [-0.81649658 -0.5         0.81649658 -0.81649658 -0.54433105  1.38443731\n",
      "   0.8660254  -1.18903032 -2.09394732 -2.09394732 -0.30618622 -0.47756693\n",
      "   2.5457278  -1.58113883 -0.38411064  1.15470054]\n",
      " [-0.81649658 -0.5         0.81649658 -0.81649658 -0.54433105  1.38443731\n",
      "   0.8660254   0.84102145  0.47756693 -2.09394732 -0.30618622  2.09394732\n",
      "  -1.40332363  0.63245553 -0.38411064  1.15470054]\n",
      " [ 1.22474487 -0.5        -1.22474487  1.22474487 -0.54433105 -0.72231512\n",
      "  -1.15470054  0.84102145  0.47756693  0.47756693 -0.30618622 -0.47756693\n",
      "  -0.41606078  0.63245553 -0.38411064 -0.8660254 ]\n",
      " [ 1.22474487 -0.5        -1.22474487  1.22474487 -0.54433105 -0.72231512\n",
      "   0.8660254   0.84102145  0.47756693  0.47756693 -0.30618622 -0.47756693\n",
      "   0.57120208  0.63245553 -0.38411064  1.15470054]\n",
      " [ 1.22474487 -0.5        -1.22474487  1.22474487 -0.54433105 -0.72231512\n",
      "  -1.15470054  0.84102145  0.47756693  0.47756693 -0.30618622 -0.47756693\n",
      "   0.57120208  0.63245553 -0.38411064 -0.8660254 ]\n",
      " [-0.81649658 -0.5         0.81649658 -0.81649658 -0.54433105  1.38443731\n",
      "  -1.15470054  0.84102145  0.47756693  0.47756693 -0.30618622 -0.47756693\n",
      "   0.57120208 -1.58113883 -0.38411064 -0.8660254 ]\n",
      " [-0.81649658 -0.5         0.81649658 -0.81649658 -0.54433105  1.38443731\n",
      "   0.8660254   0.84102145  0.47756693 -2.09394732 -0.30618622  2.09394732\n",
      "  -1.40332363  0.63245553 -0.38411064  1.15470054]\n",
      " [ 1.22474487 -0.5        -1.22474487  1.22474487  1.83711731 -0.72231512\n",
      "  -1.15470054  0.84102145  0.47756693  0.47756693 -0.30618622 -0.47756693\n",
      "  -0.41606078  0.63245553 -0.38411064 -0.8660254 ]\n",
      " [ 1.22474487 -0.5        -1.22474487  1.22474487 -0.54433105 -0.72231512\n",
      "   0.8660254   0.84102145  0.47756693  0.47756693 -0.30618622 -0.47756693\n",
      "   0.57120208  0.63245553 -0.38411064 -0.8660254 ]\n",
      " [-0.81649658 -0.5         0.81649658 -0.81649658 -0.54433105  1.38443731\n",
      "   0.8660254   0.84102145  0.47756693 -2.09394732 -0.30618622  2.09394732\n",
      "  -1.40332363  0.63245553 -0.38411064 -0.8660254 ]\n",
      " [ 1.22474487 -0.5        -1.22474487  1.22474487 -0.54433105 -0.72231512\n",
      "  -1.15470054  0.84102145  0.47756693  0.47756693 -0.30618622 -0.47756693\n",
      "   0.57120208  0.63245553  2.60341656  1.15470054]\n",
      " [-0.81649658 -0.5        -1.22474487 -0.81649658 -0.54433105  1.38443731\n",
      "   0.8660254   0.84102145  0.47756693 -2.09394732  3.26598632 -0.47756693\n",
      "  -1.40332363  0.63245553 -0.38411064 -0.8660254 ]\n",
      " [-0.81649658 -0.5         0.81649658 -0.81649658 -0.54433105  1.38443731\n",
      "   0.8660254  -1.18903032 -2.09394732 -2.09394732  3.26598632 -0.47756693\n",
      "  -1.40332363 -1.58113883 -0.38411064 -0.8660254 ]\n",
      " [ 1.22474487 -0.5        -1.22474487  1.22474487 -0.54433105 -0.72231512\n",
      "  -1.15470054  0.84102145  0.47756693  0.47756693 -0.30618622 -0.47756693\n",
      "   0.57120208  0.63245553  2.60341656  1.15470054]\n",
      " [-0.81649658 -0.5         0.81649658 -0.81649658 -0.54433105  1.38443731\n",
      "   0.8660254  -1.18903032 -2.09394732 -2.09394732 -0.30618622 -0.47756693\n",
      "   0.57120208 -1.58113883 -0.38411064 -0.8660254 ]\n",
      " [ 1.22474487 -0.5         0.81649658 -0.81649658  1.83711731 -0.72231512\n",
      "  -1.15470054 -1.18903032 -2.09394732  0.47756693 -0.30618622 -0.47756693\n",
      "   1.55846494 -1.58113883 -0.38411064 -0.8660254 ]\n",
      " [ 1.22474487 -0.5        -1.22474487  1.22474487 -0.54433105 -0.72231512\n",
      "  -1.15470054  0.84102145  0.47756693  0.47756693 -0.30618622 -0.47756693\n",
      "   0.57120208  0.63245553 -0.38411064  1.15470054]]\n"
     ]
    }
   ],
   "source": [
    "print(X_test)"
   ],
   "metadata": {
    "collapsed": false,
    "ExecuteTime": {
     "end_time": "2023-11-11T07:02:31.074269600Z",
     "start_time": "2023-11-11T07:02:29.884034400Z"
    }
   },
   "id": "c8db8a319e61190"
  },
  {
   "cell_type": "code",
   "execution_count": 14,
   "outputs": [
    {
     "data": {
      "text/plain": "KNeighborsClassifier()",
      "text/html": "<style>#sk-container-id-1 {color: black;}#sk-container-id-1 pre{padding: 0;}#sk-container-id-1 div.sk-toggleable {background-color: white;}#sk-container-id-1 label.sk-toggleable__label {cursor: pointer;display: block;width: 100%;margin-bottom: 0;padding: 0.3em;box-sizing: border-box;text-align: center;}#sk-container-id-1 label.sk-toggleable__label-arrow:before {content: \"▸\";float: left;margin-right: 0.25em;color: #696969;}#sk-container-id-1 label.sk-toggleable__label-arrow:hover:before {color: black;}#sk-container-id-1 div.sk-estimator:hover label.sk-toggleable__label-arrow:before {color: black;}#sk-container-id-1 div.sk-toggleable__content {max-height: 0;max-width: 0;overflow: hidden;text-align: left;background-color: #f0f8ff;}#sk-container-id-1 div.sk-toggleable__content pre {margin: 0.2em;color: black;border-radius: 0.25em;background-color: #f0f8ff;}#sk-container-id-1 input.sk-toggleable__control:checked~div.sk-toggleable__content {max-height: 200px;max-width: 100%;overflow: auto;}#sk-container-id-1 input.sk-toggleable__control:checked~label.sk-toggleable__label-arrow:before {content: \"▾\";}#sk-container-id-1 div.sk-estimator input.sk-toggleable__control:checked~label.sk-toggleable__label {background-color: #d4ebff;}#sk-container-id-1 div.sk-label input.sk-toggleable__control:checked~label.sk-toggleable__label {background-color: #d4ebff;}#sk-container-id-1 input.sk-hidden--visually {border: 0;clip: rect(1px 1px 1px 1px);clip: rect(1px, 1px, 1px, 1px);height: 1px;margin: -1px;overflow: hidden;padding: 0;position: absolute;width: 1px;}#sk-container-id-1 div.sk-estimator {font-family: monospace;background-color: #f0f8ff;border: 1px dotted black;border-radius: 0.25em;box-sizing: border-box;margin-bottom: 0.5em;}#sk-container-id-1 div.sk-estimator:hover {background-color: #d4ebff;}#sk-container-id-1 div.sk-parallel-item::after {content: \"\";width: 100%;border-bottom: 1px solid gray;flex-grow: 1;}#sk-container-id-1 div.sk-label:hover label.sk-toggleable__label {background-color: #d4ebff;}#sk-container-id-1 div.sk-serial::before {content: \"\";position: absolute;border-left: 1px solid gray;box-sizing: border-box;top: 0;bottom: 0;left: 50%;z-index: 0;}#sk-container-id-1 div.sk-serial {display: flex;flex-direction: column;align-items: center;background-color: white;padding-right: 0.2em;padding-left: 0.2em;position: relative;}#sk-container-id-1 div.sk-item {position: relative;z-index: 1;}#sk-container-id-1 div.sk-parallel {display: flex;align-items: stretch;justify-content: center;background-color: white;position: relative;}#sk-container-id-1 div.sk-item::before, #sk-container-id-1 div.sk-parallel-item::before {content: \"\";position: absolute;border-left: 1px solid gray;box-sizing: border-box;top: 0;bottom: 0;left: 50%;z-index: -1;}#sk-container-id-1 div.sk-parallel-item {display: flex;flex-direction: column;z-index: 1;position: relative;background-color: white;}#sk-container-id-1 div.sk-parallel-item:first-child::after {align-self: flex-end;width: 50%;}#sk-container-id-1 div.sk-parallel-item:last-child::after {align-self: flex-start;width: 50%;}#sk-container-id-1 div.sk-parallel-item:only-child::after {width: 0;}#sk-container-id-1 div.sk-dashed-wrapped {border: 1px dashed gray;margin: 0 0.4em 0.5em 0.4em;box-sizing: border-box;padding-bottom: 0.4em;background-color: white;}#sk-container-id-1 div.sk-label label {font-family: monospace;font-weight: bold;display: inline-block;line-height: 1.2em;}#sk-container-id-1 div.sk-label-container {text-align: center;}#sk-container-id-1 div.sk-container {/* jupyter's `normalize.less` sets `[hidden] { display: none; }` but bootstrap.min.css set `[hidden] { display: none !important; }` so we also need the `!important` here to be able to override the default hidden behavior on the sphinx rendered scikit-learn.org. See: https://github.com/scikit-learn/scikit-learn/issues/21755 */display: inline-block !important;position: relative;}#sk-container-id-1 div.sk-text-repr-fallback {display: none;}</style><div id=\"sk-container-id-1\" class=\"sk-top-container\"><div class=\"sk-text-repr-fallback\"><pre>KNeighborsClassifier()</pre><b>In a Jupyter environment, please rerun this cell to show the HTML representation or trust the notebook. <br />On GitHub, the HTML representation is unable to render, please try loading this page with nbviewer.org.</b></div><div class=\"sk-container\" hidden><div class=\"sk-item\"><div class=\"sk-estimator sk-toggleable\"><input class=\"sk-toggleable__control sk-hidden--visually\" id=\"sk-estimator-id-1\" type=\"checkbox\" checked><label for=\"sk-estimator-id-1\" class=\"sk-toggleable__label sk-toggleable__label-arrow\">KNeighborsClassifier</label><div class=\"sk-toggleable__content\"><pre>KNeighborsClassifier()</pre></div></div></div></div></div>"
     },
     "execution_count": 14,
     "metadata": {},
     "output_type": "execute_result"
    }
   ],
   "source": [
    "#KNN \n",
    "classifier_knn = KNeighborsClassifier()\n",
    "classifier_knn.fit(X_train, Y_train)"
   ],
   "metadata": {
    "collapsed": false,
    "ExecuteTime": {
     "end_time": "2023-11-11T07:02:31.082270900Z",
     "start_time": "2023-11-11T07:02:29.896036600Z"
    }
   },
   "id": "ef6086c5542d8cde"
  },
  {
   "cell_type": "code",
   "execution_count": 15,
   "outputs": [
    {
     "name": "stdout",
     "output_type": "stream",
     "text": [
      "[2 2 2 2 1 6 1 1 2 3 1 2 4 1 7 4 1 1 1 5 4 1 1 4 1 4 7 1 7 6 1]\n"
     ]
    }
   ],
   "source": [
    "##predicting a new result\n",
    "Y_pred_knn = classifier_knn.predict(X_test)\n",
    "print(Y_pred_knn)"
   ],
   "metadata": {
    "collapsed": false,
    "ExecuteTime": {
     "end_time": "2023-11-11T07:02:31.085271500Z",
     "start_time": "2023-11-11T07:02:29.921036300Z"
    }
   },
   "id": "d3d94a511385685f"
  },
  {
   "cell_type": "code",
   "execution_count": 16,
   "outputs": [
    {
     "name": "stdout",
     "output_type": "stream",
     "text": [
      "100    2\n",
      "58     2\n",
      "43     2\n",
      "21     2\n",
      "10     1\n",
      "40     6\n",
      "50     1\n",
      "4      1\n",
      "87     2\n",
      "80     3\n",
      "70     1\n",
      "37     2\n",
      "7      4\n",
      "44     1\n",
      "53     7\n",
      "60     4\n",
      "84     1\n",
      "47     1\n",
      "94     1\n",
      "89     5\n",
      "92     4\n",
      "93     1\n",
      "49     1\n",
      "12     4\n",
      "31     1\n",
      "76     3\n",
      "77     7\n",
      "65     1\n",
      "14     7\n",
      "51     6\n",
      "22     1\n",
      "Name: class_type, dtype: int64\n"
     ]
    }
   ],
   "source": [
    "print(Y_test)\n"
   ],
   "metadata": {
    "collapsed": false,
    "ExecuteTime": {
     "end_time": "2023-11-11T07:02:31.097272Z",
     "start_time": "2023-11-11T07:02:29.937040500Z"
    }
   },
   "id": "a76499e970184b06"
  },
  {
   "cell_type": "code",
   "execution_count": 17,
   "outputs": [],
   "source": [
    "#comparing results with np.intersect1d\n",
    "#print(len(np.intersect1d(Y_pred, Y_test)/len(Y_pred))\n",
    "#print(np.concatenate(Y_pred, Y_test))"
   ],
   "metadata": {
    "collapsed": false,
    "ExecuteTime": {
     "end_time": "2023-11-11T07:02:31.098272900Z",
     "start_time": "2023-11-11T07:02:29.949559400Z"
    }
   },
   "id": "2625aa2a420733f8"
  },
  {
   "cell_type": "code",
   "execution_count": 18,
   "outputs": [
    {
     "name": "stdout",
     "output_type": "stream",
     "text": [
      "Test Accuracy :  0.967741935483871\n",
      "Train Accuracy :  0.9714285714285714\n"
     ]
    }
   ],
   "source": [
    "##accuracy KNN\n",
    "print(\"Test Accuracy : \",classifier_knn.score(X_test,Y_test))\n",
    "print(\"Train Accuracy : \",classifier_knn.score(X_train,Y_train))\n",
    "#when  calculating the accuracy, take the argmax over the second dimension (i.e. the number of classes) to get the actual and predicted class before calling accuracy_score."
   ],
   "metadata": {
    "collapsed": false,
    "ExecuteTime": {
     "end_time": "2023-11-11T07:02:39.207359200Z",
     "start_time": "2023-11-11T07:02:29.954560600Z"
    }
   },
   "id": "7fbf6b77f084e982"
  },
  {
   "cell_type": "code",
   "execution_count": 43,
   "outputs": [
    {
     "name": "stdout",
     "output_type": "stream",
     "text": [
      "    animal_name  hair  feathers  eggs  milk  airborne  aquatic  predator  \\\n",
      "0      aardvark     1         0     0     1         0        0         1   \n",
      "1      antelope     1         0     0     1         0        0         0   \n",
      "2          bass     0         0     1     0         0        1         1   \n",
      "3          bear     1         0     0     1         0        0         1   \n",
      "4          boar     1         0     0     1         0        0         1   \n",
      "..          ...   ...       ...   ...   ...       ...      ...       ...   \n",
      "96      wallaby     1         0     0     1         0        0         0   \n",
      "97         wasp     1         0     1     0         1        0         0   \n",
      "98         wolf     1         0     0     1         0        0         1   \n",
      "99         worm     0         0     1     0         0        0         0   \n",
      "100        wren     0         1     1     0         1        0         0   \n",
      "\n",
      "     toothed  backbone  breathes  venomous  fins  legs  tail  domestic  \\\n",
      "0          1         1         1         0     0     4     0         0   \n",
      "1          1         1         1         0     0     4     1         0   \n",
      "2          1         1         0         0     1     0     1         0   \n",
      "3          1         1         1         0     0     4     0         0   \n",
      "4          1         1         1         0     0     4     1         0   \n",
      "..       ...       ...       ...       ...   ...   ...   ...       ...   \n",
      "96         1         1         1         0     0     2     1         0   \n",
      "97         0         0         1         1     0     6     0         0   \n",
      "98         1         1         1         0     0     4     1         0   \n",
      "99         0         0         1         0     0     0     0         0   \n",
      "100        0         1         1         0     0     2     1         0   \n",
      "\n",
      "     catsize  class_type  prediction  \n",
      "0          1           1         NaN  \n",
      "1          1           1         NaN  \n",
      "2          0           4         NaN  \n",
      "3          1           1         NaN  \n",
      "4          1           1         1.0  \n",
      "..       ...         ...         ...  \n",
      "96         1           1         NaN  \n",
      "97         0           6         NaN  \n",
      "98         1           1         NaN  \n",
      "99         0           7         NaN  \n",
      "100        0           2         2.0  \n",
      "\n",
      "[101 rows x 19 columns]\n",
      "(101, 19)\n",
      "    animal_name  hair  feathers  eggs  milk  airborne  aquatic  predator  \\\n",
      "4          boar     1         0     0     1         0        0         1   \n",
      "7          carp     0         0     1     0         0        1         0   \n",
      "10      cheetah     1         0     0     1         0        0         1   \n",
      "12         chub     0         0     1     0         0        1         1   \n",
      "14         crab     0         0     1     0         0        1         1   \n",
      "21         duck     0         1     1     0         1        1         0   \n",
      "22     elephant     1         0     0     1         0        0         0   \n",
      "31         goat     1         0     0     1         0        0         0   \n",
      "37         hawk     0         1     1     0         1        0         1   \n",
      "40     housefly     1         0     1     0         1        0         0   \n",
      "43         lark     0         1     1     0         1        0         0   \n",
      "44      leopard     1         0     0     1         0        0         1   \n",
      "47         lynx     1         0     0     1         0        0         1   \n",
      "49         mole     1         0     0     1         0        0         1   \n",
      "50     mongoose     1         0     0     1         0        0         1   \n",
      "51         moth     1         0     1     0         1        0         0   \n",
      "53      octopus     0         0     1     0         0        1         1   \n",
      "58      penguin     0         1     1     0         0        1         1   \n",
      "60         pike     0         0     1     0         0        1         1   \n",
      "65         pony     1         0     0     1         0        0         0   \n",
      "70     reindeer     1         0     0     1         0        0         0   \n",
      "76     seasnake     0         0     0     0         0        1         1   \n",
      "77      seawasp     0         0     1     0         0        1         1   \n",
      "80     slowworm     0         0     1     0         0        0         1   \n",
      "84     squirrel     1         0     0     1         0        0         0   \n",
      "87         swan     0         1     1     0         1        1         0   \n",
      "89         toad     0         0     1     0         0        1         0   \n",
      "92         tuna     0         0     1     0         0        1         1   \n",
      "93      vampire     1         0     0     1         1        0         0   \n",
      "94         vole     1         0     0     1         0        0         0   \n",
      "100        wren     0         1     1     0         1        0         0   \n",
      "\n",
      "     toothed  backbone  breathes  venomous  fins  legs  tail  domestic  \\\n",
      "4          1         1         1         0     0     4     1         0   \n",
      "7          1         1         0         0     1     0     1         1   \n",
      "10         1         1         1         0     0     4     1         0   \n",
      "12         1         1         0         0     1     0     1         0   \n",
      "14         0         0         0         0     0     4     0         0   \n",
      "21         0         1         1         0     0     2     1         0   \n",
      "22         1         1         1         0     0     4     1         0   \n",
      "31         1         1         1         0     0     4     1         1   \n",
      "37         0         1         1         0     0     2     1         0   \n",
      "40         0         0         1         0     0     6     0         0   \n",
      "43         0         1         1         0     0     2     1         0   \n",
      "44         1         1         1         0     0     4     1         0   \n",
      "47         1         1         1         0     0     4     1         0   \n",
      "49         1         1         1         0     0     4     1         0   \n",
      "50         1         1         1         0     0     4     1         0   \n",
      "51         0         0         1         0     0     6     0         0   \n",
      "53         0         0         0         0     0     8     0         0   \n",
      "58         0         1         1         0     0     2     1         0   \n",
      "60         1         1         0         0     1     0     1         0   \n",
      "65         1         1         1         0     0     4     1         1   \n",
      "70         1         1         1         0     0     4     1         1   \n",
      "76         1         1         0         1     0     0     1         0   \n",
      "77         0         0         0         1     0     0     0         0   \n",
      "80         1         1         1         0     0     0     1         0   \n",
      "84         1         1         1         0     0     2     1         0   \n",
      "87         0         1         1         0     0     2     1         0   \n",
      "89         1         1         1         0     0     4     0         0   \n",
      "92         1         1         0         0     1     0     1         0   \n",
      "93         1         1         1         0     0     2     1         0   \n",
      "94         1         1         1         0     0     4     1         0   \n",
      "100        0         1         1         0     0     2     1         0   \n",
      "\n",
      "     catsize  class_type  prediction  \n",
      "4          1           1         1.0  \n",
      "7          0           4         4.0  \n",
      "10         1           1         1.0  \n",
      "12         0           4         4.0  \n",
      "14         0           7         7.0  \n",
      "21         0           2         2.0  \n",
      "22         1           1         1.0  \n",
      "31         1           1         1.0  \n",
      "37         0           2         2.0  \n",
      "40         0           6         6.0  \n",
      "43         0           2         2.0  \n",
      "44         1           1         1.0  \n",
      "47         1           1         1.0  \n",
      "49         0           1         1.0  \n",
      "50         1           1         1.0  \n",
      "51         0           6         6.0  \n",
      "53         1           7         7.0  \n",
      "58         1           2         2.0  \n",
      "60         1           4         4.0  \n",
      "65         1           1         1.0  \n",
      "70         1           1         1.0  \n",
      "76         0           3         4.0  \n",
      "77         0           7         7.0  \n",
      "80         0           3         3.0  \n",
      "84         0           1         1.0  \n",
      "87         1           2         2.0  \n",
      "89         0           5         5.0  \n",
      "92         1           4         4.0  \n",
      "93         0           1         1.0  \n",
      "94         0           1         1.0  \n",
      "100        0           2         2.0  \n"
     ]
    }
   ],
   "source": [
    "tmp_knn = pd.DataFrame(zoo)\n",
    "pred_knn = pd.DataFrame(Y_pred_knn,dtype=int, index=Y_test.index)\n",
    "tmp_knn['prediction'] = pred_knn\n",
    "print(tmp_knn)\n",
    "print(tmp_knn.shape)\n",
    "\n",
    "tmp_knn = tmp_knn.dropna()\n",
    "print(tmp_knn)"
   ],
   "metadata": {
    "collapsed": false,
    "ExecuteTime": {
     "end_time": "2023-11-11T07:47:52.264773400Z",
     "start_time": "2023-11-11T07:47:51.875459100Z"
    }
   },
   "id": "fc1e11cf58576cb7"
  },
  {
   "cell_type": "code",
   "execution_count": 44,
   "outputs": [
    {
     "name": "stdout",
     "output_type": "stream",
     "text": [
      "  seasnake\n",
      "class type: 3\n",
      "prediction: 4.0\n"
     ]
    },
    {
     "name": "stderr",
     "output_type": "stream",
     "text": [
      "C:\\Users\\admin\\AppData\\Local\\Temp\\ipykernel_15852\\1949419264.py:2: FutureWarning: Series.__getitem__ treating keys as positions is deprecated. In a future version, integer keys will always be treated as labels (consistent with DataFrame behavior). To access a value by position, use `ser.iloc[pos]`\n",
      "  if tmp_knn.iloc[i][17] != tmp_knn.iloc[i][18]:\n",
      "C:\\Users\\admin\\AppData\\Local\\Temp\\ipykernel_15852\\1949419264.py:3: FutureWarning: Series.__getitem__ treating keys as positions is deprecated. In a future version, integer keys will always be treated as labels (consistent with DataFrame behavior). To access a value by position, use `ser.iloc[pos]`\n",
      "  print('  '+str(tmp_knn.iloc[i][0]))\n",
      "C:\\Users\\admin\\AppData\\Local\\Temp\\ipykernel_15852\\1949419264.py:4: FutureWarning: Series.__getitem__ treating keys as positions is deprecated. In a future version, integer keys will always be treated as labels (consistent with DataFrame behavior). To access a value by position, use `ser.iloc[pos]`\n",
      "  print('class type: '+str(tmp_knn.iloc[i][17]))\n",
      "C:\\Users\\admin\\AppData\\Local\\Temp\\ipykernel_15852\\1949419264.py:5: FutureWarning: Series.__getitem__ treating keys as positions is deprecated. In a future version, integer keys will always be treated as labels (consistent with DataFrame behavior). To access a value by position, use `ser.iloc[pos]`\n",
      "  print('prediction: '+str(tmp_knn.iloc[i][18]))\n"
     ]
    }
   ],
   "source": [
    "for i in range(tmp_knn.shape[0]):\n",
    "    if tmp_knn.iloc[i][17] != tmp_knn.iloc[i][18]:\n",
    "        print('  '+str(tmp_knn.iloc[i][0]))\n",
    "        print('class type: '+str(tmp_knn.iloc[i][17]))\n",
    "        print('prediction: '+str(tmp_knn.iloc[i][18]))"
   ],
   "metadata": {
    "collapsed": false,
    "ExecuteTime": {
     "end_time": "2023-11-11T07:48:55.018407500Z",
     "start_time": "2023-11-11T07:48:54.848211Z"
    }
   },
   "id": "7779d0240889169e"
  },
  {
   "cell_type": "code",
   "execution_count": 46,
   "outputs": [
    {
     "name": "stdout",
     "output_type": "stream",
     "text": [
      "(70, 16) (31, 16) (70,) (31,)\n"
     ]
    }
   ],
   "source": [
    "#Decision tree classification\n",
    "X = zoo.iloc[:, 1:17]  # only the features \n",
    "Y = zoo.iloc[:, 17]    #only the label\n",
    "\n",
    "\n",
    "X_train, X_test, Y_train, Y_test = train_test_split(X, Y, test_size = 0.3, random_state = 42, stratify = Y)\n",
    "print(X_train.shape, X_test.shape, Y_train.shape, Y_test.shape)"
   ],
   "metadata": {
    "collapsed": false,
    "ExecuteTime": {
     "end_time": "2023-11-11T07:52:05.091655600Z",
     "start_time": "2023-11-11T07:52:03.928104900Z"
    }
   },
   "id": "68e9e23c573a0d1a"
  },
  {
   "cell_type": "code",
   "execution_count": 47,
   "outputs": [],
   "source": [
    "sc = StandardScaler()\n",
    "X_train = sc.fit_transform(X_train)\n",
    "X_test = sc.transform(X_test)"
   ],
   "metadata": {
    "collapsed": false,
    "ExecuteTime": {
     "end_time": "2023-11-11T07:52:09.494488900Z",
     "start_time": "2023-11-11T07:52:08.942457500Z"
    }
   },
   "id": "779e52acb7e2e001"
  },
  {
   "cell_type": "code",
   "execution_count": 48,
   "outputs": [
    {
     "data": {
      "text/plain": "DecisionTreeClassifier()",
      "text/html": "<style>#sk-container-id-2 {color: black;}#sk-container-id-2 pre{padding: 0;}#sk-container-id-2 div.sk-toggleable {background-color: white;}#sk-container-id-2 label.sk-toggleable__label {cursor: pointer;display: block;width: 100%;margin-bottom: 0;padding: 0.3em;box-sizing: border-box;text-align: center;}#sk-container-id-2 label.sk-toggleable__label-arrow:before {content: \"▸\";float: left;margin-right: 0.25em;color: #696969;}#sk-container-id-2 label.sk-toggleable__label-arrow:hover:before {color: black;}#sk-container-id-2 div.sk-estimator:hover label.sk-toggleable__label-arrow:before {color: black;}#sk-container-id-2 div.sk-toggleable__content {max-height: 0;max-width: 0;overflow: hidden;text-align: left;background-color: #f0f8ff;}#sk-container-id-2 div.sk-toggleable__content pre {margin: 0.2em;color: black;border-radius: 0.25em;background-color: #f0f8ff;}#sk-container-id-2 input.sk-toggleable__control:checked~div.sk-toggleable__content {max-height: 200px;max-width: 100%;overflow: auto;}#sk-container-id-2 input.sk-toggleable__control:checked~label.sk-toggleable__label-arrow:before {content: \"▾\";}#sk-container-id-2 div.sk-estimator input.sk-toggleable__control:checked~label.sk-toggleable__label {background-color: #d4ebff;}#sk-container-id-2 div.sk-label input.sk-toggleable__control:checked~label.sk-toggleable__label {background-color: #d4ebff;}#sk-container-id-2 input.sk-hidden--visually {border: 0;clip: rect(1px 1px 1px 1px);clip: rect(1px, 1px, 1px, 1px);height: 1px;margin: -1px;overflow: hidden;padding: 0;position: absolute;width: 1px;}#sk-container-id-2 div.sk-estimator {font-family: monospace;background-color: #f0f8ff;border: 1px dotted black;border-radius: 0.25em;box-sizing: border-box;margin-bottom: 0.5em;}#sk-container-id-2 div.sk-estimator:hover {background-color: #d4ebff;}#sk-container-id-2 div.sk-parallel-item::after {content: \"\";width: 100%;border-bottom: 1px solid gray;flex-grow: 1;}#sk-container-id-2 div.sk-label:hover label.sk-toggleable__label {background-color: #d4ebff;}#sk-container-id-2 div.sk-serial::before {content: \"\";position: absolute;border-left: 1px solid gray;box-sizing: border-box;top: 0;bottom: 0;left: 50%;z-index: 0;}#sk-container-id-2 div.sk-serial {display: flex;flex-direction: column;align-items: center;background-color: white;padding-right: 0.2em;padding-left: 0.2em;position: relative;}#sk-container-id-2 div.sk-item {position: relative;z-index: 1;}#sk-container-id-2 div.sk-parallel {display: flex;align-items: stretch;justify-content: center;background-color: white;position: relative;}#sk-container-id-2 div.sk-item::before, #sk-container-id-2 div.sk-parallel-item::before {content: \"\";position: absolute;border-left: 1px solid gray;box-sizing: border-box;top: 0;bottom: 0;left: 50%;z-index: -1;}#sk-container-id-2 div.sk-parallel-item {display: flex;flex-direction: column;z-index: 1;position: relative;background-color: white;}#sk-container-id-2 div.sk-parallel-item:first-child::after {align-self: flex-end;width: 50%;}#sk-container-id-2 div.sk-parallel-item:last-child::after {align-self: flex-start;width: 50%;}#sk-container-id-2 div.sk-parallel-item:only-child::after {width: 0;}#sk-container-id-2 div.sk-dashed-wrapped {border: 1px dashed gray;margin: 0 0.4em 0.5em 0.4em;box-sizing: border-box;padding-bottom: 0.4em;background-color: white;}#sk-container-id-2 div.sk-label label {font-family: monospace;font-weight: bold;display: inline-block;line-height: 1.2em;}#sk-container-id-2 div.sk-label-container {text-align: center;}#sk-container-id-2 div.sk-container {/* jupyter's `normalize.less` sets `[hidden] { display: none; }` but bootstrap.min.css set `[hidden] { display: none !important; }` so we also need the `!important` here to be able to override the default hidden behavior on the sphinx rendered scikit-learn.org. See: https://github.com/scikit-learn/scikit-learn/issues/21755 */display: inline-block !important;position: relative;}#sk-container-id-2 div.sk-text-repr-fallback {display: none;}</style><div id=\"sk-container-id-2\" class=\"sk-top-container\"><div class=\"sk-text-repr-fallback\"><pre>DecisionTreeClassifier()</pre><b>In a Jupyter environment, please rerun this cell to show the HTML representation or trust the notebook. <br />On GitHub, the HTML representation is unable to render, please try loading this page with nbviewer.org.</b></div><div class=\"sk-container\" hidden><div class=\"sk-item\"><div class=\"sk-estimator sk-toggleable\"><input class=\"sk-toggleable__control sk-hidden--visually\" id=\"sk-estimator-id-2\" type=\"checkbox\" checked><label for=\"sk-estimator-id-2\" class=\"sk-toggleable__label sk-toggleable__label-arrow\">DecisionTreeClassifier</label><div class=\"sk-toggleable__content\"><pre>DecisionTreeClassifier()</pre></div></div></div></div></div>"
     },
     "execution_count": 48,
     "metadata": {},
     "output_type": "execute_result"
    }
   ],
   "source": [
    "classifier_dt = DecisionTreeClassifier()\n",
    "classifier_dt.fit(X_train, Y_train)"
   ],
   "metadata": {
    "collapsed": false,
    "ExecuteTime": {
     "end_time": "2023-11-11T07:52:11.082996300Z",
     "start_time": "2023-11-11T07:52:10.878076300Z"
    }
   },
   "id": "fa48d400f3650c05"
  },
  {
   "cell_type": "code",
   "execution_count": 53,
   "outputs": [
    {
     "name": "stdout",
     "output_type": "stream",
     "text": [
      "[2 2 2 2 1 6 1 1 2 3 1 2 4 1 7 4 1 1 1 5 4 1 1 4 1 5 7 1 7 6 1]\n"
     ]
    }
   ],
   "source": [
    "## predictions\n",
    "y_pred_tree = classifier_dt.predict(X_test)\n",
    "print(y_pred_tree)"
   ],
   "metadata": {
    "collapsed": false,
    "ExecuteTime": {
     "end_time": "2023-11-11T07:52:46.563863500Z",
     "start_time": "2023-11-11T07:52:46.326302400Z"
    }
   },
   "id": "5fe2d19f63e1fe61"
  },
  {
   "cell_type": "code",
   "execution_count": 54,
   "outputs": [
    {
     "name": "stdout",
     "output_type": "stream",
     "text": [
      "100    2\n",
      "58     2\n",
      "43     2\n",
      "21     2\n",
      "10     1\n",
      "40     6\n",
      "50     1\n",
      "4      1\n",
      "87     2\n",
      "80     3\n",
      "70     1\n",
      "37     2\n",
      "7      4\n",
      "44     1\n",
      "53     7\n",
      "60     4\n",
      "84     1\n",
      "47     1\n",
      "94     1\n",
      "89     5\n",
      "92     4\n",
      "93     1\n",
      "49     1\n",
      "12     4\n",
      "31     1\n",
      "76     3\n",
      "77     7\n",
      "65     1\n",
      "14     7\n",
      "51     6\n",
      "22     1\n",
      "Name: class_type, dtype: int64\n"
     ]
    }
   ],
   "source": [
    "print(Y_test)"
   ],
   "metadata": {
    "collapsed": false,
    "ExecuteTime": {
     "end_time": "2023-11-11T07:52:51.766721Z",
     "start_time": "2023-11-11T07:52:51.618679400Z"
    }
   },
   "id": "439926e2ac7abf0f"
  },
  {
   "cell_type": "code",
   "execution_count": 51,
   "outputs": [
    {
     "name": "stdout",
     "output_type": "stream",
     "text": [
      "Test Accuracy :  0.967741935483871\n",
      "Train Accuracy :  1.0\n"
     ]
    }
   ],
   "source": [
    "##accuracy Decision Tree\n",
    "print(\"Test Accuracy : \",classifier_dt.score(X_test,Y_test))\n",
    "print(\"Train Accuracy : \",classifier_dt.score(X_train,Y_train))"
   ],
   "metadata": {
    "collapsed": false,
    "ExecuteTime": {
     "end_time": "2023-11-11T07:52:19.953541800Z",
     "start_time": "2023-11-11T07:52:19.940543Z"
    }
   },
   "id": "ddedc0163c221ee0"
  },
  {
   "cell_type": "code",
   "execution_count": 57,
   "outputs": [
    {
     "name": "stdout",
     "output_type": "stream",
     "text": [
      "(101, 19)\n",
      "    animal_name  hair  feathers  eggs  milk  airborne  aquatic  predator  \\\n",
      "4          boar     1         0     0     1         0        0         1   \n",
      "7          carp     0         0     1     0         0        1         0   \n",
      "10      cheetah     1         0     0     1         0        0         1   \n",
      "12         chub     0         0     1     0         0        1         1   \n",
      "14         crab     0         0     1     0         0        1         1   \n",
      "21         duck     0         1     1     0         1        1         0   \n",
      "22     elephant     1         0     0     1         0        0         0   \n",
      "31         goat     1         0     0     1         0        0         0   \n",
      "37         hawk     0         1     1     0         1        0         1   \n",
      "40     housefly     1         0     1     0         1        0         0   \n",
      "43         lark     0         1     1     0         1        0         0   \n",
      "44      leopard     1         0     0     1         0        0         1   \n",
      "47         lynx     1         0     0     1         0        0         1   \n",
      "49         mole     1         0     0     1         0        0         1   \n",
      "50     mongoose     1         0     0     1         0        0         1   \n",
      "51         moth     1         0     1     0         1        0         0   \n",
      "53      octopus     0         0     1     0         0        1         1   \n",
      "58      penguin     0         1     1     0         0        1         1   \n",
      "60         pike     0         0     1     0         0        1         1   \n",
      "65         pony     1         0     0     1         0        0         0   \n",
      "70     reindeer     1         0     0     1         0        0         0   \n",
      "76     seasnake     0         0     0     0         0        1         1   \n",
      "77      seawasp     0         0     1     0         0        1         1   \n",
      "80     slowworm     0         0     1     0         0        0         1   \n",
      "84     squirrel     1         0     0     1         0        0         0   \n",
      "87         swan     0         1     1     0         1        1         0   \n",
      "89         toad     0         0     1     0         0        1         0   \n",
      "92         tuna     0         0     1     0         0        1         1   \n",
      "93      vampire     1         0     0     1         1        0         0   \n",
      "94         vole     1         0     0     1         0        0         0   \n",
      "100        wren     0         1     1     0         1        0         0   \n",
      "\n",
      "     toothed  backbone  breathes  venomous  fins  legs  tail  domestic  \\\n",
      "4          1         1         1         0     0     4     1         0   \n",
      "7          1         1         0         0     1     0     1         1   \n",
      "10         1         1         1         0     0     4     1         0   \n",
      "12         1         1         0         0     1     0     1         0   \n",
      "14         0         0         0         0     0     4     0         0   \n",
      "21         0         1         1         0     0     2     1         0   \n",
      "22         1         1         1         0     0     4     1         0   \n",
      "31         1         1         1         0     0     4     1         1   \n",
      "37         0         1         1         0     0     2     1         0   \n",
      "40         0         0         1         0     0     6     0         0   \n",
      "43         0         1         1         0     0     2     1         0   \n",
      "44         1         1         1         0     0     4     1         0   \n",
      "47         1         1         1         0     0     4     1         0   \n",
      "49         1         1         1         0     0     4     1         0   \n",
      "50         1         1         1         0     0     4     1         0   \n",
      "51         0         0         1         0     0     6     0         0   \n",
      "53         0         0         0         0     0     8     0         0   \n",
      "58         0         1         1         0     0     2     1         0   \n",
      "60         1         1         0         0     1     0     1         0   \n",
      "65         1         1         1         0     0     4     1         1   \n",
      "70         1         1         1         0     0     4     1         1   \n",
      "76         1         1         0         1     0     0     1         0   \n",
      "77         0         0         0         1     0     0     0         0   \n",
      "80         1         1         1         0     0     0     1         0   \n",
      "84         1         1         1         0     0     2     1         0   \n",
      "87         0         1         1         0     0     2     1         0   \n",
      "89         1         1         1         0     0     4     0         0   \n",
      "92         1         1         0         0     1     0     1         0   \n",
      "93         1         1         1         0     0     2     1         0   \n",
      "94         1         1         1         0     0     4     1         0   \n",
      "100        0         1         1         0     0     2     1         0   \n",
      "\n",
      "     catsize  class_type  prediction  \n",
      "4          1           1         1.0  \n",
      "7          0           4         4.0  \n",
      "10         1           1         1.0  \n",
      "12         0           4         4.0  \n",
      "14         0           7         7.0  \n",
      "21         0           2         2.0  \n",
      "22         1           1         1.0  \n",
      "31         1           1         1.0  \n",
      "37         0           2         2.0  \n",
      "40         0           6         6.0  \n",
      "43         0           2         2.0  \n",
      "44         1           1         1.0  \n",
      "47         1           1         1.0  \n",
      "49         0           1         1.0  \n",
      "50         1           1         1.0  \n",
      "51         0           6         6.0  \n",
      "53         1           7         7.0  \n",
      "58         1           2         2.0  \n",
      "60         1           4         4.0  \n",
      "65         1           1         1.0  \n",
      "70         1           1         1.0  \n",
      "76         0           3         5.0  \n",
      "77         0           7         7.0  \n",
      "80         0           3         3.0  \n",
      "84         0           1         1.0  \n",
      "87         1           2         2.0  \n",
      "89         0           5         5.0  \n",
      "92         1           4         4.0  \n",
      "93         0           1         1.0  \n",
      "94         0           1         1.0  \n",
      "100        0           2         2.0  \n"
     ]
    }
   ],
   "source": [
    "## compare the predictions with the real values (after fixing)\n",
    "tmp_tree = pd.DataFrame(zoo)\n",
    "pred_dt = pd.DataFrame(y_pred_tree,dtype=int, index=Y_test.index)\n",
    "tmp_tree['prediction'] = pred_dt\n",
    "#print(tmp_tree)\n",
    "print(tmp_tree.shape)\n",
    "\n",
    "tmp_tree = tmp_tree.dropna()\n",
    "print(tmp_tree)"
   ],
   "metadata": {
    "collapsed": false,
    "ExecuteTime": {
     "end_time": "2023-11-11T07:53:40.523323800Z",
     "start_time": "2023-11-11T07:53:38.317307800Z"
    }
   },
   "id": "192bc8c0a371b509"
  },
  {
   "cell_type": "code",
   "execution_count": 58,
   "outputs": [
    {
     "name": "stdout",
     "output_type": "stream",
     "text": [
      "  seasnake\n",
      "class type: 3\n",
      "prediction: 5.0\n"
     ]
    },
    {
     "name": "stderr",
     "output_type": "stream",
     "text": [
      "C:\\Users\\admin\\AppData\\Local\\Temp\\ipykernel_15852\\4182168241.py:2: FutureWarning: Series.__getitem__ treating keys as positions is deprecated. In a future version, integer keys will always be treated as labels (consistent with DataFrame behavior). To access a value by position, use `ser.iloc[pos]`\n",
      "  if tmp_tree.iloc[i][17] != tmp_tree.iloc[i][18]:\n",
      "C:\\Users\\admin\\AppData\\Local\\Temp\\ipykernel_15852\\4182168241.py:3: FutureWarning: Series.__getitem__ treating keys as positions is deprecated. In a future version, integer keys will always be treated as labels (consistent with DataFrame behavior). To access a value by position, use `ser.iloc[pos]`\n",
      "  print('  '+str(tmp_tree.iloc[i][0]))\n",
      "C:\\Users\\admin\\AppData\\Local\\Temp\\ipykernel_15852\\4182168241.py:4: FutureWarning: Series.__getitem__ treating keys as positions is deprecated. In a future version, integer keys will always be treated as labels (consistent with DataFrame behavior). To access a value by position, use `ser.iloc[pos]`\n",
      "  print('class type: '+str(tmp_tree.iloc[i][17]))\n",
      "C:\\Users\\admin\\AppData\\Local\\Temp\\ipykernel_15852\\4182168241.py:5: FutureWarning: Series.__getitem__ treating keys as positions is deprecated. In a future version, integer keys will always be treated as labels (consistent with DataFrame behavior). To access a value by position, use `ser.iloc[pos]`\n",
      "  print('prediction: '+str(tmp_tree.iloc[i][18]))\n"
     ]
    }
   ],
   "source": [
    "for i in range(tmp_tree.shape[0]):\n",
    "    if tmp_tree.iloc[i][17] != tmp_tree.iloc[i][18]:\n",
    "        print('  '+str(tmp_tree.iloc[i][0]))\n",
    "        print('class type: '+str(tmp_tree.iloc[i][17]))\n",
    "        print('prediction: '+str(tmp_tree.iloc[i][18]))"
   ],
   "metadata": {
    "collapsed": false,
    "ExecuteTime": {
     "end_time": "2023-11-11T07:55:03.659395400Z",
     "start_time": "2023-11-11T07:55:03.381577200Z"
    }
   },
   "id": "b4ce6386e62b506d"
  },
  {
   "cell_type": "code",
   "execution_count": 59,
   "outputs": [
    {
     "data": {
      "text/plain": "RandomForestClassifier()",
      "text/html": "<style>#sk-container-id-3 {color: black;}#sk-container-id-3 pre{padding: 0;}#sk-container-id-3 div.sk-toggleable {background-color: white;}#sk-container-id-3 label.sk-toggleable__label {cursor: pointer;display: block;width: 100%;margin-bottom: 0;padding: 0.3em;box-sizing: border-box;text-align: center;}#sk-container-id-3 label.sk-toggleable__label-arrow:before {content: \"▸\";float: left;margin-right: 0.25em;color: #696969;}#sk-container-id-3 label.sk-toggleable__label-arrow:hover:before {color: black;}#sk-container-id-3 div.sk-estimator:hover label.sk-toggleable__label-arrow:before {color: black;}#sk-container-id-3 div.sk-toggleable__content {max-height: 0;max-width: 0;overflow: hidden;text-align: left;background-color: #f0f8ff;}#sk-container-id-3 div.sk-toggleable__content pre {margin: 0.2em;color: black;border-radius: 0.25em;background-color: #f0f8ff;}#sk-container-id-3 input.sk-toggleable__control:checked~div.sk-toggleable__content {max-height: 200px;max-width: 100%;overflow: auto;}#sk-container-id-3 input.sk-toggleable__control:checked~label.sk-toggleable__label-arrow:before {content: \"▾\";}#sk-container-id-3 div.sk-estimator input.sk-toggleable__control:checked~label.sk-toggleable__label {background-color: #d4ebff;}#sk-container-id-3 div.sk-label input.sk-toggleable__control:checked~label.sk-toggleable__label {background-color: #d4ebff;}#sk-container-id-3 input.sk-hidden--visually {border: 0;clip: rect(1px 1px 1px 1px);clip: rect(1px, 1px, 1px, 1px);height: 1px;margin: -1px;overflow: hidden;padding: 0;position: absolute;width: 1px;}#sk-container-id-3 div.sk-estimator {font-family: monospace;background-color: #f0f8ff;border: 1px dotted black;border-radius: 0.25em;box-sizing: border-box;margin-bottom: 0.5em;}#sk-container-id-3 div.sk-estimator:hover {background-color: #d4ebff;}#sk-container-id-3 div.sk-parallel-item::after {content: \"\";width: 100%;border-bottom: 1px solid gray;flex-grow: 1;}#sk-container-id-3 div.sk-label:hover label.sk-toggleable__label {background-color: #d4ebff;}#sk-container-id-3 div.sk-serial::before {content: \"\";position: absolute;border-left: 1px solid gray;box-sizing: border-box;top: 0;bottom: 0;left: 50%;z-index: 0;}#sk-container-id-3 div.sk-serial {display: flex;flex-direction: column;align-items: center;background-color: white;padding-right: 0.2em;padding-left: 0.2em;position: relative;}#sk-container-id-3 div.sk-item {position: relative;z-index: 1;}#sk-container-id-3 div.sk-parallel {display: flex;align-items: stretch;justify-content: center;background-color: white;position: relative;}#sk-container-id-3 div.sk-item::before, #sk-container-id-3 div.sk-parallel-item::before {content: \"\";position: absolute;border-left: 1px solid gray;box-sizing: border-box;top: 0;bottom: 0;left: 50%;z-index: -1;}#sk-container-id-3 div.sk-parallel-item {display: flex;flex-direction: column;z-index: 1;position: relative;background-color: white;}#sk-container-id-3 div.sk-parallel-item:first-child::after {align-self: flex-end;width: 50%;}#sk-container-id-3 div.sk-parallel-item:last-child::after {align-self: flex-start;width: 50%;}#sk-container-id-3 div.sk-parallel-item:only-child::after {width: 0;}#sk-container-id-3 div.sk-dashed-wrapped {border: 1px dashed gray;margin: 0 0.4em 0.5em 0.4em;box-sizing: border-box;padding-bottom: 0.4em;background-color: white;}#sk-container-id-3 div.sk-label label {font-family: monospace;font-weight: bold;display: inline-block;line-height: 1.2em;}#sk-container-id-3 div.sk-label-container {text-align: center;}#sk-container-id-3 div.sk-container {/* jupyter's `normalize.less` sets `[hidden] { display: none; }` but bootstrap.min.css set `[hidden] { display: none !important; }` so we also need the `!important` here to be able to override the default hidden behavior on the sphinx rendered scikit-learn.org. See: https://github.com/scikit-learn/scikit-learn/issues/21755 */display: inline-block !important;position: relative;}#sk-container-id-3 div.sk-text-repr-fallback {display: none;}</style><div id=\"sk-container-id-3\" class=\"sk-top-container\"><div class=\"sk-text-repr-fallback\"><pre>RandomForestClassifier()</pre><b>In a Jupyter environment, please rerun this cell to show the HTML representation or trust the notebook. <br />On GitHub, the HTML representation is unable to render, please try loading this page with nbviewer.org.</b></div><div class=\"sk-container\" hidden><div class=\"sk-item\"><div class=\"sk-estimator sk-toggleable\"><input class=\"sk-toggleable__control sk-hidden--visually\" id=\"sk-estimator-id-3\" type=\"checkbox\" checked><label for=\"sk-estimator-id-3\" class=\"sk-toggleable__label sk-toggleable__label-arrow\">RandomForestClassifier</label><div class=\"sk-toggleable__content\"><pre>RandomForestClassifier()</pre></div></div></div></div></div>"
     },
     "execution_count": 59,
     "metadata": {},
     "output_type": "execute_result"
    }
   ],
   "source": [
    "#Random forest\n",
    "X = zoo.iloc[:, 1:17]  # only the features \n",
    "Y = zoo.iloc[:, 17]    #only the label\n",
    "\n",
    "sc = StandardScaler()\n",
    "X_train = sc.fit_transform(X_train)\n",
    "X_test = sc.transform(X_test)\n",
    "\n",
    "X_train, X_test, Y_train, Y_test = train_test_split(X, Y, test_size = 0.3, random_state = 42, stratify = Y)\n",
    "classifier_RF = RandomForestClassifier()\n",
    "classifier_RF.fit(X_train, Y_train)"
   ],
   "metadata": {
    "collapsed": false,
    "ExecuteTime": {
     "end_time": "2023-11-11T07:57:24.805709700Z",
     "start_time": "2023-11-11T07:57:22.685275100Z"
    }
   },
   "id": "fbd28c0ed6c1ea2c"
  },
  {
   "cell_type": "code",
   "execution_count": 69,
   "outputs": [
    {
     "name": "stdout",
     "output_type": "stream",
     "text": [
      "[2 2 2 2 1 6 1 1 2 3 1 2 4 1 7 4 1 1 1 5 4 1 1 4 1 4 7 1 7 6 1]\n"
     ]
    }
   ],
   "source": [
    "## predictions\n",
    "y_pred_forest = classifier_RF.predict(X_test[0:31])\n",
    "print(y_pred_forest)"
   ],
   "metadata": {
    "collapsed": false,
    "ExecuteTime": {
     "end_time": "2023-11-11T07:59:44.610043200Z",
     "start_time": "2023-11-11T07:59:43.951523400Z"
    }
   },
   "id": "db8e68bb5ffbca37"
  },
  {
   "cell_type": "code",
   "execution_count": 70,
   "outputs": [
    {
     "name": "stdout",
     "output_type": "stream",
     "text": [
      "100    2\n",
      "58     2\n",
      "43     2\n",
      "21     2\n",
      "10     1\n",
      "40     6\n",
      "50     1\n",
      "4      1\n",
      "87     2\n",
      "80     3\n",
      "70     1\n",
      "37     2\n",
      "7      4\n",
      "44     1\n",
      "53     7\n",
      "60     4\n",
      "84     1\n",
      "47     1\n",
      "94     1\n",
      "89     5\n",
      "92     4\n",
      "93     1\n",
      "49     1\n",
      "12     4\n",
      "31     1\n",
      "76     3\n",
      "77     7\n",
      "65     1\n",
      "14     7\n",
      "51     6\n",
      "22     1\n",
      "Name: class_type, dtype: int64\n"
     ]
    }
   ],
   "source": [
    "print(Y_test[0:31])"
   ],
   "metadata": {
    "collapsed": false,
    "ExecuteTime": {
     "end_time": "2023-11-11T07:59:46.996033700Z",
     "start_time": "2023-11-11T07:59:46.911581700Z"
    }
   },
   "id": "58cc9fb3fd3c6474"
  },
  {
   "cell_type": "code",
   "execution_count": 62,
   "outputs": [],
   "source": [
    "#comparing predict and true"
   ],
   "metadata": {
    "collapsed": false,
    "ExecuteTime": {
     "end_time": "2023-11-11T07:57:39.185340700Z",
     "start_time": "2023-11-11T07:57:39.146402900Z"
    }
   },
   "id": "e16f8d57ae509ef0"
  },
  {
   "cell_type": "code",
   "execution_count": 67,
   "outputs": [
    {
     "name": "stdout",
     "output_type": "stream",
     "text": [
      "Test Accuracy :  0.967741935483871\n",
      "Train Accuracy :  1.0\n"
     ]
    }
   ],
   "source": [
    "##accuracy Random Forest\n",
    "print(\"Test Accuracy : \",classifier_RF.score(X_test,Y_test))\n",
    "print(\"Train Accuracy : \",classifier_RF.score(X_train,Y_train))"
   ],
   "metadata": {
    "collapsed": false,
    "ExecuteTime": {
     "end_time": "2023-11-11T07:59:14.670748300Z",
     "start_time": "2023-11-11T07:59:14.582060100Z"
    }
   },
   "id": "14fbe841731fdee8"
  },
  {
   "cell_type": "code",
   "execution_count": 71,
   "outputs": [
    {
     "name": "stdout",
     "output_type": "stream",
     "text": [
      "(101, 19)\n",
      "    animal_name  hair  feathers  eggs  milk  airborne  aquatic  predator  \\\n",
      "4          boar     1         0     0     1         0        0         1   \n",
      "7          carp     0         0     1     0         0        1         0   \n",
      "10      cheetah     1         0     0     1         0        0         1   \n",
      "12         chub     0         0     1     0         0        1         1   \n",
      "14         crab     0         0     1     0         0        1         1   \n",
      "21         duck     0         1     1     0         1        1         0   \n",
      "22     elephant     1         0     0     1         0        0         0   \n",
      "31         goat     1         0     0     1         0        0         0   \n",
      "37         hawk     0         1     1     0         1        0         1   \n",
      "40     housefly     1         0     1     0         1        0         0   \n",
      "43         lark     0         1     1     0         1        0         0   \n",
      "44      leopard     1         0     0     1         0        0         1   \n",
      "47         lynx     1         0     0     1         0        0         1   \n",
      "49         mole     1         0     0     1         0        0         1   \n",
      "50     mongoose     1         0     0     1         0        0         1   \n",
      "51         moth     1         0     1     0         1        0         0   \n",
      "53      octopus     0         0     1     0         0        1         1   \n",
      "58      penguin     0         1     1     0         0        1         1   \n",
      "60         pike     0         0     1     0         0        1         1   \n",
      "65         pony     1         0     0     1         0        0         0   \n",
      "70     reindeer     1         0     0     1         0        0         0   \n",
      "76     seasnake     0         0     0     0         0        1         1   \n",
      "77      seawasp     0         0     1     0         0        1         1   \n",
      "80     slowworm     0         0     1     0         0        0         1   \n",
      "84     squirrel     1         0     0     1         0        0         0   \n",
      "87         swan     0         1     1     0         1        1         0   \n",
      "89         toad     0         0     1     0         0        1         0   \n",
      "92         tuna     0         0     1     0         0        1         1   \n",
      "93      vampire     1         0     0     1         1        0         0   \n",
      "94         vole     1         0     0     1         0        0         0   \n",
      "100        wren     0         1     1     0         1        0         0   \n",
      "\n",
      "     toothed  backbone  breathes  venomous  fins  legs  tail  domestic  \\\n",
      "4          1         1         1         0     0     4     1         0   \n",
      "7          1         1         0         0     1     0     1         1   \n",
      "10         1         1         1         0     0     4     1         0   \n",
      "12         1         1         0         0     1     0     1         0   \n",
      "14         0         0         0         0     0     4     0         0   \n",
      "21         0         1         1         0     0     2     1         0   \n",
      "22         1         1         1         0     0     4     1         0   \n",
      "31         1         1         1         0     0     4     1         1   \n",
      "37         0         1         1         0     0     2     1         0   \n",
      "40         0         0         1         0     0     6     0         0   \n",
      "43         0         1         1         0     0     2     1         0   \n",
      "44         1         1         1         0     0     4     1         0   \n",
      "47         1         1         1         0     0     4     1         0   \n",
      "49         1         1         1         0     0     4     1         0   \n",
      "50         1         1         1         0     0     4     1         0   \n",
      "51         0         0         1         0     0     6     0         0   \n",
      "53         0         0         0         0     0     8     0         0   \n",
      "58         0         1         1         0     0     2     1         0   \n",
      "60         1         1         0         0     1     0     1         0   \n",
      "65         1         1         1         0     0     4     1         1   \n",
      "70         1         1         1         0     0     4     1         1   \n",
      "76         1         1         0         1     0     0     1         0   \n",
      "77         0         0         0         1     0     0     0         0   \n",
      "80         1         1         1         0     0     0     1         0   \n",
      "84         1         1         1         0     0     2     1         0   \n",
      "87         0         1         1         0     0     2     1         0   \n",
      "89         1         1         1         0     0     4     0         0   \n",
      "92         1         1         0         0     1     0     1         0   \n",
      "93         1         1         1         0     0     2     1         0   \n",
      "94         1         1         1         0     0     4     1         0   \n",
      "100        0         1         1         0     0     2     1         0   \n",
      "\n",
      "     catsize  class_type  prediction  \n",
      "4          1           1         1.0  \n",
      "7          0           4         4.0  \n",
      "10         1           1         1.0  \n",
      "12         0           4         4.0  \n",
      "14         0           7         7.0  \n",
      "21         0           2         2.0  \n",
      "22         1           1         1.0  \n",
      "31         1           1         1.0  \n",
      "37         0           2         2.0  \n",
      "40         0           6         6.0  \n",
      "43         0           2         2.0  \n",
      "44         1           1         1.0  \n",
      "47         1           1         1.0  \n",
      "49         0           1         1.0  \n",
      "50         1           1         1.0  \n",
      "51         0           6         6.0  \n",
      "53         1           7         7.0  \n",
      "58         1           2         2.0  \n",
      "60         1           4         4.0  \n",
      "65         1           1         1.0  \n",
      "70         1           1         1.0  \n",
      "76         0           3         4.0  \n",
      "77         0           7         7.0  \n",
      "80         0           3         3.0  \n",
      "84         0           1         1.0  \n",
      "87         1           2         2.0  \n",
      "89         0           5         5.0  \n",
      "92         1           4         4.0  \n",
      "93         0           1         1.0  \n",
      "94         0           1         1.0  \n",
      "100        0           2         2.0  \n"
     ]
    }
   ],
   "source": [
    "\n",
    "tmp_forest = pd.DataFrame(zoo)\n",
    "pred_forest = pd.DataFrame(y_pred_forest,dtype=int, index=Y_test.index)\n",
    "tmp_forest['prediction'] = pred_forest\n",
    "#print(tmp_tree)\n",
    "print(tmp_forest.shape)\n",
    "\n",
    "tmp_forest = tmp_forest.dropna()\n",
    "print(tmp_forest)"
   ],
   "metadata": {
    "collapsed": false,
    "ExecuteTime": {
     "end_time": "2023-11-11T07:59:53.207023Z",
     "start_time": "2023-11-11T07:59:53.130616500Z"
    }
   },
   "id": "ec79c178af97a29b"
  },
  {
   "cell_type": "code",
   "execution_count": 72,
   "outputs": [
    {
     "name": "stdout",
     "output_type": "stream",
     "text": [
      "  seasnake\n",
      "class type: 3\n",
      "prediction: 4.0\n"
     ]
    },
    {
     "name": "stderr",
     "output_type": "stream",
     "text": [
      "C:\\Users\\admin\\AppData\\Local\\Temp\\ipykernel_15852\\1003261201.py:2: FutureWarning: Series.__getitem__ treating keys as positions is deprecated. In a future version, integer keys will always be treated as labels (consistent with DataFrame behavior). To access a value by position, use `ser.iloc[pos]`\n",
      "  if tmp_forest.iloc[i][17] != tmp_forest.iloc[i][18]:\n",
      "C:\\Users\\admin\\AppData\\Local\\Temp\\ipykernel_15852\\1003261201.py:3: FutureWarning: Series.__getitem__ treating keys as positions is deprecated. In a future version, integer keys will always be treated as labels (consistent with DataFrame behavior). To access a value by position, use `ser.iloc[pos]`\n",
      "  print('  '+str(tmp_forest.iloc[i][0]))\n",
      "C:\\Users\\admin\\AppData\\Local\\Temp\\ipykernel_15852\\1003261201.py:4: FutureWarning: Series.__getitem__ treating keys as positions is deprecated. In a future version, integer keys will always be treated as labels (consistent with DataFrame behavior). To access a value by position, use `ser.iloc[pos]`\n",
      "  print('class type: '+str(tmp_forest.iloc[i][17]))\n",
      "C:\\Users\\admin\\AppData\\Local\\Temp\\ipykernel_15852\\1003261201.py:5: FutureWarning: Series.__getitem__ treating keys as positions is deprecated. In a future version, integer keys will always be treated as labels (consistent with DataFrame behavior). To access a value by position, use `ser.iloc[pos]`\n",
      "  print('prediction: '+str(tmp_forest.iloc[i][18]))\n"
     ]
    }
   ],
   "source": [
    "for i in range(tmp_forest.shape[0]):\n",
    "    if tmp_forest.iloc[i][17] != tmp_forest.iloc[i][18]:\n",
    "        print('  '+str(tmp_forest.iloc[i][0]))\n",
    "        print('class type: '+str(tmp_forest.iloc[i][17]))\n",
    "        print('prediction: '+str(tmp_forest.iloc[i][18]))"
   ],
   "metadata": {
    "collapsed": false,
    "ExecuteTime": {
     "end_time": "2023-11-11T08:01:14.578002Z",
     "start_time": "2023-11-11T08:01:14.300476700Z"
    }
   },
   "id": "50dd5a5b087107d"
  },
  {
   "cell_type": "code",
   "execution_count": 73,
   "outputs": [
    {
     "data": {
      "text/plain": "SVC()",
      "text/html": "<style>#sk-container-id-4 {color: black;}#sk-container-id-4 pre{padding: 0;}#sk-container-id-4 div.sk-toggleable {background-color: white;}#sk-container-id-4 label.sk-toggleable__label {cursor: pointer;display: block;width: 100%;margin-bottom: 0;padding: 0.3em;box-sizing: border-box;text-align: center;}#sk-container-id-4 label.sk-toggleable__label-arrow:before {content: \"▸\";float: left;margin-right: 0.25em;color: #696969;}#sk-container-id-4 label.sk-toggleable__label-arrow:hover:before {color: black;}#sk-container-id-4 div.sk-estimator:hover label.sk-toggleable__label-arrow:before {color: black;}#sk-container-id-4 div.sk-toggleable__content {max-height: 0;max-width: 0;overflow: hidden;text-align: left;background-color: #f0f8ff;}#sk-container-id-4 div.sk-toggleable__content pre {margin: 0.2em;color: black;border-radius: 0.25em;background-color: #f0f8ff;}#sk-container-id-4 input.sk-toggleable__control:checked~div.sk-toggleable__content {max-height: 200px;max-width: 100%;overflow: auto;}#sk-container-id-4 input.sk-toggleable__control:checked~label.sk-toggleable__label-arrow:before {content: \"▾\";}#sk-container-id-4 div.sk-estimator input.sk-toggleable__control:checked~label.sk-toggleable__label {background-color: #d4ebff;}#sk-container-id-4 div.sk-label input.sk-toggleable__control:checked~label.sk-toggleable__label {background-color: #d4ebff;}#sk-container-id-4 input.sk-hidden--visually {border: 0;clip: rect(1px 1px 1px 1px);clip: rect(1px, 1px, 1px, 1px);height: 1px;margin: -1px;overflow: hidden;padding: 0;position: absolute;width: 1px;}#sk-container-id-4 div.sk-estimator {font-family: monospace;background-color: #f0f8ff;border: 1px dotted black;border-radius: 0.25em;box-sizing: border-box;margin-bottom: 0.5em;}#sk-container-id-4 div.sk-estimator:hover {background-color: #d4ebff;}#sk-container-id-4 div.sk-parallel-item::after {content: \"\";width: 100%;border-bottom: 1px solid gray;flex-grow: 1;}#sk-container-id-4 div.sk-label:hover label.sk-toggleable__label {background-color: #d4ebff;}#sk-container-id-4 div.sk-serial::before {content: \"\";position: absolute;border-left: 1px solid gray;box-sizing: border-box;top: 0;bottom: 0;left: 50%;z-index: 0;}#sk-container-id-4 div.sk-serial {display: flex;flex-direction: column;align-items: center;background-color: white;padding-right: 0.2em;padding-left: 0.2em;position: relative;}#sk-container-id-4 div.sk-item {position: relative;z-index: 1;}#sk-container-id-4 div.sk-parallel {display: flex;align-items: stretch;justify-content: center;background-color: white;position: relative;}#sk-container-id-4 div.sk-item::before, #sk-container-id-4 div.sk-parallel-item::before {content: \"\";position: absolute;border-left: 1px solid gray;box-sizing: border-box;top: 0;bottom: 0;left: 50%;z-index: -1;}#sk-container-id-4 div.sk-parallel-item {display: flex;flex-direction: column;z-index: 1;position: relative;background-color: white;}#sk-container-id-4 div.sk-parallel-item:first-child::after {align-self: flex-end;width: 50%;}#sk-container-id-4 div.sk-parallel-item:last-child::after {align-self: flex-start;width: 50%;}#sk-container-id-4 div.sk-parallel-item:only-child::after {width: 0;}#sk-container-id-4 div.sk-dashed-wrapped {border: 1px dashed gray;margin: 0 0.4em 0.5em 0.4em;box-sizing: border-box;padding-bottom: 0.4em;background-color: white;}#sk-container-id-4 div.sk-label label {font-family: monospace;font-weight: bold;display: inline-block;line-height: 1.2em;}#sk-container-id-4 div.sk-label-container {text-align: center;}#sk-container-id-4 div.sk-container {/* jupyter's `normalize.less` sets `[hidden] { display: none; }` but bootstrap.min.css set `[hidden] { display: none !important; }` so we also need the `!important` here to be able to override the default hidden behavior on the sphinx rendered scikit-learn.org. See: https://github.com/scikit-learn/scikit-learn/issues/21755 */display: inline-block !important;position: relative;}#sk-container-id-4 div.sk-text-repr-fallback {display: none;}</style><div id=\"sk-container-id-4\" class=\"sk-top-container\"><div class=\"sk-text-repr-fallback\"><pre>SVC()</pre><b>In a Jupyter environment, please rerun this cell to show the HTML representation or trust the notebook. <br />On GitHub, the HTML representation is unable to render, please try loading this page with nbviewer.org.</b></div><div class=\"sk-container\" hidden><div class=\"sk-item\"><div class=\"sk-estimator sk-toggleable\"><input class=\"sk-toggleable__control sk-hidden--visually\" id=\"sk-estimator-id-4\" type=\"checkbox\" checked><label for=\"sk-estimator-id-4\" class=\"sk-toggleable__label sk-toggleable__label-arrow\">SVC</label><div class=\"sk-toggleable__content\"><pre>SVC()</pre></div></div></div></div></div>"
     },
     "execution_count": 73,
     "metadata": {},
     "output_type": "execute_result"
    }
   ],
   "source": [
    "#SVM\n",
    "X = zoo.iloc[:, 1:17]  # only the features \n",
    "Y = zoo.iloc[:, 17]    #only the label\n",
    "\n",
    "sc = StandardScaler()\n",
    "X_train = sc.fit_transform(X_train)\n",
    "X_test = sc.transform(X_test)\n",
    "\n",
    "X_train, X_test, Y_train, Y_test = train_test_split(X, Y, test_size = 0.3, random_state = 42, stratify = Y)\n",
    "classifier_svm = svm.SVC()\n",
    "classifier_svm.fit(X_train, Y_train)"
   ],
   "metadata": {
    "collapsed": false,
    "ExecuteTime": {
     "end_time": "2023-11-11T08:01:25.948113800Z",
     "start_time": "2023-11-11T08:01:24.285590Z"
    }
   },
   "id": "f8767b577d7fbc4c"
  },
  {
   "cell_type": "code",
   "execution_count": 80,
   "outputs": [
    {
     "name": "stdout",
     "output_type": "stream",
     "text": [
      "[2 2 2 2 1 6 1 1 2 4 1 2 4 1 7 4 1 1 1 5 4 1 1 4 1 4 7 1 7 6 1]\n"
     ]
    }
   ],
   "source": [
    "## predictions\n",
    "y_pred_svm = classifier_svm.predict(X_test)\n",
    "print(y_pred_svm)"
   ],
   "metadata": {
    "collapsed": false,
    "ExecuteTime": {
     "end_time": "2023-11-11T08:05:26.196089600Z",
     "start_time": "2023-11-11T08:05:25.886361100Z"
    }
   },
   "id": "d9cc602702ac233a"
  },
  {
   "cell_type": "code",
   "execution_count": 81,
   "outputs": [
    {
     "name": "stdout",
     "output_type": "stream",
     "text": [
      "100    2\n",
      "58     2\n",
      "43     2\n",
      "21     2\n",
      "10     1\n",
      "40     6\n",
      "50     1\n",
      "4      1\n",
      "87     2\n",
      "80     3\n",
      "70     1\n",
      "37     2\n",
      "7      4\n",
      "44     1\n",
      "53     7\n",
      "60     4\n",
      "84     1\n",
      "47     1\n",
      "94     1\n",
      "89     5\n",
      "92     4\n",
      "93     1\n",
      "49     1\n",
      "12     4\n",
      "31     1\n",
      "76     3\n",
      "77     7\n",
      "65     1\n",
      "14     7\n",
      "51     6\n",
      "22     1\n",
      "Name: class_type, dtype: int64\n"
     ]
    }
   ],
   "source": [
    "print(Y_test)"
   ],
   "metadata": {
    "collapsed": false,
    "ExecuteTime": {
     "end_time": "2023-11-11T08:05:36.267834Z",
     "start_time": "2023-11-11T08:05:35.975267500Z"
    }
   },
   "id": "6b5b18f02a1bb511"
  },
  {
   "cell_type": "code",
   "execution_count": 82,
   "outputs": [
    {
     "name": "stdout",
     "output_type": "stream",
     "text": [
      "Test Accuracy :  0.9354838709677419\n",
      "Train Accuracy :  0.9571428571428572\n"
     ]
    }
   ],
   "source": [
    "##accuracy SVM\n",
    "print(\"Test Accuracy : \",classifier_svm.score(X_test,Y_test))\n",
    "print(\"Train Accuracy : \",classifier_svm.score(X_train,Y_train))\n",
    "# ?train and test have different dimensions"
   ],
   "metadata": {
    "collapsed": false,
    "ExecuteTime": {
     "end_time": "2023-11-11T08:05:36.571904600Z",
     "start_time": "2023-11-11T08:05:36.147313Z"
    }
   },
   "id": "fb88bafb091fb52e"
  },
  {
   "cell_type": "code",
   "execution_count": 84,
   "outputs": [
    {
     "name": "stdout",
     "output_type": "stream",
     "text": [
      "(101, 19)\n",
      "    animal_name  hair  feathers  eggs  milk  airborne  aquatic  predator  \\\n",
      "4          boar     1         0     0     1         0        0         1   \n",
      "7          carp     0         0     1     0         0        1         0   \n",
      "10      cheetah     1         0     0     1         0        0         1   \n",
      "12         chub     0         0     1     0         0        1         1   \n",
      "14         crab     0         0     1     0         0        1         1   \n",
      "21         duck     0         1     1     0         1        1         0   \n",
      "22     elephant     1         0     0     1         0        0         0   \n",
      "31         goat     1         0     0     1         0        0         0   \n",
      "37         hawk     0         1     1     0         1        0         1   \n",
      "40     housefly     1         0     1     0         1        0         0   \n",
      "43         lark     0         1     1     0         1        0         0   \n",
      "44      leopard     1         0     0     1         0        0         1   \n",
      "47         lynx     1         0     0     1         0        0         1   \n",
      "49         mole     1         0     0     1         0        0         1   \n",
      "50     mongoose     1         0     0     1         0        0         1   \n",
      "51         moth     1         0     1     0         1        0         0   \n",
      "53      octopus     0         0     1     0         0        1         1   \n",
      "58      penguin     0         1     1     0         0        1         1   \n",
      "60         pike     0         0     1     0         0        1         1   \n",
      "65         pony     1         0     0     1         0        0         0   \n",
      "70     reindeer     1         0     0     1         0        0         0   \n",
      "76     seasnake     0         0     0     0         0        1         1   \n",
      "77      seawasp     0         0     1     0         0        1         1   \n",
      "80     slowworm     0         0     1     0         0        0         1   \n",
      "84     squirrel     1         0     0     1         0        0         0   \n",
      "87         swan     0         1     1     0         1        1         0   \n",
      "89         toad     0         0     1     0         0        1         0   \n",
      "92         tuna     0         0     1     0         0        1         1   \n",
      "93      vampire     1         0     0     1         1        0         0   \n",
      "94         vole     1         0     0     1         0        0         0   \n",
      "100        wren     0         1     1     0         1        0         0   \n",
      "\n",
      "     toothed  backbone  breathes  venomous  fins  legs  tail  domestic  \\\n",
      "4          1         1         1         0     0     4     1         0   \n",
      "7          1         1         0         0     1     0     1         1   \n",
      "10         1         1         1         0     0     4     1         0   \n",
      "12         1         1         0         0     1     0     1         0   \n",
      "14         0         0         0         0     0     4     0         0   \n",
      "21         0         1         1         0     0     2     1         0   \n",
      "22         1         1         1         0     0     4     1         0   \n",
      "31         1         1         1         0     0     4     1         1   \n",
      "37         0         1         1         0     0     2     1         0   \n",
      "40         0         0         1         0     0     6     0         0   \n",
      "43         0         1         1         0     0     2     1         0   \n",
      "44         1         1         1         0     0     4     1         0   \n",
      "47         1         1         1         0     0     4     1         0   \n",
      "49         1         1         1         0     0     4     1         0   \n",
      "50         1         1         1         0     0     4     1         0   \n",
      "51         0         0         1         0     0     6     0         0   \n",
      "53         0         0         0         0     0     8     0         0   \n",
      "58         0         1         1         0     0     2     1         0   \n",
      "60         1         1         0         0     1     0     1         0   \n",
      "65         1         1         1         0     0     4     1         1   \n",
      "70         1         1         1         0     0     4     1         1   \n",
      "76         1         1         0         1     0     0     1         0   \n",
      "77         0         0         0         1     0     0     0         0   \n",
      "80         1         1         1         0     0     0     1         0   \n",
      "84         1         1         1         0     0     2     1         0   \n",
      "87         0         1         1         0     0     2     1         0   \n",
      "89         1         1         1         0     0     4     0         0   \n",
      "92         1         1         0         0     1     0     1         0   \n",
      "93         1         1         1         0     0     2     1         0   \n",
      "94         1         1         1         0     0     4     1         0   \n",
      "100        0         1         1         0     0     2     1         0   \n",
      "\n",
      "     catsize  class_type  prediction  \n",
      "4          1           1         1.0  \n",
      "7          0           4         4.0  \n",
      "10         1           1         1.0  \n",
      "12         0           4         4.0  \n",
      "14         0           7         7.0  \n",
      "21         0           2         2.0  \n",
      "22         1           1         1.0  \n",
      "31         1           1         1.0  \n",
      "37         0           2         2.0  \n",
      "40         0           6         6.0  \n",
      "43         0           2         2.0  \n",
      "44         1           1         1.0  \n",
      "47         1           1         1.0  \n",
      "49         0           1         1.0  \n",
      "50         1           1         1.0  \n",
      "51         0           6         6.0  \n",
      "53         1           7         7.0  \n",
      "58         1           2         2.0  \n",
      "60         1           4         4.0  \n",
      "65         1           1         1.0  \n",
      "70         1           1         1.0  \n",
      "76         0           3         4.0  \n",
      "77         0           7         7.0  \n",
      "80         0           3         4.0  \n",
      "84         0           1         1.0  \n",
      "87         1           2         2.0  \n",
      "89         0           5         5.0  \n",
      "92         1           4         4.0  \n",
      "93         0           1         1.0  \n",
      "94         0           1         1.0  \n",
      "100        0           2         2.0  \n",
      "  seasnake\n",
      "class type: 3\n",
      "prediction: 4.0\n",
      "  slowworm\n",
      "class type: 3\n",
      "prediction: 4.0\n"
     ]
    },
    {
     "name": "stderr",
     "output_type": "stream",
     "text": [
      "C:\\Users\\admin\\AppData\\Local\\Temp\\ipykernel_15852\\2145587894.py:11: FutureWarning: Series.__getitem__ treating keys as positions is deprecated. In a future version, integer keys will always be treated as labels (consistent with DataFrame behavior). To access a value by position, use `ser.iloc[pos]`\n",
      "  if tmp_svm.iloc[i][17] != tmp_svm.iloc[i][18]:\n",
      "C:\\Users\\admin\\AppData\\Local\\Temp\\ipykernel_15852\\2145587894.py:12: FutureWarning: Series.__getitem__ treating keys as positions is deprecated. In a future version, integer keys will always be treated as labels (consistent with DataFrame behavior). To access a value by position, use `ser.iloc[pos]`\n",
      "  print('  '+str(tmp_svm.iloc[i][0]))\n",
      "C:\\Users\\admin\\AppData\\Local\\Temp\\ipykernel_15852\\2145587894.py:13: FutureWarning: Series.__getitem__ treating keys as positions is deprecated. In a future version, integer keys will always be treated as labels (consistent with DataFrame behavior). To access a value by position, use `ser.iloc[pos]`\n",
      "  print('class type: '+str(tmp_svm.iloc[i][17]))\n",
      "C:\\Users\\admin\\AppData\\Local\\Temp\\ipykernel_15852\\2145587894.py:14: FutureWarning: Series.__getitem__ treating keys as positions is deprecated. In a future version, integer keys will always be treated as labels (consistent with DataFrame behavior). To access a value by position, use `ser.iloc[pos]`\n",
      "  print('prediction: '+str(tmp_svm.iloc[i][18]))\n"
     ]
    }
   ],
   "source": [
    "##compare the predictions with the real values (to do for every classifier after fixing)\n",
    "tmp_svm = pd.DataFrame(zoo)\n",
    "pred_svm = pd.DataFrame(y_pred_svm,dtype=int, index=Y_test.index)\n",
    "tmp_svm['prediction'] = pred_svm\n",
    "#print(tmp_tree)\n",
    "print(tmp_svm.shape)\n",
    "\n",
    "tmp_svm = tmp_svm.dropna()\n",
    "print(tmp_svm)\n",
    "for i in range(tmp_svm.shape[0]):\n",
    "    if tmp_svm.iloc[i][17] != tmp_svm.iloc[i][18]:\n",
    "        print('  '+str(tmp_svm.iloc[i][0]))\n",
    "        print('class type: '+str(tmp_svm.iloc[i][17]))\n",
    "        print('prediction: '+str(tmp_svm.iloc[i][18]))"
   ],
   "metadata": {
    "collapsed": false,
    "ExecuteTime": {
     "end_time": "2023-11-11T08:06:22.236773300Z",
     "start_time": "2023-11-11T08:06:20.832978500Z"
    }
   },
   "id": "eda022a59ccec943"
  },
  {
   "cell_type": "code",
   "execution_count": 85,
   "outputs": [
    {
     "data": {
      "text/plain": "GaussianNB()",
      "text/html": "<style>#sk-container-id-5 {color: black;}#sk-container-id-5 pre{padding: 0;}#sk-container-id-5 div.sk-toggleable {background-color: white;}#sk-container-id-5 label.sk-toggleable__label {cursor: pointer;display: block;width: 100%;margin-bottom: 0;padding: 0.3em;box-sizing: border-box;text-align: center;}#sk-container-id-5 label.sk-toggleable__label-arrow:before {content: \"▸\";float: left;margin-right: 0.25em;color: #696969;}#sk-container-id-5 label.sk-toggleable__label-arrow:hover:before {color: black;}#sk-container-id-5 div.sk-estimator:hover label.sk-toggleable__label-arrow:before {color: black;}#sk-container-id-5 div.sk-toggleable__content {max-height: 0;max-width: 0;overflow: hidden;text-align: left;background-color: #f0f8ff;}#sk-container-id-5 div.sk-toggleable__content pre {margin: 0.2em;color: black;border-radius: 0.25em;background-color: #f0f8ff;}#sk-container-id-5 input.sk-toggleable__control:checked~div.sk-toggleable__content {max-height: 200px;max-width: 100%;overflow: auto;}#sk-container-id-5 input.sk-toggleable__control:checked~label.sk-toggleable__label-arrow:before {content: \"▾\";}#sk-container-id-5 div.sk-estimator input.sk-toggleable__control:checked~label.sk-toggleable__label {background-color: #d4ebff;}#sk-container-id-5 div.sk-label input.sk-toggleable__control:checked~label.sk-toggleable__label {background-color: #d4ebff;}#sk-container-id-5 input.sk-hidden--visually {border: 0;clip: rect(1px 1px 1px 1px);clip: rect(1px, 1px, 1px, 1px);height: 1px;margin: -1px;overflow: hidden;padding: 0;position: absolute;width: 1px;}#sk-container-id-5 div.sk-estimator {font-family: monospace;background-color: #f0f8ff;border: 1px dotted black;border-radius: 0.25em;box-sizing: border-box;margin-bottom: 0.5em;}#sk-container-id-5 div.sk-estimator:hover {background-color: #d4ebff;}#sk-container-id-5 div.sk-parallel-item::after {content: \"\";width: 100%;border-bottom: 1px solid gray;flex-grow: 1;}#sk-container-id-5 div.sk-label:hover label.sk-toggleable__label {background-color: #d4ebff;}#sk-container-id-5 div.sk-serial::before {content: \"\";position: absolute;border-left: 1px solid gray;box-sizing: border-box;top: 0;bottom: 0;left: 50%;z-index: 0;}#sk-container-id-5 div.sk-serial {display: flex;flex-direction: column;align-items: center;background-color: white;padding-right: 0.2em;padding-left: 0.2em;position: relative;}#sk-container-id-5 div.sk-item {position: relative;z-index: 1;}#sk-container-id-5 div.sk-parallel {display: flex;align-items: stretch;justify-content: center;background-color: white;position: relative;}#sk-container-id-5 div.sk-item::before, #sk-container-id-5 div.sk-parallel-item::before {content: \"\";position: absolute;border-left: 1px solid gray;box-sizing: border-box;top: 0;bottom: 0;left: 50%;z-index: -1;}#sk-container-id-5 div.sk-parallel-item {display: flex;flex-direction: column;z-index: 1;position: relative;background-color: white;}#sk-container-id-5 div.sk-parallel-item:first-child::after {align-self: flex-end;width: 50%;}#sk-container-id-5 div.sk-parallel-item:last-child::after {align-self: flex-start;width: 50%;}#sk-container-id-5 div.sk-parallel-item:only-child::after {width: 0;}#sk-container-id-5 div.sk-dashed-wrapped {border: 1px dashed gray;margin: 0 0.4em 0.5em 0.4em;box-sizing: border-box;padding-bottom: 0.4em;background-color: white;}#sk-container-id-5 div.sk-label label {font-family: monospace;font-weight: bold;display: inline-block;line-height: 1.2em;}#sk-container-id-5 div.sk-label-container {text-align: center;}#sk-container-id-5 div.sk-container {/* jupyter's `normalize.less` sets `[hidden] { display: none; }` but bootstrap.min.css set `[hidden] { display: none !important; }` so we also need the `!important` here to be able to override the default hidden behavior on the sphinx rendered scikit-learn.org. See: https://github.com/scikit-learn/scikit-learn/issues/21755 */display: inline-block !important;position: relative;}#sk-container-id-5 div.sk-text-repr-fallback {display: none;}</style><div id=\"sk-container-id-5\" class=\"sk-top-container\"><div class=\"sk-text-repr-fallback\"><pre>GaussianNB()</pre><b>In a Jupyter environment, please rerun this cell to show the HTML representation or trust the notebook. <br />On GitHub, the HTML representation is unable to render, please try loading this page with nbviewer.org.</b></div><div class=\"sk-container\" hidden><div class=\"sk-item\"><div class=\"sk-estimator sk-toggleable\"><input class=\"sk-toggleable__control sk-hidden--visually\" id=\"sk-estimator-id-5\" type=\"checkbox\" checked><label for=\"sk-estimator-id-5\" class=\"sk-toggleable__label sk-toggleable__label-arrow\">GaussianNB</label><div class=\"sk-toggleable__content\"><pre>GaussianNB()</pre></div></div></div></div></div>"
     },
     "execution_count": 85,
     "metadata": {},
     "output_type": "execute_result"
    }
   ],
   "source": [
    "#Naive Bayes\n",
    "X = zoo.iloc[:, 1:17]  # only the features \n",
    "Y = zoo.iloc[:, 17]    #only the label\n",
    "\n",
    "sc = StandardScaler()\n",
    "X_train = sc.fit_transform(X_train)\n",
    "X_test = sc.transform(X_test)\n",
    "\n",
    "X_train, X_test, Y_train, Y_test = train_test_split(X, Y, test_size = 0.3, random_state = 42, stratify = Y)\n",
    "classifier_nb = GaussianNB()\n",
    "classifier_nb.fit(X_train, Y_train)"
   ],
   "metadata": {
    "collapsed": false,
    "ExecuteTime": {
     "end_time": "2023-11-11T08:06:38.445729100Z",
     "start_time": "2023-11-11T08:06:38.174451300Z"
    }
   },
   "id": "741018096523ac01"
  },
  {
   "cell_type": "code",
   "execution_count": 87,
   "outputs": [
    {
     "name": "stdout",
     "output_type": "stream",
     "text": [
      "[2 2 2 2 1 6 1 1 2 3 1 2 4 1 7 4 1 1 1 5 4 1 1 4 1 4 7 1 7 6 1]\n"
     ]
    }
   ],
   "source": [
    "## predictions\n",
    "y_pred_NB = classifier_nb.predict(X_test[0:31]) \n",
    "print(y_pred_NB)"
   ],
   "metadata": {
    "collapsed": false,
    "ExecuteTime": {
     "end_time": "2023-11-11T08:06:59.317432Z",
     "start_time": "2023-11-11T08:06:59.201777200Z"
    }
   },
   "id": "d71fd76f14a4f3d6"
  },
  {
   "cell_type": "code",
   "execution_count": 88,
   "outputs": [
    {
     "name": "stdout",
     "output_type": "stream",
     "text": [
      "100    2\n",
      "58     2\n",
      "43     2\n",
      "21     2\n",
      "10     1\n",
      "40     6\n",
      "50     1\n",
      "4      1\n",
      "87     2\n",
      "80     3\n",
      "70     1\n",
      "37     2\n",
      "7      4\n",
      "44     1\n",
      "53     7\n",
      "60     4\n",
      "84     1\n",
      "47     1\n",
      "94     1\n",
      "89     5\n",
      "92     4\n",
      "93     1\n",
      "49     1\n",
      "12     4\n",
      "31     1\n",
      "76     3\n",
      "77     7\n",
      "65     1\n",
      "14     7\n",
      "51     6\n",
      "22     1\n",
      "Name: class_type, dtype: int64\n"
     ]
    }
   ],
   "source": [
    "print(Y_test[0:31])"
   ],
   "metadata": {
    "collapsed": false,
    "ExecuteTime": {
     "end_time": "2023-11-11T08:07:05.142864100Z",
     "start_time": "2023-11-11T08:07:05.079077700Z"
    }
   },
   "id": "7185df693a78a49e"
  },
  {
   "cell_type": "code",
   "execution_count": 90,
   "outputs": [
    {
     "name": "stdout",
     "output_type": "stream",
     "text": [
      "Test Accuracy :  0.967741935483871\n",
      "Train Accuracy :  1.0\n"
     ]
    }
   ],
   "source": [
    "##accuracy NB\n",
    "print(\"Test Accuracy : \",classifier_nb.score(X_test,Y_test))\n",
    "print(\"Train Accuracy : \",classifier_nb.score(X_train,Y_train))\n",
    "# ?train and test have different dimensions"
   ],
   "metadata": {
    "collapsed": false,
    "ExecuteTime": {
     "end_time": "2023-11-11T08:09:38.704759800Z",
     "start_time": "2023-11-11T08:09:38.533327300Z"
    }
   },
   "id": "99bba6b044921921"
  },
  {
   "cell_type": "code",
   "execution_count": 89,
   "outputs": [
    {
     "name": "stdout",
     "output_type": "stream",
     "text": [
      "(101, 19)\n",
      "    animal_name  hair  feathers  eggs  milk  airborne  aquatic  predator  \\\n",
      "4          boar     1         0     0     1         0        0         1   \n",
      "7          carp     0         0     1     0         0        1         0   \n",
      "10      cheetah     1         0     0     1         0        0         1   \n",
      "12         chub     0         0     1     0         0        1         1   \n",
      "14         crab     0         0     1     0         0        1         1   \n",
      "21         duck     0         1     1     0         1        1         0   \n",
      "22     elephant     1         0     0     1         0        0         0   \n",
      "31         goat     1         0     0     1         0        0         0   \n",
      "37         hawk     0         1     1     0         1        0         1   \n",
      "40     housefly     1         0     1     0         1        0         0   \n",
      "43         lark     0         1     1     0         1        0         0   \n",
      "44      leopard     1         0     0     1         0        0         1   \n",
      "47         lynx     1         0     0     1         0        0         1   \n",
      "49         mole     1         0     0     1         0        0         1   \n",
      "50     mongoose     1         0     0     1         0        0         1   \n",
      "51         moth     1         0     1     0         1        0         0   \n",
      "53      octopus     0         0     1     0         0        1         1   \n",
      "58      penguin     0         1     1     0         0        1         1   \n",
      "60         pike     0         0     1     0         0        1         1   \n",
      "65         pony     1         0     0     1         0        0         0   \n",
      "70     reindeer     1         0     0     1         0        0         0   \n",
      "76     seasnake     0         0     0     0         0        1         1   \n",
      "77      seawasp     0         0     1     0         0        1         1   \n",
      "80     slowworm     0         0     1     0         0        0         1   \n",
      "84     squirrel     1         0     0     1         0        0         0   \n",
      "87         swan     0         1     1     0         1        1         0   \n",
      "89         toad     0         0     1     0         0        1         0   \n",
      "92         tuna     0         0     1     0         0        1         1   \n",
      "93      vampire     1         0     0     1         1        0         0   \n",
      "94         vole     1         0     0     1         0        0         0   \n",
      "100        wren     0         1     1     0         1        0         0   \n",
      "\n",
      "     toothed  backbone  breathes  venomous  fins  legs  tail  domestic  \\\n",
      "4          1         1         1         0     0     4     1         0   \n",
      "7          1         1         0         0     1     0     1         1   \n",
      "10         1         1         1         0     0     4     1         0   \n",
      "12         1         1         0         0     1     0     1         0   \n",
      "14         0         0         0         0     0     4     0         0   \n",
      "21         0         1         1         0     0     2     1         0   \n",
      "22         1         1         1         0     0     4     1         0   \n",
      "31         1         1         1         0     0     4     1         1   \n",
      "37         0         1         1         0     0     2     1         0   \n",
      "40         0         0         1         0     0     6     0         0   \n",
      "43         0         1         1         0     0     2     1         0   \n",
      "44         1         1         1         0     0     4     1         0   \n",
      "47         1         1         1         0     0     4     1         0   \n",
      "49         1         1         1         0     0     4     1         0   \n",
      "50         1         1         1         0     0     4     1         0   \n",
      "51         0         0         1         0     0     6     0         0   \n",
      "53         0         0         0         0     0     8     0         0   \n",
      "58         0         1         1         0     0     2     1         0   \n",
      "60         1         1         0         0     1     0     1         0   \n",
      "65         1         1         1         0     0     4     1         1   \n",
      "70         1         1         1         0     0     4     1         1   \n",
      "76         1         1         0         1     0     0     1         0   \n",
      "77         0         0         0         1     0     0     0         0   \n",
      "80         1         1         1         0     0     0     1         0   \n",
      "84         1         1         1         0     0     2     1         0   \n",
      "87         0         1         1         0     0     2     1         0   \n",
      "89         1         1         1         0     0     4     0         0   \n",
      "92         1         1         0         0     1     0     1         0   \n",
      "93         1         1         1         0     0     2     1         0   \n",
      "94         1         1         1         0     0     4     1         0   \n",
      "100        0         1         1         0     0     2     1         0   \n",
      "\n",
      "     catsize  class_type  prediction  \n",
      "4          1           1         1.0  \n",
      "7          0           4         4.0  \n",
      "10         1           1         1.0  \n",
      "12         0           4         4.0  \n",
      "14         0           7         7.0  \n",
      "21         0           2         2.0  \n",
      "22         1           1         1.0  \n",
      "31         1           1         1.0  \n",
      "37         0           2         2.0  \n",
      "40         0           6         6.0  \n",
      "43         0           2         2.0  \n",
      "44         1           1         1.0  \n",
      "47         1           1         1.0  \n",
      "49         0           1         1.0  \n",
      "50         1           1         1.0  \n",
      "51         0           6         6.0  \n",
      "53         1           7         7.0  \n",
      "58         1           2         2.0  \n",
      "60         1           4         4.0  \n",
      "65         1           1         1.0  \n",
      "70         1           1         1.0  \n",
      "76         0           3         4.0  \n",
      "77         0           7         7.0  \n",
      "80         0           3         3.0  \n",
      "84         0           1         1.0  \n",
      "87         1           2         2.0  \n",
      "89         0           5         5.0  \n",
      "92         1           4         4.0  \n",
      "93         0           1         1.0  \n",
      "94         0           1         1.0  \n",
      "100        0           2         2.0  \n",
      "  seasnake\n",
      "class type: 3\n",
      "prediction: 4.0\n"
     ]
    },
    {
     "name": "stderr",
     "output_type": "stream",
     "text": [
      "C:\\Users\\admin\\AppData\\Local\\Temp\\ipykernel_15852\\562972501.py:11: FutureWarning: Series.__getitem__ treating keys as positions is deprecated. In a future version, integer keys will always be treated as labels (consistent with DataFrame behavior). To access a value by position, use `ser.iloc[pos]`\n",
      "  if tmp_NB.iloc[i][17] != tmp_NB.iloc[i][18]:\n",
      "C:\\Users\\admin\\AppData\\Local\\Temp\\ipykernel_15852\\562972501.py:12: FutureWarning: Series.__getitem__ treating keys as positions is deprecated. In a future version, integer keys will always be treated as labels (consistent with DataFrame behavior). To access a value by position, use `ser.iloc[pos]`\n",
      "  print('  '+str(tmp_NB.iloc[i][0]))\n",
      "C:\\Users\\admin\\AppData\\Local\\Temp\\ipykernel_15852\\562972501.py:13: FutureWarning: Series.__getitem__ treating keys as positions is deprecated. In a future version, integer keys will always be treated as labels (consistent with DataFrame behavior). To access a value by position, use `ser.iloc[pos]`\n",
      "  print('class type: '+str(tmp_NB.iloc[i][17]))\n",
      "C:\\Users\\admin\\AppData\\Local\\Temp\\ipykernel_15852\\562972501.py:14: FutureWarning: Series.__getitem__ treating keys as positions is deprecated. In a future version, integer keys will always be treated as labels (consistent with DataFrame behavior). To access a value by position, use `ser.iloc[pos]`\n",
      "  print('prediction: '+str(tmp_NB.iloc[i][18]))\n"
     ]
    }
   ],
   "source": [
    "##compare the predictions with the real values \n",
    "tmp_NB = pd.DataFrame(zoo)\n",
    "pred_NB = pd.DataFrame(y_pred_NB,dtype=int, index=Y_test.index)\n",
    "tmp_NB['prediction'] = pred_NB\n",
    "#print(tmp_tree)\n",
    "print(tmp_NB.shape)\n",
    "\n",
    "tmp_NB = tmp_NB.dropna()\n",
    "print(tmp_NB)\n",
    "for i in range(tmp_NB.shape[0]):\n",
    "    if tmp_NB.iloc[i][17] != tmp_NB.iloc[i][18]:\n",
    "        print('  '+str(tmp_NB.iloc[i][0]))\n",
    "        print('class type: '+str(tmp_NB.iloc[i][17]))\n",
    "        print('prediction: '+str(tmp_NB.iloc[i][18]))\n",
    "        \n"
   ],
   "metadata": {
    "collapsed": false,
    "ExecuteTime": {
     "start_time": "2023-11-11T08:09:10.876327700Z"
    }
   },
   "id": "5ecb896bb84f7e0d"
  },
  {
   "cell_type": "code",
   "execution_count": null,
   "outputs": [],
   "source": [
    "#comparing algorithms"
   ],
   "metadata": {
    "collapsed": false,
    "ExecuteTime": {
     "start_time": "2023-11-11T07:02:38.168119600Z"
    }
   },
   "id": "5811cbb5b5332238"
  },
  {
   "cell_type": "code",
   "execution_count": 91,
   "outputs": [
    {
     "name": "stderr",
     "output_type": "stream",
     "text": [
      "C:\\Users\\admin\\.pyenv\\pyenv-win\\versions\\3.12.0rc3\\Lib\\site-packages\\sklearn\\base.py:458: UserWarning: X has feature names, but KNeighborsClassifier was fitted without feature names\n",
      "  warnings.warn(\n",
      "C:\\Users\\admin\\.pyenv\\pyenv-win\\versions\\3.12.0rc3\\Lib\\site-packages\\sklearn\\base.py:458: UserWarning: X has feature names, but DecisionTreeClassifier was fitted without feature names\n",
      "  warnings.warn(\n"
     ]
    },
    {
     "data": {
      "text/plain": "           Model     Score\n2  Random Forest  0.967742\n4    Naive Bayes  0.967742\n3           SVM   0.935484\n1  Decision Tree  0.806452\n0    K Neighbors  0.741935",
      "text/html": "<div>\n<style scoped>\n    .dataframe tbody tr th:only-of-type {\n        vertical-align: middle;\n    }\n\n    .dataframe tbody tr th {\n        vertical-align: top;\n    }\n\n    .dataframe thead th {\n        text-align: right;\n    }\n</style>\n<table border=\"1\" class=\"dataframe\">\n  <thead>\n    <tr style=\"text-align: right;\">\n      <th></th>\n      <th>Model</th>\n      <th>Score</th>\n    </tr>\n  </thead>\n  <tbody>\n    <tr>\n      <th>2</th>\n      <td>Random Forest</td>\n      <td>0.967742</td>\n    </tr>\n    <tr>\n      <th>4</th>\n      <td>Naive Bayes</td>\n      <td>0.967742</td>\n    </tr>\n    <tr>\n      <th>3</th>\n      <td>SVM</td>\n      <td>0.935484</td>\n    </tr>\n    <tr>\n      <th>1</th>\n      <td>Decision Tree</td>\n      <td>0.806452</td>\n    </tr>\n    <tr>\n      <th>0</th>\n      <td>K Neighbors</td>\n      <td>0.741935</td>\n    </tr>\n  </tbody>\n</table>\n</div>"
     },
     "execution_count": 91,
     "metadata": {},
     "output_type": "execute_result"
    }
   ],
   "source": [
    "#algorithm comparison\n",
    "\n",
    "algorithms = pd.DataFrame({\n",
    "    'Model': [\"K Neighbors\", \"Decision Tree\",\n",
    "     \"Random Forest\", \"SVM \", \"Naive Bayes\"],\n",
    "    'Score': [classifier_knn.score(X_test,Y_test),\n",
    "     classifier_dt.score(X_test,Y_test),\n",
    "     classifier_RF.score(X_test,Y_test),\n",
    "     classifier_svm.score(X_test,Y_test), \n",
    "     classifier_nb.score(X_test,Y_test)]})\n",
    "\n",
    "algorithms.sort_values(by='Score', ascending=False)\n",
    "\n",
    "# TO FIX: X was fitted without feature name \n"
   ],
   "metadata": {
    "collapsed": false,
    "ExecuteTime": {
     "end_time": "2023-11-11T08:09:55.012940300Z",
     "start_time": "2023-11-11T08:09:51.102015Z"
    }
   },
   "id": "608adbf459e9fc98"
  },
  {
   "cell_type": "code",
   "execution_count": 95,
   "outputs": [
    {
     "data": {
      "text/plain": "<Axes: title={'center': 'Correlation matrix'}>"
     },
     "execution_count": 95,
     "metadata": {},
     "output_type": "execute_result"
    },
    {
     "data": {
      "text/plain": "<Figure size 1000x500 with 3 Axes>",
      "image/png": "[encoded data removed]"
     },
     "metadata": {},
     "output_type": "display_data"
    }
   ],
   "source": [
    "#correlation analysis\n",
    "plt.subplots(figsize=(10,5)) # 1000x500 with 3 Axes\n",
    "ax = plt.axes()\n",
    "ax.set_title('Correlation matrix')\n",
    "corr = zoo.iloc[:, 1:].corr()\n",
    "sns.heatmap(corr, annot=True, xticklabels=corr.columns.values, yticklabels=corr.columns.values)\n"
   ],
   "metadata": {
    "collapsed": false,
    "ExecuteTime": {
     "end_time": "2023-11-11T08:19:10.760498200Z",
     "start_time": "2023-11-11T08:18:51.659826100Z"
    }
   },
   "id": "8f349c67a0e47779"
  },
  {
   "cell_type": "code",
   "execution_count": null,
   "outputs": [],
   "source": [
    "#which feature(s) are relevant to efficiently classify the animals?\n",
    "# if there is milk then the animal is mammal; if there are feathers then it should be bird, if it has a backbone it is definetely not a bug or invertebrate, if it breathes it is not a fish, if it has fins it is a fish...\n",
    "corr[corr != 1][abs(corr)> 0.65].dropna(how='all', axis=1).dropna(how='all', axis=0)\n",
    "print(df)\n",
    "print(df.groupby('Class_Type').mean())#how to transform an object into a numerical value??"
   ],
   "metadata": {
    "collapsed": false
   },
   "id": "26972a484c4696e1"
  },
  {
   "cell_type": "code",
   "execution_count": null,
   "outputs": [],
   "source": [
    "# PROJECT GOALS!!!:\n",
    "#Comparing the result of each algorithm, show which clustering algorithm better approximates the classes provided by the dataset.\n",
    "\n",
    "#It is therefore required not only to define a methodology for comparing the clustering results with the expected classification, but also to briefly describe the distinguishing characteristics of each species cluster produced by the algorithm under evaluation."
   ],
   "metadata": {
    "collapsed": false,
    "ExecuteTime": {
     "start_time": "2023-11-11T07:02:38.372167200Z"
    }
   },
   "id": "7b366f03e94384b5"
  },
  {
   "cell_type": "code",
   "execution_count": 132,
   "outputs": [],
   "source": [
    "#K means clustering but without scikit-learn\n",
    "#Once we have defined which characteristics distinguish each species we can approximate them into the 7 clusters. Following the intuition of the K means clustering algorithm, which is to assign each observation (animal features in our case) to the cluster with the nearest mean.\n",
    "#Step 1: Choose the number of clusters k\n",
    "#Step 2: Select k random points from the data as centroids\n",
    "#Step 3: Assign all the points to the closest cluster centroid\n",
    "#Step 4: Recompute the centroids of newly formed clusters\n",
    "#Step 5: Repeat steps 3 and 4\n"
   ],
   "metadata": {
    "collapsed": false,
    "ExecuteTime": {
     "end_time": "2023-11-11T10:55:45.061543700Z",
     "start_time": "2023-11-11T10:55:40.159842200Z"
    }
   },
   "id": "a86fec7ab29bed2"
  },
  {
   "cell_type": "code",
   "execution_count": 8,
   "outputs": [
    {
     "name": "stdout",
     "output_type": "stream",
     "text": [
      "[[-0.81649658 -0.5         0.81649658 ...  0.63245553 -0.38411064\n",
      "   1.15470054]\n",
      " [-0.81649658 -0.5         0.81649658 ... -1.58113883 -0.38411064\n",
      "  -0.8660254 ]\n",
      " [-0.81649658  2.          0.81649658 ...  0.63245553  2.60341656\n",
      "  -0.8660254 ]\n",
      " ...\n",
      " [-0.81649658 -0.5         0.81649658 ...  0.63245553 -0.38411064\n",
      "  -0.8660254 ]\n",
      " [ 1.22474487 -0.5        -1.22474487 ... -1.58113883 -0.38411064\n",
      "   1.15470054]\n",
      " [-0.81649658  2.          0.81649658 ...  0.63245553  2.60341656\n",
      "  -0.8660254 ]]\n"
     ]
    }
   ],
   "source": [
    "x = zoo.iloc[:, 1:17]\n",
    "x.head()\n",
    "sc = StandardScaler()\n",
    "x_train = sc.fit_transform(X_train)\n",
    "print(x_train)"
   ],
   "metadata": {
    "collapsed": false,
    "ExecuteTime": {
     "end_time": "2023-11-11T14:50:07.774002700Z",
     "start_time": "2023-11-11T14:49:57.005803200Z"
    }
   },
   "id": "18d1fbc6ab0f8569"
  },
  {
   "cell_type": "code",
   "execution_count": null,
   "outputs": [],
   "source": [
    "clusters = len(np.unique(y))\n",
    "print(clusters)"
   ],
   "metadata": {
    "collapsed": false
   },
   "id": "71db04a2d1f377ac"
  },
  {
   "cell_type": "code",
   "execution_count": null,
   "outputs": [],
   "source": [
    "centers = 7\n",
    "x_train, true_labels = make_blobs(n_samples=100, centers=centers, random_state=42) #import make_blobs\n",
    "x_train = StandardScaler().fit_transform(x_train)\n",
    "\n",
    "n_features = \n",
    "sample = zoo['animal_name']\n",
    "\n",
    "def _euclidean_distance(x1, x2):\n",
    "    return np.sqrt(np.sum(x1-x2)**2)\n",
    "\n",
    "\n",
    "class KMeans:\n",
    "    def __init__(self, K=7, max_iters=100):\n",
    "        self.K = K\n",
    "        self.max_iters = max_iters\n",
    "        \n",
    "        self.clusters = [[] for _ in range(self.K)] #for each cluster we put an empty list of sample indexes for each cluster\n",
    "        self.centroids = [] #the centers(mean) for each cluster\n",
    "    def predict(self, x): #no y because unsupervised\n",
    "        self.x = x\n",
    "        self.n_samples, self.n_features = x.shape\n",
    "        \n",
    "    #initialize\n",
    "    sample_idxs np.random.choice(self.n_samples, self.K) #k different samples\n",
    "    self.centroids = [self.x[idx] for idx in sample_idxs ] #initial centroid\n",
    "    \n",
    "    #optimize clusters\n",
    "    for _ in range(self.max_iters):\n",
    "        #assign samples to the closest centroids (create the clusters)\n",
    "        self.clusters = self._create_clusters(self.centroids)\n",
    "        \n",
    "        if self.plot_steps:\n",
    "            self.plot()\n",
    "            \n",
    "       #calculate new centroids from the clusters\n",
    "       centroids_old = self.centroids\n",
    "       self.centroids = self._get_centroids(self.clusters)\n",
    "      \n",
    "       if self._is_converged(centroids_old, self.centroids):\n",
    "           break\n",
    "        \n",
    "       if self.plot_steps:\n",
    "            self.plot()\n",
    "        \n",
    "    #classify samples as the indexes of their clusters\n",
    "    return self._get_cluster_labels(self.clusters)\n",
    "\n",
    "\n",
    "\n",
    "def _create_clusters(self, centroids):\n",
    "    #assign samples to the closest centroids\n",
    "    clusters = [[] for _ in range(self.K)]\n",
    "    for idx, sample in enumerate(self.x):\n",
    "        centroid_idx = self._closest_centroid(sample, centroids)\n",
    "        clusters[centroid_idx].append(idx)\n",
    "    return clusters\n",
    "\n",
    "def _closest_centroid(self, sample, centroids):\n",
    "    #distance of current sample to each centrois\n",
    "    distances = [euclidean_distance(sample, point) for point in centroids]\n",
    "    closest_idx = np.argmin(distances)\n",
    "    return closest_idx\n",
    "    \n",
    "\n",
    "def _get_centroids(self, clusters):\n",
    "    #assign the mean of the clusters to centroids\n",
    "    centroids = np.zeros((self.K, self.n_features))\n",
    "    for cluster_idx, cluster in enumerate(clusters):\n",
    "        cluster_mean = np.mean(self.x[cluster], axis=0)#for each cluster we calculate the mean \n",
    "        centroids[cluster_idx] = cluster_mean #then we assign to the centroid\n",
    "        return centroids\n",
    "        \n",
    "\n",
    "def _is_converged(self, centroids_old, centroids):\n",
    "    #distances between old and new centroids for all centroids\n",
    "    distances = [euclidean_distance(centroids_old[i], centroids[i] for i in range(self.K)]\n",
    "    return sum(distances) == 0 #when there is no more change so it converges\n",
    "\n",
    "def plot(self):\n",
    "    fig, ax = plt.subplots(figsize=(12,8))\n",
    "    \n",
    "    for i, index in enumerate(self.clusters):\n",
    "        point = self.x[index].T\n",
    "        ax.scatter(*point)\n",
    "    for point in self.centroids:\n",
    "        ax.scatter(*point, marker='c', color='black', linewidth=2)\n",
    "        \n",
    "    plt.show()    \n",
    "\n",
    "def _get_cluster_labels(self, clusters):\n",
    "    #each sample will get the label of the assigned cluster\n",
    "    labels = np.empty(self.n_samples)\n",
    "    for cluster_idx, cluster in enumerate(clusters): #we have a list of indexes for clusters\n",
    "        for sample_idx in cluster:\n",
    "            labels[sample_idx] = cluster_idx\n",
    "        \n",
    "        return labels\n",
    "# Fit centroids to dataset\n",
    "kmeans = KMeans(n_clusters=centers)\n",
    "kmeans.fit(x_train)\n"
   ],
   "metadata": {
    "collapsed": false
   },
   "id": "3494d9671ff9ab6"
  }
 ],
 "metadata": {
  "kernelspec": {
   "display_name": "Python 3",
   "language": "python",
   "name": "python3"
  },
  "language_info": {
   "codemirror_mode": {
    "name": "ipython",
    "version": 2
   },
   "file_extension": ".py",
   "mimetype": "text/x-python",
   "name": "python",
   "nbconvert_exporter": "python",
   "pygments_lexer": "ipython2",
   "version": "2.7.6"
  }
 },
 "nbformat": 4,
 "nbformat_minor": 5
}
