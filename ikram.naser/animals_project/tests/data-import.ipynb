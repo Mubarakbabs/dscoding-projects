{
 "cells": [
  {
   "cell_type": "code",
   "execution_count": null,
   "id": "initial_id",
   "metadata": {
    "collapsed": true
   },
   "outputs": [],
   "source": [
    "import matplotlib.pyplot as plt\n",
    "\n",
    "path = 'C:\\Users\\admin\\Downloads\\archive.zip'\n",
    "open(path, 'r')\n",
    "\n",
    "file.readlines()\n",
    "\n",
    "file.close()\n",
    "\n",
    "with open(path, 'r') as file:\n",
    "    texts = file.readlines()\n",
    "#open different connection for every file to import\n",
    "with open(path, 'r') as file: #in path you paste the path to that file\n",
    "    \n",
    "with open(path 'r') as file: #in path you paste the path to that file\n",
    "    \n",
    "def import_cisi_data(path):\n",
    "    with open(path, 'r') as file:\n",
    "        data = file.readlines()\n",
    "        return data\n",
    "    \n",
    "import pandas as pd \n",
    "pd.read_csv(path)  # or pd.read_excel(path)\n",
    "#API, software that make communication happening between 2 softwares (i want data from wikipedia)\n",
    "\n",
    "# lecture 3/11 dataviz in python\n",
    "import numpy as np\n",
    "data.relations.groupby('query').count().mean()\n",
    "\n",
    "random_retrieval = {}\n",
    "\n",
    "for query in data.queries['id'].unique():\n",
    "    random_documents = np.random.choice(data.documents['id'], size=41)\n",
    "    random_retrieval[query] = random_documents\n",
    "    \n",
    "#comparing the results\n",
    "for query in random_retrieval:\n",
    "    y_pred =\n",
    "    y_true =\n",
    "   print(len(np.intersect(y_pred, y_true)/len(y_pred))\n",
    "   break\n",
    "#use plotly, seaborn, \n",
    "\n",
    "plt\n",
    "axis --> x, y \n",
    "axes --> \n",
    "\n",
    "fig, ax = plt.subplot()\n",
    "ax.hist(scores)\n",
    "plt.show()"
   ]
  }
 ],
 "metadata": {
  "kernelspec": {
   "display_name": "Python 3",
   "language": "python",
   "name": "python3"
  },
  "language_info": {
   "codemirror_mode": {
    "name": "ipython",
    "version": 2
   },
   "file_extension": ".py",
   "mimetype": "text/x-python",
   "name": "python",
   "nbconvert_exporter": "python",
   "pygments_lexer": "ipython2",
   "version": "2.7.6"
  }
 },
 "nbformat": 4,
 "nbformat_minor": 5
}
