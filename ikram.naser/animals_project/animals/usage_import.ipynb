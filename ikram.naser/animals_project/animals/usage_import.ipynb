{
 "cells": [
  {
   "cell_type": "code",
   "execution_count": 2,
   "outputs": [
    {
     "ename": "ModuleNotFoundError",
     "evalue": "No module named 'animals_project.animals'; 'animals_project' is not a package",
     "output_type": "error",
     "traceback": [
      "\u001B[1;31m---------------------------------------------------------------------------\u001B[0m",
      "\u001B[1;31mModuleNotFoundError\u001B[0m                       Traceback (most recent call last)",
      "Cell \u001B[1;32mIn[2], line 1\u001B[0m\n\u001B[1;32m----> 1\u001B[0m \u001B[38;5;28;01mfrom\u001B[39;00m \u001B[38;5;21;01manimals_project\u001B[39;00m\u001B[38;5;21;01m.\u001B[39;00m\u001B[38;5;21;01manimals\u001B[39;00m\u001B[38;5;21;01m.\u001B[39;00m\u001B[38;5;21;01mfunctions\u001B[39;00m \u001B[38;5;28;01mimport\u001B[39;00m data_import\n\u001B[0;32m      2\u001B[0m importing \u001B[38;5;241m=\u001B[39m data_import()\n\u001B[0;32m      3\u001B[0m importing\u001B[38;5;241m.\u001B[39mimport_zoo()\n",
      "File \u001B[1;32m~\\OneDrive\\Documenti\\GitHub\\dscoding-projects\\dscoding-projects\\ikram.naser\\animals_project\\animals\\animals_project.py:14\u001B[0m\n\u001B[0;32m     11\u001B[0m \u001B[38;5;28;01mfrom\u001B[39;00m \u001B[38;5;21;01msklearn\u001B[39;00m\u001B[38;5;21;01m.\u001B[39;00m\u001B[38;5;21;01mtree\u001B[39;00m \u001B[38;5;28;01mimport\u001B[39;00m DecisionTreeClassifier\n\u001B[0;32m     13\u001B[0m \u001B[38;5;66;03m# importing datasets\u001B[39;00m\n\u001B[1;32m---> 14\u001B[0m \u001B[38;5;28;01mfrom\u001B[39;00m \u001B[38;5;21;01manimals_project\u001B[39;00m\u001B[38;5;21;01m.\u001B[39;00m\u001B[38;5;21;01manimals\u001B[39;00m\u001B[38;5;21;01m.\u001B[39;00m\u001B[38;5;21;01mfunctions\u001B[39;00m \u001B[38;5;28;01mimport\u001B[39;00m data_import\n\u001B[0;32m     15\u001B[0m importing \u001B[38;5;241m=\u001B[39m data_import()\n\u001B[0;32m     16\u001B[0m importing\u001B[38;5;241m.\u001B[39mimport_zoo()\n",
      "\u001B[1;31mModuleNotFoundError\u001B[0m: No module named 'animals_project.animals'; 'animals_project' is not a package"
     ]
    }
   ],
   "source": [
    "from animals_project.animals.functions import data_import\n",
    "importing = data_import()\n",
    "importing.import_zoo()\n",
    "importing.import_class_types()\n"
   ],
   "metadata": {
    "collapsed": false,
    "ExecuteTime": {
     "end_time": "2023-11-22T14:44:26.739588500Z",
     "start_time": "2023-11-22T14:44:25.556120800Z"
    }
   },
   "id": "452138c71af81a92"
  },
  {
   "cell_type": "code",
   "execution_count": 4,
   "outputs": [
    {
     "ename": "ModuleNotFoundError",
     "evalue": "No module named 'animals_project.animals'; 'animals_project' is not a package",
     "output_type": "error",
     "traceback": [
      "\u001B[1;31m---------------------------------------------------------------------------\u001B[0m",
      "\u001B[1;31mModuleNotFoundError\u001B[0m                       Traceback (most recent call last)",
      "Cell \u001B[1;32mIn[4], line 1\u001B[0m\n\u001B[1;32m----> 1\u001B[0m \u001B[38;5;28;01mfrom\u001B[39;00m \u001B[38;5;21;01manimals_project\u001B[39;00m\u001B[38;5;21;01m.\u001B[39;00m\u001B[38;5;21;01manimals\u001B[39;00m\u001B[38;5;21;01m.\u001B[39;00m\u001B[38;5;21;01mfunctions\u001B[39;00m \u001B[38;5;28;01mimport\u001B[39;00m Visualizations\n\u001B[0;32m      2\u001B[0m plot \u001B[38;5;241m=\u001B[39m Visualizations()\n\u001B[0;32m      3\u001B[0m plot\u001B[38;5;241m.\u001B[39mdistribution_plot(animal_classes, n_of_animals)\n",
      "File \u001B[1;32m~\\OneDrive\\Documenti\\GitHub\\dscoding-projects\\dscoding-projects\\ikram.naser\\animals_project\\animals\\animals_project.py:14\u001B[0m\n\u001B[0;32m     11\u001B[0m \u001B[38;5;28;01mfrom\u001B[39;00m \u001B[38;5;21;01msklearn\u001B[39;00m\u001B[38;5;21;01m.\u001B[39;00m\u001B[38;5;21;01mtree\u001B[39;00m \u001B[38;5;28;01mimport\u001B[39;00m DecisionTreeClassifier\n\u001B[0;32m     13\u001B[0m \u001B[38;5;66;03m# importing datasets\u001B[39;00m\n\u001B[1;32m---> 14\u001B[0m \u001B[38;5;28;01mfrom\u001B[39;00m \u001B[38;5;21;01manimals_project\u001B[39;00m\u001B[38;5;21;01m.\u001B[39;00m\u001B[38;5;21;01manimals\u001B[39;00m\u001B[38;5;21;01m.\u001B[39;00m\u001B[38;5;21;01mfunctions\u001B[39;00m \u001B[38;5;28;01mimport\u001B[39;00m data_import\n\u001B[0;32m     15\u001B[0m importing \u001B[38;5;241m=\u001B[39m data_import()\n\u001B[0;32m     16\u001B[0m importing\u001B[38;5;241m.\u001B[39mimport_zoo()\n",
      "\u001B[1;31mModuleNotFoundError\u001B[0m: No module named 'animals_project.animals'; 'animals_project' is not a package"
     ]
    }
   ],
   "source": [
    "from animals_project.animals.functions import Visualizations\n",
    "plot = Visualizations()\n",
    "plot.distribution_plot(animal_classes, n_of_animals)"
   ],
   "metadata": {
    "collapsed": false,
    "ExecuteTime": {
     "end_time": "2023-11-22T14:47:22.972186800Z",
     "start_time": "2023-11-22T14:47:21.971510100Z"
    }
   },
   "id": "365edcbb44125815"
  },
  {
   "cell_type": "code",
   "execution_count": 5,
   "outputs": [
    {
     "ename": "ModuleNotFoundError",
     "evalue": "No module named 'animals_project.animals'; 'animals_project' is not a package",
     "output_type": "error",
     "traceback": [
      "\u001B[1;31m---------------------------------------------------------------------------\u001B[0m",
      "\u001B[1;31mModuleNotFoundError\u001B[0m                       Traceback (most recent call last)",
      "Cell \u001B[1;32mIn[5], line 1\u001B[0m\n\u001B[1;32m----> 1\u001B[0m \u001B[38;5;28;01mfrom\u001B[39;00m \u001B[38;5;21;01manimals_project\u001B[39;00m\u001B[38;5;21;01m.\u001B[39;00m\u001B[38;5;21;01manimals\u001B[39;00m\u001B[38;5;21;01m.\u001B[39;00m\u001B[38;5;21;01mfunctions\u001B[39;00m \u001B[38;5;28;01mimport\u001B[39;00m Visualizations\n\u001B[0;32m      2\u001B[0m plot \u001B[38;5;241m=\u001B[39m Visualizations()\n\u001B[0;32m      3\u001B[0m plot\u001B[38;5;241m.\u001B[39mcorrelation_plot()\n",
      "File \u001B[1;32m~\\OneDrive\\Documenti\\GitHub\\dscoding-projects\\dscoding-projects\\ikram.naser\\animals_project\\animals\\animals_project.py:14\u001B[0m\n\u001B[0;32m     11\u001B[0m \u001B[38;5;28;01mfrom\u001B[39;00m \u001B[38;5;21;01msklearn\u001B[39;00m\u001B[38;5;21;01m.\u001B[39;00m\u001B[38;5;21;01mtree\u001B[39;00m \u001B[38;5;28;01mimport\u001B[39;00m DecisionTreeClassifier\n\u001B[0;32m     13\u001B[0m \u001B[38;5;66;03m# importing datasets\u001B[39;00m\n\u001B[1;32m---> 14\u001B[0m \u001B[38;5;28;01mfrom\u001B[39;00m \u001B[38;5;21;01manimals_project\u001B[39;00m\u001B[38;5;21;01m.\u001B[39;00m\u001B[38;5;21;01manimals\u001B[39;00m\u001B[38;5;21;01m.\u001B[39;00m\u001B[38;5;21;01mfunctions\u001B[39;00m \u001B[38;5;28;01mimport\u001B[39;00m data_import\n\u001B[0;32m     15\u001B[0m importing \u001B[38;5;241m=\u001B[39m data_import()\n\u001B[0;32m     16\u001B[0m importing\u001B[38;5;241m.\u001B[39mimport_zoo()\n",
      "\u001B[1;31mModuleNotFoundError\u001B[0m: No module named 'animals_project.animals'; 'animals_project' is not a package"
     ]
    }
   ],
   "source": [
    "from animals_project.animals.functions import Visualizations\n",
    "plot = Visualizations()\n",
    "plot.correlation_plot()"
   ],
   "metadata": {
    "collapsed": false,
    "ExecuteTime": {
     "end_time": "2023-11-22T14:54:15.496061Z",
     "start_time": "2023-11-22T14:54:14.951454100Z"
    }
   },
   "id": "9e9652e8b20b47ad"
  },
  {
   "cell_type": "code",
   "execution_count": 6,
   "outputs": [
    {
     "ename": "ModuleNotFoundError",
     "evalue": "No module named 'animals_project.animals'; 'animals_project' is not a package",
     "output_type": "error",
     "traceback": [
      "\u001B[1;31m---------------------------------------------------------------------------\u001B[0m",
      "\u001B[1;31mModuleNotFoundError\u001B[0m                       Traceback (most recent call last)",
      "Cell \u001B[1;32mIn[6], line 1\u001B[0m\n\u001B[1;32m----> 1\u001B[0m \u001B[38;5;28;01mfrom\u001B[39;00m \u001B[38;5;21;01manimals_project\u001B[39;00m\u001B[38;5;21;01m.\u001B[39;00m\u001B[38;5;21;01manimals\u001B[39;00m\u001B[38;5;21;01m.\u001B[39;00m\u001B[38;5;21;01mfunctions\u001B[39;00m \u001B[38;5;28;01mimport\u001B[39;00m Visualizations\n\u001B[0;32m      2\u001B[0m plot \u001B[38;5;241m=\u001B[39m Visualizations()\n\u001B[0;32m      3\u001B[0m plot\u001B[38;5;241m.\u001B[39melbow_plot()\n",
      "File \u001B[1;32m~\\OneDrive\\Documenti\\GitHub\\dscoding-projects\\dscoding-projects\\ikram.naser\\animals_project\\animals\\animals_project.py:14\u001B[0m\n\u001B[0;32m     11\u001B[0m \u001B[38;5;28;01mfrom\u001B[39;00m \u001B[38;5;21;01msklearn\u001B[39;00m\u001B[38;5;21;01m.\u001B[39;00m\u001B[38;5;21;01mtree\u001B[39;00m \u001B[38;5;28;01mimport\u001B[39;00m DecisionTreeClassifier\n\u001B[0;32m     13\u001B[0m \u001B[38;5;66;03m# importing datasets\u001B[39;00m\n\u001B[1;32m---> 14\u001B[0m \u001B[38;5;28;01mfrom\u001B[39;00m \u001B[38;5;21;01manimals_project\u001B[39;00m\u001B[38;5;21;01m.\u001B[39;00m\u001B[38;5;21;01manimals\u001B[39;00m\u001B[38;5;21;01m.\u001B[39;00m\u001B[38;5;21;01mfunctions\u001B[39;00m \u001B[38;5;28;01mimport\u001B[39;00m data_import\n\u001B[0;32m     15\u001B[0m importing \u001B[38;5;241m=\u001B[39m data_import()\n\u001B[0;32m     16\u001B[0m importing\u001B[38;5;241m.\u001B[39mimport_zoo()\n",
      "\u001B[1;31mModuleNotFoundError\u001B[0m: No module named 'animals_project.animals'; 'animals_project' is not a package"
     ]
    }
   ],
   "source": [
    "from animals_project.animals.functions import Visualizations\n",
    "plot = Visualizations()\n",
    "plot.elbow_plot()"
   ],
   "metadata": {
    "collapsed": false,
    "ExecuteTime": {
     "end_time": "2023-11-22T14:54:19.879343600Z",
     "start_time": "2023-11-22T14:54:18.573510600Z"
    }
   },
   "id": "77bc1c427a903da5"
  },
  {
   "cell_type": "code",
   "execution_count": 7,
   "outputs": [
    {
     "ename": "ModuleNotFoundError",
     "evalue": "No module named 'animals_project.animals'; 'animals_project' is not a package",
     "output_type": "error",
     "traceback": [
      "\u001B[1;31m---------------------------------------------------------------------------\u001B[0m",
      "\u001B[1;31mModuleNotFoundError\u001B[0m                       Traceback (most recent call last)",
      "Cell \u001B[1;32mIn[7], line 1\u001B[0m\n\u001B[1;32m----> 1\u001B[0m \u001B[38;5;28;01mfrom\u001B[39;00m \u001B[38;5;21;01manimals_project\u001B[39;00m\u001B[38;5;21;01m.\u001B[39;00m\u001B[38;5;21;01manimals\u001B[39;00m\u001B[38;5;21;01m.\u001B[39;00m\u001B[38;5;21;01mfunctions\u001B[39;00m \u001B[38;5;28;01mimport\u001B[39;00m kmeans\n\u001B[0;32m      2\u001B[0m kmeans()\n",
      "File \u001B[1;32m~\\OneDrive\\Documenti\\GitHub\\dscoding-projects\\dscoding-projects\\ikram.naser\\animals_project\\animals\\animals_project.py:14\u001B[0m\n\u001B[0;32m     11\u001B[0m \u001B[38;5;28;01mfrom\u001B[39;00m \u001B[38;5;21;01msklearn\u001B[39;00m\u001B[38;5;21;01m.\u001B[39;00m\u001B[38;5;21;01mtree\u001B[39;00m \u001B[38;5;28;01mimport\u001B[39;00m DecisionTreeClassifier\n\u001B[0;32m     13\u001B[0m \u001B[38;5;66;03m# importing datasets\u001B[39;00m\n\u001B[1;32m---> 14\u001B[0m \u001B[38;5;28;01mfrom\u001B[39;00m \u001B[38;5;21;01manimals_project\u001B[39;00m\u001B[38;5;21;01m.\u001B[39;00m\u001B[38;5;21;01manimals\u001B[39;00m\u001B[38;5;21;01m.\u001B[39;00m\u001B[38;5;21;01mfunctions\u001B[39;00m \u001B[38;5;28;01mimport\u001B[39;00m data_import\n\u001B[0;32m     15\u001B[0m importing \u001B[38;5;241m=\u001B[39m data_import()\n\u001B[0;32m     16\u001B[0m importing\u001B[38;5;241m.\u001B[39mimport_zoo()\n",
      "\u001B[1;31mModuleNotFoundError\u001B[0m: No module named 'animals_project.animals'; 'animals_project' is not a package"
     ]
    }
   ],
   "source": [
    "from animals_project.animals.functions import kmeans\n",
    "kmeans()"
   ],
   "metadata": {
    "collapsed": false,
    "ExecuteTime": {
     "end_time": "2023-11-22T14:54:24.974317500Z",
     "start_time": "2023-11-22T14:54:22.260323600Z"
    }
   },
   "id": "27fe7a4d9a442c9d"
  },
  {
   "cell_type": "code",
   "execution_count": null,
   "outputs": [],
   "source": [],
   "metadata": {
    "collapsed": false
   },
   "id": "90855c26278055f9"
  }
 ],
 "metadata": {
  "kernelspec": {
   "display_name": "Python 3",
   "language": "python",
   "name": "python3"
  },
  "language_info": {
   "codemirror_mode": {
    "name": "ipython",
    "version": 2
   },
   "file_extension": ".py",
   "mimetype": "text/x-python",
   "name": "python",
   "nbconvert_exporter": "python",
   "pygments_lexer": "ipython2",
   "version": "2.7.6"
  }
 },
 "nbformat": 4,
 "nbformat_minor": 5
}
