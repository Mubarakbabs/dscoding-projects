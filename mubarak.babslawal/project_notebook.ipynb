{
 "cells": [
  {
   "cell_type": "code",
   "execution_count": 1,
   "metadata": {},
   "outputs": [
    {
     "name": "stdout",
     "output_type": "stream",
     "text": [
      "Note: you may need to restart the kernel to use updated packages.\n"
     ]
    },
    {
     "name": "stderr",
     "output_type": "stream",
     "text": [
      "\n",
      "[notice] A new release of pip is available: 23.1.2 -> 23.3.1\n",
      "[notice] To update, run: python.exe -m pip install --upgrade pip\n"
     ]
    },
    {
     "name": "stdout",
     "output_type": "stream",
     "text": [
      "Requirement already satisfied: scikit_learn in c:\\users\\mubarak babslawal\\appdata\\local\\programs\\python\\python311\\lib\\site-packages (1.3.2)\n",
      "Requirement already satisfied: numpy<2.0,>=1.17.3 in c:\\users\\mubarak babslawal\\appdata\\local\\programs\\python\\python311\\lib\\site-packages (from scikit_learn) (1.25.2)\n",
      "Requirement already satisfied: scipy>=1.5.0 in c:\\users\\mubarak babslawal\\appdata\\local\\programs\\python\\python311\\lib\\site-packages (from scikit_learn) (1.11.4)\n",
      "Requirement already satisfied: joblib>=1.1.1 in c:\\users\\mubarak babslawal\\appdata\\local\\programs\\python\\python311\\lib\\site-packages (from scikit_learn) (1.3.2)\n",
      "Requirement already satisfied: threadpoolctl>=2.0.0 in c:\\users\\mubarak babslawal\\appdata\\local\\programs\\python\\python311\\lib\\site-packages (from scikit_learn) (3.2.0)\n"
     ]
    }
   ],
   "source": [
    "%pip install scikit_learn\n"
   ]
  },
  {
   "cell_type": "code",
   "execution_count": 7,
   "metadata": {},
   "outputs": [],
   "source": [
    "import pandas as pd\n",
    "import numpy as np\n",
    "import seaborn as sns\n",
    "import matplotlib.pyplot as plt\n",
    "import streamlit as st\n",
    "\n"
   ]
  },
  {
   "cell_type": "code",
   "execution_count": 4,
   "metadata": {},
   "outputs": [
    {
     "name": "stdout",
     "output_type": "stream",
     "text": [
      "^C\n",
      "Note: you may need to restart the kernel to use updated packages.\n",
      "Requirement already satisfied: scikit_learn in c:\\users\\mubarak babslawal\\appdata\\local\\programs\\python\\python311\\lib\\site-packages (1.3.2)\n",
      "Requirement already satisfied: numpy<2.0,>=1.17.3 in c:\\users\\mubarak babslawal\\appdata\\local\\programs\\python\\python311\\lib\\site-packages (from scikit_learn) (1.25.2)\n",
      "Requirement already satisfied: scipy>=1.5.0 in c:\\users\\mubarak babslawal\\appdata\\local\\programs\\python\\python311\\lib\\site-packages (from scikit_learn) (1.11.4)\n",
      "Requirement already satisfied: joblib>=1.1.1 in c:\\users\\mubarak babslawal\\appdata\\local\\programs\\python\\python311\\lib\\site-packages (from scikit_learn) (1.3.2)\n",
      "Requirement already satisfied: threadpoolctl>=2.0.0 in c:\\users\\mubarak babslawal\\appdata\\local\\programs\\python\\python311\\lib\\site-packages (from scikit_learn) (3.2.0)\n",
      "Note: you may need to restart the kernel to use updated packages.\n"
     ]
    },
    {
     "name": "stderr",
     "output_type": "stream",
     "text": [
      "\n",
      "[notice] A new release of pip is available: 23.1.2 -> 23.3.1\n",
      "[notice] To update, run: python.exe -m pip install --upgrade pip\n"
     ]
    },
    {
     "ename": "ModuleNotFoundError",
     "evalue": "No module named 'scikit_learn'",
     "output_type": "error",
     "traceback": [
      "\u001b[1;31m---------------------------------------------------------------------------\u001b[0m",
      "\u001b[1;31mModuleNotFoundError\u001b[0m                       Traceback (most recent call last)",
      "\u001b[1;32mc:\\Users\\Mubarak Babslawal\\Documents\\UniMi\\Coding for Data Science\\mubarak.babslawal\\mubarak.babslawal\\project_notebook.ipynb Cell 3\u001b[0m line \u001b[0;36m3\n\u001b[0;32m      <a href='vscode-notebook-cell:/c%3A/Users/Mubarak%20Babslawal/Documents/UniMi/Coding%20for%20Data%20Science/mubarak.babslawal/mubarak.babslawal/project_notebook.ipynb#W2sZmlsZQ%3D%3D?line=0'>1</a>\u001b[0m get_ipython()\u001b[39m.\u001b[39mrun_line_magic(\u001b[39m'\u001b[39m\u001b[39mpip\u001b[39m\u001b[39m'\u001b[39m, \u001b[39m'\u001b[39m\u001b[39muninstall scikit_learn\u001b[39m\u001b[39m'\u001b[39m)\n\u001b[0;32m      <a href='vscode-notebook-cell:/c%3A/Users/Mubarak%20Babslawal/Documents/UniMi/Coding%20for%20Data%20Science/mubarak.babslawal/mubarak.babslawal/project_notebook.ipynb#W2sZmlsZQ%3D%3D?line=1'>2</a>\u001b[0m get_ipython()\u001b[39m.\u001b[39mrun_line_magic(\u001b[39m'\u001b[39m\u001b[39mpip\u001b[39m\u001b[39m'\u001b[39m, \u001b[39m'\u001b[39m\u001b[39minstall scikit_learn\u001b[39m\u001b[39m'\u001b[39m)\n\u001b[1;32m----> <a href='vscode-notebook-cell:/c%3A/Users/Mubarak%20Babslawal/Documents/UniMi/Coding%20for%20Data%20Science/mubarak.babslawal/mubarak.babslawal/project_notebook.ipynb#W2sZmlsZQ%3D%3D?line=2'>3</a>\u001b[0m \u001b[39mimport\u001b[39;00m \u001b[39mscikit_learn\u001b[39;00m \u001b[39mas\u001b[39;00m \u001b[39msklearn\u001b[39;00m\n",
      "\u001b[1;31mModuleNotFoundError\u001b[0m: No module named 'scikit_learn'"
     ]
    }
   ],
   "source": [
    "%pip uninstall scikit_learn\n",
    "%pip install scikit_learn\n",
    "import scikit_learn as sklearn"
   ]
  },
  {
   "cell_type": "code",
   "execution_count": 5,
   "metadata": {},
   "outputs": [
    {
     "data": {
      "application/javascript": "\n        if (window._pyforest_update_imports_cell) { window._pyforest_update_imports_cell('import pandas as pd'); }\n    ",
      "text/plain": [
       "<IPython.core.display.Javascript object>"
      ]
     },
     "metadata": {},
     "output_type": "display_data"
    },
    {
     "data": {
      "application/javascript": "\n        if (window._pyforest_update_imports_cell) { window._pyforest_update_imports_cell('import pandas as pd'); }\n    ",
      "text/plain": [
       "<IPython.core.display.Javascript object>"
      ]
     },
     "metadata": {},
     "output_type": "display_data"
    },
    {
     "data": {
      "application/javascript": "\n        if (window._pyforest_update_imports_cell) { window._pyforest_update_imports_cell('import pandas as pd'); }\n    ",
      "text/plain": [
       "<IPython.core.display.Javascript object>"
      ]
     },
     "metadata": {},
     "output_type": "display_data"
    }
   ],
   "source": [
    "# Read in the data\n",
    "guests = pd.read_csv('data/guests.csv')\n",
    "hotels = pd.read_csv('data/hotels.csv')\n",
    "preferences = pd.read_csv('data/preferences.csv')"
   ]
  },
  {
   "cell_type": "code",
   "execution_count": 118,
   "metadata": {},
   "outputs": [
    {
     "data": {
      "application/javascript": "\n        if (window._pyforest_update_imports_cell) { window._pyforest_update_imports_cell('import pandas as pd\\nimport numpy as np'); }\n    ",
      "text/plain": [
       "<IPython.core.display.Javascript object>"
      ]
     },
     "metadata": {},
     "output_type": "display_data"
    },
    {
     "data": {
      "application/javascript": "\n        if (window._pyforest_update_imports_cell) { window._pyforest_update_imports_cell('import pandas as pd\\nimport numpy as np'); }\n    ",
      "text/plain": [
       "<IPython.core.display.Javascript object>"
      ]
     },
     "metadata": {},
     "output_type": "display_data"
    },
    {
     "data": {
      "application/javascript": "\n        if (window._pyforest_update_imports_cell) { window._pyforest_update_imports_cell('import pandas as pd\\nimport numpy as np'); }\n    ",
      "text/plain": [
       "<IPython.core.display.Javascript object>"
      ]
     },
     "metadata": {},
     "output_type": "display_data"
    }
   ],
   "source": [
    "#random assignment of rooms to guests\n",
    "reps = hotels['rooms']\n",
    "hotel_no = hotels['hotel']\n",
    "#create new dataframe with repeated values\n",
    "repeated = pd.DataFrame(hotel_no.loc[np.repeat(hotel_no.index.values, reps)])\n",
    "#assign room numbers to repeated values\n",
    "repeated['room_number'] = repeated.groupby(repeated.columns.tolist()).cumcount() + 1\n",
    "#reset index so each room has a unique id\n",
    "repeated.reset_index(drop=True, inplace=True)\n",
    "import random\n",
    "#shuffle the room numbers\n",
    "room_no = repeated.index.values\n",
    "random.shuffle(room_no)\n",
    "#assign the shuffled room numbers to the guests\n",
    "random_guests = pd.concat([guests, repeated.iloc[room_no]], axis=1)\n",
    "random_guests = random_guests.iloc[0:len(guests),:]"
   ]
  },
  {
   "cell_type": "markdown",
   "metadata": {},
   "source": [
    "customer preference: customers are served in order of reservation (the customer number indicates the order) and are allocated to the hotel based on their preference, until the seats or customers are exhausted;\n",
    "price: the places in the hotel are distributed in order of price, starting with the cheapest hotel and following in order of reservation and preference until the places or customers are exhausted;\n",
    "availability: places in hotels are distributed in order of room availability, starting with the most roomy hotel and subordinately in order of reservation and preference until places or clients are exhausted."
   ]
  },
  {
   "cell_type": "code",
   "execution_count": 137,
   "metadata": {},
   "outputs": [
    {
     "name": "stdout",
     "output_type": "stream",
     "text": [
      "guest_1\n",
      "guest_2\n"
     ]
    }
   ],
   "source": [
    "guest_test = guests.iloc[0:2,:]\n",
    "for index, guest in guest_test.iterrows():\n",
    "    print(guest[0])"
   ]
  },
  {
   "cell_type": "code",
   "execution_count": 167,
   "metadata": {},
   "outputs": [
    {
     "data": {
      "text/html": [
       "<div>\n",
       "<style scoped>\n",
       "    .dataframe tbody tr th:only-of-type {\n",
       "        vertical-align: middle;\n",
       "    }\n",
       "\n",
       "    .dataframe tbody tr th {\n",
       "        vertical-align: top;\n",
       "    }\n",
       "\n",
       "    .dataframe thead th {\n",
       "        text-align: right;\n",
       "    }\n",
       "</style>\n",
       "<table border=\"1\" class=\"dataframe\">\n",
       "  <thead>\n",
       "    <tr style=\"text-align: right;\">\n",
       "      <th></th>\n",
       "      <th>Unnamed: 0</th>\n",
       "      <th>guest</th>\n",
       "      <th>hotel</th>\n",
       "      <th>priority</th>\n",
       "    </tr>\n",
       "  </thead>\n",
       "  <tbody>\n",
       "    <tr>\n",
       "      <th>0</th>\n",
       "      <td>0</td>\n",
       "      <td>guest_1</td>\n",
       "      <td>hotel_168</td>\n",
       "      <td>1</td>\n",
       "    </tr>\n",
       "    <tr>\n",
       "      <th>1</th>\n",
       "      <td>1</td>\n",
       "      <td>guest_1</td>\n",
       "      <td>hotel_207</td>\n",
       "      <td>2</td>\n",
       "    </tr>\n",
       "    <tr>\n",
       "      <th>2</th>\n",
       "      <td>2</td>\n",
       "      <td>guest_1</td>\n",
       "      <td>hotel_222</td>\n",
       "      <td>3</td>\n",
       "    </tr>\n",
       "    <tr>\n",
       "      <th>3</th>\n",
       "      <td>3</td>\n",
       "      <td>guest_1</td>\n",
       "      <td>hotel_124</td>\n",
       "      <td>4</td>\n",
       "    </tr>\n",
       "    <tr>\n",
       "      <th>4</th>\n",
       "      <td>4</td>\n",
       "      <td>guest_1</td>\n",
       "      <td>hotel_223</td>\n",
       "      <td>5</td>\n",
       "    </tr>\n",
       "    <tr>\n",
       "      <th>5</th>\n",
       "      <td>5</td>\n",
       "      <td>guest_1</td>\n",
       "      <td>hotel_297</td>\n",
       "      <td>6</td>\n",
       "    </tr>\n",
       "    <tr>\n",
       "      <th>6</th>\n",
       "      <td>6</td>\n",
       "      <td>guest_1</td>\n",
       "      <td>hotel_129</td>\n",
       "      <td>7</td>\n",
       "    </tr>\n",
       "    <tr>\n",
       "      <th>7</th>\n",
       "      <td>7</td>\n",
       "      <td>guest_1</td>\n",
       "      <td>hotel_12</td>\n",
       "      <td>8</td>\n",
       "    </tr>\n",
       "    <tr>\n",
       "      <th>8</th>\n",
       "      <td>8</td>\n",
       "      <td>guest_1</td>\n",
       "      <td>hotel_1</td>\n",
       "      <td>9</td>\n",
       "    </tr>\n",
       "    <tr>\n",
       "      <th>9</th>\n",
       "      <td>9</td>\n",
       "      <td>guest_1</td>\n",
       "      <td>hotel_129</td>\n",
       "      <td>10</td>\n",
       "    </tr>\n",
       "    <tr>\n",
       "      <th>10</th>\n",
       "      <td>10</td>\n",
       "      <td>guest_1</td>\n",
       "      <td>hotel_46</td>\n",
       "      <td>11</td>\n",
       "    </tr>\n",
       "    <tr>\n",
       "      <th>11</th>\n",
       "      <td>11</td>\n",
       "      <td>guest_1</td>\n",
       "      <td>hotel_343</td>\n",
       "      <td>12</td>\n",
       "    </tr>\n",
       "    <tr>\n",
       "      <th>12</th>\n",
       "      <td>12</td>\n",
       "      <td>guest_1</td>\n",
       "      <td>hotel_338</td>\n",
       "      <td>13</td>\n",
       "    </tr>\n",
       "    <tr>\n",
       "      <th>13</th>\n",
       "      <td>13</td>\n",
       "      <td>guest_1</td>\n",
       "      <td>hotel_90</td>\n",
       "      <td>14</td>\n",
       "    </tr>\n",
       "    <tr>\n",
       "      <th>14</th>\n",
       "      <td>14</td>\n",
       "      <td>guest_1</td>\n",
       "      <td>hotel_269</td>\n",
       "      <td>15</td>\n",
       "    </tr>\n",
       "    <tr>\n",
       "      <th>15</th>\n",
       "      <td>15</td>\n",
       "      <td>guest_1</td>\n",
       "      <td>hotel_237</td>\n",
       "      <td>16</td>\n",
       "    </tr>\n",
       "    <tr>\n",
       "      <th>16</th>\n",
       "      <td>16</td>\n",
       "      <td>guest_1</td>\n",
       "      <td>hotel_22</td>\n",
       "      <td>17</td>\n",
       "    </tr>\n",
       "    <tr>\n",
       "      <th>17</th>\n",
       "      <td>17</td>\n",
       "      <td>guest_1</td>\n",
       "      <td>hotel_97</td>\n",
       "      <td>18</td>\n",
       "    </tr>\n",
       "  </tbody>\n",
       "</table>\n",
       "</div>"
      ],
      "text/plain": [
       "    Unnamed: 0    guest      hotel  priority\n",
       "0            0  guest_1  hotel_168         1\n",
       "1            1  guest_1  hotel_207         2\n",
       "2            2  guest_1  hotel_222         3\n",
       "3            3  guest_1  hotel_124         4\n",
       "4            4  guest_1  hotel_223         5\n",
       "5            5  guest_1  hotel_297         6\n",
       "6            6  guest_1  hotel_129         7\n",
       "7            7  guest_1   hotel_12         8\n",
       "8            8  guest_1    hotel_1         9\n",
       "9            9  guest_1  hotel_129        10\n",
       "10          10  guest_1   hotel_46        11\n",
       "11          11  guest_1  hotel_343        12\n",
       "12          12  guest_1  hotel_338        13\n",
       "13          13  guest_1   hotel_90        14\n",
       "14          14  guest_1  hotel_269        15\n",
       "15          15  guest_1  hotel_237        16\n",
       "16          16  guest_1   hotel_22        17\n",
       "17          17  guest_1   hotel_97        18"
      ]
     },
     "execution_count": 167,
     "metadata": {},
     "output_type": "execute_result"
    }
   ],
   "source": [
    "preferences[preferences['guest']=='guest_1']"
   ]
  },
  {
   "cell_type": "code",
   "execution_count": 142,
   "metadata": {},
   "outputs": [
    {
     "data": {
      "text/plain": [
       "13"
      ]
     },
     "execution_count": 142,
     "metadata": {},
     "output_type": "execute_result"
    }
   ],
   "source": [
    "hotels['rooms'][hotels['hotel']=='hotel_1'].iloc[0]"
   ]
  },
  {
   "cell_type": "code",
   "execution_count": 164,
   "metadata": {},
   "outputs": [],
   "source": [
    "guest_test = guests.iloc[0:2,:]\n",
    "\n",
    "for index, guest in guest_test.iterrows():\n",
    "    guest = guest[0]\n",
    "    #assigned_room = pd.Data\n",
    "    # Check their preferences\n",
    "    for index, preference in preferences[preferences['guest']==guest].iterrows():\n",
    "        preference = preference[2]\n",
    "        # Check if the preference is available\n",
    "        if assigned_rooms['room'][assigned_rooms['room']==preference].count() < hotels['rooms'][hotels['hotel']==preference].iloc[0]:\n",
    "            assigned_rooms=assigned_rooms._append({'guest': guest, 'room': preference}, ignore_index=True)\n",
    "            break\n",
    "        else:\n",
    "            assigned_rooms=assigned_rooms._append({'guest': guest, 'room': 'NA'}, ignore_index=True)\n",
    "available_rooms = repeated['hotel'][hotels['rooms'] > assigned_rooms['room'][assigned_rooms.room == repeated['hotel']].count()]\n",
    "for index, guest in assigned_rooms[assigned_rooms['room']=='NA'].iterrows():\n",
    "    guest = guest[0]\n",
    "    \n",
    "    #assigned_room = pd.Data\n",
    "    # Check their preferences\n",
    "    for ind, preference in preferences[preferences['guest']==guest].iterrows():\n",
    "        preference = preference[2]\n",
    "        # Check if the preference is available\n",
    "        if assigned_rooms['room'][assigned_rooms['room']==preference].count() < hotels['rooms'][hotels['hotel']==preference].iloc[0]:\n",
    "            assigned_rooms=assigned_rooms._append({'guest': guest, 'room': preference}, ignore_index=True)\n",
    "            break\n",
    "        else:\n",
    "            assigned_rooms=assigned_rooms._append({'guest': guest, 'room': 'NA'}, ignore_index=True)"
   ]
  },
  {
   "cell_type": "code",
   "execution_count": 173,
   "metadata": {},
   "outputs": [
    {
     "ename": "ValueError",
     "evalue": "Can only compare identically-labeled Series objects",
     "output_type": "error",
     "traceback": [
      "\u001b[1;31m---------------------------------------------------------------------------\u001b[0m",
      "\u001b[1;31mValueError\u001b[0m                                Traceback (most recent call last)",
      "\u001b[1;32mc:\\Users\\Mubarak Babslawal\\Documents\\UniMi\\Coding for Data Science\\mubarak.babslawal\\mubarak.babslawal\\project_notebook.ipynb Cell 11\u001b[0m line \u001b[0;36m2\n\u001b[0;32m      <a href='vscode-notebook-cell:/c%3A/Users/Mubarak%20Babslawal/Documents/UniMi/Coding%20for%20Data%20Science/mubarak.babslawal/mubarak.babslawal/project_notebook.ipynb#X41sZmlsZQ%3D%3D?line=0'>1</a>\u001b[0m available_rooms \u001b[39m=\u001b[39m hotels\u001b[39m.\u001b[39mcopy()\n\u001b[1;32m----> <a href='vscode-notebook-cell:/c%3A/Users/Mubarak%20Babslawal/Documents/UniMi/Coding%20for%20Data%20Science/mubarak.babslawal/mubarak.babslawal/project_notebook.ipynb#X41sZmlsZQ%3D%3D?line=1'>2</a>\u001b[0m available_rooms[\u001b[39m'\u001b[39m\u001b[39mrooms\u001b[39m\u001b[39m'\u001b[39m] \u001b[39m=\u001b[39m available_rooms[\u001b[39m'\u001b[39m\u001b[39mrooms\u001b[39m\u001b[39m'\u001b[39m] \u001b[39m-\u001b[39m assigned_rooms[\u001b[39m'\u001b[39m\u001b[39mroom\u001b[39m\u001b[39m'\u001b[39m][assigned_rooms\u001b[39m.\u001b[39;49mroom \u001b[39m==\u001b[39;49m available_rooms[\u001b[39m'\u001b[39;49m\u001b[39mhotel\u001b[39;49m\u001b[39m'\u001b[39;49m]]\u001b[39m.\u001b[39mcount()\n\u001b[0;32m      <a href='vscode-notebook-cell:/c%3A/Users/Mubarak%20Babslawal/Documents/UniMi/Coding%20for%20Data%20Science/mubarak.babslawal/mubarak.babslawal/project_notebook.ipynb#X41sZmlsZQ%3D%3D?line=2'>3</a>\u001b[0m available_rooms \u001b[39m=\u001b[39m available_rooms[available_rooms[\u001b[39m'\u001b[39m\u001b[39mrooms\u001b[39m\u001b[39m'\u001b[39m] \u001b[39m>\u001b[39m \u001b[39m0\u001b[39m]\n\u001b[0;32m      <a href='vscode-notebook-cell:/c%3A/Users/Mubarak%20Babslawal/Documents/UniMi/Coding%20for%20Data%20Science/mubarak.babslawal/mubarak.babslawal/project_notebook.ipynb#X41sZmlsZQ%3D%3D?line=3'>4</a>\u001b[0m available_rooms\n",
      "File \u001b[1;32mc:\\Users\\Mubarak Babslawal\\AppData\\Local\\Programs\\Python\\Python311\\Lib\\site-packages\\pandas\\core\\ops\\common.py:81\u001b[0m, in \u001b[0;36m_unpack_zerodim_and_defer.<locals>.new_method\u001b[1;34m(self, other)\u001b[0m\n\u001b[0;32m     77\u001b[0m             \u001b[39mreturn\u001b[39;00m \u001b[39mNotImplemented\u001b[39m\n\u001b[0;32m     79\u001b[0m other \u001b[39m=\u001b[39m item_from_zerodim(other)\n\u001b[1;32m---> 81\u001b[0m \u001b[39mreturn\u001b[39;00m method(\u001b[39mself\u001b[39;49m, other)\n",
      "File \u001b[1;32mc:\\Users\\Mubarak Babslawal\\AppData\\Local\\Programs\\Python\\Python311\\Lib\\site-packages\\pandas\\core\\arraylike.py:40\u001b[0m, in \u001b[0;36mOpsMixin.__eq__\u001b[1;34m(self, other)\u001b[0m\n\u001b[0;32m     38\u001b[0m \u001b[39m@unpack_zerodim_and_defer\u001b[39m(\u001b[39m\"\u001b[39m\u001b[39m__eq__\u001b[39m\u001b[39m\"\u001b[39m)\n\u001b[0;32m     39\u001b[0m \u001b[39mdef\u001b[39;00m \u001b[39m__eq__\u001b[39m(\u001b[39mself\u001b[39m, other):\n\u001b[1;32m---> 40\u001b[0m     \u001b[39mreturn\u001b[39;00m \u001b[39mself\u001b[39;49m\u001b[39m.\u001b[39;49m_cmp_method(other, operator\u001b[39m.\u001b[39;49meq)\n",
      "File \u001b[1;32mc:\\Users\\Mubarak Babslawal\\AppData\\Local\\Programs\\Python\\Python311\\Lib\\site-packages\\pandas\\core\\series.py:6090\u001b[0m, in \u001b[0;36mSeries._cmp_method\u001b[1;34m(self, other, op)\u001b[0m\n\u001b[0;32m   6087\u001b[0m res_name \u001b[39m=\u001b[39m ops\u001b[39m.\u001b[39mget_op_result_name(\u001b[39mself\u001b[39m, other)\n\u001b[0;32m   6089\u001b[0m \u001b[39mif\u001b[39;00m \u001b[39misinstance\u001b[39m(other, Series) \u001b[39mand\u001b[39;00m \u001b[39mnot\u001b[39;00m \u001b[39mself\u001b[39m\u001b[39m.\u001b[39m_indexed_same(other):\n\u001b[1;32m-> 6090\u001b[0m     \u001b[39mraise\u001b[39;00m \u001b[39mValueError\u001b[39;00m(\u001b[39m\"\u001b[39m\u001b[39mCan only compare identically-labeled Series objects\u001b[39m\u001b[39m\"\u001b[39m)\n\u001b[0;32m   6092\u001b[0m lvalues \u001b[39m=\u001b[39m \u001b[39mself\u001b[39m\u001b[39m.\u001b[39m_values\n\u001b[0;32m   6093\u001b[0m rvalues \u001b[39m=\u001b[39m extract_array(other, extract_numpy\u001b[39m=\u001b[39m\u001b[39mTrue\u001b[39;00m, extract_range\u001b[39m=\u001b[39m\u001b[39mTrue\u001b[39;00m)\n",
      "\u001b[1;31mValueError\u001b[0m: Can only compare identically-labeled Series objects"
     ]
    }
   ],
   "source": [
    "available_rooms = hotels.copy()\n",
    "available_rooms['rooms'] = available_rooms['rooms'] - assigned_rooms['room'][assigned_rooms.room == available_rooms['hotel']].count()\n",
    "available_rooms = available_rooms[available_rooms['rooms'] > 0]\n",
    "available_rooms"
   ]
  },
  {
   "cell_type": "code",
   "execution_count": 175,
   "metadata": {},
   "outputs": [
    {
     "data": {
      "text/html": [
       "<div>\n",
       "<style scoped>\n",
       "    .dataframe tbody tr th:only-of-type {\n",
       "        vertical-align: middle;\n",
       "    }\n",
       "\n",
       "    .dataframe tbody tr th {\n",
       "        vertical-align: top;\n",
       "    }\n",
       "\n",
       "    .dataframe thead th {\n",
       "        text-align: right;\n",
       "    }\n",
       "</style>\n",
       "<table border=\"1\" class=\"dataframe\">\n",
       "  <thead>\n",
       "    <tr style=\"text-align: right;\">\n",
       "      <th></th>\n",
       "      <th>guest</th>\n",
       "      <th>room</th>\n",
       "    </tr>\n",
       "  </thead>\n",
       "  <tbody>\n",
       "  </tbody>\n",
       "</table>\n",
       "</div>"
      ],
      "text/plain": [
       "Empty DataFrame\n",
       "Columns: [guest, room]\n",
       "Index: []"
      ]
     },
     "execution_count": 175,
     "metadata": {},
     "output_type": "execute_result"
    }
   ],
   "source": [
    "assigned_rooms[assigned_rooms['room']==available_rooms['hotel']]"
   ]
  },
  {
   "cell_type": "code",
   "execution_count": 127,
   "metadata": {},
   "outputs": [
    {
     "ename": "KeyError",
     "evalue": "'hotel'",
     "output_type": "error",
     "traceback": [
      "\u001b[1;31m---------------------------------------------------------------------------\u001b[0m",
      "\u001b[1;31mKeyError\u001b[0m                                  Traceback (most recent call last)",
      "File \u001b[1;32mc:\\Users\\Mubarak Babslawal\\AppData\\Local\\Programs\\Python\\Python311\\Lib\\site-packages\\pandas\\core\\indexes\\base.py:3653\u001b[0m, in \u001b[0;36mIndex.get_loc\u001b[1;34m(self, key)\u001b[0m\n\u001b[0;32m   3652\u001b[0m \u001b[39mtry\u001b[39;00m:\n\u001b[1;32m-> 3653\u001b[0m     \u001b[39mreturn\u001b[39;00m \u001b[39mself\u001b[39;49m\u001b[39m.\u001b[39;49m_engine\u001b[39m.\u001b[39;49mget_loc(casted_key)\n\u001b[0;32m   3654\u001b[0m \u001b[39mexcept\u001b[39;00m \u001b[39mKeyError\u001b[39;00m \u001b[39mas\u001b[39;00m err:\n",
      "File \u001b[1;32mc:\\Users\\Mubarak Babslawal\\AppData\\Local\\Programs\\Python\\Python311\\Lib\\site-packages\\pandas\\_libs\\index.pyx:147\u001b[0m, in \u001b[0;36mpandas._libs.index.IndexEngine.get_loc\u001b[1;34m()\u001b[0m\n",
      "File \u001b[1;32mc:\\Users\\Mubarak Babslawal\\AppData\\Local\\Programs\\Python\\Python311\\Lib\\site-packages\\pandas\\_libs\\index.pyx:176\u001b[0m, in \u001b[0;36mpandas._libs.index.IndexEngine.get_loc\u001b[1;34m()\u001b[0m\n",
      "File \u001b[1;32mpandas\\_libs\\hashtable_class_helper.pxi:7080\u001b[0m, in \u001b[0;36mpandas._libs.hashtable.PyObjectHashTable.get_item\u001b[1;34m()\u001b[0m\n",
      "File \u001b[1;32mpandas\\_libs\\hashtable_class_helper.pxi:7088\u001b[0m, in \u001b[0;36mpandas._libs.hashtable.PyObjectHashTable.get_item\u001b[1;34m()\u001b[0m\n",
      "\u001b[1;31mKeyError\u001b[0m: 'hotel'",
      "\nThe above exception was the direct cause of the following exception:\n",
      "\u001b[1;31mKeyError\u001b[0m                                  Traceback (most recent call last)",
      "\u001b[1;32mc:\\Users\\Mubarak Babslawal\\Documents\\UniMi\\Coding for Data Science\\mubarak.babslawal\\mubarak.babslawal\\project_notebook.ipynb Cell 8\u001b[0m line \u001b[0;36m1\n\u001b[0;32m     <a href='vscode-notebook-cell:/c%3A/Users/Mubarak%20Babslawal/Documents/UniMi/Coding%20for%20Data%20Science/mubarak.babslawal/mubarak.babslawal/project_notebook.ipynb#X32sZmlsZQ%3D%3D?line=12'>13</a>\u001b[0m preference_hotel \u001b[39m=\u001b[39m preference[\u001b[39m1\u001b[39m][\u001b[39m'\u001b[39m\u001b[39mhotel\u001b[39m\u001b[39m'\u001b[39m]\n\u001b[0;32m     <a href='vscode-notebook-cell:/c%3A/Users/Mubarak%20Babslawal/Documents/UniMi/Coding%20for%20Data%20Science/mubarak.babslawal/mubarak.babslawal/project_notebook.ipynb#X32sZmlsZQ%3D%3D?line=13'>14</a>\u001b[0m \u001b[39m#preference_room = preference[1]['room_type']\u001b[39;00m\n\u001b[0;32m     <a href='vscode-notebook-cell:/c%3A/Users/Mubarak%20Babslawal/Documents/UniMi/Coding%20for%20Data%20Science/mubarak.babslawal/mubarak.babslawal/project_notebook.ipynb#X32sZmlsZQ%3D%3D?line=14'>15</a>\u001b[0m \u001b[39m# Check if their preference still has rooms available\u001b[39;00m\n\u001b[1;32m---> <a href='vscode-notebook-cell:/c%3A/Users/Mubarak%20Babslawal/Documents/UniMi/Coding%20for%20Data%20Science/mubarak.babslawal/mubarak.babslawal/project_notebook.ipynb#X32sZmlsZQ%3D%3D?line=15'>16</a>\u001b[0m \u001b[39mif\u001b[39;00m (guests[\u001b[39m'\u001b[39;49m\u001b[39mhotel\u001b[39;49m\u001b[39m'\u001b[39;49m] \u001b[39m==\u001b[39m preference_hotel) \u001b[39m&\u001b[39m (guests[\u001b[39m'\u001b[39m\u001b[39mroom_number\u001b[39m\u001b[39m'\u001b[39m]\u001b[39m.\u001b[39misnull()\u001b[39m.\u001b[39many()):\n\u001b[0;32m     <a href='vscode-notebook-cell:/c%3A/Users/Mubarak%20Babslawal/Documents/UniMi/Coding%20for%20Data%20Science/mubarak.babslawal/mubarak.babslawal/project_notebook.ipynb#X32sZmlsZQ%3D%3D?line=16'>17</a>\u001b[0m     assigned_room \u001b[39m=\u001b[39m guests[(guests[\u001b[39m'\u001b[39m\u001b[39mhotel\u001b[39m\u001b[39m'\u001b[39m] \u001b[39m==\u001b[39m preference_hotel) \u001b[39m&\u001b[39m (guests[\u001b[39m'\u001b[39m\u001b[39mroom_number\u001b[39m\u001b[39m'\u001b[39m]\u001b[39m.\u001b[39misnull())]\u001b[39m.\u001b[39mindex[\u001b[39m0\u001b[39m]\n\u001b[0;32m     <a href='vscode-notebook-cell:/c%3A/Users/Mubarak%20Babslawal/Documents/UniMi/Coding%20for%20Data%20Science/mubarak.babslawal/mubarak.babslawal/project_notebook.ipynb#X32sZmlsZQ%3D%3D?line=17'>18</a>\u001b[0m     \u001b[39mbreak\u001b[39;00m\n",
      "File \u001b[1;32mc:\\Users\\Mubarak Babslawal\\AppData\\Local\\Programs\\Python\\Python311\\Lib\\site-packages\\pandas\\core\\frame.py:3761\u001b[0m, in \u001b[0;36mDataFrame.__getitem__\u001b[1;34m(self, key)\u001b[0m\n\u001b[0;32m   3759\u001b[0m \u001b[39mif\u001b[39;00m \u001b[39mself\u001b[39m\u001b[39m.\u001b[39mcolumns\u001b[39m.\u001b[39mnlevels \u001b[39m>\u001b[39m \u001b[39m1\u001b[39m:\n\u001b[0;32m   3760\u001b[0m     \u001b[39mreturn\u001b[39;00m \u001b[39mself\u001b[39m\u001b[39m.\u001b[39m_getitem_multilevel(key)\n\u001b[1;32m-> 3761\u001b[0m indexer \u001b[39m=\u001b[39m \u001b[39mself\u001b[39;49m\u001b[39m.\u001b[39;49mcolumns\u001b[39m.\u001b[39;49mget_loc(key)\n\u001b[0;32m   3762\u001b[0m \u001b[39mif\u001b[39;00m is_integer(indexer):\n\u001b[0;32m   3763\u001b[0m     indexer \u001b[39m=\u001b[39m [indexer]\n",
      "File \u001b[1;32mc:\\Users\\Mubarak Babslawal\\AppData\\Local\\Programs\\Python\\Python311\\Lib\\site-packages\\pandas\\core\\indexes\\base.py:3655\u001b[0m, in \u001b[0;36mIndex.get_loc\u001b[1;34m(self, key)\u001b[0m\n\u001b[0;32m   3653\u001b[0m     \u001b[39mreturn\u001b[39;00m \u001b[39mself\u001b[39m\u001b[39m.\u001b[39m_engine\u001b[39m.\u001b[39mget_loc(casted_key)\n\u001b[0;32m   3654\u001b[0m \u001b[39mexcept\u001b[39;00m \u001b[39mKeyError\u001b[39;00m \u001b[39mas\u001b[39;00m err:\n\u001b[1;32m-> 3655\u001b[0m     \u001b[39mraise\u001b[39;00m \u001b[39mKeyError\u001b[39;00m(key) \u001b[39mfrom\u001b[39;00m \u001b[39merr\u001b[39;00m\n\u001b[0;32m   3656\u001b[0m \u001b[39mexcept\u001b[39;00m \u001b[39mTypeError\u001b[39;00m:\n\u001b[0;32m   3657\u001b[0m     \u001b[39m# If we have a listlike key, _check_indexing_error will raise\u001b[39;00m\n\u001b[0;32m   3658\u001b[0m     \u001b[39m#  InvalidIndexError. Otherwise we fall through and re-raise\u001b[39;00m\n\u001b[0;32m   3659\u001b[0m     \u001b[39m#  the TypeError.\u001b[39;00m\n\u001b[0;32m   3660\u001b[0m     \u001b[39mself\u001b[39m\u001b[39m.\u001b[39m_check_indexing_error(key)\n",
      "\u001b[1;31mKeyError\u001b[0m: 'hotel'"
     ]
    }
   ],
   "source": [
    "#logic\n",
    "#loop through each guest\n",
    "#check their preferences\n",
    "#check if their preference still has rooms available\n",
    "#if yes, assign them to that room\n",
    "#if no check the next preference\n",
    "#if no preferences left, assign them to a random room\n",
    "# Loop through each guest\n",
    "for index, guest in guests.iterrows():\n",
    "    assigned_room = None\n",
    "    # Check their preferences\n",
    "    for preference in preferences.iterrows():\n",
    "        preference_hotel = preference[1]['hotel']\n",
    "        #preference_room = preference[1]['room_type']\n",
    "        # Check if their preference still has rooms available\n",
    "        if (guests['hotel'] == preference_hotel) & (guests['room_number'].isnull().any()):\n",
    "            assigned_room = guests[(guests['hotel'] == preference_hotel) & (guests['room_number'].isnull())].index[0]\n",
    "            break\n",
    "    # If yes, assign them to that room\n",
    "    if assigned_room is not None:\n",
    "        guests.loc[assigned_room, 'room_number'] = guest['room_number']\n",
    "    else:\n",
    "        # If no preferences left, assign them to a random room\n",
    "        available_rooms = guests[guests['room_number'].isnull()].index\n",
    "        if len(available_rooms) > 0:\n",
    "            random_room = np.random.choice(available_rooms)\n",
    "            guests.loc[random_room, 'room_number'] = guest['room_number']\n",
    "\n",
    "\n",
    "#preferences"
   ]
  }
 ],
 "metadata": {
  "kernelspec": {
   "display_name": "Python 3",
   "language": "python",
   "name": "python3"
  },
  "language_info": {
   "codemirror_mode": {
    "name": "ipython",
    "version": 3
   },
   "file_extension": ".py",
   "mimetype": "text/x-python",
   "name": "python",
   "nbconvert_exporter": "python",
   "pygments_lexer": "ipython3",
   "version": "3.11.4"
  }
 },
 "nbformat": 4,
 "nbformat_minor": 2
}
