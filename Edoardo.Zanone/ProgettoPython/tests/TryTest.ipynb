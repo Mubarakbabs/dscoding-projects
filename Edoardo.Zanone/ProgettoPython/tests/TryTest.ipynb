{
 "cells": [
  {
   "cell_type": "code",
   "execution_count": 1,
   "metadata": {},
   "outputs": [],
   "source": [
    "\n",
    "import pandas as pd\n",
    "df = pd.read_excel(\"/Users/Gulli/Downloads/worldcities.xlsx\")\n"
   ]
  },
  {
   "cell_type": "code",
   "execution_count": 2,
   "metadata": {},
   "outputs": [
    {
     "data": {
      "text/html": [
       "<div>\n",
       "<style scoped>\n",
       "    .dataframe tbody tr th:only-of-type {\n",
       "        vertical-align: middle;\n",
       "    }\n",
       "\n",
       "    .dataframe tbody tr th {\n",
       "        vertical-align: top;\n",
       "    }\n",
       "\n",
       "    .dataframe thead th {\n",
       "        text-align: right;\n",
       "    }\n",
       "</style>\n",
       "<table border=\"1\" class=\"dataframe\">\n",
       "  <thead>\n",
       "    <tr style=\"text-align: right;\">\n",
       "      <th></th>\n",
       "      <th>city</th>\n",
       "      <th>city_ascii</th>\n",
       "      <th>lat</th>\n",
       "      <th>lng</th>\n",
       "      <th>country</th>\n",
       "      <th>iso2</th>\n",
       "      <th>iso3</th>\n",
       "      <th>admin_name</th>\n",
       "      <th>capital</th>\n",
       "      <th>population</th>\n",
       "      <th>id</th>\n",
       "    </tr>\n",
       "  </thead>\n",
       "  <tbody>\n",
       "    <tr>\n",
       "      <th>0</th>\n",
       "      <td>Tokyo</td>\n",
       "      <td>Tokyo</td>\n",
       "      <td>35.6897</td>\n",
       "      <td>139.6922</td>\n",
       "      <td>Japan</td>\n",
       "      <td>JP</td>\n",
       "      <td>JPN</td>\n",
       "      <td>Tōkyō</td>\n",
       "      <td>primary</td>\n",
       "      <td>37977000.0</td>\n",
       "      <td>1392685764</td>\n",
       "    </tr>\n",
       "    <tr>\n",
       "      <th>1</th>\n",
       "      <td>Jakarta</td>\n",
       "      <td>Jakarta</td>\n",
       "      <td>-6.2146</td>\n",
       "      <td>106.8451</td>\n",
       "      <td>Indonesia</td>\n",
       "      <td>ID</td>\n",
       "      <td>IDN</td>\n",
       "      <td>Jakarta</td>\n",
       "      <td>primary</td>\n",
       "      <td>34540000.0</td>\n",
       "      <td>1360771077</td>\n",
       "    </tr>\n",
       "    <tr>\n",
       "      <th>2</th>\n",
       "      <td>Delhi</td>\n",
       "      <td>Delhi</td>\n",
       "      <td>28.6600</td>\n",
       "      <td>77.2300</td>\n",
       "      <td>India</td>\n",
       "      <td>IN</td>\n",
       "      <td>IND</td>\n",
       "      <td>Delhi</td>\n",
       "      <td>admin</td>\n",
       "      <td>29617000.0</td>\n",
       "      <td>1356872604</td>\n",
       "    </tr>\n",
       "    <tr>\n",
       "      <th>3</th>\n",
       "      <td>Mumbai</td>\n",
       "      <td>Mumbai</td>\n",
       "      <td>18.9667</td>\n",
       "      <td>72.8333</td>\n",
       "      <td>India</td>\n",
       "      <td>IN</td>\n",
       "      <td>IND</td>\n",
       "      <td>Mahārāshtra</td>\n",
       "      <td>admin</td>\n",
       "      <td>23355000.0</td>\n",
       "      <td>1356226629</td>\n",
       "    </tr>\n",
       "    <tr>\n",
       "      <th>4</th>\n",
       "      <td>Manila</td>\n",
       "      <td>Manila</td>\n",
       "      <td>14.5958</td>\n",
       "      <td>120.9772</td>\n",
       "      <td>Philippines</td>\n",
       "      <td>PH</td>\n",
       "      <td>PHL</td>\n",
       "      <td>Manila</td>\n",
       "      <td>primary</td>\n",
       "      <td>23088000.0</td>\n",
       "      <td>1608618140</td>\n",
       "    </tr>\n",
       "    <tr>\n",
       "      <th>...</th>\n",
       "      <td>...</td>\n",
       "      <td>...</td>\n",
       "      <td>...</td>\n",
       "      <td>...</td>\n",
       "      <td>...</td>\n",
       "      <td>...</td>\n",
       "      <td>...</td>\n",
       "      <td>...</td>\n",
       "      <td>...</td>\n",
       "      <td>...</td>\n",
       "      <td>...</td>\n",
       "    </tr>\n",
       "    <tr>\n",
       "      <th>26564</th>\n",
       "      <td>Nord</td>\n",
       "      <td>Nord</td>\n",
       "      <td>81.7166</td>\n",
       "      <td>-17.8000</td>\n",
       "      <td>Greenland</td>\n",
       "      <td>GL</td>\n",
       "      <td>GRL</td>\n",
       "      <td>Sermersooq</td>\n",
       "      <td>NaN</td>\n",
       "      <td>10.0</td>\n",
       "      <td>1304217709</td>\n",
       "    </tr>\n",
       "    <tr>\n",
       "      <th>26565</th>\n",
       "      <td>Timmiarmiut</td>\n",
       "      <td>Timmiarmiut</td>\n",
       "      <td>62.5333</td>\n",
       "      <td>-42.2167</td>\n",
       "      <td>Greenland</td>\n",
       "      <td>GL</td>\n",
       "      <td>GRL</td>\n",
       "      <td>Kujalleq</td>\n",
       "      <td>NaN</td>\n",
       "      <td>10.0</td>\n",
       "      <td>1304206491</td>\n",
       "    </tr>\n",
       "    <tr>\n",
       "      <th>26566</th>\n",
       "      <td>Cheremoshna</td>\n",
       "      <td>Cheremoshna</td>\n",
       "      <td>51.3894</td>\n",
       "      <td>30.0989</td>\n",
       "      <td>Ukraine</td>\n",
       "      <td>UA</td>\n",
       "      <td>UKR</td>\n",
       "      <td>Kyyivs’ka Oblast’</td>\n",
       "      <td>NaN</td>\n",
       "      <td>0.0</td>\n",
       "      <td>1804043438</td>\n",
       "    </tr>\n",
       "    <tr>\n",
       "      <th>26567</th>\n",
       "      <td>Ambarchik</td>\n",
       "      <td>Ambarchik</td>\n",
       "      <td>69.6510</td>\n",
       "      <td>162.3336</td>\n",
       "      <td>Russia</td>\n",
       "      <td>RU</td>\n",
       "      <td>RUS</td>\n",
       "      <td>Sakha (Yakutiya)</td>\n",
       "      <td>NaN</td>\n",
       "      <td>0.0</td>\n",
       "      <td>1643739159</td>\n",
       "    </tr>\n",
       "    <tr>\n",
       "      <th>26568</th>\n",
       "      <td>Nordvik</td>\n",
       "      <td>Nordvik</td>\n",
       "      <td>74.0165</td>\n",
       "      <td>111.5100</td>\n",
       "      <td>Russia</td>\n",
       "      <td>RU</td>\n",
       "      <td>RUS</td>\n",
       "      <td>Krasnoyarskiy Kray</td>\n",
       "      <td>NaN</td>\n",
       "      <td>0.0</td>\n",
       "      <td>1643587468</td>\n",
       "    </tr>\n",
       "  </tbody>\n",
       "</table>\n",
       "<p>26569 rows × 11 columns</p>\n",
       "</div>"
      ],
      "text/plain": [
       "              city   city_ascii      lat       lng      country iso2 iso3  \\\n",
       "0            Tokyo        Tokyo  35.6897  139.6922        Japan   JP  JPN   \n",
       "1          Jakarta      Jakarta  -6.2146  106.8451    Indonesia   ID  IDN   \n",
       "2            Delhi        Delhi  28.6600   77.2300        India   IN  IND   \n",
       "3           Mumbai       Mumbai  18.9667   72.8333        India   IN  IND   \n",
       "4           Manila       Manila  14.5958  120.9772  Philippines   PH  PHL   \n",
       "...            ...          ...      ...       ...          ...  ...  ...   \n",
       "26564         Nord         Nord  81.7166  -17.8000    Greenland   GL  GRL   \n",
       "26565  Timmiarmiut  Timmiarmiut  62.5333  -42.2167    Greenland   GL  GRL   \n",
       "26566  Cheremoshna  Cheremoshna  51.3894   30.0989      Ukraine   UA  UKR   \n",
       "26567    Ambarchik    Ambarchik  69.6510  162.3336       Russia   RU  RUS   \n",
       "26568      Nordvik      Nordvik  74.0165  111.5100       Russia   RU  RUS   \n",
       "\n",
       "               admin_name  capital  population          id  \n",
       "0                   Tōkyō  primary  37977000.0  1392685764  \n",
       "1                 Jakarta  primary  34540000.0  1360771077  \n",
       "2                   Delhi    admin  29617000.0  1356872604  \n",
       "3             Mahārāshtra    admin  23355000.0  1356226629  \n",
       "4                  Manila  primary  23088000.0  1608618140  \n",
       "...                   ...      ...         ...         ...  \n",
       "26564          Sermersooq      NaN        10.0  1304217709  \n",
       "26565            Kujalleq      NaN        10.0  1304206491  \n",
       "26566   Kyyivs’ka Oblast’      NaN         0.0  1804043438  \n",
       "26567    Sakha (Yakutiya)      NaN         0.0  1643739159  \n",
       "26568  Krasnoyarskiy Kray      NaN         0.0  1643587468  \n",
       "\n",
       "[26569 rows x 11 columns]"
      ]
     },
     "execution_count": 2,
     "metadata": {},
     "output_type": "execute_result"
    }
   ],
   "source": [
    "df"
   ]
  },
  {
   "cell_type": "code",
   "execution_count": null,
   "metadata": {},
   "outputs": [],
   "source": [
    "import folium\n",
    "print(folium.__version__)\n"
   ]
  },
  {
   "cell_type": "code",
   "execution_count": 3,
   "metadata": {},
   "outputs": [],
   "source": [
    "lat=[]\n",
    "lng=[]\n",
    "for column_name, item in df.iterrows():\n",
    "        lat.append(df[\"lat\"].iloc[int(column_name)])\n",
    "\n",
    "for column_name, item in df.iterrows():\n",
    "        lng.append(df[\"lng\"].iloc[int(column_name)])\n"
   ]
  },
  {
   "cell_type": "code",
   "execution_count": null,
   "metadata": {},
   "outputs": [],
   "source": [
    "len(lat)"
   ]
  },
  {
   "cell_type": "code",
   "execution_count": null,
   "metadata": {},
   "outputs": [],
   "source": [
    "import create_map #range(len(lat))\n",
    "for i in range(5):\n",
    "    map=create_map.Mappa(lat[i] , lng[i] ,df[\"city\"].iloc[i])\n",
    "#map= folium.Map( location =[30,10], zoom_start=2)\n",
    "#map.save(\"Città.html\")\n"
   ]
  },
  {
   "cell_type": "code",
   "execution_count": null,
   "metadata": {},
   "outputs": [],
   "source": [
    "map"
   ]
  },
  {
   "cell_type": "code",
   "execution_count": null,
   "metadata": {},
   "outputs": [],
   "source": [
    "map.save(\"Città2.html\")"
   ]
  },
  {
   "cell_type": "code",
   "execution_count": 9,
   "metadata": {},
   "outputs": [],
   "source": [
    "from geopy.distance import great_circle\n"
   ]
  },
  {
   "cell_type": "code",
   "execution_count": null,
   "metadata": {},
   "outputs": [],
   "source": [
    "distance = great_circle(point1, point2)\n",
    "\n",
    "# Print the distance in various units\n",
    "#print(f\"Distance: {distance.kilometers} kilometers\")\n",
    "#print(f\"Distance: {distance.miles} miles\")\n",
    "#print(f\"Distance: {distance.nautical} nautical miles\")\n",
    "#print(f\"Distance: {distance.meters} meters\")\n"
   ]
  },
  {
   "cell_type": "code",
   "execution_count": 22,
   "metadata": {},
   "outputs": [
    {
     "data": {
      "text/html": [
       "<div>\n",
       "<style scoped>\n",
       "    .dataframe tbody tr th:only-of-type {\n",
       "        vertical-align: middle;\n",
       "    }\n",
       "\n",
       "    .dataframe tbody tr th {\n",
       "        vertical-align: top;\n",
       "    }\n",
       "\n",
       "    .dataframe thead th {\n",
       "        text-align: right;\n",
       "    }\n",
       "</style>\n",
       "<table border=\"1\" class=\"dataframe\">\n",
       "  <thead>\n",
       "    <tr style=\"text-align: right;\">\n",
       "      <th></th>\n",
       "      <th>id</th>\n",
       "      <th>lat</th>\n",
       "    </tr>\n",
       "  </thead>\n",
       "  <tbody>\n",
       "    <tr>\n",
       "      <th>34</th>\n",
       "      <td>1826645935</td>\n",
       "      <td>51.5072</td>\n",
       "    </tr>\n",
       "    <tr>\n",
       "      <th>1669</th>\n",
       "      <td>1124469960</td>\n",
       "      <td>42.9836</td>\n",
       "    </tr>\n",
       "    <tr>\n",
       "      <th>12232</th>\n",
       "      <td>1840015258</td>\n",
       "      <td>37.1175</td>\n",
       "    </tr>\n",
       "    <tr>\n",
       "      <th>17408</th>\n",
       "      <td>1840000674</td>\n",
       "      <td>39.8936</td>\n",
       "    </tr>\n",
       "  </tbody>\n",
       "</table>\n",
       "</div>"
      ],
      "text/plain": [
       "               id      lat\n",
       "34     1826645935  51.5072\n",
       "1669   1124469960  42.9836\n",
       "12232  1840015258  37.1175\n",
       "17408  1840000674  39.8936"
      ]
     },
     "execution_count": 22,
     "metadata": {},
     "output_type": "execute_result"
    }
   ],
   "source": [
    "df.loc[df['city']=='London',['id','lat']]"
   ]
  },
  {
   "cell_type": "code",
   "execution_count": 17,
   "metadata": {},
   "outputs": [
    {
     "data": {
      "text/html": [
       "<div>\n",
       "<style scoped>\n",
       "    .dataframe tbody tr th:only-of-type {\n",
       "        vertical-align: middle;\n",
       "    }\n",
       "\n",
       "    .dataframe tbody tr th {\n",
       "        vertical-align: top;\n",
       "    }\n",
       "\n",
       "    .dataframe thead th {\n",
       "        text-align: right;\n",
       "    }\n",
       "</style>\n",
       "<table border=\"1\" class=\"dataframe\">\n",
       "  <thead>\n",
       "    <tr style=\"text-align: right;\">\n",
       "      <th></th>\n",
       "      <th>id</th>\n",
       "      <th>city</th>\n",
       "      <th>country</th>\n",
       "    </tr>\n",
       "  </thead>\n",
       "  <tbody>\n",
       "    <tr>\n",
       "      <th>34</th>\n",
       "      <td>1826645935</td>\n",
       "      <td>London</td>\n",
       "      <td>United Kingdom</td>\n",
       "    </tr>\n",
       "    <tr>\n",
       "      <th>1669</th>\n",
       "      <td>1124469960</td>\n",
       "      <td>London</td>\n",
       "      <td>Canada</td>\n",
       "    </tr>\n",
       "    <tr>\n",
       "      <th>12232</th>\n",
       "      <td>1840015258</td>\n",
       "      <td>London</td>\n",
       "      <td>United States</td>\n",
       "    </tr>\n",
       "    <tr>\n",
       "      <th>17408</th>\n",
       "      <td>1840000674</td>\n",
       "      <td>London</td>\n",
       "      <td>United States</td>\n",
       "    </tr>\n",
       "  </tbody>\n",
       "</table>\n",
       "</div>"
      ],
      "text/plain": [
       "               id    city         country\n",
       "34     1826645935  London  United Kingdom\n",
       "1669   1124469960  London          Canada\n",
       "12232  1840015258  London   United States\n",
       "17408  1840000674  London   United States"
      ]
     },
     "execution_count": 17,
     "metadata": {},
     "output_type": "execute_result"
    }
   ],
   "source": [
    "df[df[\"city\"]==\"London\"][[\"id\",\"city\",\"country\"]]"
   ]
  },
  {
   "cell_type": "code",
   "execution_count": 21,
   "metadata": {},
   "outputs": [
    {
     "name": "stderr",
     "output_type": "stream",
     "text": [
      "C:\\Users\\Gulli\\AppData\\Local\\Temp\\ipykernel_15480\\2237110701.py:1: FutureWarning: Calling int on a single element Series is deprecated and will raise a TypeError in the future. Use int(ser.iloc[0]) instead\n",
      "  int(df[df[\"id\"]==1826645935][\"id\"])\n"
     ]
    },
    {
     "data": {
      "text/plain": [
       "1826645935"
      ]
     },
     "execution_count": 21,
     "metadata": {},
     "output_type": "execute_result"
    }
   ],
   "source": [
    "df[df[\"id\"]==1826645935][\"id\"]"
   ]
  },
  {
   "cell_type": "code",
   "execution_count": null,
   "metadata": {},
   "outputs": [],
   "source": [
    "from ubication import estrazione\n",
    "lat=estrazione(df,\"lat\")\n",
    "lat"
   ]
  },
  {
   "cell_type": "code",
   "execution_count": null,
   "metadata": {},
   "outputs": [],
   "source": [
    "#map= folium.Map( location =[30,10], zoom_start=2)\n",
    "#map.save(\"Città.html\")\n",
    "\n",
    "\n",
    "\n",
    "\n"
   ]
  },
  {
   "cell_type": "code",
   "execution_count": null,
   "metadata": {},
   "outputs": [],
   "source": [
    "#for inex, row in df.iterrows():\n",
    " #   folium.Marker(location=[df[\"lat\"].iloc[index],df[\"lng\"].iloc[index]],popup=df[\"city\"].iloc[index]).add_to(map)\n",
    " #map\n",
    "folium.Marker(location=[df[\"lat\"].iloc[0],df[\"lng\"].iloc[0]],popup=df[\"city\"].iloc[0]).add_to(map)\n",
    "map"
   ]
  }
 ],
 "metadata": {
  "kernelspec": {
   "display_name": "DATA",
   "language": "python",
   "name": "python3"
  },
  "language_info": {
   "codemirror_mode": {
    "name": "ipython",
    "version": 3
   },
   "file_extension": ".py",
   "mimetype": "text/x-python",
   "name": "python",
   "nbconvert_exporter": "python",
   "pygments_lexer": "ipython3",
   "version": "3.12.0"
  }
 },
 "nbformat": 4,
 "nbformat_minor": 2
}
