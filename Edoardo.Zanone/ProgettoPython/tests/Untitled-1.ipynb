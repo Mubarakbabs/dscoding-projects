{
 "cells": [
  {
   "cell_type": "code",
   "execution_count": null,
   "metadata": {},
   "outputs": [],
   "source": [
    "import pandas as pd\n",
    "df = pd.read_excel(\"/Users/Gulli/Downloads/worldcities.xlsx\")"
   ]
  },
  {
   "cell_type": "code",
   "execution_count": null,
   "metadata": {},
   "outputs": [],
   "source": [
    "import folium\n",
    "print(folium.__version__)\n"
   ]
  },
  {
   "cell_type": "code",
   "execution_count": null,
   "metadata": {},
   "outputs": [],
   "source": [
    "lat=[]\n",
    "lng=[]\n",
    "for column_name, item in df.iterrows():\n",
    "        lat.append(df[\"lat\"].iloc[int(column_name)])\n",
    "\n",
    "for column_name, item in df.iterrows():\n",
    "        lng.append(df[\"lng\"].iloc[int(column_name)])\n"
   ]
  },
  {
   "cell_type": "code",
   "execution_count": null,
   "metadata": {},
   "outputs": [],
   "source": [
    "import create_map #range(len(lat))\n",
    "for i in range(5):\n",
    "    map=create_map.Mappa(lat[i] , lng[i] ,df[\"city\"].iloc[i])\n",
    "#map= folium.Map( location =[30,10], zoom_start=2)\n",
    "#map.save(\"Città.html\")"
   ]
  }
 ],
 "metadata": {
  "language_info": {
   "name": "python"
  }
 },
 "nbformat": 4,
 "nbformat_minor": 2
}
