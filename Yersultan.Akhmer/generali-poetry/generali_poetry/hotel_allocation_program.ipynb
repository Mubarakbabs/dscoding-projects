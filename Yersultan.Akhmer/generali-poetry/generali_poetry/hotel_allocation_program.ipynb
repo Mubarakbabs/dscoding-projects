{
 "cells": [
  {
   "cell_type": "markdown",
   "id": "69cfa40f",
   "metadata": {},
   "source": [
    "## Important Libraries"
   ]
  },
  {
   "cell_type": "code",
   "execution_count": 57,
   "id": "61ac0f8e",
   "metadata": {},
   "outputs": [],
   "source": [
    "# Imported Libraries\n",
    "import numpy as np\n",
    "import random\n",
    "import pandas as pd\n",
    "import os\n",
    "import matplotlib.pyplot as plt"
   ]
  },
  {
   "cell_type": "markdown",
   "id": "a24946c7",
   "metadata": {},
   "source": [
    "## Guest Class"
   ]
  },
  {
   "cell_type": "code",
   "execution_count": 58,
   "id": "012ea382",
   "metadata": {},
   "outputs": [],
   "source": [
    "'''\n",
    "    The Guest class appears to be a simple class that represents a guest staying at a hotel. \n",
    "'''\n",
    "class Guest:\n",
    "    def __init__(self, name, discount):\n",
    "        self.name = name\n",
    "        self.discount = discount\n",
    "        self.allocated_hotel = None\n"
   ]
  },
  {
   "cell_type": "markdown",
   "id": "bb8ed0c8",
   "metadata": {},
   "source": [
    "## Hotel Class"
   ]
  },
  {
   "cell_type": "code",
   "execution_count": 59,
   "id": "de37d037",
   "metadata": {},
   "outputs": [],
   "source": [
    "'''\n",
    "    The Hotel class represent a hotel with rooms that can be allocated to customers.\n",
    "'''\n",
    "class Hotel:\n",
    "    def __init__(self, name, rooms, price):\n",
    "        self.name = name\n",
    "        self.rooms = rooms\n",
    "        self.price = price\n",
    "        self.customers = []\n",
    "\n",
    "    def allocate_customer(self, guest):\n",
    "        if self.rooms > 0:\n",
    "            self.rooms -= 1\n",
    "            self.customers.append(guest)\n",
    "            return True\n",
    "        return False\n",
    "\n",
    "    def calculate_total_earnings(self):\n",
    "        return self.price * len(self.customers)\n"
   ]
  },
  {
   "cell_type": "markdown",
   "id": "d6732604",
   "metadata": {},
   "source": [
    "## DataManager Class"
   ]
  },
  {
   "cell_type": "code",
   "execution_count": 60,
   "id": "acdb2b35",
   "metadata": {},
   "outputs": [],
   "source": [
    "'''\n",
    "    The DataManager class is responsible for reading data from Excel files\n",
    "    and providing access to this data through methods.\n",
    "    It used for managing and retrieving data related to hotels, guests, and guest preferences.\n",
    "'''\n",
    "\n",
    "class DataManager:\n",
    "    def __init__(self, hotels_path, guests_path, preferences_path):\n",
    "        self.hotels_df = pd.read_excel(hotels_path, index_col=0)\n",
    "        self.guests_df = pd.read_excel(guests_path, index_col=0)\n",
    "        self.preferences_df = pd.read_excel(preferences_path, index_col=0)\n",
    "        self.preferences_df.sort_values(by=['guest', 'priority'], inplace=True)\n",
    "\n",
    "    def get_hotels(self):\n",
    "        return self.hotels_df\n",
    "\n",
    "    def get_guests(self):\n",
    "        return self.guests_df\n",
    "\n",
    "    def get_preferences(self):\n",
    "        return self.preferences_df\n"
   ]
  },
  {
   "cell_type": "markdown",
   "id": "aee89886",
   "metadata": {},
   "source": [
    "## Allocator Class"
   ]
  },
  {
   "cell_type": "code",
   "execution_count": 61,
   "id": "4d01f447",
   "metadata": {},
   "outputs": [],
   "source": [
    "'''\n",
    "    Program implements a hotel room allocation system. \n",
    "    Includes several classes and methods for allocating hotel rooms to guests based on various strategies.\n",
    "'''\n",
    "\n",
    "class Allocator:\n",
    "    # Initializer for the Allocator class that sets up data from the DataManager\n",
    "    def __init__(self, data_manager):\n",
    "        self.hotels_df = data_manager.get_hotels()  # Retrieve hotels data from DataManager\n",
    "        self.guests_df = data_manager.get_guests()  # Retrieve guests data from DataManager\n",
    "        self.preferences_df = data_manager.get_preferences()  # Retrieve preferences data from DataManager\n",
    "        self.guest_allocation_info = []  # Initialize a list to store allocation information\n",
    "\n",
    "    # Method to load data into Hotel and Guest objects for processing\n",
    "    def load_data(self):\n",
    "        # Create Hotel objects from hotels DataFrame\n",
    "        self.hotels = [Hotel(row['hotel'], row['rooms'], row['price']) for index, row in self.hotels_df.iterrows()]\n",
    "        # Create Guest objects from guests DataFrame\n",
    "        self.guests = [Guest(row['guest'], row['discount']) for index, row in self.guests_df.iterrows()]\n",
    "\n",
    "    # Allocation strategy based on the price of the hotel\n",
    "    def price_allocation(self):\n",
    "        self.load_data()  # Load the hotel and guest data\n",
    "        self.hotels.sort(key=lambda hotel: hotel.price)  # Sort hotels by price in ascending order\n",
    "        self.allocate_rooms()  # Allocate rooms to guests based on the sorted order\n",
    "\n",
    "    # Allocation strategy based on customer preferences\n",
    "    def customer_preference_allocation(self):\n",
    "        self.load_data()  # Load the hotel and guest data\n",
    "        # Create an array of guest names and sort the guests by their names\n",
    "        guest_names = np.array([guest.name for guest in self.guests])\n",
    "        sorted_indices = np.argsort(guest_names)\n",
    "        self.guests = [self.guests[i] for i in sorted_indices]\n",
    "        self.allocate_rooms(preferential=True)  # Allocate rooms based on guest preferences\n",
    "\n",
    "    # Allocation strategy that randomly allocates guests to hotels\n",
    "    def random_allocation(self):\n",
    "        self.load_data()  # Load the hotel and guest data\n",
    "        random.shuffle(self.guests)  # Randomly shuffle the list of guests\n",
    "        self.allocate_rooms()  # Allocate rooms to the shuffled list of guests\n",
    "\n",
    "    # Allocation strategy based on the availability of rooms in hotels\n",
    "    def availability_allocation(self):\n",
    "        self.load_data()  # Load the hotel and guest data\n",
    "        # Sort hotels by the number of available rooms in descending order\n",
    "        self.hotels.sort(key=lambda hotel: hotel.rooms, reverse=True)\n",
    "        self.allocate_rooms()  # Allocate rooms to guests based on the sorted order\n",
    "\n",
    "\n",
    "    def allocate_rooms(self, preferential=False):\n",
    "        for guest in self.guests:\n",
    "            allocated = False\n",
    "            guest_preferences = self.preferences_df[self.preferences_df['guest'] == guest.name].sort_values(by='priority')['hotel'].tolist()\n",
    "\n",
    "            if preferential:\n",
    "                # Try to allocate based on preferences\n",
    "                for hotel_name in guest_preferences:\n",
    "                    allocated = self.try_allocate(guest, hotel_name)\n",
    "                    if allocated:\n",
    "                        break\n",
    "\n",
    "            if not allocated:\n",
    "                # If preferred hotels are full, allocate to any available hotel\n",
    "                for hotel in self.hotels:\n",
    "                    if hotel.allocate_customer(guest):\n",
    "                        guest.allocated_hotel = hotel.name\n",
    "                        self.guest_allocation_info.append((guest.name, hotel.name, hotel.price * (1 - guest.discount)))\n",
    "                        allocated = True\n",
    "                        break\n",
    "\n",
    "            if not allocated:\n",
    "                print(f\"No available rooms for {guest.name}\")\n",
    "                self.guest_allocation_info.append((guest.name, None, 0))  # No hotel allocated and no earnings\n",
    "\n",
    "            # Calculate and store satisfaction rate for each guest\n",
    "            guest.satisfaction = 100 if guest.allocated_hotel in guest_preferences else 0\n",
    "\n",
    "\n",
    "    def try_allocate(self, guest, hotel_name):\n",
    "        for hotel in self.hotels:\n",
    "            if hotel.name == hotel_name and hotel.allocate_customer(guest):\n",
    "                guest.allocated_hotel = hotel.name\n",
    "                self.guest_allocation_info.append((guest.name, hotel.name))\n",
    "                return True\n",
    "        return False\n",
    "\n",
    "    def calculate_customer_satisfaction(self):\n",
    "        # Using NumPy for efficient calculations\n",
    "        satisfaction_counts = np.array([guest.allocated_hotel in self.preferences_df[self.preferences_df['guest'] == guest.name].sort_values(by='priority')['hotel'].tolist() for guest in self.guests])\n",
    "        satisfaction_count = np.sum(satisfaction_counts)\n",
    "        return np.divide(satisfaction_count, len(self.guests)) * 100\n",
    "\n",
    "    def get_hotel_earnings(self):\n",
    "        # calculates the hotel's total earnings based on allocated guests.\n",
    "        return {hotel.name: hotel.calculate_total_earnings() for hotel in self.hotels}\n",
    "    \n",
    "    def get_top_earning_hotels(self, top_n=10):\n",
    "        earnings = self.get_hotel_earnings()\n",
    "        # Sort the hotels by earnings and get the top ones\n",
    "        top_earning_hotels = sorted(earnings.items(), key=lambda x: x[1], reverse=True)[:top_n]\n",
    "        return top_earning_hotels\n",
    "\n",
    "    def display_report(self):\n",
    "        total_customers = len(self.guests)\n",
    "        total_rooms_occupied = sum(len(hotel.customers) for hotel in self.hotels)\n",
    "        total_hotels_occupied = sum(1 for hotel in self.hotels if len(hotel.customers) > 0)\n",
    "        total_earnings = sum(hotel.calculate_total_earnings() for hotel in self.hotels)\n",
    "        \n",
    "        # Assemble the report DataFrame with additional columns for satisfaction and earnings\n",
    "        report_data = {\n",
    "            \"Guest\": [guest.name for guest in self.guests],\n",
    "            \"Allocated Hotel\": [guest.allocated_hotel for guest in self.guests],\n",
    "            # Calculate the satisfaction rate for each guest\n",
    "            \"Satisfaction Rate (%)\": [self.calculate_individual_satisfaction(guest) for guest in self.guests],\n",
    "            # Calculate the earnings for each guest\n",
    "            \"Earned Money\": [self.calculate_individual_earnings(guest) for guest in self.guests]\n",
    "        }\n",
    "\n",
    "        # Create a DataFrame for the report\n",
    "        detailed_report_df = pd.DataFrame(report_data)\n",
    "\n",
    "        # Calculate overall satisfaction and earnings\n",
    "        total_satisfaction = np.mean([guest.satisfaction for guest in self.guests if guest.satisfaction is not None])\n",
    "        total_earnings = sum([guest.earnings for guest in self.guests if guest.earnings is not None])\n",
    "\n",
    "        # Create a summary DataFrame\n",
    "        summary_data = {\n",
    "            \"Number of customers accommodated\": len(self.guests),\n",
    "            \"Number of rooms occupied\": sum(1 for guest in self.guests if guest.allocated_hotel),\n",
    "            \"Total volume of business\": total_earnings,\n",
    "            \"Customer satisfaction rate\": f\"{total_satisfaction}%\"\n",
    "        }\n",
    "        summary_df = pd.DataFrame([summary_data])\n",
    "\n",
    "        hotel_earnings = self.get_hotel_earnings()\n",
    "\n",
    "        return detailed_report_df, summary_df, hotel_earnings\n",
    "\n",
    "    def save_allocation_info_to_excel(self, output_file):\n",
    "        # Ensure directory exists\n",
    "        os.makedirs(os.path.dirname(output_file), exist_ok=True)\n",
    "\n",
    "        # Create a DataFrame from the allocation information\n",
    "        # Update the columns to match the data\n",
    "        allocation_df = pd.DataFrame(self.guest_allocation_info, columns=[\"Guest\", \"Allocated Hotel\", \"Earned Money\"])\n",
    "\n",
    "        # Save the DataFrame to an Excel file\n",
    "        allocation_df.to_excel(output_file, index=False)\n",
    "\n",
    "        # Return the DataFrame\n",
    "        return allocation_df\n",
    "    \n",
    "    def calculate_individual_satisfaction(self, guest):\n",
    "        # Check if the allocated hotel is among the guest's preferences\n",
    "        preferences = self.preferences_df[self.preferences_df['guest'] == guest.name]['hotel'].tolist()\n",
    "        satisfaction = 100 if guest.allocated_hotel in preferences else 0\n",
    "        # Store satisfaction rate in the guest object for later use\n",
    "        guest.satisfaction = satisfaction\n",
    "        return satisfaction\n",
    "\n",
    "    def calculate_individual_earnings(self, guest):\n",
    "        # Find the hotel object and calculate earnings\n",
    "        hotel = next((hotel for hotel in self.hotels if hotel.name == guest.allocated_hotel), None)\n",
    "        earnings = hotel.price * (1 - guest.discount) if hotel else 0\n",
    "        # Store earnings in the guest object for later use\n",
    "        guest.earnings = earnings\n",
    "        return earnings\n",
    "    \n"
   ]
  },
  {
   "cell_type": "markdown",
   "id": "af721e4a",
   "metadata": {},
   "source": [
    "## For Displaying Result"
   ]
  },
  {
   "cell_type": "code",
   "execution_count": 62,
   "id": "03b608a5",
   "metadata": {},
   "outputs": [],
   "source": [
    "# Run all strategies and display the results\n",
    "def run_all_strategies_and_display_results():\n",
    "    strategies = [\"Price\", \"Random\", \"Preference\", \"Availability\"]\n",
    "    all_reports = {}\n",
    "\n",
    "    for strategy in strategies:\n",
    "        detailed_report_df, summary_df, hotel_earnings = run_and_get_report(strategy)\n",
    "        all_reports[strategy] = {\n",
    "            'detailed_report_df': detailed_report_df,\n",
    "            'summary_df': summary_df,\n",
    "            'hotel_earnings': hotel_earnings\n",
    "        }\n",
    "        # Displaying the summary for each strategy\n",
    "        print(f\"Strategy: {strategy}\")\n",
    "        print(summary_df.to_string(index=False))\n",
    "        print(\"\\n\")\n",
    "\n",
    "    return all_reports\n",
    "\n"
   ]
  },
  {
   "cell_type": "markdown",
   "id": "36d8ca91",
   "metadata": {},
   "source": [
    "## Total Volume of Business by Strategy"
   ]
  },
  {
   "cell_type": "code",
   "execution_count": 63,
   "id": "34325c71",
   "metadata": {
    "scrolled": false
   },
   "outputs": [
    {
     "data": {
      "image/png": "[encoded data removed]",
      "text/plain": [
       "<Figure size 720x432 with 1 Axes>"
      ]
     },
     "metadata": {
      "needs_background": "light"
     },
     "output_type": "display_data"
    }
   ],
   "source": [
    "data_manager = DataManager(\n",
    "    '/Users/yersultanakhmer/Downloads/hotels/hotels.xlsx', \n",
    "    '/Users/yersultanakhmer/Downloads/hotels/guests.xlsx', \n",
    "    '/Users/yersultanakhmer/Downloads/hotels/preferences.xlsx'\n",
    ")\n",
    "allocator = Allocator(data_manager)\n",
    "\n",
    "# Function to run an allocation strategy and get its report\n",
    "def run_and_get_report(strategy):\n",
    "    if strategy == \"Price\":\n",
    "        allocator.price_allocation()\n",
    "    elif strategy == \"Random\":\n",
    "        allocator.random_allocation()\n",
    "    elif strategy == \"Preference\":\n",
    "        allocator.customer_preference_allocation()\n",
    "    elif strategy == \"Availability\":\n",
    "        allocator.availability_allocation()\n",
    "    else:\n",
    "        raise ValueError(\"Unknown strategy\")\n",
    "    \n",
    "    detailed_report_df, summary_df, hotel_earnings = allocator.display_report()\n",
    "    summary_df['Strategy Name'] = strategy\n",
    "    return detailed_report_df, summary_df, hotel_earnings\n",
    "\n",
    "# Function to run all strategies and compile the reports\n",
    "def run_all_strategies():\n",
    "    strategies = [\"Price\", \"Random\", \"Preference\", \"Availability\"]\n",
    "    reports = {}\n",
    "    all_detailed_reports = pd.DataFrame()\n",
    "    all_summary_reports = pd.DataFrame()\n",
    "    all_hotel_earnings = {}\n",
    "    top_earning_hotels_all_strategies = {}\n",
    "\n",
    "    for strategy in strategies:\n",
    "        detailed_report_df, summary_df, hotel_earnings = run_and_get_report(strategy)\n",
    "        reports[strategy] = (detailed_report_df, summary_df, hotel_earnings)\n",
    "        all_detailed_reports = pd.concat([all_detailed_reports, detailed_report_df.assign(Strategy=strategy)])\n",
    "        all_summary_reports = pd.concat([all_summary_reports, summary_df.assign(Strategy=strategy)])\n",
    "        all_hotel_earnings[strategy] = hotel_earnings\n",
    "        top_earning_hotels_all_strategies[strategy] = allocator.get_top_earning_hotels()\n",
    "\n",
    "    return reports, all_detailed_reports, all_summary_reports, all_hotel_earnings, top_earning_hotels_all_strategies\n",
    "\n",
    "# call this function to run all strategies and work with the outputs\n",
    "reports, all_detailed_reports, all_summary_reports, all_hotel_earnings, top_earning_hotels_all_strategies = run_all_strategies()\n",
    "\n",
    "# Plotting total volume of business for each strategy\n",
    "plt.figure(figsize=(10, 6))\n",
    "strategies = all_summary_reports['Strategy Name'].unique()\n",
    "for strategy in strategies:\n",
    "    plt.bar(strategy, all_summary_reports[all_summary_reports['Strategy Name'] == strategy]['Total volume of business'].sum(), label=strategy)\n",
    "\n",
    "plt.xlabel('Strategy')\n",
    "plt.ylabel('Total Volume of Business')\n",
    "plt.title('Total Volume of Business by Strategy')\n",
    "plt.legend()\n",
    "plt.show()\n",
    "\n"
   ]
  },
  {
   "cell_type": "markdown",
   "id": "9ce773a8",
   "metadata": {},
   "source": [
    "## Customer Satisfaction Rate by Strategy"
   ]
  },
  {
   "cell_type": "code",
   "execution_count": 64,
   "id": "bee38add",
   "metadata": {},
   "outputs": [
    {
     "data": {
      "image/png": "[encoded data removed]",
      "text/plain": [
       "<Figure size 720x432 with 1 Axes>"
      ]
     },
     "metadata": {
      "needs_background": "light"
     },
     "output_type": "display_data"
    }
   ],
   "source": [
    "# Plot customer satisfaction rates for each strategy\n",
    "plt.figure(figsize=(10, 6))\n",
    "satisfaction_rates = [float(row['Customer satisfaction rate'].strip('%')) for _, row in all_summary_reports.iterrows()]\n",
    "plt.plot(strategies, satisfaction_rates, marker='o', linestyle='-', color='blue')\n",
    "plt.xlabel('Strategy')\n",
    "plt.ylabel('Customer Satisfaction Rate (%)')\n",
    "plt.title('Customer Satisfaction Rate by Strategy')\n",
    "plt.grid(True)\n",
    "plt.xticks(rotation=45)\n",
    "plt.tight_layout()\n",
    "plt.show()"
   ]
  },
  {
   "cell_type": "markdown",
   "id": "ca3dd316",
   "metadata": {},
   "source": [
    "## Earnings by using Price Strategy"
   ]
  },
  {
   "cell_type": "code",
   "execution_count": 65,
   "id": "315714b7",
   "metadata": {},
   "outputs": [
    {
     "name": "stdout",
     "output_type": "stream",
     "text": [
      "           Guest Allocated Hotel  Satisfaction Rate (%)  Earned Money\n",
      "0        guest_1        hotel_49                      0         45.50\n",
      "1        guest_2        hotel_49                      0         50.00\n",
      "2        guest_3        hotel_49                      0         46.50\n",
      "3        guest_4        hotel_49                      0         50.00\n",
      "4        guest_5        hotel_49                      0         45.00\n",
      "...          ...             ...                    ...           ...\n",
      "3995  guest_3996         hotel_1                      0        273.00\n",
      "3996  guest_3997         hotel_1                      0        232.05\n",
      "3997  guest_3998         hotel_1                      0        253.89\n",
      "3998  guest_3999         hotel_1                      0        251.16\n",
      "3999  guest_4000         hotel_1                    100        253.89\n",
      "\n",
      "[4000 rows x 4 columns]\n"
     ]
    }
   ],
   "source": [
    "print(reports['Price'][0])  # detailed_report_df for 'Price'\n",
    "\n",
    "# Save a report to an Excel file\n",
    "reports['Price'][0].to_excel('price_strategy_report.xlsx', index=False)\n"
   ]
  },
  {
   "cell_type": "markdown",
   "id": "41b42abf",
   "metadata": {},
   "source": [
    "## Earnings by using Availabilty Strategy"
   ]
  },
  {
   "cell_type": "code",
   "execution_count": 66,
   "id": "6c606be3",
   "metadata": {},
   "outputs": [
    {
     "name": "stdout",
     "output_type": "stream",
     "text": [
      "           Guest Allocated Hotel  Satisfaction Rate (%)  Earned Money\n",
      "0        guest_1        hotel_11                      0        205.66\n",
      "1        guest_2        hotel_11                    100        226.00\n",
      "2        guest_3        hotel_11                      0        210.18\n",
      "3        guest_4        hotel_11                      0        226.00\n",
      "4        guest_5        hotel_11                      0        203.40\n",
      "...          ...             ...                    ...           ...\n",
      "3995  guest_3996       hotel_286                      0        207.00\n",
      "3996  guest_3997       hotel_286                      0        175.95\n",
      "3997  guest_3998       hotel_286                      0        192.51\n",
      "3998  guest_3999       hotel_286                      0        190.44\n",
      "3999  guest_4000       hotel_286                      0        192.51\n",
      "\n",
      "[4000 rows x 4 columns]\n"
     ]
    }
   ],
   "source": [
    "print(reports['Availability'][0])  # detailed_report_df for 'Price'\n",
    "\n",
    "# Save a report to an Excel file\n",
    "reports['Availability'][0].to_excel('availability_strategy_report.xlsx', index=False)\n"
   ]
  },
  {
   "cell_type": "markdown",
   "id": "a3f183c3",
   "metadata": {},
   "source": [
    "## Earnings by using Random Strategy"
   ]
  },
  {
   "cell_type": "code",
   "execution_count": 67,
   "id": "fadcf103",
   "metadata": {},
   "outputs": [
    {
     "name": "stdout",
     "output_type": "stream",
     "text": [
      "           Guest Allocated Hotel  Satisfaction Rate (%)  Earned Money\n",
      "0     guest_2253         hotel_1                      0        262.08\n",
      "1     guest_3711         hotel_1                      0        232.05\n",
      "2     guest_3412         hotel_1                      0        259.35\n",
      "3     guest_3068         hotel_1                      0        259.35\n",
      "4     guest_3187         hotel_1                      0        229.32\n",
      "...          ...             ...                    ...           ...\n",
      "3995  guest_3356       hotel_347                      0        190.08\n",
      "3996  guest_2538       hotel_347                      0        205.20\n",
      "3997  guest_2811       hotel_347                      0        209.52\n",
      "3998  guest_3478       hotel_347                      0        181.44\n",
      "3999  guest_2864       hotel_347                      0        211.68\n",
      "\n",
      "[4000 rows x 4 columns]\n"
     ]
    }
   ],
   "source": [
    "print(reports['Random'][0])  # detailed_report_df for 'Price'\n",
    "\n",
    "# Save a report to an Excel file\n",
    "reports['Random'][0].to_excel('random_strategy_report.xlsx', index=False)\n"
   ]
  },
  {
   "cell_type": "markdown",
   "id": "b65ca170",
   "metadata": {},
   "source": [
    "## Earnings by using Preference Strategy"
   ]
  },
  {
   "cell_type": "code",
   "execution_count": 68,
   "id": "7a0079db",
   "metadata": {},
   "outputs": [
    {
     "name": "stdout",
     "output_type": "stream",
     "text": [
      "           Guest Allocated Hotel  Satisfaction Rate (%)  Earned Money\n",
      "0        guest_1       hotel_168                    100        271.18\n",
      "1       guest_10        hotel_60                    100        242.00\n",
      "2      guest_100        hotel_73                    100        230.51\n",
      "3     guest_1000       hotel_396                    100        197.16\n",
      "4     guest_1001       hotel_109                    100         54.27\n",
      "...          ...             ...                    ...           ...\n",
      "3995   guest_995       hotel_354                    100         45.76\n",
      "3996   guest_996        hotel_13                      0        168.30\n",
      "3997   guest_997       hotel_356                    100        193.44\n",
      "3998   guest_998       hotel_381                    100        240.12\n",
      "3999   guest_999        hotel_13                      0        168.30\n",
      "\n",
      "[4000 rows x 4 columns]\n"
     ]
    }
   ],
   "source": [
    "print(reports['Preference'][0])  # detailed_report_df for 'Price'\n",
    "\n",
    "# Save a report to an Excel file\n",
    "reports['Preference'][0].to_excel('preference_strategy_report.xlsx', index=False)\n"
   ]
  },
  {
   "cell_type": "markdown",
   "id": "573949fc",
   "metadata": {},
   "source": [
    "## Bar Plot of Preferences strategy"
   ]
  },
  {
   "cell_type": "code",
   "execution_count": 69,
   "id": "eac6b2ab",
   "metadata": {
    "scrolled": false
   },
   "outputs": [
    {
     "data": {
      "image/png": "[encoded data removed]",
      "text/plain": [
       "<Figure size 864x432 with 1 Axes>"
      ]
     },
     "metadata": {
      "needs_background": "light"
     },
     "output_type": "display_data"
    }
   ],
   "source": [
    "# Plot for Top Earning Hotels for a Preferences strategy\n",
    "chosen_strategy = 'Preference'  \n",
    "top_earnings_df = pd.DataFrame(top_earning_hotels_all_strategies[chosen_strategy], columns=[\"Hotel\", \"Earnings\"])\n",
    "hotels, earnings = zip(*top_earning_hotels_all_strategies[chosen_strategy])\n",
    "plt.figure(figsize=(12, 6))\n",
    "plt.bar(hotels, earnings, color='blue')\n",
    "plt.xlabel('Hotels')\n",
    "plt.ylabel('Earnings')\n",
    "plt.title(f'Top 10 Earning Hotels for {chosen_strategy} Strategy')\n",
    "plt.xticks(rotation=45)\n",
    "plt.tight_layout()\n",
    "plt.show()"
   ]
  },
  {
   "cell_type": "markdown",
   "id": "7c2a7e04",
   "metadata": {},
   "source": [
    "## Bar Plot of Price strategy\n"
   ]
  },
  {
   "cell_type": "code",
   "execution_count": 70,
   "id": "3cdfcd3a",
   "metadata": {},
   "outputs": [
    {
     "data": {
      "image/png": "[encoded data removed]",
      "text/plain": [
       "<Figure size 864x432 with 1 Axes>"
      ]
     },
     "metadata": {
      "needs_background": "light"
     },
     "output_type": "display_data"
    }
   ],
   "source": [
    "# Plot for Top Earning Hotels for a Price strategy\n",
    "chosen_strategy = 'Price'  \n",
    "top_earnings_df = pd.DataFrame(top_earning_hotels_all_strategies[chosen_strategy], columns=[\"Hotel\", \"Earnings\"])\n",
    "hotels, earnings = zip(*top_earning_hotels_all_strategies[chosen_strategy])\n",
    "plt.figure(figsize=(12, 6))\n",
    "plt.bar(hotels, earnings, color='blue')\n",
    "plt.xlabel('Hotels')\n",
    "plt.ylabel('Earnings')\n",
    "plt.title(f'Top 10 Earning Hotels for {chosen_strategy} Strategy')\n",
    "plt.xticks(rotation=45)\n",
    "plt.tight_layout()\n",
    "plt.show()"
   ]
  },
  {
   "cell_type": "markdown",
   "id": "5d8bb0e0",
   "metadata": {},
   "source": [
    "## Bar Plot of Random strategy\n"
   ]
  },
  {
   "cell_type": "code",
   "execution_count": 71,
   "id": "70cef92d",
   "metadata": {},
   "outputs": [
    {
     "data": {
      "image/png": "[encoded data removed]",
      "text/plain": [
       "<Figure size 864x432 with 1 Axes>"
      ]
     },
     "metadata": {
      "needs_background": "light"
     },
     "output_type": "display_data"
    }
   ],
   "source": [
    "# Plot for Top Earning Hotels for a Random strategy\n",
    "chosen_strategy = 'Random'  \n",
    "top_earnings_df = pd.DataFrame(top_earning_hotels_all_strategies[chosen_strategy], columns=[\"Hotel\", \"Earnings\"])\n",
    "hotels, earnings = zip(*top_earning_hotels_all_strategies[chosen_strategy])\n",
    "plt.figure(figsize=(12, 6))\n",
    "plt.bar(hotels, earnings, color='blue')\n",
    "plt.xlabel('Hotels')\n",
    "plt.ylabel('Earnings')\n",
    "plt.title(f'Top 10 Earning Hotels for {chosen_strategy} Strategy')\n",
    "plt.xticks(rotation=45)\n",
    "plt.tight_layout()\n",
    "plt.show()"
   ]
  },
  {
   "cell_type": "markdown",
   "id": "151b3234",
   "metadata": {},
   "source": [
    "## Bar Plot of Availability strategy\n"
   ]
  },
  {
   "cell_type": "code",
   "execution_count": 72,
   "id": "e13ca0a4",
   "metadata": {},
   "outputs": [
    {
     "data": {
      "image/png": "[encoded data removed]",
      "text/plain": [
       "<Figure size 864x432 with 1 Axes>"
      ]
     },
     "metadata": {
      "needs_background": "light"
     },
     "output_type": "display_data"
    }
   ],
   "source": [
    "# Plot for Top Earning Hotels for a Availability  strategy\n",
    "chosen_strategy = 'Availability' \n",
    "top_earnings_df = pd.DataFrame(top_earning_hotels_all_strategies[chosen_strategy], columns=[\"Hotel\", \"Earnings\"])\n",
    "hotels, earnings = zip(*top_earning_hotels_all_strategies[chosen_strategy])\n",
    "plt.figure(figsize=(12, 6))\n",
    "plt.bar(hotels, earnings, color='blue')\n",
    "plt.xlabel('Hotels')\n",
    "plt.ylabel('Earnings')\n",
    "plt.title(f'Top 10 Earning Hotels for {chosen_strategy} Strategy')\n",
    "plt.xticks(rotation=45)\n",
    "plt.tight_layout()\n",
    "plt.show()"
   ]
  },
  {
   "cell_type": "markdown",
   "id": "0024ce59",
   "metadata": {},
   "source": [
    "## All Reports for each strategy"
   ]
  },
  {
   "cell_type": "code",
   "execution_count": 73,
   "id": "9f98bc0e",
   "metadata": {},
   "outputs": [
    {
     "name": "stdout",
     "output_type": "stream",
     "text": [
      "Strategy: Price\n",
      " Number of customers accommodated  Number of rooms occupied  Total volume of business Customer satisfaction rate Strategy Name\n",
      "                             4000                      4000                 579540.29                     5.675%         Price\n",
      "\n",
      "\n",
      "Strategy: Random\n",
      " Number of customers accommodated  Number of rooms occupied  Total volume of business Customer satisfaction rate Strategy Name\n",
      "                             4000                      4000                 633766.61                       6.0%        Random\n",
      "\n",
      "\n",
      "Strategy: Preference\n",
      " Number of customers accommodated  Number of rooms occupied  Total volume of business Customer satisfaction rate Strategy Name\n",
      "                             4000                      4000                 645153.36                    99.275%    Preference\n",
      "\n",
      "\n",
      "Strategy: Availability\n",
      " Number of customers accommodated  Number of rooms occupied  Total volume of business Customer satisfaction rate Strategy Name\n",
      "                             4000                      4000                 637113.22                     5.975%  Availability\n",
      "\n",
      "\n"
     ]
    }
   ],
   "source": [
    "# Run all strategies and display the results\n",
    "all_reports = run_all_strategies_and_display_results()\n"
   ]
  },
  {
   "cell_type": "code",
   "execution_count": null,
   "id": "63df6eaf",
   "metadata": {},
   "outputs": [],
   "source": []
  }
 ],
 "metadata": {
  "kernelspec": {
   "display_name": "Python 3 (ipykernel)",
   "language": "python",
   "name": "python3"
  },
  "language_info": {
   "codemirror_mode": {
    "name": "ipython",
    "version": 3
   },
   "file_extension": ".py",
   "mimetype": "text/x-python",
   "name": "python",
   "nbconvert_exporter": "python",
   "pygments_lexer": "ipython3",
   "version": "3.9.12"
  }
 },
 "nbformat": 4,
 "nbformat_minor": 5
}
