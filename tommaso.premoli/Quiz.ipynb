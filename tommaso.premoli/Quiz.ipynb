{
 "cells": [
  {
   "cell_type": "markdown",
   "id": "93fa9c94",
   "metadata": {},
   "source": [
    "## Data Import"
   ]
  },
  {
   "cell_type": "code",
   "execution_count": 2,
   "outputs": [],
   "source": [
    "import pandas as pd"
   ],
   "metadata": {
    "collapsed": false,
    "ExecuteTime": {
     "end_time": "2023-11-17T09:47:23.691383Z",
     "start_time": "2023-11-17T09:47:22.958123Z"
    }
   },
   "id": "06ddd7e4"
  },
  {
   "cell_type": "code",
   "execution_count": 3,
   "id": "154f2954",
   "metadata": {
    "ExecuteTime": {
     "end_time": "2023-11-17T09:47:26.103503Z",
     "start_time": "2023-11-17T09:47:25.318833Z"
    }
   },
   "outputs": [],
   "source": [
    "movies = pd.read_excel('Dataset/Movie_Dataset.xlsx')"
   ]
  },
  {
   "cell_type": "code",
   "execution_count": 4,
   "id": "970ba173",
   "metadata": {
    "ExecuteTime": {
     "end_time": "2023-11-17T09:47:27.608727Z",
     "start_time": "2023-11-17T09:47:27.593354Z"
    }
   },
   "outputs": [
    {
     "data": {
      "text/plain": "                                            movie_title    year  \\\n0                                                Avatar  2009.0   \n1              Pirates of the Caribbean: At World's End  2007.0   \n2                                               Spectre  2015.0   \n3                                 The Dark Knight Rises  2012.0   \n4     Star Wars: Episode VII - The Force Awakens    ...     NaN   \n...                                                 ...     ...   \n5038                            Signed Sealed Delivered  2013.0   \n5039                          The Following                 NaN   \n5040                               A Plague So Pleasant  2013.0   \n5041                                   Shanghai Calling  2012.0   \n5042                                  My Date with Drew  2004.0   \n\n          director_name       actor_name                           genres  \\\n0         James Cameron      CCH Pounder  Action|Adventure|Fantasy|Sci-Fi   \n1        Gore Verbinski      Johnny Depp         Action|Adventure|Fantasy   \n2            Sam Mendes  Christoph Waltz        Action|Adventure|Thriller   \n3     Christopher Nolan        Tom Hardy                  Action|Thriller   \n4           Doug Walker      Doug Walker                      Documentary   \n...                 ...              ...                              ...   \n5038        Scott Smith      Eric Mabius                     Comedy|Drama   \n5039                NaN      Natalie Zea     Crime|Drama|Mystery|Thriller   \n5040   Benjamin Roberds      Eva Boehnke            Drama|Horror|Thriller   \n5041        Daniel Hsia        Alan Ruck             Comedy|Drama|Romance   \n5042           Jon Gunn      John August                      Documentary   \n\n     country  \n0        USA  \n1        USA  \n2         UK  \n3        USA  \n4        NaN  \n...      ...  \n5038  Canada  \n5039     USA  \n5040     USA  \n5041     USA  \n5042     USA  \n\n[5043 rows x 6 columns]",
      "text/html": "<div>\n<style scoped>\n    .dataframe tbody tr th:only-of-type {\n        vertical-align: middle;\n    }\n\n    .dataframe tbody tr th {\n        vertical-align: top;\n    }\n\n    .dataframe thead th {\n        text-align: right;\n    }\n</style>\n<table border=\"1\" class=\"dataframe\">\n  <thead>\n    <tr style=\"text-align: right;\">\n      <th></th>\n      <th>movie_title</th>\n      <th>year</th>\n      <th>director_name</th>\n      <th>actor_name</th>\n      <th>genres</th>\n      <th>country</th>\n    </tr>\n  </thead>\n  <tbody>\n    <tr>\n      <th>0</th>\n      <td>Avatar</td>\n      <td>2009.0</td>\n      <td>James Cameron</td>\n      <td>CCH Pounder</td>\n      <td>Action|Adventure|Fantasy|Sci-Fi</td>\n      <td>USA</td>\n    </tr>\n    <tr>\n      <th>1</th>\n      <td>Pirates of the Caribbean: At World's End</td>\n      <td>2007.0</td>\n      <td>Gore Verbinski</td>\n      <td>Johnny Depp</td>\n      <td>Action|Adventure|Fantasy</td>\n      <td>USA</td>\n    </tr>\n    <tr>\n      <th>2</th>\n      <td>Spectre</td>\n      <td>2015.0</td>\n      <td>Sam Mendes</td>\n      <td>Christoph Waltz</td>\n      <td>Action|Adventure|Thriller</td>\n      <td>UK</td>\n    </tr>\n    <tr>\n      <th>3</th>\n      <td>The Dark Knight Rises</td>\n      <td>2012.0</td>\n      <td>Christopher Nolan</td>\n      <td>Tom Hardy</td>\n      <td>Action|Thriller</td>\n      <td>USA</td>\n    </tr>\n    <tr>\n      <th>4</th>\n      <td>Star Wars: Episode VII - The Force Awakens    ...</td>\n      <td>NaN</td>\n      <td>Doug Walker</td>\n      <td>Doug Walker</td>\n      <td>Documentary</td>\n      <td>NaN</td>\n    </tr>\n    <tr>\n      <th>...</th>\n      <td>...</td>\n      <td>...</td>\n      <td>...</td>\n      <td>...</td>\n      <td>...</td>\n      <td>...</td>\n    </tr>\n    <tr>\n      <th>5038</th>\n      <td>Signed Sealed Delivered</td>\n      <td>2013.0</td>\n      <td>Scott Smith</td>\n      <td>Eric Mabius</td>\n      <td>Comedy|Drama</td>\n      <td>Canada</td>\n    </tr>\n    <tr>\n      <th>5039</th>\n      <td>The Following</td>\n      <td>NaN</td>\n      <td>NaN</td>\n      <td>Natalie Zea</td>\n      <td>Crime|Drama|Mystery|Thriller</td>\n      <td>USA</td>\n    </tr>\n    <tr>\n      <th>5040</th>\n      <td>A Plague So Pleasant</td>\n      <td>2013.0</td>\n      <td>Benjamin Roberds</td>\n      <td>Eva Boehnke</td>\n      <td>Drama|Horror|Thriller</td>\n      <td>USA</td>\n    </tr>\n    <tr>\n      <th>5041</th>\n      <td>Shanghai Calling</td>\n      <td>2012.0</td>\n      <td>Daniel Hsia</td>\n      <td>Alan Ruck</td>\n      <td>Comedy|Drama|Romance</td>\n      <td>USA</td>\n    </tr>\n    <tr>\n      <th>5042</th>\n      <td>My Date with Drew</td>\n      <td>2004.0</td>\n      <td>Jon Gunn</td>\n      <td>John August</td>\n      <td>Documentary</td>\n      <td>USA</td>\n    </tr>\n  </tbody>\n</table>\n<p>5043 rows × 6 columns</p>\n</div>"
     },
     "execution_count": 4,
     "metadata": {},
     "output_type": "execute_result"
    }
   ],
   "source": [
    "movies"
   ]
  },
  {
   "cell_type": "markdown",
   "id": "3e2f3311",
   "metadata": {},
   "source": [
    "## Data Cleaning"
   ]
  },
  {
   "cell_type": "code",
   "execution_count": 5,
   "id": "0cf89b5d",
   "metadata": {
    "ExecuteTime": {
     "end_time": "2023-11-17T09:47:33.569915Z",
     "start_time": "2023-11-17T09:47:33.563156Z"
    }
   },
   "outputs": [],
   "source": [
    "import pandas as pd\n",
    "\n",
    "movies['genres'] = movies['genres'].str.lower()\n",
    "\n",
    "def format_genres(genres):\n",
    " genres = genres.split('|')\n",
    " if len(genres) > 1:\n",
    "     genres = ', '.join(genres[:-1]) + ' and ' + genres[-1]\n",
    " else:\n",
    "     genres = genres[0]\n",
    " return genres\n",
    "\n",
    "movies['genres'] = movies['genres'].apply(format_genres)\n",
    "\n",
    "movies.dropna(inplace=True)\n",
    "\n",
    "movies['year'] = pd.to_numeric(movies['year'], errors='coerce').fillna(0).astype(int)"
   ]
  },
  {
   "cell_type": "code",
   "execution_count": 6,
   "id": "e969aae4",
   "metadata": {
    "ExecuteTime": {
     "end_time": "2023-11-17T09:47:42.273870Z",
     "start_time": "2023-11-17T09:47:42.267649Z"
    }
   },
   "outputs": [
    {
     "data": {
      "text/plain": "                                   movie_title  year      director_name  \\\n0                                       Avatar  2009      James Cameron   \n1     Pirates of the Caribbean: At World's End  2007     Gore Verbinski   \n2                                      Spectre  2015         Sam Mendes   \n3                        The Dark Knight Rises  2012  Christopher Nolan   \n5                                  John Carter  2012     Andrew Stanton   \n...                                        ...   ...                ...   \n5037                                 Newlyweds  2011       Edward Burns   \n5038                   Signed Sealed Delivered  2013        Scott Smith   \n5040                      A Plague So Pleasant  2013   Benjamin Roberds   \n5041                          Shanghai Calling  2012        Daniel Hsia   \n5042                         My Date with Drew  2004           Jon Gunn   \n\n           actor_name                                 genres country  \n0         CCH Pounder  action, adventure, fantasy and sci-fi     USA  \n1         Johnny Depp          action, adventure and fantasy     USA  \n2     Christoph Waltz         action, adventure and thriller      UK  \n3           Tom Hardy                    action and thriller     USA  \n5        Daryl Sabara           action, adventure and sci-fi     USA  \n...               ...                                    ...     ...  \n5037      Kerry Bishé                       comedy and drama     USA  \n5038      Eric Mabius                       comedy and drama  Canada  \n5040      Eva Boehnke             drama, horror and thriller     USA  \n5041        Alan Ruck              comedy, drama and romance     USA  \n5042      John August                            documentary     USA  \n\n[4927 rows x 6 columns]",
      "text/html": "<div>\n<style scoped>\n    .dataframe tbody tr th:only-of-type {\n        vertical-align: middle;\n    }\n\n    .dataframe tbody tr th {\n        vertical-align: top;\n    }\n\n    .dataframe thead th {\n        text-align: right;\n    }\n</style>\n<table border=\"1\" class=\"dataframe\">\n  <thead>\n    <tr style=\"text-align: right;\">\n      <th></th>\n      <th>movie_title</th>\n      <th>year</th>\n      <th>director_name</th>\n      <th>actor_name</th>\n      <th>genres</th>\n      <th>country</th>\n    </tr>\n  </thead>\n  <tbody>\n    <tr>\n      <th>0</th>\n      <td>Avatar</td>\n      <td>2009</td>\n      <td>James Cameron</td>\n      <td>CCH Pounder</td>\n      <td>action, adventure, fantasy and sci-fi</td>\n      <td>USA</td>\n    </tr>\n    <tr>\n      <th>1</th>\n      <td>Pirates of the Caribbean: At World's End</td>\n      <td>2007</td>\n      <td>Gore Verbinski</td>\n      <td>Johnny Depp</td>\n      <td>action, adventure and fantasy</td>\n      <td>USA</td>\n    </tr>\n    <tr>\n      <th>2</th>\n      <td>Spectre</td>\n      <td>2015</td>\n      <td>Sam Mendes</td>\n      <td>Christoph Waltz</td>\n      <td>action, adventure and thriller</td>\n      <td>UK</td>\n    </tr>\n    <tr>\n      <th>3</th>\n      <td>The Dark Knight Rises</td>\n      <td>2012</td>\n      <td>Christopher Nolan</td>\n      <td>Tom Hardy</td>\n      <td>action and thriller</td>\n      <td>USA</td>\n    </tr>\n    <tr>\n      <th>5</th>\n      <td>John Carter</td>\n      <td>2012</td>\n      <td>Andrew Stanton</td>\n      <td>Daryl Sabara</td>\n      <td>action, adventure and sci-fi</td>\n      <td>USA</td>\n    </tr>\n    <tr>\n      <th>...</th>\n      <td>...</td>\n      <td>...</td>\n      <td>...</td>\n      <td>...</td>\n      <td>...</td>\n      <td>...</td>\n    </tr>\n    <tr>\n      <th>5037</th>\n      <td>Newlyweds</td>\n      <td>2011</td>\n      <td>Edward Burns</td>\n      <td>Kerry Bishé</td>\n      <td>comedy and drama</td>\n      <td>USA</td>\n    </tr>\n    <tr>\n      <th>5038</th>\n      <td>Signed Sealed Delivered</td>\n      <td>2013</td>\n      <td>Scott Smith</td>\n      <td>Eric Mabius</td>\n      <td>comedy and drama</td>\n      <td>Canada</td>\n    </tr>\n    <tr>\n      <th>5040</th>\n      <td>A Plague So Pleasant</td>\n      <td>2013</td>\n      <td>Benjamin Roberds</td>\n      <td>Eva Boehnke</td>\n      <td>drama, horror and thriller</td>\n      <td>USA</td>\n    </tr>\n    <tr>\n      <th>5041</th>\n      <td>Shanghai Calling</td>\n      <td>2012</td>\n      <td>Daniel Hsia</td>\n      <td>Alan Ruck</td>\n      <td>comedy, drama and romance</td>\n      <td>USA</td>\n    </tr>\n    <tr>\n      <th>5042</th>\n      <td>My Date with Drew</td>\n      <td>2004</td>\n      <td>Jon Gunn</td>\n      <td>John August</td>\n      <td>documentary</td>\n      <td>USA</td>\n    </tr>\n  </tbody>\n</table>\n<p>4927 rows × 6 columns</p>\n</div>"
     },
     "execution_count": 6,
     "metadata": {},
     "output_type": "execute_result"
    }
   ],
   "source": [
    "movies"
   ]
  },
  {
   "cell_type": "markdown",
   "id": "5ae5c058",
   "metadata": {},
   "source": [
    "## Program Creation"
   ]
  },
  {
   "cell_type": "code",
   "execution_count": 7,
   "id": "5d3c31f1",
   "metadata": {
    "ExecuteTime": {
     "end_time": "2023-11-17T09:48:23.880994Z",
     "start_time": "2023-11-17T09:47:54.338838Z"
    }
   },
   "outputs": [
    {
     "name": "stdout",
     "output_type": "stream",
     "text": [
      "Question 1. What is the title of the film released in 2013 directed by Don Scardino, starring Steve Buscemi, produced in USA and belonging to the genre comedy?\n",
      "A. The Incredible Burt Wonderstone\n",
      "B. Hotel Transylvania\n",
      "C. Monsters University\n",
      "D. Small Time Crooks\n",
      "Correct!\n",
      "\n",
      "Question 2. What is the title of the film released in 2011 directed by William Kaufman, starring Drew Waters, produced in USA and belonging to the genre action and thriller?\n",
      "A. The Angry Birds Movie\n",
      "B. The Hit List\n",
      "C. Concussion\n",
      "D. Prison\n",
      "Wrong! The correct answer is The Hit List\n",
      "\n",
      "Question 3. What is the title of the film released in 2016 directed by Zack Snyder, starring Henry Cavill, produced in USA and belonging to the genre action, adventure and sci-fi?\n",
      "A. Batman v Superman: Dawn of Justice\n",
      "B. Dragonball: Evolution\n",
      "C. Salt\n",
      "D. The Pet\n",
      "Correct!\n",
      "\n",
      "Question 4. What is the title of the film released in 2000 directed by Peyton Reed, starring Kirsten Dunst, produced in USA and belonging to the genre comedy and sport?\n",
      "A. Bring It On\n",
      "B. Flight\n",
      "C. Bicentennial Man\n",
      "D. Q\n",
      "Correct!\n",
      "\n",
      "Question 5. What is the title of the film released in 2003 directed by Jan de Bont, starring Gerard Butler, produced in USA and belonging to the genre action, adventure and fantasy?\n",
      "A. Lara Croft Tomb Raider: The Cradle of Life\n",
      "B. 127 Hours\n",
      "C. In the Name of the King: A Dungeon Siege Tale\n",
      "D. Wild Target\n",
      "Correct!\n",
      "\n",
      "Question 6. What is the title of the film released in 2006 directed by Anne Fletcher, starring Channing Tatum, produced in USA and belonging to the genre crime, drama, music and romance?\n",
      "A. Larry Crowne\n",
      "B. Step Up\n",
      "C. About Schmidt\n",
      "D. Cloudy with a Chance of Meatballs 2\n",
      "Wrong! The correct answer is Step Up\n",
      "\n",
      "Question 7. What is the title of the film released in 2013 directed by Ridley Scott, starring Michael Fassbender, produced in USA and belonging to the genre crime, drama and thriller?\n",
      "A. The Counselor\n",
      "B. Warriors of Virtue\n",
      "C. The Hunger Games: Mockingjay - Part 1\n",
      "D. Rambo: First Blood Part II\n",
      "Wrong! The correct answer is The Counselor\n",
      "\n",
      "Question 8. What is the title of the film released in 2004 directed by Mary McGuckian, starring Robert De Niro, produced in UK and belonging to the genre drama and romance?\n",
      "A. The Bridge of San Luis Rey\n",
      "B. I Love You Phillip Morris\n",
      "C. Team America: World Police\n",
      "D. Speed\n",
      "Wrong! The correct answer is The Bridge of San Luis Rey\n",
      "\n",
      "Question 9. What is the title of the film released in 2011 directed by Gabriela Tagliavini, starring Maria Conchita Alonso, produced in USA and belonging to the genre comedy?\n",
      "A. The Island of Dr. Moreau\n",
      "B. Celeste & Jesse Forever\n",
      "C. Without Men\n",
      "D. Apocalypse Now\n",
      "Wrong! The correct answer is Without Men\n",
      "\n",
      "Question 10. What is the title of the film released in 2005 directed by Wes Craven, starring Shannon Elizabeth, produced in USA and belonging to the genre comedy and horror?\n",
      "A. Crank: High Voltage\n",
      "B. Cursed\n",
      "C. Shooting Fish\n",
      "D. At First Sight\n",
      "Wrong! The correct answer is Cursed\n",
      "\n",
      "Your total score is 4/10!\n"
     ]
    },
    {
     "data": {
      "text/plain": "<Figure size 640x480 with 1 Axes>",
      "image/png": "[encoded data removed]"
     },
     "metadata": {},
     "output_type": "display_data"
    },
    {
     "name": "stdout",
     "output_type": "stream",
     "text": [
      "\n",
      "Thanks for trying!\n"
     ]
    }
   ],
   "source": [
    "import pandas as pd\n",
    "from numpy import random\n",
    "import string\n",
    "import matplotlib.pyplot as plt\n",
    "\n",
    "movies = pd.read_excel('Dataset/Movie_Dataset.xlsx')\n",
    "\n",
    "# Data Cleaning\n",
    "movies['genres'] = movies['genres'].str.lower()\n",
    "def format_genres(genres):\n",
    " genres = genres.split('|')\n",
    " if len(genres) > 1:\n",
    "    genres = ', '.join(genres[:-1]) + ' and ' + genres[-1]\n",
    " else:\n",
    "    genres = genres[0]\n",
    " return genres\n",
    "movies['genres'] = movies['genres'].apply(format_genres)\n",
    "movies.dropna(inplace=True)\n",
    "movies['year'] = pd.to_numeric(movies['year'], errors='coerce').fillna(0).astype(int)\n",
    "\n",
    "def choose_difficulty():\n",
    "  difficulty = input(\"Choose your difficulty level (Easy/Difficult): \").lower()\n",
    "  if difficulty == 'easy':\n",
    "      return movies['year'] > 1990\n",
    "  elif difficulty == 'difficult':\n",
    "      return movies['year'] < 1990\n",
    "  else:\n",
    "      print(\"Invalid choice, defaulting to Easy\")\n",
    "      return movies['year'] > 1990\n",
    "\n",
    "def generate_question(movies, difficulty_filter):\n",
    "   correct_movie = movies[difficulty_filter].sample(1)\n",
    "   question = f\"What is the title of the film released in {correct_movie['year'].values[0]} directed by {correct_movie['director_name'].values[0]}, starring {correct_movie['actor_name'].values[0]}, produced in {correct_movie['country'].values[0]} and belonging to the genre {correct_movie['genres'].values[0]}?\"\n",
    "   return question, correct_movie\n",
    "\n",
    "def generate_answers(movies, correct_movie):\n",
    "   incorrect_movies = movies.drop(correct_movie.index.values.tolist())\n",
    "   incorrect_answers = incorrect_movies.sample(3)['movie_title'].values\n",
    "   correct_answer = correct_movie['movie_title'].values[0]\n",
    "   answers = [correct_answer] + list(incorrect_answers)\n",
    "   random.shuffle(answers)\n",
    "   return answers\n",
    "\n",
    "def quiz(movies):\n",
    "  difficulty_filter = choose_difficulty()\n",
    "  score = 0\n",
    "  score_history = [0]\n",
    "  for i in range(1, 11):\n",
    "      question, correct_movie = generate_question(movies, difficulty_filter)\n",
    "      answers = generate_answers(movies, correct_movie)\n",
    "      print(f\"Question {i}. {question}\")\n",
    "      for j, answer in zip(string.ascii_uppercase, answers):\n",
    "          print(f\"{j}. {answer}\")\n",
    "      user_answer = input(\"Your answer: \").upper()\n",
    "      while user_answer not in string.ascii_uppercase:\n",
    "          print(\"You have another chance, try again!\")\n",
    "          user_answer = input(\"Your answer: \").upper()\n",
    "      correct_answer = correct_movie['movie_title'].values[0]\n",
    "      selected_answer = answers[string.ascii_uppercase.index(user_answer)]\n",
    "      if selected_answer == correct_answer:\n",
    "          print(\"Correct!\\n\")\n",
    "          score += 1\n",
    "          score_history.append(score) \n",
    "      else:\n",
    "          print(f\"Wrong! The correct answer is {correct_answer}\\n\")\n",
    "          score_history.append(score) \n",
    "  print(f\"Your total score is {score}/10!\\n\")\n",
    "  plt.plot(score_history)\n",
    "  plt.xlabel('Question number')\n",
    "  plt.ylabel('Score')\n",
    "  plt.title('Score over time')\n",
    "  plt.ylim(0, 10)\n",
    "  plt.show()\n",
    "  retry = input(\"Do you want to retry? (yes/no): \").lower()\n",
    "  if retry != 'no':\n",
    "      quiz(movies)\n",
    "  else:\n",
    "      print(\"\\nThanks for trying!\")\n",
    "\n",
    "quiz(movies)"
   ]
  }
 ],
 "metadata": {
  "kernelspec": {
   "display_name": "Python 3 (ipykernel)",
   "language": "python",
   "name": "python3"
  },
  "language_info": {
   "codemirror_mode": {
    "name": "ipython",
    "version": 3
   },
   "file_extension": ".py",
   "mimetype": "text/x-python",
   "name": "python",
   "nbconvert_exporter": "python",
   "pygments_lexer": "ipython3",
   "version": "3.11.4"
  }
 },
 "nbformat": 4,
 "nbformat_minor": 5
}
