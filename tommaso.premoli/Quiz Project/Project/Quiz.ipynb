{
 "cells": [
  {
   "cell_type": "markdown",
   "id": "93fa9c94",
   "metadata": {},
   "source": [
    "## Data Import"
   ]
  },
  {
   "cell_type": "code",
   "execution_count": 6,
   "id": "06ddd7e4",
   "metadata": {
    "ExecuteTime": {
     "end_time": "2023-11-22T14:06:30.238608Z",
     "start_time": "2023-11-22T14:06:30.229874Z"
    }
   },
   "outputs": [],
   "source": [
    "import pandas as pd"
   ]
  },
  {
   "cell_type": "code",
   "execution_count": 7,
   "id": "154f2954",
   "metadata": {
    "ExecuteTime": {
     "end_time": "2023-11-22T14:06:48.194032Z",
     "start_time": "2023-11-22T14:06:47.273694Z"
    }
   },
   "outputs": [],
   "source": [
    "movies = pd.read_excel('Dataset/Movie_Dataset.xlsx')"
   ]
  },
  {
   "cell_type": "code",
   "execution_count": 8,
   "id": "970ba173",
   "metadata": {
    "ExecuteTime": {
     "end_time": "2023-11-22T14:06:50.252171Z",
     "start_time": "2023-11-22T14:06:50.207775Z"
    }
   },
   "outputs": [
    {
     "data": {
      "text/plain": "                                            movie_title    year  \\\n0                                                Avatar  2009.0   \n1              Pirates of the Caribbean: At World's End  2007.0   \n2                                               Spectre  2015.0   \n3                                 The Dark Knight Rises  2012.0   \n4     Star Wars: Episode VII - The Force Awakens    ...     NaN   \n...                                                 ...     ...   \n5038                            Signed Sealed Delivered  2013.0   \n5039                          The Following                 NaN   \n5040                               A Plague So Pleasant  2013.0   \n5041                                   Shanghai Calling  2012.0   \n5042                                  My Date with Drew  2004.0   \n\n          director_name       actor_name                           genres  \\\n0         James Cameron      CCH Pounder  Action|Adventure|Fantasy|Sci-Fi   \n1        Gore Verbinski      Johnny Depp         Action|Adventure|Fantasy   \n2            Sam Mendes  Christoph Waltz        Action|Adventure|Thriller   \n3     Christopher Nolan        Tom Hardy                  Action|Thriller   \n4           Doug Walker      Doug Walker                      Documentary   \n...                 ...              ...                              ...   \n5038        Scott Smith      Eric Mabius                     Comedy|Drama   \n5039                NaN      Natalie Zea     Crime|Drama|Mystery|Thriller   \n5040   Benjamin Roberds      Eva Boehnke            Drama|Horror|Thriller   \n5041        Daniel Hsia        Alan Ruck             Comedy|Drama|Romance   \n5042           Jon Gunn      John August                      Documentary   \n\n     country  \n0        USA  \n1        USA  \n2         UK  \n3        USA  \n4        NaN  \n...      ...  \n5038  Canada  \n5039     USA  \n5040     USA  \n5041     USA  \n5042     USA  \n\n[5043 rows x 6 columns]",
      "text/html": "<div>\n<style scoped>\n    .dataframe tbody tr th:only-of-type {\n        vertical-align: middle;\n    }\n\n    .dataframe tbody tr th {\n        vertical-align: top;\n    }\n\n    .dataframe thead th {\n        text-align: right;\n    }\n</style>\n<table border=\"1\" class=\"dataframe\">\n  <thead>\n    <tr style=\"text-align: right;\">\n      <th></th>\n      <th>movie_title</th>\n      <th>year</th>\n      <th>director_name</th>\n      <th>actor_name</th>\n      <th>genres</th>\n      <th>country</th>\n    </tr>\n  </thead>\n  <tbody>\n    <tr>\n      <th>0</th>\n      <td>Avatar</td>\n      <td>2009.0</td>\n      <td>James Cameron</td>\n      <td>CCH Pounder</td>\n      <td>Action|Adventure|Fantasy|Sci-Fi</td>\n      <td>USA</td>\n    </tr>\n    <tr>\n      <th>1</th>\n      <td>Pirates of the Caribbean: At World's End</td>\n      <td>2007.0</td>\n      <td>Gore Verbinski</td>\n      <td>Johnny Depp</td>\n      <td>Action|Adventure|Fantasy</td>\n      <td>USA</td>\n    </tr>\n    <tr>\n      <th>2</th>\n      <td>Spectre</td>\n      <td>2015.0</td>\n      <td>Sam Mendes</td>\n      <td>Christoph Waltz</td>\n      <td>Action|Adventure|Thriller</td>\n      <td>UK</td>\n    </tr>\n    <tr>\n      <th>3</th>\n      <td>The Dark Knight Rises</td>\n      <td>2012.0</td>\n      <td>Christopher Nolan</td>\n      <td>Tom Hardy</td>\n      <td>Action|Thriller</td>\n      <td>USA</td>\n    </tr>\n    <tr>\n      <th>4</th>\n      <td>Star Wars: Episode VII - The Force Awakens    ...</td>\n      <td>NaN</td>\n      <td>Doug Walker</td>\n      <td>Doug Walker</td>\n      <td>Documentary</td>\n      <td>NaN</td>\n    </tr>\n    <tr>\n      <th>...</th>\n      <td>...</td>\n      <td>...</td>\n      <td>...</td>\n      <td>...</td>\n      <td>...</td>\n      <td>...</td>\n    </tr>\n    <tr>\n      <th>5038</th>\n      <td>Signed Sealed Delivered</td>\n      <td>2013.0</td>\n      <td>Scott Smith</td>\n      <td>Eric Mabius</td>\n      <td>Comedy|Drama</td>\n      <td>Canada</td>\n    </tr>\n    <tr>\n      <th>5039</th>\n      <td>The Following</td>\n      <td>NaN</td>\n      <td>NaN</td>\n      <td>Natalie Zea</td>\n      <td>Crime|Drama|Mystery|Thriller</td>\n      <td>USA</td>\n    </tr>\n    <tr>\n      <th>5040</th>\n      <td>A Plague So Pleasant</td>\n      <td>2013.0</td>\n      <td>Benjamin Roberds</td>\n      <td>Eva Boehnke</td>\n      <td>Drama|Horror|Thriller</td>\n      <td>USA</td>\n    </tr>\n    <tr>\n      <th>5041</th>\n      <td>Shanghai Calling</td>\n      <td>2012.0</td>\n      <td>Daniel Hsia</td>\n      <td>Alan Ruck</td>\n      <td>Comedy|Drama|Romance</td>\n      <td>USA</td>\n    </tr>\n    <tr>\n      <th>5042</th>\n      <td>My Date with Drew</td>\n      <td>2004.0</td>\n      <td>Jon Gunn</td>\n      <td>John August</td>\n      <td>Documentary</td>\n      <td>USA</td>\n    </tr>\n  </tbody>\n</table>\n<p>5043 rows × 6 columns</p>\n</div>"
     },
     "execution_count": 8,
     "metadata": {},
     "output_type": "execute_result"
    }
   ],
   "source": [
    "movies"
   ]
  },
  {
   "cell_type": "markdown",
   "id": "3e2f3311",
   "metadata": {},
   "source": [
    "## Data Cleaning"
   ]
  },
  {
   "cell_type": "code",
   "execution_count": 9,
   "id": "0cf89b5d",
   "metadata": {
    "ExecuteTime": {
     "end_time": "2023-11-22T14:06:59.385190Z",
     "start_time": "2023-11-22T14:06:59.359838Z"
    }
   },
   "outputs": [],
   "source": [
    "import pandas as pd\n",
    "\n",
    "movies['genres'] = movies['genres'].str.lower()\n",
    "\n",
    "def format_genres(genres):\n",
    " genres = genres.split('|')\n",
    " if len(genres) > 1:\n",
    "     genres = ', '.join(genres[:-1]) + ' and ' + genres[-1]\n",
    " else:\n",
    "     genres = genres[0]\n",
    " return genres\n",
    "\n",
    "movies['genres'] = movies['genres'].apply(format_genres)\n",
    "\n",
    "movies.dropna(inplace=True)\n",
    "\n",
    "movies['year'] = pd.to_numeric(movies['year'], errors='coerce').fillna(0).astype(int)"
   ]
  },
  {
   "cell_type": "code",
   "execution_count": 10,
   "id": "e969aae4",
   "metadata": {
    "ExecuteTime": {
     "end_time": "2023-11-22T14:07:00.640193Z",
     "start_time": "2023-11-22T14:07:00.629988Z"
    }
   },
   "outputs": [
    {
     "data": {
      "text/plain": "                                   movie_title  year      director_name  \\\n0                                       Avatar  2009      James Cameron   \n1     Pirates of the Caribbean: At World's End  2007     Gore Verbinski   \n2                                      Spectre  2015         Sam Mendes   \n3                        The Dark Knight Rises  2012  Christopher Nolan   \n5                                  John Carter  2012     Andrew Stanton   \n...                                        ...   ...                ...   \n5037                                 Newlyweds  2011       Edward Burns   \n5038                   Signed Sealed Delivered  2013        Scott Smith   \n5040                      A Plague So Pleasant  2013   Benjamin Roberds   \n5041                          Shanghai Calling  2012        Daniel Hsia   \n5042                         My Date with Drew  2004           Jon Gunn   \n\n           actor_name                                 genres country  \n0         CCH Pounder  action, adventure, fantasy and sci-fi     USA  \n1         Johnny Depp          action, adventure and fantasy     USA  \n2     Christoph Waltz         action, adventure and thriller      UK  \n3           Tom Hardy                    action and thriller     USA  \n5        Daryl Sabara           action, adventure and sci-fi     USA  \n...               ...                                    ...     ...  \n5037      Kerry Bishé                       comedy and drama     USA  \n5038      Eric Mabius                       comedy and drama  Canada  \n5040      Eva Boehnke             drama, horror and thriller     USA  \n5041        Alan Ruck              comedy, drama and romance     USA  \n5042      John August                            documentary     USA  \n\n[4927 rows x 6 columns]",
      "text/html": "<div>\n<style scoped>\n    .dataframe tbody tr th:only-of-type {\n        vertical-align: middle;\n    }\n\n    .dataframe tbody tr th {\n        vertical-align: top;\n    }\n\n    .dataframe thead th {\n        text-align: right;\n    }\n</style>\n<table border=\"1\" class=\"dataframe\">\n  <thead>\n    <tr style=\"text-align: right;\">\n      <th></th>\n      <th>movie_title</th>\n      <th>year</th>\n      <th>director_name</th>\n      <th>actor_name</th>\n      <th>genres</th>\n      <th>country</th>\n    </tr>\n  </thead>\n  <tbody>\n    <tr>\n      <th>0</th>\n      <td>Avatar</td>\n      <td>2009</td>\n      <td>James Cameron</td>\n      <td>CCH Pounder</td>\n      <td>action, adventure, fantasy and sci-fi</td>\n      <td>USA</td>\n    </tr>\n    <tr>\n      <th>1</th>\n      <td>Pirates of the Caribbean: At World's End</td>\n      <td>2007</td>\n      <td>Gore Verbinski</td>\n      <td>Johnny Depp</td>\n      <td>action, adventure and fantasy</td>\n      <td>USA</td>\n    </tr>\n    <tr>\n      <th>2</th>\n      <td>Spectre</td>\n      <td>2015</td>\n      <td>Sam Mendes</td>\n      <td>Christoph Waltz</td>\n      <td>action, adventure and thriller</td>\n      <td>UK</td>\n    </tr>\n    <tr>\n      <th>3</th>\n      <td>The Dark Knight Rises</td>\n      <td>2012</td>\n      <td>Christopher Nolan</td>\n      <td>Tom Hardy</td>\n      <td>action and thriller</td>\n      <td>USA</td>\n    </tr>\n    <tr>\n      <th>5</th>\n      <td>John Carter</td>\n      <td>2012</td>\n      <td>Andrew Stanton</td>\n      <td>Daryl Sabara</td>\n      <td>action, adventure and sci-fi</td>\n      <td>USA</td>\n    </tr>\n    <tr>\n      <th>...</th>\n      <td>...</td>\n      <td>...</td>\n      <td>...</td>\n      <td>...</td>\n      <td>...</td>\n      <td>...</td>\n    </tr>\n    <tr>\n      <th>5037</th>\n      <td>Newlyweds</td>\n      <td>2011</td>\n      <td>Edward Burns</td>\n      <td>Kerry Bishé</td>\n      <td>comedy and drama</td>\n      <td>USA</td>\n    </tr>\n    <tr>\n      <th>5038</th>\n      <td>Signed Sealed Delivered</td>\n      <td>2013</td>\n      <td>Scott Smith</td>\n      <td>Eric Mabius</td>\n      <td>comedy and drama</td>\n      <td>Canada</td>\n    </tr>\n    <tr>\n      <th>5040</th>\n      <td>A Plague So Pleasant</td>\n      <td>2013</td>\n      <td>Benjamin Roberds</td>\n      <td>Eva Boehnke</td>\n      <td>drama, horror and thriller</td>\n      <td>USA</td>\n    </tr>\n    <tr>\n      <th>5041</th>\n      <td>Shanghai Calling</td>\n      <td>2012</td>\n      <td>Daniel Hsia</td>\n      <td>Alan Ruck</td>\n      <td>comedy, drama and romance</td>\n      <td>USA</td>\n    </tr>\n    <tr>\n      <th>5042</th>\n      <td>My Date with Drew</td>\n      <td>2004</td>\n      <td>Jon Gunn</td>\n      <td>John August</td>\n      <td>documentary</td>\n      <td>USA</td>\n    </tr>\n  </tbody>\n</table>\n<p>4927 rows × 6 columns</p>\n</div>"
     },
     "execution_count": 10,
     "metadata": {},
     "output_type": "execute_result"
    }
   ],
   "source": [
    "movies"
   ]
  },
  {
   "cell_type": "markdown",
   "id": "54d2fff2",
   "metadata": {},
   "source": [
    "## Visualization"
   ]
  },
  {
   "cell_type": "code",
   "execution_count": 12,
   "id": "7aee2eac",
   "metadata": {
    "ExecuteTime": {
     "end_time": "2023-11-22T14:07:34.104272Z",
     "start_time": "2023-11-22T14:07:33.647974Z"
    }
   },
   "outputs": [],
   "source": [
    "import matplotlib.pyplot as plt"
   ]
  },
  {
   "cell_type": "code",
   "execution_count": 13,
   "id": "1c344b8a",
   "metadata": {
    "ExecuteTime": {
     "end_time": "2023-11-22T14:07:35.569709Z",
     "start_time": "2023-11-22T14:07:35.413346Z"
    }
   },
   "outputs": [
    {
     "data": {
      "text/plain": "<Figure size 640x480 with 1 Axes>",
      "image/png": "[encoded data removed]"
     },
     "metadata": {},
     "output_type": "display_data"
    }
   ],
   "source": [
    "fig, ax = plt.subplots()\n",
    "ax.hist(movies.year)\n",
    "plt.show()"
   ]
  },
  {
   "cell_type": "markdown",
   "id": "5ae5c058",
   "metadata": {},
   "source": [
    "## Program Creation"
   ]
  },
  {
   "cell_type": "code",
   "execution_count": 14,
   "id": "5d3c31f1",
   "metadata": {
    "ExecuteTime": {
     "end_time": "2023-11-22T14:08:09.300016Z",
     "start_time": "2023-11-22T14:07:39.131647Z"
    }
   },
   "outputs": [
    {
     "name": "stdout",
     "output_type": "stream",
     "text": [
      "\n",
      "Time remaining: 4 minutes 59 seconds\n",
      "\n",
      "Question 1. What is the title of the film released in 1993 directed by Chris Columbus, starring Robin Williams, produced in USA and belonging to the genre comedy, drama, family and romance?\n",
      "A. Eraser\n",
      "B. Pitch Black\n",
      "C. Mrs. Doubtfire\n",
      "D. Straight Out of Brooklyn\n",
      "Wrong! The correct answer is Mrs. Doubtfire\n",
      "\n",
      "\n",
      "Time remaining: 4 minutes 57 seconds\n",
      "\n",
      "Question 2. What is the title of the film released in 2006 directed by Greg Coolidge, starring Dane Cook, produced in USA and belonging to the genre comedy and romance?\n",
      "A. Employee of the Month\n",
      "B. Chocolate: Deep Dark Secrets\n",
      "C. Funny Games\n",
      "D. About Last Night\n",
      "Wrong! The correct answer is Employee of the Month\n",
      "\n",
      "\n",
      "Time remaining: 4 minutes 53 seconds\n",
      "\n",
      "Question 3. What is the title of the film released in 2014 directed by William Eubank, starring Lin Shaye, produced in USA and belonging to the genre sci-fi and thriller?\n",
      "A. Glory Road\n",
      "B. Halloween\n",
      "C. Theresa Is a Mother\n",
      "D. The Signal\n",
      "Wrong! The correct answer is The Signal\n",
      "\n",
      "\n",
      "Time remaining: 4 minutes 53 seconds\n",
      "\n",
      "Question 4. What is the title of the film released in 1991 directed by William A. Graham, starring Milla Jovovich, produced in USA and belonging to the genre adventure, drama and romance?\n",
      "A. Teenage Mutant Ninja Turtles II: The Secret of the Ooze\n",
      "B. Interview with the Assassin\n",
      "C. Death Race 2000\n",
      "D. Return to the Blue Lagoon\n",
      "Wrong! The correct answer is Return to the Blue Lagoon\n",
      "\n",
      "\n",
      "Time remaining: 4 minutes 52 seconds\n",
      "\n",
      "Question 5. What is the title of the film released in 2013 directed by Blair Erickson, starring Monique Candelaria, produced in Germany and belonging to the genre horror and thriller?\n",
      "A. K-19: The Widowmaker\n",
      "B. Banshee Chapter\n",
      "C. Thr3e\n",
      "D. When the Cat's Away\n",
      "Wrong! The correct answer is Banshee Chapter\n",
      "\n",
      "\n",
      "Time remaining: 4 minutes 51 seconds\n",
      "\n",
      "Question 6. What is the title of the film released in 2003 directed by Quentin Tarantino, starring David Carradine, produced in USA and belonging to the genre action?\n",
      "A. The Walk\n",
      "B. Kill Bill: Vol. 1\n",
      "C. The Fan\n",
      "D. Ed and His Dead Mother\n",
      "Correct!\n",
      "\n",
      "\n",
      "Time remaining: 4 minutes 50 seconds\n",
      "\n",
      "Question 7. What is the title of the film released in 2003 directed by James Mangold, starring Clea DuVall, produced in USA and belonging to the genre mystery and thriller?\n",
      "A. Identity\n",
      "B. The Thing\n",
      "C. The Devil's Advocate\n",
      "D. 22 Jump Street\n",
      "Wrong! The correct answer is Identity\n",
      "\n",
      "\n",
      "Time remaining: 4 minutes 50 seconds\n",
      "\n",
      "Question 8. What is the title of the film released in 2011 directed by Mark Neveldine, starring Nicolas Cage, produced in USA and belonging to the genre action, fantasy and thriller?\n",
      "A. Harry Potter and the Order of the Phoenix\n",
      "B. Total Recall\n",
      "C. Ghost Rider: Spirit of Vengeance\n",
      "D. Trading Places\n",
      "Wrong! The correct answer is Ghost Rider: Spirit of Vengeance\n",
      "\n",
      "\n",
      "Time remaining: 4 minutes 49 seconds\n",
      "\n",
      "Question 9. What is the title of the film released in 2015 directed by Al Franklin, starring Marshal Hilton, produced in USA and belonging to the genre horror?\n",
      "A. Teeth and Blood\n",
      "B. A Funny Thing Happened on the Way to the Forum\n",
      "C. Hotel Transylvania 2\n",
      "D. The Astronaut Farmer\n",
      "Correct!\n",
      "\n",
      "\n",
      "Time remaining: 4 minutes 48 seconds\n",
      "\n",
      "Question 10. What is the title of the film released in 2000 directed by Barry Levinson, starring Anna Friel, produced in USA and belonging to the genre comedy?\n",
      "A. Lawrence of Arabia\n",
      "B. Muppets from Space\n",
      "C. Alien Zone\n",
      "D. An Everlasting Piece\n",
      "Wrong! The correct answer is An Everlasting Piece\n",
      "\n",
      "\n",
      "Your total score is 2/10!\n"
     ]
    },
    {
     "data": {
      "text/plain": "<Figure size 640x480 with 1 Axes>",
      "image/png": "[encoded data removed]"
     },
     "metadata": {},
     "output_type": "display_data"
    },
    {
     "name": "stdout",
     "output_type": "stream",
     "text": [
      "\n",
      "Time remaining: 2 minutes 59 seconds\n",
      "\n",
      "Question 1. What is the title of the film released in 1979 directed by George Miller, starring Hugh Keays-Byrne, produced in Australia and belonging to the genre action, adventure, sci-fi and thriller?\n",
      "A. Star Trek III: The Search for Spock\n",
      "B. Batman\n",
      "C. Mad Max\n",
      "D. The Beach\n",
      "Wrong! The correct answer is Mad Max\n",
      "\n",
      "\n",
      "Time remaining: 2 minutes 59 seconds\n",
      "\n",
      "Question 2. What is the title of the film released in 1982 directed by George A. Romero, starring Ted Danson, produced in USA and belonging to the genre comedy, fantasy and horror?\n",
      "A. The White Ribbon\n",
      "B. Scott Walker: 30 Century Man\n",
      "C. My Life in Ruins\n",
      "D. Creepshow\n",
      "Wrong! The correct answer is Creepshow\n",
      "\n",
      "\n",
      "Time remaining: 2 minutes 58 seconds\n",
      "\n",
      "Question 3. What is the title of the film released in 1986 directed by Jim Goddard, starring Victor Wong, produced in UK and belonging to the genre adventure, crime, drama and romance?\n",
      "A. Spider-Man 3\n",
      "B. Bad Moms\n",
      "C. Shanghai Surprise\n",
      "D. Around the World in 80 Days\n",
      "Wrong! The correct answer is Shanghai Surprise\n",
      "\n",
      "\n",
      "Time remaining: 2 minutes 57 seconds\n",
      "\n",
      "Question 4. What is the title of the film released in 1971 directed by Don Taylor, starring Roddy McDowall, produced in USA and belonging to the genre action and sci-fi?\n",
      "A. Roadside\n",
      "B. What Dreams May Come\n",
      "C. Escape from the Planet of the Apes\n",
      "D. Predator 2\n",
      "Wrong! The correct answer is Escape from the Planet of the Apes\n",
      "\n",
      "\n",
      "Time remaining: 2 minutes 57 seconds\n",
      "\n",
      "Question 5. What is the title of the film released in 1977 directed by Richard Attenborough, starring Ryan O'Neal, produced in USA and belonging to the genre drama, history and war?\n",
      "A. Hook\n",
      "B. Batman\n",
      "C. Trapeze\n",
      "D. A Bridge Too Far\n",
      "Wrong! The correct answer is A Bridge Too Far\n",
      "\n",
      "\n",
      "Time remaining: 2 minutes 56 seconds\n",
      "\n",
      "Question 6. What is the title of the film released in 1983 directed by Philip Kaufman, starring Dennis Quaid, produced in USA and belonging to the genre adventure, drama and history?\n",
      "A. As Above, So Below\n",
      "B. Anastasia\n",
      "C. Lake Mungo\n",
      "D. The Right Stuff\n",
      "Wrong! The correct answer is The Right Stuff\n",
      "\n",
      "\n",
      "Time remaining: 2 minutes 55 seconds\n",
      "\n",
      "Question 7. What is the title of the film released in 1981 directed by Joe Dante, starring Patrick Macnee, produced in USA and belonging to the genre horror?\n",
      "A. Sleeper\n",
      "B. The Howling\n",
      "C. Click\n",
      "D. Defendor\n",
      "Wrong! The correct answer is The Howling\n",
      "\n",
      "\n",
      "Time remaining: 2 minutes 55 seconds\n",
      "\n",
      "Question 8. What is the title of the film released in 1988 directed by Gary Sherman, starring Tom Skerritt, produced in USA and belonging to the genre horror and thriller?\n",
      "A. My Big Fat Independent Movie\n",
      "B. Anna and the King\n",
      "C. The Good, the Bad, the Weird\n",
      "D. Poltergeist III\n",
      "Correct!\n",
      "\n",
      "\n",
      "Time remaining: 2 minutes 55 seconds\n",
      "\n",
      "Question 9. What is the title of the film released in 1962 directed by Stanley Kubrick, starring James Mason, produced in UK and belonging to the genre crime, drama and romance?\n",
      "A. Code Name: The Cleaner\n",
      "B. Blackthorn\n",
      "C. Time Changer\n",
      "D. Lolita\n",
      "Wrong! The correct answer is Lolita\n",
      "\n",
      "\n",
      "Time remaining: 2 minutes 54 seconds\n",
      "\n",
      "Question 10. What is the title of the film released in 1971 directed by Don Taylor, starring Roddy McDowall, produced in USA and belonging to the genre action and sci-fi?\n",
      "A. Gerry\n",
      "B. Escape from the Planet of the Apes\n",
      "C. Dil Jo Bhi Kahey...\n",
      "D. Poltergeist\n",
      "Wrong! The correct answer is Escape from the Planet of the Apes\n",
      "\n",
      "\n",
      "Your total score is 1/10!\n"
     ]
    },
    {
     "data": {
      "text/plain": "<Figure size 640x480 with 1 Axes>",
      "image/png": "[encoded data removed]"
     },
     "metadata": {},
     "output_type": "display_data"
    },
    {
     "name": "stdout",
     "output_type": "stream",
     "text": [
      "\n",
      "Thanks for trying!\n"
     ]
    }
   ],
   "source": [
    "import pandas as pd\n",
    "from numpy import random\n",
    "import string\n",
    "import matplotlib.pyplot as plt\n",
    "import time\n",
    "\n",
    "# Data import\n",
    "movies = pd.read_excel('Dataset/Movie_Dataset.xlsx')\n",
    "\n",
    "# Data Cleaning\n",
    "movies['genres'] = movies['genres'].str.lower()\n",
    "\n",
    "\n",
    "def format_genres(genres):\n",
    "    genres = genres.split('|')\n",
    "    if len(genres) > 1:\n",
    "        genres = ', '.join(genres[:-1]) + ' and ' + genres[-1]\n",
    "    else:\n",
    "        genres = genres[0]\n",
    "    return genres\n",
    "\n",
    "\n",
    "movies['genres'] = movies['genres'].apply(format_genres)\n",
    "movies.dropna(inplace=True)\n",
    "movies['year'] = pd.to_numeric(movies['year'], errors='coerce').fillna(0).astype(int)\n",
    "\n",
    "# Start of quiz creation\n",
    "# Function for choosing difficulty\n",
    "def choose_difficulty():\n",
    "    difficulty = input(\"Choose your difficulty level (Easy/Difficult): \").lower()\n",
    "    if difficulty == 'easy':\n",
    "        return movies['year'] > 1990, 5 * 60\n",
    "    elif difficulty == 'difficult':\n",
    "        return movies['year'] < 1990, 3 * 60\n",
    "    else:\n",
    "        print(\"Invalid choice, defaulting to Easy\")\n",
    "        return movies['year'] > 1990, 5 * 60 \n",
    "\n",
    "# Function for random question generation\n",
    "def generate_question(movies, difficulty_filter):\n",
    "    correct_movie = movies[difficulty_filter].sample(1)\n",
    "    question = f\"What is the title of the film released in {correct_movie['year'].values[0]} directed by {correct_movie['director_name'].values[0]}, starring {correct_movie['actor_name'].values[0]}, produced in {correct_movie['country'].values[0]} and belonging to the genre {correct_movie['genres'].values[0]}?\"\n",
    "    return question, correct_movie\n",
    "\n",
    "# Function for generating 3 wrong answers and 1 right answer\n",
    "def generate_answers(movies, correct_movie):\n",
    "    incorrect_movies = movies.drop(correct_movie.index.values.tolist())\n",
    "    incorrect_answers = incorrect_movies.sample(3)['movie_title'].values\n",
    "    correct_answer = correct_movie['movie_title'].values[0]\n",
    "    answers = [correct_answer] + list(incorrect_answers)\n",
    "    random.shuffle(answers)\n",
    "    return answers\n",
    "# Creation of the actual quiz in which difficulty and score are taken into account for the creation of the final graph\n",
    "def quiz(movies):\n",
    "    difficulty_filter, time_limit = choose_difficulty()\n",
    "    start_time = time.time()\n",
    "    score = 0\n",
    "    score_history = [0]\n",
    "\n",
    "    for i in range(1, 11):\n",
    "        elapsed_time = time.time() - start_time\n",
    "        remaining_time = max(0, time_limit - elapsed_time)\n",
    "        print(f\"\\nTime remaining: {int(remaining_time // 60)} minutes {int(remaining_time % 60)} seconds\\n\")\n",
    "\n",
    "        question, correct_movie = generate_question(movies, difficulty_filter)\n",
    "        answers = generate_answers(movies, correct_movie)\n",
    "        print(f\"Question {i}. {question}\")\n",
    "\n",
    "        for j, answer in zip(string.ascii_uppercase, answers):\n",
    "            print(f\"{j}. {answer}\")\n",
    "\n",
    "        user_answer = input(\"Your answer: \").upper()\n",
    "        while user_answer not in string.ascii_uppercase:\n",
    "            print(\"You have another chance, try again!\")\n",
    "            user_answer = input(\"Your answer: \").upper()\n",
    "\n",
    "        correct_answer = correct_movie['movie_title'].values[0]\n",
    "        selected_answer = answers[string.ascii_uppercase.index(user_answer)]\n",
    "        if selected_answer == correct_answer:\n",
    "            print(\"Correct!\\n\")\n",
    "            score += 1\n",
    "            score_history.append(score)\n",
    "        else:\n",
    "            print(f\"Wrong! The correct answer is {correct_answer}\\n\")\n",
    "            score_history.append(score)\n",
    "\n",
    "        elapsed_time = time.time() - start_time\n",
    "        if elapsed_time > time_limit:\n",
    "            print(\"Time's up!\")\n",
    "            break\n",
    "\n",
    "    print(f\"\\nYour total score is {score}/10!\\n\")\n",
    "    plt.plot(score_history)\n",
    "    plt.xlabel('Question number')\n",
    "    plt.ylabel('Score')\n",
    "    plt.title('Score over time')\n",
    "    plt.ylim(0, 10)\n",
    "    plt.show()\n",
    "    retry = input(\"Do you want to retry? (yes/no): \").lower()\n",
    "    if retry != 'no':\n",
    "        quiz(movies)\n",
    "    else:\n",
    "        print(\"\\nThanks for trying!\")\n",
    "\n",
    "quiz(movies)"
   ]
  },
  {
   "cell_type": "code",
   "execution_count": null,
   "outputs": [],
   "source": [],
   "metadata": {
    "collapsed": false
   },
   "id": "fb27fdaa8f43157b"
  }
 ],
 "metadata": {
  "kernelspec": {
   "display_name": "Python 3 (ipykernel)",
   "language": "python",
   "name": "python3"
  },
  "language_info": {
   "codemirror_mode": {
    "name": "ipython",
    "version": 3
   },
   "file_extension": ".py",
   "mimetype": "text/x-python",
   "name": "python",
   "nbconvert_exporter": "python",
   "pygments_lexer": "ipython3",
   "version": "3.11.4"
  }
 },
 "nbformat": 4,
 "nbformat_minor": 5
}
