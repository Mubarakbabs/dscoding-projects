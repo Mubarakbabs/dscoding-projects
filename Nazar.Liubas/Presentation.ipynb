{
 "cells": [
  {
   "cell_type": "code",
   "execution_count": 1,
   "metadata": {
    "pycharm": {
     "is_executing": true
    }
   },
   "outputs": [],
   "source": [
    "import numpy as np\n",
    "import pandas as pd\n",
    "import matplotlib.pyplot as plt\n",
    "import folium\n",
    "\n",
    "from city import City\n",
    "from traveler import Traveler"
   ]
  },
  {
   "cell_type": "markdown",
   "metadata": {},
   "source": [
    "## Start of the trip"
   ]
  },
  {
   "cell_type": "code",
   "execution_count": null,
   "metadata": {
    "pycharm": {
     "is_executing": true
    }
   },
   "outputs": [
    {
     "name": "stdout",
     "output_type": "stream",
     "text": [
      "travel starts\n",
      "0\n",
      "10000000\n",
      "20000000\n"
     ]
    }
   ],
   "source": [
    "# pre-calculated neighbours are used\n",
    "my_traveler = Traveler('worldcities.xlsx', 'data_optimized.json')\n",
    "# This commented line works londer, as it calculates neighbours from scratch\n",
    "# my_traveler = Traveler('worldcities.xlsx')\n",
    "print('travel starts')\n",
    "\n",
    "# Start from London\n",
    "val_res = my_traveler.start_travel(my_traveler.cities[1826645935])\n",
    "print(val_res)\n",
    "cities = val_res[0]"
   ]
  },
  {
   "cell_type": "markdown",
   "metadata": {},
   "source": [
    "## Visualisation on a map"
   ]
  },
  {
   "cell_type": "code",
   "execution_count": null,
   "metadata": {
    "pycharm": {
     "is_executing": true
    }
   },
   "outputs": [],
   "source": [
    "# map centered around the first city\n",
    "map_center = [cities[0].latitude, cities[0].longitude]\n",
    "my_map = folium.Map(location=map_center, zoom_start=5)\n",
    "\n",
    "# Add markers for each city\n",
    "for city in cities:\n",
    "    colour = 'red' if city.id == 1826645935 else 'blue'\n",
    "    folium.Marker(\n",
    "        location=[city.latitude, city.longitude],\n",
    "        popup=city.name,\n",
    "        icon=folium.Icon(color=colour, icon=\"info-sign\"),\n",
    "    ).add_to(my_map)\n",
    "\n",
    "# # Save the map as an HTML file\n",
    "my_map.save(\"cities_map.html\")\n",
    "my_map"
   ]
  }
 ],
 "metadata": {
  "kernelspec": {
   "display_name": "Python 3 (ipykernel)",
   "language": "python",
   "name": "python3"
  },
  "language_info": {
   "codemirror_mode": {
    "name": "ipython",
    "version": 3
   },
   "file_extension": ".py",
   "mimetype": "text/x-python",
   "name": "python",
   "nbconvert_exporter": "python",
   "pygments_lexer": "ipython3",
   "version": "3.7.0"
  }
 },
 "nbformat": 4,
 "nbformat_minor": 1
}
