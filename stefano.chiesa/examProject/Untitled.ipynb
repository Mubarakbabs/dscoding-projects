{
 "cells": [
  {
   "cell_type": "code",
   "execution_count": null,
   "id": "7f53d0c1-7424-4a3e-b80b-371b069881d5",
   "metadata": {},
   "outputs": [],
   "source": []
  }
 ],
 "metadata": {
  "kernelspec": {
   "display_name": "Python 3 (ipykernel)",
   "language": "python",
   "name": "python3"
  },
  "language_info": {
   "name": ""
  }
 },
 "nbformat": 4,
 "nbformat_minor": 5
}
