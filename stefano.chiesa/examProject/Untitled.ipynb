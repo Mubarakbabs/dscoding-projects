{
 "cells": [
  {
   "cell_type": "markdown",
   "source": [
    "# Weather Project by Stefano Chiesa\n",
    "\n",
    "This project was made by **Chiesa Stefano**, as an assignment for *Python class*.\n",
    "Resources used: Stackoverflow, ChatGPT, Python Lectures and Geopandas documentation.\n",
    "\n",
    "**Original tasks**:\n",
    "The dataset reports the temperature recorded in major cities around the world since 1750. Using this data, the project will need to provide an effective graphical visualization of the change in temperatures over time, highlighting the cities where the largest temperature ranges were recorded during different historical periods. For visualization of the data on a map, see geopandas.\n",
    "\n",
    "The program will also suggest, depending on the period considered, the best route to follow for a traveler who intends to move from Beijing to Los Angeles by moving step by step to the warmest city among the 3 closest to him.\n",
    "\n",
    "**Modifications**:\n",
    "The program provides the best route between two given cities, not just between Beijing (Peking in the dataset) and Los Angeles. I also coded some functions during the testing of the Geopandas package that I kept in the final project."
   ],
   "metadata": {
    "collapsed": false
   },
   "id": "b0514caadd7cb853"
  },
  {
   "cell_type": "code",
   "execution_count": null,
   "outputs": [],
   "source": [],
   "metadata": {
    "collapsed": false
   },
   "id": "b43eb9d71c96271a"
  }
 ],
 "metadata": {
  "kernelspec": {
   "display_name": "Python 3 (ipykernel)",
   "language": "python",
   "name": "python3"
  },
  "language_info": {
   "name": ""
  }
 },
 "nbformat": 4,
 "nbformat_minor": 5
}
