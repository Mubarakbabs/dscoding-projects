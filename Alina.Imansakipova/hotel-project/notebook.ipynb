{
 "cells": [
  {
   "cell_type": "code",
   "execution_count": 1,
   "metadata": {
    "ExecuteTime": {
     "end_time": "2023-10-31T13:48:35.211576Z",
     "start_time": "2023-10-31T13:48:31.798063Z"
    }
   },
   "outputs": [
    {
     "data": {
      "text/plain": "     Unnamed: 0      hotel  rooms  price\n0             0    hotel_1     13    273\n1             1    hotel_2     18     92\n2             2    hotel_3     12    141\n3             3    hotel_4     18    157\n4             4    hotel_5      7    298\n..          ...        ...    ...    ...\n395         395  hotel_396      5    212\n396         396  hotel_397     12     68\n397         397  hotel_398     14    102\n398         398  hotel_399     16    284\n399         399  hotel_400     14    145\n\n[400 rows x 4 columns]",
      "text/html": "<div>\n<style scoped>\n    .dataframe tbody tr th:only-of-type {\n        vertical-align: middle;\n    }\n\n    .dataframe tbody tr th {\n        vertical-align: top;\n    }\n\n    .dataframe thead th {\n        text-align: right;\n    }\n</style>\n<table border=\"1\" class=\"dataframe\">\n  <thead>\n    <tr style=\"text-align: right;\">\n      <th></th>\n      <th>Unnamed: 0</th>\n      <th>hotel</th>\n      <th>rooms</th>\n      <th>price</th>\n    </tr>\n  </thead>\n  <tbody>\n    <tr>\n      <th>0</th>\n      <td>0</td>\n      <td>hotel_1</td>\n      <td>13</td>\n      <td>273</td>\n    </tr>\n    <tr>\n      <th>1</th>\n      <td>1</td>\n      <td>hotel_2</td>\n      <td>18</td>\n      <td>92</td>\n    </tr>\n    <tr>\n      <th>2</th>\n      <td>2</td>\n      <td>hotel_3</td>\n      <td>12</td>\n      <td>141</td>\n    </tr>\n    <tr>\n      <th>3</th>\n      <td>3</td>\n      <td>hotel_4</td>\n      <td>18</td>\n      <td>157</td>\n    </tr>\n    <tr>\n      <th>4</th>\n      <td>4</td>\n      <td>hotel_5</td>\n      <td>7</td>\n      <td>298</td>\n    </tr>\n    <tr>\n      <th>...</th>\n      <td>...</td>\n      <td>...</td>\n      <td>...</td>\n      <td>...</td>\n    </tr>\n    <tr>\n      <th>395</th>\n      <td>395</td>\n      <td>hotel_396</td>\n      <td>5</td>\n      <td>212</td>\n    </tr>\n    <tr>\n      <th>396</th>\n      <td>396</td>\n      <td>hotel_397</td>\n      <td>12</td>\n      <td>68</td>\n    </tr>\n    <tr>\n      <th>397</th>\n      <td>397</td>\n      <td>hotel_398</td>\n      <td>14</td>\n      <td>102</td>\n    </tr>\n    <tr>\n      <th>398</th>\n      <td>398</td>\n      <td>hotel_399</td>\n      <td>16</td>\n      <td>284</td>\n    </tr>\n    <tr>\n      <th>399</th>\n      <td>399</td>\n      <td>hotel_400</td>\n      <td>14</td>\n      <td>145</td>\n    </tr>\n  </tbody>\n</table>\n<p>400 rows × 4 columns</p>\n</div>"
     },
     "execution_count": 1,
     "metadata": {},
     "output_type": "execute_result"
    }
   ],
   "source": [
    "import pandas as pd\n",
    "import openpyxl\n",
    "hotelsdata = pd.read_excel(r\"/Users/menimalina/Desktop/uni_due/coding/python/python-project/hotels/hotels.xlsx\")\n",
    "hotelsdata\n"
   ]
  },
  {
   "cell_type": "code",
   "execution_count": 8,
   "metadata": {},
   "outputs": [
    {
     "name": "stdout",
     "output_type": "stream",
     "text": [
      "5\n"
     ]
    }
   ],
   "source": [
    "print(5)"
   ]
  }
 ],
 "metadata": {
  "kernelspec": {
   "display_name": "dscodingproject",
   "language": "python",
   "name": "python3"
  },
  "language_info": {
   "codemirror_mode": {
    "name": "ipython",
    "version": 3
   },
   "file_extension": ".py",
   "mimetype": "text/x-python",
   "name": "python",
   "nbconvert_exporter": "python",
   "pygments_lexer": "ipython3",
   "version": "3.11.6"
  },
  "orig_nbformat": 4
 },
 "nbformat": 4,
 "nbformat_minor": 2
}
