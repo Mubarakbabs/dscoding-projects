{
 "cells": [
  {
   "cell_type": "code",
   "execution_count": 1,
   "metadata": {
    "ExecuteTime": {
     "end_time": "2023-11-03T17:25:29.589541Z",
     "start_time": "2023-11-03T17:25:28.537177Z"
    }
   },
   "outputs": [
    {
     "data": {
      "text/plain": "           Unnamed: 0  rooms  price\nhotel                              \nhotel_1             0     13    273\nhotel_2             1     18     92\nhotel_3             2     12    141\nhotel_4             3     18    157\nhotel_5             4      7    298\n...               ...    ...    ...\nhotel_396         395      5    212\nhotel_397         396     12     68\nhotel_398         397     14    102\nhotel_399         398     16    284\nhotel_400         399     14    145\n\n[400 rows x 3 columns]",
      "text/html": "<div>\n<style scoped>\n    .dataframe tbody tr th:only-of-type {\n        vertical-align: middle;\n    }\n\n    .dataframe tbody tr th {\n        vertical-align: top;\n    }\n\n    .dataframe thead th {\n        text-align: right;\n    }\n</style>\n<table border=\"1\" class=\"dataframe\">\n  <thead>\n    <tr style=\"text-align: right;\">\n      <th></th>\n      <th>Unnamed: 0</th>\n      <th>rooms</th>\n      <th>price</th>\n    </tr>\n    <tr>\n      <th>hotel</th>\n      <th></th>\n      <th></th>\n      <th></th>\n    </tr>\n  </thead>\n  <tbody>\n    <tr>\n      <th>hotel_1</th>\n      <td>0</td>\n      <td>13</td>\n      <td>273</td>\n    </tr>\n    <tr>\n      <th>hotel_2</th>\n      <td>1</td>\n      <td>18</td>\n      <td>92</td>\n    </tr>\n    <tr>\n      <th>hotel_3</th>\n      <td>2</td>\n      <td>12</td>\n      <td>141</td>\n    </tr>\n    <tr>\n      <th>hotel_4</th>\n      <td>3</td>\n      <td>18</td>\n      <td>157</td>\n    </tr>\n    <tr>\n      <th>hotel_5</th>\n      <td>4</td>\n      <td>7</td>\n      <td>298</td>\n    </tr>\n    <tr>\n      <th>...</th>\n      <td>...</td>\n      <td>...</td>\n      <td>...</td>\n    </tr>\n    <tr>\n      <th>hotel_396</th>\n      <td>395</td>\n      <td>5</td>\n      <td>212</td>\n    </tr>\n    <tr>\n      <th>hotel_397</th>\n      <td>396</td>\n      <td>12</td>\n      <td>68</td>\n    </tr>\n    <tr>\n      <th>hotel_398</th>\n      <td>397</td>\n      <td>14</td>\n      <td>102</td>\n    </tr>\n    <tr>\n      <th>hotel_399</th>\n      <td>398</td>\n      <td>16</td>\n      <td>284</td>\n    </tr>\n    <tr>\n      <th>hotel_400</th>\n      <td>399</td>\n      <td>14</td>\n      <td>145</td>\n    </tr>\n  </tbody>\n</table>\n<p>400 rows × 3 columns</p>\n</div>"
     },
     "execution_count": 1,
     "metadata": {},
     "output_type": "execute_result"
    }
   ],
   "source": [
    "import pandas as pd\n",
    "import openpyxl\n",
    "hotelsdata = pd.read_excel(r\"/Users/menimalina/Desktop/uni_due/coding/python/python-project/hotels/hotels.xlsx\").set_index('hotel')\n",
    "hotelsdata\n"
   ]
  },
  {
   "cell_type": "code",
   "execution_count": 2,
   "metadata": {
    "ExecuteTime": {
     "end_time": "2023-11-03T17:25:29.680137Z",
     "start_time": "2023-11-03T17:25:29.200896Z"
    }
   },
   "outputs": [
    {
     "name": "stdout",
     "output_type": "stream",
     "text": [
      "5\n"
     ]
    }
   ],
   "source": [
    "print(5)"
   ]
  },
  {
   "cell_type": "code",
   "execution_count": 3,
   "metadata": {
    "collapsed": false,
    "ExecuteTime": {
     "end_time": "2023-11-03T17:25:29.683343Z",
     "start_time": "2023-11-03T17:25:29.205160Z"
    }
   },
   "outputs": [
    {
     "data": {
      "text/plain": "            Unnamed: 0  discount\nguest                           \nguest_1              0      0.09\nguest_2              1      0.00\nguest_3              2      0.07\nguest_4              3      0.00\nguest_5              4      0.10\n...                ...       ...\nguest_3996        3995      0.00\nguest_3997        3996      0.15\nguest_3998        3997      0.07\nguest_3999        3998      0.08\nguest_4000        3999      0.07\n\n[4000 rows x 2 columns]",
      "text/html": "<div>\n<style scoped>\n    .dataframe tbody tr th:only-of-type {\n        vertical-align: middle;\n    }\n\n    .dataframe tbody tr th {\n        vertical-align: top;\n    }\n\n    .dataframe thead th {\n        text-align: right;\n    }\n</style>\n<table border=\"1\" class=\"dataframe\">\n  <thead>\n    <tr style=\"text-align: right;\">\n      <th></th>\n      <th>Unnamed: 0</th>\n      <th>discount</th>\n    </tr>\n    <tr>\n      <th>guest</th>\n      <th></th>\n      <th></th>\n    </tr>\n  </thead>\n  <tbody>\n    <tr>\n      <th>guest_1</th>\n      <td>0</td>\n      <td>0.09</td>\n    </tr>\n    <tr>\n      <th>guest_2</th>\n      <td>1</td>\n      <td>0.00</td>\n    </tr>\n    <tr>\n      <th>guest_3</th>\n      <td>2</td>\n      <td>0.07</td>\n    </tr>\n    <tr>\n      <th>guest_4</th>\n      <td>3</td>\n      <td>0.00</td>\n    </tr>\n    <tr>\n      <th>guest_5</th>\n      <td>4</td>\n      <td>0.10</td>\n    </tr>\n    <tr>\n      <th>...</th>\n      <td>...</td>\n      <td>...</td>\n    </tr>\n    <tr>\n      <th>guest_3996</th>\n      <td>3995</td>\n      <td>0.00</td>\n    </tr>\n    <tr>\n      <th>guest_3997</th>\n      <td>3996</td>\n      <td>0.15</td>\n    </tr>\n    <tr>\n      <th>guest_3998</th>\n      <td>3997</td>\n      <td>0.07</td>\n    </tr>\n    <tr>\n      <th>guest_3999</th>\n      <td>3998</td>\n      <td>0.08</td>\n    </tr>\n    <tr>\n      <th>guest_4000</th>\n      <td>3999</td>\n      <td>0.07</td>\n    </tr>\n  </tbody>\n</table>\n<p>4000 rows × 2 columns</p>\n</div>"
     },
     "execution_count": 3,
     "metadata": {},
     "output_type": "execute_result"
    }
   ],
   "source": [
    "guestdata = pd.read_excel(r\"/Users/menimalina/Desktop/uni_due/coding/python/python-project/hotels/guests.xlsx\").set_index('guest')\n",
    "guestdata"
   ]
  },
  {
   "cell_type": "code",
   "execution_count": 4,
   "metadata": {
    "collapsed": false,
    "ExecuteTime": {
     "end_time": "2023-11-03T17:25:33.144931Z",
     "start_time": "2023-11-03T17:25:29.332887Z"
    }
   },
   "outputs": [
    {
     "data": {
      "text/plain": "                      Unnamed: 0  priority\nguest      hotel                          \nguest_1    hotel_168           0         1\n           hotel_207           1         2\n           hotel_222           2         3\n           hotel_124           3         4\n           hotel_223           4         5\n...                          ...       ...\nguest_4000 hotel_123       99528        28\n           hotel_396       99529        29\n           hotel_161       99530        30\n           hotel_330       99531        31\n           hotel_290       99532        32\n\n[99533 rows x 2 columns]",
      "text/html": "<div>\n<style scoped>\n    .dataframe tbody tr th:only-of-type {\n        vertical-align: middle;\n    }\n\n    .dataframe tbody tr th {\n        vertical-align: top;\n    }\n\n    .dataframe thead th {\n        text-align: right;\n    }\n</style>\n<table border=\"1\" class=\"dataframe\">\n  <thead>\n    <tr style=\"text-align: right;\">\n      <th></th>\n      <th></th>\n      <th>Unnamed: 0</th>\n      <th>priority</th>\n    </tr>\n    <tr>\n      <th>guest</th>\n      <th>hotel</th>\n      <th></th>\n      <th></th>\n    </tr>\n  </thead>\n  <tbody>\n    <tr>\n      <th rowspan=\"5\" valign=\"top\">guest_1</th>\n      <th>hotel_168</th>\n      <td>0</td>\n      <td>1</td>\n    </tr>\n    <tr>\n      <th>hotel_207</th>\n      <td>1</td>\n      <td>2</td>\n    </tr>\n    <tr>\n      <th>hotel_222</th>\n      <td>2</td>\n      <td>3</td>\n    </tr>\n    <tr>\n      <th>hotel_124</th>\n      <td>3</td>\n      <td>4</td>\n    </tr>\n    <tr>\n      <th>hotel_223</th>\n      <td>4</td>\n      <td>5</td>\n    </tr>\n    <tr>\n      <th>...</th>\n      <th>...</th>\n      <td>...</td>\n      <td>...</td>\n    </tr>\n    <tr>\n      <th rowspan=\"5\" valign=\"top\">guest_4000</th>\n      <th>hotel_123</th>\n      <td>99528</td>\n      <td>28</td>\n    </tr>\n    <tr>\n      <th>hotel_396</th>\n      <td>99529</td>\n      <td>29</td>\n    </tr>\n    <tr>\n      <th>hotel_161</th>\n      <td>99530</td>\n      <td>30</td>\n    </tr>\n    <tr>\n      <th>hotel_330</th>\n      <td>99531</td>\n      <td>31</td>\n    </tr>\n    <tr>\n      <th>hotel_290</th>\n      <td>99532</td>\n      <td>32</td>\n    </tr>\n  </tbody>\n</table>\n<p>99533 rows × 2 columns</p>\n</div>"
     },
     "execution_count": 4,
     "metadata": {},
     "output_type": "execute_result"
    }
   ],
   "source": [
    "preferencesdata=pd.read_excel(r\"/Users/menimalina/Desktop/uni_due/coding/python/python-project/hotels/preferences.xlsx\").set_index(['guest','hotel'])\n",
    "preferencesdata"
   ]
  },
  {
   "cell_type": "code",
   "execution_count": 5,
   "metadata": {
    "collapsed": false,
    "ExecuteTime": {
     "end_time": "2023-11-03T17:25:33.151718Z",
     "start_time": "2023-11-03T17:25:33.137463Z"
    }
   },
   "outputs": [],
   "source": [
    "import numpy as np"
   ]
  },
  {
   "cell_type": "code",
   "execution_count": 6,
   "outputs": [
    {
     "data": {
      "text/plain": "         Unnamed: 0      priority\ncount  99533.000000  99533.000000\nmean   49766.000000     17.011102\nstd    28732.846509     11.688444\nmin        0.000000      1.000000\n25%    24883.000000      7.000000\n50%    49766.000000     15.000000\n75%    74649.000000     25.000000\nmax    99532.000000     49.000000",
      "text/html": "<div>\n<style scoped>\n    .dataframe tbody tr th:only-of-type {\n        vertical-align: middle;\n    }\n\n    .dataframe tbody tr th {\n        vertical-align: top;\n    }\n\n    .dataframe thead th {\n        text-align: right;\n    }\n</style>\n<table border=\"1\" class=\"dataframe\">\n  <thead>\n    <tr style=\"text-align: right;\">\n      <th></th>\n      <th>Unnamed: 0</th>\n      <th>priority</th>\n    </tr>\n  </thead>\n  <tbody>\n    <tr>\n      <th>count</th>\n      <td>99533.000000</td>\n      <td>99533.000000</td>\n    </tr>\n    <tr>\n      <th>mean</th>\n      <td>49766.000000</td>\n      <td>17.011102</td>\n    </tr>\n    <tr>\n      <th>std</th>\n      <td>28732.846509</td>\n      <td>11.688444</td>\n    </tr>\n    <tr>\n      <th>min</th>\n      <td>0.000000</td>\n      <td>1.000000</td>\n    </tr>\n    <tr>\n      <th>25%</th>\n      <td>24883.000000</td>\n      <td>7.000000</td>\n    </tr>\n    <tr>\n      <th>50%</th>\n      <td>49766.000000</td>\n      <td>15.000000</td>\n    </tr>\n    <tr>\n      <th>75%</th>\n      <td>74649.000000</td>\n      <td>25.000000</td>\n    </tr>\n    <tr>\n      <th>max</th>\n      <td>99532.000000</td>\n      <td>49.000000</td>\n    </tr>\n  </tbody>\n</table>\n</div>"
     },
     "execution_count": 6,
     "metadata": {},
     "output_type": "execute_result"
    }
   ],
   "source": [
    "preferencesdata.describe()"
   ],
   "metadata": {
    "collapsed": false,
    "ExecuteTime": {
     "end_time": "2023-11-03T17:25:33.155147Z",
     "start_time": "2023-11-03T17:25:33.138699Z"
    }
   }
  },
  {
   "cell_type": "code",
   "execution_count": 7,
   "outputs": [
    {
     "data": {
      "text/plain": "        Unnamed: 0     discount\ncount  4000.000000  4000.000000\nmean   1999.500000     0.093948\nstd    1154.844867     0.058057\nmin       0.000000     0.000000\n25%     999.750000     0.040000\n50%    1999.500000     0.100000\n75%    2999.250000     0.140000\nmax    3999.000000     0.190000",
      "text/html": "<div>\n<style scoped>\n    .dataframe tbody tr th:only-of-type {\n        vertical-align: middle;\n    }\n\n    .dataframe tbody tr th {\n        vertical-align: top;\n    }\n\n    .dataframe thead th {\n        text-align: right;\n    }\n</style>\n<table border=\"1\" class=\"dataframe\">\n  <thead>\n    <tr style=\"text-align: right;\">\n      <th></th>\n      <th>Unnamed: 0</th>\n      <th>discount</th>\n    </tr>\n  </thead>\n  <tbody>\n    <tr>\n      <th>count</th>\n      <td>4000.000000</td>\n      <td>4000.000000</td>\n    </tr>\n    <tr>\n      <th>mean</th>\n      <td>1999.500000</td>\n      <td>0.093948</td>\n    </tr>\n    <tr>\n      <th>std</th>\n      <td>1154.844867</td>\n      <td>0.058057</td>\n    </tr>\n    <tr>\n      <th>min</th>\n      <td>0.000000</td>\n      <td>0.000000</td>\n    </tr>\n    <tr>\n      <th>25%</th>\n      <td>999.750000</td>\n      <td>0.040000</td>\n    </tr>\n    <tr>\n      <th>50%</th>\n      <td>1999.500000</td>\n      <td>0.100000</td>\n    </tr>\n    <tr>\n      <th>75%</th>\n      <td>2999.250000</td>\n      <td>0.140000</td>\n    </tr>\n    <tr>\n      <th>max</th>\n      <td>3999.000000</td>\n      <td>0.190000</td>\n    </tr>\n  </tbody>\n</table>\n</div>"
     },
     "execution_count": 7,
     "metadata": {},
     "output_type": "execute_result"
    }
   ],
   "source": [
    "guestdata.describe()"
   ],
   "metadata": {
    "collapsed": false,
    "ExecuteTime": {
     "end_time": "2023-11-03T17:25:33.185093Z",
     "start_time": "2023-11-03T17:25:33.144025Z"
    }
   }
  },
  {
   "cell_type": "code",
   "execution_count": 8,
   "outputs": [
    {
     "data": {
      "text/plain": "       Unnamed: 0       rooms       price\ncount  400.000000  400.000000  400.000000\nmean   199.500000   11.542500  177.645000\nstd    115.614301    4.387633   73.159379\nmin      0.000000    5.000000   50.000000\n25%     99.750000    8.000000  116.750000\n50%    199.500000   11.000000  183.000000\n75%    299.250000   15.000000  238.250000\nmax    399.000000   19.000000  299.000000",
      "text/html": "<div>\n<style scoped>\n    .dataframe tbody tr th:only-of-type {\n        vertical-align: middle;\n    }\n\n    .dataframe tbody tr th {\n        vertical-align: top;\n    }\n\n    .dataframe thead th {\n        text-align: right;\n    }\n</style>\n<table border=\"1\" class=\"dataframe\">\n  <thead>\n    <tr style=\"text-align: right;\">\n      <th></th>\n      <th>Unnamed: 0</th>\n      <th>rooms</th>\n      <th>price</th>\n    </tr>\n  </thead>\n  <tbody>\n    <tr>\n      <th>count</th>\n      <td>400.000000</td>\n      <td>400.000000</td>\n      <td>400.000000</td>\n    </tr>\n    <tr>\n      <th>mean</th>\n      <td>199.500000</td>\n      <td>11.542500</td>\n      <td>177.645000</td>\n    </tr>\n    <tr>\n      <th>std</th>\n      <td>115.614301</td>\n      <td>4.387633</td>\n      <td>73.159379</td>\n    </tr>\n    <tr>\n      <th>min</th>\n      <td>0.000000</td>\n      <td>5.000000</td>\n      <td>50.000000</td>\n    </tr>\n    <tr>\n      <th>25%</th>\n      <td>99.750000</td>\n      <td>8.000000</td>\n      <td>116.750000</td>\n    </tr>\n    <tr>\n      <th>50%</th>\n      <td>199.500000</td>\n      <td>11.000000</td>\n      <td>183.000000</td>\n    </tr>\n    <tr>\n      <th>75%</th>\n      <td>299.250000</td>\n      <td>15.000000</td>\n      <td>238.250000</td>\n    </tr>\n    <tr>\n      <th>max</th>\n      <td>399.000000</td>\n      <td>19.000000</td>\n      <td>299.000000</td>\n    </tr>\n  </tbody>\n</table>\n</div>"
     },
     "execution_count": 8,
     "metadata": {},
     "output_type": "execute_result"
    }
   ],
   "source": [
    "hotelsdata.describe()"
   ],
   "metadata": {
    "collapsed": false,
    "ExecuteTime": {
     "end_time": "2023-11-03T17:25:33.217067Z",
     "start_time": "2023-11-03T17:25:33.161681Z"
    }
   }
  },
  {
   "cell_type": "code",
   "execution_count": 9,
   "outputs": [],
   "source": [
    "allocation = pd.DataFrame(columns=['guest_id', 'hotel_id', 'satisfaction', 'paid_price'])"
   ],
   "metadata": {
    "collapsed": false,
    "ExecuteTime": {
     "end_time": "2023-11-03T17:25:33.217501Z",
     "start_time": "2023-11-03T17:25:33.173307Z"
    }
   }
  },
  {
   "cell_type": "code",
   "execution_count": 9,
   "outputs": [],
   "source": [],
   "metadata": {
    "collapsed": false,
    "ExecuteTime": {
     "end_time": "2023-11-03T17:25:33.217712Z",
     "start_time": "2023-11-03T17:25:33.176728Z"
    }
   }
  }
 ],
 "metadata": {
  "kernelspec": {
   "display_name": "Python 3 (ipykernel)",
   "language": "python",
   "name": "python3"
  },
  "language_info": {
   "codemirror_mode": {
    "name": "ipython",
    "version": 3
   },
   "file_extension": ".py",
   "mimetype": "text/x-python",
   "name": "python",
   "nbconvert_exporter": "python",
   "pygments_lexer": "ipython3",
   "version": "3.11.6"
  }
 },
 "nbformat": 4,
 "nbformat_minor": 4
}
